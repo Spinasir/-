{
 "cells": [
  {
   "cell_type": "code",
   "execution_count": 4,
   "id": "dd3e4799",
   "metadata": {},
   "outputs": [],
   "source": [
    "class color:\n",
    "   PURPLE = '\\033[95m'\n",
    "   CYAN = '\\033[96m'\n",
    "   DARKCYAN = '\\033[36m'\n",
    "   BLUE = '\\033[94m'\n",
    "   GREEN = '\\033[92m'\n",
    "   YELLOW = '\\033[93m'\n",
    "   RED = '\\033[91m'\n",
    "   BOLD = '\\033[1m'\n",
    "   UNDERLINE = '\\033[4m'\n",
    "   END = '\\033[0m'"
   ]
  },
  {
   "cell_type": "markdown",
   "id": "e87ad563",
   "metadata": {},
   "source": [
    "# Исследование надежности заемщиков."
   ]
  },
  {
   "cell_type": "markdown",
   "id": "dac86c6e",
   "metadata": {},
   "source": [
    "Заказчик — кредитный отдел банка. Нужно разобраться, влияет ли семейное положение \n",
    "и количество детей клиента на факт погашения кредита в срок. \n",
    "Входные данные от банка — статистика о платёжеспособности клиентов."
   ]
  },
  {
   "cell_type": "markdown",
   "id": "5882de1b",
   "metadata": {},
   "source": [
    "# Оглавление\n",
    "1. [Обзор данных](#start)\n",
    "2. [Предобработка данных](#preprocessing)\n",
    "    * [Заполнение пропусков](#null)\n",
    "    * [Проверка данных на аномалии и исправления.](#anomaly)\n",
    "    * [Обработка дубликатов](#duplicates)\n",
    "    * [Категоризация данных.](#category)\n",
    "3. [Ответы на вопросы.](#analisys)\n",
    "4. [Вывод.](#conclusion)"
   ]
  },
  {
   "cell_type": "markdown",
   "id": "e027e48c",
   "metadata": {},
   "source": [
    "## Шаг 1. Обзор данных <a id=\"start\"></a>"
   ]
  },
  {
   "cell_type": "code",
   "execution_count": 5,
   "id": "69e33a7f",
   "metadata": {},
   "outputs": [
    {
     "name": "stdout",
     "output_type": "stream",
     "text": [
      "<class 'pandas.core.frame.DataFrame'>\n",
      "RangeIndex: 21525 entries, 0 to 21524\n",
      "Data columns (total 12 columns):\n",
      " #   Column            Non-Null Count  Dtype  \n",
      "---  ------            --------------  -----  \n",
      " 0   children          21525 non-null  int64  \n",
      " 1   days_employed     19351 non-null  float64\n",
      " 2   dob_years         21525 non-null  int64  \n",
      " 3   education         21525 non-null  object \n",
      " 4   education_id      21525 non-null  int64  \n",
      " 5   family_status     21525 non-null  object \n",
      " 6   family_status_id  21525 non-null  int64  \n",
      " 7   gender            21525 non-null  object \n",
      " 8   income_type       21525 non-null  object \n",
      " 9   debt              21525 non-null  int64  \n",
      " 10  total_income      19351 non-null  float64\n",
      " 11  purpose           21525 non-null  object \n",
      "dtypes: float64(2), int64(5), object(5)\n",
      "memory usage: 2.0+ MB\n"
     ]
    }
   ],
   "source": [
    "import pandas as pd\n",
    "import matplotlib.pyplot as plt\n",
    "import seaborn as sns\n",
    "df = pd.read_csv('data.csv')\n",
    "df.info()"
   ]
  },
  {
   "cell_type": "code",
   "execution_count": 6,
   "id": "a739f405",
   "metadata": {},
   "outputs": [
    {
     "data": {
      "text/html": [
       "<div>\n",
       "<style scoped>\n",
       "    .dataframe tbody tr th:only-of-type {\n",
       "        vertical-align: middle;\n",
       "    }\n",
       "\n",
       "    .dataframe tbody tr th {\n",
       "        vertical-align: top;\n",
       "    }\n",
       "\n",
       "    .dataframe thead th {\n",
       "        text-align: right;\n",
       "    }\n",
       "</style>\n",
       "<table border=\"1\" class=\"dataframe\">\n",
       "  <thead>\n",
       "    <tr style=\"text-align: right;\">\n",
       "      <th></th>\n",
       "      <th>children</th>\n",
       "      <th>days_employed</th>\n",
       "      <th>dob_years</th>\n",
       "      <th>education</th>\n",
       "      <th>education_id</th>\n",
       "      <th>family_status</th>\n",
       "      <th>family_status_id</th>\n",
       "      <th>gender</th>\n",
       "      <th>income_type</th>\n",
       "      <th>debt</th>\n",
       "      <th>total_income</th>\n",
       "      <th>purpose</th>\n",
       "    </tr>\n",
       "  </thead>\n",
       "  <tbody>\n",
       "    <tr>\n",
       "      <th>0</th>\n",
       "      <td>1</td>\n",
       "      <td>-8437.673028</td>\n",
       "      <td>42</td>\n",
       "      <td>высшее</td>\n",
       "      <td>0</td>\n",
       "      <td>женат / замужем</td>\n",
       "      <td>0</td>\n",
       "      <td>F</td>\n",
       "      <td>сотрудник</td>\n",
       "      <td>0</td>\n",
       "      <td>253875.639453</td>\n",
       "      <td>покупка жилья</td>\n",
       "    </tr>\n",
       "    <tr>\n",
       "      <th>1</th>\n",
       "      <td>1</td>\n",
       "      <td>-4024.803754</td>\n",
       "      <td>36</td>\n",
       "      <td>среднее</td>\n",
       "      <td>1</td>\n",
       "      <td>женат / замужем</td>\n",
       "      <td>0</td>\n",
       "      <td>F</td>\n",
       "      <td>сотрудник</td>\n",
       "      <td>0</td>\n",
       "      <td>112080.014102</td>\n",
       "      <td>приобретение автомобиля</td>\n",
       "    </tr>\n",
       "    <tr>\n",
       "      <th>2</th>\n",
       "      <td>0</td>\n",
       "      <td>-5623.422610</td>\n",
       "      <td>33</td>\n",
       "      <td>Среднее</td>\n",
       "      <td>1</td>\n",
       "      <td>женат / замужем</td>\n",
       "      <td>0</td>\n",
       "      <td>M</td>\n",
       "      <td>сотрудник</td>\n",
       "      <td>0</td>\n",
       "      <td>145885.952297</td>\n",
       "      <td>покупка жилья</td>\n",
       "    </tr>\n",
       "    <tr>\n",
       "      <th>3</th>\n",
       "      <td>3</td>\n",
       "      <td>-4124.747207</td>\n",
       "      <td>32</td>\n",
       "      <td>среднее</td>\n",
       "      <td>1</td>\n",
       "      <td>женат / замужем</td>\n",
       "      <td>0</td>\n",
       "      <td>M</td>\n",
       "      <td>сотрудник</td>\n",
       "      <td>0</td>\n",
       "      <td>267628.550329</td>\n",
       "      <td>дополнительное образование</td>\n",
       "    </tr>\n",
       "    <tr>\n",
       "      <th>4</th>\n",
       "      <td>0</td>\n",
       "      <td>340266.072047</td>\n",
       "      <td>53</td>\n",
       "      <td>среднее</td>\n",
       "      <td>1</td>\n",
       "      <td>гражданский брак</td>\n",
       "      <td>1</td>\n",
       "      <td>F</td>\n",
       "      <td>пенсионер</td>\n",
       "      <td>0</td>\n",
       "      <td>158616.077870</td>\n",
       "      <td>сыграть свадьбу</td>\n",
       "    </tr>\n",
       "    <tr>\n",
       "      <th>5</th>\n",
       "      <td>0</td>\n",
       "      <td>-926.185831</td>\n",
       "      <td>27</td>\n",
       "      <td>высшее</td>\n",
       "      <td>0</td>\n",
       "      <td>гражданский брак</td>\n",
       "      <td>1</td>\n",
       "      <td>M</td>\n",
       "      <td>компаньон</td>\n",
       "      <td>0</td>\n",
       "      <td>255763.565419</td>\n",
       "      <td>покупка жилья</td>\n",
       "    </tr>\n",
       "    <tr>\n",
       "      <th>6</th>\n",
       "      <td>0</td>\n",
       "      <td>-2879.202052</td>\n",
       "      <td>43</td>\n",
       "      <td>высшее</td>\n",
       "      <td>0</td>\n",
       "      <td>женат / замужем</td>\n",
       "      <td>0</td>\n",
       "      <td>F</td>\n",
       "      <td>компаньон</td>\n",
       "      <td>0</td>\n",
       "      <td>240525.971920</td>\n",
       "      <td>операции с жильем</td>\n",
       "    </tr>\n",
       "    <tr>\n",
       "      <th>7</th>\n",
       "      <td>0</td>\n",
       "      <td>-152.779569</td>\n",
       "      <td>50</td>\n",
       "      <td>СРЕДНЕЕ</td>\n",
       "      <td>1</td>\n",
       "      <td>женат / замужем</td>\n",
       "      <td>0</td>\n",
       "      <td>M</td>\n",
       "      <td>сотрудник</td>\n",
       "      <td>0</td>\n",
       "      <td>135823.934197</td>\n",
       "      <td>образование</td>\n",
       "    </tr>\n",
       "    <tr>\n",
       "      <th>8</th>\n",
       "      <td>2</td>\n",
       "      <td>-6929.865299</td>\n",
       "      <td>35</td>\n",
       "      <td>ВЫСШЕЕ</td>\n",
       "      <td>0</td>\n",
       "      <td>гражданский брак</td>\n",
       "      <td>1</td>\n",
       "      <td>F</td>\n",
       "      <td>сотрудник</td>\n",
       "      <td>0</td>\n",
       "      <td>95856.832424</td>\n",
       "      <td>на проведение свадьбы</td>\n",
       "    </tr>\n",
       "    <tr>\n",
       "      <th>9</th>\n",
       "      <td>0</td>\n",
       "      <td>-2188.756445</td>\n",
       "      <td>41</td>\n",
       "      <td>среднее</td>\n",
       "      <td>1</td>\n",
       "      <td>женат / замужем</td>\n",
       "      <td>0</td>\n",
       "      <td>M</td>\n",
       "      <td>сотрудник</td>\n",
       "      <td>0</td>\n",
       "      <td>144425.938277</td>\n",
       "      <td>покупка жилья для семьи</td>\n",
       "    </tr>\n",
       "    <tr>\n",
       "      <th>10</th>\n",
       "      <td>2</td>\n",
       "      <td>-4171.483647</td>\n",
       "      <td>36</td>\n",
       "      <td>высшее</td>\n",
       "      <td>0</td>\n",
       "      <td>женат / замужем</td>\n",
       "      <td>0</td>\n",
       "      <td>M</td>\n",
       "      <td>компаньон</td>\n",
       "      <td>0</td>\n",
       "      <td>113943.491460</td>\n",
       "      <td>покупка недвижимости</td>\n",
       "    </tr>\n",
       "    <tr>\n",
       "      <th>11</th>\n",
       "      <td>0</td>\n",
       "      <td>-792.701887</td>\n",
       "      <td>40</td>\n",
       "      <td>среднее</td>\n",
       "      <td>1</td>\n",
       "      <td>женат / замужем</td>\n",
       "      <td>0</td>\n",
       "      <td>F</td>\n",
       "      <td>сотрудник</td>\n",
       "      <td>0</td>\n",
       "      <td>77069.234271</td>\n",
       "      <td>покупка коммерческой недвижимости</td>\n",
       "    </tr>\n",
       "    <tr>\n",
       "      <th>12</th>\n",
       "      <td>0</td>\n",
       "      <td>NaN</td>\n",
       "      <td>65</td>\n",
       "      <td>среднее</td>\n",
       "      <td>1</td>\n",
       "      <td>гражданский брак</td>\n",
       "      <td>1</td>\n",
       "      <td>M</td>\n",
       "      <td>пенсионер</td>\n",
       "      <td>0</td>\n",
       "      <td>NaN</td>\n",
       "      <td>сыграть свадьбу</td>\n",
       "    </tr>\n",
       "    <tr>\n",
       "      <th>13</th>\n",
       "      <td>0</td>\n",
       "      <td>-1846.641941</td>\n",
       "      <td>54</td>\n",
       "      <td>неоконченное высшее</td>\n",
       "      <td>2</td>\n",
       "      <td>женат / замужем</td>\n",
       "      <td>0</td>\n",
       "      <td>F</td>\n",
       "      <td>сотрудник</td>\n",
       "      <td>0</td>\n",
       "      <td>130458.228857</td>\n",
       "      <td>приобретение автомобиля</td>\n",
       "    </tr>\n",
       "    <tr>\n",
       "      <th>14</th>\n",
       "      <td>0</td>\n",
       "      <td>-1844.956182</td>\n",
       "      <td>56</td>\n",
       "      <td>высшее</td>\n",
       "      <td>0</td>\n",
       "      <td>гражданский брак</td>\n",
       "      <td>1</td>\n",
       "      <td>F</td>\n",
       "      <td>компаньон</td>\n",
       "      <td>1</td>\n",
       "      <td>165127.911772</td>\n",
       "      <td>покупка жилой недвижимости</td>\n",
       "    </tr>\n",
       "    <tr>\n",
       "      <th>15</th>\n",
       "      <td>1</td>\n",
       "      <td>-972.364419</td>\n",
       "      <td>26</td>\n",
       "      <td>среднее</td>\n",
       "      <td>1</td>\n",
       "      <td>женат / замужем</td>\n",
       "      <td>0</td>\n",
       "      <td>F</td>\n",
       "      <td>сотрудник</td>\n",
       "      <td>0</td>\n",
       "      <td>116820.904450</td>\n",
       "      <td>строительство собственной недвижимости</td>\n",
       "    </tr>\n",
       "    <tr>\n",
       "      <th>16</th>\n",
       "      <td>0</td>\n",
       "      <td>-1719.934226</td>\n",
       "      <td>35</td>\n",
       "      <td>среднее</td>\n",
       "      <td>1</td>\n",
       "      <td>женат / замужем</td>\n",
       "      <td>0</td>\n",
       "      <td>F</td>\n",
       "      <td>сотрудник</td>\n",
       "      <td>0</td>\n",
       "      <td>289202.704229</td>\n",
       "      <td>недвижимость</td>\n",
       "    </tr>\n",
       "    <tr>\n",
       "      <th>17</th>\n",
       "      <td>0</td>\n",
       "      <td>-2369.999720</td>\n",
       "      <td>33</td>\n",
       "      <td>высшее</td>\n",
       "      <td>0</td>\n",
       "      <td>гражданский брак</td>\n",
       "      <td>1</td>\n",
       "      <td>M</td>\n",
       "      <td>сотрудник</td>\n",
       "      <td>0</td>\n",
       "      <td>90410.586745</td>\n",
       "      <td>строительство недвижимости</td>\n",
       "    </tr>\n",
       "    <tr>\n",
       "      <th>18</th>\n",
       "      <td>0</td>\n",
       "      <td>400281.136913</td>\n",
       "      <td>53</td>\n",
       "      <td>среднее</td>\n",
       "      <td>1</td>\n",
       "      <td>вдовец / вдова</td>\n",
       "      <td>2</td>\n",
       "      <td>F</td>\n",
       "      <td>пенсионер</td>\n",
       "      <td>0</td>\n",
       "      <td>56823.777243</td>\n",
       "      <td>на покупку подержанного автомобиля</td>\n",
       "    </tr>\n",
       "    <tr>\n",
       "      <th>19</th>\n",
       "      <td>0</td>\n",
       "      <td>-10038.818549</td>\n",
       "      <td>48</td>\n",
       "      <td>СРЕДНЕЕ</td>\n",
       "      <td>1</td>\n",
       "      <td>в разводе</td>\n",
       "      <td>3</td>\n",
       "      <td>F</td>\n",
       "      <td>сотрудник</td>\n",
       "      <td>0</td>\n",
       "      <td>242831.107982</td>\n",
       "      <td>на покупку своего автомобиля</td>\n",
       "    </tr>\n",
       "    <tr>\n",
       "      <th>20</th>\n",
       "      <td>1</td>\n",
       "      <td>-1311.604166</td>\n",
       "      <td>36</td>\n",
       "      <td>среднее</td>\n",
       "      <td>1</td>\n",
       "      <td>женат / замужем</td>\n",
       "      <td>0</td>\n",
       "      <td>M</td>\n",
       "      <td>сотрудник</td>\n",
       "      <td>0</td>\n",
       "      <td>209552.644578</td>\n",
       "      <td>недвижимость</td>\n",
       "    </tr>\n",
       "    <tr>\n",
       "      <th>21</th>\n",
       "      <td>1</td>\n",
       "      <td>-253.685166</td>\n",
       "      <td>33</td>\n",
       "      <td>среднее</td>\n",
       "      <td>1</td>\n",
       "      <td>гражданский брак</td>\n",
       "      <td>1</td>\n",
       "      <td>F</td>\n",
       "      <td>сотрудник</td>\n",
       "      <td>0</td>\n",
       "      <td>131812.203909</td>\n",
       "      <td>приобретение автомобиля</td>\n",
       "    </tr>\n",
       "    <tr>\n",
       "      <th>22</th>\n",
       "      <td>1</td>\n",
       "      <td>-1766.644138</td>\n",
       "      <td>24</td>\n",
       "      <td>среднее</td>\n",
       "      <td>1</td>\n",
       "      <td>гражданский брак</td>\n",
       "      <td>1</td>\n",
       "      <td>F</td>\n",
       "      <td>сотрудник</td>\n",
       "      <td>0</td>\n",
       "      <td>149681.140731</td>\n",
       "      <td>на покупку подержанного автомобиля</td>\n",
       "    </tr>\n",
       "    <tr>\n",
       "      <th>23</th>\n",
       "      <td>0</td>\n",
       "      <td>-272.981385</td>\n",
       "      <td>21</td>\n",
       "      <td>высшее</td>\n",
       "      <td>0</td>\n",
       "      <td>гражданский брак</td>\n",
       "      <td>1</td>\n",
       "      <td>M</td>\n",
       "      <td>сотрудник</td>\n",
       "      <td>0</td>\n",
       "      <td>128265.720871</td>\n",
       "      <td>сыграть свадьбу</td>\n",
       "    </tr>\n",
       "    <tr>\n",
       "      <th>24</th>\n",
       "      <td>1</td>\n",
       "      <td>338551.952911</td>\n",
       "      <td>57</td>\n",
       "      <td>среднее</td>\n",
       "      <td>1</td>\n",
       "      <td>Не женат / не замужем</td>\n",
       "      <td>4</td>\n",
       "      <td>F</td>\n",
       "      <td>пенсионер</td>\n",
       "      <td>0</td>\n",
       "      <td>290547.235997</td>\n",
       "      <td>операции с коммерческой недвижимостью</td>\n",
       "    </tr>\n",
       "    <tr>\n",
       "      <th>25</th>\n",
       "      <td>0</td>\n",
       "      <td>363548.489348</td>\n",
       "      <td>67</td>\n",
       "      <td>среднее</td>\n",
       "      <td>1</td>\n",
       "      <td>женат / замужем</td>\n",
       "      <td>0</td>\n",
       "      <td>M</td>\n",
       "      <td>пенсионер</td>\n",
       "      <td>0</td>\n",
       "      <td>55112.757732</td>\n",
       "      <td>покупка недвижимости</td>\n",
       "    </tr>\n",
       "    <tr>\n",
       "      <th>26</th>\n",
       "      <td>0</td>\n",
       "      <td>NaN</td>\n",
       "      <td>41</td>\n",
       "      <td>среднее</td>\n",
       "      <td>1</td>\n",
       "      <td>женат / замужем</td>\n",
       "      <td>0</td>\n",
       "      <td>M</td>\n",
       "      <td>госслужащий</td>\n",
       "      <td>0</td>\n",
       "      <td>NaN</td>\n",
       "      <td>образование</td>\n",
       "    </tr>\n",
       "  </tbody>\n",
       "</table>\n",
       "</div>"
      ],
      "text/plain": [
       "    children  days_employed  dob_years            education  education_id  \\\n",
       "0          1   -8437.673028         42               высшее             0   \n",
       "1          1   -4024.803754         36              среднее             1   \n",
       "2          0   -5623.422610         33              Среднее             1   \n",
       "3          3   -4124.747207         32              среднее             1   \n",
       "4          0  340266.072047         53              среднее             1   \n",
       "5          0    -926.185831         27               высшее             0   \n",
       "6          0   -2879.202052         43               высшее             0   \n",
       "7          0    -152.779569         50              СРЕДНЕЕ             1   \n",
       "8          2   -6929.865299         35               ВЫСШЕЕ             0   \n",
       "9          0   -2188.756445         41              среднее             1   \n",
       "10         2   -4171.483647         36               высшее             0   \n",
       "11         0    -792.701887         40              среднее             1   \n",
       "12         0            NaN         65              среднее             1   \n",
       "13         0   -1846.641941         54  неоконченное высшее             2   \n",
       "14         0   -1844.956182         56               высшее             0   \n",
       "15         1    -972.364419         26              среднее             1   \n",
       "16         0   -1719.934226         35              среднее             1   \n",
       "17         0   -2369.999720         33               высшее             0   \n",
       "18         0  400281.136913         53              среднее             1   \n",
       "19         0  -10038.818549         48              СРЕДНЕЕ             1   \n",
       "20         1   -1311.604166         36              среднее             1   \n",
       "21         1    -253.685166         33              среднее             1   \n",
       "22         1   -1766.644138         24              среднее             1   \n",
       "23         0    -272.981385         21               высшее             0   \n",
       "24         1  338551.952911         57              среднее             1   \n",
       "25         0  363548.489348         67              среднее             1   \n",
       "26         0            NaN         41              среднее             1   \n",
       "\n",
       "            family_status  family_status_id gender  income_type  debt  \\\n",
       "0         женат / замужем                 0      F    сотрудник     0   \n",
       "1         женат / замужем                 0      F    сотрудник     0   \n",
       "2         женат / замужем                 0      M    сотрудник     0   \n",
       "3         женат / замужем                 0      M    сотрудник     0   \n",
       "4        гражданский брак                 1      F    пенсионер     0   \n",
       "5        гражданский брак                 1      M    компаньон     0   \n",
       "6         женат / замужем                 0      F    компаньон     0   \n",
       "7         женат / замужем                 0      M    сотрудник     0   \n",
       "8        гражданский брак                 1      F    сотрудник     0   \n",
       "9         женат / замужем                 0      M    сотрудник     0   \n",
       "10        женат / замужем                 0      M    компаньон     0   \n",
       "11        женат / замужем                 0      F    сотрудник     0   \n",
       "12       гражданский брак                 1      M    пенсионер     0   \n",
       "13        женат / замужем                 0      F    сотрудник     0   \n",
       "14       гражданский брак                 1      F    компаньон     1   \n",
       "15        женат / замужем                 0      F    сотрудник     0   \n",
       "16        женат / замужем                 0      F    сотрудник     0   \n",
       "17       гражданский брак                 1      M    сотрудник     0   \n",
       "18         вдовец / вдова                 2      F    пенсионер     0   \n",
       "19              в разводе                 3      F    сотрудник     0   \n",
       "20        женат / замужем                 0      M    сотрудник     0   \n",
       "21       гражданский брак                 1      F    сотрудник     0   \n",
       "22       гражданский брак                 1      F    сотрудник     0   \n",
       "23       гражданский брак                 1      M    сотрудник     0   \n",
       "24  Не женат / не замужем                 4      F    пенсионер     0   \n",
       "25        женат / замужем                 0      M    пенсионер     0   \n",
       "26        женат / замужем                 0      M  госслужащий     0   \n",
       "\n",
       "     total_income                                 purpose  \n",
       "0   253875.639453                           покупка жилья  \n",
       "1   112080.014102                 приобретение автомобиля  \n",
       "2   145885.952297                           покупка жилья  \n",
       "3   267628.550329              дополнительное образование  \n",
       "4   158616.077870                         сыграть свадьбу  \n",
       "5   255763.565419                           покупка жилья  \n",
       "6   240525.971920                       операции с жильем  \n",
       "7   135823.934197                             образование  \n",
       "8    95856.832424                   на проведение свадьбы  \n",
       "9   144425.938277                 покупка жилья для семьи  \n",
       "10  113943.491460                    покупка недвижимости  \n",
       "11   77069.234271       покупка коммерческой недвижимости  \n",
       "12            NaN                         сыграть свадьбу  \n",
       "13  130458.228857                 приобретение автомобиля  \n",
       "14  165127.911772              покупка жилой недвижимости  \n",
       "15  116820.904450  строительство собственной недвижимости  \n",
       "16  289202.704229                            недвижимость  \n",
       "17   90410.586745              строительство недвижимости  \n",
       "18   56823.777243      на покупку подержанного автомобиля  \n",
       "19  242831.107982            на покупку своего автомобиля  \n",
       "20  209552.644578                            недвижимость  \n",
       "21  131812.203909                 приобретение автомобиля  \n",
       "22  149681.140731      на покупку подержанного автомобиля  \n",
       "23  128265.720871                         сыграть свадьбу  \n",
       "24  290547.235997   операции с коммерческой недвижимостью  \n",
       "25   55112.757732                    покупка недвижимости  \n",
       "26            NaN                             образование  "
      ]
     },
     "execution_count": 6,
     "metadata": {},
     "output_type": "execute_result"
    }
   ],
   "source": [
    "df.head(27)"
   ]
  },
  {
   "cell_type": "markdown",
   "id": "62abfef0",
   "metadata": {},
   "source": [
    "На этапе обзора данных обнаружены пропуски в столбцах: \"days_employed\" и \"total_income\", а так же ошибки данных в \"days_employed\""
   ]
  },
  {
   "cell_type": "markdown",
   "id": "5f130eb1",
   "metadata": {},
   "source": [
    "## Предобработка данных <a id=\"preprocessing\"></a>"
   ]
  },
  {
   "cell_type": "code",
   "execution_count": 7,
   "id": "0834d422",
   "metadata": {},
   "outputs": [
    {
     "data": {
      "text/html": [
       "<div>\n",
       "<style scoped>\n",
       "    .dataframe tbody tr th:only-of-type {\n",
       "        vertical-align: middle;\n",
       "    }\n",
       "\n",
       "    .dataframe tbody tr th {\n",
       "        vertical-align: top;\n",
       "    }\n",
       "\n",
       "    .dataframe thead th {\n",
       "        text-align: right;\n",
       "    }\n",
       "</style>\n",
       "<table border=\"1\" class=\"dataframe\">\n",
       "  <thead>\n",
       "    <tr style=\"text-align: right;\">\n",
       "      <th>income_type</th>\n",
       "      <th>age_category</th>\n",
       "      <th>безработный</th>\n",
       "      <th>в декрете</th>\n",
       "      <th>госслужащий</th>\n",
       "      <th>компаньон</th>\n",
       "      <th>пенсионер</th>\n",
       "      <th>предприниматель</th>\n",
       "      <th>сотрудник</th>\n",
       "      <th>студент</th>\n",
       "      <th>All</th>\n",
       "    </tr>\n",
       "  </thead>\n",
       "  <tbody>\n",
       "    <tr>\n",
       "      <th>0</th>\n",
       "      <td>молодой</td>\n",
       "      <td>0</td>\n",
       "      <td>0</td>\n",
       "      <td>72</td>\n",
       "      <td>365</td>\n",
       "      <td>18</td>\n",
       "      <td>0</td>\n",
       "      <td>748</td>\n",
       "      <td>1</td>\n",
       "      <td>1204</td>\n",
       "    </tr>\n",
       "    <tr>\n",
       "      <th>1</th>\n",
       "      <td>средний</td>\n",
       "      <td>2</td>\n",
       "      <td>1</td>\n",
       "      <td>992</td>\n",
       "      <td>3426</td>\n",
       "      <td>223</td>\n",
       "      <td>1</td>\n",
       "      <td>7532</td>\n",
       "      <td>0</td>\n",
       "      <td>12177</td>\n",
       "    </tr>\n",
       "    <tr>\n",
       "      <th>2</th>\n",
       "      <td>старый</td>\n",
       "      <td>0</td>\n",
       "      <td>0</td>\n",
       "      <td>248</td>\n",
       "      <td>786</td>\n",
       "      <td>3202</td>\n",
       "      <td>0</td>\n",
       "      <td>1734</td>\n",
       "      <td>0</td>\n",
       "      <td>5970</td>\n",
       "    </tr>\n",
       "    <tr>\n",
       "      <th>3</th>\n",
       "      <td>All</td>\n",
       "      <td>2</td>\n",
       "      <td>1</td>\n",
       "      <td>1312</td>\n",
       "      <td>4577</td>\n",
       "      <td>3443</td>\n",
       "      <td>1</td>\n",
       "      <td>10014</td>\n",
       "      <td>1</td>\n",
       "      <td>19351</td>\n",
       "    </tr>\n",
       "  </tbody>\n",
       "</table>\n",
       "</div>"
      ],
      "text/plain": [
       "income_type age_category  безработный  в декрете  госслужащий  компаньон  \\\n",
       "0                молодой            0          0           72        365   \n",
       "1                средний            2          1          992       3426   \n",
       "2                 старый            0          0          248        786   \n",
       "3                    All            2          1         1312       4577   \n",
       "\n",
       "income_type  пенсионер  предприниматель  сотрудник  студент    All  \n",
       "0                   18                0        748        1   1204  \n",
       "1                  223                1       7532        0  12177  \n",
       "2                 3202                0       1734        0   5970  \n",
       "3                 3443                1      10014        1  19351  "
      ]
     },
     "metadata": {},
     "output_type": "display_data"
    },
    {
     "name": "stdout",
     "output_type": "stream",
     "text": [
      "\u001b[1mКоличество клиентов по возрастным группам и соц.статусу\u001b[0m\n"
     ]
    },
    {
     "data": {
      "text/html": [
       "<div>\n",
       "<style scoped>\n",
       "    .dataframe tbody tr th:only-of-type {\n",
       "        vertical-align: middle;\n",
       "    }\n",
       "\n",
       "    .dataframe tbody tr th {\n",
       "        vertical-align: top;\n",
       "    }\n",
       "\n",
       "    .dataframe thead th {\n",
       "        text-align: right;\n",
       "    }\n",
       "</style>\n",
       "<table border=\"1\" class=\"dataframe\">\n",
       "  <thead>\n",
       "    <tr style=\"text-align: right;\">\n",
       "      <th>income_type</th>\n",
       "      <th>age_category</th>\n",
       "      <th>безработный</th>\n",
       "      <th>в декрете</th>\n",
       "      <th>госслужащий</th>\n",
       "      <th>компаньон</th>\n",
       "      <th>пенсионер</th>\n",
       "      <th>предприниматель</th>\n",
       "      <th>сотрудник</th>\n",
       "      <th>студент</th>\n",
       "      <th>All</th>\n",
       "    </tr>\n",
       "  </thead>\n",
       "  <tbody>\n",
       "    <tr>\n",
       "      <th>0</th>\n",
       "      <td>молодой</td>\n",
       "      <td>0.000000</td>\n",
       "      <td>0.000000</td>\n",
       "      <td>-1566.502384</td>\n",
       "      <td>-910.213491</td>\n",
       "      <td>360994.556487</td>\n",
       "      <td>0.000000</td>\n",
       "      <td>-996.231461</td>\n",
       "      <td>-578.751554</td>\n",
       "      <td>4407.911990</td>\n",
       "    </tr>\n",
       "    <tr>\n",
       "      <th>1</th>\n",
       "      <td>средний</td>\n",
       "      <td>366413.652744</td>\n",
       "      <td>-3296.759962</td>\n",
       "      <td>-3178.939050</td>\n",
       "      <td>-2030.266091</td>\n",
       "      <td>365589.381035</td>\n",
       "      <td>-520.848083</td>\n",
       "      <td>-2222.446849</td>\n",
       "      <td>0.000000</td>\n",
       "      <td>4550.116846</td>\n",
       "    </tr>\n",
       "    <tr>\n",
       "      <th>2</th>\n",
       "      <td>старый</td>\n",
       "      <td>0.000000</td>\n",
       "      <td>0.000000</td>\n",
       "      <td>-4816.004137</td>\n",
       "      <td>-3023.572035</td>\n",
       "      <td>364985.223725</td>\n",
       "      <td>0.000000</td>\n",
       "      <td>-3352.313927</td>\n",
       "      <td>0.000000</td>\n",
       "      <td>194187.416645</td>\n",
       "    </tr>\n",
       "    <tr>\n",
       "      <th>3</th>\n",
       "      <td>All</td>\n",
       "      <td>366413.652744</td>\n",
       "      <td>-3296.759962</td>\n",
       "      <td>-3399.896902</td>\n",
       "      <td>-2111.524398</td>\n",
       "      <td>365003.491245</td>\n",
       "      <td>-520.848083</td>\n",
       "      <td>-2326.499216</td>\n",
       "      <td>-578.751554</td>\n",
       "      <td>63046.497661</td>\n",
       "    </tr>\n",
       "  </tbody>\n",
       "</table>\n",
       "</div>"
      ],
      "text/plain": [
       "income_type age_category    безработный    в декрете  госслужащий  \\\n",
       "0                молодой       0.000000     0.000000 -1566.502384   \n",
       "1                средний  366413.652744 -3296.759962 -3178.939050   \n",
       "2                 старый       0.000000     0.000000 -4816.004137   \n",
       "3                    All  366413.652744 -3296.759962 -3399.896902   \n",
       "\n",
       "income_type    компаньон      пенсионер  предприниматель    сотрудник  \\\n",
       "0            -910.213491  360994.556487         0.000000  -996.231461   \n",
       "1           -2030.266091  365589.381035      -520.848083 -2222.446849   \n",
       "2           -3023.572035  364985.223725         0.000000 -3352.313927   \n",
       "3           -2111.524398  365003.491245      -520.848083 -2326.499216   \n",
       "\n",
       "income_type     студент            All  \n",
       "0           -578.751554    4407.911990  \n",
       "1              0.000000    4550.116846  \n",
       "2              0.000000  194187.416645  \n",
       "3           -578.751554   63046.497661  "
      ]
     },
     "metadata": {},
     "output_type": "display_data"
    },
    {
     "name": "stdout",
     "output_type": "stream",
     "text": [
      "\u001b[1mСредний трудовой стаж по возрастным группам и соц.статусу\u001b[0m\n"
     ]
    }
   ],
   "source": [
    "def age_category(age):\n",
    "    if age <= 25:\n",
    "        return 'молодой'\n",
    "    elif age <=50:\n",
    "        return 'средний'\n",
    "    elif age >50:\n",
    "        return 'старый'\n",
    "    \n",
    "\n",
    "df['age_category'] = df['dob_years'].apply(age_category)    \n",
    "df_sub = df[df['days_employed'] < 1]\n",
    "df_ultra = df[df['days_employed'] > 30000]\n",
    "\n",
    "display(df.pivot_table(\n",
    "    index='age_category',columns='income_type',values='days_employed',\n",
    "    aggfunc='count',fill_value=0, margins=True).reset_index()\n",
    "    )\n",
    "print(color.BOLD + 'Количество клиентов по возрастным группам и соц.статусу' + color.END)\n",
    "display(df.pivot_table(\n",
    "    index='age_category',columns='income_type',values='days_employed',\n",
    "    aggfunc='mean',fill_value=0, margins=True).reset_index()\n",
    "    )\n",
    "print(color.BOLD + 'Средний трудовой стаж по возрастным группам и соц.статусу' + color.END)\n"
   ]
  },
  {
   "cell_type": "markdown",
   "id": "cabed64f",
   "metadata": {},
   "source": [
    "Вероятно аномалия с рабочим стажем имеет отношение к выходу на пенсию. Если бы эти данные нужны были для исследования потребовалось бы обратиться к коллегам для уточнения данных."
   ]
  },
  {
   "cell_type": "markdown",
   "id": "f8bb0848",
   "metadata": {},
   "source": [
    "###  Заполнение пропусков <a id=\"null\"></a>"
   ]
  },
  {
   "cell_type": "markdown",
   "id": "bcbf2809",
   "metadata": {},
   "source": [
    "Найдем пропущенные значения"
   ]
  },
  {
   "cell_type": "code",
   "execution_count": 8,
   "id": "5dae9d65",
   "metadata": {
    "scrolled": true
   },
   "outputs": [
    {
     "data": {
      "text/plain": [
       "children               0\n",
       "days_employed       2174\n",
       "dob_years              0\n",
       "education              0\n",
       "education_id           0\n",
       "family_status          0\n",
       "family_status_id       0\n",
       "gender                 0\n",
       "income_type            0\n",
       "debt                   0\n",
       "total_income        2174\n",
       "purpose                0\n",
       "age_category           0\n",
       "dtype: int64"
      ]
     },
     "execution_count": 8,
     "metadata": {},
     "output_type": "execute_result"
    }
   ],
   "source": [
    "df.isna().sum()"
   ]
  },
  {
   "cell_type": "code",
   "execution_count": 9,
   "id": "4bc32ef1",
   "metadata": {},
   "outputs": [
    {
     "data": {
      "text/plain": [
       "'Процент пропусков равен 10% '"
      ]
     },
     "execution_count": 9,
     "metadata": {},
     "output_type": "execute_result"
    }
   ],
   "source": [
    "#Процент пропусков.\n",
    "omission = df.isna().sum()['total_income'] / len(df)\n",
    "'Процент пропусков равен {:.0%} '.format(omission)\n",
    "\n"
   ]
  },
  {
   "cell_type": "markdown",
   "id": "5f354c2b",
   "metadata": {},
   "source": [
    "Чтобы не было, как в анекдоте: \"У Пети 10 яблок, а у Васи —  0. В среднем у каждого по 5 яблок.\" - найдем медианое значение дохода по социальному статусу и заменим им пропуски."
   ]
  },
  {
   "cell_type": "code",
   "execution_count": 10,
   "id": "d52a7227-9e43-4155-8787-fc9a95865584",
   "metadata": {},
   "outputs": [
    {
     "data": {
      "text/html": [
       "<div>\n",
       "<style scoped>\n",
       "    .dataframe tbody tr th:only-of-type {\n",
       "        vertical-align: middle;\n",
       "    }\n",
       "\n",
       "    .dataframe tbody tr th {\n",
       "        vertical-align: top;\n",
       "    }\n",
       "\n",
       "    .dataframe thead th {\n",
       "        text-align: right;\n",
       "    }\n",
       "</style>\n",
       "<table border=\"1\" class=\"dataframe\">\n",
       "  <thead>\n",
       "    <tr style=\"text-align: right;\">\n",
       "      <th></th>\n",
       "      <th>children</th>\n",
       "      <th>days_employed</th>\n",
       "      <th>dob_years</th>\n",
       "      <th>education</th>\n",
       "      <th>education_id</th>\n",
       "      <th>family_status</th>\n",
       "      <th>family_status_id</th>\n",
       "      <th>gender</th>\n",
       "      <th>income_type</th>\n",
       "      <th>debt</th>\n",
       "      <th>total_income</th>\n",
       "      <th>purpose</th>\n",
       "      <th>age_category</th>\n",
       "    </tr>\n",
       "  </thead>\n",
       "  <tbody>\n",
       "    <tr>\n",
       "      <th>12</th>\n",
       "      <td>0</td>\n",
       "      <td>NaN</td>\n",
       "      <td>65</td>\n",
       "      <td>среднее</td>\n",
       "      <td>1</td>\n",
       "      <td>гражданский брак</td>\n",
       "      <td>1</td>\n",
       "      <td>M</td>\n",
       "      <td>пенсионер</td>\n",
       "      <td>0</td>\n",
       "      <td>NaN</td>\n",
       "      <td>сыграть свадьбу</td>\n",
       "      <td>старый</td>\n",
       "    </tr>\n",
       "    <tr>\n",
       "      <th>26</th>\n",
       "      <td>0</td>\n",
       "      <td>NaN</td>\n",
       "      <td>41</td>\n",
       "      <td>среднее</td>\n",
       "      <td>1</td>\n",
       "      <td>женат / замужем</td>\n",
       "      <td>0</td>\n",
       "      <td>M</td>\n",
       "      <td>госслужащий</td>\n",
       "      <td>0</td>\n",
       "      <td>NaN</td>\n",
       "      <td>образование</td>\n",
       "      <td>средний</td>\n",
       "    </tr>\n",
       "    <tr>\n",
       "      <th>29</th>\n",
       "      <td>0</td>\n",
       "      <td>NaN</td>\n",
       "      <td>63</td>\n",
       "      <td>среднее</td>\n",
       "      <td>1</td>\n",
       "      <td>Не женат / не замужем</td>\n",
       "      <td>4</td>\n",
       "      <td>F</td>\n",
       "      <td>пенсионер</td>\n",
       "      <td>0</td>\n",
       "      <td>NaN</td>\n",
       "      <td>строительство жилой недвижимости</td>\n",
       "      <td>старый</td>\n",
       "    </tr>\n",
       "    <tr>\n",
       "      <th>41</th>\n",
       "      <td>0</td>\n",
       "      <td>NaN</td>\n",
       "      <td>50</td>\n",
       "      <td>среднее</td>\n",
       "      <td>1</td>\n",
       "      <td>женат / замужем</td>\n",
       "      <td>0</td>\n",
       "      <td>F</td>\n",
       "      <td>госслужащий</td>\n",
       "      <td>0</td>\n",
       "      <td>NaN</td>\n",
       "      <td>сделка с подержанным автомобилем</td>\n",
       "      <td>средний</td>\n",
       "    </tr>\n",
       "    <tr>\n",
       "      <th>55</th>\n",
       "      <td>0</td>\n",
       "      <td>NaN</td>\n",
       "      <td>54</td>\n",
       "      <td>среднее</td>\n",
       "      <td>1</td>\n",
       "      <td>гражданский брак</td>\n",
       "      <td>1</td>\n",
       "      <td>F</td>\n",
       "      <td>пенсионер</td>\n",
       "      <td>1</td>\n",
       "      <td>NaN</td>\n",
       "      <td>сыграть свадьбу</td>\n",
       "      <td>старый</td>\n",
       "    </tr>\n",
       "    <tr>\n",
       "      <th>...</th>\n",
       "      <td>...</td>\n",
       "      <td>...</td>\n",
       "      <td>...</td>\n",
       "      <td>...</td>\n",
       "      <td>...</td>\n",
       "      <td>...</td>\n",
       "      <td>...</td>\n",
       "      <td>...</td>\n",
       "      <td>...</td>\n",
       "      <td>...</td>\n",
       "      <td>...</td>\n",
       "      <td>...</td>\n",
       "      <td>...</td>\n",
       "    </tr>\n",
       "    <tr>\n",
       "      <th>21489</th>\n",
       "      <td>2</td>\n",
       "      <td>NaN</td>\n",
       "      <td>47</td>\n",
       "      <td>Среднее</td>\n",
       "      <td>1</td>\n",
       "      <td>женат / замужем</td>\n",
       "      <td>0</td>\n",
       "      <td>M</td>\n",
       "      <td>компаньон</td>\n",
       "      <td>0</td>\n",
       "      <td>NaN</td>\n",
       "      <td>сделка с автомобилем</td>\n",
       "      <td>средний</td>\n",
       "    </tr>\n",
       "    <tr>\n",
       "      <th>21495</th>\n",
       "      <td>1</td>\n",
       "      <td>NaN</td>\n",
       "      <td>50</td>\n",
       "      <td>среднее</td>\n",
       "      <td>1</td>\n",
       "      <td>гражданский брак</td>\n",
       "      <td>1</td>\n",
       "      <td>F</td>\n",
       "      <td>сотрудник</td>\n",
       "      <td>0</td>\n",
       "      <td>NaN</td>\n",
       "      <td>свадьба</td>\n",
       "      <td>средний</td>\n",
       "    </tr>\n",
       "    <tr>\n",
       "      <th>21497</th>\n",
       "      <td>0</td>\n",
       "      <td>NaN</td>\n",
       "      <td>48</td>\n",
       "      <td>ВЫСШЕЕ</td>\n",
       "      <td>0</td>\n",
       "      <td>женат / замужем</td>\n",
       "      <td>0</td>\n",
       "      <td>F</td>\n",
       "      <td>компаньон</td>\n",
       "      <td>0</td>\n",
       "      <td>NaN</td>\n",
       "      <td>строительство недвижимости</td>\n",
       "      <td>средний</td>\n",
       "    </tr>\n",
       "    <tr>\n",
       "      <th>21502</th>\n",
       "      <td>1</td>\n",
       "      <td>NaN</td>\n",
       "      <td>42</td>\n",
       "      <td>среднее</td>\n",
       "      <td>1</td>\n",
       "      <td>женат / замужем</td>\n",
       "      <td>0</td>\n",
       "      <td>F</td>\n",
       "      <td>сотрудник</td>\n",
       "      <td>0</td>\n",
       "      <td>NaN</td>\n",
       "      <td>строительство жилой недвижимости</td>\n",
       "      <td>средний</td>\n",
       "    </tr>\n",
       "    <tr>\n",
       "      <th>21510</th>\n",
       "      <td>2</td>\n",
       "      <td>NaN</td>\n",
       "      <td>28</td>\n",
       "      <td>среднее</td>\n",
       "      <td>1</td>\n",
       "      <td>женат / замужем</td>\n",
       "      <td>0</td>\n",
       "      <td>F</td>\n",
       "      <td>сотрудник</td>\n",
       "      <td>0</td>\n",
       "      <td>NaN</td>\n",
       "      <td>приобретение автомобиля</td>\n",
       "      <td>средний</td>\n",
       "    </tr>\n",
       "  </tbody>\n",
       "</table>\n",
       "<p>2174 rows × 13 columns</p>\n",
       "</div>"
      ],
      "text/plain": [
       "       children  days_employed  dob_years education  education_id  \\\n",
       "12            0            NaN         65   среднее             1   \n",
       "26            0            NaN         41   среднее             1   \n",
       "29            0            NaN         63   среднее             1   \n",
       "41            0            NaN         50   среднее             1   \n",
       "55            0            NaN         54   среднее             1   \n",
       "...         ...            ...        ...       ...           ...   \n",
       "21489         2            NaN         47   Среднее             1   \n",
       "21495         1            NaN         50   среднее             1   \n",
       "21497         0            NaN         48    ВЫСШЕЕ             0   \n",
       "21502         1            NaN         42   среднее             1   \n",
       "21510         2            NaN         28   среднее             1   \n",
       "\n",
       "               family_status  family_status_id gender  income_type  debt  \\\n",
       "12          гражданский брак                 1      M    пенсионер     0   \n",
       "26           женат / замужем                 0      M  госслужащий     0   \n",
       "29     Не женат / не замужем                 4      F    пенсионер     0   \n",
       "41           женат / замужем                 0      F  госслужащий     0   \n",
       "55          гражданский брак                 1      F    пенсионер     1   \n",
       "...                      ...               ...    ...          ...   ...   \n",
       "21489        женат / замужем                 0      M    компаньон     0   \n",
       "21495       гражданский брак                 1      F    сотрудник     0   \n",
       "21497        женат / замужем                 0      F    компаньон     0   \n",
       "21502        женат / замужем                 0      F    сотрудник     0   \n",
       "21510        женат / замужем                 0      F    сотрудник     0   \n",
       "\n",
       "       total_income                           purpose age_category  \n",
       "12              NaN                   сыграть свадьбу       старый  \n",
       "26              NaN                       образование      средний  \n",
       "29              NaN  строительство жилой недвижимости       старый  \n",
       "41              NaN  сделка с подержанным автомобилем      средний  \n",
       "55              NaN                   сыграть свадьбу       старый  \n",
       "...             ...                               ...          ...  \n",
       "21489           NaN              сделка с автомобилем      средний  \n",
       "21495           NaN                           свадьба      средний  \n",
       "21497           NaN        строительство недвижимости      средний  \n",
       "21502           NaN  строительство жилой недвижимости      средний  \n",
       "21510           NaN           приобретение автомобиля      средний  \n",
       "\n",
       "[2174 rows x 13 columns]"
      ]
     },
     "execution_count": 10,
     "metadata": {},
     "output_type": "execute_result"
    }
   ],
   "source": [
    "df[df['total_income'].isna()]"
   ]
  },
  {
   "cell_type": "code",
   "execution_count": 11,
   "id": "d3841942-ec84-4c79-9321-d55d107f0484",
   "metadata": {},
   "outputs": [
    {
     "data": {
      "text/plain": [
       "income_type\n",
       "безработный        131339.751676\n",
       "в декрете           53829.130729\n",
       "госслужащий        150447.935283\n",
       "компаньон          172357.950966\n",
       "пенсионер          118514.486412\n",
       "предприниматель    499163.144947\n",
       "сотрудник          142594.396847\n",
       "студент             98201.625314\n",
       "Name: total_income, dtype: float64"
      ]
     },
     "execution_count": 11,
     "metadata": {},
     "output_type": "execute_result"
    }
   ],
   "source": [
    "df.groupby('income_type')['total_income'].median()"
   ]
  },
  {
   "cell_type": "code",
   "execution_count": 12,
   "id": "302219eb",
   "metadata": {},
   "outputs": [],
   "source": [
    "df['total_income'] = df['total_income'].fillna(df.groupby('income_type')['total_income'].transform('median'))"
   ]
  },
  {
   "cell_type": "markdown",
   "id": "e32eb47b",
   "metadata": {},
   "source": [
    "По такому же принципу заменим стаж"
   ]
  },
  {
   "cell_type": "code",
   "execution_count": 13,
   "id": "8658bace",
   "metadata": {},
   "outputs": [
    {
     "data": {
      "text/plain": [
       "children            0\n",
       "days_employed       0\n",
       "dob_years           0\n",
       "education           0\n",
       "education_id        0\n",
       "family_status       0\n",
       "family_status_id    0\n",
       "gender              0\n",
       "income_type         0\n",
       "debt                0\n",
       "total_income        0\n",
       "purpose             0\n",
       "age_category        0\n",
       "dtype: int64"
      ]
     },
     "execution_count": 13,
     "metadata": {},
     "output_type": "execute_result"
    }
   ],
   "source": [
    "#На медиану не влияют мастодонты трудового стажа\n",
    "df['days_employed'] = df['days_employed'].fillna(df['days_employed'].median())\n",
    "df.isna().sum()"
   ]
  },
  {
   "cell_type": "markdown",
   "id": "13638763",
   "metadata": {},
   "source": [
    "### Проверка данных на аномалии и исправления. <a id=\"anomaly\"></a>"
   ]
  },
  {
   "cell_type": "markdown",
   "id": "917721cf",
   "metadata": {},
   "source": [
    "Нам не нужны отрицательные значения в стаже, которые, возможно, появились по технологической ошибке."
   ]
  },
  {
   "cell_type": "code",
   "execution_count": 14,
   "id": "ab7b6a81",
   "metadata": {},
   "outputs": [
    {
     "data": {
      "image/png": "[encoded data removed]",
      "text/plain": [
       "<Figure size 432x288 with 1 Axes>"
      ]
     },
     "metadata": {
      "needs_background": "light"
     },
     "output_type": "display_data"
    }
   ],
   "source": [
    "df['days_employed'] = abs(df['days_employed'])\n",
    "df['days_employed'].hist(bins=100, range=(0,15000))\n",
    "plt.show() "
   ]
  },
  {
   "cell_type": "code",
   "execution_count": 15,
   "id": "ac5c8317-0eb5-40b8-b691-40e8f43fc1f9",
   "metadata": {},
   "outputs": [
    {
     "data": {
      "image/png": "[encoded data removed]",
      "text/plain": [
       "<Figure size 432x288 with 1 Axes>"
      ]
     },
     "metadata": {
      "needs_background": "light"
     },
     "output_type": "display_data"
    }
   ],
   "source": [
    "df.hist('total_income', bins=100)\n",
    "plt.show() "
   ]
  },
  {
   "cell_type": "code",
   "execution_count": 16,
   "id": "e91ea7c1-64c8-40ed-ad6c-332910e7f2de",
   "metadata": {},
   "outputs": [
    {
     "name": "stdout",
     "output_type": "stream",
     "text": [
      "<class 'pandas.core.frame.DataFrame'>\n",
      "RangeIndex: 21525 entries, 0 to 21524\n",
      "Data columns (total 13 columns):\n",
      " #   Column            Non-Null Count  Dtype  \n",
      "---  ------            --------------  -----  \n",
      " 0   children          21525 non-null  int64  \n",
      " 1   days_employed     21525 non-null  float64\n",
      " 2   dob_years         21525 non-null  int64  \n",
      " 3   education         21525 non-null  object \n",
      " 4   education_id      21525 non-null  int64  \n",
      " 5   family_status     21525 non-null  object \n",
      " 6   family_status_id  21525 non-null  int64  \n",
      " 7   gender            21525 non-null  object \n",
      " 8   income_type       21525 non-null  object \n",
      " 9   debt              21525 non-null  int64  \n",
      " 10  total_income      21525 non-null  float64\n",
      " 11  purpose           21525 non-null  object \n",
      " 12  age_category      21525 non-null  object \n",
      "dtypes: float64(2), int64(5), object(6)\n",
      "memory usage: 2.1+ MB\n"
     ]
    }
   ],
   "source": [
    "df.info()"
   ]
  },
  {
   "cell_type": "code",
   "execution_count": 17,
   "id": "b23b61ba-63fa-42ca-b234-8a3ea3a6c7b9",
   "metadata": {},
   "outputs": [
    {
     "data": {
      "text/plain": [
       "(0.0, 11000.0)"
      ]
     },
     "execution_count": 17,
     "metadata": {},
     "output_type": "execute_result"
    },
    {
     "data": {
      "image/png": "[encoded data removed]",
      "text/plain": [
       "<Figure size 432x288 with 1 Axes>"
      ]
     },
     "metadata": {
      "needs_background": "light"
     },
     "output_type": "display_data"
    }
   ],
   "source": [
    "df.boxplot('days_employed')\n",
    "plt.ylim(0, 11000)"
   ]
  },
  {
   "cell_type": "markdown",
   "id": "a785f20d-dfcf-476d-95f4-2fa22f4d7807",
   "metadata": {},
   "source": [
    "Однозначные выбросы на 32000 и 1250"
   ]
  },
  {
   "cell_type": "code",
   "execution_count": 18,
   "id": "c49246b7",
   "metadata": {},
   "outputs": [
    {
     "data": {
      "text/plain": [
       "22    183\n",
       "66    183\n",
       "67    167\n",
       "21    111\n",
       "0     101\n",
       "68     99\n",
       "69     85\n",
       "70     65\n",
       "71     58\n",
       "20     51\n",
       "72     33\n",
       "19     14\n",
       "73      8\n",
       "74      6\n",
       "75      1\n",
       "Name: dob_years, dtype: int64"
      ]
     },
     "execution_count": 18,
     "metadata": {},
     "output_type": "execute_result"
    }
   ],
   "source": [
    "df['dob_years'].value_counts().tail(15)"
   ]
  },
  {
   "cell_type": "markdown",
   "id": "fead543c",
   "metadata": {},
   "source": [
    "Целых 101 новорожденный заемщик. К сожалению неизвестно какой возраст пропущен, \n",
    "\n",
    "но на результаты исследования это не влияет, можно оставить"
   ]
  },
  {
   "cell_type": "code",
   "execution_count": 19,
   "id": "c4ba132b",
   "metadata": {},
   "outputs": [
    {
     "data": {
      "text/plain": [
       " 0     14149\n",
       " 1      4818\n",
       " 2      2055\n",
       " 3       330\n",
       " 20       76\n",
       "-1        47\n",
       " 4        41\n",
       " 5         9\n",
       "Name: children, dtype: int64"
      ]
     },
     "execution_count": 19,
     "metadata": {},
     "output_type": "execute_result"
    }
   ],
   "source": [
    "df['children'].value_counts()"
   ]
  },
  {
   "cell_type": "markdown",
   "id": "e5b10d68",
   "metadata": {},
   "source": [
    "В столбце с количеством детей тоже обнаружена ошибки. Заменим значения на более реальные."
   ]
  },
  {
   "cell_type": "code",
   "execution_count": 20,
   "id": "5ea3b4cd",
   "metadata": {},
   "outputs": [],
   "source": [
    "df['children'] = df['children'].replace(-1,1)\n",
    "df['children'] = df['children'].replace(20,2)"
   ]
  },
  {
   "cell_type": "markdown",
   "id": "a3dced28",
   "metadata": {},
   "source": [
    "Для удобства переведем доход и стаж в целые числа"
   ]
  },
  {
   "cell_type": "code",
   "execution_count": 21,
   "id": "dfeb702f",
   "metadata": {},
   "outputs": [],
   "source": [
    "\n",
    "df['total_income'] = df['total_income'].astype('int')\n",
    "df['days_employed'] = df['days_employed'].astype('int')"
   ]
  },
  {
   "cell_type": "markdown",
   "id": "7f51034f",
   "metadata": {},
   "source": [
    "### Удаление дубликатов. <a id=\"duplicates\"></a>"
   ]
  },
  {
   "cell_type": "markdown",
   "id": "b7ee5474",
   "metadata": {},
   "source": [
    "Я решил начать с неявных дубликатов, чтобы не повторять метод drop_duplicates() два раза.\n",
    "\n",
    "Поэтому для начала найдем все уникальные значения в столбце \"education\"."
   ]
  },
  {
   "cell_type": "code",
   "execution_count": 22,
   "id": "7db3475e",
   "metadata": {},
   "outputs": [
    {
     "data": {
      "text/plain": [
       "array(['ВЫСШЕЕ', 'Высшее', 'НАЧАЛЬНОЕ', 'НЕОКОНЧЕННОЕ ВЫСШЕЕ',\n",
       "       'Начальное', 'Неоконченное высшее', 'СРЕДНЕЕ', 'Среднее',\n",
       "       'УЧЕНАЯ СТЕПЕНЬ', 'Ученая степень', 'высшее', 'начальное',\n",
       "       'неоконченное высшее', 'среднее', 'ученая степень'], dtype=object)"
      ]
     },
     "execution_count": 22,
     "metadata": {},
     "output_type": "execute_result"
    }
   ],
   "source": [
    "df['education'].sort_values().unique()"
   ]
  },
  {
   "cell_type": "markdown",
   "id": "31137f3a",
   "metadata": {},
   "source": [
    "Приведем данные к единообразию, тем самым избавимся от дубликатов."
   ]
  },
  {
   "cell_type": "code",
   "execution_count": 23,
   "id": "3f9a9302",
   "metadata": {},
   "outputs": [
    {
     "data": {
      "text/plain": [
       "array(['высшее', 'начальное', 'неоконченное высшее', 'среднее',\n",
       "       'ученая степень'], dtype=object)"
      ]
     },
     "execution_count": 23,
     "metadata": {},
     "output_type": "execute_result"
    }
   ],
   "source": [
    "df['education'] = df['education'].str.lower()\n",
    "df['education'].sort_values().unique()\n"
   ]
  },
  {
   "cell_type": "code",
   "execution_count": 24,
   "id": "88321dbe",
   "metadata": {},
   "outputs": [
    {
     "data": {
      "text/plain": [
       "71"
      ]
     },
     "execution_count": 24,
     "metadata": {},
     "output_type": "execute_result"
    }
   ],
   "source": [
    "df.duplicated().sum()"
   ]
  },
  {
   "cell_type": "code",
   "execution_count": 25,
   "id": "5ce30de2",
   "metadata": {},
   "outputs": [
    {
     "data": {
      "text/plain": [
       "0"
      ]
     },
     "execution_count": 25,
     "metadata": {},
     "output_type": "execute_result"
    }
   ],
   "source": [
    "df =  df.drop_duplicates().reset_index(drop=True)\n",
    "df.duplicated().sum()"
   ]
  },
  {
   "cell_type": "code",
   "execution_count": 26,
   "id": "b3292a00",
   "metadata": {
    "scrolled": true
   },
   "outputs": [
    {
     "data": {
      "text/plain": [
       "array(['автомобили', 'автомобиль', 'высшее образование',\n",
       "       'дополнительное образование', 'жилье',\n",
       "       'заняться высшим образованием', 'заняться образованием',\n",
       "       'на покупку автомобиля', 'на покупку подержанного автомобиля',\n",
       "       'на покупку своего автомобиля', 'на проведение свадьбы',\n",
       "       'недвижимость', 'образование', 'операции с жильем',\n",
       "       'операции с коммерческой недвижимостью',\n",
       "       'операции с недвижимостью', 'операции со своей недвижимостью',\n",
       "       'покупка жилой недвижимости', 'покупка жилья',\n",
       "       'покупка жилья для сдачи', 'покупка жилья для семьи',\n",
       "       'покупка коммерческой недвижимости', 'покупка недвижимости',\n",
       "       'покупка своего жилья', 'получение высшего образования',\n",
       "       'получение дополнительного образования', 'получение образования',\n",
       "       'приобретение автомобиля', 'профильное образование',\n",
       "       'ремонт жилью', 'свадьба', 'свой автомобиль',\n",
       "       'сделка с автомобилем', 'сделка с подержанным автомобилем',\n",
       "       'строительство жилой недвижимости', 'строительство недвижимости',\n",
       "       'строительство собственной недвижимости', 'сыграть свадьбу'],\n",
       "      dtype=object)"
      ]
     },
     "execution_count": 26,
     "metadata": {},
     "output_type": "execute_result"
    }
   ],
   "source": [
    "#Удаление этих дубликатов удалит 334 уникальных клиента банка, которым мы придали значение медианой зп и стажа\n",
    "df['purpose'].sort_values().unique() "
   ]
  },
  {
   "cell_type": "markdown",
   "id": "8168e02d",
   "metadata": {},
   "source": [
    "**Создание доп.таблиц-словарей для удобства чтения исходного датафрейма**"
   ]
  },
  {
   "cell_type": "code",
   "execution_count": 27,
   "id": "2f22b253",
   "metadata": {},
   "outputs": [
    {
     "name": "stderr",
     "output_type": "stream",
     "text": [
      "C:\\Users\\zapas\\AppData\\Local\\Temp/ipykernel_8036/2915752641.py:3: FutureWarning: In a future version of pandas all arguments of DataFrame.drop except for the argument 'labels' will be keyword-only\n",
      "  df = df.drop(['family_status','education'], 1)\n"
     ]
    }
   ],
   "source": [
    "education = df[['education','education_id']]\n",
    "family_status = df[['family_status','family_status_id']]\n",
    "df = df.drop(['family_status','education'], 1)\n"
   ]
  },
  {
   "cell_type": "code",
   "execution_count": 28,
   "id": "e2c1f0b8",
   "metadata": {},
   "outputs": [
    {
     "name": "stderr",
     "output_type": "stream",
     "text": [
      "C:\\Users\\zapas\\AppData\\Local\\Temp/ipykernel_8036/2996863221.py:1: FutureWarning: In a future version of pandas all arguments of DataFrame.drop except for the argument 'labels' will be keyword-only\n",
      "  df = df.drop(['days_employed'], 1)\n"
     ]
    }
   ],
   "source": [
    "df = df.drop(['days_employed'], 1)"
   ]
  },
  {
   "cell_type": "markdown",
   "id": "b4b1362c",
   "metadata": {},
   "source": [
    "###  Категоризация данных. <a id=\"category\"></a>"
   ]
  },
  {
   "cell_type": "markdown",
   "id": "9d6fb378",
   "metadata": {},
   "source": [
    "#### Категоризация целей кредита."
   ]
  },
  {
   "cell_type": "code",
   "execution_count": 29,
   "id": "41b921f7",
   "metadata": {},
   "outputs": [
    {
     "name": "stderr",
     "output_type": "stream",
     "text": [
      "C:\\Users\\zapas\\AppData\\Local\\Temp/ipykernel_8036/2130051844.py:15: FutureWarning: In a future version of pandas all arguments of DataFrame.drop except for the argument 'labels' will be keyword-only\n",
      "  df = df.drop(['purpose'], 1)\n"
     ]
    }
   ],
   "source": [
    "def purpose_category(purpose):\n",
    "    if 'авто' in purpose:\n",
    "        return 'операции с автомобилем'\n",
    "    elif 'жил' in purpose or 'движ' in purpose:\n",
    "        return 'операции с недвижимостью'\n",
    "    elif 'свадьб' in purpose:\n",
    "        return 'проведение свадьбы'\n",
    "    elif 'образован' in purpose:\n",
    "        return 'получение образования'\n",
    "    else:\n",
    "        return purpose\n",
    "    \n",
    "\n",
    "df['purpose_category'] = df['purpose'].apply(purpose_category)\n",
    "df = df.drop(['purpose'], 1)\n",
    "#df['purpose_category'].unique()"
   ]
  },
  {
   "cell_type": "code",
   "execution_count": 30,
   "id": "d542321b",
   "metadata": {},
   "outputs": [
    {
     "data": {
      "text/plain": [
       "21454"
      ]
     },
     "execution_count": 30,
     "metadata": {},
     "output_type": "execute_result"
    }
   ],
   "source": [
    "df['purpose_category'].count() #Убедимся, что не появилось значений None"
   ]
  },
  {
   "cell_type": "markdown",
   "id": "e4f702d8",
   "metadata": {},
   "source": [
    "#### Категоризация дохода."
   ]
  },
  {
   "cell_type": "code",
   "execution_count": 31,
   "id": "772ec025",
   "metadata": {},
   "outputs": [
    {
     "data": {
      "text/plain": [
       "21454"
      ]
     },
     "execution_count": 31,
     "metadata": {},
     "output_type": "execute_result"
    }
   ],
   "source": [
    "def total_income_category(total_income):\n",
    "    if total_income <= 30000:\n",
    "        return 'E'\n",
    "    elif total_income <= 50000:\n",
    "        return 'D'\n",
    "    elif total_income <= 200000:\n",
    "        return 'C'\n",
    "    elif total_income <= 1000000:\n",
    "        return 'B'\n",
    "    else:\n",
    "        return 'A'\n",
    "\n",
    "df['total_income_category'] = df['total_income'].apply(total_income_category) \n",
    "#Убедимся, что не появилось значений None\n",
    "df['total_income_category'].count()"
   ]
  },
  {
   "cell_type": "code",
   "execution_count": 32,
   "id": "e3688bd7",
   "metadata": {},
   "outputs": [
    {
     "data": {
      "text/html": [
       "<div>\n",
       "<style scoped>\n",
       "    .dataframe tbody tr th:only-of-type {\n",
       "        vertical-align: middle;\n",
       "    }\n",
       "\n",
       "    .dataframe tbody tr th {\n",
       "        vertical-align: top;\n",
       "    }\n",
       "\n",
       "    .dataframe thead th {\n",
       "        text-align: right;\n",
       "    }\n",
       "</style>\n",
       "<table border=\"1\" class=\"dataframe\">\n",
       "  <thead>\n",
       "    <tr style=\"text-align: right;\">\n",
       "      <th></th>\n",
       "      <th>children</th>\n",
       "      <th>dob_years</th>\n",
       "      <th>education_id</th>\n",
       "      <th>family_status_id</th>\n",
       "      <th>gender</th>\n",
       "      <th>income_type</th>\n",
       "      <th>debt</th>\n",
       "      <th>total_income</th>\n",
       "      <th>age_category</th>\n",
       "      <th>purpose_category</th>\n",
       "      <th>total_income_category</th>\n",
       "    </tr>\n",
       "  </thead>\n",
       "  <tbody>\n",
       "    <tr>\n",
       "      <th>0</th>\n",
       "      <td>1</td>\n",
       "      <td>42</td>\n",
       "      <td>0</td>\n",
       "      <td>0</td>\n",
       "      <td>F</td>\n",
       "      <td>сотрудник</td>\n",
       "      <td>0</td>\n",
       "      <td>253875</td>\n",
       "      <td>средний</td>\n",
       "      <td>операции с недвижимостью</td>\n",
       "      <td>B</td>\n",
       "    </tr>\n",
       "    <tr>\n",
       "      <th>1</th>\n",
       "      <td>1</td>\n",
       "      <td>36</td>\n",
       "      <td>1</td>\n",
       "      <td>0</td>\n",
       "      <td>F</td>\n",
       "      <td>сотрудник</td>\n",
       "      <td>0</td>\n",
       "      <td>112080</td>\n",
       "      <td>средний</td>\n",
       "      <td>операции с автомобилем</td>\n",
       "      <td>C</td>\n",
       "    </tr>\n",
       "    <tr>\n",
       "      <th>2</th>\n",
       "      <td>0</td>\n",
       "      <td>33</td>\n",
       "      <td>1</td>\n",
       "      <td>0</td>\n",
       "      <td>M</td>\n",
       "      <td>сотрудник</td>\n",
       "      <td>0</td>\n",
       "      <td>145885</td>\n",
       "      <td>средний</td>\n",
       "      <td>операции с недвижимостью</td>\n",
       "      <td>C</td>\n",
       "    </tr>\n",
       "    <tr>\n",
       "      <th>3</th>\n",
       "      <td>3</td>\n",
       "      <td>32</td>\n",
       "      <td>1</td>\n",
       "      <td>0</td>\n",
       "      <td>M</td>\n",
       "      <td>сотрудник</td>\n",
       "      <td>0</td>\n",
       "      <td>267628</td>\n",
       "      <td>средний</td>\n",
       "      <td>получение образования</td>\n",
       "      <td>B</td>\n",
       "    </tr>\n",
       "    <tr>\n",
       "      <th>4</th>\n",
       "      <td>0</td>\n",
       "      <td>53</td>\n",
       "      <td>1</td>\n",
       "      <td>1</td>\n",
       "      <td>F</td>\n",
       "      <td>пенсионер</td>\n",
       "      <td>0</td>\n",
       "      <td>158616</td>\n",
       "      <td>старый</td>\n",
       "      <td>проведение свадьбы</td>\n",
       "      <td>C</td>\n",
       "    </tr>\n",
       "    <tr>\n",
       "      <th>5</th>\n",
       "      <td>0</td>\n",
       "      <td>27</td>\n",
       "      <td>0</td>\n",
       "      <td>1</td>\n",
       "      <td>M</td>\n",
       "      <td>компаньон</td>\n",
       "      <td>0</td>\n",
       "      <td>255763</td>\n",
       "      <td>средний</td>\n",
       "      <td>операции с недвижимостью</td>\n",
       "      <td>B</td>\n",
       "    </tr>\n",
       "    <tr>\n",
       "      <th>6</th>\n",
       "      <td>0</td>\n",
       "      <td>43</td>\n",
       "      <td>0</td>\n",
       "      <td>0</td>\n",
       "      <td>F</td>\n",
       "      <td>компаньон</td>\n",
       "      <td>0</td>\n",
       "      <td>240525</td>\n",
       "      <td>средний</td>\n",
       "      <td>операции с недвижимостью</td>\n",
       "      <td>B</td>\n",
       "    </tr>\n",
       "    <tr>\n",
       "      <th>7</th>\n",
       "      <td>0</td>\n",
       "      <td>50</td>\n",
       "      <td>1</td>\n",
       "      <td>0</td>\n",
       "      <td>M</td>\n",
       "      <td>сотрудник</td>\n",
       "      <td>0</td>\n",
       "      <td>135823</td>\n",
       "      <td>средний</td>\n",
       "      <td>получение образования</td>\n",
       "      <td>C</td>\n",
       "    </tr>\n",
       "    <tr>\n",
       "      <th>8</th>\n",
       "      <td>2</td>\n",
       "      <td>35</td>\n",
       "      <td>0</td>\n",
       "      <td>1</td>\n",
       "      <td>F</td>\n",
       "      <td>сотрудник</td>\n",
       "      <td>0</td>\n",
       "      <td>95856</td>\n",
       "      <td>средний</td>\n",
       "      <td>проведение свадьбы</td>\n",
       "      <td>C</td>\n",
       "    </tr>\n",
       "    <tr>\n",
       "      <th>9</th>\n",
       "      <td>0</td>\n",
       "      <td>41</td>\n",
       "      <td>1</td>\n",
       "      <td>0</td>\n",
       "      <td>M</td>\n",
       "      <td>сотрудник</td>\n",
       "      <td>0</td>\n",
       "      <td>144425</td>\n",
       "      <td>средний</td>\n",
       "      <td>операции с недвижимостью</td>\n",
       "      <td>C</td>\n",
       "    </tr>\n",
       "    <tr>\n",
       "      <th>10</th>\n",
       "      <td>2</td>\n",
       "      <td>36</td>\n",
       "      <td>0</td>\n",
       "      <td>0</td>\n",
       "      <td>M</td>\n",
       "      <td>компаньон</td>\n",
       "      <td>0</td>\n",
       "      <td>113943</td>\n",
       "      <td>средний</td>\n",
       "      <td>операции с недвижимостью</td>\n",
       "      <td>C</td>\n",
       "    </tr>\n",
       "    <tr>\n",
       "      <th>11</th>\n",
       "      <td>0</td>\n",
       "      <td>40</td>\n",
       "      <td>1</td>\n",
       "      <td>0</td>\n",
       "      <td>F</td>\n",
       "      <td>сотрудник</td>\n",
       "      <td>0</td>\n",
       "      <td>77069</td>\n",
       "      <td>средний</td>\n",
       "      <td>операции с недвижимостью</td>\n",
       "      <td>C</td>\n",
       "    </tr>\n",
       "    <tr>\n",
       "      <th>12</th>\n",
       "      <td>0</td>\n",
       "      <td>65</td>\n",
       "      <td>1</td>\n",
       "      <td>1</td>\n",
       "      <td>M</td>\n",
       "      <td>пенсионер</td>\n",
       "      <td>0</td>\n",
       "      <td>118514</td>\n",
       "      <td>старый</td>\n",
       "      <td>проведение свадьбы</td>\n",
       "      <td>C</td>\n",
       "    </tr>\n",
       "    <tr>\n",
       "      <th>13</th>\n",
       "      <td>0</td>\n",
       "      <td>54</td>\n",
       "      <td>2</td>\n",
       "      <td>0</td>\n",
       "      <td>F</td>\n",
       "      <td>сотрудник</td>\n",
       "      <td>0</td>\n",
       "      <td>130458</td>\n",
       "      <td>старый</td>\n",
       "      <td>операции с автомобилем</td>\n",
       "      <td>C</td>\n",
       "    </tr>\n",
       "    <tr>\n",
       "      <th>14</th>\n",
       "      <td>0</td>\n",
       "      <td>56</td>\n",
       "      <td>0</td>\n",
       "      <td>1</td>\n",
       "      <td>F</td>\n",
       "      <td>компаньон</td>\n",
       "      <td>1</td>\n",
       "      <td>165127</td>\n",
       "      <td>старый</td>\n",
       "      <td>операции с недвижимостью</td>\n",
       "      <td>C</td>\n",
       "    </tr>\n",
       "  </tbody>\n",
       "</table>\n",
       "</div>"
      ],
      "text/plain": [
       "    children  dob_years  education_id  family_status_id gender income_type  \\\n",
       "0          1         42             0                 0      F   сотрудник   \n",
       "1          1         36             1                 0      F   сотрудник   \n",
       "2          0         33             1                 0      M   сотрудник   \n",
       "3          3         32             1                 0      M   сотрудник   \n",
       "4          0         53             1                 1      F   пенсионер   \n",
       "5          0         27             0                 1      M   компаньон   \n",
       "6          0         43             0                 0      F   компаньон   \n",
       "7          0         50             1                 0      M   сотрудник   \n",
       "8          2         35             0                 1      F   сотрудник   \n",
       "9          0         41             1                 0      M   сотрудник   \n",
       "10         2         36             0                 0      M   компаньон   \n",
       "11         0         40             1                 0      F   сотрудник   \n",
       "12         0         65             1                 1      M   пенсионер   \n",
       "13         0         54             2                 0      F   сотрудник   \n",
       "14         0         56             0                 1      F   компаньон   \n",
       "\n",
       "    debt  total_income age_category          purpose_category  \\\n",
       "0      0        253875      средний  операции с недвижимостью   \n",
       "1      0        112080      средний    операции с автомобилем   \n",
       "2      0        145885      средний  операции с недвижимостью   \n",
       "3      0        267628      средний     получение образования   \n",
       "4      0        158616       старый        проведение свадьбы   \n",
       "5      0        255763      средний  операции с недвижимостью   \n",
       "6      0        240525      средний  операции с недвижимостью   \n",
       "7      0        135823      средний     получение образования   \n",
       "8      0         95856      средний        проведение свадьбы   \n",
       "9      0        144425      средний  операции с недвижимостью   \n",
       "10     0        113943      средний  операции с недвижимостью   \n",
       "11     0         77069      средний  операции с недвижимостью   \n",
       "12     0        118514       старый        проведение свадьбы   \n",
       "13     0        130458       старый    операции с автомобилем   \n",
       "14     1        165127       старый  операции с недвижимостью   \n",
       "\n",
       "   total_income_category  \n",
       "0                      B  \n",
       "1                      C  \n",
       "2                      C  \n",
       "3                      B  \n",
       "4                      C  \n",
       "5                      B  \n",
       "6                      B  \n",
       "7                      C  \n",
       "8                      C  \n",
       "9                      C  \n",
       "10                     C  \n",
       "11                     C  \n",
       "12                     C  \n",
       "13                     C  \n",
       "14                     C  "
      ]
     },
     "execution_count": 32,
     "metadata": {},
     "output_type": "execute_result"
    }
   ],
   "source": [
    "df.head(15)"
   ]
  },
  {
   "cell_type": "markdown",
   "id": "f13c227b",
   "metadata": {},
   "source": [
    "## Ответы на вопросы. <a id=\"analisys\"></a>"
   ]
  },
  {
   "cell_type": "markdown",
   "id": "7001f1bd",
   "metadata": {},
   "source": [
    "1. [Зависимость между количеством детей и возвратом кредита в срок](#child)\n",
    "2. [Зависимость между семейным положением и возвратом кредита в срок](#status)\n",
    "3. [Зависимость между уровнем дохода и возвратом кредита в срок](#income)\n",
    "4. [Влияние цели кредита на его возврат в срок](#purpose)\n",
    "5. [Зависимость возврата кредита в срок от семейного полежения и количества детей](#bonus)\n",
    "6. [Зависимость возврата кредита в срок от семейного полежения и цели кредита](#bonus_2)"
   ]
  },
  {
   "cell_type": "markdown",
   "id": "1b966f95",
   "metadata": {},
   "source": [
    "### Зависимость между количеством детей и возвратом кредита в срок <a id=\"child\"></a>"
   ]
  },
  {
   "cell_type": "code",
   "execution_count": 33,
   "id": "432c3308",
   "metadata": {},
   "outputs": [
    {
     "data": {
      "text/html": [
       "<div>\n",
       "<style scoped>\n",
       "    .dataframe tbody tr th:only-of-type {\n",
       "        vertical-align: middle;\n",
       "    }\n",
       "\n",
       "    .dataframe tbody tr th {\n",
       "        vertical-align: top;\n",
       "    }\n",
       "\n",
       "    .dataframe thead th {\n",
       "        text-align: right;\n",
       "    }\n",
       "</style>\n",
       "<table border=\"1\" class=\"dataframe\">\n",
       "  <thead>\n",
       "    <tr style=\"text-align: right;\">\n",
       "      <th></th>\n",
       "      <th>count</th>\n",
       "      <th>my_mean</th>\n",
       "      <th>sum</th>\n",
       "    </tr>\n",
       "    <tr>\n",
       "      <th>children</th>\n",
       "      <th></th>\n",
       "      <th></th>\n",
       "      <th></th>\n",
       "    </tr>\n",
       "  </thead>\n",
       "  <tbody>\n",
       "    <tr>\n",
       "      <th>5</th>\n",
       "      <td>9</td>\n",
       "      <td>0.00%</td>\n",
       "      <td>0</td>\n",
       "    </tr>\n",
       "    <tr>\n",
       "      <th>0</th>\n",
       "      <td>14091</td>\n",
       "      <td>7.54%</td>\n",
       "      <td>1063</td>\n",
       "    </tr>\n",
       "    <tr>\n",
       "      <th>3</th>\n",
       "      <td>330</td>\n",
       "      <td>8.18%</td>\n",
       "      <td>27</td>\n",
       "    </tr>\n",
       "    <tr>\n",
       "      <th>1</th>\n",
       "      <td>4855</td>\n",
       "      <td>9.17%</td>\n",
       "      <td>445</td>\n",
       "    </tr>\n",
       "    <tr>\n",
       "      <th>2</th>\n",
       "      <td>2128</td>\n",
       "      <td>9.49%</td>\n",
       "      <td>202</td>\n",
       "    </tr>\n",
       "    <tr>\n",
       "      <th>4</th>\n",
       "      <td>41</td>\n",
       "      <td>9.76%</td>\n",
       "      <td>4</td>\n",
       "    </tr>\n",
       "  </tbody>\n",
       "</table>\n",
       "</div>"
      ],
      "text/plain": [
       "          count my_mean   sum\n",
       "children                     \n",
       "5             9  0.00%      0\n",
       "0         14091  7.54%   1063\n",
       "3           330  8.18%     27\n",
       "1          4855  9.17%    445\n",
       "2          2128  9.49%    202\n",
       "4            41  9.76%      4"
      ]
     },
     "execution_count": 33,
     "metadata": {},
     "output_type": "execute_result"
    }
   ],
   "source": [
    "def my_mean(x): return '{:.2%} '.format(x.mean())\n",
    "df.groupby('children')['debt'].agg(['count',my_mean,'sum']).sort_values('my_mean')"
   ]
  },
  {
   "cell_type": "code",
   "execution_count": 34,
   "id": "7a00f45a",
   "metadata": {},
   "outputs": [
    {
     "data": {
      "image/png": "[encoded data removed]",
      "text/plain": [
       "<Figure size 432x288 with 1 Axes>"
      ]
     },
     "metadata": {
      "needs_background": "light"
     },
     "output_type": "display_data"
    }
   ],
   "source": [
    "sns.barplot(x=df['children'],y=df['debt'])\n",
    "plt.show() "
   ]
  },
  {
   "cell_type": "markdown",
   "id": "9b448e1b",
   "metadata": {},
   "source": [
    "**Вывод:**  Как видно из таблицы и гистограмы чаще всех просрачивают выплату кредита люди с 4мя детьми, а реже всех с 5ю. \n",
    "В то же время заметно, что многодетные родители берут кредит реже.\n",
    "\n",
    "Среди заемщиков наблюдается рост задолжностей с увеличением количества детей, однако родители 3х детей выплачивают кредит вовремя чаще, чем родители 1го ребенка. На основании этих данных сложно сделать выводы, так как в контрольную группу попало мало семей с 4мя и 5ью детьми"
   ]
  },
  {
   "cell_type": "code",
   "execution_count": 35,
   "id": "6f5af41e",
   "metadata": {},
   "outputs": [
    {
     "data": {
      "text/html": [
       "<div>\n",
       "<style scoped>\n",
       "    .dataframe tbody tr th:only-of-type {\n",
       "        vertical-align: middle;\n",
       "    }\n",
       "\n",
       "    .dataframe tbody tr th {\n",
       "        vertical-align: top;\n",
       "    }\n",
       "\n",
       "    .dataframe thead th {\n",
       "        text-align: right;\n",
       "    }\n",
       "</style>\n",
       "<table border=\"1\" class=\"dataframe\">\n",
       "  <thead>\n",
       "    <tr style=\"text-align: right;\">\n",
       "      <th></th>\n",
       "      <th>count</th>\n",
       "      <th>sum</th>\n",
       "      <th>my_mean</th>\n",
       "    </tr>\n",
       "    <tr>\n",
       "      <th>children</th>\n",
       "      <th></th>\n",
       "      <th></th>\n",
       "      <th></th>\n",
       "    </tr>\n",
       "  </thead>\n",
       "  <tbody>\n",
       "    <tr>\n",
       "      <th>0</th>\n",
       "      <td>14091</td>\n",
       "      <td>1063</td>\n",
       "      <td>7.54%</td>\n",
       "    </tr>\n",
       "    <tr>\n",
       "      <th>1</th>\n",
       "      <td>4855</td>\n",
       "      <td>445</td>\n",
       "      <td>9.17%</td>\n",
       "    </tr>\n",
       "    <tr>\n",
       "      <th>2</th>\n",
       "      <td>2128</td>\n",
       "      <td>202</td>\n",
       "      <td>9.49%</td>\n",
       "    </tr>\n",
       "    <tr>\n",
       "      <th>3</th>\n",
       "      <td>330</td>\n",
       "      <td>27</td>\n",
       "      <td>8.18%</td>\n",
       "    </tr>\n",
       "    <tr>\n",
       "      <th>4</th>\n",
       "      <td>41</td>\n",
       "      <td>4</td>\n",
       "      <td>9.76%</td>\n",
       "    </tr>\n",
       "    <tr>\n",
       "      <th>5</th>\n",
       "      <td>9</td>\n",
       "      <td>0</td>\n",
       "      <td>0.00%</td>\n",
       "    </tr>\n",
       "  </tbody>\n",
       "</table>\n",
       "</div>"
      ],
      "text/plain": [
       "          count   sum my_mean\n",
       "children                     \n",
       "0         14091  1063  7.54% \n",
       "1          4855   445  9.17% \n",
       "2          2128   202  9.49% \n",
       "3           330    27  8.18% \n",
       "4            41     4  9.76% \n",
       "5             9     0  0.00% "
      ]
     },
     "execution_count": 35,
     "metadata": {},
     "output_type": "execute_result"
    }
   ],
   "source": [
    "# КОД РЕВЬЮЕРА\n",
    "\n",
    "def my_mean(x): return '{:.2%} '.format(x.mean())\n",
    "\n",
    "df.groupby('children')['debt'].agg(['count', 'sum', my_mean])"
   ]
  },
  {
   "cell_type": "markdown",
   "id": "fce12009",
   "metadata": {},
   "source": [
    "### Зависимость между семейным положением и возвратом кредита в срок <a id=\"status\"></a>"
   ]
  },
  {
   "cell_type": "code",
   "execution_count": 36,
   "id": "d0b95b7c",
   "metadata": {},
   "outputs": [
    {
     "data": {
      "text/html": [
       "<div>\n",
       "<style scoped>\n",
       "    .dataframe tbody tr th:only-of-type {\n",
       "        vertical-align: middle;\n",
       "    }\n",
       "\n",
       "    .dataframe tbody tr th {\n",
       "        vertical-align: top;\n",
       "    }\n",
       "\n",
       "    .dataframe thead th {\n",
       "        text-align: right;\n",
       "    }\n",
       "</style>\n",
       "<table border=\"1\" class=\"dataframe\">\n",
       "  <thead>\n",
       "    <tr style=\"text-align: right;\">\n",
       "      <th></th>\n",
       "      <th>count</th>\n",
       "      <th>my_mean</th>\n",
       "      <th>sum</th>\n",
       "    </tr>\n",
       "    <tr>\n",
       "      <th>family_status_id</th>\n",
       "      <th></th>\n",
       "      <th></th>\n",
       "      <th></th>\n",
       "    </tr>\n",
       "  </thead>\n",
       "  <tbody>\n",
       "    <tr>\n",
       "      <th>2</th>\n",
       "      <td>959</td>\n",
       "      <td>6.57%</td>\n",
       "      <td>63</td>\n",
       "    </tr>\n",
       "    <tr>\n",
       "      <th>3</th>\n",
       "      <td>1195</td>\n",
       "      <td>7.11%</td>\n",
       "      <td>85</td>\n",
       "    </tr>\n",
       "    <tr>\n",
       "      <th>0</th>\n",
       "      <td>12339</td>\n",
       "      <td>7.55%</td>\n",
       "      <td>931</td>\n",
       "    </tr>\n",
       "    <tr>\n",
       "      <th>1</th>\n",
       "      <td>4151</td>\n",
       "      <td>9.35%</td>\n",
       "      <td>388</td>\n",
       "    </tr>\n",
       "    <tr>\n",
       "      <th>4</th>\n",
       "      <td>2810</td>\n",
       "      <td>9.75%</td>\n",
       "      <td>274</td>\n",
       "    </tr>\n",
       "  </tbody>\n",
       "</table>\n",
       "</div>"
      ],
      "text/plain": [
       "                  count my_mean  sum\n",
       "family_status_id                    \n",
       "2                   959  6.57%    63\n",
       "3                  1195  7.11%    85\n",
       "0                 12339  7.55%   931\n",
       "1                  4151  9.35%   388\n",
       "4                  2810  9.75%   274"
      ]
     },
     "execution_count": 36,
     "metadata": {},
     "output_type": "execute_result"
    }
   ],
   "source": [
    "df.groupby(['family_status_id'])['debt'].agg(['count',my_mean,'sum']).sort_values('my_mean')"
   ]
  },
  {
   "cell_type": "code",
   "execution_count": 37,
   "id": "2ffa2f15",
   "metadata": {},
   "outputs": [
    {
     "data": {
      "image/png": "[encoded data removed]",
      "text/plain": [
       "<Figure size 432x288 with 1 Axes>"
      ]
     },
     "metadata": {
      "needs_background": "light"
     },
     "output_type": "display_data"
    }
   ],
   "source": [
    "sns.barplot(x=df['family_status_id'],y=df['debt'])\n",
    "plt.show() "
   ]
  },
  {
   "cell_type": "code",
   "execution_count": 38,
   "id": "d21c8ec6",
   "metadata": {},
   "outputs": [
    {
     "data": {
      "text/html": [
       "<div>\n",
       "<style scoped>\n",
       "    .dataframe tbody tr th:only-of-type {\n",
       "        vertical-align: middle;\n",
       "    }\n",
       "\n",
       "    .dataframe tbody tr th {\n",
       "        vertical-align: top;\n",
       "    }\n",
       "\n",
       "    .dataframe thead th {\n",
       "        text-align: right;\n",
       "    }\n",
       "</style>\n",
       "<table border=\"1\" class=\"dataframe\">\n",
       "  <thead>\n",
       "    <tr style=\"text-align: right;\">\n",
       "      <th></th>\n",
       "      <th>family_status</th>\n",
       "      <th>family_status_id</th>\n",
       "    </tr>\n",
       "  </thead>\n",
       "  <tbody>\n",
       "    <tr>\n",
       "      <th>0</th>\n",
       "      <td>женат / замужем</td>\n",
       "      <td>0</td>\n",
       "    </tr>\n",
       "  </tbody>\n",
       "</table>\n",
       "</div>"
      ],
      "text/plain": [
       "     family_status  family_status_id\n",
       "0  женат / замужем                 0"
      ]
     },
     "metadata": {},
     "output_type": "display_data"
    },
    {
     "data": {
      "text/html": [
       "<div>\n",
       "<style scoped>\n",
       "    .dataframe tbody tr th:only-of-type {\n",
       "        vertical-align: middle;\n",
       "    }\n",
       "\n",
       "    .dataframe tbody tr th {\n",
       "        vertical-align: top;\n",
       "    }\n",
       "\n",
       "    .dataframe thead th {\n",
       "        text-align: right;\n",
       "    }\n",
       "</style>\n",
       "<table border=\"1\" class=\"dataframe\">\n",
       "  <thead>\n",
       "    <tr style=\"text-align: right;\">\n",
       "      <th></th>\n",
       "      <th>family_status</th>\n",
       "      <th>family_status_id</th>\n",
       "    </tr>\n",
       "  </thead>\n",
       "  <tbody>\n",
       "    <tr>\n",
       "      <th>4</th>\n",
       "      <td>гражданский брак</td>\n",
       "      <td>1</td>\n",
       "    </tr>\n",
       "  </tbody>\n",
       "</table>\n",
       "</div>"
      ],
      "text/plain": [
       "      family_status  family_status_id\n",
       "4  гражданский брак                 1"
      ]
     },
     "metadata": {},
     "output_type": "display_data"
    },
    {
     "data": {
      "text/html": [
       "<div>\n",
       "<style scoped>\n",
       "    .dataframe tbody tr th:only-of-type {\n",
       "        vertical-align: middle;\n",
       "    }\n",
       "\n",
       "    .dataframe tbody tr th {\n",
       "        vertical-align: top;\n",
       "    }\n",
       "\n",
       "    .dataframe thead th {\n",
       "        text-align: right;\n",
       "    }\n",
       "</style>\n",
       "<table border=\"1\" class=\"dataframe\">\n",
       "  <thead>\n",
       "    <tr style=\"text-align: right;\">\n",
       "      <th></th>\n",
       "      <th>family_status</th>\n",
       "      <th>family_status_id</th>\n",
       "    </tr>\n",
       "  </thead>\n",
       "  <tbody>\n",
       "    <tr>\n",
       "      <th>18</th>\n",
       "      <td>вдовец / вдова</td>\n",
       "      <td>2</td>\n",
       "    </tr>\n",
       "  </tbody>\n",
       "</table>\n",
       "</div>"
      ],
      "text/plain": [
       "     family_status  family_status_id\n",
       "18  вдовец / вдова                 2"
      ]
     },
     "metadata": {},
     "output_type": "display_data"
    },
    {
     "data": {
      "text/html": [
       "<div>\n",
       "<style scoped>\n",
       "    .dataframe tbody tr th:only-of-type {\n",
       "        vertical-align: middle;\n",
       "    }\n",
       "\n",
       "    .dataframe tbody tr th {\n",
       "        vertical-align: top;\n",
       "    }\n",
       "\n",
       "    .dataframe thead th {\n",
       "        text-align: right;\n",
       "    }\n",
       "</style>\n",
       "<table border=\"1\" class=\"dataframe\">\n",
       "  <thead>\n",
       "    <tr style=\"text-align: right;\">\n",
       "      <th></th>\n",
       "      <th>family_status</th>\n",
       "      <th>family_status_id</th>\n",
       "    </tr>\n",
       "  </thead>\n",
       "  <tbody>\n",
       "    <tr>\n",
       "      <th>19</th>\n",
       "      <td>в разводе</td>\n",
       "      <td>3</td>\n",
       "    </tr>\n",
       "  </tbody>\n",
       "</table>\n",
       "</div>"
      ],
      "text/plain": [
       "   family_status  family_status_id\n",
       "19     в разводе                 3"
      ]
     },
     "metadata": {},
     "output_type": "display_data"
    },
    {
     "data": {
      "text/html": [
       "<div>\n",
       "<style scoped>\n",
       "    .dataframe tbody tr th:only-of-type {\n",
       "        vertical-align: middle;\n",
       "    }\n",
       "\n",
       "    .dataframe tbody tr th {\n",
       "        vertical-align: top;\n",
       "    }\n",
       "\n",
       "    .dataframe thead th {\n",
       "        text-align: right;\n",
       "    }\n",
       "</style>\n",
       "<table border=\"1\" class=\"dataframe\">\n",
       "  <thead>\n",
       "    <tr style=\"text-align: right;\">\n",
       "      <th></th>\n",
       "      <th>family_status</th>\n",
       "      <th>family_status_id</th>\n",
       "    </tr>\n",
       "  </thead>\n",
       "  <tbody>\n",
       "    <tr>\n",
       "      <th>24</th>\n",
       "      <td>Не женат / не замужем</td>\n",
       "      <td>4</td>\n",
       "    </tr>\n",
       "  </tbody>\n",
       "</table>\n",
       "</div>"
      ],
      "text/plain": [
       "            family_status  family_status_id\n",
       "24  Не женат / не замужем                 4"
      ]
     },
     "metadata": {},
     "output_type": "display_data"
    }
   ],
   "source": [
    "display(family_status[family_status['family_status_id'] == 0].head(1))\n",
    "display(family_status[family_status['family_status_id'] == 1].head(1))\n",
    "display(family_status[family_status['family_status_id'] == 2].head(1))\n",
    "display(family_status[family_status['family_status_id'] == 3].head(1))\n",
    "display(family_status[family_status['family_status_id'] == 4].head(1))"
   ]
  },
  {
   "cell_type": "markdown",
   "id": "4c29258c",
   "metadata": {},
   "source": [
    "**Вывод:** из гистограммы видно, что чаще других выплачивают кредит вовремя люди, которые уже бывали в браке, в то время, как неженатые и живущие в гражданском браке люди не выплачивают кредит вовремя в 10% случаев. "
   ]
  },
  {
   "cell_type": "markdown",
   "id": "80eb31d4",
   "metadata": {},
   "source": [
    "### Зависимость между уровнем дохода и возвратом кредита в срок <a id=\"income\"></a>"
   ]
  },
  {
   "cell_type": "code",
   "execution_count": 39,
   "id": "d0162a0a",
   "metadata": {
    "tags": []
   },
   "outputs": [
    {
     "data": {
      "text/html": [
       "<div>\n",
       "<style scoped>\n",
       "    .dataframe tbody tr th:only-of-type {\n",
       "        vertical-align: middle;\n",
       "    }\n",
       "\n",
       "    .dataframe tbody tr th {\n",
       "        vertical-align: top;\n",
       "    }\n",
       "\n",
       "    .dataframe thead th {\n",
       "        text-align: right;\n",
       "    }\n",
       "</style>\n",
       "<table border=\"1\" class=\"dataframe\">\n",
       "  <thead>\n",
       "    <tr style=\"text-align: right;\">\n",
       "      <th></th>\n",
       "      <th>count</th>\n",
       "      <th>my_mean</th>\n",
       "      <th>sum</th>\n",
       "    </tr>\n",
       "    <tr>\n",
       "      <th>total_income_category</th>\n",
       "      <th></th>\n",
       "      <th></th>\n",
       "      <th></th>\n",
       "    </tr>\n",
       "  </thead>\n",
       "  <tbody>\n",
       "    <tr>\n",
       "      <th>D</th>\n",
       "      <td>350</td>\n",
       "      <td>6.00%</td>\n",
       "      <td>21</td>\n",
       "    </tr>\n",
       "    <tr>\n",
       "      <th>B</th>\n",
       "      <td>5042</td>\n",
       "      <td>7.06%</td>\n",
       "      <td>356</td>\n",
       "    </tr>\n",
       "    <tr>\n",
       "      <th>A</th>\n",
       "      <td>25</td>\n",
       "      <td>8.00%</td>\n",
       "      <td>2</td>\n",
       "    </tr>\n",
       "    <tr>\n",
       "      <th>C</th>\n",
       "      <td>16015</td>\n",
       "      <td>8.49%</td>\n",
       "      <td>1360</td>\n",
       "    </tr>\n",
       "    <tr>\n",
       "      <th>E</th>\n",
       "      <td>22</td>\n",
       "      <td>9.09%</td>\n",
       "      <td>2</td>\n",
       "    </tr>\n",
       "  </tbody>\n",
       "</table>\n",
       "</div>"
      ],
      "text/plain": [
       "                       count my_mean   sum\n",
       "total_income_category                     \n",
       "D                        350  6.00%     21\n",
       "B                       5042  7.06%    356\n",
       "A                         25  8.00%      2\n",
       "C                      16015  8.49%   1360\n",
       "E                         22  9.09%      2"
      ]
     },
     "execution_count": 39,
     "metadata": {},
     "output_type": "execute_result"
    }
   ],
   "source": [
    "df.groupby('total_income_category')['debt'].agg(['count',my_mean,'sum']).sort_values('my_mean')"
   ]
  },
  {
   "cell_type": "code",
   "execution_count": 40,
   "id": "0cfcca99",
   "metadata": {},
   "outputs": [
    {
     "data": {
      "image/png": "[encoded data removed]",
      "text/plain": [
       "<Figure size 432x288 with 1 Axes>"
      ]
     },
     "metadata": {
      "needs_background": "light"
     },
     "output_type": "display_data"
    }
   ],
   "source": [
    "sns.barplot(x=df['total_income_category'],y=df['debt'])\n",
    "plt.show() "
   ]
  },
  {
   "cell_type": "markdown",
   "id": "1b0cd032",
   "metadata": {},
   "source": [
    "**Вывод:** размер дохода никак не влияет на своевременное погашение кредита."
   ]
  },
  {
   "cell_type": "markdown",
   "id": "2418ffef",
   "metadata": {},
   "source": [
    "### Влияние цели кредита на его возврат в срок <a id=\"purpose\"></a>"
   ]
  },
  {
   "cell_type": "code",
   "execution_count": 41,
   "id": "f87c1c2f",
   "metadata": {},
   "outputs": [],
   "source": [
    "df.groupby('purpose_category')['debt'].agg(['count',my_mean,'sum']).sort_values('my_mean')\n",
    "plt.show() \n"
   ]
  },
  {
   "cell_type": "code",
   "execution_count": 42,
   "id": "43b2aecd",
   "metadata": {},
   "outputs": [
    {
     "data": {
      "text/plain": [
       "<AxesSubplot:xlabel='debt', ylabel='purpose_category'>"
      ]
     },
     "execution_count": 42,
     "metadata": {},
     "output_type": "execute_result"
    },
    {
     "data": {
      "image/png": "[encoded data removed]",
      "text/plain": [
       "<Figure size 432x288 with 1 Axes>"
      ]
     },
     "metadata": {
      "needs_background": "light"
     },
     "output_type": "display_data"
    }
   ],
   "source": [
    "sns.barplot(y=df['purpose_category'],x=df['debt'])"
   ]
  },
  {
   "cell_type": "markdown",
   "id": "3bb176a1",
   "metadata": {},
   "source": [
    "**Вывод:** Заметно, что люди, берущие кредит на недвижимость и проведение свадьбы более надежные заемщики, в то время, как кредиты на автомобиль и образование рискуют быть просроченными."
   ]
  },
  {
   "cell_type": "markdown",
   "id": "b3b13bdc",
   "metadata": {},
   "source": [
    "### Зависимость возврата кредита в срок от семейного полежения и количества детей <a id=\"bonus\"></a>"
   ]
  },
  {
   "cell_type": "code",
   "execution_count": 43,
   "id": "e54b8c6c",
   "metadata": {},
   "outputs": [],
   "source": [
    "pivot = df.pivot_table(index='children',columns='family_status_id',values='debt',aggfunc='mean')"
   ]
  },
  {
   "cell_type": "code",
   "execution_count": 44,
   "id": "6b59fa21",
   "metadata": {},
   "outputs": [
    {
     "data": {
      "text/html": [
       "<div>\n",
       "<style scoped>\n",
       "    .dataframe tbody tr th:only-of-type {\n",
       "        vertical-align: middle;\n",
       "    }\n",
       "\n",
       "    .dataframe tbody tr th {\n",
       "        vertical-align: top;\n",
       "    }\n",
       "\n",
       "    .dataframe thead th {\n",
       "        text-align: right;\n",
       "    }\n",
       "</style>\n",
       "<table border=\"1\" class=\"dataframe\">\n",
       "  <thead>\n",
       "    <tr style=\"text-align: right;\">\n",
       "      <th>family_status_id</th>\n",
       "      <th>0</th>\n",
       "      <th>1</th>\n",
       "      <th>2</th>\n",
       "      <th>3</th>\n",
       "      <th>4</th>\n",
       "    </tr>\n",
       "    <tr>\n",
       "      <th>children</th>\n",
       "      <th></th>\n",
       "      <th></th>\n",
       "      <th></th>\n",
       "      <th></th>\n",
       "      <th></th>\n",
       "    </tr>\n",
       "  </thead>\n",
       "  <tbody>\n",
       "    <tr>\n",
       "      <th>0</th>\n",
       "      <td>0.069095</td>\n",
       "      <td>0.083883</td>\n",
       "      <td>0.062574</td>\n",
       "      <td>0.070153</td>\n",
       "      <td>0.092838</td>\n",
       "    </tr>\n",
       "    <tr>\n",
       "      <th>1</th>\n",
       "      <td>0.082224</td>\n",
       "      <td>0.118000</td>\n",
       "      <td>0.086420</td>\n",
       "      <td>0.066456</td>\n",
       "      <td>0.114537</td>\n",
       "    </tr>\n",
       "    <tr>\n",
       "      <th>2</th>\n",
       "      <td>0.093552</td>\n",
       "      <td>0.092958</td>\n",
       "      <td>0.125000</td>\n",
       "      <td>0.096386</td>\n",
       "      <td>0.119048</td>\n",
       "    </tr>\n",
       "    <tr>\n",
       "      <th>3</th>\n",
       "      <td>0.068273</td>\n",
       "      <td>0.142857</td>\n",
       "      <td>0.000000</td>\n",
       "      <td>0.090909</td>\n",
       "      <td>0.125000</td>\n",
       "    </tr>\n",
       "    <tr>\n",
       "      <th>4</th>\n",
       "      <td>0.103448</td>\n",
       "      <td>0.000000</td>\n",
       "      <td>0.000000</td>\n",
       "      <td>0.000000</td>\n",
       "      <td>0.500000</td>\n",
       "    </tr>\n",
       "    <tr>\n",
       "      <th>5</th>\n",
       "      <td>0.000000</td>\n",
       "      <td>0.000000</td>\n",
       "      <td>NaN</td>\n",
       "      <td>NaN</td>\n",
       "      <td>NaN</td>\n",
       "    </tr>\n",
       "  </tbody>\n",
       "</table>\n",
       "</div>"
      ],
      "text/plain": [
       "family_status_id         0         1         2         3         4\n",
       "children                                                          \n",
       "0                 0.069095  0.083883  0.062574  0.070153  0.092838\n",
       "1                 0.082224  0.118000  0.086420  0.066456  0.114537\n",
       "2                 0.093552  0.092958  0.125000  0.096386  0.119048\n",
       "3                 0.068273  0.142857  0.000000  0.090909  0.125000\n",
       "4                 0.103448  0.000000  0.000000  0.000000  0.500000\n",
       "5                 0.000000  0.000000       NaN       NaN       NaN"
      ]
     },
     "execution_count": 44,
     "metadata": {},
     "output_type": "execute_result"
    },
    {
     "data": {
      "image/png": "[encoded data removed]",
      "text/plain": [
       "<Figure size 432x288 with 2 Axes>"
      ]
     },
     "metadata": {
      "needs_background": "light"
     },
     "output_type": "display_data"
    }
   ],
   "source": [
    "sns.heatmap(pivot)\n",
    "pivot"
   ]
  },
  {
   "cell_type": "markdown",
   "id": "b01b70fc",
   "metadata": {},
   "source": [
    "Не уверен, что эта таблица имеет важность, но получившиеся данные интересны:\n",
    "   * Чаще всех просрачивают кредит неженатые люди с 4 детьми"
   ]
  },
  {
   "cell_type": "markdown",
   "id": "b7fdc650",
   "metadata": {},
   "source": [
    "### Зависимость возврата кредита в срок от семейного полежения и цели кредита <a id=\"bonus_2\"></a>"
   ]
  },
  {
   "cell_type": "code",
   "execution_count": 45,
   "id": "412dc87e",
   "metadata": {},
   "outputs": [],
   "source": [
    "result = df.pivot_table(index='purpose_category',columns='family_status_id',values='debt',aggfunc='mean')"
   ]
  },
  {
   "cell_type": "code",
   "execution_count": 46,
   "id": "047b069d",
   "metadata": {},
   "outputs": [
    {
     "data": {
      "text/html": [
       "<div>\n",
       "<style scoped>\n",
       "    .dataframe tbody tr th:only-of-type {\n",
       "        vertical-align: middle;\n",
       "    }\n",
       "\n",
       "    .dataframe tbody tr th {\n",
       "        vertical-align: top;\n",
       "    }\n",
       "\n",
       "    .dataframe thead th {\n",
       "        text-align: right;\n",
       "    }\n",
       "</style>\n",
       "<table border=\"1\" class=\"dataframe\">\n",
       "  <thead>\n",
       "    <tr style=\"text-align: right;\">\n",
       "      <th>family_status_id</th>\n",
       "      <th>0</th>\n",
       "      <th>1</th>\n",
       "      <th>2</th>\n",
       "      <th>3</th>\n",
       "      <th>4</th>\n",
       "    </tr>\n",
       "    <tr>\n",
       "      <th>purpose_category</th>\n",
       "      <th></th>\n",
       "      <th></th>\n",
       "      <th></th>\n",
       "      <th></th>\n",
       "      <th></th>\n",
       "    </tr>\n",
       "  </thead>\n",
       "  <tbody>\n",
       "    <tr>\n",
       "      <th>операции с автомобилем</th>\n",
       "      <td>0.083699</td>\n",
       "      <td>0.117512</td>\n",
       "      <td>0.091743</td>\n",
       "      <td>0.074733</td>\n",
       "      <td>0.128728</td>\n",
       "    </tr>\n",
       "    <tr>\n",
       "      <th>операции с недвижимостью</th>\n",
       "      <td>0.069349</td>\n",
       "      <td>0.092012</td>\n",
       "      <td>0.051661</td>\n",
       "      <td>0.069527</td>\n",
       "      <td>0.081454</td>\n",
       "    </tr>\n",
       "    <tr>\n",
       "      <th>получение образования</th>\n",
       "      <td>0.083237</td>\n",
       "      <td>0.148515</td>\n",
       "      <td>0.075377</td>\n",
       "      <td>0.071429</td>\n",
       "      <td>0.107452</td>\n",
       "    </tr>\n",
       "    <tr>\n",
       "      <th>проведение свадьбы</th>\n",
       "      <td>NaN</td>\n",
       "      <td>0.080034</td>\n",
       "      <td>NaN</td>\n",
       "      <td>NaN</td>\n",
       "      <td>NaN</td>\n",
       "    </tr>\n",
       "  </tbody>\n",
       "</table>\n",
       "</div>"
      ],
      "text/plain": [
       "family_status_id                 0         1         2         3         4\n",
       "purpose_category                                                          \n",
       "операции с автомобилем    0.083699  0.117512  0.091743  0.074733  0.128728\n",
       "операции с недвижимостью  0.069349  0.092012  0.051661  0.069527  0.081454\n",
       "получение образования     0.083237  0.148515  0.075377  0.071429  0.107452\n",
       "проведение свадьбы             NaN  0.080034       NaN       NaN       NaN"
      ]
     },
     "execution_count": 46,
     "metadata": {},
     "output_type": "execute_result"
    },
    {
     "data": {
      "image/png": "[encoded data removed]",
      "text/plain": [
       "<Figure size 432x288 with 2 Axes>"
      ]
     },
     "metadata": {
      "needs_background": "light"
     },
     "output_type": "display_data"
    }
   ],
   "source": [
    "sns.heatmap(result)\n",
    "result"
   ]
  },
  {
   "cell_type": "markdown",
   "id": "e7c9d9ef",
   "metadata": {},
   "source": [
    "Выяснив, что на надежность заемщика влияют семейный статус и цели кредита решено определить кто из данных категорий клиентов самый надежный. \n",
    "\n",
    "Выходит, что разведеные люди наиболее надежны, т.к. чаще других выплачивают кредит вовремя независимо от целей кредита."
   ]
  },
  {
   "cell_type": "markdown",
   "id": "2d1a40cb",
   "metadata": {},
   "source": [
    "## Общий вывод: <a id=\"conclusion\"></a>"
   ]
  },
  {
   "cell_type": "markdown",
   "id": "c7d1818f",
   "metadata": {},
   "source": [
    "Мы обработали данные банка по заемщикам, удалили дубликаты и заполнили пропуски.\n",
    "Проведя исследования по поставленной задаче можно точно сказать, что наиболее надежные заемщики - люди бывшие или находящиеся в браке на данный момент, среди них процент невозврата в срок составляет около 7%, в то время, как у неженатых людей этот показатель равен 9,5%.\n",
    "Среди заемщиков наблюдается рост задолжностей с увеличением количества детей: \n",
    "* у бездетных это 7,5%, \n",
    "* у родителей одного реберка- 9,1%,\n",
    "* у родителей 2х детей- 9,4% \n",
    "* Однако родители 3х детей выплачивают кредит вовремя чаще, чем родители 1го ребенка - 8,1% задолжностей\n",
    "\n",
    "Чаще просрачивают выплаты по кредиту на образование и автомобиль: 9,2% и 9,3% соответственно, когда кредиты на недвижимость и свадьбы просрачивают в 7,2% и 8% случаях соответственно, при этом почти 15% заемщиков, живущих в гражданском браке, не закрывают вовремя кредит на образование.\n",
    "\n",
    "Остальные теории не подтвердились: так, на погашение кредита не влияет доход клиента."
   ]
  }
 ],
 "metadata": {
  "ExecuteTimeLog": [
   {
    "duration": 878,
    "start_time": "2022-02-05T08:24:13.995Z"
   },
   {
    "duration": 24,
    "start_time": "2022-02-05T08:25:59.295Z"
   },
   {
    "duration": 305,
    "start_time": "2022-02-05T09:02:52.128Z"
   },
   {
    "duration": 20,
    "start_time": "2022-02-05T09:05:01.133Z"
   },
   {
    "duration": 10,
    "start_time": "2022-02-05T09:05:09.030Z"
   },
   {
    "duration": 14,
    "start_time": "2022-02-05T09:07:51.526Z"
   },
   {
    "duration": 11,
    "start_time": "2022-02-05T09:09:48.577Z"
   },
   {
    "duration": 9,
    "start_time": "2022-02-05T09:10:11.028Z"
   },
   {
    "duration": 12,
    "start_time": "2022-02-05T09:10:21.956Z"
   },
   {
    "duration": 10,
    "start_time": "2022-02-05T09:10:27.892Z"
   },
   {
    "duration": 768,
    "start_time": "2022-02-05T09:10:37.471Z"
   },
   {
    "duration": 17,
    "start_time": "2022-02-05T09:10:41.046Z"
   },
   {
    "duration": 85,
    "start_time": "2022-02-05T09:10:51.552Z"
   },
   {
    "duration": 9,
    "start_time": "2022-02-05T09:10:53.359Z"
   },
   {
    "duration": 9,
    "start_time": "2022-02-05T09:10:55.583Z"
   },
   {
    "duration": 11,
    "start_time": "2022-02-05T09:10:56.519Z"
   },
   {
    "duration": 10,
    "start_time": "2022-02-05T09:10:57.279Z"
   },
   {
    "duration": 307,
    "start_time": "2022-02-05T09:11:34.444Z"
   },
   {
    "duration": 9,
    "start_time": "2022-02-05T09:11:39.572Z"
   },
   {
    "duration": 10,
    "start_time": "2022-02-05T09:11:58.086Z"
   },
   {
    "duration": 6,
    "start_time": "2022-02-05T09:12:09.431Z"
   },
   {
    "duration": 7,
    "start_time": "2022-02-05T09:12:34.905Z"
   },
   {
    "duration": 16,
    "start_time": "2022-02-05T09:13:48.369Z"
   },
   {
    "duration": 24,
    "start_time": "2022-02-05T09:14:52.815Z"
   },
   {
    "duration": 22,
    "start_time": "2022-02-05T09:14:55.335Z"
   },
   {
    "duration": 25,
    "start_time": "2022-02-05T09:16:10.505Z"
   },
   {
    "duration": 24,
    "start_time": "2022-02-05T09:16:37.370Z"
   },
   {
    "duration": 25,
    "start_time": "2022-02-05T09:16:46.563Z"
   },
   {
    "duration": 21,
    "start_time": "2022-02-05T09:17:01.812Z"
   },
   {
    "duration": 21,
    "start_time": "2022-02-05T09:19:28.810Z"
   },
   {
    "duration": 315,
    "start_time": "2022-02-05T09:22:55.943Z"
   },
   {
    "duration": 16,
    "start_time": "2022-02-05T09:23:03.152Z"
   },
   {
    "duration": 22,
    "start_time": "2022-02-05T09:24:49.970Z"
   },
   {
    "duration": 27,
    "start_time": "2022-02-05T09:25:43.327Z"
   },
   {
    "duration": 27,
    "start_time": "2022-02-05T09:25:51.168Z"
   },
   {
    "duration": 17,
    "start_time": "2022-02-05T09:32:14.789Z"
   },
   {
    "duration": 3,
    "start_time": "2022-02-05T09:36:43.008Z"
   },
   {
    "duration": 4,
    "start_time": "2022-02-05T09:36:49.929Z"
   },
   {
    "duration": 4,
    "start_time": "2022-02-05T09:36:56.793Z"
   },
   {
    "duration": 9,
    "start_time": "2022-02-05T09:43:04.685Z"
   },
   {
    "duration": 17,
    "start_time": "2022-02-05T09:43:05.694Z"
   },
   {
    "duration": 23,
    "start_time": "2022-02-05T09:44:34.167Z"
   },
   {
    "duration": 23,
    "start_time": "2022-02-05T09:44:50.168Z"
   },
   {
    "duration": 23,
    "start_time": "2022-02-05T09:45:03.474Z"
   },
   {
    "duration": 36,
    "start_time": "2022-02-05T09:45:14.726Z"
   },
   {
    "duration": 261,
    "start_time": "2022-02-05T09:54:44.489Z"
   },
   {
    "duration": 257,
    "start_time": "2022-02-05T09:55:08.636Z"
   },
   {
    "duration": 6,
    "start_time": "2022-02-05T09:57:22.473Z"
   },
   {
    "duration": 5,
    "start_time": "2022-02-05T09:57:47.107Z"
   },
   {
    "duration": 5,
    "start_time": "2022-02-05T11:22:06.820Z"
   },
   {
    "duration": 5,
    "start_time": "2022-02-05T11:22:32.048Z"
   },
   {
    "duration": 5,
    "start_time": "2022-02-05T11:22:32.399Z"
   },
   {
    "duration": 4,
    "start_time": "2022-02-05T11:22:33.743Z"
   },
   {
    "duration": 11,
    "start_time": "2022-02-05T11:22:49.728Z"
   },
   {
    "duration": 3,
    "start_time": "2022-02-05T11:26:45.897Z"
   },
   {
    "duration": 7,
    "start_time": "2022-02-05T11:26:52.576Z"
   },
   {
    "duration": 5,
    "start_time": "2022-02-05T11:28:35.130Z"
   },
   {
    "duration": 22,
    "start_time": "2022-02-05T11:28:50.908Z"
   },
   {
    "duration": 430,
    "start_time": "2022-02-05T11:37:38.975Z"
   },
   {
    "duration": 5,
    "start_time": "2022-02-05T11:38:51.302Z"
   },
   {
    "duration": 4,
    "start_time": "2022-02-05T11:38:59.591Z"
   },
   {
    "duration": 5,
    "start_time": "2022-02-05T11:39:03.735Z"
   },
   {
    "duration": 457,
    "start_time": "2022-02-05T11:39:12.192Z"
   },
   {
    "duration": 811,
    "start_time": "2022-02-05T11:39:16.425Z"
   },
   {
    "duration": 1052,
    "start_time": "2022-02-05T11:40:23.687Z"
   },
   {
    "duration": 11,
    "start_time": "2022-02-05T11:40:40.090Z"
   },
   {
    "duration": 30,
    "start_time": "2022-02-05T11:40:48.465Z"
   },
   {
    "duration": 7,
    "start_time": "2022-02-05T11:42:28.244Z"
   },
   {
    "duration": 14,
    "start_time": "2022-02-05T11:44:54.002Z"
   },
   {
    "duration": 6,
    "start_time": "2022-02-05T11:48:13.925Z"
   },
   {
    "duration": 8,
    "start_time": "2022-02-05T11:48:14.638Z"
   },
   {
    "duration": 22,
    "start_time": "2022-02-05T11:48:15.167Z"
   },
   {
    "duration": 22,
    "start_time": "2022-02-05T11:48:21.495Z"
   },
   {
    "duration": 14,
    "start_time": "2022-02-05T11:49:09.315Z"
   },
   {
    "duration": 23,
    "start_time": "2022-02-05T11:49:32.957Z"
   },
   {
    "duration": 18,
    "start_time": "2022-02-05T11:49:38.597Z"
   },
   {
    "duration": 18,
    "start_time": "2022-02-05T11:49:46.798Z"
   },
   {
    "duration": 19,
    "start_time": "2022-02-05T11:50:45.828Z"
   },
   {
    "duration": 653,
    "start_time": "2022-02-05T11:52:12.332Z"
   },
   {
    "duration": 316,
    "start_time": "2022-02-05T11:52:13.757Z"
   },
   {
    "duration": 27,
    "start_time": "2022-02-05T11:52:46.192Z"
   },
   {
    "duration": 11,
    "start_time": "2022-02-05T11:52:47.688Z"
   },
   {
    "duration": 5,
    "start_time": "2022-02-05T11:52:50.367Z"
   },
   {
    "duration": 5,
    "start_time": "2022-02-05T11:52:51.464Z"
   },
   {
    "duration": 5,
    "start_time": "2022-02-05T11:52:52.016Z"
   },
   {
    "duration": 10,
    "start_time": "2022-02-05T11:52:52.872Z"
   },
   {
    "duration": 10,
    "start_time": "2022-02-05T11:52:54.264Z"
   },
   {
    "duration": 22,
    "start_time": "2022-02-05T11:52:54.976Z"
   },
   {
    "duration": 24,
    "start_time": "2022-02-05T11:52:55.608Z"
   },
   {
    "duration": 9,
    "start_time": "2022-02-05T11:52:56.849Z"
   },
   {
    "duration": 37,
    "start_time": "2022-02-05T11:53:18.771Z"
   },
   {
    "duration": 7,
    "start_time": "2022-02-05T11:53:22.395Z"
   },
   {
    "duration": 13,
    "start_time": "2022-02-05T11:53:22.965Z"
   },
   {
    "duration": 13,
    "start_time": "2022-02-05T11:53:44.886Z"
   },
   {
    "duration": 17,
    "start_time": "2022-02-05T11:55:14.430Z"
   },
   {
    "duration": 40,
    "start_time": "2022-02-05T11:55:15.030Z"
   },
   {
    "duration": 627,
    "start_time": "2022-02-05T11:55:25.652Z"
   },
   {
    "duration": 28,
    "start_time": "2022-02-05T11:55:26.281Z"
   },
   {
    "duration": 10,
    "start_time": "2022-02-05T11:55:26.311Z"
   },
   {
    "duration": 10,
    "start_time": "2022-02-05T11:55:26.323Z"
   },
   {
    "duration": 11,
    "start_time": "2022-02-05T11:55:26.335Z"
   },
   {
    "duration": 12,
    "start_time": "2022-02-05T11:55:26.347Z"
   },
   {
    "duration": 36,
    "start_time": "2022-02-05T11:55:26.361Z"
   },
   {
    "duration": 6,
    "start_time": "2022-02-05T11:55:26.400Z"
   },
   {
    "duration": 11,
    "start_time": "2022-02-05T11:55:26.408Z"
   },
   {
    "duration": 23,
    "start_time": "2022-02-05T11:55:26.420Z"
   },
   {
    "duration": 19,
    "start_time": "2022-02-05T11:55:26.445Z"
   },
   {
    "duration": 53,
    "start_time": "2022-02-05T11:55:26.466Z"
   },
   {
    "duration": 6,
    "start_time": "2022-02-05T11:56:18.997Z"
   },
   {
    "duration": 16,
    "start_time": "2022-02-05T11:56:58.913Z"
   },
   {
    "duration": 12,
    "start_time": "2022-02-05T11:57:55.662Z"
   },
   {
    "duration": 34,
    "start_time": "2022-02-05T11:58:05.191Z"
   },
   {
    "duration": 340,
    "start_time": "2022-02-05T11:58:55.125Z"
   },
   {
    "duration": 33,
    "start_time": "2022-02-05T11:59:39.841Z"
   },
   {
    "duration": 851,
    "start_time": "2022-02-05T11:59:58.815Z"
   },
   {
    "duration": 852,
    "start_time": "2022-02-05T12:00:07.635Z"
   },
   {
    "duration": 27,
    "start_time": "2022-02-05T12:00:09.562Z"
   },
   {
    "duration": 36,
    "start_time": "2022-02-05T12:00:10.419Z"
   },
   {
    "duration": 852,
    "start_time": "2022-02-05T12:00:22.421Z"
   },
   {
    "duration": 7,
    "start_time": "2022-02-05T12:00:37.334Z"
   },
   {
    "duration": 18,
    "start_time": "2022-02-05T12:01:36.987Z"
   },
   {
    "duration": 20,
    "start_time": "2022-02-05T12:01:58.469Z"
   },
   {
    "duration": 39,
    "start_time": "2022-02-05T12:12:14.561Z"
   },
   {
    "duration": 672,
    "start_time": "2022-02-05T12:12:36.410Z"
   },
   {
    "duration": 25,
    "start_time": "2022-02-05T12:12:37.084Z"
   },
   {
    "duration": 9,
    "start_time": "2022-02-05T12:12:37.111Z"
   },
   {
    "duration": 3,
    "start_time": "2022-02-05T12:12:37.122Z"
   },
   {
    "duration": 6,
    "start_time": "2022-02-05T12:12:37.127Z"
   },
   {
    "duration": 6,
    "start_time": "2022-02-05T12:12:37.134Z"
   },
   {
    "duration": 10,
    "start_time": "2022-02-05T12:12:37.141Z"
   },
   {
    "duration": 10,
    "start_time": "2022-02-05T12:12:37.153Z"
   },
   {
    "duration": 7,
    "start_time": "2022-02-05T12:12:37.164Z"
   },
   {
    "duration": 46,
    "start_time": "2022-02-05T12:12:37.172Z"
   },
   {
    "duration": 19,
    "start_time": "2022-02-05T12:12:37.220Z"
   },
   {
    "duration": 37,
    "start_time": "2022-02-05T12:12:37.240Z"
   },
   {
    "duration": 15,
    "start_time": "2022-02-05T12:12:37.278Z"
   },
   {
    "duration": 33,
    "start_time": "2022-02-05T12:12:41.103Z"
   },
   {
    "duration": 20,
    "start_time": "2022-02-05T12:12:48.111Z"
   },
   {
    "duration": 12,
    "start_time": "2022-02-05T12:13:08.257Z"
   },
   {
    "duration": 40,
    "start_time": "2022-02-05T12:13:20.891Z"
   },
   {
    "duration": 14,
    "start_time": "2022-02-05T12:13:22.538Z"
   },
   {
    "duration": 692,
    "start_time": "2022-02-05T12:13:59.632Z"
   },
   {
    "duration": 27,
    "start_time": "2022-02-05T12:14:00.326Z"
   },
   {
    "duration": 10,
    "start_time": "2022-02-05T12:14:00.355Z"
   },
   {
    "duration": 10,
    "start_time": "2022-02-05T12:14:00.367Z"
   },
   {
    "duration": 18,
    "start_time": "2022-02-05T12:14:00.378Z"
   },
   {
    "duration": 20,
    "start_time": "2022-02-05T12:14:00.398Z"
   },
   {
    "duration": 10,
    "start_time": "2022-02-05T12:14:00.420Z"
   },
   {
    "duration": 15,
    "start_time": "2022-02-05T12:14:00.432Z"
   },
   {
    "duration": 23,
    "start_time": "2022-02-05T12:14:00.449Z"
   },
   {
    "duration": 29,
    "start_time": "2022-02-05T12:14:00.473Z"
   },
   {
    "duration": 22,
    "start_time": "2022-02-05T12:14:00.504Z"
   },
   {
    "duration": 20,
    "start_time": "2022-02-05T12:14:39.184Z"
   },
   {
    "duration": 23,
    "start_time": "2022-02-05T12:14:51.649Z"
   },
   {
    "duration": 34,
    "start_time": "2022-02-05T12:14:53.041Z"
   },
   {
    "duration": 20,
    "start_time": "2022-02-05T12:14:54.266Z"
   },
   {
    "duration": 39,
    "start_time": "2022-02-05T12:15:00.761Z"
   },
   {
    "duration": 10,
    "start_time": "2022-02-05T12:22:18.421Z"
   },
   {
    "duration": 22,
    "start_time": "2022-02-05T12:22:30.454Z"
   },
   {
    "duration": 5,
    "start_time": "2022-02-05T12:23:33.549Z"
   },
   {
    "duration": 4,
    "start_time": "2022-02-05T12:23:49.342Z"
   },
   {
    "duration": 5,
    "start_time": "2022-02-05T12:24:39.474Z"
   },
   {
    "duration": 6,
    "start_time": "2022-02-05T12:25:04.421Z"
   },
   {
    "duration": 23,
    "start_time": "2022-02-05T12:25:09.838Z"
   },
   {
    "duration": 24,
    "start_time": "2022-02-05T12:25:12.733Z"
   },
   {
    "duration": 6,
    "start_time": "2022-02-05T12:26:02.739Z"
   },
   {
    "duration": 6,
    "start_time": "2022-02-05T12:26:18.308Z"
   },
   {
    "duration": 5,
    "start_time": "2022-02-05T12:26:31.541Z"
   },
   {
    "duration": 4,
    "start_time": "2022-02-05T12:26:41.102Z"
   },
   {
    "duration": 5,
    "start_time": "2022-02-05T12:26:44.870Z"
   },
   {
    "duration": 5,
    "start_time": "2022-02-05T12:26:56.544Z"
   },
   {
    "duration": 6,
    "start_time": "2022-02-05T12:27:35.380Z"
   },
   {
    "duration": 25,
    "start_time": "2022-02-05T12:27:41.788Z"
   },
   {
    "duration": 24,
    "start_time": "2022-02-05T12:27:43.700Z"
   },
   {
    "duration": 32,
    "start_time": "2022-02-05T12:28:11.031Z"
   },
   {
    "duration": 22,
    "start_time": "2022-02-05T12:28:31.818Z"
   },
   {
    "duration": 19,
    "start_time": "2022-02-05T12:28:39.329Z"
   },
   {
    "duration": 647,
    "start_time": "2022-02-05T12:28:50.654Z"
   },
   {
    "duration": 27,
    "start_time": "2022-02-05T12:28:51.303Z"
   },
   {
    "duration": 9,
    "start_time": "2022-02-05T12:28:51.332Z"
   },
   {
    "duration": 7,
    "start_time": "2022-02-05T12:28:51.343Z"
   },
   {
    "duration": 8,
    "start_time": "2022-02-05T12:28:51.351Z"
   },
   {
    "duration": 6,
    "start_time": "2022-02-05T12:28:51.360Z"
   },
   {
    "duration": 13,
    "start_time": "2022-02-05T12:28:51.367Z"
   },
   {
    "duration": 8,
    "start_time": "2022-02-05T12:28:51.382Z"
   },
   {
    "duration": 28,
    "start_time": "2022-02-05T12:28:51.392Z"
   },
   {
    "duration": 28,
    "start_time": "2022-02-05T12:28:51.421Z"
   },
   {
    "duration": 15,
    "start_time": "2022-02-05T12:28:51.451Z"
   },
   {
    "duration": 37,
    "start_time": "2022-02-05T12:28:51.468Z"
   },
   {
    "duration": 26,
    "start_time": "2022-02-05T12:28:51.507Z"
   },
   {
    "duration": 37,
    "start_time": "2022-02-05T12:28:51.535Z"
   },
   {
    "duration": 18,
    "start_time": "2022-02-05T12:28:51.573Z"
   },
   {
    "duration": 14,
    "start_time": "2022-02-05T12:28:53.858Z"
   },
   {
    "duration": 22,
    "start_time": "2022-02-05T12:28:58.228Z"
   },
   {
    "duration": 13,
    "start_time": "2022-02-05T12:29:32.743Z"
   },
   {
    "duration": 358,
    "start_time": "2022-02-05T12:30:08.762Z"
   },
   {
    "duration": 14,
    "start_time": "2022-02-05T12:30:14.107Z"
   },
   {
    "duration": 628,
    "start_time": "2022-02-05T12:30:47.060Z"
   },
   {
    "duration": 29,
    "start_time": "2022-02-05T12:30:47.690Z"
   },
   {
    "duration": 11,
    "start_time": "2022-02-05T12:30:47.721Z"
   },
   {
    "duration": 4,
    "start_time": "2022-02-05T12:30:47.734Z"
   },
   {
    "duration": 8,
    "start_time": "2022-02-05T12:30:47.739Z"
   },
   {
    "duration": 6,
    "start_time": "2022-02-05T12:30:47.749Z"
   },
   {
    "duration": 11,
    "start_time": "2022-02-05T12:30:47.757Z"
   },
   {
    "duration": 7,
    "start_time": "2022-02-05T12:30:47.770Z"
   },
   {
    "duration": 7,
    "start_time": "2022-02-05T12:30:47.779Z"
   },
   {
    "duration": 11,
    "start_time": "2022-02-05T12:30:50.149Z"
   },
   {
    "duration": 18,
    "start_time": "2022-02-05T12:30:50.549Z"
   },
   {
    "duration": 17,
    "start_time": "2022-02-05T12:30:53.741Z"
   },
   {
    "duration": 37,
    "start_time": "2022-02-05T12:30:54.692Z"
   },
   {
    "duration": 21,
    "start_time": "2022-02-05T12:30:55.429Z"
   },
   {
    "duration": 42,
    "start_time": "2022-02-05T12:30:56.270Z"
   },
   {
    "duration": 20,
    "start_time": "2022-02-05T12:31:01.789Z"
   },
   {
    "duration": 12,
    "start_time": "2022-02-05T12:31:05.789Z"
   },
   {
    "duration": 13,
    "start_time": "2022-02-05T12:31:07.518Z"
   },
   {
    "duration": 11,
    "start_time": "2022-02-05T12:31:08.934Z"
   },
   {
    "duration": 19,
    "start_time": "2022-02-05T12:31:26.768Z"
   },
   {
    "duration": 38,
    "start_time": "2022-02-05T12:36:40.479Z"
   },
   {
    "duration": 21,
    "start_time": "2022-02-05T12:37:28.340Z"
   },
   {
    "duration": 21,
    "start_time": "2022-02-05T12:37:54.887Z"
   },
   {
    "duration": 20,
    "start_time": "2022-02-05T12:38:37.571Z"
   },
   {
    "duration": 7,
    "start_time": "2022-02-05T12:41:14.427Z"
   },
   {
    "duration": 6,
    "start_time": "2022-02-05T12:41:17.879Z"
   },
   {
    "duration": 683,
    "start_time": "2022-02-05T12:41:32.291Z"
   },
   {
    "duration": 28,
    "start_time": "2022-02-05T12:41:32.976Z"
   },
   {
    "duration": 13,
    "start_time": "2022-02-05T12:41:33.006Z"
   },
   {
    "duration": 3,
    "start_time": "2022-02-05T12:41:33.021Z"
   },
   {
    "duration": 8,
    "start_time": "2022-02-05T12:41:33.026Z"
   },
   {
    "duration": 5,
    "start_time": "2022-02-05T12:41:33.036Z"
   },
   {
    "duration": 16,
    "start_time": "2022-02-05T12:41:33.043Z"
   },
   {
    "duration": 12,
    "start_time": "2022-02-05T12:41:33.061Z"
   },
   {
    "duration": 7,
    "start_time": "2022-02-05T12:41:33.076Z"
   },
   {
    "duration": 46,
    "start_time": "2022-02-05T12:41:33.085Z"
   },
   {
    "duration": 16,
    "start_time": "2022-02-05T12:41:33.133Z"
   },
   {
    "duration": 35,
    "start_time": "2022-02-05T12:41:33.151Z"
   },
   {
    "duration": 60,
    "start_time": "2022-02-05T12:41:33.188Z"
   },
   {
    "duration": 18,
    "start_time": "2022-02-05T12:41:33.250Z"
   },
   {
    "duration": 14,
    "start_time": "2022-02-05T12:41:33.270Z"
   },
   {
    "duration": 14,
    "start_time": "2022-02-05T12:41:35.036Z"
   },
   {
    "duration": 23,
    "start_time": "2022-02-05T12:41:36.224Z"
   },
   {
    "duration": 17,
    "start_time": "2022-02-05T12:45:27.937Z"
   },
   {
    "duration": 16,
    "start_time": "2022-02-05T12:45:33.242Z"
   },
   {
    "duration": 79,
    "start_time": "2022-02-05T12:51:11.394Z"
   },
   {
    "duration": 79,
    "start_time": "2022-02-05T12:57:03.620Z"
   },
   {
    "duration": 90,
    "start_time": "2022-02-05T12:57:49.369Z"
   },
   {
    "duration": 97,
    "start_time": "2022-02-05T12:58:22.036Z"
   },
   {
    "duration": 91,
    "start_time": "2022-02-05T12:58:43.494Z"
   },
   {
    "duration": 661,
    "start_time": "2022-02-05T12:58:57.916Z"
   },
   {
    "duration": 118,
    "start_time": "2022-02-05T12:59:03.928Z"
   },
   {
    "duration": 87,
    "start_time": "2022-02-05T13:00:54.688Z"
   },
   {
    "duration": 120,
    "start_time": "2022-02-05T13:02:30.897Z"
   },
   {
    "duration": 118,
    "start_time": "2022-02-05T13:02:40.635Z"
   },
   {
    "duration": 308,
    "start_time": "2022-02-05T13:03:51.281Z"
   },
   {
    "duration": 93,
    "start_time": "2022-02-05T13:06:16.287Z"
   },
   {
    "duration": 6,
    "start_time": "2022-02-05T13:06:47.523Z"
   },
   {
    "duration": 26,
    "start_time": "2022-02-05T13:06:55.795Z"
   },
   {
    "duration": 277,
    "start_time": "2022-02-05T13:07:17.809Z"
   },
   {
    "duration": 650,
    "start_time": "2022-02-05T13:07:33.575Z"
   },
   {
    "duration": 6,
    "start_time": "2022-02-05T13:07:41.872Z"
   },
   {
    "duration": 347,
    "start_time": "2022-02-05T13:07:44.369Z"
   },
   {
    "duration": 27,
    "start_time": "2022-02-05T13:07:48.081Z"
   },
   {
    "duration": 79,
    "start_time": "2022-02-05T13:07:55.802Z"
   },
   {
    "duration": 92,
    "start_time": "2022-02-05T13:08:08.163Z"
   },
   {
    "duration": 304,
    "start_time": "2022-02-05T13:08:12.755Z"
   },
   {
    "duration": 255,
    "start_time": "2022-02-05T13:08:16.068Z"
   },
   {
    "duration": 660,
    "start_time": "2022-02-05T13:08:42.437Z"
   },
   {
    "duration": 21,
    "start_time": "2022-02-05T13:08:43.099Z"
   },
   {
    "duration": 543,
    "start_time": "2022-02-05T13:08:43.122Z"
   },
   {
    "duration": 105,
    "start_time": "2022-02-05T13:08:43.667Z"
   },
   {
    "duration": 927,
    "start_time": "2022-02-05T13:08:42.848Z"
   },
   {
    "duration": 926,
    "start_time": "2022-02-05T13:08:42.849Z"
   },
   {
    "duration": 925,
    "start_time": "2022-02-05T13:08:42.851Z"
   },
   {
    "duration": 926,
    "start_time": "2022-02-05T13:08:42.852Z"
   },
   {
    "duration": 923,
    "start_time": "2022-02-05T13:08:42.856Z"
   },
   {
    "duration": 923,
    "start_time": "2022-02-05T13:08:42.857Z"
   },
   {
    "duration": 922,
    "start_time": "2022-02-05T13:08:42.859Z"
   },
   {
    "duration": 922,
    "start_time": "2022-02-05T13:08:42.860Z"
   },
   {
    "duration": 922,
    "start_time": "2022-02-05T13:08:42.861Z"
   },
   {
    "duration": 920,
    "start_time": "2022-02-05T13:08:42.863Z"
   },
   {
    "duration": 920,
    "start_time": "2022-02-05T13:08:42.864Z"
   },
   {
    "duration": 920,
    "start_time": "2022-02-05T13:08:42.865Z"
   },
   {
    "duration": 919,
    "start_time": "2022-02-05T13:08:42.867Z"
   },
   {
    "duration": 919,
    "start_time": "2022-02-05T13:08:42.868Z"
   },
   {
    "duration": 58,
    "start_time": "2022-02-05T13:09:37.877Z"
   },
   {
    "duration": 15,
    "start_time": "2022-02-05T13:09:38.847Z"
   },
   {
    "duration": 3,
    "start_time": "2022-02-05T13:09:40.142Z"
   },
   {
    "duration": 92,
    "start_time": "2022-02-05T13:09:41.878Z"
   },
   {
    "duration": 10,
    "start_time": "2022-02-05T13:09:44.895Z"
   },
   {
    "duration": 4,
    "start_time": "2022-02-05T13:09:47.327Z"
   },
   {
    "duration": 14,
    "start_time": "2022-02-05T13:09:50.000Z"
   },
   {
    "duration": 4,
    "start_time": "2022-02-05T13:09:54.512Z"
   },
   {
    "duration": 4,
    "start_time": "2022-02-05T13:09:56.344Z"
   },
   {
    "duration": 17,
    "start_time": "2022-02-05T13:09:57.288Z"
   },
   {
    "duration": 34,
    "start_time": "2022-02-05T13:09:59.096Z"
   },
   {
    "duration": 34,
    "start_time": "2022-02-05T13:10:12.969Z"
   },
   {
    "duration": 766,
    "start_time": "2022-02-05T13:10:48.294Z"
   },
   {
    "duration": 25,
    "start_time": "2022-02-05T13:10:49.062Z"
   },
   {
    "duration": 7,
    "start_time": "2022-02-05T13:10:49.089Z"
   },
   {
    "duration": 91,
    "start_time": "2022-02-05T13:10:49.098Z"
   },
   {
    "duration": 937,
    "start_time": "2022-02-05T13:10:48.254Z"
   },
   {
    "duration": 936,
    "start_time": "2022-02-05T13:10:48.256Z"
   },
   {
    "duration": 935,
    "start_time": "2022-02-05T13:10:48.257Z"
   },
   {
    "duration": 935,
    "start_time": "2022-02-05T13:10:48.258Z"
   },
   {
    "duration": 935,
    "start_time": "2022-02-05T13:10:48.259Z"
   },
   {
    "duration": 933,
    "start_time": "2022-02-05T13:10:48.261Z"
   },
   {
    "duration": 17,
    "start_time": "2022-02-05T13:10:53.573Z"
   },
   {
    "duration": 51,
    "start_time": "2022-02-05T13:10:54.501Z"
   },
   {
    "duration": 18,
    "start_time": "2022-02-05T13:10:55.589Z"
   },
   {
    "duration": 33,
    "start_time": "2022-02-05T13:10:57.877Z"
   },
   {
    "duration": 36,
    "start_time": "2022-02-05T13:11:01.246Z"
   },
   {
    "duration": 19,
    "start_time": "2022-02-05T13:11:01.758Z"
   },
   {
    "duration": 8,
    "start_time": "2022-02-05T13:11:05.646Z"
   },
   {
    "duration": 18,
    "start_time": "2022-02-05T13:11:09.598Z"
   },
   {
    "duration": 4,
    "start_time": "2022-02-05T13:11:42.561Z"
   },
   {
    "duration": 425,
    "start_time": "2022-02-05T13:11:43.810Z"
   },
   {
    "duration": 6999,
    "start_time": "2022-02-05T13:11:44.410Z"
   },
   {
    "duration": 927,
    "start_time": "2022-02-05T13:11:50.484Z"
   },
   {
    "duration": 18,
    "start_time": "2022-02-05T13:11:52.139Z"
   },
   {
    "duration": 645,
    "start_time": "2022-02-05T13:12:02.936Z"
   },
   {
    "duration": 20,
    "start_time": "2022-02-05T13:12:04.216Z"
   },
   {
    "duration": 3,
    "start_time": "2022-02-05T13:12:04.407Z"
   },
   {
    "duration": 83,
    "start_time": "2022-02-05T13:12:04.599Z"
   },
   {
    "duration": 11,
    "start_time": "2022-02-05T13:12:05.000Z"
   },
   {
    "duration": 5,
    "start_time": "2022-02-05T13:12:05.360Z"
   },
   {
    "duration": 14,
    "start_time": "2022-02-05T13:12:05.767Z"
   },
   {
    "duration": 4,
    "start_time": "2022-02-05T13:12:07.344Z"
   },
   {
    "duration": 5,
    "start_time": "2022-02-05T13:12:09.392Z"
   },
   {
    "duration": 17,
    "start_time": "2022-02-05T13:12:12.752Z"
   },
   {
    "duration": 35,
    "start_time": "2022-02-05T13:12:13.520Z"
   },
   {
    "duration": 19,
    "start_time": "2022-02-05T13:12:14.080Z"
   },
   {
    "duration": 33,
    "start_time": "2022-02-05T13:12:14.777Z"
   },
   {
    "duration": 31,
    "start_time": "2022-02-05T13:12:15.284Z"
   },
   {
    "duration": 8,
    "start_time": "2022-02-05T13:12:17.697Z"
   },
   {
    "duration": 15,
    "start_time": "2022-02-05T13:12:18.626Z"
   },
   {
    "duration": 89,
    "start_time": "2022-02-05T13:20:11.615Z"
   },
   {
    "duration": 6,
    "start_time": "2022-02-05T13:20:30.466Z"
   },
   {
    "duration": 5,
    "start_time": "2022-02-05T13:20:34.578Z"
   },
   {
    "duration": 5,
    "start_time": "2022-02-05T13:20:58.972Z"
   },
   {
    "duration": 9,
    "start_time": "2022-02-05T13:21:05.445Z"
   },
   {
    "duration": 24,
    "start_time": "2022-02-05T13:25:11.469Z"
   },
   {
    "duration": 20,
    "start_time": "2022-02-05T13:25:28.999Z"
   },
   {
    "duration": 8,
    "start_time": "2022-02-05T13:31:07.545Z"
   },
   {
    "duration": 21,
    "start_time": "2022-02-05T13:31:12.344Z"
   },
   {
    "duration": 12,
    "start_time": "2022-02-05T13:31:26.435Z"
   },
   {
    "duration": 21,
    "start_time": "2022-02-05T13:31:30.410Z"
   },
   {
    "duration": 642,
    "start_time": "2022-02-05T13:31:44.871Z"
   },
   {
    "duration": 21,
    "start_time": "2022-02-05T13:31:45.515Z"
   },
   {
    "duration": 2,
    "start_time": "2022-02-05T13:31:45.538Z"
   },
   {
    "duration": 92,
    "start_time": "2022-02-05T13:31:45.543Z"
   },
   {
    "duration": 958,
    "start_time": "2022-02-05T13:31:44.679Z"
   },
   {
    "duration": 957,
    "start_time": "2022-02-05T13:31:44.681Z"
   },
   {
    "duration": 958,
    "start_time": "2022-02-05T13:31:44.682Z"
   },
   {
    "duration": 957,
    "start_time": "2022-02-05T13:31:44.684Z"
   },
   {
    "duration": 957,
    "start_time": "2022-02-05T13:31:44.685Z"
   },
   {
    "duration": 957,
    "start_time": "2022-02-05T13:31:44.687Z"
   },
   {
    "duration": 956,
    "start_time": "2022-02-05T13:31:44.689Z"
   },
   {
    "duration": 956,
    "start_time": "2022-02-05T13:31:44.690Z"
   },
   {
    "duration": 956,
    "start_time": "2022-02-05T13:31:44.691Z"
   },
   {
    "duration": 947,
    "start_time": "2022-02-05T13:31:44.701Z"
   },
   {
    "duration": 946,
    "start_time": "2022-02-05T13:31:44.703Z"
   },
   {
    "duration": 945,
    "start_time": "2022-02-05T13:31:44.705Z"
   },
   {
    "duration": 944,
    "start_time": "2022-02-05T13:31:44.707Z"
   },
   {
    "duration": 944,
    "start_time": "2022-02-05T13:31:44.708Z"
   },
   {
    "duration": 58,
    "start_time": "2022-02-05T13:32:23.755Z"
   },
   {
    "duration": 13,
    "start_time": "2022-02-05T13:32:23.815Z"
   },
   {
    "duration": 12,
    "start_time": "2022-02-05T13:32:23.831Z"
   },
   {
    "duration": 13,
    "start_time": "2022-02-05T13:32:23.845Z"
   },
   {
    "duration": 14,
    "start_time": "2022-02-05T13:32:23.859Z"
   },
   {
    "duration": 3,
    "start_time": "2022-02-05T13:32:23.875Z"
   },
   {
    "duration": 14,
    "start_time": "2022-02-05T13:32:23.879Z"
   },
   {
    "duration": 3,
    "start_time": "2022-02-05T13:32:23.895Z"
   },
   {
    "duration": 20,
    "start_time": "2022-02-05T13:32:23.900Z"
   },
   {
    "duration": 17,
    "start_time": "2022-02-05T13:32:23.922Z"
   },
   {
    "duration": 32,
    "start_time": "2022-02-05T13:32:23.941Z"
   },
   {
    "duration": 17,
    "start_time": "2022-02-05T13:32:23.975Z"
   },
   {
    "duration": 58,
    "start_time": "2022-02-05T13:32:23.994Z"
   },
   {
    "duration": 19,
    "start_time": "2022-02-05T13:32:24.054Z"
   },
   {
    "duration": 8,
    "start_time": "2022-02-05T13:32:24.075Z"
   },
   {
    "duration": 33,
    "start_time": "2022-02-05T13:32:24.085Z"
   },
   {
    "duration": 15,
    "start_time": "2022-02-05T13:32:24.120Z"
   },
   {
    "duration": 23,
    "start_time": "2022-02-05T13:32:24.137Z"
   },
   {
    "duration": 7,
    "start_time": "2022-02-05T13:34:29.296Z"
   },
   {
    "duration": 12,
    "start_time": "2022-02-05T13:35:07.028Z"
   },
   {
    "duration": 6,
    "start_time": "2022-02-05T13:36:10.091Z"
   },
   {
    "duration": 795,
    "start_time": "2022-02-05T13:36:21.380Z"
   },
   {
    "duration": 24,
    "start_time": "2022-02-05T13:36:23.108Z"
   },
   {
    "duration": 3,
    "start_time": "2022-02-05T13:36:25.691Z"
   },
   {
    "duration": 8,
    "start_time": "2022-02-05T13:36:26.580Z"
   },
   {
    "duration": 14,
    "start_time": "2022-02-05T13:36:29.036Z"
   },
   {
    "duration": 4,
    "start_time": "2022-02-05T13:36:30.460Z"
   },
   {
    "duration": 15,
    "start_time": "2022-02-05T13:36:33.468Z"
   },
   {
    "duration": 4,
    "start_time": "2022-02-05T13:36:34.949Z"
   },
   {
    "duration": 7,
    "start_time": "2022-02-05T13:36:36.069Z"
   },
   {
    "duration": 7,
    "start_time": "2022-02-05T13:37:01.559Z"
   },
   {
    "duration": 352,
    "start_time": "2022-02-05T13:37:08.192Z"
   },
   {
    "duration": 6,
    "start_time": "2022-02-05T13:37:40.651Z"
   },
   {
    "duration": 7,
    "start_time": "2022-02-05T13:37:54.836Z"
   },
   {
    "duration": 25,
    "start_time": "2022-02-05T13:47:21.004Z"
   },
   {
    "duration": 23,
    "start_time": "2022-02-05T13:47:41.975Z"
   },
   {
    "duration": 7,
    "start_time": "2022-02-05T13:48:44.796Z"
   },
   {
    "duration": 8,
    "start_time": "2022-02-05T13:50:23.453Z"
   },
   {
    "duration": 7,
    "start_time": "2022-02-05T13:50:48.960Z"
   },
   {
    "duration": 23,
    "start_time": "2022-02-05T13:51:27.973Z"
   },
   {
    "duration": 249,
    "start_time": "2022-02-05T14:03:39.748Z"
   },
   {
    "duration": 14,
    "start_time": "2022-02-05T14:03:53.277Z"
   },
   {
    "duration": 11,
    "start_time": "2022-02-05T14:03:55.940Z"
   },
   {
    "duration": 264,
    "start_time": "2022-02-05T14:03:56.701Z"
   },
   {
    "duration": 14,
    "start_time": "2022-02-05T14:03:57.230Z"
   },
   {
    "duration": 24,
    "start_time": "2022-02-05T14:04:15.159Z"
   },
   {
    "duration": 14,
    "start_time": "2022-02-05T14:04:17.743Z"
   },
   {
    "duration": 11,
    "start_time": "2022-02-05T14:04:18.743Z"
   },
   {
    "duration": 12,
    "start_time": "2022-02-05T14:04:20.103Z"
   },
   {
    "duration": 811,
    "start_time": "2022-02-05T14:04:34.569Z"
   },
   {
    "duration": 22,
    "start_time": "2022-02-05T14:04:35.383Z"
   },
   {
    "duration": 14,
    "start_time": "2022-02-05T14:04:35.407Z"
   },
   {
    "duration": 16,
    "start_time": "2022-02-05T14:04:35.423Z"
   },
   {
    "duration": 27,
    "start_time": "2022-02-05T14:04:35.441Z"
   },
   {
    "duration": 5,
    "start_time": "2022-02-05T14:04:35.470Z"
   },
   {
    "duration": 24,
    "start_time": "2022-02-05T14:04:35.477Z"
   },
   {
    "duration": 16,
    "start_time": "2022-02-05T14:04:35.504Z"
   },
   {
    "duration": 18,
    "start_time": "2022-02-05T14:04:35.522Z"
   },
   {
    "duration": 37,
    "start_time": "2022-02-05T14:04:35.542Z"
   },
   {
    "duration": 10,
    "start_time": "2022-02-05T14:04:35.580Z"
   },
   {
    "duration": 34,
    "start_time": "2022-02-05T14:04:35.591Z"
   },
   {
    "duration": 19,
    "start_time": "2022-02-05T14:04:35.627Z"
   },
   {
    "duration": 26,
    "start_time": "2022-02-05T14:04:35.648Z"
   },
   {
    "duration": 51,
    "start_time": "2022-02-05T14:04:35.676Z"
   },
   {
    "duration": 43,
    "start_time": "2022-02-05T14:04:35.729Z"
   },
   {
    "duration": 37,
    "start_time": "2022-02-05T14:04:35.773Z"
   },
   {
    "duration": 18,
    "start_time": "2022-02-05T14:04:35.812Z"
   },
   {
    "duration": 9,
    "start_time": "2022-02-05T14:04:35.832Z"
   },
   {
    "duration": 9,
    "start_time": "2022-02-05T14:04:35.843Z"
   },
   {
    "duration": 19,
    "start_time": "2022-02-05T14:04:35.855Z"
   },
   {
    "duration": 47,
    "start_time": "2022-02-05T14:04:35.875Z"
   },
   {
    "duration": 21,
    "start_time": "2022-02-05T14:04:35.924Z"
   },
   {
    "duration": 9,
    "start_time": "2022-02-05T14:04:35.947Z"
   },
   {
    "duration": 9,
    "start_time": "2022-02-05T14:04:35.958Z"
   },
   {
    "duration": 13,
    "start_time": "2022-02-05T14:04:35.970Z"
   },
   {
    "duration": 537,
    "start_time": "2022-02-05T14:05:13.265Z"
   },
   {
    "duration": 12,
    "start_time": "2022-02-05T14:05:19.065Z"
   },
   {
    "duration": 11,
    "start_time": "2022-02-05T14:05:32.739Z"
   },
   {
    "duration": 13,
    "start_time": "2022-02-05T14:05:33.243Z"
   },
   {
    "duration": 12,
    "start_time": "2022-02-05T14:05:33.683Z"
   },
   {
    "duration": 15,
    "start_time": "2022-02-05T14:05:35.643Z"
   },
   {
    "duration": 14,
    "start_time": "2022-02-05T14:07:15.893Z"
   },
   {
    "duration": 13,
    "start_time": "2022-02-05T14:07:26.910Z"
   },
   {
    "duration": 425,
    "start_time": "2022-02-05T15:33:16.913Z"
   },
   {
    "duration": 262,
    "start_time": "2022-02-05T15:33:18.557Z"
   },
   {
    "duration": 248,
    "start_time": "2022-02-05T15:34:38.149Z"
   },
   {
    "duration": 22,
    "start_time": "2022-02-05T15:35:04.777Z"
   },
   {
    "duration": 23,
    "start_time": "2022-02-05T15:36:14.895Z"
   },
   {
    "duration": 22,
    "start_time": "2022-02-05T15:37:53.593Z"
   },
   {
    "duration": 24,
    "start_time": "2022-02-05T15:38:47.231Z"
   },
   {
    "duration": 21,
    "start_time": "2022-02-05T15:43:01.880Z"
   },
   {
    "duration": 694,
    "start_time": "2022-02-05T15:54:39.842Z"
   },
   {
    "duration": 41,
    "start_time": "2022-02-05T15:55:55.275Z"
   },
   {
    "duration": 6,
    "start_time": "2022-02-05T15:56:54.320Z"
   },
   {
    "duration": 630,
    "start_time": "2022-02-05T15:57:02.064Z"
   },
   {
    "duration": 7,
    "start_time": "2022-02-05T15:57:04.256Z"
   },
   {
    "duration": 25,
    "start_time": "2022-02-05T15:57:12.425Z"
   },
   {
    "duration": 23,
    "start_time": "2022-02-05T15:57:38.765Z"
   },
   {
    "duration": 10,
    "start_time": "2022-02-05T15:57:56.565Z"
   },
   {
    "duration": 310,
    "start_time": "2022-02-05T15:58:07.223Z"
   },
   {
    "duration": 8,
    "start_time": "2022-02-05T15:58:10.855Z"
   },
   {
    "duration": 9,
    "start_time": "2022-02-05T15:58:13.999Z"
   },
   {
    "duration": 30,
    "start_time": "2022-02-05T15:58:14.359Z"
   },
   {
    "duration": 241,
    "start_time": "2022-02-05T15:58:36.292Z"
   },
   {
    "duration": 6,
    "start_time": "2022-02-05T15:58:51.283Z"
   },
   {
    "duration": 10,
    "start_time": "2022-02-05T15:58:55.267Z"
   },
   {
    "duration": 7,
    "start_time": "2022-02-05T15:58:58.564Z"
   },
   {
    "duration": 12,
    "start_time": "2022-02-05T15:59:04.609Z"
   },
   {
    "duration": 5,
    "start_time": "2022-02-05T16:00:20.829Z"
   },
   {
    "duration": 10,
    "start_time": "2022-02-05T16:00:40.823Z"
   },
   {
    "duration": 7,
    "start_time": "2022-02-05T16:01:09.097Z"
   },
   {
    "duration": 8,
    "start_time": "2022-02-05T16:01:16.538Z"
   },
   {
    "duration": 9,
    "start_time": "2022-02-05T16:01:33.355Z"
   },
   {
    "duration": 9,
    "start_time": "2022-02-05T16:02:15.287Z"
   },
   {
    "duration": 8,
    "start_time": "2022-02-05T16:02:19.783Z"
   },
   {
    "duration": 9,
    "start_time": "2022-02-05T16:02:27.896Z"
   },
   {
    "duration": 8,
    "start_time": "2022-02-05T16:02:32.865Z"
   },
   {
    "duration": 8,
    "start_time": "2022-02-05T16:03:43.305Z"
   },
   {
    "duration": 27,
    "start_time": "2022-02-05T16:03:51.761Z"
   },
   {
    "duration": 28,
    "start_time": "2022-02-05T16:04:11.683Z"
   },
   {
    "duration": 13,
    "start_time": "2022-02-05T16:04:35.606Z"
   },
   {
    "duration": 11,
    "start_time": "2022-02-05T16:04:39.982Z"
   },
   {
    "duration": 671,
    "start_time": "2022-02-05T16:04:45.203Z"
   },
   {
    "duration": 18,
    "start_time": "2022-02-05T16:04:48.052Z"
   },
   {
    "duration": 25,
    "start_time": "2022-02-05T16:05:08.317Z"
   },
   {
    "duration": 5,
    "start_time": "2022-02-05T16:06:35.302Z"
   },
   {
    "duration": 5,
    "start_time": "2022-02-05T16:06:46.655Z"
   },
   {
    "duration": 4,
    "start_time": "2022-02-05T16:06:57.721Z"
   },
   {
    "duration": 706,
    "start_time": "2022-02-05T16:07:17.992Z"
   },
   {
    "duration": 5,
    "start_time": "2022-02-05T16:07:44.269Z"
   },
   {
    "duration": 1114,
    "start_time": "2022-02-05T16:07:50.428Z"
   },
   {
    "duration": 1113,
    "start_time": "2022-02-05T16:07:50.430Z"
   },
   {
    "duration": 671,
    "start_time": "2022-02-05T16:07:57.219Z"
   },
   {
    "duration": 8,
    "start_time": "2022-02-05T16:08:01.932Z"
   },
   {
    "duration": 11,
    "start_time": "2022-02-05T16:08:02.739Z"
   },
   {
    "duration": 12,
    "start_time": "2022-02-05T16:08:03.084Z"
   },
   {
    "duration": 9,
    "start_time": "2022-02-05T16:08:03.443Z"
   },
   {
    "duration": 691,
    "start_time": "2022-02-05T16:10:33.882Z"
   },
   {
    "duration": 24,
    "start_time": "2022-02-05T16:11:14.005Z"
   },
   {
    "duration": 11,
    "start_time": "2022-02-05T16:11:39.103Z"
   },
   {
    "duration": 1163,
    "start_time": "2022-02-05T16:13:48.404Z"
   },
   {
    "duration": 1109,
    "start_time": "2022-02-05T16:13:48.460Z"
   },
   {
    "duration": 666,
    "start_time": "2022-02-05T16:14:01.534Z"
   },
   {
    "duration": 5,
    "start_time": "2022-02-05T16:14:40.810Z"
   },
   {
    "duration": 9,
    "start_time": "2022-02-05T16:15:02.756Z"
   },
   {
    "duration": 14,
    "start_time": "2022-02-05T16:15:03.148Z"
   },
   {
    "duration": 8,
    "start_time": "2022-02-05T16:15:03.820Z"
   },
   {
    "duration": 7,
    "start_time": "2022-02-05T16:17:21.586Z"
   },
   {
    "duration": 6,
    "start_time": "2022-02-05T16:17:22.196Z"
   },
   {
    "duration": 310,
    "start_time": "2022-02-05T16:19:36.992Z"
   },
   {
    "duration": 246,
    "start_time": "2022-02-05T16:19:42.256Z"
   },
   {
    "duration": 647,
    "start_time": "2022-02-05T16:19:53.327Z"
   },
   {
    "duration": 8,
    "start_time": "2022-02-05T16:19:59.280Z"
   },
   {
    "duration": 34,
    "start_time": "2022-02-05T16:20:01.361Z"
   },
   {
    "duration": 25,
    "start_time": "2022-02-05T16:20:20.066Z"
   },
   {
    "duration": 7,
    "start_time": "2022-02-05T16:21:04.095Z"
   },
   {
    "duration": 24,
    "start_time": "2022-02-05T16:21:05.430Z"
   },
   {
    "duration": 7,
    "start_time": "2022-02-05T16:21:06.366Z"
   },
   {
    "duration": 7,
    "start_time": "2022-02-05T16:21:27.641Z"
   },
   {
    "duration": 1111,
    "start_time": "2022-02-05T16:25:00.013Z"
   },
   {
    "duration": 282,
    "start_time": "2022-02-05T16:25:06.055Z"
   },
   {
    "duration": 716,
    "start_time": "2022-02-05T16:25:20.441Z"
   },
   {
    "duration": 7,
    "start_time": "2022-02-05T16:25:21.161Z"
   },
   {
    "duration": 9,
    "start_time": "2022-02-05T16:25:23.481Z"
   },
   {
    "duration": 1127,
    "start_time": "2022-02-05T16:25:34.064Z"
   },
   {
    "duration": 24,
    "start_time": "2022-02-05T16:25:36.084Z"
   },
   {
    "duration": 8,
    "start_time": "2022-02-05T16:29:12.727Z"
   },
   {
    "duration": 7,
    "start_time": "2022-02-05T16:29:13.071Z"
   },
   {
    "duration": 9,
    "start_time": "2022-02-05T16:30:12.206Z"
   },
   {
    "duration": 7,
    "start_time": "2022-02-05T16:30:23.342Z"
   },
   {
    "duration": 9,
    "start_time": "2022-02-05T16:30:24.622Z"
   },
   {
    "duration": 27,
    "start_time": "2022-02-05T16:30:25.926Z"
   },
   {
    "duration": 7,
    "start_time": "2022-02-05T16:30:26.662Z"
   },
   {
    "duration": 8,
    "start_time": "2022-02-05T16:30:27.142Z"
   },
   {
    "duration": 7,
    "start_time": "2022-02-05T16:30:28.286Z"
   },
   {
    "duration": 8,
    "start_time": "2022-02-05T16:30:29.606Z"
   },
   {
    "duration": 8,
    "start_time": "2022-02-05T16:31:40.902Z"
   },
   {
    "duration": 8,
    "start_time": "2022-02-05T16:31:43.937Z"
   },
   {
    "duration": 24,
    "start_time": "2022-02-05T16:31:44.350Z"
   },
   {
    "duration": 7,
    "start_time": "2022-02-05T16:31:45.022Z"
   },
   {
    "duration": 9,
    "start_time": "2022-02-05T16:31:45.558Z"
   },
   {
    "duration": 7,
    "start_time": "2022-02-05T16:31:46.448Z"
   },
   {
    "duration": 8,
    "start_time": "2022-02-05T16:31:48.774Z"
   },
   {
    "duration": 7,
    "start_time": "2022-02-05T16:32:13.457Z"
   },
   {
    "duration": 457,
    "start_time": "2022-02-05T16:32:22.305Z"
   },
   {
    "duration": 7,
    "start_time": "2022-02-05T16:32:43.837Z"
   },
   {
    "duration": 4,
    "start_time": "2022-02-05T16:33:44.658Z"
   },
   {
    "duration": 7,
    "start_time": "2022-02-05T16:33:48.602Z"
   },
   {
    "duration": 9,
    "start_time": "2022-02-05T16:34:25.302Z"
   },
   {
    "duration": 7,
    "start_time": "2022-02-05T16:34:36.198Z"
   },
   {
    "duration": 6,
    "start_time": "2022-02-05T16:34:47.449Z"
   },
   {
    "duration": 6,
    "start_time": "2022-02-05T16:36:02.135Z"
   },
   {
    "duration": 8,
    "start_time": "2022-02-05T16:36:02.839Z"
   },
   {
    "duration": 6,
    "start_time": "2022-02-05T16:36:03.319Z"
   },
   {
    "duration": 7,
    "start_time": "2022-02-05T16:36:04.671Z"
   },
   {
    "duration": 13,
    "start_time": "2022-02-05T16:36:59.765Z"
   },
   {
    "duration": 7,
    "start_time": "2022-02-05T16:39:32.939Z"
   },
   {
    "duration": 13,
    "start_time": "2022-02-05T16:40:15.103Z"
   },
   {
    "duration": 15,
    "start_time": "2022-02-05T16:40:15.624Z"
   },
   {
    "duration": 13,
    "start_time": "2022-02-05T16:40:16.015Z"
   },
   {
    "duration": 13,
    "start_time": "2022-02-05T16:40:16.628Z"
   },
   {
    "duration": 26,
    "start_time": "2022-02-05T16:40:17.800Z"
   },
   {
    "duration": 23,
    "start_time": "2022-02-05T16:42:45.679Z"
   },
   {
    "duration": 54,
    "start_time": "2022-02-05T16:44:47.834Z"
   },
   {
    "duration": 87,
    "start_time": "2022-02-05T16:47:28.706Z"
   },
   {
    "duration": 124,
    "start_time": "2022-02-05T16:47:42.707Z"
   },
   {
    "duration": 77,
    "start_time": "2022-02-05T16:48:00.958Z"
   },
   {
    "duration": 116,
    "start_time": "2022-02-05T16:48:27.217Z"
   },
   {
    "duration": 116,
    "start_time": "2022-02-05T16:49:32.239Z"
   },
   {
    "duration": 142,
    "start_time": "2022-02-05T16:49:52.112Z"
   },
   {
    "duration": 105,
    "start_time": "2022-02-05T16:57:05.467Z"
   },
   {
    "duration": 18,
    "start_time": "2022-02-05T17:10:42.419Z"
   },
   {
    "duration": 9,
    "start_time": "2022-02-05T17:28:51.085Z"
   },
   {
    "duration": 5,
    "start_time": "2022-02-05T17:29:44.444Z"
   },
   {
    "duration": 9,
    "start_time": "2022-02-05T17:29:48.220Z"
   },
   {
    "duration": 5,
    "start_time": "2022-02-05T17:29:50.195Z"
   },
   {
    "duration": 7,
    "start_time": "2022-02-05T17:29:51.137Z"
   },
   {
    "duration": 846,
    "start_time": "2022-02-05T17:30:02.305Z"
   },
   {
    "duration": 14,
    "start_time": "2022-02-05T17:30:07.378Z"
   },
   {
    "duration": 10,
    "start_time": "2022-02-05T17:31:14.444Z"
   },
   {
    "duration": 8,
    "start_time": "2022-02-05T17:31:25.274Z"
   },
   {
    "duration": 702,
    "start_time": "2022-02-05T17:40:19.809Z"
   },
   {
    "duration": 52,
    "start_time": "2022-02-05T17:40:47.037Z"
   },
   {
    "duration": 24,
    "start_time": "2022-02-05T17:41:07.799Z"
   },
   {
    "duration": 30,
    "start_time": "2022-02-05T17:41:26.049Z"
   },
   {
    "duration": 20,
    "start_time": "2022-02-05T17:42:22.879Z"
   },
   {
    "duration": 16,
    "start_time": "2022-02-05T17:42:48.243Z"
   },
   {
    "duration": 9,
    "start_time": "2022-02-05T17:43:06.402Z"
   },
   {
    "duration": 128,
    "start_time": "2022-02-05T17:44:53.834Z"
   },
   {
    "duration": 368,
    "start_time": "2022-02-05T17:45:04.876Z"
   },
   {
    "duration": 6,
    "start_time": "2022-02-05T17:45:34.968Z"
   },
   {
    "duration": 7,
    "start_time": "2022-02-05T17:45:46.009Z"
   },
   {
    "duration": 6,
    "start_time": "2022-02-05T17:50:17.796Z"
   },
   {
    "duration": 8,
    "start_time": "2022-02-05T17:50:27.468Z"
   },
   {
    "duration": 9,
    "start_time": "2022-02-05T17:50:50.118Z"
   },
   {
    "duration": 8,
    "start_time": "2022-02-05T17:51:27.865Z"
   },
   {
    "duration": 9,
    "start_time": "2022-02-05T17:52:01.695Z"
   },
   {
    "duration": 11,
    "start_time": "2022-02-05T17:54:04.740Z"
   },
   {
    "duration": 311,
    "start_time": "2022-02-05T17:54:53.974Z"
   },
   {
    "duration": 8,
    "start_time": "2022-02-05T17:55:09.688Z"
   },
   {
    "duration": 9,
    "start_time": "2022-02-05T17:55:51.126Z"
   },
   {
    "duration": 296,
    "start_time": "2022-02-05T17:56:22.103Z"
   },
   {
    "duration": 8,
    "start_time": "2022-02-05T17:56:25.864Z"
   },
   {
    "duration": 9,
    "start_time": "2022-02-05T17:58:44.988Z"
   },
   {
    "duration": 350,
    "start_time": "2022-02-05T17:58:54.702Z"
   },
   {
    "duration": 8,
    "start_time": "2022-02-05T17:59:35.603Z"
   },
   {
    "duration": 10,
    "start_time": "2022-02-05T18:01:22.589Z"
   },
   {
    "duration": 26,
    "start_time": "2022-02-05T18:02:10.609Z"
   },
   {
    "duration": 11,
    "start_time": "2022-02-05T18:02:19.146Z"
   },
   {
    "duration": 30,
    "start_time": "2022-02-05T18:02:35.052Z"
   },
   {
    "duration": 10,
    "start_time": "2022-02-05T18:02:52.294Z"
   },
   {
    "duration": 10,
    "start_time": "2022-02-05T18:02:56.574Z"
   },
   {
    "duration": 14,
    "start_time": "2022-02-05T18:02:58.934Z"
   },
   {
    "duration": 276,
    "start_time": "2022-02-05T18:04:21.799Z"
   },
   {
    "duration": 8,
    "start_time": "2022-02-05T18:05:07.563Z"
   },
   {
    "duration": 7,
    "start_time": "2022-02-05T18:05:20.396Z"
   },
   {
    "duration": 8,
    "start_time": "2022-02-05T18:05:21.996Z"
   },
   {
    "duration": 9,
    "start_time": "2022-02-05T18:05:27.431Z"
   },
   {
    "duration": 9,
    "start_time": "2022-02-05T18:06:54.318Z"
   },
   {
    "duration": 8,
    "start_time": "2022-02-05T18:07:08.270Z"
   },
   {
    "duration": 311,
    "start_time": "2022-02-05T18:11:51.532Z"
   },
   {
    "duration": 23,
    "start_time": "2022-02-05T18:13:20.091Z"
   },
   {
    "duration": 278,
    "start_time": "2022-02-05T18:13:43.782Z"
   },
   {
    "duration": 268,
    "start_time": "2022-02-05T18:15:50.138Z"
   },
   {
    "duration": 282,
    "start_time": "2022-02-05T18:16:13.197Z"
   },
   {
    "duration": 5,
    "start_time": "2022-02-05T18:16:31.710Z"
   },
   {
    "duration": 6,
    "start_time": "2022-02-05T18:16:34.046Z"
   },
   {
    "duration": 9,
    "start_time": "2022-02-05T18:16:46.015Z"
   },
   {
    "duration": 118,
    "start_time": "2022-02-05T18:18:53.812Z"
   },
   {
    "duration": 96,
    "start_time": "2022-02-05T18:19:02.101Z"
   },
   {
    "duration": 7,
    "start_time": "2022-02-05T18:19:09.861Z"
   },
   {
    "duration": 1900,
    "start_time": "2022-02-05T18:24:37.582Z"
   },
   {
    "duration": 282,
    "start_time": "2022-02-05T18:25:25.367Z"
   },
   {
    "duration": 298,
    "start_time": "2022-02-05T18:26:24.368Z"
   },
   {
    "duration": 708,
    "start_time": "2022-02-05T18:26:59.898Z"
   },
   {
    "duration": 3,
    "start_time": "2022-02-05T18:31:21.140Z"
   },
   {
    "duration": 479,
    "start_time": "2022-02-05T18:32:16.106Z"
   },
   {
    "duration": 428,
    "start_time": "2022-02-05T18:33:09.224Z"
   },
   {
    "duration": 425,
    "start_time": "2022-02-05T18:34:23.151Z"
   },
   {
    "duration": 440,
    "start_time": "2022-02-05T18:34:33.679Z"
   },
   {
    "duration": 425,
    "start_time": "2022-02-05T18:34:56.770Z"
   },
   {
    "duration": 89,
    "start_time": "2022-02-05T18:38:28.927Z"
   },
   {
    "duration": 50,
    "start_time": "2022-02-05T18:39:39.023Z"
   },
   {
    "duration": 75,
    "start_time": "2022-02-05T18:40:00.176Z"
   },
   {
    "duration": 8,
    "start_time": "2022-02-05T18:40:11.416Z"
   },
   {
    "duration": 692,
    "start_time": "2022-02-05T18:40:36.463Z"
   },
   {
    "duration": 18,
    "start_time": "2022-02-05T18:40:43.016Z"
   },
   {
    "duration": 1338,
    "start_time": "2022-02-05T18:40:46.960Z"
   },
   {
    "duration": 33,
    "start_time": "2022-02-05T18:40:48.311Z"
   },
   {
    "duration": 687,
    "start_time": "2022-02-05T18:41:37.954Z"
   },
   {
    "duration": 13,
    "start_time": "2022-02-05T18:41:44.489Z"
   },
   {
    "duration": 80,
    "start_time": "2022-02-05T18:41:46.041Z"
   },
   {
    "duration": 22,
    "start_time": "2022-02-05T18:41:50.691Z"
   },
   {
    "duration": 422,
    "start_time": "2022-02-05T18:45:22.718Z"
   },
   {
    "duration": 5,
    "start_time": "2022-02-05T18:45:24.047Z"
   },
   {
    "duration": 3358,
    "start_time": "2022-02-05T18:45:32.288Z"
   },
   {
    "duration": 1263,
    "start_time": "2022-02-05T18:45:34.385Z"
   },
   {
    "duration": 751,
    "start_time": "2022-02-05T18:46:48.371Z"
   },
   {
    "duration": 21,
    "start_time": "2022-02-05T18:46:52.925Z"
   },
   {
    "duration": 1138,
    "start_time": "2022-02-05T18:46:54.556Z"
   },
   {
    "duration": 25,
    "start_time": "2022-02-05T18:47:01.853Z"
   },
   {
    "duration": 21,
    "start_time": "2022-02-05T18:47:13.918Z"
   },
   {
    "duration": 1457,
    "start_time": "2022-02-05T18:49:30.397Z"
   },
   {
    "duration": 1035,
    "start_time": "2022-02-05T18:50:26.937Z"
   },
   {
    "duration": 1278,
    "start_time": "2022-02-05T18:52:37.621Z"
   },
   {
    "duration": 1277,
    "start_time": "2022-02-05T18:52:37.623Z"
   },
   {
    "duration": 731,
    "start_time": "2022-02-05T18:52:49.455Z"
   },
   {
    "duration": 14,
    "start_time": "2022-02-05T18:52:55.286Z"
   },
   {
    "duration": 8417,
    "start_time": "2022-02-05T18:52:58.080Z"
   },
   {
    "duration": 1260,
    "start_time": "2022-02-05T18:53:05.238Z"
   },
   {
    "duration": 308,
    "start_time": "2022-02-05T18:53:38.907Z"
   },
   {
    "duration": 407,
    "start_time": "2022-02-05T18:54:24.043Z"
   },
   {
    "duration": 16,
    "start_time": "2022-02-05T18:54:29.064Z"
   },
   {
    "duration": 1016,
    "start_time": "2022-02-05T18:56:19.851Z"
   },
   {
    "duration": 92,
    "start_time": "2022-02-05T18:57:18.295Z"
   },
   {
    "duration": 103,
    "start_time": "2022-02-05T18:57:41.091Z"
   },
   {
    "duration": 138,
    "start_time": "2022-02-05T18:58:23.141Z"
   },
   {
    "duration": 1311,
    "start_time": "2022-02-05T18:59:05.834Z"
   },
   {
    "duration": 1385,
    "start_time": "2022-02-05T19:00:05.987Z"
   },
   {
    "duration": 1378,
    "start_time": "2022-02-05T19:00:55.998Z"
   },
   {
    "duration": 1354,
    "start_time": "2022-02-05T19:01:29.547Z"
   },
   {
    "duration": 1344,
    "start_time": "2022-02-05T19:01:52.243Z"
   },
   {
    "duration": 12,
    "start_time": "2022-02-05T19:03:24.544Z"
   },
   {
    "duration": 10,
    "start_time": "2022-02-05T19:03:37.486Z"
   },
   {
    "duration": 10,
    "start_time": "2022-02-05T19:04:07.842Z"
   },
   {
    "duration": 10,
    "start_time": "2022-02-05T19:04:17.272Z"
   },
   {
    "duration": 125,
    "start_time": "2022-02-05T19:04:41.234Z"
   },
   {
    "duration": 10,
    "start_time": "2022-02-05T19:11:04.490Z"
   },
   {
    "duration": 12,
    "start_time": "2022-02-05T19:11:14.491Z"
   },
   {
    "duration": 17,
    "start_time": "2022-02-05T19:11:27.557Z"
   },
   {
    "duration": 15,
    "start_time": "2022-02-05T19:11:40.158Z"
   },
   {
    "duration": 12,
    "start_time": "2022-02-05T19:11:52.911Z"
   },
   {
    "duration": 140,
    "start_time": "2022-02-05T19:12:04.304Z"
   },
   {
    "duration": 91,
    "start_time": "2022-02-05T19:12:08.873Z"
   },
   {
    "duration": 29,
    "start_time": "2022-02-05T19:12:15.314Z"
   },
   {
    "duration": 95,
    "start_time": "2022-02-05T19:16:13.026Z"
   },
   {
    "duration": 630,
    "start_time": "2022-02-05T19:23:24.160Z"
   },
   {
    "duration": 20,
    "start_time": "2022-02-05T19:23:24.792Z"
   },
   {
    "duration": 113,
    "start_time": "2022-02-05T19:23:24.815Z"
   },
   {
    "duration": 78,
    "start_time": "2022-02-05T19:23:24.931Z"
   },
   {
    "duration": 1311,
    "start_time": "2022-02-05T19:23:23.700Z"
   },
   {
    "duration": 1310,
    "start_time": "2022-02-05T19:23:23.702Z"
   },
   {
    "duration": 1309,
    "start_time": "2022-02-05T19:23:23.704Z"
   },
   {
    "duration": 1309,
    "start_time": "2022-02-05T19:23:23.706Z"
   },
   {
    "duration": 1309,
    "start_time": "2022-02-05T19:23:23.707Z"
   },
   {
    "duration": 1307,
    "start_time": "2022-02-05T19:23:23.709Z"
   },
   {
    "duration": 1307,
    "start_time": "2022-02-05T19:23:23.710Z"
   },
   {
    "duration": 1306,
    "start_time": "2022-02-05T19:23:23.712Z"
   },
   {
    "duration": 512,
    "start_time": "2022-02-05T19:23:38.808Z"
   },
   {
    "duration": 16,
    "start_time": "2022-02-05T19:24:07.132Z"
   },
   {
    "duration": 10,
    "start_time": "2022-02-05T19:24:08.507Z"
   },
   {
    "duration": 7,
    "start_time": "2022-02-05T19:24:10.003Z"
   },
   {
    "duration": 5,
    "start_time": "2022-02-05T19:24:11.403Z"
   },
   {
    "duration": 12,
    "start_time": "2022-02-05T19:24:11.995Z"
   },
   {
    "duration": 4,
    "start_time": "2022-02-05T19:24:13.947Z"
   },
   {
    "duration": 6,
    "start_time": "2022-02-05T19:24:14.275Z"
   },
   {
    "duration": 24,
    "start_time": "2022-02-05T19:24:15.531Z"
   },
   {
    "duration": 6,
    "start_time": "2022-02-05T19:24:18.484Z"
   },
   {
    "duration": 4,
    "start_time": "2022-02-05T19:24:21.260Z"
   },
   {
    "duration": 493,
    "start_time": "2022-02-05T19:24:22.908Z"
   },
   {
    "duration": 21,
    "start_time": "2022-02-05T19:24:45.975Z"
   },
   {
    "duration": 6,
    "start_time": "2022-02-05T19:24:57.201Z"
   },
   {
    "duration": 6,
    "start_time": "2022-02-05T19:24:59.967Z"
   },
   {
    "duration": 3,
    "start_time": "2022-02-05T19:25:00.889Z"
   },
   {
    "duration": 22,
    "start_time": "2022-02-05T19:25:01.097Z"
   },
   {
    "duration": 8,
    "start_time": "2022-02-05T19:25:02.063Z"
   },
   {
    "duration": 7,
    "start_time": "2022-02-05T19:26:21.183Z"
   },
   {
    "duration": 4,
    "start_time": "2022-02-05T19:26:24.456Z"
   },
   {
    "duration": 22,
    "start_time": "2022-02-05T19:26:24.983Z"
   },
   {
    "duration": 7,
    "start_time": "2022-02-05T19:26:25.575Z"
   },
   {
    "duration": 501,
    "start_time": "2022-02-05T19:26:50.890Z"
   },
   {
    "duration": 5,
    "start_time": "2022-02-05T19:27:48.745Z"
   },
   {
    "duration": 641,
    "start_time": "2022-02-05T19:27:49.200Z"
   },
   {
    "duration": 4,
    "start_time": "2022-02-05T19:28:32.102Z"
   },
   {
    "duration": 6,
    "start_time": "2022-02-05T19:28:34.100Z"
   },
   {
    "duration": 6,
    "start_time": "2022-02-05T19:29:14.016Z"
   },
   {
    "duration": 7,
    "start_time": "2022-02-05T19:29:15.600Z"
   },
   {
    "duration": 6,
    "start_time": "2022-02-05T19:30:22.336Z"
   },
   {
    "duration": 147,
    "start_time": "2022-02-05T19:32:04.544Z"
   },
   {
    "duration": 7,
    "start_time": "2022-02-05T19:32:14.153Z"
   },
   {
    "duration": 5,
    "start_time": "2022-02-05T19:32:15.266Z"
   },
   {
    "duration": 4,
    "start_time": "2022-02-05T19:32:19.202Z"
   },
   {
    "duration": 17,
    "start_time": "2022-02-05T19:32:19.794Z"
   },
   {
    "duration": 36,
    "start_time": "2022-02-05T19:32:20.338Z"
   },
   {
    "duration": 22,
    "start_time": "2022-02-05T19:32:20.874Z"
   },
   {
    "duration": 78,
    "start_time": "2022-02-05T19:32:21.531Z"
   },
   {
    "duration": 64,
    "start_time": "2022-02-05T19:32:22.105Z"
   },
   {
    "duration": 9,
    "start_time": "2022-02-05T19:32:22.842Z"
   },
   {
    "duration": 6,
    "start_time": "2022-02-05T19:32:23.114Z"
   },
   {
    "duration": 15,
    "start_time": "2022-02-05T19:32:23.546Z"
   },
   {
    "duration": 22,
    "start_time": "2022-02-05T19:32:24.163Z"
   },
   {
    "duration": 14,
    "start_time": "2022-02-05T19:32:24.954Z"
   },
   {
    "duration": 12,
    "start_time": "2022-02-05T19:32:25.314Z"
   },
   {
    "duration": 11,
    "start_time": "2022-02-05T19:32:25.955Z"
   },
   {
    "duration": 13,
    "start_time": "2022-02-05T19:32:26.387Z"
   },
   {
    "duration": 6,
    "start_time": "2022-02-05T19:32:26.930Z"
   },
   {
    "duration": 12,
    "start_time": "2022-02-05T20:47:56.740Z"
   },
   {
    "duration": 12,
    "start_time": "2022-02-05T20:47:57.341Z"
   },
   {
    "duration": 13,
    "start_time": "2022-02-05T20:47:57.803Z"
   },
   {
    "duration": 14,
    "start_time": "2022-02-05T20:47:58.348Z"
   },
   {
    "duration": 15,
    "start_time": "2022-02-05T20:49:54.063Z"
   },
   {
    "duration": 13,
    "start_time": "2022-02-05T20:49:57.247Z"
   },
   {
    "duration": 9,
    "start_time": "2022-02-05T20:53:18.627Z"
   },
   {
    "duration": 323,
    "start_time": "2022-02-05T20:53:30.093Z"
   },
   {
    "duration": 9,
    "start_time": "2022-02-05T20:53:51.823Z"
   },
   {
    "duration": 1390,
    "start_time": "2022-02-05T20:55:04.312Z"
   },
   {
    "duration": 1391,
    "start_time": "2022-02-05T20:55:13.519Z"
   },
   {
    "duration": 11,
    "start_time": "2022-02-05T20:55:16.847Z"
   },
   {
    "duration": 10,
    "start_time": "2022-02-05T20:55:22.344Z"
   },
   {
    "duration": 10,
    "start_time": "2022-02-05T20:55:39.330Z"
   },
   {
    "duration": 10,
    "start_time": "2022-02-05T20:55:48.115Z"
   },
   {
    "duration": 11,
    "start_time": "2022-02-05T20:55:56.243Z"
   },
   {
    "duration": 11,
    "start_time": "2022-02-05T21:01:47.017Z"
   },
   {
    "duration": 11,
    "start_time": "2022-02-05T21:01:51.127Z"
   },
   {
    "duration": 13,
    "start_time": "2022-02-05T21:02:08.228Z"
   },
   {
    "duration": 90,
    "start_time": "2022-02-06T08:41:30.640Z"
   },
   {
    "duration": 82,
    "start_time": "2022-02-06T08:42:14.899Z"
   },
   {
    "duration": 689,
    "start_time": "2022-02-06T09:03:29.910Z"
   },
   {
    "duration": 19,
    "start_time": "2022-02-06T09:03:30.601Z"
   },
   {
    "duration": 109,
    "start_time": "2022-02-06T09:03:30.622Z"
   },
   {
    "duration": 10,
    "start_time": "2022-02-06T09:03:30.732Z"
   },
   {
    "duration": 12,
    "start_time": "2022-02-06T09:03:30.744Z"
   },
   {
    "duration": 9,
    "start_time": "2022-02-06T09:03:30.758Z"
   },
   {
    "duration": 17,
    "start_time": "2022-02-06T09:03:30.769Z"
   },
   {
    "duration": 15,
    "start_time": "2022-02-06T09:03:30.788Z"
   },
   {
    "duration": 3,
    "start_time": "2022-02-06T09:03:30.818Z"
   },
   {
    "duration": 15,
    "start_time": "2022-02-06T09:03:30.823Z"
   },
   {
    "duration": 8,
    "start_time": "2022-02-06T09:03:30.839Z"
   },
   {
    "duration": 8,
    "start_time": "2022-02-06T09:03:30.848Z"
   },
   {
    "duration": 24,
    "start_time": "2022-02-06T09:03:30.857Z"
   },
   {
    "duration": 19,
    "start_time": "2022-02-06T09:03:30.883Z"
   },
   {
    "duration": 38,
    "start_time": "2022-02-06T09:03:30.903Z"
   },
   {
    "duration": 23,
    "start_time": "2022-02-06T09:03:30.943Z"
   },
   {
    "duration": 50,
    "start_time": "2022-02-06T09:03:30.968Z"
   },
   {
    "duration": 26,
    "start_time": "2022-02-06T09:03:31.020Z"
   },
   {
    "duration": 15,
    "start_time": "2022-02-06T09:03:31.048Z"
   },
   {
    "duration": 13,
    "start_time": "2022-02-06T09:03:31.065Z"
   },
   {
    "duration": 21,
    "start_time": "2022-02-06T09:03:31.080Z"
   },
   {
    "duration": 33,
    "start_time": "2022-02-06T09:03:31.103Z"
   },
   {
    "duration": 21,
    "start_time": "2022-02-06T09:03:31.140Z"
   },
   {
    "duration": 14,
    "start_time": "2022-02-06T09:03:31.162Z"
   },
   {
    "duration": 9,
    "start_time": "2022-02-06T09:03:31.178Z"
   },
   {
    "duration": 34,
    "start_time": "2022-02-06T09:03:31.188Z"
   },
   {
    "duration": 11,
    "start_time": "2022-02-06T09:03:31.225Z"
   },
   {
    "duration": 5,
    "start_time": "2022-02-06T09:03:31.238Z"
   },
   {
    "duration": 81,
    "start_time": "2022-02-06T09:07:11.917Z"
   },
   {
    "duration": 4,
    "start_time": "2022-02-06T09:10:44.490Z"
   },
   {
    "duration": 77,
    "start_time": "2022-02-06T09:11:56.282Z"
   },
   {
    "duration": 63,
    "start_time": "2022-02-06T09:12:10.890Z"
   },
   {
    "duration": 60,
    "start_time": "2022-02-06T09:12:11.335Z"
   },
   {
    "duration": 12,
    "start_time": "2022-02-06T09:12:11.397Z"
   },
   {
    "duration": 100,
    "start_time": "2022-02-06T09:12:11.410Z"
   },
   {
    "duration": 15,
    "start_time": "2022-02-06T09:12:11.511Z"
   },
   {
    "duration": 10,
    "start_time": "2022-02-06T09:12:11.527Z"
   },
   {
    "duration": 3,
    "start_time": "2022-02-06T09:12:11.538Z"
   },
   {
    "duration": 7,
    "start_time": "2022-02-06T09:12:11.542Z"
   },
   {
    "duration": 17,
    "start_time": "2022-02-06T09:12:11.552Z"
   },
   {
    "duration": 3,
    "start_time": "2022-02-06T09:12:11.571Z"
   },
   {
    "duration": 13,
    "start_time": "2022-02-06T09:12:11.576Z"
   },
   {
    "duration": 31,
    "start_time": "2022-02-06T09:12:11.591Z"
   },
   {
    "duration": 5,
    "start_time": "2022-02-06T09:12:11.625Z"
   },
   {
    "duration": 5,
    "start_time": "2022-02-06T09:12:11.631Z"
   },
   {
    "duration": 16,
    "start_time": "2022-02-06T09:12:11.637Z"
   },
   {
    "duration": 67,
    "start_time": "2022-02-06T09:12:11.656Z"
   },
   {
    "duration": 19,
    "start_time": "2022-02-06T09:12:11.725Z"
   },
   {
    "duration": 38,
    "start_time": "2022-02-06T09:12:11.746Z"
   },
   {
    "duration": 44,
    "start_time": "2022-02-06T09:12:11.786Z"
   },
   {
    "duration": 10,
    "start_time": "2022-02-06T09:12:11.832Z"
   },
   {
    "duration": 6,
    "start_time": "2022-02-06T09:12:11.844Z"
   },
   {
    "duration": 15,
    "start_time": "2022-02-06T09:12:11.852Z"
   },
   {
    "duration": 51,
    "start_time": "2022-02-06T09:12:11.869Z"
   },
   {
    "duration": 15,
    "start_time": "2022-02-06T09:12:11.923Z"
   },
   {
    "duration": 11,
    "start_time": "2022-02-06T09:12:11.939Z"
   },
   {
    "duration": 10,
    "start_time": "2022-02-06T09:12:11.952Z"
   },
   {
    "duration": 15,
    "start_time": "2022-02-06T09:12:11.963Z"
   },
   {
    "duration": 42,
    "start_time": "2022-02-06T09:12:11.980Z"
   },
   {
    "duration": 2,
    "start_time": "2022-02-06T09:12:12.023Z"
   },
   {
    "duration": 695,
    "start_time": "2022-02-06T09:12:23.025Z"
   },
   {
    "duration": 23,
    "start_time": "2022-02-06T09:12:23.721Z"
   },
   {
    "duration": 121,
    "start_time": "2022-02-06T09:12:23.746Z"
   },
   {
    "duration": 10,
    "start_time": "2022-02-06T09:12:23.869Z"
   },
   {
    "duration": 16,
    "start_time": "2022-02-06T09:12:23.881Z"
   },
   {
    "duration": 6,
    "start_time": "2022-02-06T09:12:23.899Z"
   },
   {
    "duration": 4,
    "start_time": "2022-02-06T09:12:23.919Z"
   },
   {
    "duration": 14,
    "start_time": "2022-02-06T09:12:23.926Z"
   },
   {
    "duration": 3,
    "start_time": "2022-02-06T09:12:23.942Z"
   },
   {
    "duration": 12,
    "start_time": "2022-02-06T09:12:23.947Z"
   },
   {
    "duration": 7,
    "start_time": "2022-02-06T09:12:23.960Z"
   },
   {
    "duration": 5,
    "start_time": "2022-02-06T09:12:23.969Z"
   },
   {
    "duration": 5,
    "start_time": "2022-02-06T09:12:23.976Z"
   },
   {
    "duration": 56,
    "start_time": "2022-02-06T09:12:23.983Z"
   },
   {
    "duration": 36,
    "start_time": "2022-02-06T09:12:24.041Z"
   },
   {
    "duration": 40,
    "start_time": "2022-02-06T09:12:24.079Z"
   },
   {
    "duration": 41,
    "start_time": "2022-02-06T09:12:24.121Z"
   },
   {
    "duration": 20,
    "start_time": "2022-02-06T09:12:24.164Z"
   },
   {
    "duration": 32,
    "start_time": "2022-02-06T09:12:24.186Z"
   },
   {
    "duration": 7,
    "start_time": "2022-02-06T09:12:24.221Z"
   },
   {
    "duration": 21,
    "start_time": "2022-02-06T09:12:24.230Z"
   },
   {
    "duration": 27,
    "start_time": "2022-02-06T09:12:24.253Z"
   },
   {
    "duration": 15,
    "start_time": "2022-02-06T09:12:24.283Z"
   },
   {
    "duration": 28,
    "start_time": "2022-02-06T09:12:24.300Z"
   },
   {
    "duration": 15,
    "start_time": "2022-02-06T09:12:24.330Z"
   },
   {
    "duration": 87,
    "start_time": "2022-02-06T09:12:24.347Z"
   },
   {
    "duration": 132,
    "start_time": "2022-02-06T09:12:24.436Z"
   },
   {
    "duration": 95,
    "start_time": "2022-02-06T09:12:24.570Z"
   },
   {
    "duration": 82,
    "start_time": "2022-02-06T09:15:47.167Z"
   },
   {
    "duration": 13,
    "start_time": "2022-02-06T09:23:02.074Z"
   },
   {
    "duration": 21,
    "start_time": "2022-02-06T09:23:05.426Z"
   },
   {
    "duration": 305,
    "start_time": "2022-02-06T09:39:33.333Z"
   },
   {
    "duration": 625,
    "start_time": "2022-02-06T09:39:38.987Z"
   },
   {
    "duration": 1188,
    "start_time": "2022-02-06T09:39:47.434Z"
   },
   {
    "duration": 16,
    "start_time": "2022-02-06T09:39:48.624Z"
   },
   {
    "duration": 120,
    "start_time": "2022-02-06T09:39:48.642Z"
   },
   {
    "duration": 11,
    "start_time": "2022-02-06T09:39:48.764Z"
   },
   {
    "duration": 11,
    "start_time": "2022-02-06T09:39:48.776Z"
   },
   {
    "duration": 7,
    "start_time": "2022-02-06T09:39:48.789Z"
   },
   {
    "duration": 23,
    "start_time": "2022-02-06T09:39:48.797Z"
   },
   {
    "duration": 19,
    "start_time": "2022-02-06T09:39:48.822Z"
   },
   {
    "duration": 3,
    "start_time": "2022-02-06T09:39:48.844Z"
   },
   {
    "duration": 9,
    "start_time": "2022-02-06T09:39:48.849Z"
   },
   {
    "duration": 7,
    "start_time": "2022-02-06T09:39:48.860Z"
   },
   {
    "duration": 5,
    "start_time": "2022-02-06T09:39:48.868Z"
   },
   {
    "duration": 7,
    "start_time": "2022-02-06T09:39:48.874Z"
   },
   {
    "duration": 43,
    "start_time": "2022-02-06T09:39:48.882Z"
   },
   {
    "duration": 34,
    "start_time": "2022-02-06T09:39:48.927Z"
   },
   {
    "duration": 19,
    "start_time": "2022-02-06T09:39:48.963Z"
   },
   {
    "duration": 60,
    "start_time": "2022-02-06T09:39:48.984Z"
   },
   {
    "duration": 19,
    "start_time": "2022-02-06T09:39:49.046Z"
   },
   {
    "duration": 9,
    "start_time": "2022-02-06T09:39:49.067Z"
   },
   {
    "duration": 12,
    "start_time": "2022-02-06T09:39:49.077Z"
   },
   {
    "duration": 31,
    "start_time": "2022-02-06T09:39:49.091Z"
   },
   {
    "duration": 23,
    "start_time": "2022-02-06T09:39:49.124Z"
   },
   {
    "duration": 14,
    "start_time": "2022-02-06T09:39:49.149Z"
   },
   {
    "duration": 11,
    "start_time": "2022-02-06T09:39:49.165Z"
   },
   {
    "duration": 9,
    "start_time": "2022-02-06T09:39:49.178Z"
   },
   {
    "duration": 13,
    "start_time": "2022-02-06T09:39:49.218Z"
   },
   {
    "duration": 320,
    "start_time": "2022-02-06T09:39:49.234Z"
   },
   {
    "duration": 3,
    "start_time": "2022-02-06T09:39:49.556Z"
   },
   {
    "duration": 557,
    "start_time": "2022-02-06T09:41:15.630Z"
   },
   {
    "duration": 252,
    "start_time": "2022-02-06T09:41:38.576Z"
   },
   {
    "duration": 107,
    "start_time": "2022-02-06T09:41:56.218Z"
   },
   {
    "duration": 305,
    "start_time": "2022-02-06T09:42:04.507Z"
   },
   {
    "duration": 278,
    "start_time": "2022-02-06T09:42:18.765Z"
   },
   {
    "duration": 296,
    "start_time": "2022-02-06T09:42:27.813Z"
   },
   {
    "duration": 271,
    "start_time": "2022-02-06T09:42:58.264Z"
   },
   {
    "duration": 323,
    "start_time": "2022-02-06T09:43:19.699Z"
   },
   {
    "duration": 146,
    "start_time": "2022-02-06T09:45:46.769Z"
   },
   {
    "duration": 133,
    "start_time": "2022-02-06T09:47:54.830Z"
   },
   {
    "duration": 132,
    "start_time": "2022-02-06T09:48:23.440Z"
   },
   {
    "duration": 213,
    "start_time": "2022-02-06T09:48:50.978Z"
   },
   {
    "duration": 132,
    "start_time": "2022-02-06T09:48:57.819Z"
   },
   {
    "duration": 504,
    "start_time": "2022-02-06T09:49:07.677Z"
   },
   {
    "duration": 518,
    "start_time": "2022-02-06T09:51:00.320Z"
   },
   {
    "duration": 502,
    "start_time": "2022-02-06T09:51:37.539Z"
   },
   {
    "duration": 86,
    "start_time": "2022-02-06T09:52:18.528Z"
   },
   {
    "duration": 324,
    "start_time": "2022-02-06T09:52:57.315Z"
   },
   {
    "duration": 254,
    "start_time": "2022-02-06T09:53:08.414Z"
   },
   {
    "duration": 684,
    "start_time": "2022-02-06T09:53:40.416Z"
   },
   {
    "duration": 897,
    "start_time": "2022-02-06T09:54:00.451Z"
   },
   {
    "duration": 1748,
    "start_time": "2022-02-06T09:54:13.139Z"
   },
   {
    "duration": 609,
    "start_time": "2022-02-06T09:54:28.380Z"
   },
   {
    "duration": 745,
    "start_time": "2022-02-06T09:54:42.549Z"
   },
   {
    "duration": 675,
    "start_time": "2022-02-06T09:55:10.664Z"
   },
   {
    "duration": 8129,
    "start_time": "2022-02-06T09:59:38.058Z"
   },
   {
    "duration": 20,
    "start_time": "2022-02-06T09:59:46.397Z"
   },
   {
    "duration": 324,
    "start_time": "2022-02-06T10:00:08.372Z"
   },
   {
    "duration": 1242,
    "start_time": "2022-02-06T10:00:12.252Z"
   },
   {
    "duration": 20,
    "start_time": "2022-02-06T10:00:14.301Z"
   },
   {
    "duration": 331,
    "start_time": "2022-02-06T10:00:23.566Z"
   },
   {
    "duration": 13,
    "start_time": "2022-02-06T10:00:36.566Z"
   },
   {
    "duration": 5,
    "start_time": "2022-02-06T10:00:38.783Z"
   },
   {
    "duration": 4,
    "start_time": "2022-02-06T10:00:43.135Z"
   },
   {
    "duration": 11,
    "start_time": "2022-02-06T10:00:55.177Z"
   },
   {
    "duration": 27,
    "start_time": "2022-02-06T10:01:17.084Z"
   },
   {
    "duration": 6,
    "start_time": "2022-02-06T10:01:43.333Z"
   },
   {
    "duration": 7964,
    "start_time": "2022-02-06T10:07:23.424Z"
   },
   {
    "duration": 18,
    "start_time": "2022-02-06T10:07:37.857Z"
   },
   {
    "duration": 5,
    "start_time": "2022-02-06T10:07:41.825Z"
   },
   {
    "duration": 13,
    "start_time": "2022-02-06T10:09:11.410Z"
   },
   {
    "duration": 18,
    "start_time": "2022-02-06T10:09:16.890Z"
   },
   {
    "duration": 14,
    "start_time": "2022-02-06T10:13:58.526Z"
   },
   {
    "duration": 14,
    "start_time": "2022-02-06T10:14:08.688Z"
   },
   {
    "duration": 1234,
    "start_time": "2022-02-06T10:24:40.778Z"
   },
   {
    "duration": 17,
    "start_time": "2022-02-06T10:24:42.014Z"
   },
   {
    "duration": 117,
    "start_time": "2022-02-06T10:24:42.033Z"
   },
   {
    "duration": 10,
    "start_time": "2022-02-06T10:24:42.152Z"
   },
   {
    "duration": 10,
    "start_time": "2022-02-06T10:24:42.164Z"
   },
   {
    "duration": 3,
    "start_time": "2022-02-06T10:24:42.176Z"
   },
   {
    "duration": 8,
    "start_time": "2022-02-06T10:24:42.181Z"
   },
   {
    "duration": 33,
    "start_time": "2022-02-06T10:24:42.191Z"
   },
   {
    "duration": 3,
    "start_time": "2022-02-06T10:24:42.226Z"
   },
   {
    "duration": 9,
    "start_time": "2022-02-06T10:24:42.230Z"
   },
   {
    "duration": 5,
    "start_time": "2022-02-06T10:24:42.241Z"
   },
   {
    "duration": 11,
    "start_time": "2022-02-06T10:24:42.248Z"
   },
   {
    "duration": 7,
    "start_time": "2022-02-06T10:24:42.261Z"
   },
   {
    "duration": 17,
    "start_time": "2022-02-06T10:24:42.270Z"
   },
   {
    "duration": 62,
    "start_time": "2022-02-06T10:24:42.289Z"
   },
   {
    "duration": 18,
    "start_time": "2022-02-06T10:24:42.353Z"
   },
   {
    "duration": 57,
    "start_time": "2022-02-06T10:24:42.373Z"
   },
   {
    "duration": 18,
    "start_time": "2022-02-06T10:24:42.432Z"
   },
   {
    "duration": 8,
    "start_time": "2022-02-06T10:24:42.452Z"
   },
   {
    "duration": 11,
    "start_time": "2022-02-06T10:24:42.462Z"
   },
   {
    "duration": 14,
    "start_time": "2022-02-06T10:24:42.474Z"
   },
   {
    "duration": 30,
    "start_time": "2022-02-06T10:24:42.490Z"
   },
   {
    "duration": 12,
    "start_time": "2022-02-06T10:24:42.523Z"
   },
   {
    "duration": 14,
    "start_time": "2022-02-06T10:24:42.537Z"
   },
   {
    "duration": 15,
    "start_time": "2022-02-06T10:24:42.553Z"
   },
   {
    "duration": 170,
    "start_time": "2022-02-06T10:24:42.569Z"
   },
   {
    "duration": 10,
    "start_time": "2022-02-06T10:24:42.741Z"
   },
   {
    "duration": 551,
    "start_time": "2022-02-06T10:24:42.753Z"
   },
   {
    "duration": 643,
    "start_time": "2022-02-06T10:24:43.306Z"
   },
   {
    "duration": 3,
    "start_time": "2022-02-06T10:24:43.950Z"
   },
   {
    "duration": 585,
    "start_time": "2022-02-06T10:26:08.015Z"
   },
   {
    "duration": 621,
    "start_time": "2022-02-06T10:26:20.735Z"
   },
   {
    "duration": 159,
    "start_time": "2022-02-06T10:27:41.606Z"
   },
   {
    "duration": 205,
    "start_time": "2022-02-06T10:27:51.335Z"
   },
   {
    "duration": 633,
    "start_time": "2022-02-06T10:27:56.328Z"
   },
   {
    "duration": 1209,
    "start_time": "2022-02-06T10:30:14.902Z"
   },
   {
    "duration": 174,
    "start_time": "2022-02-06T10:31:05.877Z"
   },
   {
    "duration": 144,
    "start_time": "2022-02-06T10:31:21.365Z"
   },
   {
    "duration": 1978,
    "start_time": "2022-02-06T10:31:40.423Z"
   },
   {
    "duration": 108,
    "start_time": "2022-02-06T10:31:47.255Z"
   },
   {
    "duration": 327,
    "start_time": "2022-02-06T10:31:50.183Z"
   },
   {
    "duration": 154,
    "start_time": "2022-02-06T10:31:55.367Z"
   },
   {
    "duration": 144,
    "start_time": "2022-02-06T10:32:04.040Z"
   },
   {
    "duration": 22,
    "start_time": "2022-02-06T10:33:07.000Z"
   },
   {
    "duration": 251,
    "start_time": "2022-02-06T10:33:35.393Z"
   },
   {
    "duration": 16,
    "start_time": "2022-02-06T10:33:39.385Z"
   },
   {
    "duration": 370,
    "start_time": "2022-02-06T10:33:40.209Z"
   },
   {
    "duration": 20,
    "start_time": "2022-02-06T10:34:22.959Z"
   },
   {
    "duration": 12,
    "start_time": "2022-02-06T10:34:53.585Z"
   },
   {
    "duration": 12,
    "start_time": "2022-02-06T10:36:25.250Z"
   },
   {
    "duration": 344,
    "start_time": "2022-02-06T10:41:53.177Z"
   },
   {
    "duration": 274,
    "start_time": "2022-02-06T10:43:12.138Z"
   },
   {
    "duration": 304,
    "start_time": "2022-02-06T10:43:32.524Z"
   },
   {
    "duration": 15,
    "start_time": "2022-02-06T10:44:27.746Z"
   },
   {
    "duration": 14,
    "start_time": "2022-02-06T10:45:03.613Z"
   },
   {
    "duration": 725,
    "start_time": "2022-02-06T10:45:04.980Z"
   },
   {
    "duration": 12,
    "start_time": "2022-02-06T10:46:12.804Z"
   },
   {
    "duration": 674,
    "start_time": "2022-02-06T10:46:13.772Z"
   },
   {
    "duration": 640,
    "start_time": "2022-02-06T10:46:24.908Z"
   },
   {
    "duration": 13,
    "start_time": "2022-02-06T10:46:36.805Z"
   },
   {
    "duration": 507,
    "start_time": "2022-02-06T10:46:37.533Z"
   },
   {
    "duration": 500,
    "start_time": "2022-02-06T10:46:43.951Z"
   },
   {
    "duration": 3,
    "start_time": "2022-02-06T10:47:38.588Z"
   },
   {
    "duration": 103,
    "start_time": "2022-02-06T10:52:26.536Z"
   },
   {
    "duration": 11,
    "start_time": "2022-02-06T10:55:30.658Z"
   },
   {
    "duration": 627,
    "start_time": "2022-02-06T10:55:31.578Z"
   },
   {
    "duration": 22,
    "start_time": "2022-02-06T10:55:32.207Z"
   },
   {
    "duration": 652,
    "start_time": "2022-02-06T10:55:32.232Z"
   },
   {
    "duration": 3,
    "start_time": "2022-02-06T10:55:32.886Z"
   },
   {
    "duration": 27,
    "start_time": "2022-02-06T10:55:32.891Z"
   },
   {
    "duration": 607,
    "start_time": "2022-02-06T10:55:32.920Z"
   },
   {
    "duration": 14,
    "start_time": "2022-02-06T10:55:33.529Z"
   },
   {
    "duration": 694,
    "start_time": "2022-02-06T10:55:33.826Z"
   },
   {
    "duration": 20,
    "start_time": "2022-02-06T10:55:34.522Z"
   },
   {
    "duration": 282,
    "start_time": "2022-02-06T10:55:35.066Z"
   },
   {
    "duration": 14,
    "start_time": "2022-02-06T10:56:25.893Z"
   },
   {
    "duration": 1266,
    "start_time": "2022-02-06T11:07:31.360Z"
   },
   {
    "duration": 29,
    "start_time": "2022-02-06T11:08:00.676Z"
   },
   {
    "duration": 16,
    "start_time": "2022-02-06T11:08:26.221Z"
   },
   {
    "duration": 3,
    "start_time": "2022-02-06T11:11:46.104Z"
   },
   {
    "duration": 378,
    "start_time": "2022-02-06T11:11:50.361Z"
   },
   {
    "duration": 85,
    "start_time": "2022-02-06T11:11:58.637Z"
   },
   {
    "duration": 13,
    "start_time": "2022-02-06T11:11:58.725Z"
   },
   {
    "duration": 130,
    "start_time": "2022-02-06T11:11:58.741Z"
   },
   {
    "duration": 11,
    "start_time": "2022-02-06T11:11:58.874Z"
   },
   {
    "duration": 31,
    "start_time": "2022-02-06T11:11:58.887Z"
   },
   {
    "duration": 3,
    "start_time": "2022-02-06T11:11:58.920Z"
   },
   {
    "duration": 12,
    "start_time": "2022-02-06T11:11:58.925Z"
   },
   {
    "duration": 17,
    "start_time": "2022-02-06T11:11:58.940Z"
   },
   {
    "duration": 4,
    "start_time": "2022-02-06T11:11:58.959Z"
   },
   {
    "duration": 13,
    "start_time": "2022-02-06T11:11:58.964Z"
   },
   {
    "duration": 9,
    "start_time": "2022-02-06T11:11:58.978Z"
   },
   {
    "duration": 7,
    "start_time": "2022-02-06T11:11:58.988Z"
   },
   {
    "duration": 23,
    "start_time": "2022-02-06T11:11:58.997Z"
   },
   {
    "duration": 17,
    "start_time": "2022-02-06T11:11:59.021Z"
   },
   {
    "duration": 34,
    "start_time": "2022-02-06T11:11:59.040Z"
   },
   {
    "duration": 17,
    "start_time": "2022-02-06T11:11:59.076Z"
   },
   {
    "duration": 56,
    "start_time": "2022-02-06T11:11:59.095Z"
   },
   {
    "duration": 28,
    "start_time": "2022-02-06T11:11:59.153Z"
   },
   {
    "duration": 17,
    "start_time": "2022-02-06T11:11:59.184Z"
   },
   {
    "duration": 8,
    "start_time": "2022-02-06T11:11:59.218Z"
   },
   {
    "duration": 34,
    "start_time": "2022-02-06T11:11:59.228Z"
   },
   {
    "duration": 7,
    "start_time": "2022-02-06T11:11:59.265Z"
   },
   {
    "duration": 20,
    "start_time": "2022-02-06T11:11:59.276Z"
   },
   {
    "duration": 32,
    "start_time": "2022-02-06T11:11:59.298Z"
   },
   {
    "duration": 14,
    "start_time": "2022-02-06T11:11:59.332Z"
   },
   {
    "duration": 641,
    "start_time": "2022-02-06T11:11:59.348Z"
   },
   {
    "duration": 736,
    "start_time": "2022-02-06T11:11:59.991Z"
   },
   {
    "duration": 182,
    "start_time": "2022-02-06T11:12:00.547Z"
   },
   {
    "duration": 183,
    "start_time": "2022-02-06T11:12:00.548Z"
   },
   {
    "duration": 181,
    "start_time": "2022-02-06T11:12:00.550Z"
   },
   {
    "duration": 181,
    "start_time": "2022-02-06T11:12:00.552Z"
   },
   {
    "duration": 180,
    "start_time": "2022-02-06T11:12:00.554Z"
   },
   {
    "duration": 180,
    "start_time": "2022-02-06T11:12:00.555Z"
   },
   {
    "duration": 179,
    "start_time": "2022-02-06T11:12:00.557Z"
   },
   {
    "duration": 178,
    "start_time": "2022-02-06T11:12:00.559Z"
   },
   {
    "duration": 249,
    "start_time": "2022-02-06T11:12:11.499Z"
   },
   {
    "duration": 1605,
    "start_time": "2022-02-06T11:12:21.208Z"
   },
   {
    "duration": 23,
    "start_time": "2022-02-06T11:12:22.816Z"
   },
   {
    "duration": 128,
    "start_time": "2022-02-06T11:12:22.842Z"
   },
   {
    "duration": 12,
    "start_time": "2022-02-06T11:12:22.973Z"
   },
   {
    "duration": 32,
    "start_time": "2022-02-06T11:12:22.987Z"
   },
   {
    "duration": 4,
    "start_time": "2022-02-06T11:12:23.022Z"
   },
   {
    "duration": 17,
    "start_time": "2022-02-06T11:12:23.028Z"
   },
   {
    "duration": 22,
    "start_time": "2022-02-06T11:12:23.049Z"
   },
   {
    "duration": 4,
    "start_time": "2022-02-06T11:12:23.074Z"
   },
   {
    "duration": 17,
    "start_time": "2022-02-06T11:12:23.080Z"
   },
   {
    "duration": 21,
    "start_time": "2022-02-06T11:12:23.100Z"
   },
   {
    "duration": 4,
    "start_time": "2022-02-06T11:12:23.123Z"
   },
   {
    "duration": 17,
    "start_time": "2022-02-06T11:12:23.129Z"
   },
   {
    "duration": 23,
    "start_time": "2022-02-06T11:12:23.148Z"
   },
   {
    "duration": 46,
    "start_time": "2022-02-06T11:12:23.173Z"
   },
   {
    "duration": 20,
    "start_time": "2022-02-06T11:12:23.221Z"
   },
   {
    "duration": 40,
    "start_time": "2022-02-06T11:12:23.243Z"
   },
   {
    "duration": 40,
    "start_time": "2022-02-06T11:12:23.285Z"
   },
   {
    "duration": 32,
    "start_time": "2022-02-06T11:12:23.328Z"
   },
   {
    "duration": 17,
    "start_time": "2022-02-06T11:12:23.362Z"
   },
   {
    "duration": 30,
    "start_time": "2022-02-06T11:12:23.381Z"
   },
   {
    "duration": 8,
    "start_time": "2022-02-06T11:12:23.413Z"
   },
   {
    "duration": 20,
    "start_time": "2022-02-06T11:12:23.425Z"
   },
   {
    "duration": 23,
    "start_time": "2022-02-06T11:12:23.448Z"
   },
   {
    "duration": 25,
    "start_time": "2022-02-06T11:12:23.473Z"
   },
   {
    "duration": 665,
    "start_time": "2022-02-06T11:12:23.518Z"
   },
   {
    "duration": 365,
    "start_time": "2022-02-06T11:12:24.186Z"
   },
   {
    "duration": 182,
    "start_time": "2022-02-06T11:12:24.372Z"
   },
   {
    "duration": 181,
    "start_time": "2022-02-06T11:12:24.374Z"
   },
   {
    "duration": 180,
    "start_time": "2022-02-06T11:12:24.376Z"
   },
   {
    "duration": 180,
    "start_time": "2022-02-06T11:12:24.377Z"
   },
   {
    "duration": 179,
    "start_time": "2022-02-06T11:12:24.379Z"
   },
   {
    "duration": 178,
    "start_time": "2022-02-06T11:12:24.381Z"
   },
   {
    "duration": 177,
    "start_time": "2022-02-06T11:12:24.383Z"
   },
   {
    "duration": 177,
    "start_time": "2022-02-06T11:12:24.384Z"
   },
   {
    "duration": 14,
    "start_time": "2022-02-06T11:12:50.217Z"
   },
   {
    "duration": 701,
    "start_time": "2022-02-06T11:12:51.232Z"
   },
   {
    "duration": 8,
    "start_time": "2022-02-06T11:12:51.935Z"
   },
   {
    "duration": 13,
    "start_time": "2022-02-06T11:12:52.145Z"
   },
   {
    "duration": 556,
    "start_time": "2022-02-06T11:12:52.641Z"
   },
   {
    "duration": 27,
    "start_time": "2022-02-06T11:12:53.199Z"
   },
   {
    "duration": 672,
    "start_time": "2022-02-06T11:12:53.228Z"
   },
   {
    "duration": 22,
    "start_time": "2022-02-06T11:12:53.902Z"
   },
   {
    "duration": 30,
    "start_time": "2022-02-06T11:13:49.999Z"
   },
   {
    "duration": 116,
    "start_time": "2022-02-06T11:14:54.989Z"
   },
   {
    "duration": 87,
    "start_time": "2022-02-06T11:14:58.865Z"
   },
   {
    "duration": 121,
    "start_time": "2022-02-06T11:15:07.301Z"
   },
   {
    "duration": 36,
    "start_time": "2022-02-06T11:15:28.360Z"
   },
   {
    "duration": 87,
    "start_time": "2022-02-06T11:16:41.200Z"
   },
   {
    "duration": 82,
    "start_time": "2022-02-06T11:16:47.680Z"
   },
   {
    "duration": 80,
    "start_time": "2022-02-06T11:16:52.097Z"
   },
   {
    "duration": 304,
    "start_time": "2022-02-06T11:17:04.610Z"
   },
   {
    "duration": 81,
    "start_time": "2022-02-06T11:17:31.981Z"
   },
   {
    "duration": 267,
    "start_time": "2022-02-06T11:17:38.758Z"
   },
   {
    "duration": 1315,
    "start_time": "2022-02-06T11:17:51.006Z"
   },
   {
    "duration": 17,
    "start_time": "2022-02-06T11:17:52.323Z"
   },
   {
    "duration": 117,
    "start_time": "2022-02-06T11:17:52.343Z"
   },
   {
    "duration": 11,
    "start_time": "2022-02-06T11:17:52.462Z"
   },
   {
    "duration": 11,
    "start_time": "2022-02-06T11:17:52.475Z"
   },
   {
    "duration": 3,
    "start_time": "2022-02-06T11:17:52.487Z"
   },
   {
    "duration": 31,
    "start_time": "2022-02-06T11:17:52.493Z"
   },
   {
    "duration": 15,
    "start_time": "2022-02-06T11:17:52.527Z"
   },
   {
    "duration": 4,
    "start_time": "2022-02-06T11:17:52.545Z"
   },
   {
    "duration": 9,
    "start_time": "2022-02-06T11:17:52.551Z"
   },
   {
    "duration": 6,
    "start_time": "2022-02-06T11:17:52.562Z"
   },
   {
    "duration": 4,
    "start_time": "2022-02-06T11:17:52.570Z"
   },
   {
    "duration": 8,
    "start_time": "2022-02-06T11:17:52.576Z"
   },
   {
    "duration": 42,
    "start_time": "2022-02-06T11:17:52.585Z"
   },
   {
    "duration": 34,
    "start_time": "2022-02-06T11:17:52.629Z"
   },
   {
    "duration": 18,
    "start_time": "2022-02-06T11:17:52.665Z"
   },
   {
    "duration": 63,
    "start_time": "2022-02-06T11:17:52.685Z"
   },
   {
    "duration": 17,
    "start_time": "2022-02-06T11:17:52.750Z"
   },
   {
    "duration": 373,
    "start_time": "2022-02-06T11:17:52.769Z"
   },
   {
    "duration": 179,
    "start_time": "2022-02-06T11:17:52.966Z"
   },
   {
    "duration": 178,
    "start_time": "2022-02-06T11:17:52.968Z"
   },
   {
    "duration": 177,
    "start_time": "2022-02-06T11:17:52.970Z"
   },
   {
    "duration": 178,
    "start_time": "2022-02-06T11:17:52.971Z"
   },
   {
    "duration": 177,
    "start_time": "2022-02-06T11:17:52.973Z"
   },
   {
    "duration": 177,
    "start_time": "2022-02-06T11:17:52.974Z"
   },
   {
    "duration": 176,
    "start_time": "2022-02-06T11:17:52.976Z"
   },
   {
    "duration": 174,
    "start_time": "2022-02-06T11:17:52.979Z"
   },
   {
    "duration": 174,
    "start_time": "2022-02-06T11:17:52.980Z"
   },
   {
    "duration": 174,
    "start_time": "2022-02-06T11:17:52.982Z"
   },
   {
    "duration": 173,
    "start_time": "2022-02-06T11:17:52.984Z"
   },
   {
    "duration": 174,
    "start_time": "2022-02-06T11:17:52.985Z"
   },
   {
    "duration": 173,
    "start_time": "2022-02-06T11:17:52.987Z"
   },
   {
    "duration": 172,
    "start_time": "2022-02-06T11:17:52.989Z"
   },
   {
    "duration": 173,
    "start_time": "2022-02-06T11:17:52.990Z"
   },
   {
    "duration": 172,
    "start_time": "2022-02-06T11:17:52.992Z"
   },
   {
    "duration": 263,
    "start_time": "2022-02-06T11:18:28.798Z"
   },
   {
    "duration": 1248,
    "start_time": "2022-02-06T11:18:38.970Z"
   },
   {
    "duration": 17,
    "start_time": "2022-02-06T11:18:40.220Z"
   },
   {
    "duration": 129,
    "start_time": "2022-02-06T11:18:40.240Z"
   },
   {
    "duration": 15,
    "start_time": "2022-02-06T11:18:40.371Z"
   },
   {
    "duration": 29,
    "start_time": "2022-02-06T11:18:40.389Z"
   },
   {
    "duration": 3,
    "start_time": "2022-02-06T11:18:40.420Z"
   },
   {
    "duration": 9,
    "start_time": "2022-02-06T11:18:40.424Z"
   },
   {
    "duration": 12,
    "start_time": "2022-02-06T11:18:40.435Z"
   },
   {
    "duration": 3,
    "start_time": "2022-02-06T11:18:40.449Z"
   },
   {
    "duration": 8,
    "start_time": "2022-02-06T11:18:40.454Z"
   },
   {
    "duration": 7,
    "start_time": "2022-02-06T11:18:40.464Z"
   },
   {
    "duration": 10,
    "start_time": "2022-02-06T11:18:40.473Z"
   },
   {
    "duration": 37,
    "start_time": "2022-02-06T11:18:40.485Z"
   },
   {
    "duration": 30,
    "start_time": "2022-02-06T11:18:40.524Z"
   },
   {
    "duration": 64,
    "start_time": "2022-02-06T11:18:40.556Z"
   },
   {
    "duration": 27,
    "start_time": "2022-02-06T11:18:40.622Z"
   },
   {
    "duration": 68,
    "start_time": "2022-02-06T11:18:40.652Z"
   },
   {
    "duration": 30,
    "start_time": "2022-02-06T11:18:40.722Z"
   },
   {
    "duration": 428,
    "start_time": "2022-02-06T11:18:43.574Z"
   },
   {
    "duration": 11,
    "start_time": "2022-02-06T11:18:53.191Z"
   },
   {
    "duration": 25,
    "start_time": "2022-02-06T11:19:18.969Z"
   },
   {
    "duration": 66,
    "start_time": "2022-02-06T11:19:25.258Z"
   },
   {
    "duration": 16,
    "start_time": "2022-02-06T11:19:25.327Z"
   },
   {
    "duration": 126,
    "start_time": "2022-02-06T11:19:25.345Z"
   },
   {
    "duration": 16,
    "start_time": "2022-02-06T11:19:25.474Z"
   },
   {
    "duration": 34,
    "start_time": "2022-02-06T11:19:25.492Z"
   },
   {
    "duration": 3,
    "start_time": "2022-02-06T11:19:25.529Z"
   },
   {
    "duration": 27,
    "start_time": "2022-02-06T11:19:25.534Z"
   },
   {
    "duration": 22,
    "start_time": "2022-02-06T11:19:25.564Z"
   },
   {
    "duration": 4,
    "start_time": "2022-02-06T11:19:25.589Z"
   },
   {
    "duration": 13,
    "start_time": "2022-02-06T11:19:25.595Z"
   },
   {
    "duration": 13,
    "start_time": "2022-02-06T11:19:25.610Z"
   },
   {
    "duration": 5,
    "start_time": "2022-02-06T11:19:25.626Z"
   },
   {
    "duration": 13,
    "start_time": "2022-02-06T11:19:25.633Z"
   },
   {
    "duration": 25,
    "start_time": "2022-02-06T11:19:25.649Z"
   },
   {
    "duration": 65,
    "start_time": "2022-02-06T11:19:25.676Z"
   },
   {
    "duration": 25,
    "start_time": "2022-02-06T11:19:25.743Z"
   },
   {
    "duration": 54,
    "start_time": "2022-02-06T11:19:25.770Z"
   },
   {
    "duration": 18,
    "start_time": "2022-02-06T11:19:25.825Z"
   },
   {
    "duration": 9,
    "start_time": "2022-02-06T11:19:25.845Z"
   },
   {
    "duration": 12,
    "start_time": "2022-02-06T11:19:25.856Z"
   },
   {
    "duration": 18,
    "start_time": "2022-02-06T11:19:25.870Z"
   },
   {
    "duration": 5,
    "start_time": "2022-02-06T11:19:25.890Z"
   },
   {
    "duration": 13,
    "start_time": "2022-02-06T11:19:25.919Z"
   },
   {
    "duration": 16,
    "start_time": "2022-02-06T11:19:25.934Z"
   },
   {
    "duration": 18,
    "start_time": "2022-02-06T11:19:25.952Z"
   },
   {
    "duration": 649,
    "start_time": "2022-02-06T11:19:25.972Z"
   },
   {
    "duration": 13,
    "start_time": "2022-02-06T11:19:26.623Z"
   },
   {
    "duration": 645,
    "start_time": "2022-02-06T11:19:26.638Z"
   },
   {
    "duration": 39,
    "start_time": "2022-02-06T11:19:27.285Z"
   },
   {
    "duration": 11,
    "start_time": "2022-02-06T11:19:27.326Z"
   },
   {
    "duration": 534,
    "start_time": "2022-02-06T11:19:27.338Z"
   },
   {
    "duration": 14,
    "start_time": "2022-02-06T11:19:27.873Z"
   },
   {
    "duration": 646,
    "start_time": "2022-02-06T11:19:27.888Z"
   },
   {
    "duration": 16,
    "start_time": "2022-02-06T11:19:28.536Z"
   },
   {
    "duration": 297,
    "start_time": "2022-02-06T11:19:28.554Z"
   },
   {
    "duration": 6396,
    "start_time": "2022-02-06T11:22:03.434Z"
   },
   {
    "duration": 1553,
    "start_time": "2022-02-06T11:22:21.692Z"
   },
   {
    "duration": 18,
    "start_time": "2022-02-06T11:22:23.247Z"
   },
   {
    "duration": 117,
    "start_time": "2022-02-06T11:22:23.267Z"
   },
   {
    "duration": 11,
    "start_time": "2022-02-06T11:22:23.386Z"
   },
   {
    "duration": 23,
    "start_time": "2022-02-06T11:22:23.399Z"
   },
   {
    "duration": 5,
    "start_time": "2022-02-06T11:22:23.423Z"
   },
   {
    "duration": 10,
    "start_time": "2022-02-06T11:22:23.429Z"
   },
   {
    "duration": 15,
    "start_time": "2022-02-06T11:22:23.441Z"
   },
   {
    "duration": 4,
    "start_time": "2022-02-06T11:22:23.458Z"
   },
   {
    "duration": 9,
    "start_time": "2022-02-06T11:22:23.464Z"
   },
   {
    "duration": 9,
    "start_time": "2022-02-06T11:22:23.475Z"
   },
   {
    "duration": 36,
    "start_time": "2022-02-06T11:22:23.486Z"
   },
   {
    "duration": 7,
    "start_time": "2022-02-06T11:22:23.524Z"
   },
   {
    "duration": 20,
    "start_time": "2022-02-06T11:22:23.532Z"
   },
   {
    "duration": 35,
    "start_time": "2022-02-06T11:22:23.554Z"
   },
   {
    "duration": 44,
    "start_time": "2022-02-06T11:22:23.591Z"
   },
   {
    "duration": 40,
    "start_time": "2022-02-06T11:22:23.637Z"
   },
   {
    "duration": 42,
    "start_time": "2022-02-06T11:22:23.679Z"
   },
   {
    "duration": 10,
    "start_time": "2022-02-06T11:22:23.723Z"
   },
   {
    "duration": 11,
    "start_time": "2022-02-06T11:22:23.735Z"
   },
   {
    "duration": 16,
    "start_time": "2022-02-06T11:22:23.748Z"
   },
   {
    "duration": 18,
    "start_time": "2022-02-06T11:22:23.766Z"
   },
   {
    "duration": 31,
    "start_time": "2022-02-06T11:22:23.787Z"
   },
   {
    "duration": 15,
    "start_time": "2022-02-06T11:22:23.820Z"
   },
   {
    "duration": 18,
    "start_time": "2022-02-06T11:22:23.837Z"
   },
   {
    "duration": 685,
    "start_time": "2022-02-06T11:22:23.857Z"
   },
   {
    "duration": 13,
    "start_time": "2022-02-06T11:22:24.544Z"
   },
   {
    "duration": 688,
    "start_time": "2022-02-06T11:22:24.558Z"
   },
   {
    "duration": 30,
    "start_time": "2022-02-06T11:22:25.248Z"
   },
   {
    "duration": 40,
    "start_time": "2022-02-06T11:22:25.280Z"
   },
   {
    "duration": 547,
    "start_time": "2022-02-06T11:22:25.322Z"
   },
   {
    "duration": 14,
    "start_time": "2022-02-06T11:22:25.871Z"
   },
   {
    "duration": 660,
    "start_time": "2022-02-06T11:22:25.887Z"
   },
   {
    "duration": 17,
    "start_time": "2022-02-06T11:22:26.549Z"
   },
   {
    "duration": 351,
    "start_time": "2022-02-06T11:22:26.567Z"
   },
   {
    "duration": 25,
    "start_time": "2022-02-06T11:23:37.872Z"
   },
   {
    "duration": 5,
    "start_time": "2022-02-06T11:23:46.400Z"
   },
   {
    "duration": 17,
    "start_time": "2022-02-06T11:24:15.451Z"
   },
   {
    "duration": 14,
    "start_time": "2022-02-06T11:24:21.141Z"
   },
   {
    "duration": 17,
    "start_time": "2022-02-06T11:24:43.446Z"
   },
   {
    "duration": 13,
    "start_time": "2022-02-06T11:24:44.942Z"
   },
   {
    "duration": 18,
    "start_time": "2022-02-06T11:25:00.583Z"
   },
   {
    "duration": 12,
    "start_time": "2022-02-06T11:25:02.320Z"
   },
   {
    "duration": 7,
    "start_time": "2022-02-06T11:29:12.544Z"
   },
   {
    "duration": 1278,
    "start_time": "2022-02-06T11:29:28.545Z"
   },
   {
    "duration": 19,
    "start_time": "2022-02-06T11:29:29.824Z"
   },
   {
    "duration": 119,
    "start_time": "2022-02-06T11:29:29.845Z"
   },
   {
    "duration": 9,
    "start_time": "2022-02-06T11:29:29.966Z"
   },
   {
    "duration": 6,
    "start_time": "2022-02-06T11:29:34.476Z"
   },
   {
    "duration": 7,
    "start_time": "2022-02-06T11:29:47.654Z"
   },
   {
    "duration": 102,
    "start_time": "2022-02-06T11:43:25.446Z"
   },
   {
    "duration": 13,
    "start_time": "2022-02-06T11:43:31.494Z"
   },
   {
    "duration": 471,
    "start_time": "2022-02-06T11:43:37.295Z"
   },
   {
    "duration": 15,
    "start_time": "2022-02-06T11:44:08.186Z"
   },
   {
    "duration": 594,
    "start_time": "2022-02-06T11:45:13.682Z"
   },
   {
    "duration": 83,
    "start_time": "2022-02-06T11:47:59.025Z"
   },
   {
    "duration": 87,
    "start_time": "2022-02-06T11:48:07.074Z"
   },
   {
    "duration": 286,
    "start_time": "2022-02-06T12:17:54.809Z"
   },
   {
    "duration": 237,
    "start_time": "2022-02-06T12:18:27.405Z"
   },
   {
    "duration": 1315,
    "start_time": "2022-02-06T12:18:33.881Z"
   },
   {
    "duration": 16,
    "start_time": "2022-02-06T12:18:35.198Z"
   },
   {
    "duration": 153,
    "start_time": "2022-02-06T12:18:35.217Z"
   },
   {
    "duration": 11,
    "start_time": "2022-02-06T12:18:35.372Z"
   },
   {
    "duration": 13,
    "start_time": "2022-02-06T12:18:35.385Z"
   },
   {
    "duration": 19,
    "start_time": "2022-02-06T12:18:35.400Z"
   },
   {
    "duration": 8,
    "start_time": "2022-02-06T12:18:35.421Z"
   },
   {
    "duration": 11,
    "start_time": "2022-02-06T12:18:35.432Z"
   },
   {
    "duration": 3,
    "start_time": "2022-02-06T12:18:35.445Z"
   },
   {
    "duration": 8,
    "start_time": "2022-02-06T12:18:35.450Z"
   },
   {
    "duration": 5,
    "start_time": "2022-02-06T12:18:35.460Z"
   },
   {
    "duration": 6,
    "start_time": "2022-02-06T12:18:35.467Z"
   },
   {
    "duration": 6,
    "start_time": "2022-02-06T12:18:35.474Z"
   },
   {
    "duration": 48,
    "start_time": "2022-02-06T12:18:35.482Z"
   },
   {
    "duration": 51,
    "start_time": "2022-02-06T12:18:35.532Z"
   },
   {
    "duration": 35,
    "start_time": "2022-02-06T12:18:35.585Z"
   },
   {
    "duration": 37,
    "start_time": "2022-02-06T12:18:35.621Z"
   },
   {
    "duration": 18,
    "start_time": "2022-02-06T12:18:35.660Z"
   },
   {
    "duration": 14,
    "start_time": "2022-02-06T12:18:35.680Z"
   },
   {
    "duration": 22,
    "start_time": "2022-02-06T12:18:35.696Z"
   },
   {
    "duration": 13,
    "start_time": "2022-02-06T12:18:35.720Z"
   },
   {
    "duration": 8,
    "start_time": "2022-02-06T12:18:35.735Z"
   },
   {
    "duration": 20,
    "start_time": "2022-02-06T12:18:35.746Z"
   },
   {
    "duration": 13,
    "start_time": "2022-02-06T12:18:35.769Z"
   },
   {
    "duration": 20,
    "start_time": "2022-02-06T12:18:35.785Z"
   },
   {
    "duration": 609,
    "start_time": "2022-02-06T12:18:35.819Z"
   },
   {
    "duration": 11,
    "start_time": "2022-02-06T12:18:36.430Z"
   },
   {
    "duration": 636,
    "start_time": "2022-02-06T12:18:36.443Z"
   },
   {
    "duration": 40,
    "start_time": "2022-02-06T12:18:37.080Z"
   },
   {
    "duration": 15,
    "start_time": "2022-02-06T12:18:37.122Z"
   },
   {
    "duration": 533,
    "start_time": "2022-02-06T12:18:37.139Z"
   },
   {
    "duration": 18,
    "start_time": "2022-02-06T12:18:37.674Z"
   },
   {
    "duration": 653,
    "start_time": "2022-02-06T12:18:37.694Z"
   },
   {
    "duration": 31,
    "start_time": "2022-02-06T12:18:38.349Z"
   },
   {
    "duration": 354,
    "start_time": "2022-02-06T12:18:38.382Z"
   },
   {
    "duration": 287,
    "start_time": "2022-02-06T12:18:38.739Z"
   },
   {
    "duration": 394,
    "start_time": "2022-02-06T12:20:47.334Z"
   },
   {
    "duration": 766,
    "start_time": "2022-02-06T12:28:30.157Z"
   },
   {
    "duration": 401,
    "start_time": "2022-02-06T12:28:34.341Z"
   },
   {
    "duration": 292,
    "start_time": "2022-02-06T12:28:52.966Z"
   },
   {
    "duration": 1174,
    "start_time": "2022-02-06T12:32:06.469Z"
   },
   {
    "duration": 17,
    "start_time": "2022-02-06T12:32:07.646Z"
   },
   {
    "duration": 118,
    "start_time": "2022-02-06T12:32:07.666Z"
   },
   {
    "duration": 11,
    "start_time": "2022-02-06T12:32:07.787Z"
   },
   {
    "duration": 22,
    "start_time": "2022-02-06T12:32:07.800Z"
   },
   {
    "duration": 2,
    "start_time": "2022-02-06T12:32:07.824Z"
   },
   {
    "duration": 9,
    "start_time": "2022-02-06T12:32:07.828Z"
   },
   {
    "duration": 12,
    "start_time": "2022-02-06T12:32:07.840Z"
   },
   {
    "duration": 3,
    "start_time": "2022-02-06T12:32:07.854Z"
   },
   {
    "duration": 9,
    "start_time": "2022-02-06T12:32:07.859Z"
   },
   {
    "duration": 6,
    "start_time": "2022-02-06T12:32:07.869Z"
   },
   {
    "duration": 4,
    "start_time": "2022-02-06T12:32:07.876Z"
   },
   {
    "duration": 5,
    "start_time": "2022-02-06T12:32:07.919Z"
   },
   {
    "duration": 18,
    "start_time": "2022-02-06T12:32:07.926Z"
   },
   {
    "duration": 33,
    "start_time": "2022-02-06T12:32:07.945Z"
   },
   {
    "duration": 43,
    "start_time": "2022-02-06T12:32:07.980Z"
   },
   {
    "duration": 37,
    "start_time": "2022-02-06T12:32:08.025Z"
   },
   {
    "duration": 19,
    "start_time": "2022-02-06T12:32:08.064Z"
   },
   {
    "duration": 33,
    "start_time": "2022-02-06T12:32:08.085Z"
   },
   {
    "duration": 6,
    "start_time": "2022-02-06T12:32:08.120Z"
   },
   {
    "duration": 13,
    "start_time": "2022-02-06T12:32:08.128Z"
   },
   {
    "duration": 9,
    "start_time": "2022-02-06T12:32:08.143Z"
   },
   {
    "duration": 12,
    "start_time": "2022-02-06T12:32:08.155Z"
   },
   {
    "duration": 14,
    "start_time": "2022-02-06T12:32:08.169Z"
   },
   {
    "duration": 36,
    "start_time": "2022-02-06T12:32:08.185Z"
   },
   {
    "duration": 605,
    "start_time": "2022-02-06T12:32:08.224Z"
   },
   {
    "duration": 11,
    "start_time": "2022-02-06T12:32:08.831Z"
   },
   {
    "duration": 630,
    "start_time": "2022-02-06T12:32:08.844Z"
   },
   {
    "duration": 25,
    "start_time": "2022-02-06T12:32:09.475Z"
   },
   {
    "duration": 27,
    "start_time": "2022-02-06T12:32:09.501Z"
   },
   {
    "duration": 523,
    "start_time": "2022-02-06T12:32:09.529Z"
   },
   {
    "duration": 16,
    "start_time": "2022-02-06T12:32:10.054Z"
   },
   {
    "duration": 671,
    "start_time": "2022-02-06T12:32:10.071Z"
   },
   {
    "duration": 15,
    "start_time": "2022-02-06T12:32:10.744Z"
   },
   {
    "duration": 306,
    "start_time": "2022-02-06T12:32:10.760Z"
   },
   {
    "duration": 16,
    "start_time": "2022-02-06T12:32:11.068Z"
   },
   {
    "duration": 315,
    "start_time": "2022-02-06T12:32:11.086Z"
   },
   {
    "duration": 277,
    "start_time": "2022-02-06T12:48:05.982Z"
   },
   {
    "duration": 1304,
    "start_time": "2022-02-06T12:48:10.007Z"
   },
   {
    "duration": 17,
    "start_time": "2022-02-06T12:48:11.313Z"
   },
   {
    "duration": 449,
    "start_time": "2022-02-06T12:48:11.333Z"
   },
   {
    "duration": 285,
    "start_time": "2022-02-06T12:48:11.500Z"
   },
   {
    "duration": 283,
    "start_time": "2022-02-06T12:48:11.503Z"
   },
   {
    "duration": 281,
    "start_time": "2022-02-06T12:48:11.505Z"
   },
   {
    "duration": 280,
    "start_time": "2022-02-06T12:48:11.507Z"
   },
   {
    "duration": 273,
    "start_time": "2022-02-06T12:48:11.515Z"
   },
   {
    "duration": 272,
    "start_time": "2022-02-06T12:48:11.517Z"
   },
   {
    "duration": 271,
    "start_time": "2022-02-06T12:48:11.519Z"
   },
   {
    "duration": 270,
    "start_time": "2022-02-06T12:48:11.521Z"
   },
   {
    "duration": 269,
    "start_time": "2022-02-06T12:48:11.523Z"
   },
   {
    "duration": 267,
    "start_time": "2022-02-06T12:48:11.525Z"
   },
   {
    "duration": 266,
    "start_time": "2022-02-06T12:48:11.527Z"
   },
   {
    "duration": 265,
    "start_time": "2022-02-06T12:48:11.529Z"
   },
   {
    "duration": 264,
    "start_time": "2022-02-06T12:48:11.531Z"
   },
   {
    "duration": 263,
    "start_time": "2022-02-06T12:48:11.533Z"
   },
   {
    "duration": 262,
    "start_time": "2022-02-06T12:48:11.535Z"
   },
   {
    "duration": 261,
    "start_time": "2022-02-06T12:48:11.537Z"
   },
   {
    "duration": 259,
    "start_time": "2022-02-06T12:48:11.539Z"
   },
   {
    "duration": 258,
    "start_time": "2022-02-06T12:48:11.541Z"
   },
   {
    "duration": 257,
    "start_time": "2022-02-06T12:48:11.543Z"
   },
   {
    "duration": 256,
    "start_time": "2022-02-06T12:48:11.545Z"
   },
   {
    "duration": 255,
    "start_time": "2022-02-06T12:48:11.547Z"
   },
   {
    "duration": 254,
    "start_time": "2022-02-06T12:48:11.549Z"
   },
   {
    "duration": 252,
    "start_time": "2022-02-06T12:48:11.551Z"
   },
   {
    "duration": 251,
    "start_time": "2022-02-06T12:48:11.553Z"
   },
   {
    "duration": 250,
    "start_time": "2022-02-06T12:48:11.555Z"
   },
   {
    "duration": 249,
    "start_time": "2022-02-06T12:48:11.557Z"
   },
   {
    "duration": 248,
    "start_time": "2022-02-06T12:48:11.559Z"
   },
   {
    "duration": 247,
    "start_time": "2022-02-06T12:48:11.561Z"
   },
   {
    "duration": 246,
    "start_time": "2022-02-06T12:48:11.563Z"
   },
   {
    "duration": 244,
    "start_time": "2022-02-06T12:48:11.565Z"
   },
   {
    "duration": 244,
    "start_time": "2022-02-06T12:48:11.566Z"
   },
   {
    "duration": 235,
    "start_time": "2022-02-06T12:48:11.576Z"
   },
   {
    "duration": 234,
    "start_time": "2022-02-06T12:48:11.578Z"
   },
   {
    "duration": 233,
    "start_time": "2022-02-06T12:48:11.580Z"
   },
   {
    "duration": 95,
    "start_time": "2022-02-06T12:48:31.534Z"
   },
   {
    "duration": 102,
    "start_time": "2022-02-06T12:48:41.817Z"
   },
   {
    "duration": 104,
    "start_time": "2022-02-06T12:48:49.520Z"
   },
   {
    "duration": 111,
    "start_time": "2022-02-06T12:49:01.929Z"
   },
   {
    "duration": 89,
    "start_time": "2022-02-06T12:53:11.938Z"
   },
   {
    "duration": 106,
    "start_time": "2022-02-06T12:53:25.594Z"
   },
   {
    "duration": 91,
    "start_time": "2022-02-06T12:53:51.912Z"
   },
   {
    "duration": 103,
    "start_time": "2022-02-06T12:54:09.704Z"
   },
   {
    "duration": 86,
    "start_time": "2022-02-06T12:54:18.497Z"
   },
   {
    "duration": 102,
    "start_time": "2022-02-06T12:54:24.320Z"
   },
   {
    "duration": 99,
    "start_time": "2022-02-06T12:54:41.595Z"
   },
   {
    "duration": 183,
    "start_time": "2022-02-06T12:54:46.226Z"
   },
   {
    "duration": 4,
    "start_time": "2022-02-06T12:58:19.922Z"
   },
   {
    "duration": 3,
    "start_time": "2022-02-06T12:58:27.760Z"
   },
   {
    "duration": 283,
    "start_time": "2022-02-06T12:58:34.220Z"
   },
   {
    "duration": 271,
    "start_time": "2022-02-06T13:00:23.223Z"
   },
   {
    "duration": 5,
    "start_time": "2022-02-06T13:00:27.586Z"
   },
   {
    "duration": 1250,
    "start_time": "2022-02-06T13:00:27.593Z"
   },
   {
    "duration": 17,
    "start_time": "2022-02-06T13:00:28.845Z"
   },
   {
    "duration": 114,
    "start_time": "2022-02-06T13:00:28.864Z"
   },
   {
    "duration": 10,
    "start_time": "2022-02-06T13:00:28.979Z"
   },
   {
    "duration": 32,
    "start_time": "2022-02-06T13:00:28.991Z"
   },
   {
    "duration": 4,
    "start_time": "2022-02-06T13:00:29.025Z"
   },
   {
    "duration": 6,
    "start_time": "2022-02-06T13:00:29.032Z"
   },
   {
    "duration": 13,
    "start_time": "2022-02-06T13:00:29.040Z"
   },
   {
    "duration": 3,
    "start_time": "2022-02-06T13:00:29.055Z"
   },
   {
    "duration": 8,
    "start_time": "2022-02-06T13:00:29.060Z"
   },
   {
    "duration": 6,
    "start_time": "2022-02-06T13:00:29.070Z"
   },
   {
    "duration": 42,
    "start_time": "2022-02-06T13:00:29.077Z"
   },
   {
    "duration": 6,
    "start_time": "2022-02-06T13:00:29.121Z"
   },
   {
    "duration": 19,
    "start_time": "2022-02-06T13:00:29.128Z"
   },
   {
    "duration": 35,
    "start_time": "2022-02-06T13:00:29.148Z"
   },
   {
    "duration": 44,
    "start_time": "2022-02-06T13:00:29.185Z"
   },
   {
    "duration": 38,
    "start_time": "2022-02-06T13:00:29.230Z"
   },
   {
    "duration": 21,
    "start_time": "2022-02-06T13:00:29.269Z"
   },
   {
    "duration": 32,
    "start_time": "2022-02-06T13:00:29.292Z"
   },
   {
    "duration": 6,
    "start_time": "2022-02-06T13:00:29.327Z"
   },
   {
    "duration": 16,
    "start_time": "2022-02-06T13:00:29.335Z"
   },
   {
    "duration": 7,
    "start_time": "2022-02-06T13:00:29.354Z"
   },
   {
    "duration": 15,
    "start_time": "2022-02-06T13:00:29.363Z"
   },
   {
    "duration": 40,
    "start_time": "2022-02-06T13:00:29.379Z"
   },
   {
    "duration": 15,
    "start_time": "2022-02-06T13:00:29.421Z"
   },
   {
    "duration": 656,
    "start_time": "2022-02-06T13:00:29.438Z"
   },
   {
    "duration": 23,
    "start_time": "2022-02-06T13:00:30.096Z"
   },
   {
    "duration": 683,
    "start_time": "2022-02-06T13:00:30.120Z"
   },
   {
    "duration": 33,
    "start_time": "2022-02-06T13:00:30.805Z"
   },
   {
    "duration": 11,
    "start_time": "2022-02-06T13:00:30.839Z"
   },
   {
    "duration": 539,
    "start_time": "2022-02-06T13:00:30.852Z"
   },
   {
    "duration": 15,
    "start_time": "2022-02-06T13:00:31.393Z"
   },
   {
    "duration": 643,
    "start_time": "2022-02-06T13:00:31.417Z"
   },
   {
    "duration": 15,
    "start_time": "2022-02-06T13:00:32.062Z"
   },
   {
    "duration": 352,
    "start_time": "2022-02-06T13:00:32.079Z"
   },
   {
    "duration": 17,
    "start_time": "2022-02-06T13:00:32.432Z"
   },
   {
    "duration": 317,
    "start_time": "2022-02-06T13:00:32.451Z"
   },
   {
    "duration": 5,
    "start_time": "2022-02-06T13:01:04.648Z"
   },
   {
    "duration": 1220,
    "start_time": "2022-02-06T13:01:04.655Z"
   },
   {
    "duration": 19,
    "start_time": "2022-02-06T13:01:05.878Z"
   },
   {
    "duration": 121,
    "start_time": "2022-02-06T13:01:05.899Z"
   },
   {
    "duration": 111,
    "start_time": "2022-02-06T13:01:25.126Z"
   },
   {
    "duration": 110,
    "start_time": "2022-02-06T13:02:04.785Z"
   },
   {
    "duration": 101,
    "start_time": "2022-02-06T13:06:23.259Z"
   },
   {
    "duration": 105,
    "start_time": "2022-02-06T13:07:20.600Z"
   },
   {
    "duration": 106,
    "start_time": "2022-02-06T13:07:31.377Z"
   },
   {
    "duration": 3,
    "start_time": "2022-02-06T13:08:11.445Z"
   },
   {
    "duration": 83,
    "start_time": "2022-02-06T13:14:33.235Z"
   },
   {
    "duration": 104,
    "start_time": "2022-02-06T13:14:49.355Z"
   },
   {
    "duration": 153,
    "start_time": "2022-02-06T13:15:09.308Z"
   },
   {
    "duration": 113,
    "start_time": "2022-02-06T13:15:22.487Z"
   },
   {
    "duration": 113,
    "start_time": "2022-02-06T13:22:51.731Z"
   },
   {
    "duration": 48,
    "start_time": "2022-02-06T13:23:01.972Z"
   },
   {
    "duration": 77,
    "start_time": "2022-02-06T13:23:05.140Z"
   },
   {
    "duration": 47,
    "start_time": "2022-02-06T13:23:07.131Z"
   },
   {
    "duration": 50,
    "start_time": "2022-02-06T13:23:15.309Z"
   },
   {
    "duration": 104,
    "start_time": "2022-02-06T13:23:36.944Z"
   },
   {
    "duration": 87,
    "start_time": "2022-02-06T13:25:48.028Z"
   },
   {
    "duration": 3,
    "start_time": "2022-02-06T13:28:27.041Z"
   },
   {
    "duration": 1244,
    "start_time": "2022-02-06T13:28:27.067Z"
   },
   {
    "duration": 19,
    "start_time": "2022-02-06T13:28:28.313Z"
   },
   {
    "duration": 118,
    "start_time": "2022-02-06T13:28:28.335Z"
   },
   {
    "duration": 12,
    "start_time": "2022-02-06T13:28:28.456Z"
   },
   {
    "duration": 11,
    "start_time": "2022-02-06T13:28:28.470Z"
   },
   {
    "duration": 2,
    "start_time": "2022-02-06T13:28:28.484Z"
   },
   {
    "duration": 35,
    "start_time": "2022-02-06T13:28:28.488Z"
   },
   {
    "duration": 12,
    "start_time": "2022-02-06T13:28:28.527Z"
   },
   {
    "duration": 4,
    "start_time": "2022-02-06T13:28:28.542Z"
   },
   {
    "duration": 10,
    "start_time": "2022-02-06T13:28:28.548Z"
   },
   {
    "duration": 18,
    "start_time": "2022-02-06T13:28:28.560Z"
   },
   {
    "duration": 7,
    "start_time": "2022-02-06T13:28:28.581Z"
   },
   {
    "duration": 29,
    "start_time": "2022-02-06T13:28:28.590Z"
   },
   {
    "duration": 23,
    "start_time": "2022-02-06T13:28:28.621Z"
   },
   {
    "duration": 34,
    "start_time": "2022-02-06T13:28:28.647Z"
   },
   {
    "duration": 40,
    "start_time": "2022-02-06T13:28:28.683Z"
   },
   {
    "duration": 38,
    "start_time": "2022-02-06T13:28:28.725Z"
   },
   {
    "duration": 30,
    "start_time": "2022-02-06T13:28:28.765Z"
   },
   {
    "duration": 29,
    "start_time": "2022-02-06T13:28:28.797Z"
   },
   {
    "duration": 9,
    "start_time": "2022-02-06T13:28:28.828Z"
   },
   {
    "duration": 20,
    "start_time": "2022-02-06T13:28:28.839Z"
   },
   {
    "duration": 6,
    "start_time": "2022-02-06T13:28:28.861Z"
   },
   {
    "duration": 16,
    "start_time": "2022-02-06T13:28:28.870Z"
   },
   {
    "duration": 41,
    "start_time": "2022-02-06T13:28:28.888Z"
   },
   {
    "duration": 18,
    "start_time": "2022-02-06T13:28:28.931Z"
   },
   {
    "duration": 829,
    "start_time": "2022-02-06T13:28:28.951Z"
   },
   {
    "duration": 13,
    "start_time": "2022-02-06T13:28:29.782Z"
   },
   {
    "duration": 676,
    "start_time": "2022-02-06T13:28:29.796Z"
   },
   {
    "duration": 46,
    "start_time": "2022-02-06T13:28:30.474Z"
   },
   {
    "duration": 13,
    "start_time": "2022-02-06T13:28:30.522Z"
   },
   {
    "duration": 653,
    "start_time": "2022-02-06T13:28:30.536Z"
   },
   {
    "duration": 14,
    "start_time": "2022-02-06T13:28:31.191Z"
   },
   {
    "duration": 673,
    "start_time": "2022-02-06T13:28:31.206Z"
   },
   {
    "duration": 16,
    "start_time": "2022-02-06T13:28:31.881Z"
   },
   {
    "duration": 329,
    "start_time": "2022-02-06T13:28:31.899Z"
   },
   {
    "duration": 19,
    "start_time": "2022-02-06T13:28:32.230Z"
   },
   {
    "duration": 304,
    "start_time": "2022-02-06T13:28:32.251Z"
   },
   {
    "duration": 5,
    "start_time": "2022-02-12T19:25:58.339Z"
   },
   {
    "duration": 1553,
    "start_time": "2022-02-12T19:25:58.348Z"
   },
   {
    "duration": 26,
    "start_time": "2022-02-12T19:25:59.905Z"
   },
   {
    "duration": 195,
    "start_time": "2022-02-12T19:25:59.935Z"
   },
   {
    "duration": 30,
    "start_time": "2022-02-12T19:26:00.132Z"
   },
   {
    "duration": 14,
    "start_time": "2022-02-12T19:26:00.164Z"
   },
   {
    "duration": 10,
    "start_time": "2022-02-12T19:26:00.180Z"
   },
   {
    "duration": 8,
    "start_time": "2022-02-12T19:26:00.193Z"
   },
   {
    "duration": 16,
    "start_time": "2022-02-12T19:26:00.204Z"
   },
   {
    "duration": 37,
    "start_time": "2022-02-12T19:26:00.223Z"
   },
   {
    "duration": 9,
    "start_time": "2022-02-12T19:26:00.262Z"
   },
   {
    "duration": 9,
    "start_time": "2022-02-12T19:26:00.273Z"
   },
   {
    "duration": 6,
    "start_time": "2022-02-12T19:26:00.284Z"
   },
   {
    "duration": 9,
    "start_time": "2022-02-12T19:26:00.292Z"
   },
   {
    "duration": 66,
    "start_time": "2022-02-12T19:26:00.303Z"
   },
   {
    "duration": 44,
    "start_time": "2022-02-12T19:26:00.372Z"
   },
   {
    "duration": 46,
    "start_time": "2022-02-12T19:26:00.419Z"
   },
   {
    "duration": 49,
    "start_time": "2022-02-12T19:26:00.468Z"
   },
   {
    "duration": 45,
    "start_time": "2022-02-12T19:26:00.519Z"
   },
   {
    "duration": 12,
    "start_time": "2022-02-12T19:26:00.566Z"
   },
   {
    "duration": 14,
    "start_time": "2022-02-12T19:26:00.581Z"
   },
   {
    "duration": 22,
    "start_time": "2022-02-12T19:26:00.597Z"
   },
   {
    "duration": 7,
    "start_time": "2022-02-12T19:26:00.624Z"
   },
   {
    "duration": 19,
    "start_time": "2022-02-12T19:26:00.661Z"
   },
   {
    "duration": 24,
    "start_time": "2022-02-12T19:26:00.683Z"
   },
   {
    "duration": 50,
    "start_time": "2022-02-12T19:26:00.709Z"
   },
   {
    "duration": 1015,
    "start_time": "2022-02-12T19:26:00.762Z"
   },
   {
    "duration": 18,
    "start_time": "2022-02-12T19:26:01.779Z"
   },
   {
    "duration": 998,
    "start_time": "2022-02-12T19:26:01.800Z"
   },
   {
    "duration": 63,
    "start_time": "2022-02-12T19:26:02.800Z"
   },
   {
    "duration": 19,
    "start_time": "2022-02-12T19:26:02.866Z"
   },
   {
    "duration": 839,
    "start_time": "2022-02-12T19:26:02.888Z"
   },
   {
    "duration": 30,
    "start_time": "2022-02-12T19:26:03.730Z"
   },
   {
    "duration": 990,
    "start_time": "2022-02-12T19:26:03.763Z"
   },
   {
    "duration": 24,
    "start_time": "2022-02-12T19:26:04.755Z"
   },
   {
    "duration": 387,
    "start_time": "2022-02-12T19:26:04.781Z"
   },
   {
    "duration": 24,
    "start_time": "2022-02-12T19:26:05.171Z"
   },
   {
    "duration": 445,
    "start_time": "2022-02-12T19:26:05.197Z"
   },
   {
    "duration": 28,
    "start_time": "2022-02-12T19:31:06.009Z"
   },
   {
    "duration": 331,
    "start_time": "2022-02-12T20:21:42.565Z"
   },
   {
    "duration": 4,
    "start_time": "2022-02-12T20:21:47.322Z"
   },
   {
    "duration": 1558,
    "start_time": "2022-02-12T20:21:47.329Z"
   },
   {
    "duration": 36,
    "start_time": "2022-02-12T20:21:48.892Z"
   },
   {
    "duration": 186,
    "start_time": "2022-02-12T20:21:48.950Z"
   },
   {
    "duration": 16,
    "start_time": "2022-02-12T20:21:49.149Z"
   },
   {
    "duration": 19,
    "start_time": "2022-02-12T20:21:49.168Z"
   },
   {
    "duration": 7,
    "start_time": "2022-02-12T20:21:49.189Z"
   },
   {
    "duration": 8,
    "start_time": "2022-02-12T20:21:49.200Z"
   },
   {
    "duration": 49,
    "start_time": "2022-02-12T20:21:49.211Z"
   },
   {
    "duration": 5,
    "start_time": "2022-02-12T20:21:49.262Z"
   },
   {
    "duration": 11,
    "start_time": "2022-02-12T20:21:49.269Z"
   },
   {
    "duration": 8,
    "start_time": "2022-02-12T20:21:49.282Z"
   },
   {
    "duration": 8,
    "start_time": "2022-02-12T20:21:49.292Z"
   },
   {
    "duration": 46,
    "start_time": "2022-02-12T20:21:49.302Z"
   },
   {
    "duration": 24,
    "start_time": "2022-02-12T20:21:49.351Z"
   },
   {
    "duration": 43,
    "start_time": "2022-02-12T20:21:49.377Z"
   },
   {
    "duration": 48,
    "start_time": "2022-02-12T20:21:49.422Z"
   },
   {
    "duration": 50,
    "start_time": "2022-02-12T20:21:49.472Z"
   },
   {
    "duration": 46,
    "start_time": "2022-02-12T20:21:49.524Z"
   },
   {
    "duration": 12,
    "start_time": "2022-02-12T20:21:49.572Z"
   },
   {
    "duration": 10,
    "start_time": "2022-02-12T20:21:49.586Z"
   },
   {
    "duration": 52,
    "start_time": "2022-02-12T20:21:49.599Z"
   },
   {
    "duration": 7,
    "start_time": "2022-02-12T20:21:49.658Z"
   },
   {
    "duration": 20,
    "start_time": "2022-02-12T20:21:49.668Z"
   },
   {
    "duration": 31,
    "start_time": "2022-02-12T20:21:49.690Z"
   },
   {
    "duration": 42,
    "start_time": "2022-02-12T20:21:49.723Z"
   },
   {
    "duration": 946,
    "start_time": "2022-02-12T20:21:49.768Z"
   },
   {
    "duration": 36,
    "start_time": "2022-02-12T20:21:50.716Z"
   },
   {
    "duration": 17,
    "start_time": "2022-02-12T20:21:50.754Z"
   },
   {
    "duration": 966,
    "start_time": "2022-02-12T20:21:50.773Z"
   },
   {
    "duration": 42,
    "start_time": "2022-02-12T20:21:51.742Z"
   },
   {
    "duration": 17,
    "start_time": "2022-02-12T20:21:51.786Z"
   },
   {
    "duration": 846,
    "start_time": "2022-02-12T20:21:51.805Z"
   },
   {
    "duration": 19,
    "start_time": "2022-02-12T20:21:52.653Z"
   },
   {
    "duration": 978,
    "start_time": "2022-02-12T20:21:52.674Z"
   },
   {
    "duration": 21,
    "start_time": "2022-02-12T20:21:53.655Z"
   },
   {
    "duration": 427,
    "start_time": "2022-02-12T20:21:53.679Z"
   },
   {
    "duration": 24,
    "start_time": "2022-02-12T20:21:54.108Z"
   },
   {
    "duration": 396,
    "start_time": "2022-02-12T20:21:54.148Z"
   },
   {
    "duration": 418,
    "start_time": "2022-02-12T20:24:06.913Z"
   },
   {
    "duration": 326,
    "start_time": "2022-02-12T20:24:24.020Z"
   },
   {
    "duration": 313,
    "start_time": "2022-02-12T20:24:35.637Z"
   },
   {
    "duration": 18,
    "start_time": "2022-02-12T20:25:10.760Z"
   },
   {
    "duration": 306,
    "start_time": "2022-02-12T20:25:32.666Z"
   },
   {
    "duration": 20,
    "start_time": "2022-02-12T20:25:38.332Z"
   },
   {
    "duration": 18,
    "start_time": "2022-02-12T20:25:47.732Z"
   },
   {
    "duration": 86,
    "start_time": "2022-02-12T20:25:54.748Z"
   },
   {
    "duration": 20,
    "start_time": "2022-02-12T20:27:20.428Z"
   },
   {
    "duration": 965,
    "start_time": "2022-02-12T20:27:23.877Z"
   },
   {
    "duration": 31,
    "start_time": "2022-02-12T20:27:38.566Z"
   },
   {
    "duration": 30,
    "start_time": "2022-02-12T20:27:42.487Z"
   },
   {
    "duration": 279,
    "start_time": "2022-02-12T20:27:58.312Z"
   },
   {
    "duration": 44,
    "start_time": "2022-02-12T20:28:03.129Z"
   },
   {
    "duration": 344,
    "start_time": "2022-02-12T20:28:05.746Z"
   },
   {
    "duration": 28,
    "start_time": "2022-02-12T20:28:15.882Z"
   },
   {
    "duration": 296,
    "start_time": "2022-02-12T20:28:16.890Z"
   },
   {
    "duration": 6,
    "start_time": "2022-02-12T20:28:36.450Z"
   },
   {
    "duration": 1718,
    "start_time": "2022-02-12T20:28:36.458Z"
   },
   {
    "duration": 27,
    "start_time": "2022-02-12T20:28:38.180Z"
   },
   {
    "duration": 181,
    "start_time": "2022-02-12T20:28:38.210Z"
   },
   {
    "duration": 15,
    "start_time": "2022-02-12T20:28:38.394Z"
   },
   {
    "duration": 17,
    "start_time": "2022-02-12T20:28:38.412Z"
   },
   {
    "duration": 4,
    "start_time": "2022-02-12T20:28:38.431Z"
   },
   {
    "duration": 6,
    "start_time": "2022-02-12T20:28:38.452Z"
   },
   {
    "duration": 23,
    "start_time": "2022-02-12T20:28:38.461Z"
   },
   {
    "duration": 4,
    "start_time": "2022-02-12T20:28:38.486Z"
   },
   {
    "duration": 26,
    "start_time": "2022-02-12T20:28:38.492Z"
   },
   {
    "duration": 8,
    "start_time": "2022-02-12T20:28:38.520Z"
   },
   {
    "duration": 11,
    "start_time": "2022-02-12T20:28:38.530Z"
   },
   {
    "duration": 6,
    "start_time": "2022-02-12T20:28:38.544Z"
   },
   {
    "duration": 22,
    "start_time": "2022-02-12T20:28:38.553Z"
   },
   {
    "duration": 45,
    "start_time": "2022-02-12T20:28:38.577Z"
   },
   {
    "duration": 37,
    "start_time": "2022-02-12T20:28:38.624Z"
   },
   {
    "duration": 61,
    "start_time": "2022-02-12T20:28:38.663Z"
   },
   {
    "duration": 37,
    "start_time": "2022-02-12T20:28:38.727Z"
   },
   {
    "duration": 16,
    "start_time": "2022-02-12T20:28:38.766Z"
   },
   {
    "duration": 10,
    "start_time": "2022-02-12T20:28:38.785Z"
   },
   {
    "duration": 29,
    "start_time": "2022-02-12T20:28:38.798Z"
   },
   {
    "duration": 8,
    "start_time": "2022-02-12T20:28:38.832Z"
   },
   {
    "duration": 23,
    "start_time": "2022-02-12T20:28:38.842Z"
   },
   {
    "duration": 20,
    "start_time": "2022-02-12T20:28:38.867Z"
   },
   {
    "duration": 22,
    "start_time": "2022-02-12T20:28:38.889Z"
   },
   {
    "duration": 1192,
    "start_time": "2022-02-12T20:28:38.914Z"
   },
   {
    "duration": 44,
    "start_time": "2022-02-12T20:28:40.108Z"
   },
   {
    "duration": 20,
    "start_time": "2022-02-12T20:28:40.155Z"
   },
   {
    "duration": 1166,
    "start_time": "2022-02-12T20:28:40.177Z"
   },
   {
    "duration": 42,
    "start_time": "2022-02-12T20:28:41.349Z"
   },
   {
    "duration": 55,
    "start_time": "2022-02-12T20:28:41.394Z"
   },
   {
    "duration": 817,
    "start_time": "2022-02-12T20:28:41.452Z"
   },
   {
    "duration": 21,
    "start_time": "2022-02-12T20:28:42.271Z"
   },
   {
    "duration": 974,
    "start_time": "2022-02-12T20:28:42.294Z"
   },
   {
    "duration": 28,
    "start_time": "2022-02-12T20:28:43.270Z"
   },
   {
    "duration": 403,
    "start_time": "2022-02-12T20:28:43.301Z"
   },
   {
    "duration": 2212,
    "start_time": "2022-02-12T20:28:41.496Z"
   },
   {
    "duration": 2207,
    "start_time": "2022-02-12T20:28:41.503Z"
   },
   {
    "duration": 291,
    "start_time": "2022-02-12T20:29:03.492Z"
   },
   {
    "duration": 23,
    "start_time": "2022-02-12T20:29:10.813Z"
   },
   {
    "duration": 560,
    "start_time": "2022-02-12T20:29:12.158Z"
   },
   {
    "duration": 96,
    "start_time": "2022-02-12T20:30:01.642Z"
   },
   {
    "duration": 23,
    "start_time": "2022-02-12T20:30:30.572Z"
   },
   {
    "duration": 294,
    "start_time": "2022-02-12T20:30:34.989Z"
   },
   {
    "duration": 21,
    "start_time": "2022-02-12T20:30:39.721Z"
   },
   {
    "duration": 12,
    "start_time": "2022-02-12T20:33:11.164Z"
   },
   {
    "duration": 105,
    "start_time": "2022-02-12T20:42:01.120Z"
   },
   {
    "duration": 7,
    "start_time": "2022-02-12T20:42:17.281Z"
   },
   {
    "duration": 8,
    "start_time": "2022-02-12T20:42:30.170Z"
   },
   {
    "duration": 304,
    "start_time": "2022-02-12T20:47:25.656Z"
   },
   {
    "duration": 11,
    "start_time": "2022-02-12T20:47:37.441Z"
   },
   {
    "duration": 11,
    "start_time": "2022-02-12T20:47:42.930Z"
   },
   {
    "duration": 1517,
    "start_time": "2022-02-12T20:48:53.638Z"
   },
   {
    "duration": 30,
    "start_time": "2022-02-12T20:48:58.127Z"
   },
   {
    "duration": 123,
    "start_time": "2022-02-12T20:49:08.832Z"
   },
   {
    "duration": 13,
    "start_time": "2022-02-12T20:49:27.281Z"
   },
   {
    "duration": 22,
    "start_time": "2022-02-12T20:49:51.715Z"
   },
   {
    "duration": 627,
    "start_time": "2022-02-12T20:50:43.994Z"
   },
   {
    "duration": 2281,
    "start_time": "2022-02-12T20:54:51.450Z"
   },
   {
    "duration": 2288,
    "start_time": "2022-02-12T20:54:59.489Z"
   },
   {
    "duration": 523,
    "start_time": "2022-02-12T20:55:07.651Z"
   },
   {
    "duration": 490,
    "start_time": "2022-02-12T20:55:26.366Z"
   },
   {
    "duration": 978,
    "start_time": "2022-02-12T20:55:34.968Z"
   },
   {
    "duration": 1049,
    "start_time": "2022-02-12T20:55:36.270Z"
   },
   {
    "duration": 563,
    "start_time": "2022-02-12T20:56:11.961Z"
   },
   {
    "duration": 457,
    "start_time": "2022-02-12T20:56:15.025Z"
   },
   {
    "duration": 6,
    "start_time": "2022-02-12T20:56:29.051Z"
   },
   {
    "duration": 595,
    "start_time": "2022-02-12T20:57:17.104Z"
   },
   {
    "duration": 343,
    "start_time": "2022-02-12T20:57:37.922Z"
   },
   {
    "duration": 94,
    "start_time": "2022-02-12T20:57:59.492Z"
   },
   {
    "duration": 273,
    "start_time": "2022-02-12T20:58:04.572Z"
   },
   {
    "duration": 476,
    "start_time": "2022-02-12T20:58:18.006Z"
   },
   {
    "duration": 469,
    "start_time": "2022-02-12T20:58:56.521Z"
   },
   {
    "duration": 473,
    "start_time": "2022-02-12T20:59:41.614Z"
   },
   {
    "duration": 8,
    "start_time": "2022-02-12T21:02:35.535Z"
   },
   {
    "duration": 3,
    "start_time": "2022-02-12T21:05:42.257Z"
   },
   {
    "duration": 5,
    "start_time": "2022-02-12T21:05:49.553Z"
   },
   {
    "duration": 2282,
    "start_time": "2022-02-12T21:06:05.234Z"
   },
   {
    "duration": 6975,
    "start_time": "2022-02-12T21:06:11.140Z"
   },
   {
    "duration": 8,
    "start_time": "2022-02-12T21:07:27.299Z"
   },
   {
    "duration": 3,
    "start_time": "2022-02-12T21:07:40.293Z"
   },
   {
    "duration": 295,
    "start_time": "2022-02-12T21:08:09.695Z"
   },
   {
    "duration": 11,
    "start_time": "2022-02-12T21:08:14.999Z"
   },
   {
    "duration": 6,
    "start_time": "2022-02-12T21:08:21.608Z"
   },
   {
    "duration": 8,
    "start_time": "2022-02-12T21:13:13.629Z"
   },
   {
    "duration": 91,
    "start_time": "2022-02-13T07:43:40.716Z"
   },
   {
    "duration": 89,
    "start_time": "2022-02-13T07:43:43.850Z"
   },
   {
    "duration": 307,
    "start_time": "2022-02-13T07:43:51.987Z"
   },
   {
    "duration": 1173,
    "start_time": "2022-02-13T07:44:00.436Z"
   },
   {
    "duration": 16,
    "start_time": "2022-02-13T07:44:03.173Z"
   },
   {
    "duration": 20,
    "start_time": "2022-02-13T07:44:08.164Z"
   },
   {
    "duration": 525,
    "start_time": "2022-02-13T07:44:19.534Z"
   },
   {
    "duration": 604,
    "start_time": "2022-02-13T07:50:14.186Z"
   },
   {
    "duration": 333,
    "start_time": "2022-02-13T07:50:29.642Z"
   },
   {
    "duration": 10,
    "start_time": "2022-02-13T07:50:42.954Z"
   },
   {
    "duration": 436,
    "start_time": "2022-02-13T07:50:57.845Z"
   },
   {
    "duration": 9,
    "start_time": "2022-02-13T07:53:04.265Z"
   },
   {
    "duration": 1366,
    "start_time": "2022-02-13T07:53:54.402Z"
   },
   {
    "duration": 20,
    "start_time": "2022-02-13T07:53:58.193Z"
   },
   {
    "duration": 10,
    "start_time": "2022-02-13T07:54:02.914Z"
   },
   {
    "duration": 10,
    "start_time": "2022-02-13T07:54:11.403Z"
   },
   {
    "duration": 10,
    "start_time": "2022-02-13T07:54:20.292Z"
   },
   {
    "duration": 15,
    "start_time": "2022-02-13T07:54:36.718Z"
   },
   {
    "duration": 20,
    "start_time": "2022-02-13T07:54:58.744Z"
   },
   {
    "duration": 627,
    "start_time": "2022-02-13T07:55:16.066Z"
   },
   {
    "duration": 279,
    "start_time": "2022-02-13T07:56:05.231Z"
   },
   {
    "duration": 5,
    "start_time": "2022-02-13T07:56:10.775Z"
   },
   {
    "duration": 522,
    "start_time": "2022-02-13T07:56:15.183Z"
   },
   {
    "duration": 9,
    "start_time": "2022-02-13T07:56:35.465Z"
   },
   {
    "duration": 511,
    "start_time": "2022-02-13T08:05:43.463Z"
   },
   {
    "duration": 15,
    "start_time": "2022-02-13T08:12:02.460Z"
   },
   {
    "duration": 9,
    "start_time": "2022-02-13T08:12:09.699Z"
   },
   {
    "duration": 11,
    "start_time": "2022-02-13T08:12:15.108Z"
   },
   {
    "duration": 273,
    "start_time": "2022-02-13T08:12:26.703Z"
   },
   {
    "duration": 552,
    "start_time": "2022-02-13T08:12:36.055Z"
   },
   {
    "duration": 17,
    "start_time": "2022-02-13T08:15:04.454Z"
   },
   {
    "duration": 7,
    "start_time": "2022-02-13T08:15:08.661Z"
   },
   {
    "duration": 14,
    "start_time": "2022-02-13T08:15:22.495Z"
   },
   {
    "duration": 1235,
    "start_time": "2022-02-13T08:16:08.483Z"
   },
   {
    "duration": 24,
    "start_time": "2022-02-13T08:16:10.068Z"
   },
   {
    "duration": 11,
    "start_time": "2022-02-13T08:16:15.396Z"
   },
   {
    "duration": 360,
    "start_time": "2022-02-13T08:16:26.148Z"
   },
   {
    "duration": 10,
    "start_time": "2022-02-13T08:16:30.997Z"
   },
   {
    "duration": 9,
    "start_time": "2022-02-13T08:16:38.574Z"
   },
   {
    "duration": 6,
    "start_time": "2022-02-13T08:16:50.055Z"
   },
   {
    "duration": 25,
    "start_time": "2022-02-13T08:16:53.874Z"
   },
   {
    "duration": 458,
    "start_time": "2022-02-13T08:17:22.787Z"
   },
   {
    "duration": 87,
    "start_time": "2022-02-13T08:20:08.427Z"
   },
   {
    "duration": 16,
    "start_time": "2022-02-13T08:20:14.395Z"
   },
   {
    "duration": 9,
    "start_time": "2022-02-13T08:20:18.723Z"
   },
   {
    "duration": 1230,
    "start_time": "2022-02-13T08:22:15.484Z"
   },
   {
    "duration": 18,
    "start_time": "2022-02-13T08:22:18.492Z"
   },
   {
    "duration": 11,
    "start_time": "2022-02-13T08:22:23.444Z"
   },
   {
    "duration": 4,
    "start_time": "2022-02-13T08:27:31.763Z"
   },
   {
    "duration": 396,
    "start_time": "2022-02-13T08:28:49.459Z"
   },
   {
    "duration": 267,
    "start_time": "2022-02-13T08:30:42.318Z"
   },
   {
    "duration": 11,
    "start_time": "2022-02-13T08:33:20.708Z"
   },
   {
    "duration": 266,
    "start_time": "2022-02-13T08:33:23.797Z"
   },
   {
    "duration": 551,
    "start_time": "2022-02-13T08:34:00.355Z"
   },
   {
    "duration": 258,
    "start_time": "2022-02-13T08:34:49.566Z"
   },
   {
    "duration": 16,
    "start_time": "2022-02-13T08:40:00.460Z"
   },
   {
    "duration": 16,
    "start_time": "2022-02-13T08:40:06.644Z"
   },
   {
    "duration": 4,
    "start_time": "2022-02-13T08:43:22.329Z"
   },
   {
    "duration": 1321,
    "start_time": "2022-02-13T08:43:22.336Z"
   },
   {
    "duration": 17,
    "start_time": "2022-02-13T08:43:23.660Z"
   },
   {
    "duration": 155,
    "start_time": "2022-02-13T08:43:23.679Z"
   },
   {
    "duration": 9,
    "start_time": "2022-02-13T08:43:23.836Z"
   },
   {
    "duration": 10,
    "start_time": "2022-02-13T08:43:23.846Z"
   },
   {
    "duration": 15,
    "start_time": "2022-02-13T08:43:23.857Z"
   },
   {
    "duration": 11,
    "start_time": "2022-02-13T08:43:23.874Z"
   },
   {
    "duration": 33,
    "start_time": "2022-02-13T08:43:23.887Z"
   },
   {
    "duration": 8,
    "start_time": "2022-02-13T08:43:23.921Z"
   },
   {
    "duration": 8,
    "start_time": "2022-02-13T08:43:23.931Z"
   },
   {
    "duration": 10,
    "start_time": "2022-02-13T08:43:23.940Z"
   },
   {
    "duration": 7,
    "start_time": "2022-02-13T08:43:23.952Z"
   },
   {
    "duration": 22,
    "start_time": "2022-02-13T08:43:23.960Z"
   },
   {
    "duration": 45,
    "start_time": "2022-02-13T08:43:23.984Z"
   },
   {
    "duration": 18,
    "start_time": "2022-02-13T08:43:24.030Z"
   },
   {
    "duration": 36,
    "start_time": "2022-02-13T08:43:24.050Z"
   },
   {
    "duration": 36,
    "start_time": "2022-02-13T08:43:24.088Z"
   },
   {
    "duration": 8,
    "start_time": "2022-02-13T08:43:24.125Z"
   },
   {
    "duration": 7,
    "start_time": "2022-02-13T08:43:24.135Z"
   },
   {
    "duration": 18,
    "start_time": "2022-02-13T08:43:24.144Z"
   },
   {
    "duration": 10,
    "start_time": "2022-02-13T08:43:24.164Z"
   },
   {
    "duration": 19,
    "start_time": "2022-02-13T08:43:24.178Z"
   },
   {
    "duration": 39,
    "start_time": "2022-02-13T08:43:24.199Z"
   },
   {
    "duration": 19,
    "start_time": "2022-02-13T08:43:24.240Z"
   },
   {
    "duration": 652,
    "start_time": "2022-02-13T08:43:24.260Z"
   },
   {
    "duration": 16,
    "start_time": "2022-02-13T08:43:24.914Z"
   },
   {
    "duration": 15,
    "start_time": "2022-02-13T08:43:24.931Z"
   },
   {
    "duration": 670,
    "start_time": "2022-02-13T08:43:24.948Z"
   },
   {
    "duration": 27,
    "start_time": "2022-02-13T08:43:25.620Z"
   },
   {
    "duration": 14,
    "start_time": "2022-02-13T08:43:25.648Z"
   },
   {
    "duration": 554,
    "start_time": "2022-02-13T08:43:25.664Z"
   },
   {
    "duration": 15,
    "start_time": "2022-02-13T08:43:26.220Z"
   },
   {
    "duration": 639,
    "start_time": "2022-02-13T08:43:26.236Z"
   },
   {
    "duration": 14,
    "start_time": "2022-02-13T08:43:26.877Z"
   },
   {
    "duration": 308,
    "start_time": "2022-02-13T08:43:26.893Z"
   },
   {
    "duration": 26,
    "start_time": "2022-02-13T08:43:27.203Z"
   },
   {
    "duration": 350,
    "start_time": "2022-02-13T08:43:27.231Z"
   },
   {
    "duration": 297,
    "start_time": "2022-02-13T08:45:39.235Z"
   },
   {
    "duration": 13,
    "start_time": "2022-02-13T08:54:23.247Z"
   },
   {
    "duration": 1360,
    "start_time": "2022-02-13T09:02:46.579Z"
   },
   {
    "duration": 17,
    "start_time": "2022-02-13T09:02:47.941Z"
   },
   {
    "duration": 108,
    "start_time": "2022-02-13T09:04:22.417Z"
   },
   {
    "duration": 7,
    "start_time": "2022-02-13T09:04:37.927Z"
   },
   {
    "duration": 16,
    "start_time": "2022-02-13T09:04:43.367Z"
   }
  ],
  "kernelspec": {
   "display_name": "Python 3 (ipykernel)",
   "language": "python",
   "name": "python3"
  },
  "language_info": {
   "codemirror_mode": {
    "name": "ipython",
    "version": 3
   },
   "file_extension": ".py",
   "mimetype": "text/x-python",
   "name": "python",
   "nbconvert_exporter": "python",
   "pygments_lexer": "ipython3",
   "version": "3.9.7"
  },
  "toc": {
   "base_numbering": 1,
   "nav_menu": {},
   "number_sections": true,
   "sideBar": true,
   "skip_h1_title": true,
   "title_cell": "Table of Contents",
   "title_sidebar": "Contents",
   "toc_cell": false,
   "toc_position": {
    "height": "calc(100% - 180px)",
    "left": "10px",
    "top": "150px",
    "width": "292px"
   },
   "toc_section_display": true,
   "toc_window_display": true
  }
 },
 "nbformat": 4,
 "nbformat_minor": 5
}
