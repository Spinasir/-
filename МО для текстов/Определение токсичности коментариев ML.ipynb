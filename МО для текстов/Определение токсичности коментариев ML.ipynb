{
 "cells": [
  {
   "cell_type": "code",
   "execution_count": 1,
   "id": "d9f9d7bb",
   "metadata": {},
   "outputs": [],
   "source": [
    "#! pip install spacy -U\n",
    "#! spacy download en\n",
    "#! pipinstall catboost -U\n",
    "#! pip install lightgbm"
   ]
  },
  {
   "cell_type": "markdown",
   "id": "f88e3f8d",
   "metadata": {
    "toc": true
   },
   "source": [
    "<h1>Содержание<span class=\"tocSkip\"></span></h1>\n",
    "<div class=\"toc\"><ul class=\"toc-item\"><li><span><a href=\"#Обзор-данных\" data-toc-modified-id=\"Обзор-данных-1\"><span class=\"toc-item-num\">1&nbsp;&nbsp;</span>Обзор данных</a></span><ul class=\"toc-item\"><li><span><a href=\"#Лемматизация\" data-toc-modified-id=\"Лемматизация-1.1\"><span class=\"toc-item-num\">1.1&nbsp;&nbsp;</span>Лемматизация</a></span></li></ul></li><li><span><a href=\"#Обучение-модели\" data-toc-modified-id=\"Обучение-модели-2\"><span class=\"toc-item-num\">2&nbsp;&nbsp;</span>Обучение модели</a></span><ul class=\"toc-item\"><li><span><a href=\"#Dummy\" data-toc-modified-id=\"Dummy-2.1\"><span class=\"toc-item-num\">2.1&nbsp;&nbsp;</span>Dummy</a></span></li><li><span><a href=\"#Линейка\" data-toc-modified-id=\"Линейка-2.2\"><span class=\"toc-item-num\">2.2&nbsp;&nbsp;</span>Линейка</a></span></li><li><span><a href=\"#CatBoost\" data-toc-modified-id=\"CatBoost-2.3\"><span class=\"toc-item-num\">2.3&nbsp;&nbsp;</span>CatBoost</a></span></li><li><span><a href=\"#LGBM\" data-toc-modified-id=\"LGBM-2.4\"><span class=\"toc-item-num\">2.4&nbsp;&nbsp;</span>LGBM</a></span></li><li><span><a href=\"#Вывод\" data-toc-modified-id=\"Вывод-2.5\"><span class=\"toc-item-num\">2.5&nbsp;&nbsp;</span>Вывод</a></span></li></ul></li><li><span><a href=\"#Экзамен\" data-toc-modified-id=\"Экзамен-3\"><span class=\"toc-item-num\">3&nbsp;&nbsp;</span>Экзамен</a></span><ul class=\"toc-item\"><li><span><a href=\"#Линейка\" data-toc-modified-id=\"Линейка-3.1\"><span class=\"toc-item-num\">3.1&nbsp;&nbsp;</span>Линейка</a></span></li><li><span><a href=\"#CatBoost\" data-toc-modified-id=\"CatBoost-3.2\"><span class=\"toc-item-num\">3.2&nbsp;&nbsp;</span>CatBoost</a></span></li></ul></li><li><span><a href=\"#Вывод\" data-toc-modified-id=\"Вывод-4\"><span class=\"toc-item-num\">4&nbsp;&nbsp;</span>Вывод</a></span></li></ul></div>"
   ]
  },
  {
   "cell_type": "markdown",
   "id": "9cb861b2",
   "metadata": {},
   "source": [
    "**Описание проекта**  \n",
    "Интернет-магазин «Викишоп» запускает новый сервис. Теперь пользователи могут редактировать и дополнять описания товаров, как в вики-сообществах. То есть клиенты предлагают свои правки и комментируют изменения других. Магазину нужен инструмент, который будет искать токсичные комментарии и отправлять их на модерацию.  \n",
    "Обучите модель классифицировать комментарии на позитивные и негативные. В вашем распоряжении набор данных с разметкой о токсичности правок.  \n",
    "Постройте модель со значением метрики качества F1 не меньше 0.75.  \n",
    "**Инструкция для проекта**  \n",
    "Решить задачу можно как с помощью BERT, так и без этой нейронки. Если хотите попробовать BERT —\n",
    "Выполните проект локально. В тренажере тетрадь Jupyter ограничена 4 ГБ оперативной памяти — для проекта с BERT этого может не хватить.  \n",
    "Упомяните BERT в заголовке проекта в первой ячейке:  "
   ]
  },
  {
   "cell_type": "markdown",
   "id": "4211b079",
   "metadata": {},
   "source": [
    "Выполнить проект без BERT можно локально или в нашем тренажёре.  \n",
    "В любом случае алгоритм решения выглядит так:  \n",
    "Загрузите и подготовьте данные.  \n",
    "Обучите разные модели.  \n",
    "Сделайте выводы.  \n",
    "**Описание данных**  \n",
    "Столбец text в нём содержит текст комментария, а toxic — целевой признак."
   ]
  },
  {
   "cell_type": "markdown",
   "id": "41f26f3c",
   "metadata": {},
   "source": [
    "## Обзор данных"
   ]
  },
  {
   "cell_type": "code",
   "execution_count": 2,
   "id": "a090ea9a",
   "metadata": {},
   "outputs": [],
   "source": [
    "import pandas as pd\n",
    "import matplotlib.pyplot as plt\n",
    "import re\n",
    "\n",
    "import spacy\n",
    "import nltk\n",
    "from nltk.corpus import stopwords\n",
    "stop_words = stopwords.words('english')\n",
    "from sklearn.feature_extraction.text import TfidfVectorizer\n",
    "from sklearn.model_selection import train_test_split, cross_val_score\n",
    "from sklearn.metrics import f1_score\n",
    "\n",
    "from sklearn.dummy import DummyClassifier\n",
    "from sklearn.linear_model import LogisticRegression\n",
    "from catboost import CatBoostClassifier, Pool, cv\n",
    "from lightgbm import LGBMClassifier\n",
    "\n",
    "import warnings\n",
    "warnings.filterwarnings('ignore')"
   ]
  },
  {
   "cell_type": "code",
   "execution_count": 3,
   "id": "5b42ea35",
   "metadata": {},
   "outputs": [],
   "source": [
    "try:\n",
    "    data = pd.read_csv('/datasets/toxic_comments.csv')\n",
    "except:\n",
    "    data = pd.read_csv('toxic_comments.csv')"
   ]
  },
  {
   "cell_type": "code",
   "execution_count": 4,
   "id": "629c53cb",
   "metadata": {},
   "outputs": [
    {
     "data": {
      "text/html": [
       "<div>\n",
       "<style scoped>\n",
       "    .dataframe tbody tr th:only-of-type {\n",
       "        vertical-align: middle;\n",
       "    }\n",
       "\n",
       "    .dataframe tbody tr th {\n",
       "        vertical-align: top;\n",
       "    }\n",
       "\n",
       "    .dataframe thead th {\n",
       "        text-align: right;\n",
       "    }\n",
       "</style>\n",
       "<table border=\"1\" class=\"dataframe\">\n",
       "  <thead>\n",
       "    <tr style=\"text-align: right;\">\n",
       "      <th></th>\n",
       "      <th>text</th>\n",
       "      <th>toxic</th>\n",
       "    </tr>\n",
       "  </thead>\n",
       "  <tbody>\n",
       "    <tr>\n",
       "      <th>0</th>\n",
       "      <td>Explanation\\nWhy the edits made under my usern...</td>\n",
       "      <td>0</td>\n",
       "    </tr>\n",
       "    <tr>\n",
       "      <th>1</th>\n",
       "      <td>D'aww! He matches this background colour I'm s...</td>\n",
       "      <td>0</td>\n",
       "    </tr>\n",
       "    <tr>\n",
       "      <th>2</th>\n",
       "      <td>Hey man, I'm really not trying to edit war. It...</td>\n",
       "      <td>0</td>\n",
       "    </tr>\n",
       "    <tr>\n",
       "      <th>3</th>\n",
       "      <td>\"\\nMore\\nI can't make any real suggestions on ...</td>\n",
       "      <td>0</td>\n",
       "    </tr>\n",
       "    <tr>\n",
       "      <th>4</th>\n",
       "      <td>You, sir, are my hero. Any chance you remember...</td>\n",
       "      <td>0</td>\n",
       "    </tr>\n",
       "    <tr>\n",
       "      <th>5</th>\n",
       "      <td>\"\\n\\nCongratulations from me as well, use the ...</td>\n",
       "      <td>0</td>\n",
       "    </tr>\n",
       "    <tr>\n",
       "      <th>6</th>\n",
       "      <td>COCKSUCKER BEFORE YOU PISS AROUND ON MY WORK</td>\n",
       "      <td>1</td>\n",
       "    </tr>\n",
       "    <tr>\n",
       "      <th>7</th>\n",
       "      <td>Your vandalism to the Matt Shirvington article...</td>\n",
       "      <td>0</td>\n",
       "    </tr>\n",
       "    <tr>\n",
       "      <th>8</th>\n",
       "      <td>Sorry if the word 'nonsense' was offensive to ...</td>\n",
       "      <td>0</td>\n",
       "    </tr>\n",
       "    <tr>\n",
       "      <th>9</th>\n",
       "      <td>alignment on this subject and which are contra...</td>\n",
       "      <td>0</td>\n",
       "    </tr>\n",
       "  </tbody>\n",
       "</table>\n",
       "</div>"
      ],
      "text/plain": [
       "                                                text  toxic\n",
       "0  Explanation\\nWhy the edits made under my usern...      0\n",
       "1  D'aww! He matches this background colour I'm s...      0\n",
       "2  Hey man, I'm really not trying to edit war. It...      0\n",
       "3  \"\\nMore\\nI can't make any real suggestions on ...      0\n",
       "4  You, sir, are my hero. Any chance you remember...      0\n",
       "5  \"\\n\\nCongratulations from me as well, use the ...      0\n",
       "6       COCKSUCKER BEFORE YOU PISS AROUND ON MY WORK      1\n",
       "7  Your vandalism to the Matt Shirvington article...      0\n",
       "8  Sorry if the word 'nonsense' was offensive to ...      0\n",
       "9  alignment on this subject and which are contra...      0"
      ]
     },
     "execution_count": 4,
     "metadata": {},
     "output_type": "execute_result"
    }
   ],
   "source": [
    "data.head(10)"
   ]
  },
  {
   "cell_type": "markdown",
   "id": "576c6646",
   "metadata": {},
   "source": [
    "### Лемматизация"
   ]
  },
  {
   "cell_type": "code",
   "execution_count": 5,
   "id": "03a5b0ac",
   "metadata": {},
   "outputs": [
    {
     "data": {
      "text/plain": [
       "'Wall time: 50min 48s'"
      ]
     },
     "execution_count": 5,
     "metadata": {},
     "output_type": "execute_result"
    }
   ],
   "source": [
    "'''%%time\n",
    "def lemmatize_text(text):\n",
    "    doc = nlp(text)\n",
    "    word_list = nltk.word_tokenize(text)\n",
    "    lemm_text = \" \".join([token.lemma_ for token in doc])\n",
    "    cleared_text = re.sub(r'[^a-zA-Z]', ' ', lemm_text) \n",
    "    return \" \".join(cleared_text.split())\n",
    "\n",
    "data['lemm_text'] = data['text'].apply(lemmatize_text)'''\n",
    "'Wall time: 50min 48s'"
   ]
  },
  {
   "cell_type": "code",
   "execution_count": 6,
   "id": "11545096",
   "metadata": {},
   "outputs": [],
   "source": [
    "df = pd.read_csv('new_data')"
   ]
  },
  {
   "cell_type": "code",
   "execution_count": 7,
   "id": "c7d11839",
   "metadata": {},
   "outputs": [
    {
     "data": {
      "text/html": [
       "<div>\n",
       "<style scoped>\n",
       "    .dataframe tbody tr th:only-of-type {\n",
       "        vertical-align: middle;\n",
       "    }\n",
       "\n",
       "    .dataframe tbody tr th {\n",
       "        vertical-align: top;\n",
       "    }\n",
       "\n",
       "    .dataframe thead th {\n",
       "        text-align: right;\n",
       "    }\n",
       "</style>\n",
       "<table border=\"1\" class=\"dataframe\">\n",
       "  <thead>\n",
       "    <tr style=\"text-align: right;\">\n",
       "      <th></th>\n",
       "      <th>Unnamed: 0</th>\n",
       "      <th>text</th>\n",
       "      <th>toxic</th>\n",
       "      <th>lemm_text</th>\n",
       "    </tr>\n",
       "  </thead>\n",
       "  <tbody>\n",
       "    <tr>\n",
       "      <th>0</th>\n",
       "      <td>0</td>\n",
       "      <td>Explanation\\nWhy the edits made under my usern...</td>\n",
       "      <td>0</td>\n",
       "      <td>Explanation why the edit make under my usernam...</td>\n",
       "    </tr>\n",
       "    <tr>\n",
       "      <th>1</th>\n",
       "      <td>1</td>\n",
       "      <td>D'aww! He matches this background colour I'm s...</td>\n",
       "      <td>0</td>\n",
       "      <td>D aww he match this background colour I be see...</td>\n",
       "    </tr>\n",
       "    <tr>\n",
       "      <th>2</th>\n",
       "      <td>2</td>\n",
       "      <td>Hey man, I'm really not trying to edit war. It...</td>\n",
       "      <td>0</td>\n",
       "      <td>hey man I be really not try to edit war it be ...</td>\n",
       "    </tr>\n",
       "    <tr>\n",
       "      <th>3</th>\n",
       "      <td>3</td>\n",
       "      <td>\"\\nMore\\nI can't make any real suggestions on ...</td>\n",
       "      <td>0</td>\n",
       "      <td>more I can not make any real suggestion on imp...</td>\n",
       "    </tr>\n",
       "    <tr>\n",
       "      <th>4</th>\n",
       "      <td>4</td>\n",
       "      <td>You, sir, are my hero. Any chance you remember...</td>\n",
       "      <td>0</td>\n",
       "      <td>you sir be my hero any chance you remember wha...</td>\n",
       "    </tr>\n",
       "    <tr>\n",
       "      <th>...</th>\n",
       "      <td>...</td>\n",
       "      <td>...</td>\n",
       "      <td>...</td>\n",
       "      <td>...</td>\n",
       "    </tr>\n",
       "    <tr>\n",
       "      <th>159566</th>\n",
       "      <td>159566</td>\n",
       "      <td>\":::::And for the second time of asking, when ...</td>\n",
       "      <td>0</td>\n",
       "      <td>and for the second time of ask when your view ...</td>\n",
       "    </tr>\n",
       "    <tr>\n",
       "      <th>159567</th>\n",
       "      <td>159567</td>\n",
       "      <td>You should be ashamed of yourself \\n\\nThat is ...</td>\n",
       "      <td>0</td>\n",
       "      <td>you should be ashamed of yourself that be a ho...</td>\n",
       "    </tr>\n",
       "    <tr>\n",
       "      <th>159568</th>\n",
       "      <td>159568</td>\n",
       "      <td>Spitzer \\n\\nUmm, theres no actual article for ...</td>\n",
       "      <td>0</td>\n",
       "      <td>Spitzer Umm there s no actual article for pros...</td>\n",
       "    </tr>\n",
       "    <tr>\n",
       "      <th>159569</th>\n",
       "      <td>159569</td>\n",
       "      <td>And it looks like it was actually you who put ...</td>\n",
       "      <td>0</td>\n",
       "      <td>and it look like it be actually you who put on...</td>\n",
       "    </tr>\n",
       "    <tr>\n",
       "      <th>159570</th>\n",
       "      <td>159570</td>\n",
       "      <td>\"\\nAnd ... I really don't think you understand...</td>\n",
       "      <td>0</td>\n",
       "      <td>and I really do not think you understand I com...</td>\n",
       "    </tr>\n",
       "  </tbody>\n",
       "</table>\n",
       "<p>159571 rows × 4 columns</p>\n",
       "</div>"
      ],
      "text/plain": [
       "        Unnamed: 0                                               text  toxic  \\\n",
       "0                0  Explanation\\nWhy the edits made under my usern...      0   \n",
       "1                1  D'aww! He matches this background colour I'm s...      0   \n",
       "2                2  Hey man, I'm really not trying to edit war. It...      0   \n",
       "3                3  \"\\nMore\\nI can't make any real suggestions on ...      0   \n",
       "4                4  You, sir, are my hero. Any chance you remember...      0   \n",
       "...            ...                                                ...    ...   \n",
       "159566      159566  \":::::And for the second time of asking, when ...      0   \n",
       "159567      159567  You should be ashamed of yourself \\n\\nThat is ...      0   \n",
       "159568      159568  Spitzer \\n\\nUmm, theres no actual article for ...      0   \n",
       "159569      159569  And it looks like it was actually you who put ...      0   \n",
       "159570      159570  \"\\nAnd ... I really don't think you understand...      0   \n",
       "\n",
       "                                                lemm_text  \n",
       "0       Explanation why the edit make under my usernam...  \n",
       "1       D aww he match this background colour I be see...  \n",
       "2       hey man I be really not try to edit war it be ...  \n",
       "3       more I can not make any real suggestion on imp...  \n",
       "4       you sir be my hero any chance you remember wha...  \n",
       "...                                                   ...  \n",
       "159566  and for the second time of ask when your view ...  \n",
       "159567  you should be ashamed of yourself that be a ho...  \n",
       "159568  Spitzer Umm there s no actual article for pros...  \n",
       "159569  and it look like it be actually you who put on...  \n",
       "159570  and I really do not think you understand I com...  \n",
       "\n",
       "[159571 rows x 4 columns]"
      ]
     },
     "execution_count": 7,
     "metadata": {},
     "output_type": "execute_result"
    }
   ],
   "source": [
    "df"
   ]
  },
  {
   "cell_type": "code",
   "execution_count": 8,
   "id": "b3733685",
   "metadata": {},
   "outputs": [
    {
     "name": "stdout",
     "output_type": "stream",
     "text": [
      "<class 'pandas.core.frame.DataFrame'>\n",
      "RangeIndex: 159571 entries, 0 to 159570\n",
      "Data columns (total 4 columns):\n",
      " #   Column      Non-Null Count   Dtype \n",
      "---  ------      --------------   ----- \n",
      " 0   Unnamed: 0  159571 non-null  int64 \n",
      " 1   text        159571 non-null  object\n",
      " 2   toxic       159571 non-null  int64 \n",
      " 3   lemm_text   159564 non-null  object\n",
      "dtypes: int64(2), object(2)\n",
      "memory usage: 4.9+ MB\n"
     ]
    }
   ],
   "source": [
    "df.info()"
   ]
  },
  {
   "cell_type": "markdown",
   "id": "26b13c99",
   "metadata": {},
   "source": [
    "Проверим пропуски"
   ]
  },
  {
   "cell_type": "code",
   "execution_count": 9,
   "id": "6fc4b8db",
   "metadata": {},
   "outputs": [
    {
     "data": {
      "text/plain": [
       "Unnamed: 0    0\n",
       "text          0\n",
       "toxic         0\n",
       "lemm_text     7\n",
       "dtype: int64"
      ]
     },
     "execution_count": 9,
     "metadata": {},
     "output_type": "execute_result"
    }
   ],
   "source": [
    "df.isna().sum()"
   ]
  },
  {
   "cell_type": "code",
   "execution_count": 10,
   "id": "90cf4bfe",
   "metadata": {},
   "outputs": [
    {
     "data": {
      "text/html": [
       "<div>\n",
       "<style scoped>\n",
       "    .dataframe tbody tr th:only-of-type {\n",
       "        vertical-align: middle;\n",
       "    }\n",
       "\n",
       "    .dataframe tbody tr th {\n",
       "        vertical-align: top;\n",
       "    }\n",
       "\n",
       "    .dataframe thead th {\n",
       "        text-align: right;\n",
       "    }\n",
       "</style>\n",
       "<table border=\"1\" class=\"dataframe\">\n",
       "  <thead>\n",
       "    <tr style=\"text-align: right;\">\n",
       "      <th></th>\n",
       "      <th>Unnamed: 0</th>\n",
       "      <th>text</th>\n",
       "      <th>toxic</th>\n",
       "      <th>lemm_text</th>\n",
       "    </tr>\n",
       "  </thead>\n",
       "  <tbody>\n",
       "    <tr>\n",
       "      <th>4482</th>\n",
       "      <td>4482</td>\n",
       "      <td>1993\\n\\n1994\\n\\n1995\\n\\n1996\\n\\n1997\\n\\n1998\\n...</td>\n",
       "      <td>0</td>\n",
       "      <td>NaN</td>\n",
       "    </tr>\n",
       "    <tr>\n",
       "      <th>6300</th>\n",
       "      <td>6300</td>\n",
       "      <td>193.61.111.53  15:00</td>\n",
       "      <td>0</td>\n",
       "      <td>NaN</td>\n",
       "    </tr>\n",
       "    <tr>\n",
       "      <th>17311</th>\n",
       "      <td>17311</td>\n",
       "      <td>~ \\n\\n68.193.147.157</td>\n",
       "      <td>0</td>\n",
       "      <td>NaN</td>\n",
       "    </tr>\n",
       "    <tr>\n",
       "      <th>52442</th>\n",
       "      <td>52442</td>\n",
       "      <td>14:53,</td>\n",
       "      <td>0</td>\n",
       "      <td>NaN</td>\n",
       "    </tr>\n",
       "    <tr>\n",
       "      <th>53787</th>\n",
       "      <td>53787</td>\n",
       "      <td>92.24.199.233|92.24.199.233]]</td>\n",
       "      <td>0</td>\n",
       "      <td>NaN</td>\n",
       "    </tr>\n",
       "    <tr>\n",
       "      <th>61758</th>\n",
       "      <td>61758</td>\n",
       "      <td>\"\\n\\n 199.209.144.211  \"</td>\n",
       "      <td>0</td>\n",
       "      <td>NaN</td>\n",
       "    </tr>\n",
       "    <tr>\n",
       "      <th>82681</th>\n",
       "      <td>82681</td>\n",
       "      <td>\"\\n '''''' 2010/2013 \"</td>\n",
       "      <td>0</td>\n",
       "      <td>NaN</td>\n",
       "    </tr>\n",
       "  </tbody>\n",
       "</table>\n",
       "</div>"
      ],
      "text/plain": [
       "       Unnamed: 0                                               text  toxic  \\\n",
       "4482         4482  1993\\n\\n1994\\n\\n1995\\n\\n1996\\n\\n1997\\n\\n1998\\n...      0   \n",
       "6300         6300                               193.61.111.53  15:00      0   \n",
       "17311       17311                               ~ \\n\\n68.193.147.157      0   \n",
       "52442       52442                                             14:53,      0   \n",
       "53787       53787                      92.24.199.233|92.24.199.233]]      0   \n",
       "61758       61758                           \"\\n\\n 199.209.144.211  \"      0   \n",
       "82681       82681                             \"\\n '''''' 2010/2013 \"      0   \n",
       "\n",
       "      lemm_text  \n",
       "4482        NaN  \n",
       "6300        NaN  \n",
       "17311       NaN  \n",
       "52442       NaN  \n",
       "53787       NaN  \n",
       "61758       NaN  \n",
       "82681       NaN  "
      ]
     },
     "execution_count": 10,
     "metadata": {},
     "output_type": "execute_result"
    }
   ],
   "source": [
    "df[df['lemm_text'].isna()]"
   ]
  },
  {
   "cell_type": "markdown",
   "id": "dc0ca67a",
   "metadata": {},
   "source": [
    "Ну, это ерунда какая-то, так что сносим"
   ]
  },
  {
   "cell_type": "code",
   "execution_count": 11,
   "id": "a8b6f23b",
   "metadata": {},
   "outputs": [],
   "source": [
    "df.dropna(inplace=True)"
   ]
  },
  {
   "cell_type": "code",
   "execution_count": 12,
   "id": "aad054a6",
   "metadata": {},
   "outputs": [
    {
     "data": {
      "text/plain": [
       "0"
      ]
     },
     "execution_count": 12,
     "metadata": {},
     "output_type": "execute_result"
    }
   ],
   "source": [
    "df.duplicated().sum()"
   ]
  },
  {
   "cell_type": "markdown",
   "id": "1ae4191b",
   "metadata": {},
   "source": [
    "Дубликатов нет"
   ]
  },
  {
   "cell_type": "code",
   "execution_count": 13,
   "id": "b3a1fd81",
   "metadata": {},
   "outputs": [
    {
     "data": {
      "image/png": "[encoded data removed]",
      "text/plain": [
       "<Figure size 432x288 with 1 Axes>"
      ]
     },
     "metadata": {},
     "output_type": "display_data"
    }
   ],
   "source": [
    "classes = df['toxic'].value_counts()\n",
    "plt.title('Баланс классов')\n",
    "plt.pie(classes, labels=classes.index, autopct='%.0f%%');"
   ]
  },
  {
   "cell_type": "markdown",
   "id": "8cf4037a",
   "metadata": {},
   "source": [
    "Видим дисбаланс классов, по-этому будем менять их вес, так как из-за большой выборки не стоит делать upsampling, но и удалять 80% данных- такая себе идея."
   ]
  },
  {
   "cell_type": "code",
   "execution_count": 14,
   "id": "f7a52a64",
   "metadata": {},
   "outputs": [],
   "source": [
    "class_weights = {0:1, 1:9}"
   ]
  },
  {
   "cell_type": "markdown",
   "id": "dfc4075f",
   "metadata": {},
   "source": [
    "## Обучение модели"
   ]
  },
  {
   "cell_type": "code",
   "execution_count": 15,
   "id": "77188d51",
   "metadata": {},
   "outputs": [],
   "source": [
    "X = df['lemm_text']\n",
    "y = df['toxic']"
   ]
  },
  {
   "cell_type": "code",
   "execution_count": 16,
   "id": "b7082b6f",
   "metadata": {},
   "outputs": [],
   "source": [
    "X_train, X_test, y_train, y_test = train_test_split(X, y, test_size = 0.25, stratify = y, random_state=42)"
   ]
  },
  {
   "cell_type": "markdown",
   "id": "4a0fd539",
   "metadata": {},
   "source": [
    "Переведем текст в вектор"
   ]
  },
  {
   "cell_type": "code",
   "execution_count": 17,
   "id": "afa4e7b7",
   "metadata": {},
   "outputs": [],
   "source": [
    "tf = TfidfVectorizer(stop_words=stop_words)"
   ]
  },
  {
   "cell_type": "code",
   "execution_count": 18,
   "id": "3193778e",
   "metadata": {},
   "outputs": [],
   "source": [
    "X_train = tf.fit_transform(X_train)\n",
    "X_test = tf.transform(X_test)"
   ]
  },
  {
   "cell_type": "markdown",
   "id": "0f36e0da",
   "metadata": {},
   "source": [
    "### Dummy"
   ]
  },
  {
   "cell_type": "code",
   "execution_count": 19,
   "id": "89b16c3c",
   "metadata": {},
   "outputs": [
    {
     "data": {
      "text/plain": [
       "0.1845859785650898"
      ]
     },
     "execution_count": 19,
     "metadata": {},
     "output_type": "execute_result"
    }
   ],
   "source": [
    "dummy = DummyClassifier(strategy=\"constant\", constant=[1])\n",
    "dummy.fit(X_train, y_train)\n",
    "dum_pred = dummy.predict(X_test)\n",
    "f1_score(y_test, dum_pred)"
   ]
  },
  {
   "cell_type": "markdown",
   "id": "32f8159e",
   "metadata": {},
   "source": [
    "### Линейка"
   ]
  },
  {
   "cell_type": "code",
   "execution_count": 20,
   "id": "780bdef4",
   "metadata": {},
   "outputs": [
    {
     "data": {
      "text/plain": [
       "0.754565568097847"
      ]
     },
     "execution_count": 20,
     "metadata": {},
     "output_type": "execute_result"
    }
   ],
   "source": [
    "lr = LogisticRegression(random_state=42, class_weight=class_weights)\n",
    "cross_val_score(lr, X_train, y_train, scoring='f1', cv=3).mean()"
   ]
  },
  {
   "cell_type": "markdown",
   "id": "85f9fb0c",
   "metadata": {},
   "source": [
    "Средная F1 на 3х фолдах: 0.754565568097847.\n",
    "    Параметр class_weight = 'balanced' приводит к более низким результатам"
   ]
  },
  {
   "cell_type": "markdown",
   "id": "9779ff30",
   "metadata": {},
   "source": [
    "### CatBoost"
   ]
  },
  {
   "cell_type": "code",
   "execution_count": 21,
   "id": "c3cbbd4a",
   "metadata": {},
   "outputs": [],
   "source": [
    "params = {\n",
    "    'iterations': 500,\n",
    "    'random_seed': 42,\n",
    "    'verbose': 200,\n",
    "    'eval_metric': 'F1',\n",
    "    'loss_function':'Logloss',\n",
    "    'auto_class_weights':'SqrtBalanced'\n",
    "}"
   ]
  },
  {
   "cell_type": "code",
   "execution_count": 22,
   "id": "c21dab21",
   "metadata": {
    "scrolled": true
   },
   "outputs": [
    {
     "data": {
      "application/vnd.jupyter.widget-view+json": {
       "model_id": "93b3777d6e124c35afe326a02d7259a0",
       "version_major": 2,
       "version_minor": 0
      },
      "text/plain": [
       "MetricVisualizer(layout=Layout(align_self='stretch', height='500px'))"
      ]
     },
     "metadata": {},
     "output_type": "display_data"
    },
    {
     "name": "stdout",
     "output_type": "stream",
     "text": [
      "Training on fold [0/3]\n",
      "0:\tlearn: 0.5334167\ttest: 0.5287418\tbest: 0.5287418 (0)\ttotal: 959ms\tremaining: 7m 58s\n",
      "200:\tlearn: 0.7200746\ttest: 0.7088885\tbest: 0.7088885 (200)\ttotal: 3m 3s\tremaining: 4m 32s\n",
      "400:\tlearn: 0.7682606\ttest: 0.7477339\tbest: 0.7478835 (396)\ttotal: 6m 11s\tremaining: 1m 31s\n",
      "499:\tlearn: 0.7893736\ttest: 0.7655540\tbest: 0.7655540 (499)\ttotal: 7m 40s\tremaining: 0us\n",
      "\n",
      "bestTest = 0.7655539637\n",
      "bestIteration = 499\n",
      "\n",
      "Training on fold [1/3]\n",
      "0:\tlearn: 0.5291757\ttest: 0.5154300\tbest: 0.5154300 (0)\ttotal: 781ms\tremaining: 6m 29s\n",
      "200:\tlearn: 0.7151358\ttest: 0.7128821\tbest: 0.7128821 (199)\ttotal: 3m 5s\tremaining: 4m 36s\n",
      "400:\tlearn: 0.7588015\ttest: 0.7538274\tbest: 0.7538653 (399)\ttotal: 6m 5s\tremaining: 1m 30s\n",
      "499:\tlearn: 0.7804351\ttest: 0.7752348\tbest: 0.7752348 (499)\ttotal: 7m 36s\tremaining: 0us\n",
      "\n",
      "bestTest = 0.7752348205\n",
      "bestIteration = 499\n",
      "\n",
      "Training on fold [2/3]\n",
      "0:\tlearn: 0.5474037\ttest: 0.5544917\tbest: 0.5544917 (0)\ttotal: 773ms\tremaining: 6m 25s\n",
      "200:\tlearn: 0.7178381\ttest: 0.7090707\tbest: 0.7090707 (200)\ttotal: 3m 4s\tremaining: 4m 34s\n",
      "400:\tlearn: 0.7654585\ttest: 0.7493912\tbest: 0.7494290 (398)\ttotal: 6m 8s\tremaining: 1m 30s\n",
      "499:\tlearn: 0.7850904\ttest: 0.7670849\tbest: 0.7670849 (499)\ttotal: 7m 38s\tremaining: 0us\n",
      "\n",
      "bestTest = 0.7670848752\n",
      "bestIteration = 499\n",
      "\n"
     ]
    }
   ],
   "source": [
    "cat = CatBoostClassifier()\n",
    "cv_data = cv(\n",
    "    params=params,\n",
    "    pool=Pool(X_train, label=y_train),\n",
    "    fold_count=3,\n",
    "    shuffle=True,\n",
    "    plot=True,\n",
    "    stratified=True)"
   ]
  },
  {
   "cell_type": "code",
   "execution_count": 24,
   "id": "00c6fe5f",
   "metadata": {},
   "outputs": [
    {
     "name": "stdout",
     "output_type": "stream",
     "text": [
      "Learning rate set to 0.11162\n",
      "0:\tlearn: 0.5420313\ttotal: 665ms\tremaining: 5m 31s\n",
      "200:\tlearn: 0.8159092\ttotal: 2m 9s\tremaining: 3m 12s\n",
      "400:\tlearn: 0.8620552\ttotal: 4m 15s\tremaining: 1m 3s\n",
      "499:\tlearn: 0.8712980\ttotal: 5m 15s\tremaining: 0us\n",
      "Learning rate set to 0.111621\n",
      "0:\tlearn: 0.5161743\ttotal: 648ms\tremaining: 5m 23s\n",
      "200:\tlearn: 0.8162204\ttotal: 2m 4s\tremaining: 3m 4s\n",
      "400:\tlearn: 0.8538952\ttotal: 4m 4s\tremaining: 1m\n",
      "499:\tlearn: 0.8643209\ttotal: 5m 2s\tremaining: 0us\n"
     ]
    },
    {
     "data": {
      "text/plain": [
       "0.769983391444052"
      ]
     },
     "execution_count": 24,
     "metadata": {},
     "output_type": "execute_result"
    }
   ],
   "source": [
    "cat = CatBoostClassifier(**params)\n",
    "cross_val_score(cat, X_train, y_train, cv=2, scoring='f1').mean()"
   ]
  },
  {
   "cell_type": "markdown",
   "id": "1981de60",
   "metadata": {},
   "source": [
    "Средняя F1 на 3х фолдах CatBoost - 0.776115452999699"
   ]
  },
  {
   "cell_type": "markdown",
   "id": "72d14cbb",
   "metadata": {},
   "source": [
    "### LGBM"
   ]
  },
  {
   "cell_type": "code",
   "execution_count": 25,
   "id": "d2634396",
   "metadata": {},
   "outputs": [
    {
     "data": {
      "text/plain": [
       "0.7385463402331301"
      ]
     },
     "execution_count": 25,
     "metadata": {},
     "output_type": "execute_result"
    }
   ],
   "source": [
    "lgbm = LGBMClassifier(class_weight='balanced')\n",
    "cross_val_score(lgbm, X_train, y_train, cv=3, scoring='f1').mean()"
   ]
  },
  {
   "cell_type": "markdown",
   "id": "45fc87f5",
   "metadata": {},
   "source": [
    "Средняя F1 на 3х фолдах LightGBM - 0.7385463402331301"
   ]
  },
  {
   "cell_type": "markdown",
   "id": "3d2d9e91",
   "metadata": {},
   "source": [
    "### Вывод"
   ]
  },
  {
   "cell_type": "markdown",
   "id": "b86078e7",
   "metadata": {},
   "source": [
    "Таким образом минимальный порог у нас проходят CatBoost и линейка со значениями f1: 0.776 и 0.754 соответственно"
   ]
  },
  {
   "cell_type": "markdown",
   "id": "58f9c618",
   "metadata": {},
   "source": [
    "## Экзамен"
   ]
  },
  {
   "cell_type": "markdown",
   "id": "24b86ac9",
   "metadata": {},
   "source": [
    "### Линейка"
   ]
  },
  {
   "cell_type": "code",
   "execution_count": 26,
   "id": "1cbbb419",
   "metadata": {},
   "outputs": [
    {
     "data": {
      "text/plain": [
       "0.7591463414634146"
      ]
     },
     "execution_count": 26,
     "metadata": {},
     "output_type": "execute_result"
    }
   ],
   "source": [
    "lr = LogisticRegression(random_state=42, class_weight=class_weights)\n",
    "lr.fit(X_train, y_train)\n",
    "lr_pred = lr.predict(X_test)\n",
    "f1_score(y_test, lr_pred)"
   ]
  },
  {
   "cell_type": "markdown",
   "id": "1811254a",
   "metadata": {},
   "source": [
    "f1 = 0.7591463414634146"
   ]
  },
  {
   "cell_type": "markdown",
   "id": "c10d9783",
   "metadata": {},
   "source": [
    "### CatBoost"
   ]
  },
  {
   "cell_type": "code",
   "execution_count": 28,
   "id": "e1473e43",
   "metadata": {},
   "outputs": [
    {
     "name": "stdout",
     "output_type": "stream",
     "text": [
      "Learning rate set to 0.150066\n",
      "0:\tlearn: 0.5545902\ttotal: 1.02s\tremaining: 8m 30s\n",
      "200:\tlearn: 0.8269743\ttotal: 3m 18s\tremaining: 4m 55s\n",
      "400:\tlearn: 0.8582306\ttotal: 6m 43s\tremaining: 1m 39s\n",
      "499:\tlearn: 0.8697594\ttotal: 8m 24s\tremaining: 0us\n"
     ]
    },
    {
     "data": {
      "text/plain": [
       "0.7859740259740261"
      ]
     },
     "execution_count": 28,
     "metadata": {},
     "output_type": "execute_result"
    }
   ],
   "source": [
    "cat = CatBoostClassifier(**params)\n",
    "cat.fit(X_train, y_train)\n",
    "cat_pred = cat.predict(X_test)\n",
    "f1_score(y_test, cat_pred)"
   ]
  },
  {
   "cell_type": "markdown",
   "id": "014248e4",
   "metadata": {},
   "source": [
    "f1 = 0.7859740259740261"
   ]
  },
  {
   "cell_type": "markdown",
   "id": "43d93736",
   "metadata": {},
   "source": [
    "## Вывод"
   ]
  },
  {
   "cell_type": "markdown",
   "id": "f4a22543",
   "metadata": {},
   "source": [
    "- Мы подготовили данные, лематизировав текст и приведя его в векторный тип;\n",
    "- Обнаружили дисбаланс классов;\n",
    "- Обучили разные модели с учетом дисбаланса классов;\n",
    "- Выбрали лучшие модели и провели им экзамен на тестовой выборке.\n",
    "\n",
    "Лучше всех себя показал CatBoost со значением f1-меры = 0.785"
   ]
  }
 ],
 "metadata": {
  "ExecuteTimeLog": [
   {
    "duration": 32,
    "start_time": "2022-05-29T09:23:28.432Z"
   },
   {
    "duration": 27,
    "start_time": "2022-05-29T09:25:36.391Z"
   },
   {
    "duration": 54,
    "start_time": "2022-05-30T11:13:13.031Z"
   },
   {
    "duration": 49,
    "start_time": "2022-07-03T09:07:17.903Z"
   },
   {
    "duration": 42,
    "start_time": "2022-07-03T09:08:04.133Z"
   },
   {
    "duration": 123,
    "start_time": "2022-07-03T09:09:29.535Z"
   }
  ],
  "kernelspec": {
   "display_name": "Python 3 (ipykernel)",
   "language": "python",
   "name": "python3"
  },
  "language_info": {
   "codemirror_mode": {
    "name": "ipython",
    "version": 3
   },
   "file_extension": ".py",
   "mimetype": "text/x-python",
   "name": "python",
   "nbconvert_exporter": "python",
   "pygments_lexer": "ipython3",
   "version": "3.9.7"
  },
  "toc": {
   "base_numbering": 1,
   "nav_menu": {},
   "number_sections": true,
   "sideBar": true,
   "skip_h1_title": true,
   "title_cell": "Содержание",
   "title_sidebar": "Contents",
   "toc_cell": true,
   "toc_position": {},
   "toc_section_display": true,
   "toc_window_display": false
  }
 },
 "nbformat": 4,
 "nbformat_minor": 5
}
