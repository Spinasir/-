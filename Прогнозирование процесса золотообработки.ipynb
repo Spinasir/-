{
 "cells": [
  {
   "cell_type": "markdown",
   "id": "8f49fc72",
   "metadata": {
    "toc": true
   },
   "source": [
    "<h1>Содержание<span class=\"tocSkip\"></span></h1>\n",
    "<div class=\"toc\"><ul class=\"toc-item\"><li><span><a href=\"#Описание-данных\" data-toc-modified-id=\"Описание-данных-1\"><span class=\"toc-item-num\">1&nbsp;&nbsp;</span>Описание данных</a></span></li><li><span><a href=\"#Обзор-данных\" data-toc-modified-id=\"Обзор-данных-2\"><span class=\"toc-item-num\">2&nbsp;&nbsp;</span>Обзор данных</a></span><ul class=\"toc-item\"><li><span><a href=\"#Вывод\" data-toc-modified-id=\"Вывод-2.1\"><span class=\"toc-item-num\">2.1&nbsp;&nbsp;</span>Вывод</a></span></li></ul></li><li><span><a href=\"#Подготовка-данных\" data-toc-modified-id=\"Подготовка-данных-3\"><span class=\"toc-item-num\">3&nbsp;&nbsp;</span>Подготовка данных</a></span></li><li><span><a href=\"#Предобработка\" data-toc-modified-id=\"Предобработка-4\"><span class=\"toc-item-num\">4&nbsp;&nbsp;</span>Предобработка</a></span></li><li><span><a href=\"#Анализ-данных\" data-toc-modified-id=\"Анализ-данных-5\"><span class=\"toc-item-num\">5&nbsp;&nbsp;</span>Анализ данных</a></span><ul class=\"toc-item\"><li><span><a href=\"#Изменение-концентрация-металлов-в-процессе-обработки\" data-toc-modified-id=\"Изменение-концентрация-металлов-в-процессе-обработки-5.1\"><span class=\"toc-item-num\">5.1&nbsp;&nbsp;</span>Изменение концентрация металлов в процессе обработки</a></span></li><li><span><a href=\"#Сравнение-распределения-размеров-гранул-сырья-на-обучающей-и-тестовой-выборках.\" data-toc-modified-id=\"Сравнение-распределения-размеров-гранул-сырья-на-обучающей-и-тестовой-выборках.-5.2\"><span class=\"toc-item-num\">5.2&nbsp;&nbsp;</span>Сравнение распределения размеров гранул сырья на обучающей и тестовой выборках.</a></span></li><li><span><a href=\"#Расчет-суммарной-концентрации-металлов-в-данных\" data-toc-modified-id=\"Расчет-суммарной-концентрации-металлов-в-данных-5.3\"><span class=\"toc-item-num\">5.3&nbsp;&nbsp;</span>Расчет суммарной концентрации металлов в данных</a></span></li></ul></li><li><span><a href=\"#Построение-модели\" data-toc-modified-id=\"Построение-модели-6\"><span class=\"toc-item-num\">6&nbsp;&nbsp;</span>Построение модели</a></span><ul class=\"toc-item\"><li><span><a href=\"#Фиктивная-модель\" data-toc-modified-id=\"Фиктивная-модель-6.1\"><span class=\"toc-item-num\">6.1&nbsp;&nbsp;</span>Фиктивная модель</a></span></li><li><span><a href=\"#Линейная-регрессия\" data-toc-modified-id=\"Линейная-регрессия-6.2\"><span class=\"toc-item-num\">6.2&nbsp;&nbsp;</span>Линейная регрессия</a></span></li><li><span><a href=\"#Дерево\" data-toc-modified-id=\"Дерево-6.3\"><span class=\"toc-item-num\">6.3&nbsp;&nbsp;</span>Дерево</a></span></li><li><span><a href=\"#-Комментарий-ревьюера-v1\" data-toc-modified-id=\"-Комментарий-ревьюера-v1-6.4\"><span class=\"toc-item-num\">6.4&nbsp;&nbsp;</span> Комментарий ревьюера v1</a></span></li><li><span><a href=\"#-Комментарий-ревьюера-v2\" data-toc-modified-id=\"-Комментарий-ревьюера-v2-6.5\"><span class=\"toc-item-num\">6.5&nbsp;&nbsp;</span> Комментарий ревьюера v2</a></span></li><li><span><a href=\"#Рандомный-лес\" data-toc-modified-id=\"Рандомный-лес-6.6\"><span class=\"toc-item-num\">6.6&nbsp;&nbsp;</span>Рандомный лес</a></span></li><li><span><a href=\"#Вывод\" data-toc-modified-id=\"Вывод-6.7\"><span class=\"toc-item-num\">6.7&nbsp;&nbsp;</span>Вывод</a></span></li><li><span><a href=\"#-Комментарий-ревьюера-v1\" data-toc-modified-id=\"-Комментарий-ревьюера-v1-6.8\"><span class=\"toc-item-num\">6.8&nbsp;&nbsp;</span> Комментарий ревьюера v1</a></span></li></ul></li><li><span><a href=\"#Финальный-тест\" data-toc-modified-id=\"Финальный-тест-7\"><span class=\"toc-item-num\">7&nbsp;&nbsp;</span>Финальный тест</a></span></li><li><span><a href=\"#Вывод\" data-toc-modified-id=\"Вывод-8\"><span class=\"toc-item-num\">8&nbsp;&nbsp;</span>Вывод</a></span><ul class=\"toc-item\"><li><span><a href=\"#-Итоговый-комментарий\" data-toc-modified-id=\"-Итоговый-комментарий-8.1\"><span class=\"toc-item-num\">8.1&nbsp;&nbsp;</span> Итоговый комментарий</a></span></li><li><span><a href=\"#-Комментарий-ревьюера-v2\" data-toc-modified-id=\"-Комментарий-ревьюера-v2-8.2\"><span class=\"toc-item-num\">8.2&nbsp;&nbsp;</span> Комментарий ревьюера v2</a></span></li></ul></li></ul></div>"
   ]
  },
  {
   "cell_type": "markdown",
   "id": "bfa756b4",
   "metadata": {},
   "source": [
    "# Восстановление золота из руды"
   ]
  },
  {
   "cell_type": "markdown",
   "id": "c350804d",
   "metadata": {},
   "source": [
    "Нам нужно подготовить прототип модели машинного обучения для «Цифры». Компания разрабатывает решения для эффективной работы промышленных предприятий.  \n",
    "Модель должна предсказать коэффициент восстановления золота из золотосодержащей руды. Используйте данные с параметрами добычи и очистки.  \n",
    "Модель поможет оптимизировать производство, чтобы не запускать предприятие с убыточными характеристиками.  "
   ]
  },
  {
   "cell_type": "markdown",
   "id": "b2a48857",
   "metadata": {},
   "source": [
    "## Описание данных"
   ]
  },
  {
   "cell_type": "markdown",
   "id": "2c6ad3ba",
   "metadata": {},
   "source": [
    "**Технологический процесс**\n",
    "\n",
    "Rougher feed — исходное сырье  \n",
    "Rougher additions (или reagent additions) — флотационные реагенты: Xanthate, Sulphate, Depressant  \n",
    "Xanthate — ксантогенат (промотер, или активатор флотации);  \n",
    "Sulphate — сульфат (на данном производстве сульфид натрия);  \n",
    "Depressant — депрессант (силикат натрия).  \n",
    "Rougher process (англ. «грубый процесс») — флотация  \n",
    "Rougher tails — отвальные хвосты  \n",
    "Float banks — флотационная установка  \n",
    "Cleaner process — очистка  \n",
    "Rougher Au — черновой концентрат золота  \n",
    "Final Au — финальный концентрат золота  \n",
    "\n",
    "\n",
    "**Параметры этапов**  \n",
    "\n",
    "air amount — объём воздуха  \n",
    "fluid levels — уровень жидкости  \n",
    "feed size — размер гранул сырья  \n",
    "feed rate — скорость подачи  \n",
    "\n",
    "\n",
    "**Наименование признаков**  \n",
    "\n",
    "Наименование признаков должно быть такое:  \n",
    "[этап].[тип_параметра].[название_параметра]  \n",
    "Пример: rougher.input.feed_ag  \n",
    "Возможные значения для блока [этап]:  \n",
    "rougher — флотация  \n",
    "primary_cleaner — первичная очистка  \n",
    "secondary_cleaner — вторичная очистка  \n",
    "final — финальные характеристики  \n",
    "Возможные значения для блока [тип_параметра]:  \n",
    "input — параметры сырья  \n",
    "output — параметры продукта  \n",
    "state — параметры, характеризующие текущее состояние этапа  \n",
    "calculation — расчётные характеристики  "
   ]
  },
  {
   "cell_type": "markdown",
   "id": "b228e7bc-0609-4502-936f-e24900b105be",
   "metadata": {},
   "source": [
    "**План проекта**\n",
    "1. Подготовим данные  \n",
    " 1.1. Откроем файлы и изучим их.    \n",
    " 1.2. Проверим, что эффективность обогащения рассчитана правильно. Вычислим её на обучающей выборке для признака rougher.output.recovery. Найдем MAE между   вашими расчётами и значением признака. Опишем выводы.  \n",
    " 1.3. Проанализируем признаки, недоступные в тестовой выборке. Что это за параметры? К какому типу относятся?  \n",
    " 1.4. Проведем предобработку данных.  \n",
    "2. Проанализируем данные  \n",
    " 2.1. Посмотрим, как меняется концентрация металлов (Au, Ag, Pb) на различных этапах очистки. Опишите выводы.  \n",
    " 2.2. Сравним распределения размеров гранул сырья на обучающей и тестовой выборках. Если распределения сильно отличаются друг от друга, оценка модели будет   неправильной.  \n",
    " 2.3. Исследуем суммарную концентрацию всех веществ на разных стадиях: в сырье, в черновом и финальном концентратах.  \n",
    "3. Построем модель  \n",
    " 3.1. Напишем функцию для вычисления итоговой sMAPE.  \n",
    " 3.2. Обучим разные модели и оцените их качество кросс-валидацией. Выберем лучшую модель и провем её на тестовой выборке. Опишем выводы. "
   ]
  },
  {
   "cell_type": "code",
   "execution_count": 3,
   "id": "ce918c8b",
   "metadata": {},
   "outputs": [],
   "source": [
    "import pandas as pd\n",
    "import matplotlib.pyplot as plt\n",
    "\n",
    "from sklearn.preprocessing import StandardScaler\n",
    "from sklearn.metrics import mean_absolute_error, make_scorer\n",
    "from sklearn.impute import KNNImputer\n",
    "\n",
    "from sklearn.model_selection import GridSearchCV\n",
    "from sklearn.model_selection import cross_val_score\n",
    "from sklearn.dummy import DummyRegressor\n",
    "from sklearn.linear_model import LinearRegression\n",
    "from sklearn.ensemble import RandomForestRegressor\n",
    "from sklearn.tree import DecisionTreeRegressor"
   ]
  },
  {
   "cell_type": "code",
   "execution_count": 4,
   "id": "29339d0c-6b1b-4fa5-81ea-8b8ff825406e",
   "metadata": {},
   "outputs": [],
   "source": [
    "try: \n",
    "    data_full = pd.read_csv('gold_recovery_full_new.csv')\n",
    "    data_train = pd.read_csv('gold_recovery_train_new.csv')\n",
    "    data_test = pd.read_csv('gold_recovery_test_new.csv')\n",
    "except: \n",
    "    data_full = pd.read_csv('/datasets/gold_recovery_full_new.csv')\n",
    "    data_train = pd.read_csv('/datasets/gold_recovery_train_new.csv')\n",
    "    data_test = pd.read_csv('/datasets/gold_recovery_test_new.csv')"
   ]
  },
  {
   "cell_type": "markdown",
   "id": "3b2d707f",
   "metadata": {},
   "source": [
    "## Обзор данных"
   ]
  },
  {
   "cell_type": "markdown",
   "id": "5941a951",
   "metadata": {},
   "source": [
    "Напишу функцию, которая будет выводить информацию по датасетам"
   ]
  },
  {
   "cell_type": "code",
   "execution_count": 5,
   "id": "9dbb288c-6c0b-4c7f-94ee-62ee14ba0e2d",
   "metadata": {},
   "outputs": [],
   "source": [
    "def review(df):\n",
    "    print(f'инфо: {df.info()}')\n",
    "    print('')\n",
    "    print(f'Размер: {df.shape}')\n",
    "    print('')\n",
    "    print(f'Дубликаты: {df.duplicated().sum()}')\n",
    "    print('')\n",
    "    print(f'Пропуски:')\n",
    "    df.isna().sum().plot(kind='bar', figsize=(20,10))\n",
    "    plt.show()\n",
    "    print('')\n",
    "    display(df.describe())"
   ]
  },
  {
   "cell_type": "code",
   "execution_count": 6,
   "id": "52dee79e-0873-47d6-bc83-680cc6466370",
   "metadata": {},
   "outputs": [
    {
     "name": "stdout",
     "output_type": "stream",
     "text": [
      "<class 'pandas.core.frame.DataFrame'>\n",
      "RangeIndex: 19439 entries, 0 to 19438\n",
      "Data columns (total 87 columns):\n",
      " #   Column                                              Non-Null Count  Dtype  \n",
      "---  ------                                              --------------  -----  \n",
      " 0   date                                                19439 non-null  object \n",
      " 1   final.output.concentrate_ag                         19438 non-null  float64\n",
      " 2   final.output.concentrate_pb                         19438 non-null  float64\n",
      " 3   final.output.concentrate_sol                        19228 non-null  float64\n",
      " 4   final.output.concentrate_au                         19439 non-null  float64\n",
      " 5   final.output.recovery                               19439 non-null  float64\n",
      " 6   final.output.tail_ag                                19438 non-null  float64\n",
      " 7   final.output.tail_pb                                19338 non-null  float64\n",
      " 8   final.output.tail_sol                               19433 non-null  float64\n",
      " 9   final.output.tail_au                                19439 non-null  float64\n",
      " 10  primary_cleaner.input.sulfate                       19415 non-null  float64\n",
      " 11  primary_cleaner.input.depressant                    19402 non-null  float64\n",
      " 12  primary_cleaner.input.feed_size                     19439 non-null  float64\n",
      " 13  primary_cleaner.input.xanthate                      19335 non-null  float64\n",
      " 14  primary_cleaner.output.concentrate_ag               19439 non-null  float64\n",
      " 15  primary_cleaner.output.concentrate_pb               19323 non-null  float64\n",
      " 16  primary_cleaner.output.concentrate_sol              19069 non-null  float64\n",
      " 17  primary_cleaner.output.concentrate_au               19439 non-null  float64\n",
      " 18  primary_cleaner.output.tail_ag                      19435 non-null  float64\n",
      " 19  primary_cleaner.output.tail_pb                      19418 non-null  float64\n",
      " 20  primary_cleaner.output.tail_sol                     19377 non-null  float64\n",
      " 21  primary_cleaner.output.tail_au                      19439 non-null  float64\n",
      " 22  primary_cleaner.state.floatbank8_a_air              19435 non-null  float64\n",
      " 23  primary_cleaner.state.floatbank8_a_level            19438 non-null  float64\n",
      " 24  primary_cleaner.state.floatbank8_b_air              19435 non-null  float64\n",
      " 25  primary_cleaner.state.floatbank8_b_level            19438 non-null  float64\n",
      " 26  primary_cleaner.state.floatbank8_c_air              19437 non-null  float64\n",
      " 27  primary_cleaner.state.floatbank8_c_level            19438 non-null  float64\n",
      " 28  primary_cleaner.state.floatbank8_d_air              19436 non-null  float64\n",
      " 29  primary_cleaner.state.floatbank8_d_level            19438 non-null  float64\n",
      " 30  rougher.calculation.sulfate_to_au_concentrate       19437 non-null  float64\n",
      " 31  rougher.calculation.floatbank10_sulfate_to_au_feed  19437 non-null  float64\n",
      " 32  rougher.calculation.floatbank11_sulfate_to_au_feed  19437 non-null  float64\n",
      " 33  rougher.calculation.au_pb_ratio                     19439 non-null  float64\n",
      " 34  rougher.input.feed_ag                               19439 non-null  float64\n",
      " 35  rougher.input.feed_pb                               19339 non-null  float64\n",
      " 36  rougher.input.feed_rate                             19428 non-null  float64\n",
      " 37  rougher.input.feed_size                             19294 non-null  float64\n",
      " 38  rougher.input.feed_sol                              19340 non-null  float64\n",
      " 39  rougher.input.feed_au                               19439 non-null  float64\n",
      " 40  rougher.input.floatbank10_sulfate                   19405 non-null  float64\n",
      " 41  rougher.input.floatbank10_xanthate                  19431 non-null  float64\n",
      " 42  rougher.input.floatbank11_sulfate                   19395 non-null  float64\n",
      " 43  rougher.input.floatbank11_xanthate                  18986 non-null  float64\n",
      " 44  rougher.output.concentrate_ag                       19439 non-null  float64\n",
      " 45  rougher.output.concentrate_pb                       19439 non-null  float64\n",
      " 46  rougher.output.concentrate_sol                      19416 non-null  float64\n",
      " 47  rougher.output.concentrate_au                       19439 non-null  float64\n",
      " 48  rougher.output.recovery                             19439 non-null  float64\n",
      " 49  rougher.output.tail_ag                              19438 non-null  float64\n",
      " 50  rougher.output.tail_pb                              19439 non-null  float64\n",
      " 51  rougher.output.tail_sol                             19439 non-null  float64\n",
      " 52  rougher.output.tail_au                              19439 non-null  float64\n",
      " 53  rougher.state.floatbank10_a_air                     19438 non-null  float64\n",
      " 54  rougher.state.floatbank10_a_level                   19438 non-null  float64\n",
      " 55  rougher.state.floatbank10_b_air                     19438 non-null  float64\n",
      " 56  rougher.state.floatbank10_b_level                   19438 non-null  float64\n",
      " 57  rougher.state.floatbank10_c_air                     19438 non-null  float64\n",
      " 58  rougher.state.floatbank10_c_level                   19438 non-null  float64\n",
      " 59  rougher.state.floatbank10_d_air                     19439 non-null  float64\n",
      " 60  rougher.state.floatbank10_d_level                   19439 non-null  float64\n",
      " 61  rougher.state.floatbank10_e_air                     19003 non-null  float64\n",
      " 62  rougher.state.floatbank10_e_level                   19439 non-null  float64\n",
      " 63  rougher.state.floatbank10_f_air                     19439 non-null  float64\n",
      " 64  rougher.state.floatbank10_f_level                   19439 non-null  float64\n",
      " 65  secondary_cleaner.output.tail_ag                    19437 non-null  float64\n",
      " 66  secondary_cleaner.output.tail_pb                    19427 non-null  float64\n",
      " 67  secondary_cleaner.output.tail_sol                   17691 non-null  float64\n",
      " 68  secondary_cleaner.output.tail_au                    19439 non-null  float64\n",
      " 69  secondary_cleaner.state.floatbank2_a_air            19219 non-null  float64\n",
      " 70  secondary_cleaner.state.floatbank2_a_level          19438 non-null  float64\n",
      " 71  secondary_cleaner.state.floatbank2_b_air            19416 non-null  float64\n",
      " 72  secondary_cleaner.state.floatbank2_b_level          19438 non-null  float64\n",
      " 73  secondary_cleaner.state.floatbank3_a_air            19426 non-null  float64\n",
      " 74  secondary_cleaner.state.floatbank3_a_level          19438 non-null  float64\n",
      " 75  secondary_cleaner.state.floatbank3_b_air            19438 non-null  float64\n",
      " 76  secondary_cleaner.state.floatbank3_b_level          19438 non-null  float64\n",
      " 77  secondary_cleaner.state.floatbank4_a_air            19433 non-null  float64\n",
      " 78  secondary_cleaner.state.floatbank4_a_level          19438 non-null  float64\n",
      " 79  secondary_cleaner.state.floatbank4_b_air            19438 non-null  float64\n",
      " 80  secondary_cleaner.state.floatbank4_b_level          19438 non-null  float64\n",
      " 81  secondary_cleaner.state.floatbank5_a_air            19438 non-null  float64\n",
      " 82  secondary_cleaner.state.floatbank5_a_level          19438 non-null  float64\n",
      " 83  secondary_cleaner.state.floatbank5_b_air            19438 non-null  float64\n",
      " 84  secondary_cleaner.state.floatbank5_b_level          19438 non-null  float64\n",
      " 85  secondary_cleaner.state.floatbank6_a_air            19437 non-null  float64\n",
      " 86  secondary_cleaner.state.floatbank6_a_level          19438 non-null  float64\n",
      "dtypes: float64(86), object(1)\n",
      "memory usage: 12.9+ MB\n",
      "инфо: None\n",
      "\n",
      "Размер: (19439, 87)\n",
      "\n",
      "Дубликаты: 0\n",
      "\n",
      "Пропуски:\n"
     ]
    },
    {
     "data": {
      "image/png": "[encoded data removed]",
      "text/plain": [
       "<Figure size 1440x720 with 1 Axes>"
      ]
     },
     "metadata": {
      "needs_background": "light"
     },
     "output_type": "display_data"
    },
    {
     "name": "stdout",
     "output_type": "stream",
     "text": [
      "\n"
     ]
    },
    {
     "data": {
      "text/html": [
       "<div>\n",
       "<style scoped>\n",
       "    .dataframe tbody tr th:only-of-type {\n",
       "        vertical-align: middle;\n",
       "    }\n",
       "\n",
       "    .dataframe tbody tr th {\n",
       "        vertical-align: top;\n",
       "    }\n",
       "\n",
       "    .dataframe thead th {\n",
       "        text-align: right;\n",
       "    }\n",
       "</style>\n",
       "<table border=\"1\" class=\"dataframe\">\n",
       "  <thead>\n",
       "    <tr style=\"text-align: right;\">\n",
       "      <th></th>\n",
       "      <th>final.output.concentrate_ag</th>\n",
       "      <th>final.output.concentrate_pb</th>\n",
       "      <th>final.output.concentrate_sol</th>\n",
       "      <th>final.output.concentrate_au</th>\n",
       "      <th>final.output.recovery</th>\n",
       "      <th>final.output.tail_ag</th>\n",
       "      <th>final.output.tail_pb</th>\n",
       "      <th>final.output.tail_sol</th>\n",
       "      <th>final.output.tail_au</th>\n",
       "      <th>primary_cleaner.input.sulfate</th>\n",
       "      <th>...</th>\n",
       "      <th>secondary_cleaner.state.floatbank4_a_air</th>\n",
       "      <th>secondary_cleaner.state.floatbank4_a_level</th>\n",
       "      <th>secondary_cleaner.state.floatbank4_b_air</th>\n",
       "      <th>secondary_cleaner.state.floatbank4_b_level</th>\n",
       "      <th>secondary_cleaner.state.floatbank5_a_air</th>\n",
       "      <th>secondary_cleaner.state.floatbank5_a_level</th>\n",
       "      <th>secondary_cleaner.state.floatbank5_b_air</th>\n",
       "      <th>secondary_cleaner.state.floatbank5_b_level</th>\n",
       "      <th>secondary_cleaner.state.floatbank6_a_air</th>\n",
       "      <th>secondary_cleaner.state.floatbank6_a_level</th>\n",
       "    </tr>\n",
       "  </thead>\n",
       "  <tbody>\n",
       "    <tr>\n",
       "      <th>count</th>\n",
       "      <td>19438.000000</td>\n",
       "      <td>19438.000000</td>\n",
       "      <td>19228.000000</td>\n",
       "      <td>19439.000000</td>\n",
       "      <td>19439.000000</td>\n",
       "      <td>19438.000000</td>\n",
       "      <td>19338.000000</td>\n",
       "      <td>19433.000000</td>\n",
       "      <td>19439.000000</td>\n",
       "      <td>19415.000000</td>\n",
       "      <td>...</td>\n",
       "      <td>19433.000000</td>\n",
       "      <td>19438.000000</td>\n",
       "      <td>19438.000000</td>\n",
       "      <td>19438.000000</td>\n",
       "      <td>19438.000000</td>\n",
       "      <td>19438.000000</td>\n",
       "      <td>19438.000000</td>\n",
       "      <td>19438.000000</td>\n",
       "      <td>19437.000000</td>\n",
       "      <td>19438.000000</td>\n",
       "    </tr>\n",
       "    <tr>\n",
       "      <th>mean</th>\n",
       "      <td>5.168470</td>\n",
       "      <td>9.978895</td>\n",
       "      <td>9.501224</td>\n",
       "      <td>44.076513</td>\n",
       "      <td>67.050208</td>\n",
       "      <td>9.688589</td>\n",
       "      <td>2.705795</td>\n",
       "      <td>10.583728</td>\n",
       "      <td>3.042467</td>\n",
       "      <td>144.624774</td>\n",
       "      <td>...</td>\n",
       "      <td>18.987674</td>\n",
       "      <td>-485.894516</td>\n",
       "      <td>15.010366</td>\n",
       "      <td>-461.078636</td>\n",
       "      <td>15.694452</td>\n",
       "      <td>-488.684065</td>\n",
       "      <td>12.198224</td>\n",
       "      <td>-487.149827</td>\n",
       "      <td>18.959024</td>\n",
       "      <td>-505.436305</td>\n",
       "    </tr>\n",
       "    <tr>\n",
       "      <th>std</th>\n",
       "      <td>1.372348</td>\n",
       "      <td>1.669240</td>\n",
       "      <td>2.787537</td>\n",
       "      <td>5.129784</td>\n",
       "      <td>10.125840</td>\n",
       "      <td>2.328642</td>\n",
       "      <td>0.949077</td>\n",
       "      <td>2.868782</td>\n",
       "      <td>0.922808</td>\n",
       "      <td>44.464071</td>\n",
       "      <td>...</td>\n",
       "      <td>5.411058</td>\n",
       "      <td>47.758570</td>\n",
       "      <td>4.890228</td>\n",
       "      <td>67.405524</td>\n",
       "      <td>5.510974</td>\n",
       "      <td>34.533396</td>\n",
       "      <td>5.333024</td>\n",
       "      <td>38.347312</td>\n",
       "      <td>5.550498</td>\n",
       "      <td>37.689057</td>\n",
       "    </tr>\n",
       "    <tr>\n",
       "      <th>min</th>\n",
       "      <td>0.000000</td>\n",
       "      <td>0.000000</td>\n",
       "      <td>0.000000</td>\n",
       "      <td>0.000000</td>\n",
       "      <td>0.000000</td>\n",
       "      <td>0.000000</td>\n",
       "      <td>0.000000</td>\n",
       "      <td>0.000000</td>\n",
       "      <td>0.000000</td>\n",
       "      <td>0.003112</td>\n",
       "      <td>...</td>\n",
       "      <td>0.000000</td>\n",
       "      <td>-799.798523</td>\n",
       "      <td>0.000000</td>\n",
       "      <td>-800.836914</td>\n",
       "      <td>-0.372054</td>\n",
       "      <td>-797.323986</td>\n",
       "      <td>0.528083</td>\n",
       "      <td>-800.220337</td>\n",
       "      <td>-0.079426</td>\n",
       "      <td>-809.741464</td>\n",
       "    </tr>\n",
       "    <tr>\n",
       "      <th>25%</th>\n",
       "      <td>4.251240</td>\n",
       "      <td>9.137262</td>\n",
       "      <td>7.722820</td>\n",
       "      <td>43.402215</td>\n",
       "      <td>63.299712</td>\n",
       "      <td>8.062878</td>\n",
       "      <td>2.040119</td>\n",
       "      <td>8.938947</td>\n",
       "      <td>2.461138</td>\n",
       "      <td>114.107029</td>\n",
       "      <td>...</td>\n",
       "      <td>14.975734</td>\n",
       "      <td>-500.704892</td>\n",
       "      <td>11.940294</td>\n",
       "      <td>-500.187742</td>\n",
       "      <td>10.988606</td>\n",
       "      <td>-500.458467</td>\n",
       "      <td>8.971105</td>\n",
       "      <td>-500.129462</td>\n",
       "      <td>14.983037</td>\n",
       "      <td>-500.728067</td>\n",
       "    </tr>\n",
       "    <tr>\n",
       "      <th>50%</th>\n",
       "      <td>5.066094</td>\n",
       "      <td>10.102433</td>\n",
       "      <td>9.218961</td>\n",
       "      <td>45.011244</td>\n",
       "      <td>68.172738</td>\n",
       "      <td>9.743623</td>\n",
       "      <td>2.748730</td>\n",
       "      <td>10.622456</td>\n",
       "      <td>2.984909</td>\n",
       "      <td>143.232103</td>\n",
       "      <td>...</td>\n",
       "      <td>18.017481</td>\n",
       "      <td>-499.837793</td>\n",
       "      <td>14.971014</td>\n",
       "      <td>-499.459786</td>\n",
       "      <td>15.000036</td>\n",
       "      <td>-499.802605</td>\n",
       "      <td>11.019433</td>\n",
       "      <td>-499.935317</td>\n",
       "      <td>19.960541</td>\n",
       "      <td>-500.048400</td>\n",
       "    </tr>\n",
       "    <tr>\n",
       "      <th>75%</th>\n",
       "      <td>5.895527</td>\n",
       "      <td>11.035769</td>\n",
       "      <td>10.947813</td>\n",
       "      <td>46.275313</td>\n",
       "      <td>72.686642</td>\n",
       "      <td>11.134294</td>\n",
       "      <td>3.333216</td>\n",
       "      <td>12.104271</td>\n",
       "      <td>3.571351</td>\n",
       "      <td>175.075656</td>\n",
       "      <td>...</td>\n",
       "      <td>23.012470</td>\n",
       "      <td>-498.249730</td>\n",
       "      <td>19.034162</td>\n",
       "      <td>-400.118106</td>\n",
       "      <td>18.026190</td>\n",
       "      <td>-498.384187</td>\n",
       "      <td>14.019088</td>\n",
       "      <td>-499.436708</td>\n",
       "      <td>24.003170</td>\n",
       "      <td>-499.495378</td>\n",
       "    </tr>\n",
       "    <tr>\n",
       "      <th>max</th>\n",
       "      <td>16.001945</td>\n",
       "      <td>17.031899</td>\n",
       "      <td>19.615720</td>\n",
       "      <td>52.756638</td>\n",
       "      <td>100.000000</td>\n",
       "      <td>19.552149</td>\n",
       "      <td>5.804178</td>\n",
       "      <td>22.317730</td>\n",
       "      <td>8.245022</td>\n",
       "      <td>265.983123</td>\n",
       "      <td>...</td>\n",
       "      <td>30.115735</td>\n",
       "      <td>-245.239184</td>\n",
       "      <td>31.269706</td>\n",
       "      <td>-6.506986</td>\n",
       "      <td>43.709931</td>\n",
       "      <td>-244.483566</td>\n",
       "      <td>27.926001</td>\n",
       "      <td>-137.740004</td>\n",
       "      <td>32.188906</td>\n",
       "      <td>-104.427459</td>\n",
       "    </tr>\n",
       "  </tbody>\n",
       "</table>\n",
       "<p>8 rows × 86 columns</p>\n",
       "</div>"
      ],
      "text/plain": [
       "       final.output.concentrate_ag  final.output.concentrate_pb  \\\n",
       "count                 19438.000000                 19438.000000   \n",
       "mean                      5.168470                     9.978895   \n",
       "std                       1.372348                     1.669240   \n",
       "min                       0.000000                     0.000000   \n",
       "25%                       4.251240                     9.137262   \n",
       "50%                       5.066094                    10.102433   \n",
       "75%                       5.895527                    11.035769   \n",
       "max                      16.001945                    17.031899   \n",
       "\n",
       "       final.output.concentrate_sol  final.output.concentrate_au  \\\n",
       "count                  19228.000000                 19439.000000   \n",
       "mean                       9.501224                    44.076513   \n",
       "std                        2.787537                     5.129784   \n",
       "min                        0.000000                     0.000000   \n",
       "25%                        7.722820                    43.402215   \n",
       "50%                        9.218961                    45.011244   \n",
       "75%                       10.947813                    46.275313   \n",
       "max                       19.615720                    52.756638   \n",
       "\n",
       "       final.output.recovery  final.output.tail_ag  final.output.tail_pb  \\\n",
       "count           19439.000000          19438.000000          19338.000000   \n",
       "mean               67.050208              9.688589              2.705795   \n",
       "std                10.125840              2.328642              0.949077   \n",
       "min                 0.000000              0.000000              0.000000   \n",
       "25%                63.299712              8.062878              2.040119   \n",
       "50%                68.172738              9.743623              2.748730   \n",
       "75%                72.686642             11.134294              3.333216   \n",
       "max               100.000000             19.552149              5.804178   \n",
       "\n",
       "       final.output.tail_sol  final.output.tail_au  \\\n",
       "count           19433.000000          19439.000000   \n",
       "mean               10.583728              3.042467   \n",
       "std                 2.868782              0.922808   \n",
       "min                 0.000000              0.000000   \n",
       "25%                 8.938947              2.461138   \n",
       "50%                10.622456              2.984909   \n",
       "75%                12.104271              3.571351   \n",
       "max                22.317730              8.245022   \n",
       "\n",
       "       primary_cleaner.input.sulfate  ...  \\\n",
       "count                   19415.000000  ...   \n",
       "mean                      144.624774  ...   \n",
       "std                        44.464071  ...   \n",
       "min                         0.003112  ...   \n",
       "25%                       114.107029  ...   \n",
       "50%                       143.232103  ...   \n",
       "75%                       175.075656  ...   \n",
       "max                       265.983123  ...   \n",
       "\n",
       "       secondary_cleaner.state.floatbank4_a_air  \\\n",
       "count                              19433.000000   \n",
       "mean                                  18.987674   \n",
       "std                                    5.411058   \n",
       "min                                    0.000000   \n",
       "25%                                   14.975734   \n",
       "50%                                   18.017481   \n",
       "75%                                   23.012470   \n",
       "max                                   30.115735   \n",
       "\n",
       "       secondary_cleaner.state.floatbank4_a_level  \\\n",
       "count                                19438.000000   \n",
       "mean                                  -485.894516   \n",
       "std                                     47.758570   \n",
       "min                                   -799.798523   \n",
       "25%                                   -500.704892   \n",
       "50%                                   -499.837793   \n",
       "75%                                   -498.249730   \n",
       "max                                   -245.239184   \n",
       "\n",
       "       secondary_cleaner.state.floatbank4_b_air  \\\n",
       "count                              19438.000000   \n",
       "mean                                  15.010366   \n",
       "std                                    4.890228   \n",
       "min                                    0.000000   \n",
       "25%                                   11.940294   \n",
       "50%                                   14.971014   \n",
       "75%                                   19.034162   \n",
       "max                                   31.269706   \n",
       "\n",
       "       secondary_cleaner.state.floatbank4_b_level  \\\n",
       "count                                19438.000000   \n",
       "mean                                  -461.078636   \n",
       "std                                     67.405524   \n",
       "min                                   -800.836914   \n",
       "25%                                   -500.187742   \n",
       "50%                                   -499.459786   \n",
       "75%                                   -400.118106   \n",
       "max                                     -6.506986   \n",
       "\n",
       "       secondary_cleaner.state.floatbank5_a_air  \\\n",
       "count                              19438.000000   \n",
       "mean                                  15.694452   \n",
       "std                                    5.510974   \n",
       "min                                   -0.372054   \n",
       "25%                                   10.988606   \n",
       "50%                                   15.000036   \n",
       "75%                                   18.026190   \n",
       "max                                   43.709931   \n",
       "\n",
       "       secondary_cleaner.state.floatbank5_a_level  \\\n",
       "count                                19438.000000   \n",
       "mean                                  -488.684065   \n",
       "std                                     34.533396   \n",
       "min                                   -797.323986   \n",
       "25%                                   -500.458467   \n",
       "50%                                   -499.802605   \n",
       "75%                                   -498.384187   \n",
       "max                                   -244.483566   \n",
       "\n",
       "       secondary_cleaner.state.floatbank5_b_air  \\\n",
       "count                              19438.000000   \n",
       "mean                                  12.198224   \n",
       "std                                    5.333024   \n",
       "min                                    0.528083   \n",
       "25%                                    8.971105   \n",
       "50%                                   11.019433   \n",
       "75%                                   14.019088   \n",
       "max                                   27.926001   \n",
       "\n",
       "       secondary_cleaner.state.floatbank5_b_level  \\\n",
       "count                                19438.000000   \n",
       "mean                                  -487.149827   \n",
       "std                                     38.347312   \n",
       "min                                   -800.220337   \n",
       "25%                                   -500.129462   \n",
       "50%                                   -499.935317   \n",
       "75%                                   -499.436708   \n",
       "max                                   -137.740004   \n",
       "\n",
       "       secondary_cleaner.state.floatbank6_a_air  \\\n",
       "count                              19437.000000   \n",
       "mean                                  18.959024   \n",
       "std                                    5.550498   \n",
       "min                                   -0.079426   \n",
       "25%                                   14.983037   \n",
       "50%                                   19.960541   \n",
       "75%                                   24.003170   \n",
       "max                                   32.188906   \n",
       "\n",
       "       secondary_cleaner.state.floatbank6_a_level  \n",
       "count                                19438.000000  \n",
       "mean                                  -505.436305  \n",
       "std                                     37.689057  \n",
       "min                                   -809.741464  \n",
       "25%                                   -500.728067  \n",
       "50%                                   -500.048400  \n",
       "75%                                   -499.495378  \n",
       "max                                   -104.427459  \n",
       "\n",
       "[8 rows x 86 columns]"
      ]
     },
     "metadata": {},
     "output_type": "display_data"
    }
   ],
   "source": [
    "review(data_full)"
   ]
  },
  {
   "cell_type": "code",
   "execution_count": 7,
   "id": "4f01ee1e-9501-4381-aa62-fed09164e65b",
   "metadata": {
    "tags": []
   },
   "outputs": [
    {
     "name": "stdout",
     "output_type": "stream",
     "text": [
      "<class 'pandas.core.frame.DataFrame'>\n",
      "RangeIndex: 14149 entries, 0 to 14148\n",
      "Data columns (total 87 columns):\n",
      " #   Column                                              Non-Null Count  Dtype  \n",
      "---  ------                                              --------------  -----  \n",
      " 0   date                                                14149 non-null  object \n",
      " 1   final.output.concentrate_ag                         14148 non-null  float64\n",
      " 2   final.output.concentrate_pb                         14148 non-null  float64\n",
      " 3   final.output.concentrate_sol                        13938 non-null  float64\n",
      " 4   final.output.concentrate_au                         14149 non-null  float64\n",
      " 5   final.output.recovery                               14149 non-null  float64\n",
      " 6   final.output.tail_ag                                14149 non-null  float64\n",
      " 7   final.output.tail_pb                                14049 non-null  float64\n",
      " 8   final.output.tail_sol                               14144 non-null  float64\n",
      " 9   final.output.tail_au                                14149 non-null  float64\n",
      " 10  primary_cleaner.input.sulfate                       14129 non-null  float64\n",
      " 11  primary_cleaner.input.depressant                    14117 non-null  float64\n",
      " 12  primary_cleaner.input.feed_size                     14149 non-null  float64\n",
      " 13  primary_cleaner.input.xanthate                      14049 non-null  float64\n",
      " 14  primary_cleaner.output.concentrate_ag               14149 non-null  float64\n",
      " 15  primary_cleaner.output.concentrate_pb               14063 non-null  float64\n",
      " 16  primary_cleaner.output.concentrate_sol              13863 non-null  float64\n",
      " 17  primary_cleaner.output.concentrate_au               14149 non-null  float64\n",
      " 18  primary_cleaner.output.tail_ag                      14148 non-null  float64\n",
      " 19  primary_cleaner.output.tail_pb                      14134 non-null  float64\n",
      " 20  primary_cleaner.output.tail_sol                     14103 non-null  float64\n",
      " 21  primary_cleaner.output.tail_au                      14149 non-null  float64\n",
      " 22  primary_cleaner.state.floatbank8_a_air              14145 non-null  float64\n",
      " 23  primary_cleaner.state.floatbank8_a_level            14148 non-null  float64\n",
      " 24  primary_cleaner.state.floatbank8_b_air              14145 non-null  float64\n",
      " 25  primary_cleaner.state.floatbank8_b_level            14148 non-null  float64\n",
      " 26  primary_cleaner.state.floatbank8_c_air              14147 non-null  float64\n",
      " 27  primary_cleaner.state.floatbank8_c_level            14148 non-null  float64\n",
      " 28  primary_cleaner.state.floatbank8_d_air              14146 non-null  float64\n",
      " 29  primary_cleaner.state.floatbank8_d_level            14148 non-null  float64\n",
      " 30  rougher.calculation.sulfate_to_au_concentrate       14148 non-null  float64\n",
      " 31  rougher.calculation.floatbank10_sulfate_to_au_feed  14148 non-null  float64\n",
      " 32  rougher.calculation.floatbank11_sulfate_to_au_feed  14148 non-null  float64\n",
      " 33  rougher.calculation.au_pb_ratio                     14149 non-null  float64\n",
      " 34  rougher.input.feed_ag                               14149 non-null  float64\n",
      " 35  rougher.input.feed_pb                               14049 non-null  float64\n",
      " 36  rougher.input.feed_rate                             14141 non-null  float64\n",
      " 37  rougher.input.feed_size                             14005 non-null  float64\n",
      " 38  rougher.input.feed_sol                              14071 non-null  float64\n",
      " 39  rougher.input.feed_au                               14149 non-null  float64\n",
      " 40  rougher.input.floatbank10_sulfate                   14120 non-null  float64\n",
      " 41  rougher.input.floatbank10_xanthate                  14141 non-null  float64\n",
      " 42  rougher.input.floatbank11_sulfate                   14113 non-null  float64\n",
      " 43  rougher.input.floatbank11_xanthate                  13721 non-null  float64\n",
      " 44  rougher.output.concentrate_ag                       14149 non-null  float64\n",
      " 45  rougher.output.concentrate_pb                       14149 non-null  float64\n",
      " 46  rougher.output.concentrate_sol                      14127 non-null  float64\n",
      " 47  rougher.output.concentrate_au                       14149 non-null  float64\n",
      " 48  rougher.output.recovery                             14149 non-null  float64\n",
      " 49  rougher.output.tail_ag                              14148 non-null  float64\n",
      " 50  rougher.output.tail_pb                              14149 non-null  float64\n",
      " 51  rougher.output.tail_sol                             14149 non-null  float64\n",
      " 52  rougher.output.tail_au                              14149 non-null  float64\n",
      " 53  rougher.state.floatbank10_a_air                     14148 non-null  float64\n",
      " 54  rougher.state.floatbank10_a_level                   14148 non-null  float64\n",
      " 55  rougher.state.floatbank10_b_air                     14148 non-null  float64\n",
      " 56  rougher.state.floatbank10_b_level                   14148 non-null  float64\n",
      " 57  rougher.state.floatbank10_c_air                     14148 non-null  float64\n",
      " 58  rougher.state.floatbank10_c_level                   14148 non-null  float64\n",
      " 59  rougher.state.floatbank10_d_air                     14149 non-null  float64\n",
      " 60  rougher.state.floatbank10_d_level                   14149 non-null  float64\n",
      " 61  rougher.state.floatbank10_e_air                     13713 non-null  float64\n",
      " 62  rougher.state.floatbank10_e_level                   14149 non-null  float64\n",
      " 63  rougher.state.floatbank10_f_air                     14149 non-null  float64\n",
      " 64  rougher.state.floatbank10_f_level                   14149 non-null  float64\n",
      " 65  secondary_cleaner.output.tail_ag                    14147 non-null  float64\n",
      " 66  secondary_cleaner.output.tail_pb                    14139 non-null  float64\n",
      " 67  secondary_cleaner.output.tail_sol                   12544 non-null  float64\n",
      " 68  secondary_cleaner.output.tail_au                    14149 non-null  float64\n",
      " 69  secondary_cleaner.state.floatbank2_a_air            13932 non-null  float64\n",
      " 70  secondary_cleaner.state.floatbank2_a_level          14148 non-null  float64\n",
      " 71  secondary_cleaner.state.floatbank2_b_air            14128 non-null  float64\n",
      " 72  secondary_cleaner.state.floatbank2_b_level          14148 non-null  float64\n",
      " 73  secondary_cleaner.state.floatbank3_a_air            14145 non-null  float64\n",
      " 74  secondary_cleaner.state.floatbank3_a_level          14148 non-null  float64\n",
      " 75  secondary_cleaner.state.floatbank3_b_air            14148 non-null  float64\n",
      " 76  secondary_cleaner.state.floatbank3_b_level          14148 non-null  float64\n",
      " 77  secondary_cleaner.state.floatbank4_a_air            14143 non-null  float64\n",
      " 78  secondary_cleaner.state.floatbank4_a_level          14148 non-null  float64\n",
      " 79  secondary_cleaner.state.floatbank4_b_air            14148 non-null  float64\n",
      " 80  secondary_cleaner.state.floatbank4_b_level          14148 non-null  float64\n",
      " 81  secondary_cleaner.state.floatbank5_a_air            14148 non-null  float64\n",
      " 82  secondary_cleaner.state.floatbank5_a_level          14148 non-null  float64\n",
      " 83  secondary_cleaner.state.floatbank5_b_air            14148 non-null  float64\n",
      " 84  secondary_cleaner.state.floatbank5_b_level          14148 non-null  float64\n",
      " 85  secondary_cleaner.state.floatbank6_a_air            14147 non-null  float64\n",
      " 86  secondary_cleaner.state.floatbank6_a_level          14148 non-null  float64\n",
      "dtypes: float64(86), object(1)\n",
      "memory usage: 9.4+ MB\n",
      "инфо: None\n",
      "\n",
      "Размер: (14149, 87)\n",
      "\n",
      "Дубликаты: 0\n",
      "\n",
      "Пропуски:\n"
     ]
    },
    {
     "data": {
      "image/png": "[encoded data removed]",
      "text/plain": [
       "<Figure size 1440x720 with 1 Axes>"
      ]
     },
     "metadata": {
      "needs_background": "light"
     },
     "output_type": "display_data"
    },
    {
     "name": "stdout",
     "output_type": "stream",
     "text": [
      "\n"
     ]
    },
    {
     "data": {
      "text/html": [
       "<div>\n",
       "<style scoped>\n",
       "    .dataframe tbody tr th:only-of-type {\n",
       "        vertical-align: middle;\n",
       "    }\n",
       "\n",
       "    .dataframe tbody tr th {\n",
       "        vertical-align: top;\n",
       "    }\n",
       "\n",
       "    .dataframe thead th {\n",
       "        text-align: right;\n",
       "    }\n",
       "</style>\n",
       "<table border=\"1\" class=\"dataframe\">\n",
       "  <thead>\n",
       "    <tr style=\"text-align: right;\">\n",
       "      <th></th>\n",
       "      <th>final.output.concentrate_ag</th>\n",
       "      <th>final.output.concentrate_pb</th>\n",
       "      <th>final.output.concentrate_sol</th>\n",
       "      <th>final.output.concentrate_au</th>\n",
       "      <th>final.output.recovery</th>\n",
       "      <th>final.output.tail_ag</th>\n",
       "      <th>final.output.tail_pb</th>\n",
       "      <th>final.output.tail_sol</th>\n",
       "      <th>final.output.tail_au</th>\n",
       "      <th>primary_cleaner.input.sulfate</th>\n",
       "      <th>...</th>\n",
       "      <th>secondary_cleaner.state.floatbank4_a_air</th>\n",
       "      <th>secondary_cleaner.state.floatbank4_a_level</th>\n",
       "      <th>secondary_cleaner.state.floatbank4_b_air</th>\n",
       "      <th>secondary_cleaner.state.floatbank4_b_level</th>\n",
       "      <th>secondary_cleaner.state.floatbank5_a_air</th>\n",
       "      <th>secondary_cleaner.state.floatbank5_a_level</th>\n",
       "      <th>secondary_cleaner.state.floatbank5_b_air</th>\n",
       "      <th>secondary_cleaner.state.floatbank5_b_level</th>\n",
       "      <th>secondary_cleaner.state.floatbank6_a_air</th>\n",
       "      <th>secondary_cleaner.state.floatbank6_a_level</th>\n",
       "    </tr>\n",
       "  </thead>\n",
       "  <tbody>\n",
       "    <tr>\n",
       "      <th>count</th>\n",
       "      <td>14148.000000</td>\n",
       "      <td>14148.000000</td>\n",
       "      <td>13938.000000</td>\n",
       "      <td>14149.000000</td>\n",
       "      <td>14149.000000</td>\n",
       "      <td>14149.000000</td>\n",
       "      <td>14049.000000</td>\n",
       "      <td>14144.000000</td>\n",
       "      <td>14149.000000</td>\n",
       "      <td>14129.000000</td>\n",
       "      <td>...</td>\n",
       "      <td>14143.000000</td>\n",
       "      <td>14148.000000</td>\n",
       "      <td>14148.000000</td>\n",
       "      <td>14148.000000</td>\n",
       "      <td>14148.000000</td>\n",
       "      <td>14148.000000</td>\n",
       "      <td>14148.000000</td>\n",
       "      <td>14148.000000</td>\n",
       "      <td>14147.000000</td>\n",
       "      <td>14148.000000</td>\n",
       "    </tr>\n",
       "    <tr>\n",
       "      <th>mean</th>\n",
       "      <td>5.142034</td>\n",
       "      <td>10.132960</td>\n",
       "      <td>9.202849</td>\n",
       "      <td>44.003792</td>\n",
       "      <td>66.518832</td>\n",
       "      <td>9.607035</td>\n",
       "      <td>2.597298</td>\n",
       "      <td>10.512122</td>\n",
       "      <td>2.918421</td>\n",
       "      <td>133.320659</td>\n",
       "      <td>...</td>\n",
       "      <td>19.985454</td>\n",
       "      <td>-478.696836</td>\n",
       "      <td>15.487065</td>\n",
       "      <td>-460.229416</td>\n",
       "      <td>16.775136</td>\n",
       "      <td>-483.956022</td>\n",
       "      <td>13.064590</td>\n",
       "      <td>-483.966564</td>\n",
       "      <td>19.577539</td>\n",
       "      <td>-506.798480</td>\n",
       "    </tr>\n",
       "    <tr>\n",
       "      <th>std</th>\n",
       "      <td>1.369586</td>\n",
       "      <td>1.654930</td>\n",
       "      <td>2.790516</td>\n",
       "      <td>4.905261</td>\n",
       "      <td>10.295402</td>\n",
       "      <td>2.319069</td>\n",
       "      <td>0.971843</td>\n",
       "      <td>3.003617</td>\n",
       "      <td>0.903712</td>\n",
       "      <td>39.431659</td>\n",
       "      <td>...</td>\n",
       "      <td>5.657723</td>\n",
       "      <td>50.736021</td>\n",
       "      <td>5.255655</td>\n",
       "      <td>58.843586</td>\n",
       "      <td>5.831906</td>\n",
       "      <td>37.892788</td>\n",
       "      <td>5.765617</td>\n",
       "      <td>39.207913</td>\n",
       "      <td>5.764417</td>\n",
       "      <td>37.079249</td>\n",
       "    </tr>\n",
       "    <tr>\n",
       "      <th>min</th>\n",
       "      <td>0.000000</td>\n",
       "      <td>0.000000</td>\n",
       "      <td>0.000000</td>\n",
       "      <td>0.000000</td>\n",
       "      <td>0.000000</td>\n",
       "      <td>0.000000</td>\n",
       "      <td>0.000000</td>\n",
       "      <td>0.000000</td>\n",
       "      <td>0.000000</td>\n",
       "      <td>0.003112</td>\n",
       "      <td>...</td>\n",
       "      <td>0.000000</td>\n",
       "      <td>-799.709069</td>\n",
       "      <td>0.000000</td>\n",
       "      <td>-799.889113</td>\n",
       "      <td>-0.372054</td>\n",
       "      <td>-797.142475</td>\n",
       "      <td>0.646208</td>\n",
       "      <td>-800.006180</td>\n",
       "      <td>0.195324</td>\n",
       "      <td>-809.398668</td>\n",
       "    </tr>\n",
       "    <tr>\n",
       "      <th>25%</th>\n",
       "      <td>4.211620</td>\n",
       "      <td>9.297355</td>\n",
       "      <td>7.484645</td>\n",
       "      <td>43.276111</td>\n",
       "      <td>62.545817</td>\n",
       "      <td>7.997429</td>\n",
       "      <td>1.905973</td>\n",
       "      <td>8.811324</td>\n",
       "      <td>2.368607</td>\n",
       "      <td>107.006651</td>\n",
       "      <td>...</td>\n",
       "      <td>14.990775</td>\n",
       "      <td>-500.628656</td>\n",
       "      <td>11.894558</td>\n",
       "      <td>-500.149000</td>\n",
       "      <td>11.083980</td>\n",
       "      <td>-500.363177</td>\n",
       "      <td>8.994405</td>\n",
       "      <td>-500.105994</td>\n",
       "      <td>14.989304</td>\n",
       "      <td>-500.745104</td>\n",
       "    </tr>\n",
       "    <tr>\n",
       "      <th>50%</th>\n",
       "      <td>4.994652</td>\n",
       "      <td>10.297144</td>\n",
       "      <td>8.845462</td>\n",
       "      <td>44.872436</td>\n",
       "      <td>67.432775</td>\n",
       "      <td>9.480270</td>\n",
       "      <td>2.592022</td>\n",
       "      <td>10.514621</td>\n",
       "      <td>2.851025</td>\n",
       "      <td>133.018328</td>\n",
       "      <td>...</td>\n",
       "      <td>20.001789</td>\n",
       "      <td>-499.681450</td>\n",
       "      <td>14.975536</td>\n",
       "      <td>-499.388738</td>\n",
       "      <td>17.932223</td>\n",
       "      <td>-499.702452</td>\n",
       "      <td>11.997547</td>\n",
       "      <td>-499.914556</td>\n",
       "      <td>19.984175</td>\n",
       "      <td>-500.061431</td>\n",
       "    </tr>\n",
       "    <tr>\n",
       "      <th>75%</th>\n",
       "      <td>5.859540</td>\n",
       "      <td>11.170603</td>\n",
       "      <td>10.487508</td>\n",
       "      <td>46.166425</td>\n",
       "      <td>72.346428</td>\n",
       "      <td>11.003707</td>\n",
       "      <td>3.241723</td>\n",
       "      <td>11.933009</td>\n",
       "      <td>3.434764</td>\n",
       "      <td>159.825396</td>\n",
       "      <td>...</td>\n",
       "      <td>24.990826</td>\n",
       "      <td>-477.472413</td>\n",
       "      <td>20.059375</td>\n",
       "      <td>-400.039008</td>\n",
       "      <td>21.346550</td>\n",
       "      <td>-487.712108</td>\n",
       "      <td>17.982903</td>\n",
       "      <td>-453.186936</td>\n",
       "      <td>24.991623</td>\n",
       "      <td>-499.536466</td>\n",
       "    </tr>\n",
       "    <tr>\n",
       "      <th>max</th>\n",
       "      <td>16.001945</td>\n",
       "      <td>17.031899</td>\n",
       "      <td>18.124851</td>\n",
       "      <td>52.756638</td>\n",
       "      <td>100.000000</td>\n",
       "      <td>19.552149</td>\n",
       "      <td>5.639565</td>\n",
       "      <td>22.317730</td>\n",
       "      <td>8.197408</td>\n",
       "      <td>250.127834</td>\n",
       "      <td>...</td>\n",
       "      <td>30.115735</td>\n",
       "      <td>-245.239184</td>\n",
       "      <td>24.007913</td>\n",
       "      <td>-145.071088</td>\n",
       "      <td>43.709931</td>\n",
       "      <td>-275.073125</td>\n",
       "      <td>27.926001</td>\n",
       "      <td>-157.396071</td>\n",
       "      <td>32.188906</td>\n",
       "      <td>-104.427459</td>\n",
       "    </tr>\n",
       "  </tbody>\n",
       "</table>\n",
       "<p>8 rows × 86 columns</p>\n",
       "</div>"
      ],
      "text/plain": [
       "       final.output.concentrate_ag  final.output.concentrate_pb  \\\n",
       "count                 14148.000000                 14148.000000   \n",
       "mean                      5.142034                    10.132960   \n",
       "std                       1.369586                     1.654930   \n",
       "min                       0.000000                     0.000000   \n",
       "25%                       4.211620                     9.297355   \n",
       "50%                       4.994652                    10.297144   \n",
       "75%                       5.859540                    11.170603   \n",
       "max                      16.001945                    17.031899   \n",
       "\n",
       "       final.output.concentrate_sol  final.output.concentrate_au  \\\n",
       "count                  13938.000000                 14149.000000   \n",
       "mean                       9.202849                    44.003792   \n",
       "std                        2.790516                     4.905261   \n",
       "min                        0.000000                     0.000000   \n",
       "25%                        7.484645                    43.276111   \n",
       "50%                        8.845462                    44.872436   \n",
       "75%                       10.487508                    46.166425   \n",
       "max                       18.124851                    52.756638   \n",
       "\n",
       "       final.output.recovery  final.output.tail_ag  final.output.tail_pb  \\\n",
       "count           14149.000000          14149.000000          14049.000000   \n",
       "mean               66.518832              9.607035              2.597298   \n",
       "std                10.295402              2.319069              0.971843   \n",
       "min                 0.000000              0.000000              0.000000   \n",
       "25%                62.545817              7.997429              1.905973   \n",
       "50%                67.432775              9.480270              2.592022   \n",
       "75%                72.346428             11.003707              3.241723   \n",
       "max               100.000000             19.552149              5.639565   \n",
       "\n",
       "       final.output.tail_sol  final.output.tail_au  \\\n",
       "count           14144.000000          14149.000000   \n",
       "mean               10.512122              2.918421   \n",
       "std                 3.003617              0.903712   \n",
       "min                 0.000000              0.000000   \n",
       "25%                 8.811324              2.368607   \n",
       "50%                10.514621              2.851025   \n",
       "75%                11.933009              3.434764   \n",
       "max                22.317730              8.197408   \n",
       "\n",
       "       primary_cleaner.input.sulfate  ...  \\\n",
       "count                   14129.000000  ...   \n",
       "mean                      133.320659  ...   \n",
       "std                        39.431659  ...   \n",
       "min                         0.003112  ...   \n",
       "25%                       107.006651  ...   \n",
       "50%                       133.018328  ...   \n",
       "75%                       159.825396  ...   \n",
       "max                       250.127834  ...   \n",
       "\n",
       "       secondary_cleaner.state.floatbank4_a_air  \\\n",
       "count                              14143.000000   \n",
       "mean                                  19.985454   \n",
       "std                                    5.657723   \n",
       "min                                    0.000000   \n",
       "25%                                   14.990775   \n",
       "50%                                   20.001789   \n",
       "75%                                   24.990826   \n",
       "max                                   30.115735   \n",
       "\n",
       "       secondary_cleaner.state.floatbank4_a_level  \\\n",
       "count                                14148.000000   \n",
       "mean                                  -478.696836   \n",
       "std                                     50.736021   \n",
       "min                                   -799.709069   \n",
       "25%                                   -500.628656   \n",
       "50%                                   -499.681450   \n",
       "75%                                   -477.472413   \n",
       "max                                   -245.239184   \n",
       "\n",
       "       secondary_cleaner.state.floatbank4_b_air  \\\n",
       "count                              14148.000000   \n",
       "mean                                  15.487065   \n",
       "std                                    5.255655   \n",
       "min                                    0.000000   \n",
       "25%                                   11.894558   \n",
       "50%                                   14.975536   \n",
       "75%                                   20.059375   \n",
       "max                                   24.007913   \n",
       "\n",
       "       secondary_cleaner.state.floatbank4_b_level  \\\n",
       "count                                14148.000000   \n",
       "mean                                  -460.229416   \n",
       "std                                     58.843586   \n",
       "min                                   -799.889113   \n",
       "25%                                   -500.149000   \n",
       "50%                                   -499.388738   \n",
       "75%                                   -400.039008   \n",
       "max                                   -145.071088   \n",
       "\n",
       "       secondary_cleaner.state.floatbank5_a_air  \\\n",
       "count                              14148.000000   \n",
       "mean                                  16.775136   \n",
       "std                                    5.831906   \n",
       "min                                   -0.372054   \n",
       "25%                                   11.083980   \n",
       "50%                                   17.932223   \n",
       "75%                                   21.346550   \n",
       "max                                   43.709931   \n",
       "\n",
       "       secondary_cleaner.state.floatbank5_a_level  \\\n",
       "count                                14148.000000   \n",
       "mean                                  -483.956022   \n",
       "std                                     37.892788   \n",
       "min                                   -797.142475   \n",
       "25%                                   -500.363177   \n",
       "50%                                   -499.702452   \n",
       "75%                                   -487.712108   \n",
       "max                                   -275.073125   \n",
       "\n",
       "       secondary_cleaner.state.floatbank5_b_air  \\\n",
       "count                              14148.000000   \n",
       "mean                                  13.064590   \n",
       "std                                    5.765617   \n",
       "min                                    0.646208   \n",
       "25%                                    8.994405   \n",
       "50%                                   11.997547   \n",
       "75%                                   17.982903   \n",
       "max                                   27.926001   \n",
       "\n",
       "       secondary_cleaner.state.floatbank5_b_level  \\\n",
       "count                                14148.000000   \n",
       "mean                                  -483.966564   \n",
       "std                                     39.207913   \n",
       "min                                   -800.006180   \n",
       "25%                                   -500.105994   \n",
       "50%                                   -499.914556   \n",
       "75%                                   -453.186936   \n",
       "max                                   -157.396071   \n",
       "\n",
       "       secondary_cleaner.state.floatbank6_a_air  \\\n",
       "count                              14147.000000   \n",
       "mean                                  19.577539   \n",
       "std                                    5.764417   \n",
       "min                                    0.195324   \n",
       "25%                                   14.989304   \n",
       "50%                                   19.984175   \n",
       "75%                                   24.991623   \n",
       "max                                   32.188906   \n",
       "\n",
       "       secondary_cleaner.state.floatbank6_a_level  \n",
       "count                                14148.000000  \n",
       "mean                                  -506.798480  \n",
       "std                                     37.079249  \n",
       "min                                   -809.398668  \n",
       "25%                                   -500.745104  \n",
       "50%                                   -500.061431  \n",
       "75%                                   -499.536466  \n",
       "max                                   -104.427459  \n",
       "\n",
       "[8 rows x 86 columns]"
      ]
     },
     "metadata": {},
     "output_type": "display_data"
    }
   ],
   "source": [
    "review(data_train)"
   ]
  },
  {
   "cell_type": "code",
   "execution_count": 8,
   "id": "1c9d5cdf-49dc-4320-b16e-4a882388ae44",
   "metadata": {},
   "outputs": [
    {
     "name": "stdout",
     "output_type": "stream",
     "text": [
      "<class 'pandas.core.frame.DataFrame'>\n",
      "RangeIndex: 5290 entries, 0 to 5289\n",
      "Data columns (total 53 columns):\n",
      " #   Column                                      Non-Null Count  Dtype  \n",
      "---  ------                                      --------------  -----  \n",
      " 0   date                                        5290 non-null   object \n",
      " 1   primary_cleaner.input.sulfate               5286 non-null   float64\n",
      " 2   primary_cleaner.input.depressant            5285 non-null   float64\n",
      " 3   primary_cleaner.input.feed_size             5290 non-null   float64\n",
      " 4   primary_cleaner.input.xanthate              5286 non-null   float64\n",
      " 5   primary_cleaner.state.floatbank8_a_air      5290 non-null   float64\n",
      " 6   primary_cleaner.state.floatbank8_a_level    5290 non-null   float64\n",
      " 7   primary_cleaner.state.floatbank8_b_air      5290 non-null   float64\n",
      " 8   primary_cleaner.state.floatbank8_b_level    5290 non-null   float64\n",
      " 9   primary_cleaner.state.floatbank8_c_air      5290 non-null   float64\n",
      " 10  primary_cleaner.state.floatbank8_c_level    5290 non-null   float64\n",
      " 11  primary_cleaner.state.floatbank8_d_air      5290 non-null   float64\n",
      " 12  primary_cleaner.state.floatbank8_d_level    5290 non-null   float64\n",
      " 13  rougher.input.feed_ag                       5290 non-null   float64\n",
      " 14  rougher.input.feed_pb                       5290 non-null   float64\n",
      " 15  rougher.input.feed_rate                     5287 non-null   float64\n",
      " 16  rougher.input.feed_size                     5289 non-null   float64\n",
      " 17  rougher.input.feed_sol                      5269 non-null   float64\n",
      " 18  rougher.input.feed_au                       5290 non-null   float64\n",
      " 19  rougher.input.floatbank10_sulfate           5285 non-null   float64\n",
      " 20  rougher.input.floatbank10_xanthate          5290 non-null   float64\n",
      " 21  rougher.input.floatbank11_sulfate           5282 non-null   float64\n",
      " 22  rougher.input.floatbank11_xanthate          5265 non-null   float64\n",
      " 23  rougher.state.floatbank10_a_air             5290 non-null   float64\n",
      " 24  rougher.state.floatbank10_a_level           5290 non-null   float64\n",
      " 25  rougher.state.floatbank10_b_air             5290 non-null   float64\n",
      " 26  rougher.state.floatbank10_b_level           5290 non-null   float64\n",
      " 27  rougher.state.floatbank10_c_air             5290 non-null   float64\n",
      " 28  rougher.state.floatbank10_c_level           5290 non-null   float64\n",
      " 29  rougher.state.floatbank10_d_air             5290 non-null   float64\n",
      " 30  rougher.state.floatbank10_d_level           5290 non-null   float64\n",
      " 31  rougher.state.floatbank10_e_air             5290 non-null   float64\n",
      " 32  rougher.state.floatbank10_e_level           5290 non-null   float64\n",
      " 33  rougher.state.floatbank10_f_air             5290 non-null   float64\n",
      " 34  rougher.state.floatbank10_f_level           5290 non-null   float64\n",
      " 35  secondary_cleaner.state.floatbank2_a_air    5287 non-null   float64\n",
      " 36  secondary_cleaner.state.floatbank2_a_level  5290 non-null   float64\n",
      " 37  secondary_cleaner.state.floatbank2_b_air    5288 non-null   float64\n",
      " 38  secondary_cleaner.state.floatbank2_b_level  5290 non-null   float64\n",
      " 39  secondary_cleaner.state.floatbank3_a_air    5281 non-null   float64\n",
      " 40  secondary_cleaner.state.floatbank3_a_level  5290 non-null   float64\n",
      " 41  secondary_cleaner.state.floatbank3_b_air    5290 non-null   float64\n",
      " 42  secondary_cleaner.state.floatbank3_b_level  5290 non-null   float64\n",
      " 43  secondary_cleaner.state.floatbank4_a_air    5290 non-null   float64\n",
      " 44  secondary_cleaner.state.floatbank4_a_level  5290 non-null   float64\n",
      " 45  secondary_cleaner.state.floatbank4_b_air    5290 non-null   float64\n",
      " 46  secondary_cleaner.state.floatbank4_b_level  5290 non-null   float64\n",
      " 47  secondary_cleaner.state.floatbank5_a_air    5290 non-null   float64\n",
      " 48  secondary_cleaner.state.floatbank5_a_level  5290 non-null   float64\n",
      " 49  secondary_cleaner.state.floatbank5_b_air    5290 non-null   float64\n",
      " 50  secondary_cleaner.state.floatbank5_b_level  5290 non-null   float64\n",
      " 51  secondary_cleaner.state.floatbank6_a_air    5290 non-null   float64\n",
      " 52  secondary_cleaner.state.floatbank6_a_level  5290 non-null   float64\n",
      "dtypes: float64(52), object(1)\n",
      "memory usage: 2.1+ MB\n",
      "инфо: None\n",
      "\n",
      "Размер: (5290, 53)\n",
      "\n",
      "Дубликаты: 0\n",
      "\n",
      "Пропуски:\n"
     ]
    },
    {
     "data": {
      "image/png": "[encoded data removed]",
      "text/plain": [
       "<Figure size 1440x720 with 1 Axes>"
      ]
     },
     "metadata": {
      "needs_background": "light"
     },
     "output_type": "display_data"
    },
    {
     "name": "stdout",
     "output_type": "stream",
     "text": [
      "\n"
     ]
    },
    {
     "data": {
      "text/html": [
       "<div>\n",
       "<style scoped>\n",
       "    .dataframe tbody tr th:only-of-type {\n",
       "        vertical-align: middle;\n",
       "    }\n",
       "\n",
       "    .dataframe tbody tr th {\n",
       "        vertical-align: top;\n",
       "    }\n",
       "\n",
       "    .dataframe thead th {\n",
       "        text-align: right;\n",
       "    }\n",
       "</style>\n",
       "<table border=\"1\" class=\"dataframe\">\n",
       "  <thead>\n",
       "    <tr style=\"text-align: right;\">\n",
       "      <th></th>\n",
       "      <th>primary_cleaner.input.sulfate</th>\n",
       "      <th>primary_cleaner.input.depressant</th>\n",
       "      <th>primary_cleaner.input.feed_size</th>\n",
       "      <th>primary_cleaner.input.xanthate</th>\n",
       "      <th>primary_cleaner.state.floatbank8_a_air</th>\n",
       "      <th>primary_cleaner.state.floatbank8_a_level</th>\n",
       "      <th>primary_cleaner.state.floatbank8_b_air</th>\n",
       "      <th>primary_cleaner.state.floatbank8_b_level</th>\n",
       "      <th>primary_cleaner.state.floatbank8_c_air</th>\n",
       "      <th>primary_cleaner.state.floatbank8_c_level</th>\n",
       "      <th>...</th>\n",
       "      <th>secondary_cleaner.state.floatbank4_a_air</th>\n",
       "      <th>secondary_cleaner.state.floatbank4_a_level</th>\n",
       "      <th>secondary_cleaner.state.floatbank4_b_air</th>\n",
       "      <th>secondary_cleaner.state.floatbank4_b_level</th>\n",
       "      <th>secondary_cleaner.state.floatbank5_a_air</th>\n",
       "      <th>secondary_cleaner.state.floatbank5_a_level</th>\n",
       "      <th>secondary_cleaner.state.floatbank5_b_air</th>\n",
       "      <th>secondary_cleaner.state.floatbank5_b_level</th>\n",
       "      <th>secondary_cleaner.state.floatbank6_a_air</th>\n",
       "      <th>secondary_cleaner.state.floatbank6_a_level</th>\n",
       "    </tr>\n",
       "  </thead>\n",
       "  <tbody>\n",
       "    <tr>\n",
       "      <th>count</th>\n",
       "      <td>5286.000000</td>\n",
       "      <td>5285.000000</td>\n",
       "      <td>5290.000000</td>\n",
       "      <td>5286.000000</td>\n",
       "      <td>5.290000e+03</td>\n",
       "      <td>5290.000000</td>\n",
       "      <td>5.290000e+03</td>\n",
       "      <td>5290.000000</td>\n",
       "      <td>5.290000e+03</td>\n",
       "      <td>5290.000000</td>\n",
       "      <td>...</td>\n",
       "      <td>5.290000e+03</td>\n",
       "      <td>5290.000000</td>\n",
       "      <td>5.290000e+03</td>\n",
       "      <td>5290.000000</td>\n",
       "      <td>5290.000000</td>\n",
       "      <td>5290.000000</td>\n",
       "      <td>5290.000000</td>\n",
       "      <td>5290.000000</td>\n",
       "      <td>5290.000000</td>\n",
       "      <td>5290.000000</td>\n",
       "    </tr>\n",
       "    <tr>\n",
       "      <th>mean</th>\n",
       "      <td>174.839652</td>\n",
       "      <td>8.683596</td>\n",
       "      <td>7.266339</td>\n",
       "      <td>1.383803</td>\n",
       "      <td>1.539494e+03</td>\n",
       "      <td>-497.665883</td>\n",
       "      <td>1.545174e+03</td>\n",
       "      <td>-500.273098</td>\n",
       "      <td>1.527272e+03</td>\n",
       "      <td>-498.330680</td>\n",
       "      <td>...</td>\n",
       "      <td>1.632007e+01</td>\n",
       "      <td>-505.144570</td>\n",
       "      <td>1.373544e+01</td>\n",
       "      <td>-463.349858</td>\n",
       "      <td>12.804186</td>\n",
       "      <td>-501.329122</td>\n",
       "      <td>9.881145</td>\n",
       "      <td>-495.663398</td>\n",
       "      <td>17.304935</td>\n",
       "      <td>-501.793193</td>\n",
       "    </tr>\n",
       "    <tr>\n",
       "      <th>std</th>\n",
       "      <td>43.027080</td>\n",
       "      <td>3.072050</td>\n",
       "      <td>0.610219</td>\n",
       "      <td>0.643474</td>\n",
       "      <td>1.167979e+02</td>\n",
       "      <td>19.952431</td>\n",
       "      <td>1.222246e+02</td>\n",
       "      <td>32.968307</td>\n",
       "      <td>1.225380e+02</td>\n",
       "      <td>21.964876</td>\n",
       "      <td>...</td>\n",
       "      <td>3.493583e+00</td>\n",
       "      <td>31.427337</td>\n",
       "      <td>3.430484e+00</td>\n",
       "      <td>86.189107</td>\n",
       "      <td>3.026591</td>\n",
       "      <td>17.951495</td>\n",
       "      <td>2.868205</td>\n",
       "      <td>34.535007</td>\n",
       "      <td>4.536544</td>\n",
       "      <td>39.044215</td>\n",
       "    </tr>\n",
       "    <tr>\n",
       "      <th>min</th>\n",
       "      <td>2.566156</td>\n",
       "      <td>0.003839</td>\n",
       "      <td>5.650000</td>\n",
       "      <td>0.004984</td>\n",
       "      <td>5.445860e-32</td>\n",
       "      <td>-795.316337</td>\n",
       "      <td>6.647490e-32</td>\n",
       "      <td>-799.997015</td>\n",
       "      <td>4.033736e-32</td>\n",
       "      <td>-799.960571</td>\n",
       "      <td>...</td>\n",
       "      <td>1.079872e-16</td>\n",
       "      <td>-799.798523</td>\n",
       "      <td>2.489718e-17</td>\n",
       "      <td>-800.836914</td>\n",
       "      <td>0.069227</td>\n",
       "      <td>-797.323986</td>\n",
       "      <td>0.528083</td>\n",
       "      <td>-800.220337</td>\n",
       "      <td>-0.079426</td>\n",
       "      <td>-809.741464</td>\n",
       "    </tr>\n",
       "    <tr>\n",
       "      <th>25%</th>\n",
       "      <td>147.121401</td>\n",
       "      <td>6.489555</td>\n",
       "      <td>6.890000</td>\n",
       "      <td>0.907623</td>\n",
       "      <td>1.498936e+03</td>\n",
       "      <td>-500.357298</td>\n",
       "      <td>1.498971e+03</td>\n",
       "      <td>-500.703002</td>\n",
       "      <td>1.473230e+03</td>\n",
       "      <td>-501.018117</td>\n",
       "      <td>...</td>\n",
       "      <td>1.403618e+01</td>\n",
       "      <td>-500.868258</td>\n",
       "      <td>1.202862e+01</td>\n",
       "      <td>-500.323028</td>\n",
       "      <td>10.914838</td>\n",
       "      <td>-500.726841</td>\n",
       "      <td>8.036719</td>\n",
       "      <td>-500.194668</td>\n",
       "      <td>13.997317</td>\n",
       "      <td>-500.690984</td>\n",
       "    </tr>\n",
       "    <tr>\n",
       "      <th>50%</th>\n",
       "      <td>177.828489</td>\n",
       "      <td>8.052207</td>\n",
       "      <td>7.250000</td>\n",
       "      <td>1.197610</td>\n",
       "      <td>1.585129e+03</td>\n",
       "      <td>-499.969164</td>\n",
       "      <td>1.595622e+03</td>\n",
       "      <td>-500.028514</td>\n",
       "      <td>1.549595e+03</td>\n",
       "      <td>-500.017711</td>\n",
       "      <td>...</td>\n",
       "      <td>1.700847e+01</td>\n",
       "      <td>-500.115727</td>\n",
       "      <td>1.496486e+01</td>\n",
       "      <td>-499.576513</td>\n",
       "      <td>12.954182</td>\n",
       "      <td>-499.990332</td>\n",
       "      <td>10.004301</td>\n",
       "      <td>-499.990535</td>\n",
       "      <td>16.014935</td>\n",
       "      <td>-500.007126</td>\n",
       "    </tr>\n",
       "    <tr>\n",
       "      <th>75%</th>\n",
       "      <td>208.125438</td>\n",
       "      <td>10.027764</td>\n",
       "      <td>7.600000</td>\n",
       "      <td>1.797819</td>\n",
       "      <td>1.602077e+03</td>\n",
       "      <td>-499.568951</td>\n",
       "      <td>1.602324e+03</td>\n",
       "      <td>-499.293257</td>\n",
       "      <td>1.601144e+03</td>\n",
       "      <td>-498.994130</td>\n",
       "      <td>...</td>\n",
       "      <td>1.803862e+01</td>\n",
       "      <td>-499.404224</td>\n",
       "      <td>1.596213e+01</td>\n",
       "      <td>-400.933805</td>\n",
       "      <td>15.097528</td>\n",
       "      <td>-499.283191</td>\n",
       "      <td>11.997467</td>\n",
       "      <td>-499.719913</td>\n",
       "      <td>21.020013</td>\n",
       "      <td>-499.373018</td>\n",
       "    </tr>\n",
       "    <tr>\n",
       "      <th>max</th>\n",
       "      <td>265.983123</td>\n",
       "      <td>40.000000</td>\n",
       "      <td>15.500000</td>\n",
       "      <td>4.102454</td>\n",
       "      <td>2.103104e+03</td>\n",
       "      <td>-57.195404</td>\n",
       "      <td>1.813084e+03</td>\n",
       "      <td>-142.527229</td>\n",
       "      <td>1.715054e+03</td>\n",
       "      <td>-150.937035</td>\n",
       "      <td>...</td>\n",
       "      <td>3.005180e+01</td>\n",
       "      <td>-401.565212</td>\n",
       "      <td>3.126971e+01</td>\n",
       "      <td>-6.506986</td>\n",
       "      <td>25.258848</td>\n",
       "      <td>-244.483566</td>\n",
       "      <td>14.086866</td>\n",
       "      <td>-137.740004</td>\n",
       "      <td>26.705889</td>\n",
       "      <td>-123.307487</td>\n",
       "    </tr>\n",
       "  </tbody>\n",
       "</table>\n",
       "<p>8 rows × 52 columns</p>\n",
       "</div>"
      ],
      "text/plain": [
       "       primary_cleaner.input.sulfate  primary_cleaner.input.depressant  \\\n",
       "count                    5286.000000                       5285.000000   \n",
       "mean                      174.839652                          8.683596   \n",
       "std                        43.027080                          3.072050   \n",
       "min                         2.566156                          0.003839   \n",
       "25%                       147.121401                          6.489555   \n",
       "50%                       177.828489                          8.052207   \n",
       "75%                       208.125438                         10.027764   \n",
       "max                       265.983123                         40.000000   \n",
       "\n",
       "       primary_cleaner.input.feed_size  primary_cleaner.input.xanthate  \\\n",
       "count                      5290.000000                     5286.000000   \n",
       "mean                          7.266339                        1.383803   \n",
       "std                           0.610219                        0.643474   \n",
       "min                           5.650000                        0.004984   \n",
       "25%                           6.890000                        0.907623   \n",
       "50%                           7.250000                        1.197610   \n",
       "75%                           7.600000                        1.797819   \n",
       "max                          15.500000                        4.102454   \n",
       "\n",
       "       primary_cleaner.state.floatbank8_a_air  \\\n",
       "count                            5.290000e+03   \n",
       "mean                             1.539494e+03   \n",
       "std                              1.167979e+02   \n",
       "min                              5.445860e-32   \n",
       "25%                              1.498936e+03   \n",
       "50%                              1.585129e+03   \n",
       "75%                              1.602077e+03   \n",
       "max                              2.103104e+03   \n",
       "\n",
       "       primary_cleaner.state.floatbank8_a_level  \\\n",
       "count                               5290.000000   \n",
       "mean                                -497.665883   \n",
       "std                                   19.952431   \n",
       "min                                 -795.316337   \n",
       "25%                                 -500.357298   \n",
       "50%                                 -499.969164   \n",
       "75%                                 -499.568951   \n",
       "max                                  -57.195404   \n",
       "\n",
       "       primary_cleaner.state.floatbank8_b_air  \\\n",
       "count                            5.290000e+03   \n",
       "mean                             1.545174e+03   \n",
       "std                              1.222246e+02   \n",
       "min                              6.647490e-32   \n",
       "25%                              1.498971e+03   \n",
       "50%                              1.595622e+03   \n",
       "75%                              1.602324e+03   \n",
       "max                              1.813084e+03   \n",
       "\n",
       "       primary_cleaner.state.floatbank8_b_level  \\\n",
       "count                               5290.000000   \n",
       "mean                                -500.273098   \n",
       "std                                   32.968307   \n",
       "min                                 -799.997015   \n",
       "25%                                 -500.703002   \n",
       "50%                                 -500.028514   \n",
       "75%                                 -499.293257   \n",
       "max                                 -142.527229   \n",
       "\n",
       "       primary_cleaner.state.floatbank8_c_air  \\\n",
       "count                            5.290000e+03   \n",
       "mean                             1.527272e+03   \n",
       "std                              1.225380e+02   \n",
       "min                              4.033736e-32   \n",
       "25%                              1.473230e+03   \n",
       "50%                              1.549595e+03   \n",
       "75%                              1.601144e+03   \n",
       "max                              1.715054e+03   \n",
       "\n",
       "       primary_cleaner.state.floatbank8_c_level  ...  \\\n",
       "count                               5290.000000  ...   \n",
       "mean                                -498.330680  ...   \n",
       "std                                   21.964876  ...   \n",
       "min                                 -799.960571  ...   \n",
       "25%                                 -501.018117  ...   \n",
       "50%                                 -500.017711  ...   \n",
       "75%                                 -498.994130  ...   \n",
       "max                                 -150.937035  ...   \n",
       "\n",
       "       secondary_cleaner.state.floatbank4_a_air  \\\n",
       "count                              5.290000e+03   \n",
       "mean                               1.632007e+01   \n",
       "std                                3.493583e+00   \n",
       "min                                1.079872e-16   \n",
       "25%                                1.403618e+01   \n",
       "50%                                1.700847e+01   \n",
       "75%                                1.803862e+01   \n",
       "max                                3.005180e+01   \n",
       "\n",
       "       secondary_cleaner.state.floatbank4_a_level  \\\n",
       "count                                 5290.000000   \n",
       "mean                                  -505.144570   \n",
       "std                                     31.427337   \n",
       "min                                   -799.798523   \n",
       "25%                                   -500.868258   \n",
       "50%                                   -500.115727   \n",
       "75%                                   -499.404224   \n",
       "max                                   -401.565212   \n",
       "\n",
       "       secondary_cleaner.state.floatbank4_b_air  \\\n",
       "count                              5.290000e+03   \n",
       "mean                               1.373544e+01   \n",
       "std                                3.430484e+00   \n",
       "min                                2.489718e-17   \n",
       "25%                                1.202862e+01   \n",
       "50%                                1.496486e+01   \n",
       "75%                                1.596213e+01   \n",
       "max                                3.126971e+01   \n",
       "\n",
       "       secondary_cleaner.state.floatbank4_b_level  \\\n",
       "count                                 5290.000000   \n",
       "mean                                  -463.349858   \n",
       "std                                     86.189107   \n",
       "min                                   -800.836914   \n",
       "25%                                   -500.323028   \n",
       "50%                                   -499.576513   \n",
       "75%                                   -400.933805   \n",
       "max                                     -6.506986   \n",
       "\n",
       "       secondary_cleaner.state.floatbank5_a_air  \\\n",
       "count                               5290.000000   \n",
       "mean                                  12.804186   \n",
       "std                                    3.026591   \n",
       "min                                    0.069227   \n",
       "25%                                   10.914838   \n",
       "50%                                   12.954182   \n",
       "75%                                   15.097528   \n",
       "max                                   25.258848   \n",
       "\n",
       "       secondary_cleaner.state.floatbank5_a_level  \\\n",
       "count                                 5290.000000   \n",
       "mean                                  -501.329122   \n",
       "std                                     17.951495   \n",
       "min                                   -797.323986   \n",
       "25%                                   -500.726841   \n",
       "50%                                   -499.990332   \n",
       "75%                                   -499.283191   \n",
       "max                                   -244.483566   \n",
       "\n",
       "       secondary_cleaner.state.floatbank5_b_air  \\\n",
       "count                               5290.000000   \n",
       "mean                                   9.881145   \n",
       "std                                    2.868205   \n",
       "min                                    0.528083   \n",
       "25%                                    8.036719   \n",
       "50%                                   10.004301   \n",
       "75%                                   11.997467   \n",
       "max                                   14.086866   \n",
       "\n",
       "       secondary_cleaner.state.floatbank5_b_level  \\\n",
       "count                                 5290.000000   \n",
       "mean                                  -495.663398   \n",
       "std                                     34.535007   \n",
       "min                                   -800.220337   \n",
       "25%                                   -500.194668   \n",
       "50%                                   -499.990535   \n",
       "75%                                   -499.719913   \n",
       "max                                   -137.740004   \n",
       "\n",
       "       secondary_cleaner.state.floatbank6_a_air  \\\n",
       "count                               5290.000000   \n",
       "mean                                  17.304935   \n",
       "std                                    4.536544   \n",
       "min                                   -0.079426   \n",
       "25%                                   13.997317   \n",
       "50%                                   16.014935   \n",
       "75%                                   21.020013   \n",
       "max                                   26.705889   \n",
       "\n",
       "       secondary_cleaner.state.floatbank6_a_level  \n",
       "count                                 5290.000000  \n",
       "mean                                  -501.793193  \n",
       "std                                     39.044215  \n",
       "min                                   -809.741464  \n",
       "25%                                   -500.690984  \n",
       "50%                                   -500.007126  \n",
       "75%                                   -499.373018  \n",
       "max                                   -123.307487  \n",
       "\n",
       "[8 rows x 52 columns]"
      ]
     },
     "metadata": {},
     "output_type": "display_data"
    }
   ],
   "source": [
    "review(data_test)"
   ]
  },
  {
   "cell_type": "markdown",
   "id": "66668b42",
   "metadata": {},
   "source": [
    "### Вывод"
   ]
  },
  {
   "cell_type": "markdown",
   "id": "143d3093-59a5-4f7f-843d-1c7e45b8276f",
   "metadata": {},
   "source": [
    "Во всех датасетах имеются пропуски и огромное кол-во столбцов(как их изучать я не знаю...)"
   ]
  },
  {
   "cell_type": "markdown",
   "id": "e67d3625",
   "metadata": {},
   "source": [
    "## Подготовка данных"
   ]
  },
  {
   "cell_type": "markdown",
   "id": "27aac706-ba6b-479a-9257-26396042cc3b",
   "metadata": {},
   "source": [
    "Напишем функцию метрики sMAPE:"
   ]
  },
  {
   "cell_type": "code",
   "execution_count": 9,
   "id": "d86650d0-4bf2-4fc0-a8de-f4e9e21a871e",
   "metadata": {},
   "outputs": [],
   "source": [
    "C = data_train['rougher.output.concentrate_au']\n",
    "F = data_train['rougher.input.feed_au']\n",
    "T = data_train['rougher.output.tail_au']"
   ]
  },
  {
   "cell_type": "code",
   "execution_count": 10,
   "id": "1e4c2cc8-0554-446c-99a1-e9f71c01467d",
   "metadata": {},
   "outputs": [],
   "source": [
    "def recovery(C,F,T):\n",
    "    result = (C*(F-T))/(F*(C-T)) * 100\n",
    "    return result"
   ]
  },
  {
   "cell_type": "markdown",
   "id": "6a96b1d5",
   "metadata": {},
   "source": [
    "Проверим правильно ли расчитана метрика в данных"
   ]
  },
  {
   "cell_type": "code",
   "execution_count": 11,
   "id": "c6a45f2d-fa07-4d80-943b-b2bacbf5f764",
   "metadata": {},
   "outputs": [
    {
     "data": {
      "text/plain": [
       "9.73512347450521e-15"
      ]
     },
     "execution_count": 11,
     "metadata": {},
     "output_type": "execute_result"
    }
   ],
   "source": [
    "mean_absolute_error(data_train['rougher.output.recovery'], recovery(C,F,T))"
   ]
  },
  {
   "cell_type": "markdown",
   "id": "b311e0c6-5cda-420d-bbe3-cb8f937f5d87",
   "metadata": {},
   "source": [
    "МАЕ стремится к 0, так что расчеты верны"
   ]
  },
  {
   "cell_type": "markdown",
   "id": "50314c46-2462-4d01-a8d4-d6be1e798dc3",
   "metadata": {},
   "source": [
    "Посмотрим что за столбцы пропущены в тестовой выборке"
   ]
  },
  {
   "cell_type": "code",
   "execution_count": 12,
   "id": "ba3b287b-f622-4461-bd57-baca06c6bd72",
   "metadata": {},
   "outputs": [
    {
     "data": {
      "text/plain": [
       "Index(['final.output.concentrate_ag', 'final.output.concentrate_pb',\n",
       "       'final.output.concentrate_sol', 'final.output.concentrate_au',\n",
       "       'final.output.recovery', 'final.output.tail_ag', 'final.output.tail_pb',\n",
       "       'final.output.tail_sol', 'final.output.tail_au',\n",
       "       'primary_cleaner.output.concentrate_ag',\n",
       "       'primary_cleaner.output.concentrate_pb',\n",
       "       'primary_cleaner.output.concentrate_sol',\n",
       "       'primary_cleaner.output.concentrate_au',\n",
       "       'primary_cleaner.output.tail_ag', 'primary_cleaner.output.tail_pb',\n",
       "       'primary_cleaner.output.tail_sol', 'primary_cleaner.output.tail_au',\n",
       "       'rougher.calculation.sulfate_to_au_concentrate',\n",
       "       'rougher.calculation.floatbank10_sulfate_to_au_feed',\n",
       "       'rougher.calculation.floatbank11_sulfate_to_au_feed',\n",
       "       'rougher.calculation.au_pb_ratio', 'rougher.output.concentrate_ag',\n",
       "       'rougher.output.concentrate_pb', 'rougher.output.concentrate_sol',\n",
       "       'rougher.output.concentrate_au', 'rougher.output.recovery',\n",
       "       'rougher.output.tail_ag', 'rougher.output.tail_pb',\n",
       "       'rougher.output.tail_sol', 'rougher.output.tail_au',\n",
       "       'secondary_cleaner.output.tail_ag', 'secondary_cleaner.output.tail_pb',\n",
       "       'secondary_cleaner.output.tail_sol',\n",
       "       'secondary_cleaner.output.tail_au'],\n",
       "      dtype='object')"
      ]
     },
     "execution_count": 12,
     "metadata": {},
     "output_type": "execute_result"
    }
   ],
   "source": [
    "miss = data_full.drop(data_test.columns, axis=1).columns\n",
    "miss"
   ]
  },
  {
   "cell_type": "markdown",
   "id": "2afa6cae-dd34-4be2-83b2-65154bade66c",
   "metadata": {},
   "source": [
    "Cудя по всему, в тестовой выборке у нас отсутствуют все данные о продукте на выходе кажого из этапов обработки"
   ]
  },
  {
   "cell_type": "markdown",
   "id": "18dfa6a6-8356-4212-9975-4b46911eee14",
   "metadata": {},
   "source": [
    "## Предобработка"
   ]
  },
  {
   "cell_type": "markdown",
   "id": "8ec05d3c",
   "metadata": {},
   "source": [
    "Добавим целевой признак в тестовую выборку"
   ]
  },
  {
   "cell_type": "code",
   "execution_count": 13,
   "id": "6d03a4e8-14d7-4872-a60e-35b4ff4480be",
   "metadata": {},
   "outputs": [],
   "source": [
    "data_test = data_test.merge(data_full[['date', 'rougher.output.recovery', 'final.output.recovery']], \n",
    "                           how = 'left', on = 'date')"
   ]
  },
  {
   "cell_type": "markdown",
   "id": "8fdc1ea3-9b7c-4138-b85d-4ef716c95145",
   "metadata": {},
   "source": [
    "Заменим пропуски К-близжайшими соседями, так как мы знаем, что соседние по времени параметры часто похожи.  \n",
    "Заодно удалим столбец с датой, так как он нам больше не нужен"
   ]
  },
  {
   "cell_type": "code",
   "execution_count": 14,
   "id": "da44ec24-608f-43c6-9a34-51b79291bb11",
   "metadata": {},
   "outputs": [],
   "source": [
    "def imput(df):\n",
    "    df.drop('date', axis=1, inplace=True)\n",
    "    imputer = KNNImputer()\n",
    "    imputer.fit(df)\n",
    "    df_knn = pd.DataFrame(imputer.transform(df), columns = df.columns)\n",
    "    return df_knn"
   ]
  },
  {
   "cell_type": "code",
   "execution_count": 15,
   "id": "6a85e777-5f5f-4046-b5a1-26259d6ce358",
   "metadata": {},
   "outputs": [
    {
     "data": {
      "text/plain": [
       "0"
      ]
     },
     "execution_count": 15,
     "metadata": {},
     "output_type": "execute_result"
    }
   ],
   "source": [
    "data_train = imput(data_train)\n",
    "data_train.isna().sum().sum()\n",
    "\n",
    "data_test = imput(data_test)\n",
    "data_test.isna().sum().sum()\n",
    "\n",
    "data_full = imput(data_full)\n",
    "data_full.isna().sum().sum()"
   ]
  },
  {
   "cell_type": "markdown",
   "id": "0004f181",
   "metadata": {},
   "source": [
    "Пропусков нет"
   ]
  },
  {
   "cell_type": "markdown",
   "id": "25cc84be-1f4e-47d8-92d4-45459977b5ff",
   "metadata": {},
   "source": [
    "## Анализ данных"
   ]
  },
  {
   "cell_type": "markdown",
   "id": "3e018ccb",
   "metadata": {},
   "source": [
    "### Изменение концентрация металлов в процессе обработки"
   ]
  },
  {
   "cell_type": "code",
   "execution_count": 16,
   "id": "7400f27b-723c-40f0-bfdb-1f3f9bf93751",
   "metadata": {},
   "outputs": [],
   "source": [
    "aurum = []\n",
    "argentum = []\n",
    "plumbum = []\n",
    "for metall in data_full:\n",
    "    if 'concentrate_au' in metall:\n",
    "        aurum.append(metall)\n",
    "    if 'concentrate_ag' in metall:\n",
    "        argentum.append(metall)\n",
    "    if 'concentrate_pb' in metall:\n",
    "        plumbum.append(metall)\n",
    "            "
   ]
  },
  {
   "cell_type": "code",
   "execution_count": 17,
   "id": "96785dcc-3c69-4220-8d1c-63b5c36aa553",
   "metadata": {},
   "outputs": [
    {
     "data": {
      "image/png": "[encoded data removed]",
      "text/plain": [
       "<Figure size 432x288 with 1 Axes>"
      ]
     },
     "metadata": {
      "needs_background": "light"
     },
     "output_type": "display_data"
    }
   ],
   "source": [
    "for metall in aurum, argentum, plumbum:\n",
    "    plt.barh(data_full[metall].columns, data_full[metall].mean(), label =str(metall)[-4:-2])\n",
    "plt.title('Изменение концентрации металлов во время обработки')\n",
    "plt.ylabel('Этапы обработки')\n",
    "plt.xlabel('Концентрация')\n",
    "plt.legend();"
   ]
  },
  {
   "cell_type": "markdown",
   "id": "b76c379d-9f03-43d7-8f14-9ba53d791e5f",
   "metadata": {},
   "source": [
    "Как мы видим из графика, с каждым новым этапом обработки концентрация золота и свинца в продукте растет, причем свинец растет незначительно, в отличие от золота, а концентрация серебра снижается."
   ]
  },
  {
   "cell_type": "markdown",
   "id": "32dae3e3-0233-49f9-8dd7-7c300b6b11d7",
   "metadata": {},
   "source": [
    "### Сравнение распределения размеров гранул сырья на обучающей и тестовой выборках. "
   ]
  },
  {
   "cell_type": "code",
   "execution_count": 18,
   "id": "bdfbbe12-de94-4c64-bd17-bbd170d52e45",
   "metadata": {},
   "outputs": [
    {
     "data": {
      "text/plain": [
       "count    5290.000000\n",
       "mean       55.955375\n",
       "std        19.082490\n",
       "min         0.046369\n",
       "25%        43.906504\n",
       "50%        50.846843\n",
       "75%        62.451165\n",
       "max       392.494040\n",
       "Name: rougher.input.feed_size, dtype: float64"
      ]
     },
     "execution_count": 18,
     "metadata": {},
     "output_type": "execute_result"
    },
    {
     "data": {
      "image/png": "[encoded data removed]",
      "text/plain": [
       "<Figure size 432x288 with 1 Axes>"
      ]
     },
     "metadata": {
      "needs_background": "light"
     },
     "output_type": "display_data"
    }
   ],
   "source": [
    "data_test['rougher.input.feed_size'].hist(bins=30)\n",
    "data_test['rougher.input.feed_size'].describe()"
   ]
  },
  {
   "cell_type": "code",
   "execution_count": 19,
   "id": "d424b209-4536-4926-9bb9-2372dc785963",
   "metadata": {},
   "outputs": [
    {
     "data": {
      "text/plain": [
       "count    14149.000000\n",
       "mean        60.117844\n",
       "std         22.468112\n",
       "min          9.659576\n",
       "25%         48.985226\n",
       "50%         55.376859\n",
       "75%         65.953465\n",
       "max        484.967466\n",
       "Name: rougher.input.feed_size, dtype: float64"
      ]
     },
     "execution_count": 19,
     "metadata": {},
     "output_type": "execute_result"
    },
    {
     "data": {
      "image/png": "[encoded data removed]",
      "text/plain": [
       "<Figure size 432x288 with 1 Axes>"
      ]
     },
     "metadata": {
      "needs_background": "light"
     },
     "output_type": "display_data"
    }
   ],
   "source": [
    "data_train['rougher.input.feed_size'].hist(bins=30);\n",
    "data_train['rougher.input.feed_size'].describe()"
   ]
  },
  {
   "cell_type": "code",
   "execution_count": 20,
   "id": "2eac5468",
   "metadata": {},
   "outputs": [
    {
     "data": {
      "image/png": "[encoded data removed]",
      "text/plain": [
       "<Figure size 432x288 with 1 Axes>"
      ]
     },
     "metadata": {
      "needs_background": "light"
     },
     "output_type": "display_data"
    }
   ],
   "source": [
    "data_train['rougher.input.feed_size'].hist(bins=30, density=True);\n",
    "data_test['rougher.input.feed_size'].hist(bins=30, density=True, alpha=0.5);"
   ]
  },
  {
   "cell_type": "markdown",
   "id": "a8a6fc35-cdda-47e6-91d4-f98023f798e7",
   "metadata": {},
   "source": [
    "Распределение похоже, средние выборок примерно одинаковы"
   ]
  },
  {
   "cell_type": "markdown",
   "id": "d36a9705-dbfa-461d-ae6a-bb0a735f2d32",
   "metadata": {},
   "source": [
    "### Расчет суммарной концентрации металлов в данных"
   ]
  },
  {
   "cell_type": "code",
   "execution_count": 21,
   "id": "a666ef21-e0c9-43cd-ac7b-fef002de3769",
   "metadata": {},
   "outputs": [
    {
     "name": "stdout",
     "output_type": "stream",
     "text": [
      "Суммарная концентрация rougher.input.feed_: 401533.9159079074\n",
      "Суммарная концентрация rougher.output.concentrate_: 765372.3654042517\n",
      "Суммарная концентрация primary_cleaner.output.concentrate_: 979362.8019006514\n",
      "Суммарная концентрация final.output.concentrate_: 1151252.2468314026\n"
     ]
    },
    {
     "data": {
      "image/png": "[encoded data removed]",
      "text/plain": [
       "<Figure size 720x360 with 1 Axes>"
      ]
     },
     "metadata": {
      "needs_background": "light"
     },
     "output_type": "display_data"
    }
   ],
   "source": [
    "concentrate = pd.DataFrame()\n",
    "raw =  'rougher.input.feed_'\n",
    "rougher = 'rougher.output.concentrate_'\n",
    "primary = 'primary_cleaner.output.concentrate_'\n",
    "final = 'final.output.concentrate_'\n",
    "stages = [raw, rougher, primary, final]\n",
    "for stage in stages:\n",
    "    concentrate[stage] = data_full[[stage+\"au\", stage+\"ag\", stage+\"pb\"]].sum(axis=1)\n",
    "    print(f'Суммарная концентрация {stage}: {data_full[[stage+\"au\", stage+\"ag\", stage+\"pb\"]].sum().sum()}')\n",
    "    concentrate[stage].hist(bins=30, figsize=(10,5), label = stage)\n",
    "    plt.legend()\n"
   ]
  },
  {
   "cell_type": "code",
   "execution_count": 22,
   "id": "9bf94f4a",
   "metadata": {},
   "outputs": [
    {
     "data": {
      "image/png": "[encoded data removed]",
      "text/plain": [
       "<Figure size 1080x360 with 1 Axes>"
      ]
     },
     "metadata": {
      "needs_background": "light"
     },
     "output_type": "display_data"
    }
   ],
   "source": [
    "concentrate.boxplot(figsize=(15,5));"
   ]
  },
  {
   "cell_type": "markdown",
   "id": "533b090a",
   "metadata": {},
   "source": [
    "Видим, что у нас присутствует много нулей-выбросов, так же графики сильно скошены влево."
   ]
  },
  {
   "cell_type": "markdown",
   "id": "6b9876f3",
   "metadata": {},
   "source": [
    "Удалим нулевые значения из тренировочной выборки, и для полной(т.к. из неё позже импортируем столбцы в тест)"
   ]
  },
  {
   "cell_type": "code",
   "execution_count": 23,
   "id": "e074fc22",
   "metadata": {},
   "outputs": [
    {
     "data": {
      "text/plain": [
       "(14149, 86)"
      ]
     },
     "execution_count": 23,
     "metadata": {},
     "output_type": "execute_result"
    }
   ],
   "source": [
    "data_train.shape"
   ]
  },
  {
   "cell_type": "code",
   "execution_count": 24,
   "id": "44310a61",
   "metadata": {},
   "outputs": [],
   "source": [
    "for stage in stages:\n",
    "    data_train = data_train.drop(data_train[data_train[stage+\"au\"] < 1].index)\n",
    "    data_full = data_full.drop(data_full[data_full[stage+\"au\"] < 1].index)"
   ]
  },
  {
   "cell_type": "code",
   "execution_count": 25,
   "id": "c620742d",
   "metadata": {},
   "outputs": [
    {
     "name": "stdout",
     "output_type": "stream",
     "text": [
      "Суммарная концентрация rougher.input.feed_: 271384.56768900563\n",
      "Суммарная концентрация rougher.output.concentrate_: 540354.4812192702\n",
      "Суммарная концентрация primary_cleaner.output.concentrate_: 691250.791953542\n",
      "Суммарная концентрация final.output.concentrate_: 809445.1634920121\n"
     ]
    },
    {
     "data": {
      "image/png": "[encoded data removed]",
      "text/plain": [
       "<Figure size 720x360 with 1 Axes>"
      ]
     },
     "metadata": {
      "needs_background": "light"
     },
     "output_type": "display_data"
    }
   ],
   "source": [
    "for stage in stages:\n",
    "    concentrate[stage] = data_train[[stage+\"au\", stage+\"ag\", stage+\"pb\"]].sum(axis=1)\n",
    "    print(f'Суммарная концентрация {stage}: {data_train[[stage+\"au\", stage+\"ag\", stage+\"pb\"]].sum().sum()}')\n",
    "    concentrate[stage].hist(bins=30, figsize=(10,5), label = stage)\n",
    "    plt.legend()"
   ]
  },
  {
   "cell_type": "code",
   "execution_count": 26,
   "id": "13547b10",
   "metadata": {},
   "outputs": [
    {
     "data": {
      "text/plain": [
       "(13593, 86)"
      ]
     },
     "execution_count": 26,
     "metadata": {},
     "output_type": "execute_result"
    }
   ],
   "source": [
    "data_train.shape"
   ]
  },
  {
   "cell_type": "markdown",
   "id": "88461c70",
   "metadata": {},
   "source": [
    "## Построение модели"
   ]
  },
  {
   "cell_type": "code",
   "execution_count": 27,
   "id": "293a8a4b-69e6-484d-b35a-02352aff7f18",
   "metadata": {},
   "outputs": [],
   "source": [
    "def smape(target, predictions):\n",
    "    numerator = abs(target - predictions)\n",
    "    divider = (abs(target) + abs(predictions)) / 2\n",
    "    summa = (numerator / divider).sum()\n",
    "\n",
    "    smape = (1 / len(target)) * summa * 100\n",
    "    return smape"
   ]
  },
  {
   "cell_type": "code",
   "execution_count": 28,
   "id": "0cab0b01-a71a-49b6-82cd-463109d930cd",
   "metadata": {},
   "outputs": [],
   "source": [
    "scorer = make_scorer(smape, greater_is_better=False)"
   ]
  },
  {
   "cell_type": "code",
   "execution_count": 29,
   "id": "c2c2aecc-5a01-4179-abd5-8767705d7767",
   "metadata": {},
   "outputs": [],
   "source": [
    "def final_smape(rough, final):\n",
    "    return 0.25 * rough + 0.75 * final"
   ]
  },
  {
   "cell_type": "markdown",
   "id": "0795595f-a243-424b-adc0-dde3bcfe8448",
   "metadata": {},
   "source": [
    "Разделим  данные на фичи и таргет и удалим из трейна столбцы, пропущенные в тесте, чтобы модель не читерила, зная выходной продукт"
   ]
  },
  {
   "cell_type": "code",
   "execution_count": 30,
   "id": "236d4b62-915f-4239-b538-b35b62b32467",
   "metadata": {},
   "outputs": [],
   "source": [
    "X_train = data_train.drop(miss, axis=1)\n",
    "y_train = data_train[['rougher.output.recovery', 'final.output.recovery']]"
   ]
  },
  {
   "cell_type": "code",
   "execution_count": 31,
   "id": "5731829a-449e-4617-a567-4125a497add6",
   "metadata": {},
   "outputs": [],
   "source": [
    "X_test = data_test.drop(['rougher.output.recovery', 'final.output.recovery'], axis=1)\n",
    "y_test = data_test[['rougher.output.recovery', 'final.output.recovery']]\n"
   ]
  },
  {
   "cell_type": "markdown",
   "id": "26631b5d",
   "metadata": {},
   "source": [
    "Проскалируем признаки"
   ]
  },
  {
   "cell_type": "code",
   "execution_count": 32,
   "id": "9d66fe87-09a1-4780-972d-bef724855e16",
   "metadata": {},
   "outputs": [
    {
     "data": {
      "text/plain": [
       "''"
      ]
     },
     "execution_count": 32,
     "metadata": {},
     "output_type": "execute_result"
    }
   ],
   "source": [
    "'''scaler = StandardScaler()\n",
    "scaler.fit(X_train)\n",
    "X_train = pd.DataFrame(scaler.transform(X_train), columns = X_train.columns)'''\n",
    "''"
   ]
  },
  {
   "cell_type": "code",
   "execution_count": 33,
   "id": "f7ccd658-7294-4d39-bfff-4ce7afe8564a",
   "metadata": {},
   "outputs": [],
   "source": [
    "#X_test = pd.DataFrame(scaler.transform(X_test), columns = X_test.columns)"
   ]
  },
  {
   "cell_type": "markdown",
   "id": "c670c914-3e0b-4f8d-b71d-a61924d90a0b",
   "metadata": {},
   "source": [
    "### Фиктивная модель"
   ]
  },
  {
   "cell_type": "code",
   "execution_count": 34,
   "id": "040346d8-a767-42fd-8d35-48931629e984",
   "metadata": {},
   "outputs": [],
   "source": [
    "dummy =  DummyRegressor()\n",
    "dummy.fit(X_train, y_train['rougher.output.recovery'])\n",
    "pred = dummy.predict(X_train)\n",
    "dummy_rough = smape(y_train['rougher.output.recovery'], pred)"
   ]
  },
  {
   "cell_type": "code",
   "execution_count": 35,
   "id": "a49fc6b9-ceef-498b-b56d-34bf628aeea4",
   "metadata": {},
   "outputs": [],
   "source": [
    "dummy =  DummyRegressor()\n",
    "dummy.fit(X_train, y_train['final.output.recovery'])\n",
    "pred = dummy.predict(X_train)\n",
    "dummy_final = smape(y_train['final.output.recovery'], pred)"
   ]
  },
  {
   "cell_type": "code",
   "execution_count": 36,
   "id": "22ca3581-1f91-4a1f-b8ce-789e464799fa",
   "metadata": {},
   "outputs": [
    {
     "data": {
      "text/plain": [
       "9.373715236773588"
      ]
     },
     "execution_count": 36,
     "metadata": {},
     "output_type": "execute_result"
    }
   ],
   "source": [
    "final_smape(dummy_rough, dummy_final)"
   ]
  },
  {
   "cell_type": "markdown",
   "id": "418754b0-ca60-4126-8b1f-0450a5bb1828",
   "metadata": {},
   "source": [
    "### Линейная регрессия"
   ]
  },
  {
   "cell_type": "code",
   "execution_count": 37,
   "id": "b2276293-839b-47ab-b9be-e8a8e0d13c06",
   "metadata": {},
   "outputs": [
    {
     "data": {
      "text/plain": [
       "-8.960687924262995"
      ]
     },
     "execution_count": 37,
     "metadata": {},
     "output_type": "execute_result"
    }
   ],
   "source": [
    "lr = LinearRegression()\n",
    "lr_rough = cross_val_score(lr, X_train, y_train['rougher.output.recovery'], cv=10, scoring=scorer).mean()\n",
    "lr_final = cross_val_score(lr, X_train, y_train['final.output.recovery'], cv=10, scoring=scorer).mean()\n",
    "final_smape(lr_rough, lr_final)"
   ]
  },
  {
   "cell_type": "markdown",
   "id": "af1f1869",
   "metadata": {},
   "source": [
    "### Дерево"
   ]
  },
  {
   "cell_type": "code",
   "execution_count": 38,
   "id": "8c74939a",
   "metadata": {},
   "outputs": [
    {
     "data": {
      "text/plain": [
       "''"
      ]
     },
     "execution_count": 38,
     "metadata": {},
     "output_type": "execute_result"
    }
   ],
   "source": [
    "'''parametrs = {'max_depth': range (5,13, 2)}\n",
    "dtr = DecisionTreeRegressor(random_state=42)\n",
    "grid_rough = GridSearchCV(dtr, parametrs, cv=3, n_jobs=-1, scoring = scorer)\n",
    "grid_rough.fit(X_train, y_train['rougher.output.recovery'])\n",
    "grid_rough.best_params_'''\n",
    "''"
   ]
  },
  {
   "cell_type": "code",
   "execution_count": 39,
   "id": "4de464ab",
   "metadata": {},
   "outputs": [
    {
     "data": {
      "text/plain": [
       "''"
      ]
     },
     "execution_count": 39,
     "metadata": {},
     "output_type": "execute_result"
    }
   ],
   "source": [
    "'''dtr = DecisionTreeRegressor(random_state=42)\n",
    "grid_final = GridSearchCV(dtr, parametrs, cv=3, n_jobs=-1, scoring = scorer)\n",
    "grid_final.fit(X_train, y_train['final.output.recovery'])\n",
    "grid_final.best_params_'''\n",
    "''"
   ]
  },
  {
   "cell_type": "code",
   "execution_count": 40,
   "id": "dfad0be0",
   "metadata": {},
   "outputs": [],
   "source": [
    "dtr_rough = DecisionTreeRegressor(max_depth=5, random_state=42)\n",
    "dtr_rough.fit(X_train, y_train['rougher.output.recovery'])\n",
    "pred_rough = dtr_rough.predict(X_train)\n",
    "smape_rough = smape(y_train['rougher.output.recovery'], pred_rough)"
   ]
  },
  {
   "cell_type": "code",
   "execution_count": 41,
   "id": "0552c904",
   "metadata": {},
   "outputs": [],
   "source": [
    "dtr_final = DecisionTreeRegressor(max_depth=5, random_state=42)\n",
    "dtr_final.fit(X_train, y_train['final.output.recovery'])\n",
    "pred_final = dtr_final.predict(X_train)\n",
    "smape_final = smape(y_train['final.output.recovery'], pred_final)"
   ]
  },
  {
   "cell_type": "code",
   "execution_count": 42,
   "id": "0b01efec",
   "metadata": {},
   "outputs": [
    {
     "data": {
      "text/plain": [
       "6.723233171127471"
      ]
     },
     "execution_count": 42,
     "metadata": {},
     "output_type": "execute_result"
    }
   ],
   "source": [
    "final_smape(smape_rough, smape_final)"
   ]
  },
  {
   "cell_type": "markdown",
   "id": "502fba91-199b-4281-973d-2ab14e091ecb",
   "metadata": {},
   "source": [
    "### Рандомный лес"
   ]
  },
  {
   "cell_type": "code",
   "execution_count": 43,
   "id": "cec92f2f-3281-4a36-9426-d03c30b2b726",
   "metadata": {},
   "outputs": [
    {
     "data": {
      "text/plain": [
       "''"
      ]
     },
     "execution_count": 43,
     "metadata": {},
     "output_type": "execute_result"
    }
   ],
   "source": [
    "parametrs = { 'n_estimators': range (50, 101, 10),\n",
    "              'max_depth': range (5,13, 2),\n",
    "            }\n",
    " \n",
    "'''rfr = RandomForestRegressor(random_state=42)\n",
    "grid_rough = GridSearchCV(rfr, parametrs, cv=3, n_jobs=-1, scoring = scorer)\n",
    "grid_rough.fit(X_train, y_train['rougher.output.recovery'])\n",
    "grid_rough.best_params_'''\n",
    "''"
   ]
  },
  {
   "cell_type": "code",
   "execution_count": 44,
   "id": "7bdfc8bb-1fdb-420c-b19e-9f02514c8108",
   "metadata": {},
   "outputs": [
    {
     "data": {
      "text/plain": [
       "''"
      ]
     },
     "execution_count": 44,
     "metadata": {},
     "output_type": "execute_result"
    }
   ],
   "source": [
    "'''rfr = RandomForestRegressor(random_state=42)\n",
    "grid_final = GridSearchCV(rfr, parametrs, cv=3, n_jobs=-1, scoring = scorer)\n",
    "grid_final.fit(X_train, y_train['final.output.recovery'])\n",
    "grid_final.best_params_'''\n",
    "''"
   ]
  },
  {
   "cell_type": "code",
   "execution_count": 45,
   "id": "b5e28d6e-8c33-4903-89b1-aff1c15db2ab",
   "metadata": {},
   "outputs": [],
   "source": [
    "rfr_rough = RandomForestRegressor(max_depth = 5, n_estimators = 70,  random_state=42)\n",
    "rfr_rough.fit(X_train, y_train['rougher.output.recovery'])\n",
    "pred_rough = rfr_rough.predict(X_train)\n",
    "smape_rough = smape(y_train['rougher.output.recovery'], pred_rough)"
   ]
  },
  {
   "cell_type": "code",
   "execution_count": 46,
   "id": "31ba3faf-3ee5-4539-a7cf-06ae62a95d4a",
   "metadata": {},
   "outputs": [],
   "source": [
    "rfr_final = RandomForestRegressor(max_depth = 5, n_estimators = 50,  random_state=42)\n",
    "rfr_final.fit(X_train, y_train['final.output.recovery'])\n",
    "pred_final = rfr_final.predict(X_train)\n",
    "smape_final = smape(y_train['final.output.recovery'], pred_final)"
   ]
  },
  {
   "cell_type": "code",
   "execution_count": 47,
   "id": "dde53efc-3d7c-40b5-bb78-6f8a83cb916c",
   "metadata": {},
   "outputs": [
    {
     "data": {
      "text/plain": [
       "6.4577076976887895"
      ]
     },
     "execution_count": 47,
     "metadata": {},
     "output_type": "execute_result"
    }
   ],
   "source": [
    "final_smape(smape_rough, smape_final)"
   ]
  },
  {
   "cell_type": "markdown",
   "id": "fe56883d",
   "metadata": {},
   "source": [
    "### Вывод"
   ]
  },
  {
   "cell_type": "markdown",
   "id": "11668c50",
   "metadata": {},
   "source": [
    "Лучше себя показывает модель рандомного леса с метрикой sMAPE 6.45%"
   ]
  },
  {
   "cell_type": "markdown",
   "id": "26d6ca60-75cd-482c-b9d9-bda58fa3473f",
   "metadata": {},
   "source": [
    "## Финальный тест"
   ]
  },
  {
   "cell_type": "code",
   "execution_count": 48,
   "id": "803e508a-b2ad-49af-b09f-2940ef8a2d93",
   "metadata": {},
   "outputs": [
    {
     "data": {
      "text/plain": [
       "9.376854584977487"
      ]
     },
     "execution_count": 48,
     "metadata": {},
     "output_type": "execute_result"
    }
   ],
   "source": [
    "pred_rough = rfr_rough.predict(X_test)\n",
    "smape_rough = smape(y_test['rougher.output.recovery'], pred_rough)\n",
    "pred_final  = rfr_final.predict(X_test)\n",
    "smape_final = smape(y_test['final.output.recovery'], pred_final)\n",
    "final_smape(smape_rough, smape_final)"
   ]
  },
  {
   "cell_type": "markdown",
   "id": "f3441076",
   "metadata": {},
   "source": [
    "## Вывод"
   ]
  },
  {
   "cell_type": "markdown",
   "id": "d3f35d11",
   "metadata": {},
   "source": [
    "Мы изучили данные, заменили в них пропуски, создали метрику для проверки модели, проверили правильность расчете целевого признака в данных, а так же распределение размеров гранул сырья и общую концентрацию веществ.  \n",
    "Построили модель для предсказания обработки золотой руды. Лучше всего себя показала модель случайного леса, с значением метрики sMAPE на тестовой выборке 9.37%"
   ]
  }
 ],
 "metadata": {
  "ExecuteTimeLog": [
   {
    "duration": 44,
    "start_time": "2022-05-14T08:06:26.613Z"
   },
   {
    "duration": 1685,
    "start_time": "2022-05-14T08:06:34.290Z"
   },
   {
    "duration": 692,
    "start_time": "2022-05-14T08:06:35.978Z"
   },
   {
    "duration": 3,
    "start_time": "2022-05-14T08:06:36.672Z"
   },
   {
    "duration": 2250,
    "start_time": "2022-05-14T08:06:36.677Z"
   },
   {
    "duration": 2275,
    "start_time": "2022-05-14T08:06:38.929Z"
   },
   {
    "duration": 1329,
    "start_time": "2022-05-14T08:06:41.206Z"
   },
   {
    "duration": 3,
    "start_time": "2022-05-14T08:06:42.537Z"
   },
   {
    "duration": 4,
    "start_time": "2022-05-14T08:06:42.541Z"
   },
   {
    "duration": 8,
    "start_time": "2022-05-14T08:06:42.563Z"
   },
   {
    "duration": 6,
    "start_time": "2022-05-14T08:06:42.574Z"
   },
   {
    "duration": 13,
    "start_time": "2022-05-14T08:06:42.582Z"
   },
   {
    "duration": 4,
    "start_time": "2022-05-14T08:06:42.597Z"
   },
   {
    "duration": 26976,
    "start_time": "2022-05-14T08:06:42.602Z"
   },
   {
    "duration": 3,
    "start_time": "2022-05-14T08:07:09.580Z"
   },
   {
    "duration": 186,
    "start_time": "2022-05-14T08:07:09.584Z"
   },
   {
    "duration": 143,
    "start_time": "2022-05-14T08:07:09.771Z"
   },
   {
    "duration": 152,
    "start_time": "2022-05-14T08:07:09.915Z"
   },
   {
    "duration": 152,
    "start_time": "2022-05-14T08:07:19.183Z"
   },
   {
    "duration": 150,
    "start_time": "2022-05-14T08:07:28.960Z"
   },
   {
    "duration": 246,
    "start_time": "2022-05-14T08:07:32.817Z"
   },
   {
    "duration": 170,
    "start_time": "2022-05-14T08:07:58.891Z"
   },
   {
    "duration": 174,
    "start_time": "2022-05-14T08:08:09.189Z"
   },
   {
    "duration": 162,
    "start_time": "2022-05-14T08:08:18.533Z"
   },
   {
    "duration": 248,
    "start_time": "2022-05-14T08:10:37.370Z"
   },
   {
    "duration": 144,
    "start_time": "2022-05-14T08:14:09.183Z"
   },
   {
    "duration": 130,
    "start_time": "2022-05-14T08:17:32.971Z"
   },
   {
    "duration": 3,
    "start_time": "2022-05-14T08:54:23.611Z"
   },
   {
    "duration": 4,
    "start_time": "2022-05-14T08:54:33.108Z"
   },
   {
    "duration": 131,
    "start_time": "2022-05-14T08:56:56.068Z"
   },
   {
    "duration": 125,
    "start_time": "2022-05-14T08:57:05.307Z"
   },
   {
    "duration": 12,
    "start_time": "2022-05-14T08:57:35.119Z"
   },
   {
    "duration": 14,
    "start_time": "2022-05-14T08:57:45.471Z"
   },
   {
    "duration": 12,
    "start_time": "2022-05-14T08:57:52.744Z"
   },
   {
    "duration": 10,
    "start_time": "2022-05-14T08:58:37.132Z"
   },
   {
    "duration": 70,
    "start_time": "2022-05-14T08:59:52.180Z"
   },
   {
    "duration": 12,
    "start_time": "2022-05-14T09:00:07.118Z"
   },
   {
    "duration": 12,
    "start_time": "2022-05-14T09:00:11.837Z"
   },
   {
    "duration": 7,
    "start_time": "2022-05-14T09:00:19.823Z"
   },
   {
    "duration": 12,
    "start_time": "2022-05-14T09:00:40.840Z"
   },
   {
    "duration": 9,
    "start_time": "2022-05-14T09:03:00.222Z"
   },
   {
    "duration": 10,
    "start_time": "2022-05-14T09:03:04.942Z"
   },
   {
    "duration": 16,
    "start_time": "2022-05-14T09:20:16.307Z"
   },
   {
    "duration": 16,
    "start_time": "2022-05-14T09:20:27.077Z"
   },
   {
    "duration": 16,
    "start_time": "2022-05-14T09:21:06.912Z"
   },
   {
    "duration": 17,
    "start_time": "2022-05-14T09:21:14.265Z"
   },
   {
    "duration": 15,
    "start_time": "2022-05-14T09:21:34.627Z"
   },
   {
    "duration": 3,
    "start_time": "2022-05-14T09:22:08.798Z"
   },
   {
    "duration": 14,
    "start_time": "2022-05-14T09:22:30.352Z"
   },
   {
    "duration": 13,
    "start_time": "2022-05-14T09:22:37.857Z"
   },
   {
    "duration": 14,
    "start_time": "2022-05-14T09:22:43.161Z"
   },
   {
    "duration": 13,
    "start_time": "2022-05-14T09:23:04.212Z"
   },
   {
    "duration": 140,
    "start_time": "2022-05-14T09:23:41.767Z"
   },
   {
    "duration": 171,
    "start_time": "2022-05-14T09:24:04.258Z"
   },
   {
    "duration": 14,
    "start_time": "2022-05-14T09:24:13.234Z"
   },
   {
    "duration": 136,
    "start_time": "2022-05-14T09:24:19.883Z"
   },
   {
    "duration": 1327,
    "start_time": "2022-05-14T09:24:24.859Z"
   },
   {
    "duration": 160,
    "start_time": "2022-05-14T09:24:32.204Z"
   },
   {
    "duration": 162,
    "start_time": "2022-05-14T09:25:05.960Z"
   },
   {
    "duration": 137,
    "start_time": "2022-05-14T09:25:18.137Z"
   },
   {
    "duration": 0,
    "start_time": "2022-05-14T09:26:07.972Z"
   },
   {
    "duration": 137,
    "start_time": "2022-05-14T09:26:12.238Z"
   },
   {
    "duration": 203,
    "start_time": "2022-05-14T09:27:42.767Z"
   },
   {
    "duration": 8,
    "start_time": "2022-05-14T09:27:48.231Z"
   },
   {
    "duration": 128,
    "start_time": "2022-05-14T09:27:52.456Z"
   },
   {
    "duration": 11,
    "start_time": "2022-05-14T09:27:57.319Z"
   },
   {
    "duration": 7,
    "start_time": "2022-05-14T09:29:03.039Z"
   },
   {
    "duration": 8,
    "start_time": "2022-05-14T09:29:18.896Z"
   },
   {
    "duration": 6,
    "start_time": "2022-05-14T09:29:31.610Z"
   },
   {
    "duration": 10,
    "start_time": "2022-05-14T09:29:34.794Z"
   },
   {
    "duration": 5,
    "start_time": "2022-05-14T09:30:52.529Z"
   },
   {
    "duration": 25,
    "start_time": "2022-05-14T09:31:01.186Z"
   },
   {
    "duration": 21,
    "start_time": "2022-05-14T09:31:55.520Z"
   },
   {
    "duration": 24,
    "start_time": "2022-05-14T09:32:00.073Z"
   },
   {
    "duration": 26,
    "start_time": "2022-05-14T09:33:06.926Z"
   },
   {
    "duration": 22,
    "start_time": "2022-05-14T09:33:22.224Z"
   },
   {
    "duration": 26,
    "start_time": "2022-05-14T09:33:27.632Z"
   },
   {
    "duration": 387,
    "start_time": "2022-05-14T09:33:37.354Z"
   },
   {
    "duration": 0,
    "start_time": "2022-05-14T09:34:59.668Z"
   },
   {
    "duration": 28,
    "start_time": "2022-05-14T09:35:01.193Z"
   },
   {
    "duration": 23,
    "start_time": "2022-05-14T09:35:37.734Z"
   },
   {
    "duration": 157,
    "start_time": "2022-05-14T09:38:28.453Z"
   },
   {
    "duration": 102,
    "start_time": "2022-05-14T09:38:33.686Z"
   },
   {
    "duration": 156,
    "start_time": "2022-05-14T09:38:49.736Z"
   },
   {
    "duration": 112,
    "start_time": "2022-05-14T09:38:52.800Z"
   },
   {
    "duration": 144,
    "start_time": "2022-05-14T09:39:49.349Z"
   },
   {
    "duration": 127,
    "start_time": "2022-05-14T09:40:17.425Z"
   },
   {
    "duration": 21,
    "start_time": "2022-05-14T09:42:25.941Z"
   },
   {
    "duration": 651,
    "start_time": "2022-05-14T09:42:54.311Z"
   },
   {
    "duration": 27,
    "start_time": "2022-05-14T09:43:42.333Z"
   },
   {
    "duration": 12,
    "start_time": "2022-05-14T09:43:48.302Z"
   },
   {
    "duration": 298,
    "start_time": "2022-05-14T09:43:53.910Z"
   },
   {
    "duration": 164,
    "start_time": "2022-05-14T09:44:59.829Z"
   },
   {
    "duration": 242,
    "start_time": "2022-05-14T09:45:11.190Z"
   },
   {
    "duration": 296,
    "start_time": "2022-05-14T09:45:24.366Z"
   },
   {
    "duration": 274,
    "start_time": "2022-05-14T09:45:37.048Z"
   },
   {
    "duration": 313,
    "start_time": "2022-05-14T09:46:01.452Z"
   },
   {
    "duration": 131,
    "start_time": "2022-05-14T09:46:21.940Z"
   },
   {
    "duration": 308,
    "start_time": "2022-05-14T09:46:24.941Z"
   },
   {
    "duration": 312,
    "start_time": "2022-05-14T09:46:30.406Z"
   },
   {
    "duration": 306,
    "start_time": "2022-05-14T09:46:36.406Z"
   },
   {
    "duration": 85,
    "start_time": "2022-05-14T09:50:34.341Z"
   },
   {
    "duration": 7,
    "start_time": "2022-05-14T09:50:42.734Z"
   },
   {
    "duration": 317,
    "start_time": "2022-05-14T09:51:01.311Z"
   },
   {
    "duration": 304,
    "start_time": "2022-05-14T09:51:48.925Z"
   },
   {
    "duration": 12,
    "start_time": "2022-05-14T09:51:52.268Z"
   },
   {
    "duration": 7,
    "start_time": "2022-05-14T09:51:58.901Z"
   },
   {
    "duration": 167,
    "start_time": "2022-05-14T09:52:02.542Z"
   },
   {
    "duration": 273,
    "start_time": "2022-05-14T09:52:13.766Z"
   },
   {
    "duration": 220,
    "start_time": "2022-05-14T09:52:29.481Z"
   },
   {
    "duration": 274,
    "start_time": "2022-05-14T09:52:36.634Z"
   },
   {
    "duration": 130,
    "start_time": "2022-05-14T09:52:46.082Z"
   },
   {
    "duration": 127,
    "start_time": "2022-05-14T09:52:48.146Z"
   },
   {
    "duration": 173,
    "start_time": "2022-05-14T09:52:56.194Z"
   },
   {
    "duration": 180,
    "start_time": "2022-05-14T09:53:01.315Z"
   },
   {
    "duration": 173,
    "start_time": "2022-05-14T09:53:05.219Z"
   },
   {
    "duration": 193,
    "start_time": "2022-05-14T09:53:09.036Z"
   },
   {
    "duration": 4,
    "start_time": "2022-05-14T10:00:09.813Z"
   },
   {
    "duration": 212,
    "start_time": "2022-05-14T10:00:47.969Z"
   },
   {
    "duration": 4,
    "start_time": "2022-05-14T10:00:48.848Z"
   },
   {
    "duration": 189,
    "start_time": "2022-05-14T10:03:25.897Z"
   },
   {
    "duration": 3,
    "start_time": "2022-05-14T10:03:26.312Z"
   },
   {
    "duration": 4,
    "start_time": "2022-05-14T10:03:29.456Z"
   },
   {
    "duration": 201,
    "start_time": "2022-05-14T10:03:30.040Z"
   },
   {
    "duration": 4,
    "start_time": "2022-05-14T10:03:30.320Z"
   },
   {
    "duration": 22,
    "start_time": "2022-05-14T10:03:50.458Z"
   },
   {
    "duration": 1539,
    "start_time": "2022-05-14T10:10:05.765Z"
   },
   {
    "duration": 784,
    "start_time": "2022-05-14T10:10:07.306Z"
   },
   {
    "duration": 4,
    "start_time": "2022-05-14T10:10:08.091Z"
   },
   {
    "duration": 2266,
    "start_time": "2022-05-14T10:10:08.097Z"
   },
   {
    "duration": 2245,
    "start_time": "2022-05-14T10:10:10.365Z"
   },
   {
    "duration": 1323,
    "start_time": "2022-05-14T10:10:12.611Z"
   },
   {
    "duration": 3,
    "start_time": "2022-05-14T10:10:13.935Z"
   },
   {
    "duration": 6,
    "start_time": "2022-05-14T10:10:13.939Z"
   },
   {
    "duration": 21,
    "start_time": "2022-05-14T10:10:13.947Z"
   },
   {
    "duration": 6,
    "start_time": "2022-05-14T10:10:13.970Z"
   },
   {
    "duration": 14,
    "start_time": "2022-05-14T10:10:13.978Z"
   },
   {
    "duration": 3,
    "start_time": "2022-05-14T10:10:13.994Z"
   },
   {
    "duration": 33478,
    "start_time": "2022-05-14T10:10:13.999Z"
   },
   {
    "duration": 4,
    "start_time": "2022-05-14T10:10:47.479Z"
   },
   {
    "duration": 194,
    "start_time": "2022-05-14T10:10:47.485Z"
   },
   {
    "duration": 145,
    "start_time": "2022-05-14T10:10:47.681Z"
   },
   {
    "duration": 228,
    "start_time": "2022-05-14T10:10:47.828Z"
   },
   {
    "duration": 282,
    "start_time": "2022-05-14T10:10:48.058Z"
   },
   {
    "duration": 448,
    "start_time": "2022-05-14T10:10:48.343Z"
   },
   {
    "duration": 321,
    "start_time": "2022-05-14T10:10:48.793Z"
   },
   {
    "duration": 5,
    "start_time": "2022-05-14T10:10:49.116Z"
   },
   {
    "duration": 298,
    "start_time": "2022-05-14T10:10:49.123Z"
   },
   {
    "duration": 4,
    "start_time": "2022-05-14T10:10:49.424Z"
   },
   {
    "duration": 4,
    "start_time": "2022-05-14T10:11:13.454Z"
   },
   {
    "duration": 85,
    "start_time": "2022-05-14T10:11:14.094Z"
   },
   {
    "duration": 4,
    "start_time": "2022-05-14T10:11:14.509Z"
   },
   {
    "duration": 3,
    "start_time": "2022-05-14T10:11:21.396Z"
   },
   {
    "duration": 80,
    "start_time": "2022-05-14T10:12:11.067Z"
   },
   {
    "duration": 4,
    "start_time": "2022-05-14T10:12:12.259Z"
   },
   {
    "duration": 86,
    "start_time": "2022-05-14T10:12:17.924Z"
   },
   {
    "duration": 4,
    "start_time": "2022-05-14T10:12:18.507Z"
   },
   {
    "duration": 179,
    "start_time": "2022-05-14T10:14:41.914Z"
   },
   {
    "duration": 12,
    "start_time": "2022-05-14T10:15:29.366Z"
   },
   {
    "duration": 3,
    "start_time": "2022-05-14T10:15:41.992Z"
   },
   {
    "duration": 4,
    "start_time": "2022-05-14T10:16:39.373Z"
   },
   {
    "duration": 5,
    "start_time": "2022-05-14T10:17:08.808Z"
   },
   {
    "duration": 3,
    "start_time": "2022-05-14T10:17:59.918Z"
   },
   {
    "duration": 3,
    "start_time": "2022-05-14T10:19:13.109Z"
   },
   {
    "duration": 7,
    "start_time": "2022-05-14T10:19:17.428Z"
   },
   {
    "duration": 5,
    "start_time": "2022-05-14T10:19:46.496Z"
   },
   {
    "duration": 6,
    "start_time": "2022-05-14T10:19:52.815Z"
   },
   {
    "duration": 5,
    "start_time": "2022-05-14T10:20:09.842Z"
   },
   {
    "duration": 164,
    "start_time": "2022-05-14T10:20:57.182Z"
   },
   {
    "duration": 17,
    "start_time": "2022-05-14T10:21:05.383Z"
   },
   {
    "duration": 16,
    "start_time": "2022-05-14T10:21:16.681Z"
   },
   {
    "duration": 7,
    "start_time": "2022-05-14T10:21:28.625Z"
   },
   {
    "duration": 16,
    "start_time": "2022-05-14T10:21:39.242Z"
   },
   {
    "duration": 7,
    "start_time": "2022-05-14T10:21:43.043Z"
   },
   {
    "duration": 28,
    "start_time": "2022-05-14T10:22:15.973Z"
   },
   {
    "duration": 4,
    "start_time": "2022-05-14T10:22:16.429Z"
   },
   {
    "duration": 687,
    "start_time": "2022-05-14T10:46:54.182Z"
   },
   {
    "duration": 340,
    "start_time": "2022-05-14T10:47:49.699Z"
   },
   {
    "duration": 315,
    "start_time": "2022-05-14T10:47:51.912Z"
   },
   {
    "duration": 4,
    "start_time": "2022-05-14T10:47:56.004Z"
   },
   {
    "duration": 5,
    "start_time": "2022-05-14T10:47:57.404Z"
   },
   {
    "duration": 29,
    "start_time": "2022-05-14T10:47:58.683Z"
   },
   {
    "duration": 4,
    "start_time": "2022-05-14T10:47:59.100Z"
   },
   {
    "duration": 4,
    "start_time": "2022-05-14T10:48:16.398Z"
   },
   {
    "duration": 41,
    "start_time": "2022-05-14T10:48:28.248Z"
   },
   {
    "duration": 5,
    "start_time": "2022-05-14T10:48:28.655Z"
   },
   {
    "duration": 7,
    "start_time": "2022-05-14T10:48:31.488Z"
   },
   {
    "duration": 44,
    "start_time": "2022-05-14T10:48:32.056Z"
   },
   {
    "duration": 4,
    "start_time": "2022-05-14T10:48:32.472Z"
   },
   {
    "duration": 47,
    "start_time": "2022-05-16T08:33:53.096Z"
   },
   {
    "duration": 1554,
    "start_time": "2022-05-16T08:33:57.531Z"
   },
   {
    "duration": 654,
    "start_time": "2022-05-16T08:33:59.087Z"
   },
   {
    "duration": 4,
    "start_time": "2022-05-16T08:33:59.742Z"
   },
   {
    "duration": 2379,
    "start_time": "2022-05-16T08:33:59.748Z"
   },
   {
    "duration": 2425,
    "start_time": "2022-05-16T08:34:02.128Z"
   },
   {
    "duration": 1401,
    "start_time": "2022-05-16T08:34:04.555Z"
   },
   {
    "duration": 2,
    "start_time": "2022-05-16T08:34:05.958Z"
   },
   {
    "duration": 7,
    "start_time": "2022-05-16T08:34:05.962Z"
   },
   {
    "duration": 21,
    "start_time": "2022-05-16T08:34:05.971Z"
   },
   {
    "duration": 7,
    "start_time": "2022-05-16T08:34:05.994Z"
   },
   {
    "duration": 17,
    "start_time": "2022-05-16T08:34:06.003Z"
   },
   {
    "duration": 3,
    "start_time": "2022-05-16T08:34:06.022Z"
   },
   {
    "duration": 46094,
    "start_time": "2022-05-16T08:34:06.027Z"
   },
   {
    "duration": 3,
    "start_time": "2022-05-16T08:34:52.123Z"
   },
   {
    "duration": 201,
    "start_time": "2022-05-16T08:34:52.128Z"
   },
   {
    "duration": 164,
    "start_time": "2022-05-16T08:34:52.331Z"
   },
   {
    "duration": 165,
    "start_time": "2022-05-16T08:34:52.496Z"
   },
   {
    "duration": 196,
    "start_time": "2022-05-16T08:34:52.663Z"
   },
   {
    "duration": 361,
    "start_time": "2022-05-16T08:34:52.860Z"
   },
   {
    "duration": 312,
    "start_time": "2022-05-16T08:34:53.222Z"
   },
   {
    "duration": 12,
    "start_time": "2022-05-16T08:34:53.536Z"
   },
   {
    "duration": 105,
    "start_time": "2022-05-16T08:35:26.505Z"
   },
   {
    "duration": 13,
    "start_time": "2022-05-16T08:35:29.960Z"
   },
   {
    "duration": 13,
    "start_time": "2022-05-16T08:35:43.826Z"
   },
   {
    "duration": 75,
    "start_time": "2022-05-16T08:35:48.146Z"
   },
   {
    "duration": 15,
    "start_time": "2022-05-16T08:35:55.011Z"
   },
   {
    "duration": 128,
    "start_time": "2022-05-16T08:36:06.724Z"
   },
   {
    "duration": 146,
    "start_time": "2022-05-16T08:36:09.604Z"
   },
   {
    "duration": 13,
    "start_time": "2022-05-16T08:36:13.116Z"
   },
   {
    "duration": 14,
    "start_time": "2022-05-16T08:36:15.380Z"
   },
   {
    "duration": 14,
    "start_time": "2022-05-16T08:36:24.772Z"
   },
   {
    "duration": 7,
    "start_time": "2022-05-16T08:36:37.294Z"
   },
   {
    "duration": 19,
    "start_time": "2022-05-16T08:37:44.165Z"
   },
   {
    "duration": 349,
    "start_time": "2022-05-16T08:37:52.853Z"
   },
   {
    "duration": 11,
    "start_time": "2022-05-16T08:38:11.516Z"
   },
   {
    "duration": 11,
    "start_time": "2022-05-16T08:38:33.834Z"
   },
   {
    "duration": 13,
    "start_time": "2022-05-16T08:38:40.459Z"
   },
   {
    "duration": 11,
    "start_time": "2022-05-16T08:39:00.805Z"
   },
   {
    "duration": 10,
    "start_time": "2022-05-16T08:39:17.430Z"
   },
   {
    "duration": 11,
    "start_time": "2022-05-16T08:39:26.567Z"
   },
   {
    "duration": 5204,
    "start_time": "2022-05-16T08:41:26.691Z"
   },
   {
    "duration": 23,
    "start_time": "2022-05-16T08:46:55.756Z"
   },
   {
    "duration": 28,
    "start_time": "2022-05-16T08:47:19.150Z"
   },
   {
    "duration": 10,
    "start_time": "2022-05-16T08:47:32.007Z"
   },
   {
    "duration": 4,
    "start_time": "2022-05-16T08:47:34.983Z"
   },
   {
    "duration": 5,
    "start_time": "2022-05-16T08:47:42.649Z"
   },
   {
    "duration": 28,
    "start_time": "2022-05-16T09:01:29.538Z"
   },
   {
    "duration": 351,
    "start_time": "2022-05-16T09:03:05.755Z"
   },
   {
    "duration": 334,
    "start_time": "2022-05-16T09:03:18.828Z"
   },
   {
    "duration": 902,
    "start_time": "2022-05-16T09:03:41.007Z"
   },
   {
    "duration": 740,
    "start_time": "2022-05-16T09:03:48.424Z"
   },
   {
    "duration": 304,
    "start_time": "2022-05-16T09:03:56.392Z"
   },
   {
    "duration": 485,
    "start_time": "2022-05-16T09:04:00.441Z"
   },
   {
    "duration": 18,
    "start_time": "2022-05-16T09:04:40.101Z"
   },
   {
    "duration": 16,
    "start_time": "2022-05-16T09:04:45.741Z"
   },
   {
    "duration": 9,
    "start_time": "2022-05-16T09:05:24.697Z"
   },
   {
    "duration": 25,
    "start_time": "2022-05-16T09:05:26.358Z"
   },
   {
    "duration": 24,
    "start_time": "2022-05-16T09:07:27.564Z"
   },
   {
    "duration": 354,
    "start_time": "2022-05-16T09:07:30.109Z"
   },
   {
    "duration": 4,
    "start_time": "2022-05-16T09:07:34.870Z"
   },
   {
    "duration": 343,
    "start_time": "2022-05-16T09:10:10.085Z"
   },
   {
    "duration": 17,
    "start_time": "2022-05-16T09:10:13.421Z"
   },
   {
    "duration": 342,
    "start_time": "2022-05-16T09:10:14.031Z"
   },
   {
    "duration": 4,
    "start_time": "2022-05-16T09:10:31.423Z"
   },
   {
    "duration": 3,
    "start_time": "2022-05-16T09:10:40.304Z"
   },
   {
    "duration": 1352,
    "start_time": "2022-05-16T09:10:50.940Z"
   },
   {
    "duration": 693,
    "start_time": "2022-05-16T09:10:52.294Z"
   },
   {
    "duration": 4,
    "start_time": "2022-05-16T09:10:52.988Z"
   },
   {
    "duration": 2322,
    "start_time": "2022-05-16T09:10:52.994Z"
   },
   {
    "duration": 2427,
    "start_time": "2022-05-16T09:10:55.317Z"
   },
   {
    "duration": 1461,
    "start_time": "2022-05-16T09:10:57.746Z"
   },
   {
    "duration": 2,
    "start_time": "2022-05-16T09:10:59.209Z"
   },
   {
    "duration": 6,
    "start_time": "2022-05-16T09:10:59.213Z"
   },
   {
    "duration": 11,
    "start_time": "2022-05-16T09:10:59.221Z"
   },
   {
    "duration": 7,
    "start_time": "2022-05-16T09:10:59.234Z"
   },
   {
    "duration": 20,
    "start_time": "2022-05-16T09:10:59.243Z"
   },
   {
    "duration": 3,
    "start_time": "2022-05-16T09:10:59.265Z"
   },
   {
    "duration": 36154,
    "start_time": "2022-05-16T09:10:59.288Z"
   },
   {
    "duration": 3,
    "start_time": "2022-05-16T09:11:35.444Z"
   },
   {
    "duration": 191,
    "start_time": "2022-05-16T09:11:35.449Z"
   },
   {
    "duration": 167,
    "start_time": "2022-05-16T09:11:35.641Z"
   },
   {
    "duration": 162,
    "start_time": "2022-05-16T09:11:35.809Z"
   },
   {
    "duration": 183,
    "start_time": "2022-05-16T09:11:35.973Z"
   },
   {
    "duration": 343,
    "start_time": "2022-05-16T09:11:36.158Z"
   },
   {
    "duration": 314,
    "start_time": "2022-05-16T09:11:36.502Z"
   },
   {
    "duration": 3,
    "start_time": "2022-05-16T09:11:36.818Z"
   },
   {
    "duration": 20,
    "start_time": "2022-05-16T09:11:36.822Z"
   },
   {
    "duration": 368,
    "start_time": "2022-05-16T09:11:36.844Z"
   },
   {
    "duration": 5,
    "start_time": "2022-05-16T09:11:37.213Z"
   },
   {
    "duration": 26,
    "start_time": "2022-05-16T09:12:19.689Z"
   },
   {
    "duration": 4,
    "start_time": "2022-05-16T09:13:06.957Z"
   },
   {
    "duration": 6,
    "start_time": "2022-05-16T09:13:06.963Z"
   },
   {
    "duration": 9,
    "start_time": "2022-05-16T09:13:06.970Z"
   },
   {
    "duration": 13,
    "start_time": "2022-05-16T09:13:06.981Z"
   },
   {
    "duration": 8,
    "start_time": "2022-05-16T09:13:06.996Z"
   },
   {
    "duration": 8,
    "start_time": "2022-05-16T09:13:07.006Z"
   },
   {
    "duration": 112,
    "start_time": "2022-05-16T09:13:07.016Z"
   },
   {
    "duration": 0,
    "start_time": "2022-05-16T09:13:07.130Z"
   },
   {
    "duration": 0,
    "start_time": "2022-05-16T09:13:07.131Z"
   },
   {
    "duration": 0,
    "start_time": "2022-05-16T09:13:07.132Z"
   },
   {
    "duration": 0,
    "start_time": "2022-05-16T09:13:07.133Z"
   },
   {
    "duration": 0,
    "start_time": "2022-05-16T09:13:07.133Z"
   },
   {
    "duration": 0,
    "start_time": "2022-05-16T09:13:07.135Z"
   },
   {
    "duration": 0,
    "start_time": "2022-05-16T09:13:07.135Z"
   },
   {
    "duration": 0,
    "start_time": "2022-05-16T09:13:07.136Z"
   },
   {
    "duration": 0,
    "start_time": "2022-05-16T09:13:07.137Z"
   },
   {
    "duration": 0,
    "start_time": "2022-05-16T09:13:07.138Z"
   },
   {
    "duration": 0,
    "start_time": "2022-05-16T09:13:07.139Z"
   },
   {
    "duration": 0,
    "start_time": "2022-05-16T09:13:07.140Z"
   },
   {
    "duration": 0,
    "start_time": "2022-05-16T09:13:07.141Z"
   },
   {
    "duration": 0,
    "start_time": "2022-05-16T09:13:07.142Z"
   },
   {
    "duration": 0,
    "start_time": "2022-05-16T09:13:07.143Z"
   },
   {
    "duration": 2,
    "start_time": "2022-05-16T09:13:28.966Z"
   },
   {
    "duration": 11,
    "start_time": "2022-05-16T09:13:28.970Z"
   },
   {
    "duration": 8,
    "start_time": "2022-05-16T09:13:28.983Z"
   },
   {
    "duration": 8,
    "start_time": "2022-05-16T09:13:28.994Z"
   },
   {
    "duration": 5790,
    "start_time": "2022-05-16T09:13:29.003Z"
   },
   {
    "duration": 4,
    "start_time": "2022-05-16T09:13:34.795Z"
   },
   {
    "duration": 88,
    "start_time": "2022-05-16T09:13:34.801Z"
   },
   {
    "duration": 358,
    "start_time": "2022-05-16T09:13:34.891Z"
   },
   {
    "duration": 325,
    "start_time": "2022-05-16T09:13:35.250Z"
   },
   {
    "duration": 4,
    "start_time": "2022-05-16T09:13:35.577Z"
   },
   {
    "duration": 7,
    "start_time": "2022-05-16T09:13:35.583Z"
   },
   {
    "duration": 6,
    "start_time": "2022-05-16T09:13:35.591Z"
   },
   {
    "duration": 13140,
    "start_time": "2022-05-16T09:13:35.599Z"
   },
   {
    "duration": 9529,
    "start_time": "2022-05-16T09:13:48.741Z"
   },
   {
    "duration": 3,
    "start_time": "2022-05-16T09:13:58.272Z"
   },
   {
    "duration": 41,
    "start_time": "2022-05-16T09:13:58.277Z"
   },
   {
    "duration": 50,
    "start_time": "2022-05-16T09:21:03.409Z"
   },
   {
    "duration": 2030,
    "start_time": "2022-05-16T09:21:05.121Z"
   },
   {
    "duration": 18943,
    "start_time": "2022-05-16T09:21:42.665Z"
   },
   {
    "duration": 1700,
    "start_time": "2022-05-16T09:22:17.027Z"
   },
   {
    "duration": 5358,
    "start_time": "2022-05-16T09:22:46.007Z"
   },
   {
    "duration": 13,
    "start_time": "2022-05-16T09:23:02.613Z"
   },
   {
    "duration": 3,
    "start_time": "2022-05-16T09:23:20.311Z"
   },
   {
    "duration": 1339,
    "start_time": "2022-05-16T09:33:58.649Z"
   },
   {
    "duration": 722,
    "start_time": "2022-05-16T09:33:59.990Z"
   },
   {
    "duration": 5,
    "start_time": "2022-05-16T09:34:00.714Z"
   },
   {
    "duration": 2397,
    "start_time": "2022-05-16T09:34:00.721Z"
   },
   {
    "duration": 2391,
    "start_time": "2022-05-16T09:34:03.119Z"
   },
   {
    "duration": 1462,
    "start_time": "2022-05-16T09:34:05.511Z"
   },
   {
    "duration": 2,
    "start_time": "2022-05-16T09:34:06.975Z"
   },
   {
    "duration": 3,
    "start_time": "2022-05-16T09:34:06.987Z"
   },
   {
    "duration": 15,
    "start_time": "2022-05-16T09:34:06.992Z"
   },
   {
    "duration": 7,
    "start_time": "2022-05-16T09:34:07.010Z"
   },
   {
    "duration": 18,
    "start_time": "2022-05-16T09:34:07.018Z"
   },
   {
    "duration": 4,
    "start_time": "2022-05-16T09:34:07.037Z"
   },
   {
    "duration": 37782,
    "start_time": "2022-05-16T09:34:07.042Z"
   },
   {
    "duration": 0,
    "start_time": "2022-05-16T09:34:44.826Z"
   },
   {
    "duration": 0,
    "start_time": "2022-05-16T09:34:44.827Z"
   },
   {
    "duration": 0,
    "start_time": "2022-05-16T09:34:44.828Z"
   },
   {
    "duration": 0,
    "start_time": "2022-05-16T09:34:44.829Z"
   },
   {
    "duration": 0,
    "start_time": "2022-05-16T09:34:44.830Z"
   },
   {
    "duration": 0,
    "start_time": "2022-05-16T09:34:44.831Z"
   },
   {
    "duration": 0,
    "start_time": "2022-05-16T09:34:44.832Z"
   },
   {
    "duration": 0,
    "start_time": "2022-05-16T09:34:44.833Z"
   },
   {
    "duration": 0,
    "start_time": "2022-05-16T09:34:44.834Z"
   },
   {
    "duration": 0,
    "start_time": "2022-05-16T09:34:44.835Z"
   },
   {
    "duration": 0,
    "start_time": "2022-05-16T09:34:44.836Z"
   },
   {
    "duration": 0,
    "start_time": "2022-05-16T09:34:44.837Z"
   },
   {
    "duration": 0,
    "start_time": "2022-05-16T09:34:44.838Z"
   },
   {
    "duration": 0,
    "start_time": "2022-05-16T09:34:44.839Z"
   },
   {
    "duration": 0,
    "start_time": "2022-05-16T09:34:44.840Z"
   },
   {
    "duration": 0,
    "start_time": "2022-05-16T09:34:44.841Z"
   },
   {
    "duration": 0,
    "start_time": "2022-05-16T09:34:44.842Z"
   },
   {
    "duration": 0,
    "start_time": "2022-05-16T09:34:44.843Z"
   },
   {
    "duration": 0,
    "start_time": "2022-05-16T09:34:44.844Z"
   },
   {
    "duration": 0,
    "start_time": "2022-05-16T09:34:44.845Z"
   },
   {
    "duration": 0,
    "start_time": "2022-05-16T09:34:44.846Z"
   },
   {
    "duration": 0,
    "start_time": "2022-05-16T09:34:44.847Z"
   },
   {
    "duration": 0,
    "start_time": "2022-05-16T09:34:44.848Z"
   },
   {
    "duration": 0,
    "start_time": "2022-05-16T09:34:44.849Z"
   },
   {
    "duration": 0,
    "start_time": "2022-05-16T09:34:44.850Z"
   },
   {
    "duration": 0,
    "start_time": "2022-05-16T09:34:44.851Z"
   },
   {
    "duration": 0,
    "start_time": "2022-05-16T09:34:44.852Z"
   },
   {
    "duration": 0,
    "start_time": "2022-05-16T09:34:44.853Z"
   },
   {
    "duration": 0,
    "start_time": "2022-05-16T09:34:44.854Z"
   },
   {
    "duration": 0,
    "start_time": "2022-05-16T09:34:44.855Z"
   },
   {
    "duration": 0,
    "start_time": "2022-05-16T09:34:44.856Z"
   },
   {
    "duration": 0,
    "start_time": "2022-05-16T09:34:44.857Z"
   },
   {
    "duration": 0,
    "start_time": "2022-05-16T09:34:44.859Z"
   },
   {
    "duration": 1430,
    "start_time": "2022-05-16T09:36:09.404Z"
   },
   {
    "duration": 0,
    "start_time": "2022-05-16T09:36:14.483Z"
   },
   {
    "duration": 0,
    "start_time": "2022-05-16T09:36:14.485Z"
   },
   {
    "duration": 1,
    "start_time": "2022-05-16T09:36:14.485Z"
   },
   {
    "duration": 0,
    "start_time": "2022-05-16T09:36:14.487Z"
   },
   {
    "duration": 0,
    "start_time": "2022-05-16T09:36:14.488Z"
   },
   {
    "duration": 0,
    "start_time": "2022-05-16T09:36:14.489Z"
   },
   {
    "duration": 0,
    "start_time": "2022-05-16T09:36:14.490Z"
   },
   {
    "duration": 0,
    "start_time": "2022-05-16T09:36:14.491Z"
   },
   {
    "duration": 0,
    "start_time": "2022-05-16T09:36:14.492Z"
   },
   {
    "duration": 0,
    "start_time": "2022-05-16T09:36:14.493Z"
   },
   {
    "duration": 1,
    "start_time": "2022-05-16T09:36:14.493Z"
   },
   {
    "duration": 0,
    "start_time": "2022-05-16T09:36:14.494Z"
   },
   {
    "duration": 0,
    "start_time": "2022-05-16T09:36:14.496Z"
   },
   {
    "duration": 0,
    "start_time": "2022-05-16T09:36:14.496Z"
   },
   {
    "duration": 0,
    "start_time": "2022-05-16T09:36:14.497Z"
   },
   {
    "duration": 0,
    "start_time": "2022-05-16T09:36:14.499Z"
   },
   {
    "duration": 0,
    "start_time": "2022-05-16T09:36:14.499Z"
   },
   {
    "duration": 0,
    "start_time": "2022-05-16T09:36:14.500Z"
   },
   {
    "duration": 0,
    "start_time": "2022-05-16T09:36:14.501Z"
   },
   {
    "duration": 0,
    "start_time": "2022-05-16T09:36:14.503Z"
   },
   {
    "duration": 0,
    "start_time": "2022-05-16T09:36:14.504Z"
   },
   {
    "duration": 0,
    "start_time": "2022-05-16T09:36:14.505Z"
   },
   {
    "duration": 0,
    "start_time": "2022-05-16T09:36:14.506Z"
   },
   {
    "duration": 0,
    "start_time": "2022-05-16T09:36:14.507Z"
   },
   {
    "duration": 0,
    "start_time": "2022-05-16T09:36:14.508Z"
   },
   {
    "duration": 0,
    "start_time": "2022-05-16T09:36:14.509Z"
   },
   {
    "duration": 0,
    "start_time": "2022-05-16T09:36:14.510Z"
   },
   {
    "duration": 0,
    "start_time": "2022-05-16T09:36:14.511Z"
   },
   {
    "duration": 0,
    "start_time": "2022-05-16T09:36:14.512Z"
   },
   {
    "duration": 0,
    "start_time": "2022-05-16T09:36:14.513Z"
   },
   {
    "duration": 0,
    "start_time": "2022-05-16T09:36:14.514Z"
   },
   {
    "duration": 0,
    "start_time": "2022-05-16T09:36:14.515Z"
   },
   {
    "duration": 0,
    "start_time": "2022-05-16T09:36:14.516Z"
   },
   {
    "duration": 0,
    "start_time": "2022-05-16T09:36:14.517Z"
   },
   {
    "duration": 0,
    "start_time": "2022-05-16T09:36:14.518Z"
   },
   {
    "duration": 0,
    "start_time": "2022-05-16T09:36:14.520Z"
   },
   {
    "duration": 0,
    "start_time": "2022-05-16T09:36:14.521Z"
   },
   {
    "duration": 0,
    "start_time": "2022-05-16T09:36:14.522Z"
   },
   {
    "duration": 0,
    "start_time": "2022-05-16T09:36:14.522Z"
   },
   {
    "duration": 0,
    "start_time": "2022-05-16T09:36:14.523Z"
   },
   {
    "duration": 0,
    "start_time": "2022-05-16T09:36:14.524Z"
   },
   {
    "duration": 0,
    "start_time": "2022-05-16T09:36:14.525Z"
   },
   {
    "duration": 0,
    "start_time": "2022-05-16T09:36:14.526Z"
   },
   {
    "duration": 0,
    "start_time": "2022-05-16T09:36:14.527Z"
   },
   {
    "duration": 0,
    "start_time": "2022-05-16T09:36:14.528Z"
   },
   {
    "duration": 0,
    "start_time": "2022-05-16T09:36:14.528Z"
   },
   {
    "duration": 4,
    "start_time": "2022-05-16T09:36:29.871Z"
   },
   {
    "duration": 692,
    "start_time": "2022-05-16T09:36:29.877Z"
   },
   {
    "duration": 5,
    "start_time": "2022-05-16T09:36:30.571Z"
   },
   {
    "duration": 2402,
    "start_time": "2022-05-16T09:36:30.579Z"
   },
   {
    "duration": 2372,
    "start_time": "2022-05-16T09:36:32.983Z"
   },
   {
    "duration": 1417,
    "start_time": "2022-05-16T09:36:35.357Z"
   },
   {
    "duration": 12,
    "start_time": "2022-05-16T09:36:36.776Z"
   },
   {
    "duration": 7,
    "start_time": "2022-05-16T09:36:36.790Z"
   },
   {
    "duration": 9,
    "start_time": "2022-05-16T09:36:36.799Z"
   },
   {
    "duration": 6,
    "start_time": "2022-05-16T09:36:36.810Z"
   },
   {
    "duration": 17,
    "start_time": "2022-05-16T09:36:36.818Z"
   },
   {
    "duration": 4,
    "start_time": "2022-05-16T09:36:36.836Z"
   },
   {
    "duration": 40325,
    "start_time": "2022-05-16T09:36:36.841Z"
   },
   {
    "duration": 4,
    "start_time": "2022-05-16T09:37:17.167Z"
   },
   {
    "duration": 202,
    "start_time": "2022-05-16T09:37:17.173Z"
   },
   {
    "duration": 162,
    "start_time": "2022-05-16T09:37:17.376Z"
   },
   {
    "duration": 157,
    "start_time": "2022-05-16T09:37:17.540Z"
   },
   {
    "duration": 190,
    "start_time": "2022-05-16T09:37:17.699Z"
   },
   {
    "duration": 467,
    "start_time": "2022-05-16T09:37:17.891Z"
   },
   {
    "duration": 196,
    "start_time": "2022-05-16T09:37:18.360Z"
   },
   {
    "duration": 4,
    "start_time": "2022-05-16T09:37:18.558Z"
   },
   {
    "duration": 44,
    "start_time": "2022-05-16T09:37:18.563Z"
   },
   {
    "duration": 358,
    "start_time": "2022-05-16T09:37:18.609Z"
   },
   {
    "duration": 4,
    "start_time": "2022-05-16T09:37:18.970Z"
   },
   {
    "duration": 13,
    "start_time": "2022-05-16T09:37:18.975Z"
   },
   {
    "duration": 6,
    "start_time": "2022-05-16T09:37:18.989Z"
   },
   {
    "duration": 5,
    "start_time": "2022-05-16T09:37:18.997Z"
   },
   {
    "duration": 9,
    "start_time": "2022-05-16T09:37:19.003Z"
   },
   {
    "duration": 8,
    "start_time": "2022-05-16T09:37:19.013Z"
   },
   {
    "duration": 10,
    "start_time": "2022-05-16T09:37:19.022Z"
   },
   {
    "duration": 5,
    "start_time": "2022-05-16T09:37:19.033Z"
   },
   {
    "duration": 8,
    "start_time": "2022-05-16T09:37:19.039Z"
   },
   {
    "duration": 5,
    "start_time": "2022-05-16T09:37:19.049Z"
   },
   {
    "duration": 5,
    "start_time": "2022-05-16T09:37:19.055Z"
   },
   {
    "duration": 5330,
    "start_time": "2022-05-16T09:37:19.061Z"
   },
   {
    "duration": 95,
    "start_time": "2022-05-16T09:37:24.394Z"
   },
   {
    "duration": 14,
    "start_time": "2022-05-16T09:37:24.491Z"
   },
   {
    "duration": 360,
    "start_time": "2022-05-16T09:37:24.507Z"
   },
   {
    "duration": 346,
    "start_time": "2022-05-16T09:37:24.869Z"
   },
   {
    "duration": 5,
    "start_time": "2022-05-16T09:37:25.218Z"
   },
   {
    "duration": 29,
    "start_time": "2022-05-16T09:37:25.225Z"
   },
   {
    "duration": 15,
    "start_time": "2022-05-16T09:37:25.256Z"
   },
   {
    "duration": 14404,
    "start_time": "2022-05-16T09:37:25.273Z"
   },
   {
    "duration": 10557,
    "start_time": "2022-05-16T09:37:39.680Z"
   },
   {
    "duration": 4,
    "start_time": "2022-05-16T09:37:50.239Z"
   },
   {
    "duration": 44,
    "start_time": "2022-05-16T09:37:50.245Z"
   }
  ],
  "kernelspec": {
   "display_name": "Python 3 (ipykernel)",
   "language": "python",
   "name": "python3"
  },
  "language_info": {
   "codemirror_mode": {
    "name": "ipython",
    "version": 3
   },
   "file_extension": ".py",
   "mimetype": "text/x-python",
   "name": "python",
   "nbconvert_exporter": "python",
   "pygments_lexer": "ipython3",
   "version": "3.9.7"
  },
  "toc": {
   "base_numbering": 1,
   "nav_menu": {},
   "number_sections": true,
   "sideBar": true,
   "skip_h1_title": true,
   "title_cell": "Содержание",
   "title_sidebar": "Contents",
   "toc_cell": true,
   "toc_position": {
    "height": "calc(100% - 180px)",
    "left": "10px",
    "top": "150px",
    "width": "332px"
   },
   "toc_section_display": true,
   "toc_window_display": true
  }
 },
 "nbformat": 4,
 "nbformat_minor": 5
}
