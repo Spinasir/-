{
 "cells": [
  {
   "cell_type": "code",
   "execution_count": 1,
   "id": "f6ddf490",
   "metadata": {
    "colab": {
     "base_uri": "https://localhost:8080/"
    },
    "id": "f6ddf490",
    "outputId": "53557997-9425-4fba-ea22-ce96d627cddb"
   },
   "outputs": [],
   "source": [
    "#! pip install catboost\n",
    "#! pip install lightgbm"
   ]
  },
  {
   "cell_type": "markdown",
   "id": "56222182",
   "metadata": {
    "id": "56222182",
    "toc": true
   },
   "source": [
    "<h1>Содержание<span class=\"tocSkip\"></span></h1>\n",
    "<div class=\"toc\"><ul class=\"toc-item\"><li><span><a href=\"#Обзор-данных\" data-toc-modified-id=\"Обзор-данных-1\"><span class=\"toc-item-num\">1&nbsp;&nbsp;</span>Обзор данных</a></span><ul class=\"toc-item\"><li><span><a href=\"#Вывод\" data-toc-modified-id=\"Вывод-1.1\"><span class=\"toc-item-num\">1.1&nbsp;&nbsp;</span>Вывод</a></span></li></ul></li><li><span><a href=\"#Предобработка\" data-toc-modified-id=\"Предобработка-2\"><span class=\"toc-item-num\">2&nbsp;&nbsp;</span>Предобработка</a></span></li><li><span><a href=\"#Обучение-модели\" data-toc-modified-id=\"Обучение-модели-3\"><span class=\"toc-item-num\">3&nbsp;&nbsp;</span>Обучение модели</a></span><ul class=\"toc-item\"><li><span><a href=\"#Дерево\" data-toc-modified-id=\"Дерево-3.1\"><span class=\"toc-item-num\">3.1&nbsp;&nbsp;</span>Дерево</a></span></li><li><span><a href=\"#Лес\" data-toc-modified-id=\"Лес-3.2\"><span class=\"toc-item-num\">3.2&nbsp;&nbsp;</span>Лес</a></span></li><li><span><a href=\"#CatBoost\" data-toc-modified-id=\"CatBoost-3.3\"><span class=\"toc-item-num\">3.3&nbsp;&nbsp;</span>CatBoost</a></span></li><li><span><a href=\"#Линейная-регрессия\" data-toc-modified-id=\"Линейная-регрессия-3.4\"><span class=\"toc-item-num\">3.4&nbsp;&nbsp;</span>Линейная регрессия</a></span></li><li><span><a href=\"#LightGBM\" data-toc-modified-id=\"LightGBM-3.5\"><span class=\"toc-item-num\">3.5&nbsp;&nbsp;</span>LightGBM</a></span></li><li><span><a href=\"#DummyRegressor\" data-toc-modified-id=\"DummyRegressor-3.6\"><span class=\"toc-item-num\">3.6&nbsp;&nbsp;</span>DummyRegressor</a></span></li></ul></li><li><span><a href=\"#Анализ-скорости-работы-и-качества-моделей\" data-toc-modified-id=\"Анализ-скорости-работы-и-качества-моделей-4\"><span class=\"toc-item-num\">4&nbsp;&nbsp;</span>Анализ скорости работы и качества моделей</a></span></li><li><span><a href=\"#Выводы\" data-toc-modified-id=\"Выводы-5\"><span class=\"toc-item-num\">5&nbsp;&nbsp;</span>Выводы</a></span></li></ul></div>"
   ]
  },
  {
   "cell_type": "markdown",
   "id": "69e7a020",
   "metadata": {
    "id": "69e7a020"
   },
   "source": [
    "**Описание проекта**   \n",
    "Сервис по продаже автомобилей с пробегом «Не бит, не крашен» разрабатывает приложение для привлечения новых клиентов. В нём можно быстро узнать рыночную стоимость своего автомобиля. В вашем распоряжении исторические данные: технические характеристики, комплектации и цены автомобилей. Вам нужно построить модель для определения стоимости.  \n",
    "Заказчику важны:  \n",
    "* качество предсказания;  \n",
    "* скорость предсказания;  \n",
    "* время обучения  "
   ]
  },
  {
   "cell_type": "markdown",
   "id": "b5e1eda3",
   "metadata": {
    "id": "b5e1eda3"
   },
   "source": [
    "# Описание данных "
   ]
  },
  {
   "cell_type": "markdown",
   "id": "68511960",
   "metadata": {
    "id": "68511960"
   },
   "source": [
    "**Признаки**  \n",
    "DateCrawled — дата скачивания анкеты из базы  \n",
    "VehicleType — тип автомобильного кузова  \n",
    "RegistrationYear — год регистрации автомобиля  \n",
    "Gearbox — тип коробки передач  \n",
    "Power — мощность (л. с.)  \n",
    "Model — модель автомобиля  \n",
    "Kilometer — пробег (км)  \n",
    "RegistrationMonth — месяц регистрации автомобиля  \n",
    "FuelType — тип топлива  \n",
    "Brand — марка автомобиля  \n",
    "NotRepaired — была машина в ремонте или нет  \n",
    "DateCreated — дата создания анкеты  \n",
    "NumberOfPictures — количество фотографий автомобиля  \n",
    "PostalCode — почтовый индекс владельца анкеты (пользователя)  \n",
    "LastSeen — дата последней активности пользователя  \n",
    "**Целевой признак**  \n",
    "Price — цена (евро)  "
   ]
  },
  {
   "cell_type": "markdown",
   "id": "4329898b",
   "metadata": {
    "id": "4329898b"
   },
   "source": [
    "# **Инструкция по выполнению проекта**  "
   ]
  },
  {
   "cell_type": "markdown",
   "id": "4fa7b6c8",
   "metadata": {
    "id": "4fa7b6c8"
   },
   "source": [
    "Чтобы усилить исследование, не ограничивайтесь градиентным бустингом. Попробуйте более простые модели — иногда они работают лучше. Это редкие случаи, которые легко пропустить, если всегда применять только бустинг. Поэкспериментируйте и сравните характеристики моделей: скорость работы, точность результата.  \n",
    "- Загрузите и подготовьте данные.    \n",
    "- Обучите разные модели. Для каждой попробуйте различные гиперпараметры.  \n",
    "- Проанализируйте скорость работы и качество моделей. \n",
    "\n",
    "\n",
    "**Примечания**  \n",
    "Для оценки качества моделей применяйте метрику RMSE.  \n",
    "Значение метрики RMSE должно быть меньше 2500.  \n",
    "Самостоятельно освойте библиотеку LightGBM и её средствами постройте модели градиентного бустинга.  \n",
    "Время выполнения ячейки кода Jupyter Notebook можно получить специальной командой. Найдите её.  \n",
    "Поскольку модель градиентного бустинга может обучаться долго, измените у неё только два-три параметра.  \n",
    "Если перестанет работать Jupyter Notebook, удалите лишние переменные оператором del:  "
   ]
  },
  {
   "cell_type": "markdown",
   "id": "f0bddbfb",
   "metadata": {
    "id": "f0bddbfb"
   },
   "source": [
    "## Обзор данных"
   ]
  },
  {
   "cell_type": "code",
   "execution_count": 2,
   "id": "5c027fb1",
   "metadata": {
    "id": "5c027fb1"
   },
   "outputs": [],
   "source": [
    "import pandas as pd\n",
    "import re\n",
    "import matplotlib.pyplot as plt\n",
    "import seaborn as sns\n",
    "import numpy as np\n",
    "\n",
    "from sklearn.preprocessing import StandardScaler\n",
    "from sklearn.preprocessing import OrdinalEncoder\n",
    "\n",
    "from sklearn.model_selection import train_test_split\n",
    "from sklearn.model_selection import cross_val_score\n",
    "#from sklearn.model_selection import RandomizedSearchCV\n",
    "\n",
    "from sklearn.metrics import mean_squared_error\n",
    "\n",
    "from sklearn.dummy import DummyRegressor\n",
    "from catboost import CatBoostRegressor, Pool, cv\n",
    "from sklearn.ensemble import RandomForestRegressor\n",
    "from sklearn.linear_model import LinearRegression\n",
    "from sklearn.tree import DecisionTreeRegressor\n",
    "from lightgbm import LGBMRegressor\n",
    "\n",
    "import warnings\n",
    "warnings.filterwarnings('ignore')"
   ]
  },
  {
   "cell_type": "code",
   "execution_count": 3,
   "id": "08fa8041",
   "metadata": {
    "id": "08fa8041"
   },
   "outputs": [],
   "source": [
    "try:\n",
    "    df = pd.read_csv('/datasets/autos.csv')\n",
    "except: \n",
    "    df = pd.read_csv('autos.csv')"
   ]
  },
  {
   "cell_type": "code",
   "execution_count": 4,
   "id": "6c2c6801",
   "metadata": {
    "id": "6c2c6801",
    "outputId": "2f2ed6af-cfa8-487b-ed58-15c943dc0409"
   },
   "outputs": [
    {
     "data": {
      "text/html": [
       "<div>\n",
       "<style scoped>\n",
       "    .dataframe tbody tr th:only-of-type {\n",
       "        vertical-align: middle;\n",
       "    }\n",
       "\n",
       "    .dataframe tbody tr th {\n",
       "        vertical-align: top;\n",
       "    }\n",
       "\n",
       "    .dataframe thead th {\n",
       "        text-align: right;\n",
       "    }\n",
       "</style>\n",
       "<table border=\"1\" class=\"dataframe\">\n",
       "  <thead>\n",
       "    <tr style=\"text-align: right;\">\n",
       "      <th></th>\n",
       "      <th>DateCrawled</th>\n",
       "      <th>Price</th>\n",
       "      <th>VehicleType</th>\n",
       "      <th>RegistrationYear</th>\n",
       "      <th>Gearbox</th>\n",
       "      <th>Power</th>\n",
       "      <th>Model</th>\n",
       "      <th>Kilometer</th>\n",
       "      <th>RegistrationMonth</th>\n",
       "      <th>FuelType</th>\n",
       "      <th>Brand</th>\n",
       "      <th>NotRepaired</th>\n",
       "      <th>DateCreated</th>\n",
       "      <th>NumberOfPictures</th>\n",
       "      <th>PostalCode</th>\n",
       "      <th>LastSeen</th>\n",
       "    </tr>\n",
       "  </thead>\n",
       "  <tbody>\n",
       "    <tr>\n",
       "      <th>0</th>\n",
       "      <td>2016-03-24 11:52:17</td>\n",
       "      <td>480</td>\n",
       "      <td>NaN</td>\n",
       "      <td>1993</td>\n",
       "      <td>manual</td>\n",
       "      <td>0</td>\n",
       "      <td>golf</td>\n",
       "      <td>150000</td>\n",
       "      <td>0</td>\n",
       "      <td>petrol</td>\n",
       "      <td>volkswagen</td>\n",
       "      <td>NaN</td>\n",
       "      <td>2016-03-24 00:00:00</td>\n",
       "      <td>0</td>\n",
       "      <td>70435</td>\n",
       "      <td>2016-04-07 03:16:57</td>\n",
       "    </tr>\n",
       "    <tr>\n",
       "      <th>1</th>\n",
       "      <td>2016-03-24 10:58:45</td>\n",
       "      <td>18300</td>\n",
       "      <td>coupe</td>\n",
       "      <td>2011</td>\n",
       "      <td>manual</td>\n",
       "      <td>190</td>\n",
       "      <td>NaN</td>\n",
       "      <td>125000</td>\n",
       "      <td>5</td>\n",
       "      <td>gasoline</td>\n",
       "      <td>audi</td>\n",
       "      <td>yes</td>\n",
       "      <td>2016-03-24 00:00:00</td>\n",
       "      <td>0</td>\n",
       "      <td>66954</td>\n",
       "      <td>2016-04-07 01:46:50</td>\n",
       "    </tr>\n",
       "    <tr>\n",
       "      <th>2</th>\n",
       "      <td>2016-03-14 12:52:21</td>\n",
       "      <td>9800</td>\n",
       "      <td>suv</td>\n",
       "      <td>2004</td>\n",
       "      <td>auto</td>\n",
       "      <td>163</td>\n",
       "      <td>grand</td>\n",
       "      <td>125000</td>\n",
       "      <td>8</td>\n",
       "      <td>gasoline</td>\n",
       "      <td>jeep</td>\n",
       "      <td>NaN</td>\n",
       "      <td>2016-03-14 00:00:00</td>\n",
       "      <td>0</td>\n",
       "      <td>90480</td>\n",
       "      <td>2016-04-05 12:47:46</td>\n",
       "    </tr>\n",
       "    <tr>\n",
       "      <th>3</th>\n",
       "      <td>2016-03-17 16:54:04</td>\n",
       "      <td>1500</td>\n",
       "      <td>small</td>\n",
       "      <td>2001</td>\n",
       "      <td>manual</td>\n",
       "      <td>75</td>\n",
       "      <td>golf</td>\n",
       "      <td>150000</td>\n",
       "      <td>6</td>\n",
       "      <td>petrol</td>\n",
       "      <td>volkswagen</td>\n",
       "      <td>no</td>\n",
       "      <td>2016-03-17 00:00:00</td>\n",
       "      <td>0</td>\n",
       "      <td>91074</td>\n",
       "      <td>2016-03-17 17:40:17</td>\n",
       "    </tr>\n",
       "    <tr>\n",
       "      <th>4</th>\n",
       "      <td>2016-03-31 17:25:20</td>\n",
       "      <td>3600</td>\n",
       "      <td>small</td>\n",
       "      <td>2008</td>\n",
       "      <td>manual</td>\n",
       "      <td>69</td>\n",
       "      <td>fabia</td>\n",
       "      <td>90000</td>\n",
       "      <td>7</td>\n",
       "      <td>gasoline</td>\n",
       "      <td>skoda</td>\n",
       "      <td>no</td>\n",
       "      <td>2016-03-31 00:00:00</td>\n",
       "      <td>0</td>\n",
       "      <td>60437</td>\n",
       "      <td>2016-04-06 10:17:21</td>\n",
       "    </tr>\n",
       "    <tr>\n",
       "      <th>...</th>\n",
       "      <td>...</td>\n",
       "      <td>...</td>\n",
       "      <td>...</td>\n",
       "      <td>...</td>\n",
       "      <td>...</td>\n",
       "      <td>...</td>\n",
       "      <td>...</td>\n",
       "      <td>...</td>\n",
       "      <td>...</td>\n",
       "      <td>...</td>\n",
       "      <td>...</td>\n",
       "      <td>...</td>\n",
       "      <td>...</td>\n",
       "      <td>...</td>\n",
       "      <td>...</td>\n",
       "      <td>...</td>\n",
       "    </tr>\n",
       "    <tr>\n",
       "      <th>354364</th>\n",
       "      <td>2016-03-21 09:50:58</td>\n",
       "      <td>0</td>\n",
       "      <td>NaN</td>\n",
       "      <td>2005</td>\n",
       "      <td>manual</td>\n",
       "      <td>0</td>\n",
       "      <td>colt</td>\n",
       "      <td>150000</td>\n",
       "      <td>7</td>\n",
       "      <td>petrol</td>\n",
       "      <td>mitsubishi</td>\n",
       "      <td>yes</td>\n",
       "      <td>2016-03-21 00:00:00</td>\n",
       "      <td>0</td>\n",
       "      <td>2694</td>\n",
       "      <td>2016-03-21 10:42:49</td>\n",
       "    </tr>\n",
       "    <tr>\n",
       "      <th>354365</th>\n",
       "      <td>2016-03-14 17:48:27</td>\n",
       "      <td>2200</td>\n",
       "      <td>NaN</td>\n",
       "      <td>2005</td>\n",
       "      <td>NaN</td>\n",
       "      <td>0</td>\n",
       "      <td>NaN</td>\n",
       "      <td>20000</td>\n",
       "      <td>1</td>\n",
       "      <td>NaN</td>\n",
       "      <td>sonstige_autos</td>\n",
       "      <td>NaN</td>\n",
       "      <td>2016-03-14 00:00:00</td>\n",
       "      <td>0</td>\n",
       "      <td>39576</td>\n",
       "      <td>2016-04-06 00:46:52</td>\n",
       "    </tr>\n",
       "    <tr>\n",
       "      <th>354366</th>\n",
       "      <td>2016-03-05 19:56:21</td>\n",
       "      <td>1199</td>\n",
       "      <td>convertible</td>\n",
       "      <td>2000</td>\n",
       "      <td>auto</td>\n",
       "      <td>101</td>\n",
       "      <td>fortwo</td>\n",
       "      <td>125000</td>\n",
       "      <td>3</td>\n",
       "      <td>petrol</td>\n",
       "      <td>smart</td>\n",
       "      <td>no</td>\n",
       "      <td>2016-03-05 00:00:00</td>\n",
       "      <td>0</td>\n",
       "      <td>26135</td>\n",
       "      <td>2016-03-11 18:17:12</td>\n",
       "    </tr>\n",
       "    <tr>\n",
       "      <th>354367</th>\n",
       "      <td>2016-03-19 18:57:12</td>\n",
       "      <td>9200</td>\n",
       "      <td>bus</td>\n",
       "      <td>1996</td>\n",
       "      <td>manual</td>\n",
       "      <td>102</td>\n",
       "      <td>transporter</td>\n",
       "      <td>150000</td>\n",
       "      <td>3</td>\n",
       "      <td>gasoline</td>\n",
       "      <td>volkswagen</td>\n",
       "      <td>no</td>\n",
       "      <td>2016-03-19 00:00:00</td>\n",
       "      <td>0</td>\n",
       "      <td>87439</td>\n",
       "      <td>2016-04-07 07:15:26</td>\n",
       "    </tr>\n",
       "    <tr>\n",
       "      <th>354368</th>\n",
       "      <td>2016-03-20 19:41:08</td>\n",
       "      <td>3400</td>\n",
       "      <td>wagon</td>\n",
       "      <td>2002</td>\n",
       "      <td>manual</td>\n",
       "      <td>100</td>\n",
       "      <td>golf</td>\n",
       "      <td>150000</td>\n",
       "      <td>6</td>\n",
       "      <td>gasoline</td>\n",
       "      <td>volkswagen</td>\n",
       "      <td>NaN</td>\n",
       "      <td>2016-03-20 00:00:00</td>\n",
       "      <td>0</td>\n",
       "      <td>40764</td>\n",
       "      <td>2016-03-24 12:45:21</td>\n",
       "    </tr>\n",
       "  </tbody>\n",
       "</table>\n",
       "<p>354369 rows × 16 columns</p>\n",
       "</div>"
      ],
      "text/plain": [
       "                DateCrawled  Price  VehicleType  RegistrationYear Gearbox  \\\n",
       "0       2016-03-24 11:52:17    480          NaN              1993  manual   \n",
       "1       2016-03-24 10:58:45  18300        coupe              2011  manual   \n",
       "2       2016-03-14 12:52:21   9800          suv              2004    auto   \n",
       "3       2016-03-17 16:54:04   1500        small              2001  manual   \n",
       "4       2016-03-31 17:25:20   3600        small              2008  manual   \n",
       "...                     ...    ...          ...               ...     ...   \n",
       "354364  2016-03-21 09:50:58      0          NaN              2005  manual   \n",
       "354365  2016-03-14 17:48:27   2200          NaN              2005     NaN   \n",
       "354366  2016-03-05 19:56:21   1199  convertible              2000    auto   \n",
       "354367  2016-03-19 18:57:12   9200          bus              1996  manual   \n",
       "354368  2016-03-20 19:41:08   3400        wagon              2002  manual   \n",
       "\n",
       "        Power        Model  Kilometer  RegistrationMonth  FuelType  \\\n",
       "0           0         golf     150000                  0    petrol   \n",
       "1         190          NaN     125000                  5  gasoline   \n",
       "2         163        grand     125000                  8  gasoline   \n",
       "3          75         golf     150000                  6    petrol   \n",
       "4          69        fabia      90000                  7  gasoline   \n",
       "...       ...          ...        ...                ...       ...   \n",
       "354364      0         colt     150000                  7    petrol   \n",
       "354365      0          NaN      20000                  1       NaN   \n",
       "354366    101       fortwo     125000                  3    petrol   \n",
       "354367    102  transporter     150000                  3  gasoline   \n",
       "354368    100         golf     150000                  6  gasoline   \n",
       "\n",
       "                 Brand NotRepaired          DateCreated  NumberOfPictures  \\\n",
       "0           volkswagen         NaN  2016-03-24 00:00:00                 0   \n",
       "1                 audi         yes  2016-03-24 00:00:00                 0   \n",
       "2                 jeep         NaN  2016-03-14 00:00:00                 0   \n",
       "3           volkswagen          no  2016-03-17 00:00:00                 0   \n",
       "4                skoda          no  2016-03-31 00:00:00                 0   \n",
       "...                ...         ...                  ...               ...   \n",
       "354364      mitsubishi         yes  2016-03-21 00:00:00                 0   \n",
       "354365  sonstige_autos         NaN  2016-03-14 00:00:00                 0   \n",
       "354366           smart          no  2016-03-05 00:00:00                 0   \n",
       "354367      volkswagen          no  2016-03-19 00:00:00                 0   \n",
       "354368      volkswagen         NaN  2016-03-20 00:00:00                 0   \n",
       "\n",
       "        PostalCode             LastSeen  \n",
       "0            70435  2016-04-07 03:16:57  \n",
       "1            66954  2016-04-07 01:46:50  \n",
       "2            90480  2016-04-05 12:47:46  \n",
       "3            91074  2016-03-17 17:40:17  \n",
       "4            60437  2016-04-06 10:17:21  \n",
       "...            ...                  ...  \n",
       "354364        2694  2016-03-21 10:42:49  \n",
       "354365       39576  2016-04-06 00:46:52  \n",
       "354366       26135  2016-03-11 18:17:12  \n",
       "354367       87439  2016-04-07 07:15:26  \n",
       "354368       40764  2016-03-24 12:45:21  \n",
       "\n",
       "[354369 rows x 16 columns]"
      ]
     },
     "execution_count": 4,
     "metadata": {},
     "output_type": "execute_result"
    }
   ],
   "source": [
    "df"
   ]
  },
  {
   "cell_type": "markdown",
   "id": "33578d50",
   "metadata": {
    "id": "33578d50"
   },
   "source": [
    "Создадим функию для первичного обзора даннх"
   ]
  },
  {
   "cell_type": "code",
   "execution_count": 5,
   "id": "b423adbc",
   "metadata": {
    "id": "b423adbc"
   },
   "outputs": [],
   "source": [
    "def review(df):\n",
    "    print(f'инфо: {df.info()}')\n",
    "    print('')\n",
    "    print(f'Размер: {df.shape}')\n",
    "    print('')\n",
    "    print(f'Дубликаты: {df.duplicated().sum()}')\n",
    "    print('')\n",
    "    print(f'Пропуски:')\n",
    "    df.isna().sum().plot(kind='bar', figsize=(20,10))\n",
    "    plt.show()\n",
    "    print('')\n",
    "    display(df.describe())"
   ]
  },
  {
   "cell_type": "code",
   "execution_count": 6,
   "id": "66b01a74",
   "metadata": {
    "id": "66b01a74",
    "outputId": "83476035-5113-4aae-c792-d942b44b34f9"
   },
   "outputs": [
    {
     "name": "stdout",
     "output_type": "stream",
     "text": [
      "<class 'pandas.core.frame.DataFrame'>\n",
      "RangeIndex: 354369 entries, 0 to 354368\n",
      "Data columns (total 16 columns):\n",
      " #   Column             Non-Null Count   Dtype \n",
      "---  ------             --------------   ----- \n",
      " 0   DateCrawled        354369 non-null  object\n",
      " 1   Price              354369 non-null  int64 \n",
      " 2   VehicleType        316879 non-null  object\n",
      " 3   RegistrationYear   354369 non-null  int64 \n",
      " 4   Gearbox            334536 non-null  object\n",
      " 5   Power              354369 non-null  int64 \n",
      " 6   Model              334664 non-null  object\n",
      " 7   Kilometer          354369 non-null  int64 \n",
      " 8   RegistrationMonth  354369 non-null  int64 \n",
      " 9   FuelType           321474 non-null  object\n",
      " 10  Brand              354369 non-null  object\n",
      " 11  NotRepaired        283215 non-null  object\n",
      " 12  DateCreated        354369 non-null  object\n",
      " 13  NumberOfPictures   354369 non-null  int64 \n",
      " 14  PostalCode         354369 non-null  int64 \n",
      " 15  LastSeen           354369 non-null  object\n",
      "dtypes: int64(7), object(9)\n",
      "memory usage: 43.3+ MB\n",
      "инфо: None\n",
      "\n",
      "Размер: (354369, 16)\n",
      "\n",
      "Дубликаты: 4\n",
      "\n",
      "Пропуски:\n"
     ]
    },
    {
     "data": {
      "image/png": "[encoded data removed]",
      "text/plain": [
       "<Figure size 1440x720 with 1 Axes>"
      ]
     },
     "metadata": {
      "needs_background": "light"
     },
     "output_type": "display_data"
    },
    {
     "name": "stdout",
     "output_type": "stream",
     "text": [
      "\n"
     ]
    },
    {
     "data": {
      "text/html": [
       "<div>\n",
       "<style scoped>\n",
       "    .dataframe tbody tr th:only-of-type {\n",
       "        vertical-align: middle;\n",
       "    }\n",
       "\n",
       "    .dataframe tbody tr th {\n",
       "        vertical-align: top;\n",
       "    }\n",
       "\n",
       "    .dataframe thead th {\n",
       "        text-align: right;\n",
       "    }\n",
       "</style>\n",
       "<table border=\"1\" class=\"dataframe\">\n",
       "  <thead>\n",
       "    <tr style=\"text-align: right;\">\n",
       "      <th></th>\n",
       "      <th>Price</th>\n",
       "      <th>RegistrationYear</th>\n",
       "      <th>Power</th>\n",
       "      <th>Kilometer</th>\n",
       "      <th>RegistrationMonth</th>\n",
       "      <th>NumberOfPictures</th>\n",
       "      <th>PostalCode</th>\n",
       "    </tr>\n",
       "  </thead>\n",
       "  <tbody>\n",
       "    <tr>\n",
       "      <th>count</th>\n",
       "      <td>354369.000000</td>\n",
       "      <td>354369.000000</td>\n",
       "      <td>354369.000000</td>\n",
       "      <td>354369.000000</td>\n",
       "      <td>354369.000000</td>\n",
       "      <td>354369.0</td>\n",
       "      <td>354369.000000</td>\n",
       "    </tr>\n",
       "    <tr>\n",
       "      <th>mean</th>\n",
       "      <td>4416.656776</td>\n",
       "      <td>2004.234448</td>\n",
       "      <td>110.094337</td>\n",
       "      <td>128211.172535</td>\n",
       "      <td>5.714645</td>\n",
       "      <td>0.0</td>\n",
       "      <td>50508.689087</td>\n",
       "    </tr>\n",
       "    <tr>\n",
       "      <th>std</th>\n",
       "      <td>4514.158514</td>\n",
       "      <td>90.227958</td>\n",
       "      <td>189.850405</td>\n",
       "      <td>37905.341530</td>\n",
       "      <td>3.726421</td>\n",
       "      <td>0.0</td>\n",
       "      <td>25783.096248</td>\n",
       "    </tr>\n",
       "    <tr>\n",
       "      <th>min</th>\n",
       "      <td>0.000000</td>\n",
       "      <td>1000.000000</td>\n",
       "      <td>0.000000</td>\n",
       "      <td>5000.000000</td>\n",
       "      <td>0.000000</td>\n",
       "      <td>0.0</td>\n",
       "      <td>1067.000000</td>\n",
       "    </tr>\n",
       "    <tr>\n",
       "      <th>25%</th>\n",
       "      <td>1050.000000</td>\n",
       "      <td>1999.000000</td>\n",
       "      <td>69.000000</td>\n",
       "      <td>125000.000000</td>\n",
       "      <td>3.000000</td>\n",
       "      <td>0.0</td>\n",
       "      <td>30165.000000</td>\n",
       "    </tr>\n",
       "    <tr>\n",
       "      <th>50%</th>\n",
       "      <td>2700.000000</td>\n",
       "      <td>2003.000000</td>\n",
       "      <td>105.000000</td>\n",
       "      <td>150000.000000</td>\n",
       "      <td>6.000000</td>\n",
       "      <td>0.0</td>\n",
       "      <td>49413.000000</td>\n",
       "    </tr>\n",
       "    <tr>\n",
       "      <th>75%</th>\n",
       "      <td>6400.000000</td>\n",
       "      <td>2008.000000</td>\n",
       "      <td>143.000000</td>\n",
       "      <td>150000.000000</td>\n",
       "      <td>9.000000</td>\n",
       "      <td>0.0</td>\n",
       "      <td>71083.000000</td>\n",
       "    </tr>\n",
       "    <tr>\n",
       "      <th>max</th>\n",
       "      <td>20000.000000</td>\n",
       "      <td>9999.000000</td>\n",
       "      <td>20000.000000</td>\n",
       "      <td>150000.000000</td>\n",
       "      <td>12.000000</td>\n",
       "      <td>0.0</td>\n",
       "      <td>99998.000000</td>\n",
       "    </tr>\n",
       "  </tbody>\n",
       "</table>\n",
       "</div>"
      ],
      "text/plain": [
       "               Price  RegistrationYear          Power      Kilometer  \\\n",
       "count  354369.000000     354369.000000  354369.000000  354369.000000   \n",
       "mean     4416.656776       2004.234448     110.094337  128211.172535   \n",
       "std      4514.158514         90.227958     189.850405   37905.341530   \n",
       "min         0.000000       1000.000000       0.000000    5000.000000   \n",
       "25%      1050.000000       1999.000000      69.000000  125000.000000   \n",
       "50%      2700.000000       2003.000000     105.000000  150000.000000   \n",
       "75%      6400.000000       2008.000000     143.000000  150000.000000   \n",
       "max     20000.000000       9999.000000   20000.000000  150000.000000   \n",
       "\n",
       "       RegistrationMonth  NumberOfPictures     PostalCode  \n",
       "count      354369.000000          354369.0  354369.000000  \n",
       "mean            5.714645               0.0   50508.689087  \n",
       "std             3.726421               0.0   25783.096248  \n",
       "min             0.000000               0.0    1067.000000  \n",
       "25%             3.000000               0.0   30165.000000  \n",
       "50%             6.000000               0.0   49413.000000  \n",
       "75%             9.000000               0.0   71083.000000  \n",
       "max            12.000000               0.0   99998.000000  "
      ]
     },
     "metadata": {},
     "output_type": "display_data"
    }
   ],
   "source": [
    "review(df)"
   ]
  },
  {
   "cell_type": "markdown",
   "id": "0f5099fd",
   "metadata": {
    "id": "0f5099fd"
   },
   "source": [
    "### Вывод"
   ]
  },
  {
   "cell_type": "markdown",
   "id": "5a0f79ac",
   "metadata": {
    "id": "5a0f79ac"
   },
   "source": [
    "* Дубликаты   \n",
    "* Привести столбцы к змеинному регистру. \n",
    "* Пропуски: VehicleType, FuelType, NotRepaired, (Gearbox, Model).   \n",
    "* NotRepaired - заменить цифрами.  \n",
    "* Даты привести к нужному формату/соеденить год и месяц регистрации  \n",
    "* Power - выбросы\n",
    "* RegistrationYear - косяки\n",
    "* RegistrationMonth - нулевой месяц\n",
    "* Price - бесплатно/ м.б. больше косяков\n"
   ]
  },
  {
   "cell_type": "markdown",
   "id": "67b45132",
   "metadata": {
    "id": "67b45132"
   },
   "source": [
    "## Предобработка"
   ]
  },
  {
   "cell_type": "code",
   "execution_count": 7,
   "id": "16169f6c",
   "metadata": {
    "id": "16169f6c"
   },
   "outputs": [],
   "source": [
    "shape_origin = df.shape[0] # запомним начальный размер, чтобы после проверить процент оставшихся данных"
   ]
  },
  {
   "cell_type": "code",
   "execution_count": 8,
   "id": "4b9ed55d",
   "metadata": {
    "id": "4b9ed55d",
    "outputId": "dc3d0319-a578-4ca5-8d45-94bd3e614be1"
   },
   "outputs": [
    {
     "data": {
      "text/html": [
       "<div>\n",
       "<style scoped>\n",
       "    .dataframe tbody tr th:only-of-type {\n",
       "        vertical-align: middle;\n",
       "    }\n",
       "\n",
       "    .dataframe tbody tr th {\n",
       "        vertical-align: top;\n",
       "    }\n",
       "\n",
       "    .dataframe thead th {\n",
       "        text-align: right;\n",
       "    }\n",
       "</style>\n",
       "<table border=\"1\" class=\"dataframe\">\n",
       "  <thead>\n",
       "    <tr style=\"text-align: right;\">\n",
       "      <th></th>\n",
       "      <th>DateCrawled</th>\n",
       "      <th>Price</th>\n",
       "      <th>VehicleType</th>\n",
       "      <th>RegistrationYear</th>\n",
       "      <th>Gearbox</th>\n",
       "      <th>Power</th>\n",
       "      <th>Model</th>\n",
       "      <th>Kilometer</th>\n",
       "      <th>RegistrationMonth</th>\n",
       "      <th>FuelType</th>\n",
       "      <th>Brand</th>\n",
       "      <th>NotRepaired</th>\n",
       "      <th>DateCreated</th>\n",
       "      <th>NumberOfPictures</th>\n",
       "      <th>PostalCode</th>\n",
       "      <th>LastSeen</th>\n",
       "    </tr>\n",
       "  </thead>\n",
       "  <tbody>\n",
       "    <tr>\n",
       "      <th>171088</th>\n",
       "      <td>2016-03-08 18:42:48</td>\n",
       "      <td>1799</td>\n",
       "      <td>coupe</td>\n",
       "      <td>1999</td>\n",
       "      <td>auto</td>\n",
       "      <td>193</td>\n",
       "      <td>clk</td>\n",
       "      <td>20000</td>\n",
       "      <td>7</td>\n",
       "      <td>petrol</td>\n",
       "      <td>mercedes_benz</td>\n",
       "      <td>no</td>\n",
       "      <td>2016-03-08 00:00:00</td>\n",
       "      <td>0</td>\n",
       "      <td>89518</td>\n",
       "      <td>2016-03-09 09:46:57</td>\n",
       "    </tr>\n",
       "    <tr>\n",
       "      <th>231258</th>\n",
       "      <td>2016-03-28 00:56:10</td>\n",
       "      <td>1000</td>\n",
       "      <td>small</td>\n",
       "      <td>2002</td>\n",
       "      <td>manual</td>\n",
       "      <td>83</td>\n",
       "      <td>other</td>\n",
       "      <td>150000</td>\n",
       "      <td>1</td>\n",
       "      <td>petrol</td>\n",
       "      <td>suzuki</td>\n",
       "      <td>no</td>\n",
       "      <td>2016-03-28 00:00:00</td>\n",
       "      <td>0</td>\n",
       "      <td>66589</td>\n",
       "      <td>2016-03-28 08:46:21</td>\n",
       "    </tr>\n",
       "    <tr>\n",
       "      <th>258109</th>\n",
       "      <td>2016-04-03 09:01:15</td>\n",
       "      <td>4699</td>\n",
       "      <td>coupe</td>\n",
       "      <td>2003</td>\n",
       "      <td>auto</td>\n",
       "      <td>218</td>\n",
       "      <td>clk</td>\n",
       "      <td>125000</td>\n",
       "      <td>6</td>\n",
       "      <td>petrol</td>\n",
       "      <td>mercedes_benz</td>\n",
       "      <td>yes</td>\n",
       "      <td>2016-04-03 00:00:00</td>\n",
       "      <td>0</td>\n",
       "      <td>75196</td>\n",
       "      <td>2016-04-07 09:44:54</td>\n",
       "    </tr>\n",
       "    <tr>\n",
       "      <th>325651</th>\n",
       "      <td>2016-03-18 18:46:15</td>\n",
       "      <td>1999</td>\n",
       "      <td>wagon</td>\n",
       "      <td>2001</td>\n",
       "      <td>manual</td>\n",
       "      <td>131</td>\n",
       "      <td>passat</td>\n",
       "      <td>150000</td>\n",
       "      <td>7</td>\n",
       "      <td>gasoline</td>\n",
       "      <td>volkswagen</td>\n",
       "      <td>no</td>\n",
       "      <td>2016-03-18 00:00:00</td>\n",
       "      <td>0</td>\n",
       "      <td>36391</td>\n",
       "      <td>2016-03-18 18:46:15</td>\n",
       "    </tr>\n",
       "  </tbody>\n",
       "</table>\n",
       "</div>"
      ],
      "text/plain": [
       "                DateCrawled  Price VehicleType  RegistrationYear Gearbox  \\\n",
       "171088  2016-03-08 18:42:48   1799       coupe              1999    auto   \n",
       "231258  2016-03-28 00:56:10   1000       small              2002  manual   \n",
       "258109  2016-04-03 09:01:15   4699       coupe              2003    auto   \n",
       "325651  2016-03-18 18:46:15   1999       wagon              2001  manual   \n",
       "\n",
       "        Power   Model  Kilometer  RegistrationMonth  FuelType          Brand  \\\n",
       "171088    193     clk      20000                  7    petrol  mercedes_benz   \n",
       "231258     83   other     150000                  1    petrol         suzuki   \n",
       "258109    218     clk     125000                  6    petrol  mercedes_benz   \n",
       "325651    131  passat     150000                  7  gasoline     volkswagen   \n",
       "\n",
       "       NotRepaired          DateCreated  NumberOfPictures  PostalCode  \\\n",
       "171088          no  2016-03-08 00:00:00                 0       89518   \n",
       "231258          no  2016-03-28 00:00:00                 0       66589   \n",
       "258109         yes  2016-04-03 00:00:00                 0       75196   \n",
       "325651          no  2016-03-18 00:00:00                 0       36391   \n",
       "\n",
       "                   LastSeen  \n",
       "171088  2016-03-09 09:46:57  \n",
       "231258  2016-03-28 08:46:21  \n",
       "258109  2016-04-07 09:44:54  \n",
       "325651  2016-03-18 18:46:15  "
      ]
     },
     "execution_count": 8,
     "metadata": {},
     "output_type": "execute_result"
    }
   ],
   "source": [
    "df[df.duplicated()]"
   ]
  },
  {
   "cell_type": "markdown",
   "id": "abaea1a9",
   "metadata": {
    "id": "abaea1a9"
   },
   "source": [
    "Удалим дубликаты"
   ]
  },
  {
   "cell_type": "code",
   "execution_count": 9,
   "id": "9e568044",
   "metadata": {
    "id": "9e568044"
   },
   "outputs": [],
   "source": [
    "df.drop_duplicates(inplace=True)"
   ]
  },
  {
   "cell_type": "markdown",
   "id": "ce4db539",
   "metadata": {
    "id": "ce4db539"
   },
   "source": [
    "Приведем столбцы к змеиному регистру"
   ]
  },
  {
   "cell_type": "code",
   "execution_count": 10,
   "id": "80e448a6",
   "metadata": {
    "id": "80e448a6"
   },
   "outputs": [],
   "source": [
    "for name in df.columns:\n",
    "    rena = re.sub(r\"(?=[A-Z])(?!^)\", '_', name).lower()\n",
    "    df = df.rename(columns={name:rena})"
   ]
  },
  {
   "cell_type": "markdown",
   "id": "306ea486",
   "metadata": {
    "id": "306ea486"
   },
   "source": [
    "Заменим пропуски в 'not_repaired'. Скорее всего, если данные не указаны == ремонта не было"
   ]
  },
  {
   "cell_type": "code",
   "execution_count": 11,
   "id": "38c707b6",
   "metadata": {
    "id": "38c707b6",
    "outputId": "546b4c18-1f08-418a-c479-b0d58568ee35"
   },
   "outputs": [
    {
     "data": {
      "text/plain": [
       "array([nan, 'yes', 'no'], dtype=object)"
      ]
     },
     "execution_count": 11,
     "metadata": {},
     "output_type": "execute_result"
    }
   ],
   "source": [
    "df['not_repaired'].unique()"
   ]
  },
  {
   "cell_type": "code",
   "execution_count": 12,
   "id": "6fea896c",
   "metadata": {
    "id": "6fea896c"
   },
   "outputs": [],
   "source": [
    "df['not_repaired'] = df['not_repaired'].fillna('yes')"
   ]
  },
  {
   "cell_type": "markdown",
   "id": "f7d3488f",
   "metadata": {
    "id": "f7d3488f"
   },
   "source": [
    "Приведем даты к нужному типу( пусть столбцы почувствуют себя важными перед смертью)"
   ]
  },
  {
   "cell_type": "code",
   "execution_count": 13,
   "id": "b4dc45e8",
   "metadata": {
    "id": "b4dc45e8"
   },
   "outputs": [],
   "source": [
    "for date in ['date_created', 'date_crawled', 'last_seen']:\n",
    "    df[date] = pd.to_datetime(df[date], format='%Y-%m-%d %H:%M:%S')"
   ]
  },
  {
   "cell_type": "code",
   "execution_count": 14,
   "id": "dc50536f",
   "metadata": {
    "id": "dc50536f"
   },
   "outputs": [],
   "source": [
    "df = df.drop('registration_month', axis=1)"
   ]
  },
  {
   "cell_type": "markdown",
   "id": "d824d513",
   "metadata": {
    "id": "d824d513"
   },
   "source": [
    "У нас есть однозначные аномалии в годе выпуска авто"
   ]
  },
  {
   "cell_type": "code",
   "execution_count": 15,
   "id": "6cc25358",
   "metadata": {
    "id": "6cc25358",
    "outputId": "b7e95ee5-7245-4f18-f4cc-a3e22625f314"
   },
   "outputs": [
    {
     "data": {
      "text/plain": [
       "(1900.0, 2022.0)"
      ]
     },
     "execution_count": 15,
     "metadata": {},
     "output_type": "execute_result"
    },
    {
     "data": {
      "image/png": "[encoded data removed]",
      "text/plain": [
       "<Figure size 432x288 with 1 Axes>"
      ]
     },
     "metadata": {
      "needs_background": "light"
     },
     "output_type": "display_data"
    }
   ],
   "source": [
    "df['registration_year'].hist(bins=100)\n",
    "plt.xlim(1900,2022)"
   ]
  },
  {
   "cell_type": "code",
   "execution_count": 16,
   "id": "5c6b7082",
   "metadata": {
    "id": "5c6b7082",
    "outputId": "aadeb51b-6887-4a61-837b-11a9c784b1f0"
   },
   "outputs": [
    {
     "data": {
      "text/plain": [
       "33798"
      ]
     },
     "execution_count": 16,
     "metadata": {},
     "output_type": "execute_result"
    }
   ],
   "source": [
    "df.query('registration_year < 1990 or registration_year >= 2016')['registration_year'].count()"
   ]
  },
  {
   "cell_type": "markdown",
   "id": "789b95fb",
   "metadata": {
    "id": "789b95fb"
   },
   "source": [
    "От общего объема это немного. Их проще удалить, чем разбираться в ошибке"
   ]
  },
  {
   "cell_type": "code",
   "execution_count": 17,
   "id": "338e23dc",
   "metadata": {
    "id": "338e23dc"
   },
   "outputs": [],
   "source": [
    "df = df.query('registration_year > 1990 and registration_year <= 2016').copy()"
   ]
  },
  {
   "cell_type": "code",
   "execution_count": 18,
   "id": "08fa7610",
   "metadata": {
    "id": "08fa7610",
    "outputId": "ca1615db-8cdc-41c6-9cef-32a36c9909af"
   },
   "outputs": [
    {
     "data": {
      "text/html": [
       "<div>\n",
       "<style scoped>\n",
       "    .dataframe tbody tr th:only-of-type {\n",
       "        vertical-align: middle;\n",
       "    }\n",
       "\n",
       "    .dataframe tbody tr th {\n",
       "        vertical-align: top;\n",
       "    }\n",
       "\n",
       "    .dataframe thead th {\n",
       "        text-align: right;\n",
       "    }\n",
       "</style>\n",
       "<table border=\"1\" class=\"dataframe\">\n",
       "  <thead>\n",
       "    <tr style=\"text-align: right;\">\n",
       "      <th></th>\n",
       "      <th>date_crawled</th>\n",
       "      <th>price</th>\n",
       "      <th>vehicle_type</th>\n",
       "      <th>registration_year</th>\n",
       "      <th>gearbox</th>\n",
       "      <th>power</th>\n",
       "      <th>model</th>\n",
       "      <th>kilometer</th>\n",
       "      <th>fuel_type</th>\n",
       "      <th>brand</th>\n",
       "      <th>not_repaired</th>\n",
       "      <th>date_created</th>\n",
       "      <th>number_of_pictures</th>\n",
       "      <th>postal_code</th>\n",
       "      <th>last_seen</th>\n",
       "    </tr>\n",
       "  </thead>\n",
       "  <tbody>\n",
       "    <tr>\n",
       "      <th>0</th>\n",
       "      <td>2016-03-24 11:52:17</td>\n",
       "      <td>480</td>\n",
       "      <td>NaN</td>\n",
       "      <td>1993</td>\n",
       "      <td>manual</td>\n",
       "      <td>0</td>\n",
       "      <td>golf</td>\n",
       "      <td>150000</td>\n",
       "      <td>petrol</td>\n",
       "      <td>volkswagen</td>\n",
       "      <td>yes</td>\n",
       "      <td>2016-03-24</td>\n",
       "      <td>0</td>\n",
       "      <td>70435</td>\n",
       "      <td>2016-04-07 03:16:57</td>\n",
       "    </tr>\n",
       "    <tr>\n",
       "      <th>1</th>\n",
       "      <td>2016-03-24 10:58:45</td>\n",
       "      <td>18300</td>\n",
       "      <td>coupe</td>\n",
       "      <td>2011</td>\n",
       "      <td>manual</td>\n",
       "      <td>190</td>\n",
       "      <td>NaN</td>\n",
       "      <td>125000</td>\n",
       "      <td>gasoline</td>\n",
       "      <td>audi</td>\n",
       "      <td>yes</td>\n",
       "      <td>2016-03-24</td>\n",
       "      <td>0</td>\n",
       "      <td>66954</td>\n",
       "      <td>2016-04-07 01:46:50</td>\n",
       "    </tr>\n",
       "    <tr>\n",
       "      <th>2</th>\n",
       "      <td>2016-03-14 12:52:21</td>\n",
       "      <td>9800</td>\n",
       "      <td>suv</td>\n",
       "      <td>2004</td>\n",
       "      <td>auto</td>\n",
       "      <td>163</td>\n",
       "      <td>grand</td>\n",
       "      <td>125000</td>\n",
       "      <td>gasoline</td>\n",
       "      <td>jeep</td>\n",
       "      <td>yes</td>\n",
       "      <td>2016-03-14</td>\n",
       "      <td>0</td>\n",
       "      <td>90480</td>\n",
       "      <td>2016-04-05 12:47:46</td>\n",
       "    </tr>\n",
       "    <tr>\n",
       "      <th>3</th>\n",
       "      <td>2016-03-17 16:54:04</td>\n",
       "      <td>1500</td>\n",
       "      <td>small</td>\n",
       "      <td>2001</td>\n",
       "      <td>manual</td>\n",
       "      <td>75</td>\n",
       "      <td>golf</td>\n",
       "      <td>150000</td>\n",
       "      <td>petrol</td>\n",
       "      <td>volkswagen</td>\n",
       "      <td>no</td>\n",
       "      <td>2016-03-17</td>\n",
       "      <td>0</td>\n",
       "      <td>91074</td>\n",
       "      <td>2016-03-17 17:40:17</td>\n",
       "    </tr>\n",
       "    <tr>\n",
       "      <th>4</th>\n",
       "      <td>2016-03-31 17:25:20</td>\n",
       "      <td>3600</td>\n",
       "      <td>small</td>\n",
       "      <td>2008</td>\n",
       "      <td>manual</td>\n",
       "      <td>69</td>\n",
       "      <td>fabia</td>\n",
       "      <td>90000</td>\n",
       "      <td>gasoline</td>\n",
       "      <td>skoda</td>\n",
       "      <td>no</td>\n",
       "      <td>2016-03-31</td>\n",
       "      <td>0</td>\n",
       "      <td>60437</td>\n",
       "      <td>2016-04-06 10:17:21</td>\n",
       "    </tr>\n",
       "    <tr>\n",
       "      <th>...</th>\n",
       "      <td>...</td>\n",
       "      <td>...</td>\n",
       "      <td>...</td>\n",
       "      <td>...</td>\n",
       "      <td>...</td>\n",
       "      <td>...</td>\n",
       "      <td>...</td>\n",
       "      <td>...</td>\n",
       "      <td>...</td>\n",
       "      <td>...</td>\n",
       "      <td>...</td>\n",
       "      <td>...</td>\n",
       "      <td>...</td>\n",
       "      <td>...</td>\n",
       "      <td>...</td>\n",
       "    </tr>\n",
       "    <tr>\n",
       "      <th>354364</th>\n",
       "      <td>2016-03-21 09:50:58</td>\n",
       "      <td>0</td>\n",
       "      <td>NaN</td>\n",
       "      <td>2005</td>\n",
       "      <td>manual</td>\n",
       "      <td>0</td>\n",
       "      <td>colt</td>\n",
       "      <td>150000</td>\n",
       "      <td>petrol</td>\n",
       "      <td>mitsubishi</td>\n",
       "      <td>yes</td>\n",
       "      <td>2016-03-21</td>\n",
       "      <td>0</td>\n",
       "      <td>2694</td>\n",
       "      <td>2016-03-21 10:42:49</td>\n",
       "    </tr>\n",
       "    <tr>\n",
       "      <th>354365</th>\n",
       "      <td>2016-03-14 17:48:27</td>\n",
       "      <td>2200</td>\n",
       "      <td>NaN</td>\n",
       "      <td>2005</td>\n",
       "      <td>NaN</td>\n",
       "      <td>0</td>\n",
       "      <td>NaN</td>\n",
       "      <td>20000</td>\n",
       "      <td>NaN</td>\n",
       "      <td>sonstige_autos</td>\n",
       "      <td>yes</td>\n",
       "      <td>2016-03-14</td>\n",
       "      <td>0</td>\n",
       "      <td>39576</td>\n",
       "      <td>2016-04-06 00:46:52</td>\n",
       "    </tr>\n",
       "    <tr>\n",
       "      <th>354366</th>\n",
       "      <td>2016-03-05 19:56:21</td>\n",
       "      <td>1199</td>\n",
       "      <td>convertible</td>\n",
       "      <td>2000</td>\n",
       "      <td>auto</td>\n",
       "      <td>101</td>\n",
       "      <td>fortwo</td>\n",
       "      <td>125000</td>\n",
       "      <td>petrol</td>\n",
       "      <td>smart</td>\n",
       "      <td>no</td>\n",
       "      <td>2016-03-05</td>\n",
       "      <td>0</td>\n",
       "      <td>26135</td>\n",
       "      <td>2016-03-11 18:17:12</td>\n",
       "    </tr>\n",
       "    <tr>\n",
       "      <th>354367</th>\n",
       "      <td>2016-03-19 18:57:12</td>\n",
       "      <td>9200</td>\n",
       "      <td>bus</td>\n",
       "      <td>1996</td>\n",
       "      <td>manual</td>\n",
       "      <td>102</td>\n",
       "      <td>transporter</td>\n",
       "      <td>150000</td>\n",
       "      <td>gasoline</td>\n",
       "      <td>volkswagen</td>\n",
       "      <td>no</td>\n",
       "      <td>2016-03-19</td>\n",
       "      <td>0</td>\n",
       "      <td>87439</td>\n",
       "      <td>2016-04-07 07:15:26</td>\n",
       "    </tr>\n",
       "    <tr>\n",
       "      <th>354368</th>\n",
       "      <td>2016-03-20 19:41:08</td>\n",
       "      <td>3400</td>\n",
       "      <td>wagon</td>\n",
       "      <td>2002</td>\n",
       "      <td>manual</td>\n",
       "      <td>100</td>\n",
       "      <td>golf</td>\n",
       "      <td>150000</td>\n",
       "      <td>gasoline</td>\n",
       "      <td>volkswagen</td>\n",
       "      <td>yes</td>\n",
       "      <td>2016-03-20</td>\n",
       "      <td>0</td>\n",
       "      <td>40764</td>\n",
       "      <td>2016-03-24 12:45:21</td>\n",
       "    </tr>\n",
       "  </tbody>\n",
       "</table>\n",
       "<p>327360 rows × 15 columns</p>\n",
       "</div>"
      ],
      "text/plain": [
       "              date_crawled  price vehicle_type  registration_year gearbox  \\\n",
       "0      2016-03-24 11:52:17    480          NaN               1993  manual   \n",
       "1      2016-03-24 10:58:45  18300        coupe               2011  manual   \n",
       "2      2016-03-14 12:52:21   9800          suv               2004    auto   \n",
       "3      2016-03-17 16:54:04   1500        small               2001  manual   \n",
       "4      2016-03-31 17:25:20   3600        small               2008  manual   \n",
       "...                    ...    ...          ...                ...     ...   \n",
       "354364 2016-03-21 09:50:58      0          NaN               2005  manual   \n",
       "354365 2016-03-14 17:48:27   2200          NaN               2005     NaN   \n",
       "354366 2016-03-05 19:56:21   1199  convertible               2000    auto   \n",
       "354367 2016-03-19 18:57:12   9200          bus               1996  manual   \n",
       "354368 2016-03-20 19:41:08   3400        wagon               2002  manual   \n",
       "\n",
       "        power        model  kilometer fuel_type           brand not_repaired  \\\n",
       "0           0         golf     150000    petrol      volkswagen          yes   \n",
       "1         190          NaN     125000  gasoline            audi          yes   \n",
       "2         163        grand     125000  gasoline            jeep          yes   \n",
       "3          75         golf     150000    petrol      volkswagen           no   \n",
       "4          69        fabia      90000  gasoline           skoda           no   \n",
       "...       ...          ...        ...       ...             ...          ...   \n",
       "354364      0         colt     150000    petrol      mitsubishi          yes   \n",
       "354365      0          NaN      20000       NaN  sonstige_autos          yes   \n",
       "354366    101       fortwo     125000    petrol           smart           no   \n",
       "354367    102  transporter     150000  gasoline      volkswagen           no   \n",
       "354368    100         golf     150000  gasoline      volkswagen          yes   \n",
       "\n",
       "       date_created  number_of_pictures  postal_code           last_seen  \n",
       "0        2016-03-24                   0        70435 2016-04-07 03:16:57  \n",
       "1        2016-03-24                   0        66954 2016-04-07 01:46:50  \n",
       "2        2016-03-14                   0        90480 2016-04-05 12:47:46  \n",
       "3        2016-03-17                   0        91074 2016-03-17 17:40:17  \n",
       "4        2016-03-31                   0        60437 2016-04-06 10:17:21  \n",
       "...             ...                 ...          ...                 ...  \n",
       "354364   2016-03-21                   0         2694 2016-03-21 10:42:49  \n",
       "354365   2016-03-14                   0        39576 2016-04-06 00:46:52  \n",
       "354366   2016-03-05                   0        26135 2016-03-11 18:17:12  \n",
       "354367   2016-03-19                   0        87439 2016-04-07 07:15:26  \n",
       "354368   2016-03-20                   0        40764 2016-03-24 12:45:21  \n",
       "\n",
       "[327360 rows x 15 columns]"
      ]
     },
     "execution_count": 18,
     "metadata": {},
     "output_type": "execute_result"
    }
   ],
   "source": [
    "df"
   ]
  },
  {
   "cell_type": "markdown",
   "id": "a008a8dd",
   "metadata": {
    "id": "a008a8dd"
   },
   "source": [
    "С мощностями тоже не всё ладно"
   ]
  },
  {
   "cell_type": "code",
   "execution_count": 19,
   "id": "a3f3225d",
   "metadata": {
    "id": "a3f3225d",
    "outputId": "340cfe71-076d-41aa-810d-775c258833e1"
   },
   "outputs": [
    {
     "data": {
      "text/plain": [
       "array([    0,   190,   163,    75,    69,   102,   109,   125,   101,\n",
       "         105,   140,   115,   131,    60,   136,   160,   231,    50,\n",
       "         193,    99,   113,   218,   122,   129,   306,    95,    61,\n",
       "         177,   170,    55,   143,   286,   232,   150,   156,    80,\n",
       "          82,    90,   155,    54,   185,    87,    86,    84,   224,\n",
       "         235,   200,   178,   265,    77,   110,   144,   120,   116,\n",
       "         184,   126,   204,    88,   194,    64,   305,   197,   179,\n",
       "         250,   313,    41,    45,   165,    98,   130,   114,   211,\n",
       "          56,   118,   201,   213,    58,   107,    83,   174,   100,\n",
       "         220,    73,   192,    68,    66,   299,    74,    52,   147,\n",
       "         310,    71,    97,    65,   239,   203,     5,   300,   103,\n",
       "          85,   258,   320,    63,    81,   148,    70,   145,   180,\n",
       "         230,   280,   260,   104,   188,   333,   186,   117,   141,\n",
       "         234,   158,    39,    92,    51,   135,    59,    53,   209,\n",
       "          43,   146,    67,   106,   166,   276,   344,   249,   237,\n",
       "         245,   111,   326,   279,   138,   175,   226,   301,   334,\n",
       "         128,   124,    33,   219,   241,   167,   182,   196,   238,\n",
       "        1398,   228,   112,    48,   133,    96,   272,   139,  1799,\n",
       "         240,    79,   256,   243,   375,   252,   396,    72,   340,\n",
       "         121,   345,    44,   187,   132,   289,   198,   284,    37,\n",
       "         450,   233,   387,   152,   347,   172,    57,   137,    94,\n",
       "         212,   476,   314,     7,    47,   173,   290,   207,   205,\n",
       "          78,    91,    89,   349,    40,   325,    76,   350,   953,\n",
       "         171,    93,   142,   500,   343,   199,   119,   164,    16,\n",
       "         264,   367,   108,   208,   210,    46,   435,  1001,   225,\n",
       "         127,   176,   161,   603,   307,   354,    35,   206,   771,\n",
       "         355,   273,   223,   255,   151,    30,   123,   154,   149,\n",
       "        7515,  1400,   268,   620,   400,   275,     2,   242,  1779,\n",
       "         285,   162,   328,  1753,   329,   134,   420,   247,   222,\n",
       "         168, 10317,   215,   360,   330,   283,    62,   214,   183,\n",
       "         254,    15,   321,   315,   952,   169,    18,   600,   181,\n",
       "         426,   379,   999,    22,   157,    42,   195,   553,     4,\n",
       "         309,   507,   381,   271,   440,   189,   401,  1111,  2729,\n",
       "          26,   236,  1240,  1704,   521,     1,  1900,   270,   159,\n",
       "         292,   515,  1200,   303,    38,  1993,    14,   216,   610,\n",
       "         504,   267,   331,   261,  1011,   253,   696, 10520,   376,\n",
       "         227,   311,   217,   322,    10,  1999,    11,  1056,   394,\n",
       "          12,   298,   296,    20,    49,   294,   551,  6920,   246,\n",
       "          17,  1625,   368,   363,   390,   221,  1367,   259,   606,\n",
       "          24,  1597,   266,   374,   392,     9,    25,   405,    34,\n",
       "         601,   430,   295,     8,   411,   900,   541,  7512,   382,\n",
       "       10218,  7544,  1102,   287,    19,   751,   297,  1090,   457,\n",
       "         282,   602,   388,   385,     6,  5411,   335,  1360,  3750,\n",
       "         805,  1062,  2017,   750,  1024, 11530,  1796,   269,   460,\n",
       "        1002,   288,  1780, 12012, 17932,   316,  2005,  1800,  1399,\n",
       "         191,   278,   380,   257,   449,  1256,   153,  1653,   520,\n",
       "         560,   202,   281, 12510,     3,  1500,   386,    32,  1202,\n",
       "        2016,  1436,    23,  1405,   671,   274,  1288,  1055, 10912,\n",
       "       15016,  6226,  1115,   277,  1105,   341,  1223,  2340,  8404,\n",
       "        1968,   338,   445,  1920,   517,  4400, 10710, 10522,   431,\n",
       "        1164, 11509,   371,  1501,   428, 11635,   304,   348,  1703,\n",
       "         370,  1910,  1995,   579, 10000,   580,   408,    31,   358,\n",
       "        1403,   489,  5575,   262, 19211,   585,   960,   353,   490,\n",
       "         352,  1801,  1000,   346,   550,  3199,   800,  7508,  1312,\n",
       "        1937,   950,  4700,  1600,  3454, 19208,   251,   850,   337,\n",
       "         365,    29,   700,  8011,  2331,   487,    36,   519,  2461,\n",
       "        6006,  3500,  5815,  1781,  1503,   612,  1596,   229,  1506,\n",
       "        5809, 15020,  1300,  5867,  2172,  1598, 17410,  1363,   584,\n",
       "        1054,   851,  1339,   318,   510,   525,  1700,  1151,   685,\n",
       "        6011,   317,   703,  1771, 15001,   514,   362,   332,  6045,\n",
       "         530,   308,  6010,   475,   903,   640,  2000,   248,   651,\n",
       "        2799, 17011,   505,  1103,  1521,   398,   599,  1998, 10311,\n",
       "         409,  1230, 12684,  8259,  1895,  1317,   871,   324,   776,\n",
       "       17700, 11011,   351,  1199,   459,   357,  1162,  1120,   327,\n",
       "       15033,  1896,   339,   361,   574,  6512,   454,   650, 13616,\n",
       "         604, 16312,  1082,   336, 20000,   416,  1401,  1021,  1870,\n",
       "         909, 13636,  1250,  9710,  6012,   323,  1158,  2009,   902,\n",
       "        6062,  1275,   572,   399,  1016,   244,   743,  1221,  2402,\n",
       "        1362,  1595,   907,   702,  1003,  1432,  9013,   442,  1017,\n",
       "       15017, 10910,  1992,   540,  2018, 11025,  1433,  1701,  2792,\n",
       "        1502,  1239,  1390, 14009,  1160, 11111,  1783,  9007,   923,\n",
       "        1149,   754,  1988,  2004,  5420,  1793,   356,   364, 12512,\n",
       "        7511,  1299,   293, 19312,  1079,  1689,   998,    13,  1100,\n",
       "        1933,   508, 16311,   682,  1922,  7529,   732,  2389,  1005,\n",
       "        2200,  1707,  1416,  8500,  1012,   485, 10110,   421,  4507,\n",
       "        1631,  7518,   377,  1004,  9012,  2007,  2598,  1548,  1241],\n",
       "      dtype=int64)"
      ]
     },
     "execution_count": 19,
     "metadata": {},
     "output_type": "execute_result"
    }
   ],
   "source": [
    "df['power'].unique()"
   ]
  },
  {
   "cell_type": "code",
   "execution_count": 20,
   "id": "00f70069",
   "metadata": {
    "id": "00f70069",
    "outputId": "5fc3091f-c61d-4bbe-cf50-457ac1af7e97"
   },
   "outputs": [
    {
     "data": {
      "image/png": "[encoded data removed]",
      "text/plain": [
       "<Figure size 432x288 with 1 Axes>"
      ]
     },
     "metadata": {
      "needs_background": "light"
     },
     "output_type": "display_data"
    }
   ],
   "source": [
    "df.query('power < 500')['power'].hist(bins=100);"
   ]
  },
  {
   "cell_type": "markdown",
   "id": "8a779186",
   "metadata": {
    "id": "8a779186"
   },
   "source": [
    "Попробуем, для начала, заменить кол-во лс медианой по таким же авто"
   ]
  },
  {
   "cell_type": "code",
   "execution_count": 21,
   "id": "ef79f2da",
   "metadata": {
    "id": "ef79f2da"
   },
   "outputs": [],
   "source": [
    "def power_to_nan(row):\n",
    "    power = row['power']\n",
    "    if power < 50:\n",
    "        return np.nan\n",
    "    if power >= 50:\n",
    "        return power"
   ]
  },
  {
   "cell_type": "code",
   "execution_count": 22,
   "id": "f78942bd",
   "metadata": {
    "id": "f78942bd"
   },
   "outputs": [],
   "source": [
    "df['power'] = df.apply(power_to_nan, axis=1)\n",
    "df['power'] = df['power'].fillna(df.groupby('model')['power'].transform('median'))\n",
    "df.dropna(subset=['power'], inplace=True)"
   ]
  },
  {
   "cell_type": "code",
   "execution_count": 23,
   "id": "148d676d",
   "metadata": {
    "colab": {
     "base_uri": "https://localhost:8080/",
     "height": 265
    },
    "id": "148d676d",
    "outputId": "b08ea42f-bcda-4c20-e06e-c70624f99c89"
   },
   "outputs": [
    {
     "data": {
      "image/png": "[encoded data removed]",
      "text/plain": [
       "<Figure size 432x288 with 1 Axes>"
      ]
     },
     "metadata": {
      "needs_background": "light"
     },
     "output_type": "display_data"
    }
   ],
   "source": [
    "df['price'].hist(bins=100);"
   ]
  },
  {
   "cell_type": "code",
   "execution_count": 24,
   "id": "264d4b99",
   "metadata": {
    "id": "264d4b99"
   },
   "outputs": [],
   "source": [
    "df['gearbox'].fillna('manual', inplace=True)"
   ]
  },
  {
   "cell_type": "markdown",
   "id": "030bcc26",
   "metadata": {
    "id": "030bcc26"
   },
   "source": [
    "Тут у меня возникли сложности с границами цен, взял интуитивно"
   ]
  },
  {
   "cell_type": "markdown",
   "id": "0b027929",
   "metadata": {
    "id": "0b027929"
   },
   "source": [
    "Заменим цены ниже 100 евро на К-близжайщих соседей. Но для начала подготовим датасет для дальнейшей работы"
   ]
  },
  {
   "cell_type": "code",
   "execution_count": 25,
   "id": "73283a35",
   "metadata": {
    "id": "73283a35"
   },
   "outputs": [],
   "source": [
    "def price_to_nan(row):\n",
    "    price = row['price']\n",
    "    if price < 100:\n",
    "        return np.nan\n",
    "    if price >= 100:\n",
    "        return price\n",
    "df['price'] = df.apply(price_to_nan, axis=1)"
   ]
  },
  {
   "cell_type": "code",
   "execution_count": 26,
   "id": "d2fe1dad",
   "metadata": {
    "id": "d2fe1dad",
    "outputId": "20615407-69c7-4614-e650-91d0fb7667da"
   },
   "outputs": [
    {
     "data": {
      "text/plain": [
       "date_crawled          0.000000\n",
       "price                 0.030740\n",
       "vehicle_type          0.057486\n",
       "registration_year     0.000000\n",
       "gearbox               0.000000\n",
       "power                 0.000000\n",
       "model                 0.032633\n",
       "kilometer             0.000000\n",
       "fuel_type             0.069175\n",
       "brand                 0.000000\n",
       "not_repaired          0.000000\n",
       "date_created          0.000000\n",
       "number_of_pictures    0.000000\n",
       "postal_code           0.000000\n",
       "last_seen             0.000000\n",
       "dtype: float64"
      ]
     },
     "execution_count": 26,
     "metadata": {},
     "output_type": "execute_result"
    }
   ],
   "source": [
    "df.isna().mean()"
   ]
  },
  {
   "cell_type": "markdown",
   "id": "b3e58f7b",
   "metadata": {
    "id": "b3e58f7b"
   },
   "source": [
    "Удалим лишние столбцы"
   ]
  },
  {
   "cell_type": "code",
   "execution_count": 27,
   "id": "b47470ca",
   "metadata": {
    "id": "b47470ca"
   },
   "outputs": [],
   "source": [
    "df.drop(['date_crawled', 'date_created', 'number_of_pictures', 'postal_code', 'last_seen'], axis=1, inplace=True)"
   ]
  },
  {
   "cell_type": "code",
   "execution_count": 28,
   "id": "cb78f707",
   "metadata": {
    "colab": {
     "base_uri": "https://localhost:8080/",
     "height": 488
    },
    "id": "cb78f707",
    "outputId": "2d24fe1b-1482-4c3a-c310-aa12603dd6ac"
   },
   "outputs": [
    {
     "data": {
      "text/html": [
       "<div>\n",
       "<style scoped>\n",
       "    .dataframe tbody tr th:only-of-type {\n",
       "        vertical-align: middle;\n",
       "    }\n",
       "\n",
       "    .dataframe tbody tr th {\n",
       "        vertical-align: top;\n",
       "    }\n",
       "\n",
       "    .dataframe thead tr th {\n",
       "        text-align: left;\n",
       "    }\n",
       "\n",
       "    .dataframe thead tr:last-of-type th {\n",
       "        text-align: right;\n",
       "    }\n",
       "</style>\n",
       "<table border=\"1\" class=\"dataframe\">\n",
       "  <thead>\n",
       "    <tr>\n",
       "      <th></th>\n",
       "      <th colspan=\"21\" halign=\"left\">count</th>\n",
       "    </tr>\n",
       "    <tr>\n",
       "      <th></th>\n",
       "      <th colspan=\"21\" halign=\"left\">price</th>\n",
       "    </tr>\n",
       "    <tr>\n",
       "      <th>model</th>\n",
       "      <th>100</th>\n",
       "      <th>145</th>\n",
       "      <th>147</th>\n",
       "      <th>156</th>\n",
       "      <th>159</th>\n",
       "      <th>1_reihe</th>\n",
       "      <th>1er</th>\n",
       "      <th>200</th>\n",
       "      <th>2_reihe</th>\n",
       "      <th>300c</th>\n",
       "      <th>...</th>\n",
       "      <th>wrangler</th>\n",
       "      <th>x_reihe</th>\n",
       "      <th>x_trail</th>\n",
       "      <th>x_type</th>\n",
       "      <th>xc_reihe</th>\n",
       "      <th>yaris</th>\n",
       "      <th>yeti</th>\n",
       "      <th>ypsilon</th>\n",
       "      <th>z_reihe</th>\n",
       "      <th>zafira</th>\n",
       "    </tr>\n",
       "    <tr>\n",
       "      <th>vehicle_type</th>\n",
       "      <th></th>\n",
       "      <th></th>\n",
       "      <th></th>\n",
       "      <th></th>\n",
       "      <th></th>\n",
       "      <th></th>\n",
       "      <th></th>\n",
       "      <th></th>\n",
       "      <th></th>\n",
       "      <th></th>\n",
       "      <th></th>\n",
       "      <th></th>\n",
       "      <th></th>\n",
       "      <th></th>\n",
       "      <th></th>\n",
       "      <th></th>\n",
       "      <th></th>\n",
       "      <th></th>\n",
       "      <th></th>\n",
       "      <th></th>\n",
       "      <th></th>\n",
       "    </tr>\n",
       "  </thead>\n",
       "  <tbody>\n",
       "    <tr>\n",
       "      <th>bus</th>\n",
       "      <td>NaN</td>\n",
       "      <td>NaN</td>\n",
       "      <td>NaN</td>\n",
       "      <td>NaN</td>\n",
       "      <td>NaN</td>\n",
       "      <td>4.0</td>\n",
       "      <td>NaN</td>\n",
       "      <td>NaN</td>\n",
       "      <td>3.0</td>\n",
       "      <td>NaN</td>\n",
       "      <td>...</td>\n",
       "      <td>NaN</td>\n",
       "      <td>3.0</td>\n",
       "      <td>1.0</td>\n",
       "      <td>NaN</td>\n",
       "      <td>NaN</td>\n",
       "      <td>42.0</td>\n",
       "      <td>NaN</td>\n",
       "      <td>NaN</td>\n",
       "      <td>NaN</td>\n",
       "      <td>2364.0</td>\n",
       "    </tr>\n",
       "    <tr>\n",
       "      <th>convertible</th>\n",
       "      <td>1.0</td>\n",
       "      <td>NaN</td>\n",
       "      <td>NaN</td>\n",
       "      <td>NaN</td>\n",
       "      <td>NaN</td>\n",
       "      <td>6.0</td>\n",
       "      <td>251.0</td>\n",
       "      <td>1.0</td>\n",
       "      <td>1494.0</td>\n",
       "      <td>NaN</td>\n",
       "      <td>...</td>\n",
       "      <td>NaN</td>\n",
       "      <td>NaN</td>\n",
       "      <td>NaN</td>\n",
       "      <td>NaN</td>\n",
       "      <td>NaN</td>\n",
       "      <td>NaN</td>\n",
       "      <td>NaN</td>\n",
       "      <td>1.0</td>\n",
       "      <td>645.0</td>\n",
       "      <td>1.0</td>\n",
       "    </tr>\n",
       "    <tr>\n",
       "      <th>coupe</th>\n",
       "      <td>1.0</td>\n",
       "      <td>2.0</td>\n",
       "      <td>26.0</td>\n",
       "      <td>3.0</td>\n",
       "      <td>NaN</td>\n",
       "      <td>3.0</td>\n",
       "      <td>242.0</td>\n",
       "      <td>NaN</td>\n",
       "      <td>33.0</td>\n",
       "      <td>NaN</td>\n",
       "      <td>...</td>\n",
       "      <td>NaN</td>\n",
       "      <td>NaN</td>\n",
       "      <td>NaN</td>\n",
       "      <td>NaN</td>\n",
       "      <td>NaN</td>\n",
       "      <td>NaN</td>\n",
       "      <td>NaN</td>\n",
       "      <td>NaN</td>\n",
       "      <td>50.0</td>\n",
       "      <td>1.0</td>\n",
       "    </tr>\n",
       "    <tr>\n",
       "      <th>other</th>\n",
       "      <td>NaN</td>\n",
       "      <td>1.0</td>\n",
       "      <td>6.0</td>\n",
       "      <td>1.0</td>\n",
       "      <td>NaN</td>\n",
       "      <td>1.0</td>\n",
       "      <td>20.0</td>\n",
       "      <td>NaN</td>\n",
       "      <td>10.0</td>\n",
       "      <td>NaN</td>\n",
       "      <td>...</td>\n",
       "      <td>1.0</td>\n",
       "      <td>1.0</td>\n",
       "      <td>1.0</td>\n",
       "      <td>NaN</td>\n",
       "      <td>NaN</td>\n",
       "      <td>3.0</td>\n",
       "      <td>2.0</td>\n",
       "      <td>NaN</td>\n",
       "      <td>NaN</td>\n",
       "      <td>22.0</td>\n",
       "    </tr>\n",
       "    <tr>\n",
       "      <th>sedan</th>\n",
       "      <td>161.0</td>\n",
       "      <td>12.0</td>\n",
       "      <td>358.0</td>\n",
       "      <td>267.0</td>\n",
       "      <td>55.0</td>\n",
       "      <td>30.0</td>\n",
       "      <td>2642.0</td>\n",
       "      <td>NaN</td>\n",
       "      <td>186.0</td>\n",
       "      <td>59.0</td>\n",
       "      <td>...</td>\n",
       "      <td>NaN</td>\n",
       "      <td>725.0</td>\n",
       "      <td>NaN</td>\n",
       "      <td>115.0</td>\n",
       "      <td>3.0</td>\n",
       "      <td>27.0</td>\n",
       "      <td>NaN</td>\n",
       "      <td>NaN</td>\n",
       "      <td>1.0</td>\n",
       "      <td>22.0</td>\n",
       "    </tr>\n",
       "    <tr>\n",
       "      <th>small</th>\n",
       "      <td>NaN</td>\n",
       "      <td>19.0</td>\n",
       "      <td>93.0</td>\n",
       "      <td>2.0</td>\n",
       "      <td>NaN</td>\n",
       "      <td>1051.0</td>\n",
       "      <td>138.0</td>\n",
       "      <td>NaN</td>\n",
       "      <td>2456.0</td>\n",
       "      <td>NaN</td>\n",
       "      <td>...</td>\n",
       "      <td>NaN</td>\n",
       "      <td>NaN</td>\n",
       "      <td>NaN</td>\n",
       "      <td>NaN</td>\n",
       "      <td>NaN</td>\n",
       "      <td>879.0</td>\n",
       "      <td>NaN</td>\n",
       "      <td>175.0</td>\n",
       "      <td>NaN</td>\n",
       "      <td>11.0</td>\n",
       "    </tr>\n",
       "    <tr>\n",
       "      <th>suv</th>\n",
       "      <td>NaN</td>\n",
       "      <td>NaN</td>\n",
       "      <td>0.0</td>\n",
       "      <td>NaN</td>\n",
       "      <td>NaN</td>\n",
       "      <td>NaN</td>\n",
       "      <td>NaN</td>\n",
       "      <td>NaN</td>\n",
       "      <td>4.0</td>\n",
       "      <td>NaN</td>\n",
       "      <td>...</td>\n",
       "      <td>80.0</td>\n",
       "      <td>771.0</td>\n",
       "      <td>196.0</td>\n",
       "      <td>NaN</td>\n",
       "      <td>216.0</td>\n",
       "      <td>NaN</td>\n",
       "      <td>168.0</td>\n",
       "      <td>NaN</td>\n",
       "      <td>NaN</td>\n",
       "      <td>7.0</td>\n",
       "    </tr>\n",
       "    <tr>\n",
       "      <th>wagon</th>\n",
       "      <td>69.0</td>\n",
       "      <td>NaN</td>\n",
       "      <td>2.0</td>\n",
       "      <td>281.0</td>\n",
       "      <td>143.0</td>\n",
       "      <td>53.0</td>\n",
       "      <td>20.0</td>\n",
       "      <td>NaN</td>\n",
       "      <td>270.0</td>\n",
       "      <td>69.0</td>\n",
       "      <td>...</td>\n",
       "      <td>NaN</td>\n",
       "      <td>8.0</td>\n",
       "      <td>NaN</td>\n",
       "      <td>30.0</td>\n",
       "      <td>41.0</td>\n",
       "      <td>7.0</td>\n",
       "      <td>1.0</td>\n",
       "      <td>NaN</td>\n",
       "      <td>NaN</td>\n",
       "      <td>223.0</td>\n",
       "    </tr>\n",
       "  </tbody>\n",
       "</table>\n",
       "<p>8 rows × 246 columns</p>\n",
       "</div>"
      ],
      "text/plain": [
       "              count                                                          \\\n",
       "              price                                                           \n",
       "model           100   145    147    156    159 1_reihe     1er  200 2_reihe   \n",
       "vehicle_type                                                                  \n",
       "bus             NaN   NaN    NaN    NaN    NaN     4.0     NaN  NaN     3.0   \n",
       "convertible     1.0   NaN    NaN    NaN    NaN     6.0   251.0  1.0  1494.0   \n",
       "coupe           1.0   2.0   26.0    3.0    NaN     3.0   242.0  NaN    33.0   \n",
       "other           NaN   1.0    6.0    1.0    NaN     1.0    20.0  NaN    10.0   \n",
       "sedan         161.0  12.0  358.0  267.0   55.0    30.0  2642.0  NaN   186.0   \n",
       "small           NaN  19.0   93.0    2.0    NaN  1051.0   138.0  NaN  2456.0   \n",
       "suv             NaN   NaN    0.0    NaN    NaN     NaN     NaN  NaN     4.0   \n",
       "wagon          69.0   NaN    2.0  281.0  143.0    53.0    20.0  NaN   270.0   \n",
       "\n",
       "                    ...                                                  \\\n",
       "                    ...                                                   \n",
       "model         300c  ... wrangler x_reihe x_trail x_type xc_reihe  yaris   \n",
       "vehicle_type        ...                                                   \n",
       "bus            NaN  ...      NaN     3.0     1.0    NaN      NaN   42.0   \n",
       "convertible    NaN  ...      NaN     NaN     NaN    NaN      NaN    NaN   \n",
       "coupe          NaN  ...      NaN     NaN     NaN    NaN      NaN    NaN   \n",
       "other          NaN  ...      1.0     1.0     1.0    NaN      NaN    3.0   \n",
       "sedan         59.0  ...      NaN   725.0     NaN  115.0      3.0   27.0   \n",
       "small          NaN  ...      NaN     NaN     NaN    NaN      NaN  879.0   \n",
       "suv            NaN  ...     80.0   771.0   196.0    NaN    216.0    NaN   \n",
       "wagon         69.0  ...      NaN     8.0     NaN   30.0     41.0    7.0   \n",
       "\n",
       "                                             \n",
       "                                             \n",
       "model          yeti ypsilon z_reihe  zafira  \n",
       "vehicle_type                                 \n",
       "bus             NaN     NaN     NaN  2364.0  \n",
       "convertible     NaN     1.0   645.0     1.0  \n",
       "coupe           NaN     NaN    50.0     1.0  \n",
       "other           2.0     NaN     NaN    22.0  \n",
       "sedan           NaN     NaN     1.0    22.0  \n",
       "small           NaN   175.0     NaN    11.0  \n",
       "suv           168.0     NaN     NaN     7.0  \n",
       "wagon           1.0     NaN     NaN   223.0  \n",
       "\n",
       "[8 rows x 246 columns]"
      ]
     },
     "execution_count": 28,
     "metadata": {},
     "output_type": "execute_result"
    }
   ],
   "source": [
    "df.pivot_table(index=['vehicle_type'], columns=['model'], values=['price'], aggfunc=['count'])"
   ]
  },
  {
   "cell_type": "markdown",
   "id": "2b2f4ec1",
   "metadata": {
    "id": "2b2f4ec1"
   },
   "source": [
    "vehicle_type и fuel_type бывает разным у одной модели.  \n",
    "Поэтому заменим пропуски на заглушку и посмотрим как будет дальше"
   ]
  },
  {
   "cell_type": "code",
   "execution_count": 29,
   "id": "39286c11",
   "metadata": {
    "id": "39286c11"
   },
   "outputs": [],
   "source": [
    "df_cat = ['vehicle_type', 'gearbox', 'model', 'fuel_type', 'brand', 'not_repaired']\n",
    "df_col = ['registration_year', 'power', 'kilometer']"
   ]
  },
  {
   "cell_type": "code",
   "execution_count": 30,
   "id": "765d31b6",
   "metadata": {
    "id": "765d31b6"
   },
   "outputs": [],
   "source": [
    "df[df_cat+df_col] = df[df_cat+df_col].fillna('unknown')"
   ]
  },
  {
   "cell_type": "markdown",
   "id": "59956e30",
   "metadata": {
    "id": "59956e30"
   },
   "source": [
    "Применим порядковое кодирование"
   ]
  },
  {
   "cell_type": "code",
   "execution_count": 31,
   "id": "630aba04",
   "metadata": {
    "id": "630aba04"
   },
   "outputs": [],
   "source": [
    "encoder = OrdinalEncoder()\n",
    "\n",
    "df[df_cat] = pd.DataFrame(encoder.fit_transform(df[df_cat]),\n",
    "                                columns=df[df_cat].columns, \n",
    "                                index=df[df_cat].index)"
   ]
  },
  {
   "cell_type": "markdown",
   "id": "83224ca5",
   "metadata": {
    "id": "83224ca5"
   },
   "source": [
    "И заменим, наконец-то, аномальные цены на K-близжайщих соседей"
   ]
  },
  {
   "cell_type": "code",
   "execution_count": 32,
   "id": "3829624b",
   "metadata": {
    "id": "3829624b"
   },
   "outputs": [],
   "source": [
    "#imputer = KNNImputer()\n",
    "#imputer.fit(df)"
   ]
  },
  {
   "cell_type": "code",
   "execution_count": 33,
   "id": "ce9de039",
   "metadata": {
    "id": "ce9de039"
   },
   "outputs": [],
   "source": [
    "df['price'] = df['price'].fillna(df.groupby(['model', 'registration_year'])['price'].transform('median'))"
   ]
  },
  {
   "cell_type": "code",
   "execution_count": 34,
   "id": "b6f8e4a8",
   "metadata": {
    "id": "b6f8e4a8"
   },
   "outputs": [],
   "source": [
    "df.dropna(subset=['price'], inplace=True)"
   ]
  },
  {
   "cell_type": "code",
   "execution_count": 35,
   "id": "3c1c9476",
   "metadata": {
    "colab": {
     "base_uri": "https://localhost:8080/"
    },
    "id": "3c1c9476",
    "outputId": "fab0a826-9317-4f63-b518-da41888ac2d6"
   },
   "outputs": [
    {
     "data": {
      "text/plain": [
       "0"
      ]
     },
     "execution_count": 35,
     "metadata": {},
     "output_type": "execute_result"
    }
   ],
   "source": [
    "df['price'].isna().sum()"
   ]
  },
  {
   "cell_type": "markdown",
   "id": "439af394",
   "metadata": {
    "id": "439af394"
   },
   "source": [
    "<div class=\"alert alert-info\"> \n",
    "    Убрал KNN, заменил медианой по модели и году выпуска"
   ]
  },
  {
   "cell_type": "code",
   "execution_count": 36,
   "id": "ec3d345c",
   "metadata": {
    "id": "ec3d345c"
   },
   "outputs": [],
   "source": [
    "#%%time\n",
    "#df = pd.DataFrame(imputer.transform(df), columns = df.columns)"
   ]
  },
  {
   "cell_type": "code",
   "execution_count": 37,
   "id": "e19a8e63",
   "metadata": {
    "id": "e19a8e63",
    "outputId": "5cdaa87f-5396-4ab5-ccd4-9828fd1ea16a"
   },
   "outputs": [
    {
     "data": {
      "text/html": [
       "<div>\n",
       "<style scoped>\n",
       "    .dataframe tbody tr th:only-of-type {\n",
       "        vertical-align: middle;\n",
       "    }\n",
       "\n",
       "    .dataframe tbody tr th {\n",
       "        vertical-align: top;\n",
       "    }\n",
       "\n",
       "    .dataframe thead th {\n",
       "        text-align: right;\n",
       "    }\n",
       "</style>\n",
       "<table border=\"1\" class=\"dataframe\">\n",
       "  <thead>\n",
       "    <tr style=\"text-align: right;\">\n",
       "      <th></th>\n",
       "      <th>price</th>\n",
       "      <th>vehicle_type</th>\n",
       "      <th>registration_year</th>\n",
       "      <th>gearbox</th>\n",
       "      <th>power</th>\n",
       "      <th>model</th>\n",
       "      <th>kilometer</th>\n",
       "      <th>fuel_type</th>\n",
       "      <th>brand</th>\n",
       "      <th>not_repaired</th>\n",
       "    </tr>\n",
       "  </thead>\n",
       "  <tbody>\n",
       "    <tr>\n",
       "      <th>0</th>\n",
       "      <td>480.0</td>\n",
       "      <td>7.0</td>\n",
       "      <td>1993</td>\n",
       "      <td>1.0</td>\n",
       "      <td>101.0</td>\n",
       "      <td>115.0</td>\n",
       "      <td>150000</td>\n",
       "      <td>6.0</td>\n",
       "      <td>38.0</td>\n",
       "      <td>1.0</td>\n",
       "    </tr>\n",
       "    <tr>\n",
       "      <th>1</th>\n",
       "      <td>18300.0</td>\n",
       "      <td>2.0</td>\n",
       "      <td>2011</td>\n",
       "      <td>1.0</td>\n",
       "      <td>190.0</td>\n",
       "      <td>224.0</td>\n",
       "      <td>125000</td>\n",
       "      <td>2.0</td>\n",
       "      <td>1.0</td>\n",
       "      <td>1.0</td>\n",
       "    </tr>\n",
       "    <tr>\n",
       "      <th>2</th>\n",
       "      <td>9800.0</td>\n",
       "      <td>6.0</td>\n",
       "      <td>2004</td>\n",
       "      <td>0.0</td>\n",
       "      <td>163.0</td>\n",
       "      <td>116.0</td>\n",
       "      <td>125000</td>\n",
       "      <td>2.0</td>\n",
       "      <td>14.0</td>\n",
       "      <td>1.0</td>\n",
       "    </tr>\n",
       "    <tr>\n",
       "      <th>3</th>\n",
       "      <td>1500.0</td>\n",
       "      <td>5.0</td>\n",
       "      <td>2001</td>\n",
       "      <td>1.0</td>\n",
       "      <td>75.0</td>\n",
       "      <td>115.0</td>\n",
       "      <td>150000</td>\n",
       "      <td>6.0</td>\n",
       "      <td>38.0</td>\n",
       "      <td>0.0</td>\n",
       "    </tr>\n",
       "    <tr>\n",
       "      <th>4</th>\n",
       "      <td>3600.0</td>\n",
       "      <td>5.0</td>\n",
       "      <td>2008</td>\n",
       "      <td>1.0</td>\n",
       "      <td>69.0</td>\n",
       "      <td>100.0</td>\n",
       "      <td>90000</td>\n",
       "      <td>2.0</td>\n",
       "      <td>31.0</td>\n",
       "      <td>0.0</td>\n",
       "    </tr>\n",
       "    <tr>\n",
       "      <th>...</th>\n",
       "      <td>...</td>\n",
       "      <td>...</td>\n",
       "      <td>...</td>\n",
       "      <td>...</td>\n",
       "      <td>...</td>\n",
       "      <td>...</td>\n",
       "      <td>...</td>\n",
       "      <td>...</td>\n",
       "      <td>...</td>\n",
       "      <td>...</td>\n",
       "    </tr>\n",
       "    <tr>\n",
       "      <th>354363</th>\n",
       "      <td>1150.0</td>\n",
       "      <td>0.0</td>\n",
       "      <td>2000</td>\n",
       "      <td>1.0</td>\n",
       "      <td>125.0</td>\n",
       "      <td>246.0</td>\n",
       "      <td>150000</td>\n",
       "      <td>6.0</td>\n",
       "      <td>24.0</td>\n",
       "      <td>0.0</td>\n",
       "    </tr>\n",
       "    <tr>\n",
       "      <th>354364</th>\n",
       "      <td>2500.0</td>\n",
       "      <td>7.0</td>\n",
       "      <td>2005</td>\n",
       "      <td>1.0</td>\n",
       "      <td>82.0</td>\n",
       "      <td>77.0</td>\n",
       "      <td>150000</td>\n",
       "      <td>6.0</td>\n",
       "      <td>22.0</td>\n",
       "      <td>1.0</td>\n",
       "    </tr>\n",
       "    <tr>\n",
       "      <th>354366</th>\n",
       "      <td>1199.0</td>\n",
       "      <td>1.0</td>\n",
       "      <td>2000</td>\n",
       "      <td>0.0</td>\n",
       "      <td>101.0</td>\n",
       "      <td>105.0</td>\n",
       "      <td>125000</td>\n",
       "      <td>6.0</td>\n",
       "      <td>32.0</td>\n",
       "      <td>0.0</td>\n",
       "    </tr>\n",
       "    <tr>\n",
       "      <th>354367</th>\n",
       "      <td>9200.0</td>\n",
       "      <td>0.0</td>\n",
       "      <td>1996</td>\n",
       "      <td>1.0</td>\n",
       "      <td>102.0</td>\n",
       "      <td>220.0</td>\n",
       "      <td>150000</td>\n",
       "      <td>2.0</td>\n",
       "      <td>38.0</td>\n",
       "      <td>0.0</td>\n",
       "    </tr>\n",
       "    <tr>\n",
       "      <th>354368</th>\n",
       "      <td>3400.0</td>\n",
       "      <td>8.0</td>\n",
       "      <td>2002</td>\n",
       "      <td>1.0</td>\n",
       "      <td>100.0</td>\n",
       "      <td>115.0</td>\n",
       "      <td>150000</td>\n",
       "      <td>2.0</td>\n",
       "      <td>38.0</td>\n",
       "      <td>1.0</td>\n",
       "    </tr>\n",
       "  </tbody>\n",
       "</table>\n",
       "<p>322236 rows × 10 columns</p>\n",
       "</div>"
      ],
      "text/plain": [
       "          price  vehicle_type  registration_year  gearbox  power  model  \\\n",
       "0         480.0           7.0               1993      1.0  101.0  115.0   \n",
       "1       18300.0           2.0               2011      1.0  190.0  224.0   \n",
       "2        9800.0           6.0               2004      0.0  163.0  116.0   \n",
       "3        1500.0           5.0               2001      1.0   75.0  115.0   \n",
       "4        3600.0           5.0               2008      1.0   69.0  100.0   \n",
       "...         ...           ...                ...      ...    ...    ...   \n",
       "354363   1150.0           0.0               2000      1.0  125.0  246.0   \n",
       "354364   2500.0           7.0               2005      1.0   82.0   77.0   \n",
       "354366   1199.0           1.0               2000      0.0  101.0  105.0   \n",
       "354367   9200.0           0.0               1996      1.0  102.0  220.0   \n",
       "354368   3400.0           8.0               2002      1.0  100.0  115.0   \n",
       "\n",
       "        kilometer  fuel_type  brand  not_repaired  \n",
       "0          150000        6.0   38.0           1.0  \n",
       "1          125000        2.0    1.0           1.0  \n",
       "2          125000        2.0   14.0           1.0  \n",
       "3          150000        6.0   38.0           0.0  \n",
       "4           90000        2.0   31.0           0.0  \n",
       "...           ...        ...    ...           ...  \n",
       "354363     150000        6.0   24.0           0.0  \n",
       "354364     150000        6.0   22.0           1.0  \n",
       "354366     125000        6.0   32.0           0.0  \n",
       "354367     150000        2.0   38.0           0.0  \n",
       "354368     150000        2.0   38.0           1.0  \n",
       "\n",
       "[322236 rows x 10 columns]"
      ]
     },
     "execution_count": 37,
     "metadata": {},
     "output_type": "execute_result"
    }
   ],
   "source": [
    "df"
   ]
  },
  {
   "cell_type": "code",
   "execution_count": 38,
   "id": "35ea2673",
   "metadata": {
    "id": "35ea2673",
    "outputId": "bfcef6e9-58b7-4499-d1bd-e36fc806f377"
   },
   "outputs": [
    {
     "data": {
      "text/plain": [
       "0.909323332458539"
      ]
     },
     "execution_count": 38,
     "metadata": {},
     "output_type": "execute_result"
    }
   ],
   "source": [
    "df.shape[0] / shape_origin"
   ]
  },
  {
   "cell_type": "markdown",
   "id": "1d074519",
   "metadata": {
    "id": "1d074519"
   },
   "source": [
    "Удалили всего 6% данных."
   ]
  },
  {
   "cell_type": "code",
   "execution_count": 39,
   "id": "42f11c73",
   "metadata": {
    "id": "42f11c73",
    "outputId": "ea17fd05-80cd-4668-9e53-31f3030fd032",
    "scrolled": true
   },
   "outputs": [
    {
     "data": {
      "image/png": "[encoded data removed]",
      "text/plain": [
       "<Figure size 432x288 with 2 Axes>"
      ]
     },
     "metadata": {
      "needs_background": "light"
     },
     "output_type": "display_data"
    }
   ],
   "source": [
    "sns.heatmap(df.corr(), annot=True);"
   ]
  },
  {
   "cell_type": "markdown",
   "id": "608ed0fa",
   "metadata": {
    "id": "608ed0fa"
   },
   "source": [
    "Особой зависимости между столбцами нет, мультиколлинеарности быть не болжно "
   ]
  },
  {
   "cell_type": "markdown",
   "id": "abf140fd",
   "metadata": {
    "id": "abf140fd"
   },
   "source": [
    "## Обучение модели"
   ]
  },
  {
   "cell_type": "code",
   "execution_count": 40,
   "id": "2279fc7d",
   "metadata": {
    "id": "2279fc7d",
    "outputId": "1b0a51d8-409c-4bdb-fb47-bce4c1715524"
   },
   "outputs": [
    {
     "data": {
      "text/html": [
       "<div>\n",
       "<style scoped>\n",
       "    .dataframe tbody tr th:only-of-type {\n",
       "        vertical-align: middle;\n",
       "    }\n",
       "\n",
       "    .dataframe tbody tr th {\n",
       "        vertical-align: top;\n",
       "    }\n",
       "\n",
       "    .dataframe thead th {\n",
       "        text-align: right;\n",
       "    }\n",
       "</style>\n",
       "<table border=\"1\" class=\"dataframe\">\n",
       "  <thead>\n",
       "    <tr style=\"text-align: right;\">\n",
       "      <th></th>\n",
       "      <th>price</th>\n",
       "      <th>vehicle_type</th>\n",
       "      <th>registration_year</th>\n",
       "      <th>gearbox</th>\n",
       "      <th>power</th>\n",
       "      <th>model</th>\n",
       "      <th>kilometer</th>\n",
       "      <th>fuel_type</th>\n",
       "      <th>brand</th>\n",
       "      <th>not_repaired</th>\n",
       "    </tr>\n",
       "  </thead>\n",
       "  <tbody>\n",
       "    <tr>\n",
       "      <th>0</th>\n",
       "      <td>480.0</td>\n",
       "      <td>7.0</td>\n",
       "      <td>1993</td>\n",
       "      <td>1.0</td>\n",
       "      <td>101.0</td>\n",
       "      <td>115.0</td>\n",
       "      <td>150000</td>\n",
       "      <td>6.0</td>\n",
       "      <td>38.0</td>\n",
       "      <td>1.0</td>\n",
       "    </tr>\n",
       "    <tr>\n",
       "      <th>1</th>\n",
       "      <td>18300.0</td>\n",
       "      <td>2.0</td>\n",
       "      <td>2011</td>\n",
       "      <td>1.0</td>\n",
       "      <td>190.0</td>\n",
       "      <td>224.0</td>\n",
       "      <td>125000</td>\n",
       "      <td>2.0</td>\n",
       "      <td>1.0</td>\n",
       "      <td>1.0</td>\n",
       "    </tr>\n",
       "    <tr>\n",
       "      <th>2</th>\n",
       "      <td>9800.0</td>\n",
       "      <td>6.0</td>\n",
       "      <td>2004</td>\n",
       "      <td>0.0</td>\n",
       "      <td>163.0</td>\n",
       "      <td>116.0</td>\n",
       "      <td>125000</td>\n",
       "      <td>2.0</td>\n",
       "      <td>14.0</td>\n",
       "      <td>1.0</td>\n",
       "    </tr>\n",
       "    <tr>\n",
       "      <th>3</th>\n",
       "      <td>1500.0</td>\n",
       "      <td>5.0</td>\n",
       "      <td>2001</td>\n",
       "      <td>1.0</td>\n",
       "      <td>75.0</td>\n",
       "      <td>115.0</td>\n",
       "      <td>150000</td>\n",
       "      <td>6.0</td>\n",
       "      <td>38.0</td>\n",
       "      <td>0.0</td>\n",
       "    </tr>\n",
       "    <tr>\n",
       "      <th>4</th>\n",
       "      <td>3600.0</td>\n",
       "      <td>5.0</td>\n",
       "      <td>2008</td>\n",
       "      <td>1.0</td>\n",
       "      <td>69.0</td>\n",
       "      <td>100.0</td>\n",
       "      <td>90000</td>\n",
       "      <td>2.0</td>\n",
       "      <td>31.0</td>\n",
       "      <td>0.0</td>\n",
       "    </tr>\n",
       "    <tr>\n",
       "      <th>...</th>\n",
       "      <td>...</td>\n",
       "      <td>...</td>\n",
       "      <td>...</td>\n",
       "      <td>...</td>\n",
       "      <td>...</td>\n",
       "      <td>...</td>\n",
       "      <td>...</td>\n",
       "      <td>...</td>\n",
       "      <td>...</td>\n",
       "      <td>...</td>\n",
       "    </tr>\n",
       "    <tr>\n",
       "      <th>354363</th>\n",
       "      <td>1150.0</td>\n",
       "      <td>0.0</td>\n",
       "      <td>2000</td>\n",
       "      <td>1.0</td>\n",
       "      <td>125.0</td>\n",
       "      <td>246.0</td>\n",
       "      <td>150000</td>\n",
       "      <td>6.0</td>\n",
       "      <td>24.0</td>\n",
       "      <td>0.0</td>\n",
       "    </tr>\n",
       "    <tr>\n",
       "      <th>354364</th>\n",
       "      <td>2500.0</td>\n",
       "      <td>7.0</td>\n",
       "      <td>2005</td>\n",
       "      <td>1.0</td>\n",
       "      <td>82.0</td>\n",
       "      <td>77.0</td>\n",
       "      <td>150000</td>\n",
       "      <td>6.0</td>\n",
       "      <td>22.0</td>\n",
       "      <td>1.0</td>\n",
       "    </tr>\n",
       "    <tr>\n",
       "      <th>354366</th>\n",
       "      <td>1199.0</td>\n",
       "      <td>1.0</td>\n",
       "      <td>2000</td>\n",
       "      <td>0.0</td>\n",
       "      <td>101.0</td>\n",
       "      <td>105.0</td>\n",
       "      <td>125000</td>\n",
       "      <td>6.0</td>\n",
       "      <td>32.0</td>\n",
       "      <td>0.0</td>\n",
       "    </tr>\n",
       "    <tr>\n",
       "      <th>354367</th>\n",
       "      <td>9200.0</td>\n",
       "      <td>0.0</td>\n",
       "      <td>1996</td>\n",
       "      <td>1.0</td>\n",
       "      <td>102.0</td>\n",
       "      <td>220.0</td>\n",
       "      <td>150000</td>\n",
       "      <td>2.0</td>\n",
       "      <td>38.0</td>\n",
       "      <td>0.0</td>\n",
       "    </tr>\n",
       "    <tr>\n",
       "      <th>354368</th>\n",
       "      <td>3400.0</td>\n",
       "      <td>8.0</td>\n",
       "      <td>2002</td>\n",
       "      <td>1.0</td>\n",
       "      <td>100.0</td>\n",
       "      <td>115.0</td>\n",
       "      <td>150000</td>\n",
       "      <td>2.0</td>\n",
       "      <td>38.0</td>\n",
       "      <td>1.0</td>\n",
       "    </tr>\n",
       "  </tbody>\n",
       "</table>\n",
       "<p>322236 rows × 10 columns</p>\n",
       "</div>"
      ],
      "text/plain": [
       "          price  vehicle_type  registration_year  gearbox  power  model  \\\n",
       "0         480.0           7.0               1993      1.0  101.0  115.0   \n",
       "1       18300.0           2.0               2011      1.0  190.0  224.0   \n",
       "2        9800.0           6.0               2004      0.0  163.0  116.0   \n",
       "3        1500.0           5.0               2001      1.0   75.0  115.0   \n",
       "4        3600.0           5.0               2008      1.0   69.0  100.0   \n",
       "...         ...           ...                ...      ...    ...    ...   \n",
       "354363   1150.0           0.0               2000      1.0  125.0  246.0   \n",
       "354364   2500.0           7.0               2005      1.0   82.0   77.0   \n",
       "354366   1199.0           1.0               2000      0.0  101.0  105.0   \n",
       "354367   9200.0           0.0               1996      1.0  102.0  220.0   \n",
       "354368   3400.0           8.0               2002      1.0  100.0  115.0   \n",
       "\n",
       "        kilometer  fuel_type  brand  not_repaired  \n",
       "0          150000        6.0   38.0           1.0  \n",
       "1          125000        2.0    1.0           1.0  \n",
       "2          125000        2.0   14.0           1.0  \n",
       "3          150000        6.0   38.0           0.0  \n",
       "4           90000        2.0   31.0           0.0  \n",
       "...           ...        ...    ...           ...  \n",
       "354363     150000        6.0   24.0           0.0  \n",
       "354364     150000        6.0   22.0           1.0  \n",
       "354366     125000        6.0   32.0           0.0  \n",
       "354367     150000        2.0   38.0           0.0  \n",
       "354368     150000        2.0   38.0           1.0  \n",
       "\n",
       "[322236 rows x 10 columns]"
      ]
     },
     "execution_count": 40,
     "metadata": {},
     "output_type": "execute_result"
    }
   ],
   "source": [
    "df"
   ]
  },
  {
   "cell_type": "code",
   "execution_count": 41,
   "id": "e85ac16c",
   "metadata": {
    "colab": {
     "base_uri": "https://localhost:8080/"
    },
    "id": "e85ac16c",
    "outputId": "f967988a-9e6f-4b2c-ea46-22cd3ac87f39"
   },
   "outputs": [
    {
     "name": "stdout",
     "output_type": "stream",
     "text": [
      "(322236, 9)\n"
     ]
    },
    {
     "data": {
      "text/plain": [
       "(322236,)"
      ]
     },
     "execution_count": 41,
     "metadata": {},
     "output_type": "execute_result"
    }
   ],
   "source": [
    "X = df.drop(['price'], axis=1)\n",
    "y = df['price']\n",
    "print(X.shape)\n",
    "y.shape"
   ]
  },
  {
   "cell_type": "code",
   "execution_count": 42,
   "id": "5e193d7a",
   "metadata": {
    "id": "5e193d7a"
   },
   "outputs": [],
   "source": [
    "X = X.astype('int')"
   ]
  },
  {
   "cell_type": "code",
   "execution_count": 43,
   "id": "6951e2e0",
   "metadata": {
    "id": "6951e2e0"
   },
   "outputs": [],
   "source": [
    "y = y.astype('int')"
   ]
  },
  {
   "cell_type": "code",
   "execution_count": 44,
   "id": "e07ec82f",
   "metadata": {
    "colab": {
     "base_uri": "https://localhost:8080/"
    },
    "id": "e07ec82f",
    "outputId": "ae8b3b6c-843c-40cf-9751-0ee669f7ffc8"
   },
   "outputs": [
    {
     "name": "stdout",
     "output_type": "stream",
     "text": [
      "<class 'pandas.core.frame.DataFrame'>\n",
      "Int64Index: 322236 entries, 0 to 354368\n",
      "Data columns (total 9 columns):\n",
      " #   Column             Non-Null Count   Dtype\n",
      "---  ------             --------------   -----\n",
      " 0   vehicle_type       322236 non-null  int32\n",
      " 1   registration_year  322236 non-null  int32\n",
      " 2   gearbox            322236 non-null  int32\n",
      " 3   power              322236 non-null  int32\n",
      " 4   model              322236 non-null  int32\n",
      " 5   kilometer          322236 non-null  int32\n",
      " 6   fuel_type          322236 non-null  int32\n",
      " 7   brand              322236 non-null  int32\n",
      " 8   not_repaired       322236 non-null  int32\n",
      "dtypes: int32(9)\n",
      "memory usage: 13.5 MB\n"
     ]
    }
   ],
   "source": [
    "X.info()"
   ]
  },
  {
   "cell_type": "code",
   "execution_count": 45,
   "id": "913cb073",
   "metadata": {
    "colab": {
     "base_uri": "https://localhost:8080/"
    },
    "id": "913cb073",
    "outputId": "cac4cbdb-86f3-4624-d301-33b42769c8b2"
   },
   "outputs": [
    {
     "name": "stdout",
     "output_type": "stream",
     "text": [
      "(241677, 9)\n"
     ]
    },
    {
     "data": {
      "text/plain": [
       "(80559, 9)"
      ]
     },
     "execution_count": 45,
     "metadata": {},
     "output_type": "execute_result"
    }
   ],
   "source": [
    "X_train, X_test, y_train, y_test = train_test_split(X, y, test_size =0.25, random_state=42)\n",
    "print(X_train.shape)\n",
    "X_test.shape"
   ]
  },
  {
   "cell_type": "markdown",
   "id": "cbd53416",
   "metadata": {
    "id": "cbd53416"
   },
   "source": [
    "Проскаллируем данные"
   ]
  },
  {
   "cell_type": "code",
   "execution_count": 46,
   "id": "ffaa13b6",
   "metadata": {
    "id": "ffaa13b6"
   },
   "outputs": [],
   "source": [
    "scaler = StandardScaler()\n",
    "scaler.fit(X_train[df_col])\n",
    "X_train[df_col] = scaler.transform(X_train[df_col])\n",
    "X_test[df_col] = scaler.transform(X_test[df_col])"
   ]
  },
  {
   "cell_type": "code",
   "execution_count": 47,
   "id": "fdeaceb9",
   "metadata": {
    "id": "fdeaceb9",
    "outputId": "5cfc60ea-1c40-49bf-8018-540750ff7728"
   },
   "outputs": [
    {
     "data": {
      "text/html": [
       "<div>\n",
       "<style scoped>\n",
       "    .dataframe tbody tr th:only-of-type {\n",
       "        vertical-align: middle;\n",
       "    }\n",
       "\n",
       "    .dataframe tbody tr th {\n",
       "        vertical-align: top;\n",
       "    }\n",
       "\n",
       "    .dataframe thead th {\n",
       "        text-align: right;\n",
       "    }\n",
       "</style>\n",
       "<table border=\"1\" class=\"dataframe\">\n",
       "  <thead>\n",
       "    <tr style=\"text-align: right;\">\n",
       "      <th></th>\n",
       "      <th>vehicle_type</th>\n",
       "      <th>registration_year</th>\n",
       "      <th>gearbox</th>\n",
       "      <th>power</th>\n",
       "      <th>model</th>\n",
       "      <th>kilometer</th>\n",
       "      <th>fuel_type</th>\n",
       "      <th>brand</th>\n",
       "      <th>not_repaired</th>\n",
       "    </tr>\n",
       "  </thead>\n",
       "  <tbody>\n",
       "    <tr>\n",
       "      <th>104383</th>\n",
       "      <td>7</td>\n",
       "      <td>0.311554</td>\n",
       "      <td>1</td>\n",
       "      <td>-0.123602</td>\n",
       "      <td>41</td>\n",
       "      <td>-3.375451</td>\n",
       "      <td>6</td>\n",
       "      <td>24</td>\n",
       "      <td>1</td>\n",
       "    </tr>\n",
       "    <tr>\n",
       "      <th>134494</th>\n",
       "      <td>5</td>\n",
       "      <td>1.579887</td>\n",
       "      <td>1</td>\n",
       "      <td>-0.139886</td>\n",
       "      <td>150</td>\n",
       "      <td>-1.605574</td>\n",
       "      <td>6</td>\n",
       "      <td>23</td>\n",
       "      <td>0</td>\n",
       "    </tr>\n",
       "    <tr>\n",
       "      <th>106518</th>\n",
       "      <td>0</td>\n",
       "      <td>-1.137969</td>\n",
       "      <td>1</td>\n",
       "      <td>-0.042182</td>\n",
       "      <td>35</td>\n",
       "      <td>0.572737</td>\n",
       "      <td>6</td>\n",
       "      <td>30</td>\n",
       "      <td>0</td>\n",
       "    </tr>\n",
       "    <tr>\n",
       "      <th>17883</th>\n",
       "      <td>6</td>\n",
       "      <td>1.398697</td>\n",
       "      <td>0</td>\n",
       "      <td>0.397489</td>\n",
       "      <td>205</td>\n",
       "      <td>0.572737</td>\n",
       "      <td>2</td>\n",
       "      <td>15</td>\n",
       "      <td>0</td>\n",
       "    </tr>\n",
       "    <tr>\n",
       "      <th>164149</th>\n",
       "      <td>6</td>\n",
       "      <td>0.311554</td>\n",
       "      <td>1</td>\n",
       "      <td>0.142371</td>\n",
       "      <td>238</td>\n",
       "      <td>0.572737</td>\n",
       "      <td>2</td>\n",
       "      <td>2</td>\n",
       "      <td>1</td>\n",
       "    </tr>\n",
       "    <tr>\n",
       "      <th>...</th>\n",
       "      <td>...</td>\n",
       "      <td>...</td>\n",
       "      <td>...</td>\n",
       "      <td>...</td>\n",
       "      <td>...</td>\n",
       "      <td>...</td>\n",
       "      <td>...</td>\n",
       "      <td>...</td>\n",
       "      <td>...</td>\n",
       "    </tr>\n",
       "    <tr>\n",
       "      <th>131683</th>\n",
       "      <td>6</td>\n",
       "      <td>0.311554</td>\n",
       "      <td>1</td>\n",
       "      <td>0.050095</td>\n",
       "      <td>165</td>\n",
       "      <td>0.572737</td>\n",
       "      <td>2</td>\n",
       "      <td>23</td>\n",
       "      <td>0</td>\n",
       "    </tr>\n",
       "    <tr>\n",
       "      <th>284949</th>\n",
       "      <td>2</td>\n",
       "      <td>-0.956779</td>\n",
       "      <td>1</td>\n",
       "      <td>0.066379</td>\n",
       "      <td>231</td>\n",
       "      <td>0.572737</td>\n",
       "      <td>6</td>\n",
       "      <td>24</td>\n",
       "      <td>1</td>\n",
       "    </tr>\n",
       "    <tr>\n",
       "      <th>144977</th>\n",
       "      <td>4</td>\n",
       "      <td>-0.413207</td>\n",
       "      <td>1</td>\n",
       "      <td>-0.074750</td>\n",
       "      <td>36</td>\n",
       "      <td>0.572737</td>\n",
       "      <td>2</td>\n",
       "      <td>23</td>\n",
       "      <td>0</td>\n",
       "    </tr>\n",
       "    <tr>\n",
       "      <th>161437</th>\n",
       "      <td>4</td>\n",
       "      <td>0.492745</td>\n",
       "      <td>1</td>\n",
       "      <td>0.088091</td>\n",
       "      <td>169</td>\n",
       "      <td>0.572737</td>\n",
       "      <td>2</td>\n",
       "      <td>38</td>\n",
       "      <td>1</td>\n",
       "    </tr>\n",
       "    <tr>\n",
       "      <th>133988</th>\n",
       "      <td>8</td>\n",
       "      <td>0.492745</td>\n",
       "      <td>0</td>\n",
       "      <td>-0.091034</td>\n",
       "      <td>165</td>\n",
       "      <td>0.572737</td>\n",
       "      <td>6</td>\n",
       "      <td>35</td>\n",
       "      <td>0</td>\n",
       "    </tr>\n",
       "  </tbody>\n",
       "</table>\n",
       "<p>241677 rows × 9 columns</p>\n",
       "</div>"
      ],
      "text/plain": [
       "        vehicle_type  registration_year  gearbox     power  model  kilometer  \\\n",
       "104383             7           0.311554        1 -0.123602     41  -3.375451   \n",
       "134494             5           1.579887        1 -0.139886    150  -1.605574   \n",
       "106518             0          -1.137969        1 -0.042182     35   0.572737   \n",
       "17883              6           1.398697        0  0.397489    205   0.572737   \n",
       "164149             6           0.311554        1  0.142371    238   0.572737   \n",
       "...              ...                ...      ...       ...    ...        ...   \n",
       "131683             6           0.311554        1  0.050095    165   0.572737   \n",
       "284949             2          -0.956779        1  0.066379    231   0.572737   \n",
       "144977             4          -0.413207        1 -0.074750     36   0.572737   \n",
       "161437             4           0.492745        1  0.088091    169   0.572737   \n",
       "133988             8           0.492745        0 -0.091034    165   0.572737   \n",
       "\n",
       "        fuel_type  brand  not_repaired  \n",
       "104383          6     24             1  \n",
       "134494          6     23             0  \n",
       "106518          6     30             0  \n",
       "17883           2     15             0  \n",
       "164149          2      2             1  \n",
       "...           ...    ...           ...  \n",
       "131683          2     23             0  \n",
       "284949          6     24             1  \n",
       "144977          2     23             0  \n",
       "161437          2     38             1  \n",
       "133988          6     35             0  \n",
       "\n",
       "[241677 rows x 9 columns]"
      ]
     },
     "execution_count": 47,
     "metadata": {},
     "output_type": "execute_result"
    }
   ],
   "source": [
    "X_train"
   ]
  },
  {
   "cell_type": "markdown",
   "id": "1cc62d53",
   "metadata": {
    "id": "1cc62d53"
   },
   "source": [
    "### Дерево"
   ]
  },
  {
   "cell_type": "code",
   "execution_count": 32,
   "id": "OikRB58uM7gs",
   "metadata": {
    "id": "OikRB58uM7gs"
   },
   "outputs": [],
   "source": [
    "#params = {'max_depth': range(2,20)}"
   ]
  },
  {
   "cell_type": "code",
   "execution_count": 33,
   "id": "53c03373",
   "metadata": {
    "colab": {
     "base_uri": "https://localhost:8080/"
    },
    "id": "53c03373",
    "outputId": "98127147-64f5-4911-df01-c68dbdab6518"
   },
   "outputs": [
    {
     "name": "stdout",
     "output_type": "stream",
     "text": [
      "{'max_depth': 10}\n"
     ]
    }
   ],
   "source": [
    "#dtc = DecisionTreeRegressor(random_state=42)\n",
    "#dtc_cv = RandomizedSearchCV(dtc, params, scoring='neg_root_mean_squared_error', random_state=42)\n",
    "#dtc_cv.fit(X_train, y_train)\n",
    "#print(dtc_cv.best_params_)\n"
   ]
  },
  {
   "cell_type": "code",
   "execution_count": 34,
   "id": "298c80d4",
   "metadata": {
    "id": "298c80d4"
   },
   "outputs": [],
   "source": [
    "dtc = DecisionTreeRegressor(max_depth=10, random_state=42)"
   ]
  },
  {
   "cell_type": "code",
   "execution_count": 35,
   "id": "a521101c",
   "metadata": {
    "colab": {
     "base_uri": "https://localhost:8080/"
    },
    "id": "a521101c",
    "outputId": "ecc6dc07-012e-4e34-cf3e-ecef42bcb889"
   },
   "outputs": [
    {
     "name": "stdout",
     "output_type": "stream",
     "text": [
      "CPU times: user 211 ms, sys: 912 µs, total: 212 ms\n",
      "Wall time: 219 ms\n"
     ]
    },
    {
     "data": {
      "text/plain": [
       "DecisionTreeRegressor(max_depth=10, random_state=42)"
      ]
     },
     "execution_count": 35,
     "metadata": {},
     "output_type": "execute_result"
    }
   ],
   "source": [
    "%%time\n",
    "dtc.fit(X_train, y_train)"
   ]
  },
  {
   "cell_type": "code",
   "execution_count": 36,
   "id": "dcf3783c",
   "metadata": {
    "colab": {
     "base_uri": "https://localhost:8080/"
    },
    "id": "dcf3783c",
    "outputId": "89b80b7d-2982-4869-a706-16103bbd9873"
   },
   "outputs": [
    {
     "name": "stdout",
     "output_type": "stream",
     "text": [
      "CPU times: user 10.1 ms, sys: 0 ns, total: 10.1 ms\n",
      "Wall time: 17.4 ms\n"
     ]
    }
   ],
   "source": [
    "%%time\n",
    "y_pred = dtc.predict(X_test)"
   ]
  },
  {
   "cell_type": "code",
   "execution_count": 37,
   "id": "8953c4c9",
   "metadata": {
    "colab": {
     "base_uri": "https://localhost:8080/"
    },
    "id": "8953c4c9",
    "outputId": "ea798479-27e9-4fb0-92ea-bdd50ae6f1c6"
   },
   "outputs": [
    {
     "data": {
      "text/plain": [
       "1937.8125696246873"
      ]
     },
     "execution_count": 37,
     "metadata": {},
     "output_type": "execute_result"
    }
   ],
   "source": [
    "mean_squared_error(y_test, y_pred,  squared= False)"
   ]
  },
  {
   "cell_type": "markdown",
   "id": "418176b6",
   "metadata": {
    "id": "418176b6"
   },
   "source": [
    "### Лес"
   ]
  },
  {
   "cell_type": "code",
   "execution_count": 38,
   "id": "b20cf238",
   "metadata": {
    "id": "b20cf238"
   },
   "outputs": [],
   "source": [
    "#params = {\"bootstrap\": (True, False), \n",
    "       # \"max_depth\": range(2, 20), \n",
    "        #\"n_estimators\": range(100, 1000) }"
   ]
  },
  {
   "cell_type": "code",
   "execution_count": null,
   "id": "2e01da02",
   "metadata": {
    "id": "2e01da02",
    "outputId": "14864a12-c3a7-40ff-fb1f-841597672c29"
   },
   "outputs": [
    {
     "data": {
      "text/plain": [
       "'%%time\\n\\nrfc = RandomForestRegressor(random_state=42)\\n\\nbayes = BayesSearchCV(rfc, search_space, n_iter = 30, random_state=42)\\nbayes.fit(X_train, y_train)\\nbayes.best_params_'"
      ]
     },
     "execution_count": 46,
     "metadata": {},
     "output_type": "execute_result"
    }
   ],
   "source": [
    "#rfc = RandomForestRegressor(random_state=42)\n",
    "#bayes = RandomizedSearchCV(rfc, params, n_iter = 30, random_state=42)\n",
    "#bayes.fit(X_train, y_train)\n",
    "#bayes.best_params_"
   ]
  },
  {
   "cell_type": "code",
   "execution_count": 40,
   "id": "5706098c",
   "metadata": {
    "id": "5706098c"
   },
   "outputs": [],
   "source": [
    "rfc = RandomForestRegressor(bootstrap=True, max_depth=9, n_estimators=500, random_state=42)"
   ]
  },
  {
   "cell_type": "code",
   "execution_count": 41,
   "id": "c3bdcb50",
   "metadata": {
    "colab": {
     "base_uri": "https://localhost:8080/"
    },
    "id": "c3bdcb50",
    "outputId": "8be4aedd-4528-4358-ac61-0b3888a1f9df"
   },
   "outputs": [
    {
     "name": "stdout",
     "output_type": "stream",
     "text": [
      "CPU times: user 53.7 s, sys: 112 ms, total: 53.8 s\n",
      "Wall time: 58.3 s\n"
     ]
    },
    {
     "data": {
      "text/plain": [
       "RandomForestRegressor(max_depth=9, n_estimators=500, random_state=42)"
      ]
     },
     "execution_count": 41,
     "metadata": {},
     "output_type": "execute_result"
    }
   ],
   "source": [
    "%%time\n",
    "rfc.fit(X_train, y_train)"
   ]
  },
  {
   "cell_type": "code",
   "execution_count": 42,
   "id": "c1c12fd2",
   "metadata": {
    "colab": {
     "base_uri": "https://localhost:8080/"
    },
    "id": "c1c12fd2",
    "outputId": "55d9dd8b-68fb-4104-f425-54b6b454f939"
   },
   "outputs": [
    {
     "name": "stdout",
     "output_type": "stream",
     "text": [
      "CPU times: user 1.55 s, sys: 6.91 ms, total: 1.56 s\n",
      "Wall time: 1.65 s\n"
     ]
    }
   ],
   "source": [
    "%%time \n",
    "y_pred = rfc.predict(X_test)"
   ]
  },
  {
   "cell_type": "code",
   "execution_count": 43,
   "id": "2b488f86",
   "metadata": {
    "colab": {
     "base_uri": "https://localhost:8080/"
    },
    "id": "2b488f86",
    "outputId": "173449c0-e6c1-47d5-a1b0-b9cfa87451a3"
   },
   "outputs": [
    {
     "data": {
      "text/plain": [
       "1840.6054824282967"
      ]
     },
     "execution_count": 43,
     "metadata": {},
     "output_type": "execute_result"
    }
   ],
   "source": [
    "mean_squared_error(y_test, y_pred,  squared= False)"
   ]
  },
  {
   "cell_type": "markdown",
   "id": "5a193b0f",
   "metadata": {
    "id": "5a193b0f"
   },
   "source": [
    "Не получилось у меня запустить лес, ядро помирает"
   ]
  },
  {
   "cell_type": "markdown",
   "id": "68481c1d",
   "metadata": {
    "id": "68481c1d"
   },
   "source": [
    "### CatBoost"
   ]
  },
  {
   "cell_type": "code",
   "execution_count": 44,
   "id": "264b3ad7",
   "metadata": {
    "id": "264b3ad7"
   },
   "outputs": [],
   "source": [
    "train_data = Pool(data=X_train,\n",
    "                  label=y_train,\n",
    "                  cat_features=df_cat\n",
    "                 )\n",
    "\n",
    "test_data = Pool(data=X_test,\n",
    "                  label=y_test,\n",
    "                  cat_features=df_cat\n",
    "                 )"
   ]
  },
  {
   "cell_type": "code",
   "execution_count": 45,
   "id": "c55b85ac",
   "metadata": {
    "id": "c55b85ac"
   },
   "outputs": [],
   "source": [
    "params = {'cat_features': df_cat,\n",
    "          'loss_function': 'RMSE',\n",
    "              'random_seed': 42,\n",
    "              'verbose':100}"
   ]
  },
  {
   "cell_type": "code",
   "execution_count": null,
   "id": "3af1f5d3",
   "metadata": {
    "id": "3af1f5d3",
    "outputId": "6ef5063d-9639-482f-ec6c-490ca6f441ce"
   },
   "outputs": [
    {
     "data": {
      "text/plain": [
       "''"
      ]
     },
     "execution_count": 49,
     "metadata": {},
     "output_type": "execute_result"
    }
   ],
   "source": [
    "'''%%time\n",
    "cv_data = cv(\n",
    "    params = params,\n",
    "    pool = train_data,\n",
    "    fold_count=5,\n",
    "    shuffle=True,\n",
    "    partition_random_seed=0,\n",
    "    verbose=False,\n",
    "    plot=\"True\"\n",
    ")'''\n",
    "''"
   ]
  },
  {
   "cell_type": "code",
   "execution_count": 46,
   "id": "bb4459ea",
   "metadata": {
    "id": "bb4459ea"
   },
   "outputs": [],
   "source": [
    "model = CatBoostRegressor(**params)"
   ]
  },
  {
   "cell_type": "code",
   "execution_count": 47,
   "id": "32d8fc44",
   "metadata": {
    "colab": {
     "base_uri": "https://localhost:8080/"
    },
    "id": "32d8fc44",
    "outputId": "2cabb87a-441d-438b-fefd-4164b65d38f0"
   },
   "outputs": [
    {
     "name": "stdout",
     "output_type": "stream",
     "text": [
      "Learning rate set to 0.078762\n",
      "0:\tlearn: 4289.4352389\ttotal: 113ms\tremaining: 1m 52s\n",
      "100:\tlearn: 1710.3979536\ttotal: 5.28s\tremaining: 47s\n",
      "200:\tlearn: 1626.2787118\ttotal: 10.2s\tremaining: 40.7s\n",
      "300:\tlearn: 1578.0802624\ttotal: 15.1s\tremaining: 35s\n",
      "400:\tlearn: 1548.2872042\ttotal: 20s\tremaining: 29.8s\n",
      "500:\tlearn: 1522.8748594\ttotal: 25.6s\tremaining: 25.5s\n",
      "600:\tlearn: 1503.3478181\ttotal: 30.4s\tremaining: 20.2s\n",
      "700:\tlearn: 1487.4394078\ttotal: 35.2s\tremaining: 15s\n",
      "800:\tlearn: 1472.0032668\ttotal: 40s\tremaining: 9.95s\n",
      "900:\tlearn: 1458.3132481\ttotal: 44.9s\tremaining: 4.93s\n",
      "999:\tlearn: 1446.9897364\ttotal: 49.8s\tremaining: 0us\n",
      "CPU times: user 1min 33s, sys: 1.84 s, total: 1min 35s\n",
      "Wall time: 50.3 s\n"
     ]
    },
    {
     "data": {
      "text/plain": [
       "<catboost.core.CatBoostRegressor at 0x7fac3a235d10>"
      ]
     },
     "execution_count": 47,
     "metadata": {},
     "output_type": "execute_result"
    }
   ],
   "source": [
    "%%time\n",
    "model.fit(train_data)"
   ]
  },
  {
   "cell_type": "code",
   "execution_count": 48,
   "id": "aaf13c5c",
   "metadata": {
    "colab": {
     "base_uri": "https://localhost:8080/"
    },
    "id": "aaf13c5c",
    "outputId": "c5273d90-0cbb-4414-9f88-a93c712551d1"
   },
   "outputs": [
    {
     "name": "stdout",
     "output_type": "stream",
     "text": [
      "CPU times: user 232 ms, sys: 38 ms, total: 270 ms\n",
      "Wall time: 166 ms\n"
     ]
    }
   ],
   "source": [
    "%%time\n",
    "y_pred = model.predict(test_data)"
   ]
  },
  {
   "cell_type": "code",
   "execution_count": 50,
   "id": "1bb9ce94",
   "metadata": {
    "colab": {
     "base_uri": "https://localhost:8080/"
    },
    "id": "1bb9ce94",
    "outputId": "1e8fc0bc-0a70-416e-eff4-a6c60e772bb0"
   },
   "outputs": [
    {
     "data": {
      "text/plain": [
       "1565.9325286541277"
      ]
     },
     "execution_count": 50,
     "metadata": {},
     "output_type": "execute_result"
    }
   ],
   "source": [
    "rmse_cat = mean_squared_error(y_test, y_pred,  squared= False)\n",
    "rmse_cat"
   ]
  },
  {
   "cell_type": "code",
   "execution_count": null,
   "id": "841f1d5d",
   "metadata": {
    "id": "841f1d5d",
    "outputId": "7ae3c087-ac4c-4b2f-cc1c-8c0432008232",
    "scrolled": true
   },
   "outputs": [
    {
     "data": {
      "text/html": [
       "<div>\n",
       "<style scoped>\n",
       "    .dataframe tbody tr th:only-of-type {\n",
       "        vertical-align: middle;\n",
       "    }\n",
       "\n",
       "    .dataframe tbody tr th {\n",
       "        vertical-align: top;\n",
       "    }\n",
       "\n",
       "    .dataframe thead th {\n",
       "        text-align: right;\n",
       "    }\n",
       "</style>\n",
       "<table border=\"1\" class=\"dataframe\">\n",
       "  <thead>\n",
       "    <tr style=\"text-align: right;\">\n",
       "      <th></th>\n",
       "      <th>Feature Id</th>\n",
       "      <th>Importances</th>\n",
       "    </tr>\n",
       "  </thead>\n",
       "  <tbody>\n",
       "    <tr>\n",
       "      <th>0</th>\n",
       "      <td>registration_year</td>\n",
       "      <td>34.902441</td>\n",
       "    </tr>\n",
       "    <tr>\n",
       "      <th>1</th>\n",
       "      <td>power</td>\n",
       "      <td>24.558128</td>\n",
       "    </tr>\n",
       "    <tr>\n",
       "      <th>2</th>\n",
       "      <td>vehicle_type</td>\n",
       "      <td>12.360127</td>\n",
       "    </tr>\n",
       "    <tr>\n",
       "      <th>3</th>\n",
       "      <td>kilometer</td>\n",
       "      <td>10.929392</td>\n",
       "    </tr>\n",
       "    <tr>\n",
       "      <th>4</th>\n",
       "      <td>brand</td>\n",
       "      <td>8.151038</td>\n",
       "    </tr>\n",
       "    <tr>\n",
       "      <th>5</th>\n",
       "      <td>model</td>\n",
       "      <td>4.776686</td>\n",
       "    </tr>\n",
       "    <tr>\n",
       "      <th>6</th>\n",
       "      <td>not_repaired</td>\n",
       "      <td>1.952480</td>\n",
       "    </tr>\n",
       "    <tr>\n",
       "      <th>7</th>\n",
       "      <td>fuel_type</td>\n",
       "      <td>1.914391</td>\n",
       "    </tr>\n",
       "    <tr>\n",
       "      <th>8</th>\n",
       "      <td>gearbox</td>\n",
       "      <td>0.455316</td>\n",
       "    </tr>\n",
       "  </tbody>\n",
       "</table>\n",
       "</div>"
      ],
      "text/plain": [
       "          Feature Id  Importances\n",
       "0  registration_year    34.902441\n",
       "1              power    24.558128\n",
       "2       vehicle_type    12.360127\n",
       "3          kilometer    10.929392\n",
       "4              brand     8.151038\n",
       "5              model     4.776686\n",
       "6       not_repaired     1.952480\n",
       "7          fuel_type     1.914391\n",
       "8            gearbox     0.455316"
      ]
     },
     "execution_count": 54,
     "metadata": {},
     "output_type": "execute_result"
    }
   ],
   "source": [
    "model.get_feature_importance(prettified=True)"
   ]
  },
  {
   "cell_type": "markdown",
   "id": "a4a0c1fd",
   "metadata": {
    "id": "a4a0c1fd"
   },
   "source": [
    "Самым важным признаком для цены стал год выпуска авто"
   ]
  },
  {
   "cell_type": "markdown",
   "id": "8e78205a",
   "metadata": {
    "id": "8e78205a"
   },
   "source": [
    "### Линейная регрессия"
   ]
  },
  {
   "cell_type": "code",
   "execution_count": 66,
   "id": "4dd953fe",
   "metadata": {},
   "outputs": [
    {
     "data": {
      "text/plain": [
       "3134.3860385151356"
      ]
     },
     "execution_count": 66,
     "metadata": {},
     "output_type": "execute_result"
    }
   ],
   "source": [
    "lr = LinearRegression()\n",
    "cross_val_score(lr, X_train, y_train, cv=5, scoring='neg_root_mean_squared_error').mean() * -1"
   ]
  },
  {
   "cell_type": "code",
   "execution_count": 62,
   "id": "3c2df916",
   "metadata": {
    "colab": {
     "base_uri": "https://localhost:8080/"
    },
    "id": "3c2df916",
    "outputId": "bbadf25d-6eba-4930-ac03-f2d092acddbf"
   },
   "outputs": [
    {
     "name": "stdout",
     "output_type": "stream",
     "text": [
      "Wall time: 102 ms\n"
     ]
    },
    {
     "data": {
      "text/html": [
       "<style>#sk-container-id-3 {color: black;background-color: white;}#sk-container-id-3 pre{padding: 0;}#sk-container-id-3 div.sk-toggleable {background-color: white;}#sk-container-id-3 label.sk-toggleable__label {cursor: pointer;display: block;width: 100%;margin-bottom: 0;padding: 0.3em;box-sizing: border-box;text-align: center;}#sk-container-id-3 label.sk-toggleable__label-arrow:before {content: \"▸\";float: left;margin-right: 0.25em;color: #696969;}#sk-container-id-3 label.sk-toggleable__label-arrow:hover:before {color: black;}#sk-container-id-3 div.sk-estimator:hover label.sk-toggleable__label-arrow:before {color: black;}#sk-container-id-3 div.sk-toggleable__content {max-height: 0;max-width: 0;overflow: hidden;text-align: left;background-color: #f0f8ff;}#sk-container-id-3 div.sk-toggleable__content pre {margin: 0.2em;color: black;border-radius: 0.25em;background-color: #f0f8ff;}#sk-container-id-3 input.sk-toggleable__control:checked~div.sk-toggleable__content {max-height: 200px;max-width: 100%;overflow: auto;}#sk-container-id-3 input.sk-toggleable__control:checked~label.sk-toggleable__label-arrow:before {content: \"▾\";}#sk-container-id-3 div.sk-estimator input.sk-toggleable__control:checked~label.sk-toggleable__label {background-color: #d4ebff;}#sk-container-id-3 div.sk-label input.sk-toggleable__control:checked~label.sk-toggleable__label {background-color: #d4ebff;}#sk-container-id-3 input.sk-hidden--visually {border: 0;clip: rect(1px 1px 1px 1px);clip: rect(1px, 1px, 1px, 1px);height: 1px;margin: -1px;overflow: hidden;padding: 0;position: absolute;width: 1px;}#sk-container-id-3 div.sk-estimator {font-family: monospace;background-color: #f0f8ff;border: 1px dotted black;border-radius: 0.25em;box-sizing: border-box;margin-bottom: 0.5em;}#sk-container-id-3 div.sk-estimator:hover {background-color: #d4ebff;}#sk-container-id-3 div.sk-parallel-item::after {content: \"\";width: 100%;border-bottom: 1px solid gray;flex-grow: 1;}#sk-container-id-3 div.sk-label:hover label.sk-toggleable__label {background-color: #d4ebff;}#sk-container-id-3 div.sk-serial::before {content: \"\";position: absolute;border-left: 1px solid gray;box-sizing: border-box;top: 0;bottom: 0;left: 50%;z-index: 0;}#sk-container-id-3 div.sk-serial {display: flex;flex-direction: column;align-items: center;background-color: white;padding-right: 0.2em;padding-left: 0.2em;position: relative;}#sk-container-id-3 div.sk-item {position: relative;z-index: 1;}#sk-container-id-3 div.sk-parallel {display: flex;align-items: stretch;justify-content: center;background-color: white;position: relative;}#sk-container-id-3 div.sk-item::before, #sk-container-id-3 div.sk-parallel-item::before {content: \"\";position: absolute;border-left: 1px solid gray;box-sizing: border-box;top: 0;bottom: 0;left: 50%;z-index: -1;}#sk-container-id-3 div.sk-parallel-item {display: flex;flex-direction: column;z-index: 1;position: relative;background-color: white;}#sk-container-id-3 div.sk-parallel-item:first-child::after {align-self: flex-end;width: 50%;}#sk-container-id-3 div.sk-parallel-item:last-child::after {align-self: flex-start;width: 50%;}#sk-container-id-3 div.sk-parallel-item:only-child::after {width: 0;}#sk-container-id-3 div.sk-dashed-wrapped {border: 1px dashed gray;margin: 0 0.4em 0.5em 0.4em;box-sizing: border-box;padding-bottom: 0.4em;background-color: white;}#sk-container-id-3 div.sk-label label {font-family: monospace;font-weight: bold;display: inline-block;line-height: 1.2em;}#sk-container-id-3 div.sk-label-container {text-align: center;}#sk-container-id-3 div.sk-container {/* jupyter's `normalize.less` sets `[hidden] { display: none; }` but bootstrap.min.css set `[hidden] { display: none !important; }` so we also need the `!important` here to be able to override the default hidden behavior on the sphinx rendered scikit-learn.org. See: https://github.com/scikit-learn/scikit-learn/issues/21755 */display: inline-block !important;position: relative;}#sk-container-id-3 div.sk-text-repr-fallback {display: none;}</style><div id=\"sk-container-id-3\" class=\"sk-top-container\"><div class=\"sk-text-repr-fallback\"><pre>LinearRegression()</pre><b>In a Jupyter environment, please rerun this cell to show the HTML representation or trust the notebook. <br />On GitHub, the HTML representation is unable to render, please try loading this page with nbviewer.org.</b></div><div class=\"sk-container\" hidden><div class=\"sk-item\"><div class=\"sk-estimator sk-toggleable\"><input class=\"sk-toggleable__control sk-hidden--visually\" id=\"sk-estimator-id-3\" type=\"checkbox\" checked><label for=\"sk-estimator-id-3\" class=\"sk-toggleable__label sk-toggleable__label-arrow\">LinearRegression</label><div class=\"sk-toggleable__content\"><pre>LinearRegression()</pre></div></div></div></div></div>"
      ],
      "text/plain": [
       "LinearRegression()"
      ]
     },
     "execution_count": 62,
     "metadata": {},
     "output_type": "execute_result"
    }
   ],
   "source": [
    "%%time\n",
    "lr.fit(X_train, y_train)"
   ]
  },
  {
   "cell_type": "code",
   "execution_count": 63,
   "id": "460b4a4f",
   "metadata": {
    "colab": {
     "base_uri": "https://localhost:8080/"
    },
    "id": "460b4a4f",
    "outputId": "1bf939eb-8124-426f-b11c-f6039674cd13"
   },
   "outputs": [
    {
     "name": "stdout",
     "output_type": "stream",
     "text": [
      "Wall time: 5.99 ms\n"
     ]
    }
   ],
   "source": [
    "%%time\n",
    "pred_reg = lr.predict(X_test)"
   ]
  },
  {
   "cell_type": "code",
   "execution_count": 64,
   "id": "90a24c6d",
   "metadata": {
    "colab": {
     "base_uri": "https://localhost:8080/"
    },
    "id": "90a24c6d",
    "outputId": "fd222c4c-da83-4305-f4f8-cf1ec7a1a7c9"
   },
   "outputs": [
    {
     "data": {
      "text/plain": [
       "3124.3043387405237"
      ]
     },
     "execution_count": 64,
     "metadata": {},
     "output_type": "execute_result"
    }
   ],
   "source": [
    "rmse_lr = mean_squared_error(y_test, pred_reg,  squared= False)\n",
    "rmse_lr"
   ]
  },
  {
   "cell_type": "markdown",
   "id": "e134a820",
   "metadata": {
    "id": "e134a820"
   },
   "source": [
    "###  LightGBM"
   ]
  },
  {
   "cell_type": "code",
   "execution_count": null,
   "id": "5ad7d4eb",
   "metadata": {
    "id": "5ad7d4eb"
   },
   "outputs": [],
   "source": [
    "'''%%time\n",
    "\n",
    "regressor = LGBMRegressor() \n",
    "search_space = {'num_leaves':[31, 100, 200], \n",
    "                'learning_rate':[0.1, 0.3, 0.5]}\n",
    "\n",
    "bayes = RandomizedSearchCV(regressor, search_space, n_iter = 30, random_state=42)\n",
    "bayes.fit(X_train, y_train)\n",
    "bayes.best_params_'''"
   ]
  },
  {
   "cell_type": "code",
   "execution_count": 56,
   "id": "b17c27bf",
   "metadata": {
    "id": "b17c27bf"
   },
   "outputs": [],
   "source": [
    "model = LGBMRegressor(learning_rate = 0.3, num_leaves = 200, random_state=42)"
   ]
  },
  {
   "cell_type": "code",
   "execution_count": 57,
   "id": "d9fa7540",
   "metadata": {
    "colab": {
     "base_uri": "https://localhost:8080/"
    },
    "id": "d9fa7540",
    "outputId": "e69f7450-ea62-43c6-80f7-59cb7bd50aac"
   },
   "outputs": [
    {
     "name": "stdout",
     "output_type": "stream",
     "text": [
      "CPU times: user 1.92 s, sys: 91 ms, total: 2.01 s\n",
      "Wall time: 1.07 s\n"
     ]
    },
    {
     "data": {
      "text/plain": [
       "LGBMRegressor(learning_rate=0.3, num_leaves=200, random_state=42)"
      ]
     },
     "execution_count": 57,
     "metadata": {},
     "output_type": "execute_result"
    }
   ],
   "source": [
    "%%time\n",
    "model.fit(X_train, y_train)"
   ]
  },
  {
   "cell_type": "code",
   "execution_count": 58,
   "id": "e9b717e0",
   "metadata": {
    "colab": {
     "base_uri": "https://localhost:8080/"
    },
    "id": "e9b717e0",
    "outputId": "5ab24623-fcd2-4754-e096-d406209b2683"
   },
   "outputs": [
    {
     "name": "stdout",
     "output_type": "stream",
     "text": [
      "CPU times: user 245 ms, sys: 963 µs, total: 246 ms\n",
      "Wall time: 138 ms\n"
     ]
    }
   ],
   "source": [
    "%%time\n",
    "LGBM_pred = model.predict(X_test)"
   ]
  },
  {
   "cell_type": "code",
   "execution_count": 59,
   "id": "3e8f7252",
   "metadata": {
    "colab": {
     "base_uri": "https://localhost:8080/"
    },
    "id": "3e8f7252",
    "outputId": "e970f538-8f67-4646-b37a-4b1b8f597dde"
   },
   "outputs": [
    {
     "data": {
      "text/plain": [
       "1585.0365820165584"
      ]
     },
     "execution_count": 59,
     "metadata": {},
     "output_type": "execute_result"
    }
   ],
   "source": [
    "rmse_LGBM = (mean_squared_error(y_test, LGBM_pred))**0.5\n",
    "rmse_LGBM"
   ]
  },
  {
   "cell_type": "markdown",
   "id": "9aa765a4",
   "metadata": {
    "id": "9aa765a4"
   },
   "source": [
    "### DummyRegressor"
   ]
  },
  {
   "cell_type": "code",
   "execution_count": 60,
   "id": "ad80fae6",
   "metadata": {
    "id": "ad80fae6"
   },
   "outputs": [],
   "source": [
    "dummy =  DummyRegressor()"
   ]
  },
  {
   "cell_type": "code",
   "execution_count": 61,
   "id": "d16f0419",
   "metadata": {
    "colab": {
     "base_uri": "https://localhost:8080/"
    },
    "id": "d16f0419",
    "outputId": "97702a82-624e-44b8-dd3b-7badfa0afc71"
   },
   "outputs": [
    {
     "name": "stdout",
     "output_type": "stream",
     "text": [
      "CPU times: user 553 µs, sys: 11 µs, total: 564 µs\n",
      "Wall time: 574 µs\n"
     ]
    },
    {
     "data": {
      "text/plain": [
       "DummyRegressor()"
      ]
     },
     "execution_count": 61,
     "metadata": {},
     "output_type": "execute_result"
    }
   ],
   "source": [
    "%%time\n",
    "dummy.fit(X_train, y_train)"
   ]
  },
  {
   "cell_type": "code",
   "execution_count": 62,
   "id": "f2d54e61",
   "metadata": {
    "colab": {
     "base_uri": "https://localhost:8080/"
    },
    "id": "f2d54e61",
    "outputId": "6a6c6651-45e3-4a0b-f407-cab74c4eef16"
   },
   "outputs": [
    {
     "name": "stdout",
     "output_type": "stream",
     "text": [
      "CPU times: user 305 µs, sys: 6 µs, total: 311 µs\n",
      "Wall time: 308 µs\n"
     ]
    }
   ],
   "source": [
    "%%time\n",
    "pred_dummy = dummy.predict(X_test)"
   ]
  },
  {
   "cell_type": "code",
   "execution_count": 63,
   "id": "704b070d",
   "metadata": {
    "colab": {
     "base_uri": "https://localhost:8080/"
    },
    "id": "704b070d",
    "outputId": "941fe0a8-b6bf-410c-8a04-de3f26251d7f"
   },
   "outputs": [
    {
     "data": {
      "text/plain": [
       "4531.24354887397"
      ]
     },
     "execution_count": 63,
     "metadata": {},
     "output_type": "execute_result"
    }
   ],
   "source": [
    "rmse_dummy = (mean_squared_error(y_test, pred_dummy))**0.5\n",
    "rmse_dummy"
   ]
  },
  {
   "cell_type": "markdown",
   "id": "fb976dc5",
   "metadata": {
    "id": "fb976dc5"
   },
   "source": [
    "## Анализ скорости работы и качества моделей"
   ]
  },
  {
   "cell_type": "code",
   "execution_count": 64,
   "id": "b705be99",
   "metadata": {
    "id": "b705be99"
   },
   "outputs": [],
   "source": [
    "data = {'Время обучения(сек)':[50.3, 0.047, 1.07, 0.0005, 0.219, 58.3], 'Время предсказания(сек)':[0.166, 0.009, 0.138, 0.0003, 0.017, 1.65], 'RMSE':[1565.93, 3106.33, 1585.03, 4531.24, 1937.81, 1840.60]}\n",
    "index=['CatBoost', 'LinearRegression', 'LightGBM', 'DummyRegressor', 'DecisionTreeRegressor', 'RandomForestRegressor' ]"
   ]
  },
  {
   "cell_type": "code",
   "execution_count": 65,
   "id": "48a8396a",
   "metadata": {
    "colab": {
     "base_uri": "https://localhost:8080/",
     "height": 238
    },
    "id": "48a8396a",
    "outputId": "8785ed88-15fb-45c3-c0e5-39977b92a054"
   },
   "outputs": [
    {
     "data": {
      "text/html": [
       "\n",
       "  <div id=\"df-3e3980a1-46ac-4ebe-b6dd-44ae63da0cfc\">\n",
       "    <div class=\"colab-df-container\">\n",
       "      <div>\n",
       "<style scoped>\n",
       "    .dataframe tbody tr th:only-of-type {\n",
       "        vertical-align: middle;\n",
       "    }\n",
       "\n",
       "    .dataframe tbody tr th {\n",
       "        vertical-align: top;\n",
       "    }\n",
       "\n",
       "    .dataframe thead th {\n",
       "        text-align: right;\n",
       "    }\n",
       "</style>\n",
       "<table border=\"1\" class=\"dataframe\">\n",
       "  <thead>\n",
       "    <tr style=\"text-align: right;\">\n",
       "      <th></th>\n",
       "      <th>Время обучения(сек)</th>\n",
       "      <th>Время предсказания(сек)</th>\n",
       "      <th>RMSE</th>\n",
       "    </tr>\n",
       "  </thead>\n",
       "  <tbody>\n",
       "    <tr>\n",
       "      <th>CatBoost</th>\n",
       "      <td>50.3000</td>\n",
       "      <td>0.1660</td>\n",
       "      <td>1565.93</td>\n",
       "    </tr>\n",
       "    <tr>\n",
       "      <th>LinearRegression</th>\n",
       "      <td>0.0470</td>\n",
       "      <td>0.0090</td>\n",
       "      <td>3106.33</td>\n",
       "    </tr>\n",
       "    <tr>\n",
       "      <th>LightGBM</th>\n",
       "      <td>1.0700</td>\n",
       "      <td>0.1380</td>\n",
       "      <td>1585.03</td>\n",
       "    </tr>\n",
       "    <tr>\n",
       "      <th>DummyRegressor</th>\n",
       "      <td>0.0005</td>\n",
       "      <td>0.0003</td>\n",
       "      <td>4531.24</td>\n",
       "    </tr>\n",
       "    <tr>\n",
       "      <th>DecisionTreeRegressor</th>\n",
       "      <td>0.2190</td>\n",
       "      <td>0.0170</td>\n",
       "      <td>1937.81</td>\n",
       "    </tr>\n",
       "    <tr>\n",
       "      <th>RandomForestRegressor</th>\n",
       "      <td>58.3000</td>\n",
       "      <td>1.6500</td>\n",
       "      <td>1840.60</td>\n",
       "    </tr>\n",
       "  </tbody>\n",
       "</table>\n",
       "</div>\n",
       "      <button class=\"colab-df-convert\" onclick=\"convertToInteractive('df-3e3980a1-46ac-4ebe-b6dd-44ae63da0cfc')\"\n",
       "              title=\"Convert this dataframe to an interactive table.\"\n",
       "              style=\"display:none;\">\n",
       "        \n",
       "  <svg xmlns=\"http://www.w3.org/2000/svg\" height=\"24px\"viewBox=\"0 0 24 24\"\n",
       "       width=\"24px\">\n",
       "    <path d=\"M0 0h24v24H0V0z\" fill=\"none\"/>\n",
       "    <path d=\"M18.56 5.44l.94 2.06.94-2.06 2.06-.94-2.06-.94-.94-2.06-.94 2.06-2.06.94zm-11 1L8.5 8.5l.94-2.06 2.06-.94-2.06-.94L8.5 2.5l-.94 2.06-2.06.94zm10 10l.94 2.06.94-2.06 2.06-.94-2.06-.94-.94-2.06-.94 2.06-2.06.94z\"/><path d=\"M17.41 7.96l-1.37-1.37c-.4-.4-.92-.59-1.43-.59-.52 0-1.04.2-1.43.59L10.3 9.45l-7.72 7.72c-.78.78-.78 2.05 0 2.83L4 21.41c.39.39.9.59 1.41.59.51 0 1.02-.2 1.41-.59l7.78-7.78 2.81-2.81c.8-.78.8-2.07 0-2.86zM5.41 20L4 18.59l7.72-7.72 1.47 1.35L5.41 20z\"/>\n",
       "  </svg>\n",
       "      </button>\n",
       "      \n",
       "  <style>\n",
       "    .colab-df-container {\n",
       "      display:flex;\n",
       "      flex-wrap:wrap;\n",
       "      gap: 12px;\n",
       "    }\n",
       "\n",
       "    .colab-df-convert {\n",
       "      background-color: #E8F0FE;\n",
       "      border: none;\n",
       "      border-radius: 50%;\n",
       "      cursor: pointer;\n",
       "      display: none;\n",
       "      fill: #1967D2;\n",
       "      height: 32px;\n",
       "      padding: 0 0 0 0;\n",
       "      width: 32px;\n",
       "    }\n",
       "\n",
       "    .colab-df-convert:hover {\n",
       "      background-color: #E2EBFA;\n",
       "      box-shadow: 0px 1px 2px rgba(60, 64, 67, 0.3), 0px 1px 3px 1px rgba(60, 64, 67, 0.15);\n",
       "      fill: #174EA6;\n",
       "    }\n",
       "\n",
       "    [theme=dark] .colab-df-convert {\n",
       "      background-color: #3B4455;\n",
       "      fill: #D2E3FC;\n",
       "    }\n",
       "\n",
       "    [theme=dark] .colab-df-convert:hover {\n",
       "      background-color: #434B5C;\n",
       "      box-shadow: 0px 1px 3px 1px rgba(0, 0, 0, 0.15);\n",
       "      filter: drop-shadow(0px 1px 2px rgba(0, 0, 0, 0.3));\n",
       "      fill: #FFFFFF;\n",
       "    }\n",
       "  </style>\n",
       "\n",
       "      <script>\n",
       "        const buttonEl =\n",
       "          document.querySelector('#df-3e3980a1-46ac-4ebe-b6dd-44ae63da0cfc button.colab-df-convert');\n",
       "        buttonEl.style.display =\n",
       "          google.colab.kernel.accessAllowed ? 'block' : 'none';\n",
       "\n",
       "        async function convertToInteractive(key) {\n",
       "          const element = document.querySelector('#df-3e3980a1-46ac-4ebe-b6dd-44ae63da0cfc');\n",
       "          const dataTable =\n",
       "            await google.colab.kernel.invokeFunction('convertToInteractive',\n",
       "                                                     [key], {});\n",
       "          if (!dataTable) return;\n",
       "\n",
       "          const docLinkHtml = 'Like what you see? Visit the ' +\n",
       "            '<a target=\"_blank\" href=https://colab.research.google.com/notebooks/data_table.ipynb>data table notebook</a>'\n",
       "            + ' to learn more about interactive tables.';\n",
       "          element.innerHTML = '';\n",
       "          dataTable['output_type'] = 'display_data';\n",
       "          await google.colab.output.renderOutput(dataTable, element);\n",
       "          const docLink = document.createElement('div');\n",
       "          docLink.innerHTML = docLinkHtml;\n",
       "          element.appendChild(docLink);\n",
       "        }\n",
       "      </script>\n",
       "    </div>\n",
       "  </div>\n",
       "  "
      ],
      "text/plain": [
       "                       Время обучения(сек)  Время предсказания(сек)     RMSE\n",
       "CatBoost                           50.3000                   0.1660  1565.93\n",
       "LinearRegression                    0.0470                   0.0090  3106.33\n",
       "LightGBM                            1.0700                   0.1380  1585.03\n",
       "DummyRegressor                      0.0005                   0.0003  4531.24\n",
       "DecisionTreeRegressor               0.2190                   0.0170  1937.81\n",
       "RandomForestRegressor              58.3000                   1.6500  1840.60"
      ]
     },
     "execution_count": 65,
     "metadata": {},
     "output_type": "execute_result"
    }
   ],
   "source": [
    "final = pd.DataFrame(data=data, index=index)\n",
    "final"
   ]
  },
  {
   "cell_type": "markdown",
   "id": "e66e0025",
   "metadata": {
    "id": "e66e0025"
   },
   "source": [
    "## Выводы"
   ]
  },
  {
   "cell_type": "markdown",
   "id": "ddc66e76",
   "metadata": {
    "id": "ddc66e76"
   },
   "source": [
    "Мы загрузили и изучили данные, провели их предобработку, заменив пропуски и аномальные значения и обучили несколько моделей на данных, проанализировав их качество и скорость.  \n",
    "Таким образом:\n",
    "- самым быстрым по времени обучения стал DecisionTreeRegressor (0.21 секунд)\n",
    "- самым быстрым по предсказанию оказался DecisionTreeRegressor (0.0170 секунд)\n",
    "- лучший RMSE у CatBoost (1565.93)"
   ]
  }
 ],
 "metadata": {
  "colab": {
   "name": "1d1fd3e2-6000-4ebf-817c-61710d58ea16 (1).ipynb",
   "provenance": []
  },
  "kernelspec": {
   "display_name": "Python 3 (ipykernel)",
   "language": "python",
   "name": "python3"
  },
  "language_info": {
   "codemirror_mode": {
    "name": "ipython",
    "version": 3
   },
   "file_extension": ".py",
   "mimetype": "text/x-python",
   "name": "python",
   "nbconvert_exporter": "python",
   "pygments_lexer": "ipython3",
   "version": "3.9.7"
  },
  "toc": {
   "base_numbering": 1,
   "nav_menu": {},
   "number_sections": true,
   "sideBar": true,
   "skip_h1_title": true,
   "title_cell": "Содержание",
   "title_sidebar": "Contents",
   "toc_cell": true,
   "toc_position": {
    "height": "calc(100% - 180px)",
    "left": "10px",
    "top": "150px",
    "width": "384px"
   },
   "toc_section_display": true,
   "toc_window_display": true
  }
 },
 "nbformat": 4,
 "nbformat_minor": 5
}
