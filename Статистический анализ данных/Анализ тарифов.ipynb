{
 "cells": [
  {
   "cell_type": "markdown",
   "id": "330d9982",
   "metadata": {},
   "source": [
    "# Содержание"
   ]
  },
  {
   "cell_type": "markdown",
   "id": "f3bf3f89-59b9-4fd1-94f7-b2c2a3db5070",
   "metadata": {
    "tags": []
   },
   "source": [
    "**Исследование тарифов оператора сотовой связи**"
   ]
  },
  {
   "cell_type": "markdown",
   "id": "964f3dc3-a43d-4019-bf32-a9c20e53e293",
   "metadata": {},
   "source": [
    "Вы аналитик компании «Мегалайн» — федерального оператора сотовой связи. Клиентам предлагают два тарифных плана: «Смарт» и «Ультра». Чтобы скорректировать рекламный бюджет, коммерческий департамент хочет понять, какой тариф приносит больше денег."
   ]
  },
  {
   "cell_type": "markdown",
   "id": "6f7b6909-8b63-4c3f-9d4c-041af100a8ec",
   "metadata": {},
   "source": [
    "Таблица users (информация о пользователях):  \n",
    "**user_id** — уникальный идентификатор пользователя  \n",
    "**first_name** — имя пользователя  \n",
    "**last_name** — фамилия пользователя  \n",
    "**age** — возраст пользователя (годы)  \n",
    "**reg_date** — дата подключения тарифа (день, месяц, год)  \n",
    "**churn_date** — дата прекращения пользования тарифом (если значение пропущено, то тариф ещё действовал на момент выгрузки данных)  \n",
    "**city** — город проживания пользователя  \n",
    "**tarif** — название тарифного плана  \n",
    "Таблица calls (информация о звонках):  \n",
    "**id** — уникальный номер звонка  \n",
    "**call_date** — дата звонка  \n",
    "**duration** — длительность звонка в минутах  \n",
    "**user_id** — идентификатор пользователя, сделавшего звонок  \n",
    "Таблица messages (информация о сообщениях):  \n",
    "**id** — уникальный номер сообщения  \n",
    "**message_date** — дата сообщения  \n",
    "**user_id** — идентификатор пользователя, отправившего сообщение  \n",
    "Таблица internet (информация об интернет-сессиях):  \n",
    "**id** — уникальный номер сессии  \n",
    "**mb_used** — объём потраченного за сессию интернет-трафика (в мегабайтах)  \n",
    "**session_date** — дата интернет-сессии  \n",
    "**user_id** — идентификатор пользователя  \n",
    "Таблица tariffs (информация о тарифах):  \n",
    "**tariff_name** — название тарифа  \n",
    "**rub_monthly_fee** — ежемесячная абонентская плата в рублях  \n",
    "**minutes_included** — количество минут разговора в месяц, включённых в абонентскую плату  \n",
    "**messages_included** — количество сообщений в месяц, включённых в абонентскую плату  \n",
    "**mb_per_month_included** — объём интернет-трафика, включённого в абонентскую плату (в мегабайтах)  \n",
    "**rub_per_minute** — стоимость минуты разговора сверх тарифного пакета (например, если в тарифе 100 минут разговора в месяц, то со 101 минуты будет взиматься плата)  \n",
    "**rub_per_message** — стоимость отправки сообщения сверх тарифного пакета  \n",
    "**rub_per_gb** — стоимость дополнительного гигабайта интернет-трафика сверх тарифного пакета (1 гигабайт = 1024 мегабайта)  "
   ]
  },
  {
   "cell_type": "markdown",
   "id": "9c081840-1aa0-4665-8dac-5c3713a76578",
   "metadata": {
    "tags": []
   },
   "source": [
    "# Изучение данных <a id=\"start\"></a>"
   ]
  },
  {
   "cell_type": "code",
   "execution_count": 1,
   "id": "07bcdbad-add3-4835-92a8-1fc141df4485",
   "metadata": {},
   "outputs": [],
   "source": [
    "import pandas as pd\n",
    "import math\n",
    "import matplotlib.pyplot as plt\n",
    "from scipy import stats as st\n",
    "\n",
    "from sklearn.model_selection import train_test_split\n",
    "from sklearn.ensemble import RandomForestClassifier\n",
    "from sklearn.linear_model import LogisticRegression\n",
    "from sklearn.tree import DecisionTreeClassifier\n",
    "from sklearn.dummy import DummyClassifier\n",
    "from sklearn.metrics import classification_report\n",
    "from sklearn.model_selection import RandomizedSearchCV"
   ]
  },
  {
   "cell_type": "code",
   "execution_count": 3,
   "id": "9fb50d98-f6b2-40ff-98a0-7f51209c39a6",
   "metadata": {},
   "outputs": [],
   "source": [
    "try:\n",
    "    calls = pd.read_csv('/datasets/calls.csv')\n",
    "    internet = pd.read_csv('/datasets/internet.csv', index_col=0)\n",
    "    messages = pd.read_csv('/datasets/messages.csv')\n",
    "    tariffs = pd.read_csv('/datasets/tariffs.csv')\n",
    "    users = pd.read_csv('/datasets/users.csv')\n",
    "except:\n",
    "    calls = pd.read_csv('calls.csv')\n",
    "    internet = pd.read_csv('internet.csv', index_col=0) \n",
    "    messages = pd.read_csv('messages.csv')\n",
    "    tariffs = pd.read_csv('tariffs.csv')\n",
    "    users = pd.read_csv('users.csv')"
   ]
  },
  {
   "cell_type": "code",
   "execution_count": 4,
   "id": "3522c13c-5b09-4aed-b290-64ae74f0cf61",
   "metadata": {},
   "outputs": [
    {
     "name": "stdout",
     "output_type": "stream",
     "text": [
      "<class 'pandas.core.frame.DataFrame'>\n",
      "RangeIndex: 202607 entries, 0 to 202606\n",
      "Data columns (total 4 columns):\n",
      " #   Column     Non-Null Count   Dtype  \n",
      "---  ------     --------------   -----  \n",
      " 0   id         202607 non-null  object \n",
      " 1   call_date  202607 non-null  object \n",
      " 2   duration   202607 non-null  float64\n",
      " 3   user_id    202607 non-null  int64  \n",
      "dtypes: float64(1), int64(1), object(2)\n",
      "memory usage: 6.2+ MB\n",
      "<class 'pandas.core.frame.DataFrame'>\n",
      "Int64Index: 149396 entries, 0 to 149395\n",
      "Data columns (total 4 columns):\n",
      " #   Column        Non-Null Count   Dtype  \n",
      "---  ------        --------------   -----  \n",
      " 0   id            149396 non-null  object \n",
      " 1   mb_used       149396 non-null  float64\n",
      " 2   session_date  149396 non-null  object \n",
      " 3   user_id       149396 non-null  int64  \n",
      "dtypes: float64(1), int64(1), object(2)\n",
      "memory usage: 5.7+ MB\n",
      "<class 'pandas.core.frame.DataFrame'>\n",
      "RangeIndex: 123036 entries, 0 to 123035\n",
      "Data columns (total 3 columns):\n",
      " #   Column        Non-Null Count   Dtype \n",
      "---  ------        --------------   ----- \n",
      " 0   id            123036 non-null  object\n",
      " 1   message_date  123036 non-null  object\n",
      " 2   user_id       123036 non-null  int64 \n",
      "dtypes: int64(1), object(2)\n",
      "memory usage: 2.8+ MB\n",
      "<class 'pandas.core.frame.DataFrame'>\n",
      "RangeIndex: 2 entries, 0 to 1\n",
      "Data columns (total 8 columns):\n",
      " #   Column                 Non-Null Count  Dtype \n",
      "---  ------                 --------------  ----- \n",
      " 0   messages_included      2 non-null      int64 \n",
      " 1   mb_per_month_included  2 non-null      int64 \n",
      " 2   minutes_included       2 non-null      int64 \n",
      " 3   rub_monthly_fee        2 non-null      int64 \n",
      " 4   rub_per_gb             2 non-null      int64 \n",
      " 5   rub_per_message        2 non-null      int64 \n",
      " 6   rub_per_minute         2 non-null      int64 \n",
      " 7   tariff_name            2 non-null      object\n",
      "dtypes: int64(7), object(1)\n",
      "memory usage: 256.0+ bytes\n",
      "<class 'pandas.core.frame.DataFrame'>\n",
      "RangeIndex: 500 entries, 0 to 499\n",
      "Data columns (total 8 columns):\n",
      " #   Column      Non-Null Count  Dtype \n",
      "---  ------      --------------  ----- \n",
      " 0   user_id     500 non-null    int64 \n",
      " 1   age         500 non-null    int64 \n",
      " 2   churn_date  38 non-null     object\n",
      " 3   city        500 non-null    object\n",
      " 4   first_name  500 non-null    object\n",
      " 5   last_name   500 non-null    object\n",
      " 6   reg_date    500 non-null    object\n",
      " 7   tariff      500 non-null    object\n",
      "dtypes: int64(2), object(6)\n",
      "memory usage: 31.4+ KB\n"
     ]
    }
   ],
   "source": [
    "calls.info()\n",
    "internet.info()\n",
    "messages.info()\n",
    "tariffs.info()\n",
    "users.info()"
   ]
  },
  {
   "cell_type": "code",
   "execution_count": 5,
   "id": "4a07561e-e819-4431-955b-317f80f96cdb",
   "metadata": {},
   "outputs": [
    {
     "data": {
      "text/plain": [
       "0"
      ]
     },
     "execution_count": 5,
     "metadata": {},
     "output_type": "execute_result"
    }
   ],
   "source": [
    "calls.duplicated().sum()\n",
    "internet.duplicated().sum()\n",
    "messages.duplicated().sum()"
   ]
  },
  {
   "cell_type": "markdown",
   "id": "d1542374-c032-4278-972e-8ce04be7c8cd",
   "metadata": {},
   "source": [
    "## Выводы <a id=\"conclusion_1\"></a>"
   ]
  },
  {
   "cell_type": "markdown",
   "id": "72e5a7bc-242d-4290-8452-d9aeb7deb530",
   "metadata": {},
   "source": [
    "Вцелом, данные впорядке, пропуски в столбце 'churn_date' означают, что тариф действующий для клиента.  \n",
    "Требуется заменить некоторые типы данных: \n",
    "* привести все даты к типу DateTime;\n"
   ]
  },
  {
   "cell_type": "markdown",
   "id": "d909e753-b02e-4f17-b7bf-f845f1e86fe4",
   "metadata": {
    "tags": []
   },
   "source": [
    "# Предподготовка данных <a id=\"preprocessing\"></a>"
   ]
  },
  {
   "cell_type": "markdown",
   "id": "02017378-14b6-4437-85d7-f56665b7474a",
   "metadata": {},
   "source": [
    "Приведем даты к типу DateTime и добавим столбец с месяцами"
   ]
  },
  {
   "cell_type": "code",
   "execution_count": 6,
   "id": "10a74d82-7c29-45a2-b2b5-2016cf50b6b6",
   "metadata": {},
   "outputs": [],
   "source": [
    "calls['call_date'] = pd.to_datetime(calls['call_date'], format=\"%Y-%m-%d\")\n",
    "calls['month'] = pd.DatetimeIndex(calls['call_date']).month \n",
    "messages['message_date'] = pd.to_datetime(messages['message_date'], format=\"%Y-%m-%d\")\n",
    "messages['month'] = pd.DatetimeIndex(messages['message_date']).month \n",
    "internet['session_date'] = pd.to_datetime(internet['session_date'], format=\"%Y-%m-%d\")\n",
    "internet['month'] = pd.DatetimeIndex(internet['session_date']).month "
   ]
  },
  {
   "cell_type": "code",
   "execution_count": 7,
   "id": "09d7d416-9040-4ac0-b020-89782d979e39",
   "metadata": {},
   "outputs": [
    {
     "data": {
      "text/html": [
       "<div>\n",
       "<style scoped>\n",
       "    .dataframe tbody tr th:only-of-type {\n",
       "        vertical-align: middle;\n",
       "    }\n",
       "\n",
       "    .dataframe tbody tr th {\n",
       "        vertical-align: top;\n",
       "    }\n",
       "\n",
       "    .dataframe thead th {\n",
       "        text-align: right;\n",
       "    }\n",
       "</style>\n",
       "<table border=\"1\" class=\"dataframe\">\n",
       "  <thead>\n",
       "    <tr style=\"text-align: right;\">\n",
       "      <th></th>\n",
       "      <th>id</th>\n",
       "      <th>call_date</th>\n",
       "      <th>duration</th>\n",
       "      <th>user_id</th>\n",
       "      <th>month</th>\n",
       "    </tr>\n",
       "  </thead>\n",
       "  <tbody>\n",
       "    <tr>\n",
       "      <th>0</th>\n",
       "      <td>1000_0</td>\n",
       "      <td>2018-07-25</td>\n",
       "      <td>0.00</td>\n",
       "      <td>1000</td>\n",
       "      <td>7</td>\n",
       "    </tr>\n",
       "    <tr>\n",
       "      <th>1</th>\n",
       "      <td>1000_1</td>\n",
       "      <td>2018-08-17</td>\n",
       "      <td>0.00</td>\n",
       "      <td>1000</td>\n",
       "      <td>8</td>\n",
       "    </tr>\n",
       "    <tr>\n",
       "      <th>2</th>\n",
       "      <td>1000_2</td>\n",
       "      <td>2018-06-11</td>\n",
       "      <td>2.85</td>\n",
       "      <td>1000</td>\n",
       "      <td>6</td>\n",
       "    </tr>\n",
       "    <tr>\n",
       "      <th>3</th>\n",
       "      <td>1000_3</td>\n",
       "      <td>2018-09-21</td>\n",
       "      <td>13.80</td>\n",
       "      <td>1000</td>\n",
       "      <td>9</td>\n",
       "    </tr>\n",
       "    <tr>\n",
       "      <th>4</th>\n",
       "      <td>1000_4</td>\n",
       "      <td>2018-12-15</td>\n",
       "      <td>5.18</td>\n",
       "      <td>1000</td>\n",
       "      <td>12</td>\n",
       "    </tr>\n",
       "  </tbody>\n",
       "</table>\n",
       "</div>"
      ],
      "text/plain": [
       "       id  call_date  duration  user_id  month\n",
       "0  1000_0 2018-07-25      0.00     1000      7\n",
       "1  1000_1 2018-08-17      0.00     1000      8\n",
       "2  1000_2 2018-06-11      2.85     1000      6\n",
       "3  1000_3 2018-09-21     13.80     1000      9\n",
       "4  1000_4 2018-12-15      5.18     1000     12"
      ]
     },
     "execution_count": 7,
     "metadata": {},
     "output_type": "execute_result"
    }
   ],
   "source": [
    "calls.head()"
   ]
  },
  {
   "cell_type": "code",
   "execution_count": 8,
   "id": "5c12ef3b-74b0-4e68-ac63-64f0d02dc63b",
   "metadata": {},
   "outputs": [
    {
     "data": {
      "text/html": [
       "<div>\n",
       "<style scoped>\n",
       "    .dataframe tbody tr th:only-of-type {\n",
       "        vertical-align: middle;\n",
       "    }\n",
       "\n",
       "    .dataframe tbody tr th {\n",
       "        vertical-align: top;\n",
       "    }\n",
       "\n",
       "    .dataframe thead th {\n",
       "        text-align: right;\n",
       "    }\n",
       "</style>\n",
       "<table border=\"1\" class=\"dataframe\">\n",
       "  <thead>\n",
       "    <tr style=\"text-align: right;\">\n",
       "      <th></th>\n",
       "      <th>id</th>\n",
       "      <th>message_date</th>\n",
       "      <th>user_id</th>\n",
       "      <th>month</th>\n",
       "    </tr>\n",
       "  </thead>\n",
       "  <tbody>\n",
       "    <tr>\n",
       "      <th>0</th>\n",
       "      <td>1000_0</td>\n",
       "      <td>2018-06-27</td>\n",
       "      <td>1000</td>\n",
       "      <td>6</td>\n",
       "    </tr>\n",
       "    <tr>\n",
       "      <th>1</th>\n",
       "      <td>1000_1</td>\n",
       "      <td>2018-10-08</td>\n",
       "      <td>1000</td>\n",
       "      <td>10</td>\n",
       "    </tr>\n",
       "    <tr>\n",
       "      <th>2</th>\n",
       "      <td>1000_2</td>\n",
       "      <td>2018-08-04</td>\n",
       "      <td>1000</td>\n",
       "      <td>8</td>\n",
       "    </tr>\n",
       "    <tr>\n",
       "      <th>3</th>\n",
       "      <td>1000_3</td>\n",
       "      <td>2018-06-16</td>\n",
       "      <td>1000</td>\n",
       "      <td>6</td>\n",
       "    </tr>\n",
       "    <tr>\n",
       "      <th>4</th>\n",
       "      <td>1000_4</td>\n",
       "      <td>2018-12-05</td>\n",
       "      <td>1000</td>\n",
       "      <td>12</td>\n",
       "    </tr>\n",
       "  </tbody>\n",
       "</table>\n",
       "</div>"
      ],
      "text/plain": [
       "       id message_date  user_id  month\n",
       "0  1000_0   2018-06-27     1000      6\n",
       "1  1000_1   2018-10-08     1000     10\n",
       "2  1000_2   2018-08-04     1000      8\n",
       "3  1000_3   2018-06-16     1000      6\n",
       "4  1000_4   2018-12-05     1000     12"
      ]
     },
     "execution_count": 8,
     "metadata": {},
     "output_type": "execute_result"
    }
   ],
   "source": [
    "messages.head()"
   ]
  },
  {
   "cell_type": "code",
   "execution_count": 9,
   "id": "5b931eef-574e-4e6d-880a-d104316e0267",
   "metadata": {
    "scrolled": true
   },
   "outputs": [
    {
     "data": {
      "text/html": [
       "<div>\n",
       "<style scoped>\n",
       "    .dataframe tbody tr th:only-of-type {\n",
       "        vertical-align: middle;\n",
       "    }\n",
       "\n",
       "    .dataframe tbody tr th {\n",
       "        vertical-align: top;\n",
       "    }\n",
       "\n",
       "    .dataframe thead th {\n",
       "        text-align: right;\n",
       "    }\n",
       "</style>\n",
       "<table border=\"1\" class=\"dataframe\">\n",
       "  <thead>\n",
       "    <tr style=\"text-align: right;\">\n",
       "      <th></th>\n",
       "      <th>id</th>\n",
       "      <th>mb_used</th>\n",
       "      <th>session_date</th>\n",
       "      <th>user_id</th>\n",
       "      <th>month</th>\n",
       "    </tr>\n",
       "  </thead>\n",
       "  <tbody>\n",
       "    <tr>\n",
       "      <th>0</th>\n",
       "      <td>1000_0</td>\n",
       "      <td>112.95</td>\n",
       "      <td>2018-11-25</td>\n",
       "      <td>1000</td>\n",
       "      <td>11</td>\n",
       "    </tr>\n",
       "    <tr>\n",
       "      <th>1</th>\n",
       "      <td>1000_1</td>\n",
       "      <td>1052.81</td>\n",
       "      <td>2018-09-07</td>\n",
       "      <td>1000</td>\n",
       "      <td>9</td>\n",
       "    </tr>\n",
       "    <tr>\n",
       "      <th>2</th>\n",
       "      <td>1000_2</td>\n",
       "      <td>1197.26</td>\n",
       "      <td>2018-06-25</td>\n",
       "      <td>1000</td>\n",
       "      <td>6</td>\n",
       "    </tr>\n",
       "    <tr>\n",
       "      <th>3</th>\n",
       "      <td>1000_3</td>\n",
       "      <td>550.27</td>\n",
       "      <td>2018-08-22</td>\n",
       "      <td>1000</td>\n",
       "      <td>8</td>\n",
       "    </tr>\n",
       "    <tr>\n",
       "      <th>4</th>\n",
       "      <td>1000_4</td>\n",
       "      <td>302.56</td>\n",
       "      <td>2018-09-24</td>\n",
       "      <td>1000</td>\n",
       "      <td>9</td>\n",
       "    </tr>\n",
       "  </tbody>\n",
       "</table>\n",
       "</div>"
      ],
      "text/plain": [
       "       id  mb_used session_date  user_id  month\n",
       "0  1000_0   112.95   2018-11-25     1000     11\n",
       "1  1000_1  1052.81   2018-09-07     1000      9\n",
       "2  1000_2  1197.26   2018-06-25     1000      6\n",
       "3  1000_3   550.27   2018-08-22     1000      8\n",
       "4  1000_4   302.56   2018-09-24     1000      9"
      ]
     },
     "execution_count": 9,
     "metadata": {},
     "output_type": "execute_result"
    }
   ],
   "source": [
    "internet.head()"
   ]
  },
  {
   "cell_type": "markdown",
   "id": "dcec417e-2bb3-46d5-b0c3-ff53274aef99",
   "metadata": {},
   "source": [
    "Сгруппируем данные по пользователям и месяцам, и объеденим таблицы в один датафрейм"
   ]
  },
  {
   "cell_type": "code",
   "execution_count": 10,
   "id": "af1aff0e-3e00-4492-9af2-186a42d3a730",
   "metadata": {},
   "outputs": [],
   "source": [
    "internet_grouped = internet.groupby(['month','user_id']).sum().reset_index()"
   ]
  },
  {
   "cell_type": "code",
   "execution_count": 11,
   "id": "d43d2d9d",
   "metadata": {},
   "outputs": [],
   "source": [
    "# Так как по условию каждый звонок у нас округляется вверх до минут, то так и сделаем\n",
    "calls['duration'] = calls['duration'].apply(math.ceil)"
   ]
  },
  {
   "cell_type": "code",
   "execution_count": 12,
   "id": "158517d0-7815-48ea-ab06-7ea3e3751933",
   "metadata": {},
   "outputs": [],
   "source": [
    "calls_grouped = (calls.groupby(['month','user_id'])\n",
    "                 .agg({'duration':'sum', 'id':'count'})\n",
    "                 .reset_index()\n",
    "                 .rename(columns={'duration':'minutes_in_month', 'id':'calls_in_month'})\n",
    "                )"
   ]
  },
  {
   "cell_type": "code",
   "execution_count": 13,
   "id": "a411859a-3be8-4527-9b8a-ac0de2ab7f84",
   "metadata": {},
   "outputs": [],
   "source": [
    "messages_grouped = (messages\n",
    "                    .groupby(['month','user_id'])\n",
    "                    .count()\n",
    "                    .reset_index()\n",
    "                    .rename(columns={'message_date': 'message_in_month'})\n",
    "                   )"
   ]
  },
  {
   "cell_type": "code",
   "execution_count": 14,
   "id": "d861d9ea-a03e-495d-8eb4-f6e9adf55e0a",
   "metadata": {},
   "outputs": [
    {
     "name": "stdout",
     "output_type": "stream",
     "text": [
      "<class 'pandas.core.frame.DataFrame'>\n",
      "Int64Index: 3214 entries, 0 to 3213\n",
      "Data columns (total 16 columns):\n",
      " #   Column                 Non-Null Count  Dtype  \n",
      "---  ------                 --------------  -----  \n",
      " 0   month                  3214 non-null   int64  \n",
      " 1   user_id                3214 non-null   int64  \n",
      " 2   minutes_in_month       3174 non-null   float64\n",
      " 3   calls_in_month         3174 non-null   float64\n",
      " 4   id                     2717 non-null   float64\n",
      " 5   message_in_month       2717 non-null   float64\n",
      " 6   mb_used                3203 non-null   float64\n",
      " 7   tariff                 3214 non-null   object \n",
      " 8   city                   3214 non-null   object \n",
      " 9   messages_included      3214 non-null   int64  \n",
      " 10  mb_per_month_included  3214 non-null   int64  \n",
      " 11  minutes_included       3214 non-null   int64  \n",
      " 12  rub_monthly_fee        3214 non-null   int64  \n",
      " 13  rub_per_gb             3214 non-null   int64  \n",
      " 14  rub_per_message        3214 non-null   int64  \n",
      " 15  rub_per_minute         3214 non-null   int64  \n",
      "dtypes: float64(5), int64(9), object(2)\n",
      "memory usage: 426.9+ KB\n"
     ]
    }
   ],
   "source": [
    "data = calls_grouped.merge(messages_grouped, on=['user_id','month'], how='outer')\n",
    "data = data.merge(internet_grouped, on=['user_id','month'], how='outer')\n",
    "data = data.merge(users[['user_id','tariff','city']], on='user_id', how='left')\n",
    "tariffs = tariffs.rename(columns={'tariff_name': 'tariff'})\n",
    "data = data.merge(tariffs, on='tariff', how='left')\n",
    "data.info()"
   ]
  },
  {
   "cell_type": "code",
   "execution_count": 15,
   "id": "4bcb8446",
   "metadata": {},
   "outputs": [
    {
     "data": {
      "text/plain": [
       "1005    12\n",
       "1395    12\n",
       "1337    12\n",
       "1340    12\n",
       "1372    12\n",
       "        ..\n",
       "1170     1\n",
       "1190     1\n",
       "1192     1\n",
       "1194     1\n",
       "1140     1\n",
       "Name: user_id, Length: 498, dtype: int64"
      ]
     },
     "execution_count": 15,
     "metadata": {},
     "output_type": "execute_result"
    }
   ],
   "source": [
    "data['user_id'].value_counts()"
   ]
  },
  {
   "cell_type": "markdown",
   "id": "5bb779b1-bb7a-49cb-af9e-2b9bdc223e98",
   "metadata": {},
   "source": [
    "В процессе объединения появились строчки с пропущенными значениями. Заменим их нулями, так как это означает, что пользователь не использовал эту функцию."
   ]
  },
  {
   "cell_type": "code",
   "execution_count": 16,
   "id": "dd507885-fb0c-4306-aca1-a72d0e5b7620",
   "metadata": {},
   "outputs": [],
   "source": [
    "data.fillna(0, inplace = True)"
   ]
  },
  {
   "cell_type": "code",
   "execution_count": 17,
   "id": "498a1643-575b-4fcc-9e3f-1e92cca874da",
   "metadata": {},
   "outputs": [
    {
     "data": {
      "text/plain": [
       "month                    0\n",
       "user_id                  0\n",
       "minutes_in_month         0\n",
       "calls_in_month           0\n",
       "id                       0\n",
       "message_in_month         0\n",
       "mb_used                  0\n",
       "tariff                   0\n",
       "city                     0\n",
       "messages_included        0\n",
       "mb_per_month_included    0\n",
       "minutes_included         0\n",
       "rub_monthly_fee          0\n",
       "rub_per_gb               0\n",
       "rub_per_message          0\n",
       "rub_per_minute           0\n",
       "dtype: int64"
      ]
     },
     "execution_count": 17,
     "metadata": {},
     "output_type": "execute_result"
    }
   ],
   "source": [
    "\n",
    "data.isna().sum()"
   ]
  },
  {
   "cell_type": "markdown",
   "id": "12f55216-8d28-408e-b99b-aba6ac0175cf",
   "metadata": {},
   "source": [
    "«Мегалайн» всегда округляет секунды до минут, а мегабайты — до гигабайт.   \n",
    "Каждый звонок округляется отдельно: даже если он длился всего 1 секунду, будет засчитан как 1 минута.  \n",
    "Для веб-трафика отдельные сессии не считаются. Вместо этого общая сумма за месяц округляется в бо́льшую сторону.   \n",
    "Если абонент использует 1025 мегабайт в этом месяце, с него возьмут плату за 2 гигабайта.\n",
    "Поэтому округлим секунды до минут и приведем данные в удобный формат, так как небывает половины смс и звонка"
   ]
  },
  {
   "cell_type": "markdown",
   "id": "3f37a303-4276-403f-b731-fa87c63149e9",
   "metadata": {},
   "source": [
    "Поэтому округлим секунды до минут и приведем данные в удобный формат, так как небывает половины смс и звонка"
   ]
  },
  {
   "cell_type": "code",
   "execution_count": 18,
   "id": "31998037-c0c8-4968-a6e5-d1c4a45f93a4",
   "metadata": {},
   "outputs": [],
   "source": [
    "data['message_in_month'] = data['message_in_month'].astype('int')\n",
    "data['calls_in_month'] = data['calls_in_month'].astype('int')"
   ]
  },
  {
   "cell_type": "code",
   "execution_count": 19,
   "id": "e0d22a0f-1bfb-4524-80e9-1fd5215260f7",
   "metadata": {},
   "outputs": [
    {
     "data": {
      "text/html": [
       "<div>\n",
       "<style scoped>\n",
       "    .dataframe tbody tr th:only-of-type {\n",
       "        vertical-align: middle;\n",
       "    }\n",
       "\n",
       "    .dataframe tbody tr th {\n",
       "        vertical-align: top;\n",
       "    }\n",
       "\n",
       "    .dataframe thead th {\n",
       "        text-align: right;\n",
       "    }\n",
       "</style>\n",
       "<table border=\"1\" class=\"dataframe\">\n",
       "  <thead>\n",
       "    <tr style=\"text-align: right;\">\n",
       "      <th></th>\n",
       "      <th>user_id</th>\n",
       "      <th>age</th>\n",
       "      <th>churn_date</th>\n",
       "      <th>city</th>\n",
       "      <th>first_name</th>\n",
       "      <th>last_name</th>\n",
       "      <th>reg_date</th>\n",
       "      <th>tariff</th>\n",
       "    </tr>\n",
       "  </thead>\n",
       "  <tbody>\n",
       "    <tr>\n",
       "      <th>371</th>\n",
       "      <td>1371</td>\n",
       "      <td>50</td>\n",
       "      <td>2018-12-30</td>\n",
       "      <td>Омск</td>\n",
       "      <td>Ириней</td>\n",
       "      <td>Трофимов</td>\n",
       "      <td>2018-12-25</td>\n",
       "      <td>smart</td>\n",
       "    </tr>\n",
       "  </tbody>\n",
       "</table>\n",
       "</div>"
      ],
      "text/plain": [
       "     user_id  age  churn_date  city first_name last_name    reg_date tariff\n",
       "371     1371   50  2018-12-30  Омск     Ириней  Трофимов  2018-12-25  smart"
      ]
     },
     "execution_count": 19,
     "metadata": {},
     "output_type": "execute_result"
    }
   ],
   "source": [
    "users[users['user_id'] == 1128] # \"Эти трое не пользуются ничем\n",
    "users[users['user_id'] == 1273]\n",
    "users[users['user_id'] == 1371]"
   ]
  },
  {
   "cell_type": "markdown",
   "id": "4534bd7d-ff3c-4cf6-a923-eb40c14e1b39",
   "metadata": {},
   "source": [
    "Удалим лишние столбцы, а то таблица и без них громоздкая"
   ]
  },
  {
   "cell_type": "code",
   "execution_count": 20,
   "id": "5b8a4c26-ee8b-469e-b2c0-08f26123df5e",
   "metadata": {
    "scrolled": true
   },
   "outputs": [
    {
     "data": {
      "text/html": [
       "<div>\n",
       "<style scoped>\n",
       "    .dataframe tbody tr th:only-of-type {\n",
       "        vertical-align: middle;\n",
       "    }\n",
       "\n",
       "    .dataframe tbody tr th {\n",
       "        vertical-align: top;\n",
       "    }\n",
       "\n",
       "    .dataframe thead th {\n",
       "        text-align: right;\n",
       "    }\n",
       "</style>\n",
       "<table border=\"1\" class=\"dataframe\">\n",
       "  <thead>\n",
       "    <tr style=\"text-align: right;\">\n",
       "      <th></th>\n",
       "      <th>month</th>\n",
       "      <th>user_id</th>\n",
       "      <th>minutes_in_month</th>\n",
       "      <th>calls_in_month</th>\n",
       "      <th>message_in_month</th>\n",
       "      <th>mb_used</th>\n",
       "      <th>tariff</th>\n",
       "      <th>city</th>\n",
       "      <th>messages_included</th>\n",
       "      <th>mb_per_month_included</th>\n",
       "      <th>minutes_included</th>\n",
       "      <th>rub_monthly_fee</th>\n",
       "      <th>rub_per_gb</th>\n",
       "      <th>rub_per_message</th>\n",
       "      <th>rub_per_minute</th>\n",
       "    </tr>\n",
       "  </thead>\n",
       "  <tbody>\n",
       "    <tr>\n",
       "      <th>0</th>\n",
       "      <td>1</td>\n",
       "      <td>1005</td>\n",
       "      <td>95.0</td>\n",
       "      <td>15</td>\n",
       "      <td>7</td>\n",
       "      <td>2727.97</td>\n",
       "      <td>smart</td>\n",
       "      <td>Набережные Челны</td>\n",
       "      <td>50</td>\n",
       "      <td>15360</td>\n",
       "      <td>500</td>\n",
       "      <td>550</td>\n",
       "      <td>200</td>\n",
       "      <td>3</td>\n",
       "      <td>3</td>\n",
       "    </tr>\n",
       "    <tr>\n",
       "      <th>1</th>\n",
       "      <td>1</td>\n",
       "      <td>1032</td>\n",
       "      <td>380.0</td>\n",
       "      <td>61</td>\n",
       "      <td>38</td>\n",
       "      <td>24127.69</td>\n",
       "      <td>smart</td>\n",
       "      <td>Ульяновск</td>\n",
       "      <td>50</td>\n",
       "      <td>15360</td>\n",
       "      <td>500</td>\n",
       "      <td>550</td>\n",
       "      <td>200</td>\n",
       "      <td>3</td>\n",
       "      <td>3</td>\n",
       "    </tr>\n",
       "    <tr>\n",
       "      <th>2</th>\n",
       "      <td>1</td>\n",
       "      <td>1045</td>\n",
       "      <td>9.0</td>\n",
       "      <td>1</td>\n",
       "      <td>5</td>\n",
       "      <td>2346.71</td>\n",
       "      <td>smart</td>\n",
       "      <td>Улан-Удэ</td>\n",
       "      <td>50</td>\n",
       "      <td>15360</td>\n",
       "      <td>500</td>\n",
       "      <td>550</td>\n",
       "      <td>200</td>\n",
       "      <td>3</td>\n",
       "      <td>3</td>\n",
       "    </tr>\n",
       "    <tr>\n",
       "      <th>3</th>\n",
       "      <td>1</td>\n",
       "      <td>1055</td>\n",
       "      <td>551.0</td>\n",
       "      <td>64</td>\n",
       "      <td>30</td>\n",
       "      <td>17090.88</td>\n",
       "      <td>smart</td>\n",
       "      <td>Казань</td>\n",
       "      <td>50</td>\n",
       "      <td>15360</td>\n",
       "      <td>500</td>\n",
       "      <td>550</td>\n",
       "      <td>200</td>\n",
       "      <td>3</td>\n",
       "      <td>3</td>\n",
       "    </tr>\n",
       "    <tr>\n",
       "      <th>4</th>\n",
       "      <td>1</td>\n",
       "      <td>1071</td>\n",
       "      <td>194.0</td>\n",
       "      <td>24</td>\n",
       "      <td>16</td>\n",
       "      <td>15604.34</td>\n",
       "      <td>smart</td>\n",
       "      <td>Омск</td>\n",
       "      <td>50</td>\n",
       "      <td>15360</td>\n",
       "      <td>500</td>\n",
       "      <td>550</td>\n",
       "      <td>200</td>\n",
       "      <td>3</td>\n",
       "      <td>3</td>\n",
       "    </tr>\n",
       "    <tr>\n",
       "      <th>...</th>\n",
       "      <td>...</td>\n",
       "      <td>...</td>\n",
       "      <td>...</td>\n",
       "      <td>...</td>\n",
       "      <td>...</td>\n",
       "      <td>...</td>\n",
       "      <td>...</td>\n",
       "      <td>...</td>\n",
       "      <td>...</td>\n",
       "      <td>...</td>\n",
       "      <td>...</td>\n",
       "      <td>...</td>\n",
       "      <td>...</td>\n",
       "      <td>...</td>\n",
       "      <td>...</td>\n",
       "    </tr>\n",
       "    <tr>\n",
       "      <th>3209</th>\n",
       "      <td>12</td>\n",
       "      <td>1231</td>\n",
       "      <td>0.0</td>\n",
       "      <td>0</td>\n",
       "      <td>191</td>\n",
       "      <td>32448.00</td>\n",
       "      <td>ultra</td>\n",
       "      <td>Чебоксары</td>\n",
       "      <td>1000</td>\n",
       "      <td>30720</td>\n",
       "      <td>3000</td>\n",
       "      <td>1950</td>\n",
       "      <td>150</td>\n",
       "      <td>1</td>\n",
       "      <td>1</td>\n",
       "    </tr>\n",
       "    <tr>\n",
       "      <th>3210</th>\n",
       "      <td>12</td>\n",
       "      <td>1328</td>\n",
       "      <td>0.0</td>\n",
       "      <td>0</td>\n",
       "      <td>7</td>\n",
       "      <td>39419.73</td>\n",
       "      <td>ultra</td>\n",
       "      <td>Мурманск</td>\n",
       "      <td>1000</td>\n",
       "      <td>30720</td>\n",
       "      <td>3000</td>\n",
       "      <td>1950</td>\n",
       "      <td>150</td>\n",
       "      <td>1</td>\n",
       "      <td>1</td>\n",
       "    </tr>\n",
       "    <tr>\n",
       "      <th>3211</th>\n",
       "      <td>12</td>\n",
       "      <td>1473</td>\n",
       "      <td>0.0</td>\n",
       "      <td>0</td>\n",
       "      <td>20</td>\n",
       "      <td>18418.26</td>\n",
       "      <td>ultra</td>\n",
       "      <td>Красноярск</td>\n",
       "      <td>1000</td>\n",
       "      <td>30720</td>\n",
       "      <td>3000</td>\n",
       "      <td>1950</td>\n",
       "      <td>150</td>\n",
       "      <td>1</td>\n",
       "      <td>1</td>\n",
       "    </tr>\n",
       "    <tr>\n",
       "      <th>3212</th>\n",
       "      <td>12</td>\n",
       "      <td>1489</td>\n",
       "      <td>0.0</td>\n",
       "      <td>0</td>\n",
       "      <td>35</td>\n",
       "      <td>17322.51</td>\n",
       "      <td>smart</td>\n",
       "      <td>Санкт-Петербург</td>\n",
       "      <td>50</td>\n",
       "      <td>15360</td>\n",
       "      <td>500</td>\n",
       "      <td>550</td>\n",
       "      <td>200</td>\n",
       "      <td>3</td>\n",
       "      <td>3</td>\n",
       "    </tr>\n",
       "    <tr>\n",
       "      <th>3213</th>\n",
       "      <td>4</td>\n",
       "      <td>1476</td>\n",
       "      <td>0.0</td>\n",
       "      <td>0</td>\n",
       "      <td>0</td>\n",
       "      <td>530.78</td>\n",
       "      <td>ultra</td>\n",
       "      <td>Москва</td>\n",
       "      <td>1000</td>\n",
       "      <td>30720</td>\n",
       "      <td>3000</td>\n",
       "      <td>1950</td>\n",
       "      <td>150</td>\n",
       "      <td>1</td>\n",
       "      <td>1</td>\n",
       "    </tr>\n",
       "  </tbody>\n",
       "</table>\n",
       "<p>3214 rows × 15 columns</p>\n",
       "</div>"
      ],
      "text/plain": [
       "      month  user_id  minutes_in_month  calls_in_month  message_in_month  \\\n",
       "0         1     1005              95.0              15                 7   \n",
       "1         1     1032             380.0              61                38   \n",
       "2         1     1045               9.0               1                 5   \n",
       "3         1     1055             551.0              64                30   \n",
       "4         1     1071             194.0              24                16   \n",
       "...     ...      ...               ...             ...               ...   \n",
       "3209     12     1231               0.0               0               191   \n",
       "3210     12     1328               0.0               0                 7   \n",
       "3211     12     1473               0.0               0                20   \n",
       "3212     12     1489               0.0               0                35   \n",
       "3213      4     1476               0.0               0                 0   \n",
       "\n",
       "       mb_used tariff              city  messages_included  \\\n",
       "0      2727.97  smart  Набережные Челны                 50   \n",
       "1     24127.69  smart         Ульяновск                 50   \n",
       "2      2346.71  smart          Улан-Удэ                 50   \n",
       "3     17090.88  smart            Казань                 50   \n",
       "4     15604.34  smart              Омск                 50   \n",
       "...        ...    ...               ...                ...   \n",
       "3209  32448.00  ultra         Чебоксары               1000   \n",
       "3210  39419.73  ultra          Мурманск               1000   \n",
       "3211  18418.26  ultra        Красноярск               1000   \n",
       "3212  17322.51  smart   Санкт-Петербург                 50   \n",
       "3213    530.78  ultra            Москва               1000   \n",
       "\n",
       "      mb_per_month_included  minutes_included  rub_monthly_fee  rub_per_gb  \\\n",
       "0                     15360               500              550         200   \n",
       "1                     15360               500              550         200   \n",
       "2                     15360               500              550         200   \n",
       "3                     15360               500              550         200   \n",
       "4                     15360               500              550         200   \n",
       "...                     ...               ...              ...         ...   \n",
       "3209                  30720              3000             1950         150   \n",
       "3210                  30720              3000             1950         150   \n",
       "3211                  30720              3000             1950         150   \n",
       "3212                  15360               500              550         200   \n",
       "3213                  30720              3000             1950         150   \n",
       "\n",
       "      rub_per_message  rub_per_minute  \n",
       "0                   3               3  \n",
       "1                   3               3  \n",
       "2                   3               3  \n",
       "3                   3               3  \n",
       "4                   3               3  \n",
       "...               ...             ...  \n",
       "3209                1               1  \n",
       "3210                1               1  \n",
       "3211                1               1  \n",
       "3212                3               3  \n",
       "3213                1               1  \n",
       "\n",
       "[3214 rows x 15 columns]"
      ]
     },
     "execution_count": 20,
     "metadata": {},
     "output_type": "execute_result"
    }
   ],
   "source": [
    "data.drop(['id'], axis=1, inplace=True)\n",
    "data"
   ]
  },
  {
   "cell_type": "markdown",
   "id": "8eec628f-51d5-455e-b61a-eb9788193244",
   "metadata": {},
   "source": [
    "Посчитаем и добавим в таблицу месячную выручку с каждого клиента"
   ]
  },
  {
   "cell_type": "code",
   "execution_count": 21,
   "id": "1487bbd5-e3e1-4344-b240-5427ee046201",
   "metadata": {},
   "outputs": [],
   "source": [
    "# С помощью функции высчитываем выручку с человека, после чего прибавляем абонентскую плату\n",
    "def profit(row):\n",
    "    sms = (row['message_in_month'] - row['messages_included']) * row['rub_per_message']\n",
    "    inet = math.ceil((row['mb_used'] - row['mb_per_month_included']) / 1024) * row['rub_per_gb']\n",
    "    call = (row['minutes_in_month'] - row['minutes_included']) * row['rub_per_minute']\n",
    "    total = 0\n",
    "    for i in [sms,inet,call]:\n",
    "        if i > 0: \n",
    "            total += i\n",
    "    return total\n",
    "        \n",
    "data.insert(9, 'profit', data.apply(profit, axis=1))\n",
    "data['profit'] += data['rub_monthly_fee']"
   ]
  },
  {
   "cell_type": "markdown",
   "id": "ed85ca03-c41f-43f6-afad-28dcd0667fc5",
   "metadata": {},
   "source": [
    "# Исследование поведения пользователей с разними тарифами \n",
    "<a id=\"analisys\"></a>"
   ]
  },
  {
   "cell_type": "markdown",
   "id": "72f0db27-5655-4572-a8fb-01213814dd86",
   "metadata": {},
   "source": [
    "Для дальнейших исследований нам понадобится данные отдельно по тарифам"
   ]
  },
  {
   "cell_type": "code",
   "execution_count": 22,
   "id": "8c786d84-0eb5-4ece-beb4-d1b72ddc73c1",
   "metadata": {},
   "outputs": [],
   "source": [
    "df_smart = data.query('tariff == \"smart\"')\n",
    "df_ultra = data.query('tariff == \"ultra\"')\n"
   ]
  },
  {
   "cell_type": "markdown",
   "id": "8bc6e895-05f8-4b1f-bd11-c9f643b5537b",
   "metadata": {},
   "source": [
    "## Распределение пользователей по минутам в месяц <a id=\"calls\"></a>"
   ]
  },
  {
   "cell_type": "code",
   "execution_count": 23,
   "id": "10666b88-f598-4aac-99cd-dba72c2b16dd",
   "metadata": {},
   "outputs": [
    {
     "data": {
      "text/html": [
       "<div>\n",
       "<style scoped>\n",
       "    .dataframe tbody tr th:only-of-type {\n",
       "        vertical-align: middle;\n",
       "    }\n",
       "\n",
       "    .dataframe tbody tr th {\n",
       "        vertical-align: top;\n",
       "    }\n",
       "\n",
       "    .dataframe thead th {\n",
       "        text-align: right;\n",
       "    }\n",
       "</style>\n",
       "<table border=\"1\" class=\"dataframe\">\n",
       "  <thead>\n",
       "    <tr style=\"text-align: right;\">\n",
       "      <th></th>\n",
       "      <th>count</th>\n",
       "      <th>mean</th>\n",
       "      <th>std</th>\n",
       "      <th>min</th>\n",
       "      <th>25%</th>\n",
       "      <th>50%</th>\n",
       "      <th>75%</th>\n",
       "      <th>max</th>\n",
       "    </tr>\n",
       "    <tr>\n",
       "      <th>tariff</th>\n",
       "      <th></th>\n",
       "      <th></th>\n",
       "      <th></th>\n",
       "      <th></th>\n",
       "      <th></th>\n",
       "      <th></th>\n",
       "      <th></th>\n",
       "      <th></th>\n",
       "    </tr>\n",
       "  </thead>\n",
       "  <tbody>\n",
       "    <tr>\n",
       "      <th>smart</th>\n",
       "      <td>2229.0</td>\n",
       "      <td>417.934948</td>\n",
       "      <td>190.313730</td>\n",
       "      <td>0.0</td>\n",
       "      <td>282.0</td>\n",
       "      <td>422.0</td>\n",
       "      <td>545.0</td>\n",
       "      <td>1435.0</td>\n",
       "    </tr>\n",
       "    <tr>\n",
       "      <th>ultra</th>\n",
       "      <td>985.0</td>\n",
       "      <td>526.623350</td>\n",
       "      <td>317.606098</td>\n",
       "      <td>0.0</td>\n",
       "      <td>284.0</td>\n",
       "      <td>518.0</td>\n",
       "      <td>752.0</td>\n",
       "      <td>1673.0</td>\n",
       "    </tr>\n",
       "  </tbody>\n",
       "</table>\n",
       "</div>"
      ],
      "text/plain": [
       "         count        mean         std  min    25%    50%    75%     max\n",
       "tariff                                                                  \n",
       "smart   2229.0  417.934948  190.313730  0.0  282.0  422.0  545.0  1435.0\n",
       "ultra    985.0  526.623350  317.606098  0.0  284.0  518.0  752.0  1673.0"
      ]
     },
     "execution_count": 23,
     "metadata": {},
     "output_type": "execute_result"
    },
    {
     "data": {
      "image/png": "[encoded data removed]",
      "text/plain": [
       "<Figure size 432x288 with 1 Axes>"
      ]
     },
     "metadata": {
      "needs_background": "light"
     },
     "output_type": "display_data"
    }
   ],
   "source": [
    "df_ultra['minutes_in_month'].plot(kind='hist', bins=20, label='ultra')\n",
    "df_smart['minutes_in_month'].plot(kind='hist', bins=35, alpha=0.5, label='smart')\n",
    "plt.ylabel('Кол-во пользователей')\n",
    "plt.xlabel('Минуты')\n",
    "plt.title('Распределение пользователей по минутам в месяц')\n",
    "plt.legend()\n",
    "plt.annotate('Граница бесплатных минут у smart', xy=(500, 0), xytext=(500, 200),\n",
    "            arrowprops=dict(facecolor='black'));\n",
    "data.groupby('tariff')['minutes_in_month'].describe()"
   ]
  },
  {
   "cell_type": "markdown",
   "id": "e03d465b-7ac1-4e7d-a7ca-4890a21b01dc",
   "metadata": {},
   "source": [
    "На \"смарте\" большиство людей не выходят за пределы бесплатных минут, а пользователи \"ультра\", даже близко не подходят к границе.  "
   ]
  },
  {
   "cell_type": "markdown",
   "id": "95933b35-b96c-446e-b0ad-a117186281ff",
   "metadata": {},
   "source": [
    "## Распределение пользователей по СМС в месяц <a id=\"sms\"></a>"
   ]
  },
  {
   "cell_type": "code",
   "execution_count": 24,
   "id": "8018f87b-fd90-4cfc-b629-e7a297559a04",
   "metadata": {},
   "outputs": [
    {
     "data": {
      "text/html": [
       "<div>\n",
       "<style scoped>\n",
       "    .dataframe tbody tr th:only-of-type {\n",
       "        vertical-align: middle;\n",
       "    }\n",
       "\n",
       "    .dataframe tbody tr th {\n",
       "        vertical-align: top;\n",
       "    }\n",
       "\n",
       "    .dataframe thead th {\n",
       "        text-align: right;\n",
       "    }\n",
       "</style>\n",
       "<table border=\"1\" class=\"dataframe\">\n",
       "  <thead>\n",
       "    <tr style=\"text-align: right;\">\n",
       "      <th></th>\n",
       "      <th>count</th>\n",
       "      <th>mean</th>\n",
       "      <th>std</th>\n",
       "      <th>min</th>\n",
       "      <th>25%</th>\n",
       "      <th>50%</th>\n",
       "      <th>75%</th>\n",
       "      <th>max</th>\n",
       "    </tr>\n",
       "    <tr>\n",
       "      <th>tariff</th>\n",
       "      <th></th>\n",
       "      <th></th>\n",
       "      <th></th>\n",
       "      <th></th>\n",
       "      <th></th>\n",
       "      <th></th>\n",
       "      <th></th>\n",
       "      <th></th>\n",
       "    </tr>\n",
       "  </thead>\n",
       "  <tbody>\n",
       "    <tr>\n",
       "      <th>smart</th>\n",
       "      <td>2229.0</td>\n",
       "      <td>33.384029</td>\n",
       "      <td>28.227876</td>\n",
       "      <td>0.0</td>\n",
       "      <td>10.0</td>\n",
       "      <td>28.0</td>\n",
       "      <td>51.0</td>\n",
       "      <td>143.0</td>\n",
       "    </tr>\n",
       "    <tr>\n",
       "      <th>ultra</th>\n",
       "      <td>985.0</td>\n",
       "      <td>49.363452</td>\n",
       "      <td>47.804457</td>\n",
       "      <td>0.0</td>\n",
       "      <td>6.0</td>\n",
       "      <td>38.0</td>\n",
       "      <td>79.0</td>\n",
       "      <td>224.0</td>\n",
       "    </tr>\n",
       "  </tbody>\n",
       "</table>\n",
       "</div>"
      ],
      "text/plain": [
       "         count       mean        std  min   25%   50%   75%    max\n",
       "tariff                                                            \n",
       "smart   2229.0  33.384029  28.227876  0.0  10.0  28.0  51.0  143.0\n",
       "ultra    985.0  49.363452  47.804457  0.0   6.0  38.0  79.0  224.0"
      ]
     },
     "metadata": {},
     "output_type": "display_data"
    },
    {
     "data": {
      "text/plain": [
       "tariff\n",
       "smart     796.812958\n",
       "ultra    2285.266143\n",
       "Name: message_in_month, dtype: float64"
      ]
     },
     "execution_count": 24,
     "metadata": {},
     "output_type": "execute_result"
    },
    {
     "data": {
      "image/png": "[encoded data removed]",
      "text/plain": [
       "<Figure size 432x288 with 1 Axes>"
      ]
     },
     "metadata": {
      "needs_background": "light"
     },
     "output_type": "display_data"
    }
   ],
   "source": [
    "df_ultra['message_in_month'].plot(kind='hist', bins=20, label='ultra')\n",
    "df_smart['message_in_month'].plot(kind='hist', bins=20, alpha=0.5, label='smart')\n",
    "plt.ylabel('Кол-во пользователей')\n",
    "plt.xlabel('СМС')\n",
    "plt.title('Распределение пользователей по СМС в месяц')\n",
    "plt.legend()\n",
    "plt.annotate('Граница бесплатных смс у smart', xy=(50, 0), xytext=(50, 300),\n",
    "            arrowprops=dict(facecolor='black'));\n",
    "display(data.groupby('tariff')['message_in_month'].describe())\n",
    "data.groupby('tariff')['message_in_month'].var()"
   ]
  },
  {
   "cell_type": "markdown",
   "id": "e404bb79-3073-4dfc-a2c1-1b0ab0c2d5f5",
   "metadata": {},
   "source": [
    "Такая же ситуация и с смс: пользователи \"смарт\" в большинстве случаев доходят до границы бесплатных смс, в то время как у самого активного пользователя \"ультра\" остается еще более 750 смс.  \n"
   ]
  },
  {
   "cell_type": "markdown",
   "id": "bb119f70-95c5-45d5-8293-9e3ae6b90d2d",
   "metadata": {},
   "source": [
    "## Распределение пользователей по Мб в месяц <a id=\"inet\"></a>"
   ]
  },
  {
   "cell_type": "code",
   "execution_count": 25,
   "id": "e0654e04-e982-4477-ab19-78298b553b6a",
   "metadata": {},
   "outputs": [
    {
     "data": {
      "text/html": [
       "<div>\n",
       "<style scoped>\n",
       "    .dataframe tbody tr th:only-of-type {\n",
       "        vertical-align: middle;\n",
       "    }\n",
       "\n",
       "    .dataframe tbody tr th {\n",
       "        vertical-align: top;\n",
       "    }\n",
       "\n",
       "    .dataframe thead th {\n",
       "        text-align: right;\n",
       "    }\n",
       "</style>\n",
       "<table border=\"1\" class=\"dataframe\">\n",
       "  <thead>\n",
       "    <tr style=\"text-align: right;\">\n",
       "      <th></th>\n",
       "      <th>count</th>\n",
       "      <th>mean</th>\n",
       "      <th>std</th>\n",
       "      <th>min</th>\n",
       "      <th>25%</th>\n",
       "      <th>50%</th>\n",
       "      <th>75%</th>\n",
       "      <th>max</th>\n",
       "    </tr>\n",
       "    <tr>\n",
       "      <th>tariff</th>\n",
       "      <th></th>\n",
       "      <th></th>\n",
       "      <th></th>\n",
       "      <th></th>\n",
       "      <th></th>\n",
       "      <th></th>\n",
       "      <th></th>\n",
       "      <th></th>\n",
       "    </tr>\n",
       "  </thead>\n",
       "  <tbody>\n",
       "    <tr>\n",
       "      <th>smart</th>\n",
       "      <td>2229.0</td>\n",
       "      <td>16208.386990</td>\n",
       "      <td>5870.476681</td>\n",
       "      <td>0.0</td>\n",
       "      <td>12643.01</td>\n",
       "      <td>16506.84</td>\n",
       "      <td>20042.93</td>\n",
       "      <td>38552.45</td>\n",
       "    </tr>\n",
       "    <tr>\n",
       "      <th>ultra</th>\n",
       "      <td>985.0</td>\n",
       "      <td>19468.805208</td>\n",
       "      <td>10087.170752</td>\n",
       "      <td>0.0</td>\n",
       "      <td>11770.26</td>\n",
       "      <td>19308.01</td>\n",
       "      <td>26837.69</td>\n",
       "      <td>49745.69</td>\n",
       "    </tr>\n",
       "  </tbody>\n",
       "</table>\n",
       "</div>"
      ],
      "text/plain": [
       "         count          mean           std  min       25%       50%       75%  \\\n",
       "tariff                                                                          \n",
       "smart   2229.0  16208.386990   5870.476681  0.0  12643.01  16506.84  20042.93   \n",
       "ultra    985.0  19468.805208  10087.170752  0.0  11770.26  19308.01  26837.69   \n",
       "\n",
       "             max  \n",
       "tariff            \n",
       "smart   38552.45  \n",
       "ultra   49745.69  "
      ]
     },
     "metadata": {},
     "output_type": "display_data"
    },
    {
     "data": {
      "text/plain": [
       "tariff\n",
       "smart    3.446250e+07\n",
       "ultra    1.017510e+08\n",
       "Name: mb_used, dtype: float64"
      ]
     },
     "execution_count": 25,
     "metadata": {},
     "output_type": "execute_result"
    },
    {
     "data": {
      "image/png": "[encoded data removed]",
      "text/plain": [
       "<Figure size 432x288 with 1 Axes>"
      ]
     },
     "metadata": {
      "needs_background": "light"
     },
     "output_type": "display_data"
    }
   ],
   "source": [
    "df_ultra['mb_used'].plot(kind='hist', bins=20, label='ultra')\n",
    "df_smart['mb_used'].plot(kind='hist', bins=20, alpha=0.5, label='smart')\n",
    "plt.ylabel('Кол-во пользователей')\n",
    "plt.xlabel('Мб')\n",
    "plt.title('Распределение пользователей по Мб в месяц')\n",
    "plt.legend()\n",
    "plt.annotate('Граница бесплатных mb у smart', xy=(15360, 0), xytext=(15360, 250),\n",
    "            arrowprops=dict(facecolor='black'))\n",
    "plt.annotate('Граница бесплатных mb у ultra', xy=(30720, 0), xytext=(30720, 200),\n",
    "            arrowprops=dict(facecolor='black'));\n",
    "display(data.groupby('tariff')['mb_used'].describe())\n",
    "data.groupby('tariff')['mb_used'].var()"
   ]
  },
  {
   "cell_type": "markdown",
   "id": "8b61fcc3-4bd0-41a1-be3c-8a2787c7a229",
   "metadata": {},
   "source": [
    "А вот с интернет-трафиком дела обстоят иначе: людям с тарифом \"ультра\" в основном хватает 30Гб, и лишь немногие выходят за границы, а среди пользователей \"смарт\" же большая половина превышает этот предел.  "
   ]
  },
  {
   "cell_type": "markdown",
   "id": "424a4931-c5be-4a2a-aa0d-46776c114821",
   "metadata": {},
   "source": [
    "## Распределение пользователей по прибыли в месяц <a id=\"profit\"></a>"
   ]
  },
  {
   "cell_type": "code",
   "execution_count": 26,
   "id": "1df79d39-47c5-46a0-ba34-8e796b4cddf6",
   "metadata": {},
   "outputs": [
    {
     "data": {
      "text/html": [
       "<div>\n",
       "<style scoped>\n",
       "    .dataframe tbody tr th:only-of-type {\n",
       "        vertical-align: middle;\n",
       "    }\n",
       "\n",
       "    .dataframe tbody tr th {\n",
       "        vertical-align: top;\n",
       "    }\n",
       "\n",
       "    .dataframe thead th {\n",
       "        text-align: right;\n",
       "    }\n",
       "</style>\n",
       "<table border=\"1\" class=\"dataframe\">\n",
       "  <thead>\n",
       "    <tr style=\"text-align: right;\">\n",
       "      <th></th>\n",
       "      <th>tariff</th>\n",
       "      <th>count</th>\n",
       "      <th>mean</th>\n",
       "      <th>std</th>\n",
       "      <th>min</th>\n",
       "      <th>25%</th>\n",
       "      <th>50%</th>\n",
       "      <th>75%</th>\n",
       "      <th>max</th>\n",
       "    </tr>\n",
       "  </thead>\n",
       "  <tbody>\n",
       "    <tr>\n",
       "      <th>0</th>\n",
       "      <td>smart</td>\n",
       "      <td>2229.0</td>\n",
       "      <td>1289.973531</td>\n",
       "      <td>818.404367</td>\n",
       "      <td>550.0</td>\n",
       "      <td>550.0</td>\n",
       "      <td>1023.0</td>\n",
       "      <td>1750.0</td>\n",
       "      <td>6770.0</td>\n",
       "    </tr>\n",
       "    <tr>\n",
       "      <th>1</th>\n",
       "      <td>ultra</td>\n",
       "      <td>985.0</td>\n",
       "      <td>2070.152284</td>\n",
       "      <td>376.187114</td>\n",
       "      <td>1950.0</td>\n",
       "      <td>1950.0</td>\n",
       "      <td>1950.0</td>\n",
       "      <td>1950.0</td>\n",
       "      <td>4800.0</td>\n",
       "    </tr>\n",
       "  </tbody>\n",
       "</table>\n",
       "</div>"
      ],
      "text/plain": [
       "  tariff   count         mean         std     min     25%     50%     75%  \\\n",
       "0  smart  2229.0  1289.973531  818.404367   550.0   550.0  1023.0  1750.0   \n",
       "1  ultra   985.0  2070.152284  376.187114  1950.0  1950.0  1950.0  1950.0   \n",
       "\n",
       "      max  \n",
       "0  6770.0  \n",
       "1  4800.0  "
      ]
     },
     "metadata": {},
     "output_type": "display_data"
    },
    {
     "data": {
      "text/plain": [
       "tariff\n",
       "smart    669785.708006\n",
       "ultra    141516.745079\n",
       "Name: profit, dtype: float64"
      ]
     },
     "execution_count": 26,
     "metadata": {},
     "output_type": "execute_result"
    },
    {
     "data": {
      "image/png": "[encoded data removed]",
      "text/plain": [
       "<Figure size 432x288 with 1 Axes>"
      ]
     },
     "metadata": {
      "needs_background": "light"
     },
     "output_type": "display_data"
    }
   ],
   "source": [
    "df_ultra['profit'].plot(kind='hist', bins=10, label='ultra')\n",
    "df_smart['profit'].plot(kind='hist', bins=10, alpha=0.5, label='smart')\n",
    "plt.ylabel('Кол-во пользователей')\n",
    "plt.xlabel('Прибыль')\n",
    "plt.title('Распределение пользователей по прибыли в месяц')\n",
    "plt.legend();\n",
    "display(data.groupby('tariff')['profit'].describe().reset_index())\n",
    "data.groupby('tariff')['profit'].var()"
   ]
  },
  {
   "cell_type": "code",
   "execution_count": 27,
   "id": "c2f7862d-edbb-4573-9448-d304e5f0c611",
   "metadata": {},
   "outputs": [],
   "source": [
    "all_ultra_profit = int(data.groupby('tariff')['profit'].describe().reset_index().loc[1,'count'] * \n",
    "                    data.groupby('tariff')['profit'].describe().reset_index().loc[1,'mean'])\n",
    "all_smart_profit = int(data.groupby('tariff')['profit'].describe().reset_index().loc[0,'count'] * \n",
    "                    data.groupby('tariff')['profit'].describe().reset_index().loc[0,'mean'])"
   ]
  },
  {
   "cell_type": "code",
   "execution_count": 28,
   "id": "1998e954-0d89-4e5a-b738-8392390b442e",
   "metadata": {},
   "outputs": [
    {
     "name": "stdout",
     "output_type": "stream",
     "text": [
      "Вцелом, кажется, что прибыль с тарифа \"смарт\" больше, чем с \"ультра\", даже учитывая разницу в кол-ве пользователей каждого тарифа.\n",
      "Так годовая прибыль со всех пользователей \"смарт\" из выборки: 2875351р, а прибыль с \"ультра\": 2039099р, разница составляет: 836252р\n"
     ]
    }
   ],
   "source": [
    "print(f'''Вцелом, кажется, что прибыль с тарифа \"смарт\" больше, чем с \"ультра\", даже учитывая разницу в кол-ве пользователей каждого тарифа.\n",
    "Так годовая прибыль со всех пользователей \"смарт\" из выборки: {all_smart_profit}р, а прибыль с \"ультра\": {all_ultra_profit}р, разница составляет: {abs(all_smart_profit - all_ultra_profit)}р''')"
   ]
  },
  {
   "cell_type": "markdown",
   "id": "655c4084-ceb3-43dc-9533-b87209dde62f",
   "metadata": {},
   "source": [
    "## Вывод <a id=\"conclusion_2\"></a>"
   ]
  },
  {
   "cell_type": "markdown",
   "id": "ae4f07ac-d9e9-4003-a598-839cab090fc9",
   "metadata": {},
   "source": [
    "Проанализировав дынные можно сделать заключение, что около 70-75% пользователей тарифа \"смарт\" укладываются в лимит тарифа, однако оставшиеся приносят телекому бОльшую прибыль, в то время как пользователи ультра превышают лимит только в интернет-трафике.  \n",
    "Средняя прибыль в месяц со \"смарта\" =  1289р, а с \"ультра\" = 2070р"
   ]
  },
  {
   "cell_type": "markdown",
   "id": "827930dd-d47e-46b7-9dfe-c88989e1a05c",
   "metadata": {},
   "source": [
    "# Исследование потребности пользователей втечение месяца <a id=\"month\"></a>"
   ]
  },
  {
   "cell_type": "code",
   "execution_count": 29,
   "id": "b7ae822c-2ace-4812-b66f-c840362925ee",
   "metadata": {},
   "outputs": [
    {
     "data": {
      "image/png": "[encoded data removed]",
      "text/plain": [
       "<Figure size 432x288 with 1 Axes>"
      ]
     },
     "metadata": {
      "needs_background": "light"
     },
     "output_type": "display_data"
    }
   ],
   "source": [
    "df_smart.groupby('month')['minutes_in_month'].mean().plot(label='smart')\n",
    "df_ultra.groupby('month')['minutes_in_month'].mean().plot(grid = True, label='ultra')\n",
    "plt.title('Количество минут в месяц')\n",
    "plt.ylabel('Минуты')\n",
    "plt.xlabel('Месяц')\n",
    "plt.legend();"
   ]
  },
  {
   "cell_type": "code",
   "execution_count": 30,
   "id": "92c7ca8f-7e88-4c40-8939-05b5d6b5728d",
   "metadata": {},
   "outputs": [
    {
     "data": {
      "image/png": "[encoded data removed]",
      "text/plain": [
       "<Figure size 432x288 with 1 Axes>"
      ]
     },
     "metadata": {
      "needs_background": "light"
     },
     "output_type": "display_data"
    }
   ],
   "source": [
    "df_smart.groupby('month')['mb_used'].mean().plot(label='smart')\n",
    "df_ultra.groupby('month')['mb_used'].mean().plot(grid = True, label='ultra')\n",
    "plt.title('Количество mb в месяц')\n",
    "plt.ylabel('Mb')\n",
    "plt.xlabel('Месяц')\n",
    "plt.legend();"
   ]
  },
  {
   "cell_type": "code",
   "execution_count": 31,
   "id": "2d7faf5e-e1b2-4e31-9d97-66ebe635ab6a",
   "metadata": {},
   "outputs": [
    {
     "data": {
      "image/png": "[encoded data removed]",
      "text/plain": [
       "<Figure size 432x288 with 1 Axes>"
      ]
     },
     "metadata": {
      "needs_background": "light"
     },
     "output_type": "display_data"
    }
   ],
   "source": [
    "df_smart.groupby('month')['message_in_month'].mean().plot(label='smart')\n",
    "df_ultra.groupby('month')['message_in_month'].mean().plot(grid = True, label='ultra')\n",
    "plt.title('Количество смс в месяц')\n",
    "plt.ylabel('Смс')\n",
    "plt.xlabel('Месяц')\n",
    "plt.legend();"
   ]
  },
  {
   "cell_type": "code",
   "execution_count": 32,
   "id": "d43858a6-2d04-4be6-a5d3-a32286539c62",
   "metadata": {},
   "outputs": [
    {
     "data": {
      "image/png": "[encoded data removed]",
      "text/plain": [
       "<Figure size 432x288 with 1 Axes>"
      ]
     },
     "metadata": {
      "needs_background": "light"
     },
     "output_type": "display_data"
    }
   ],
   "source": [
    "df_smart.groupby('month')['profit'].mean().plot(label='smart')\n",
    "df_ultra.groupby('month')['profit'].mean().plot(grid = True, label='ultra')\n",
    "plt.title('Количество прибыли в месяц')\n",
    "plt.ylabel('Прибыль')\n",
    "plt.xlabel('Месяц')\n",
    "plt.legend();"
   ]
  },
  {
   "cell_type": "markdown",
   "id": "09ffe34f-d60f-41c4-8c31-b85ab70d63a6",
   "metadata": {},
   "source": [
    "## Вывод <a id=\"conclusion_3\"></a>"
   ]
  },
  {
   "cell_type": "markdown",
   "id": "f0005439-6c0a-4522-b56e-cf7d430ad94a",
   "metadata": {},
   "source": [
    "Вцелом видно, что потребности пользователей обоих тарифов, как и прибыль с каждого, в течение года возрастает, достигая пика в декабре."
   ]
  },
  {
   "cell_type": "markdown",
   "id": "88a21bd4-ce52-423d-bf07-7e61ef21baa1",
   "metadata": {},
   "source": [
    "# Проверка гипотез <a id=\"hypotheses\"></a>"
   ]
  },
  {
   "cell_type": "markdown",
   "id": "60668c8d-633b-4f28-a429-678322a56c35",
   "metadata": {},
   "source": [
    "Перед проверкой гипотез необходимо избавиться от выбросов, так как они могут повлиять на результаты"
   ]
  },
  {
   "cell_type": "code",
   "execution_count": 33,
   "id": "90037b4b-ddd9-4523-ada2-23c64714083b",
   "metadata": {},
   "outputs": [],
   "source": [
    "columns = ['message_in_month','minutes_in_month','mb_used','profit']\n",
    "def boxplot_df(data, columns):\n",
    "    i = 1\n",
    "    for column in columns:\n",
    "        plt.subplot (2, 2, i)\n",
    "        data[column].plot(kind='box', figsize=(10,10), grid=True)\n",
    "        plt.ylabel('Частота')\n",
    "        i +=1  \n"
   ]
  },
  {
   "cell_type": "code",
   "execution_count": 34,
   "id": "52aec56e-63f8-4f9d-a862-60b3fd61bf86",
   "metadata": {},
   "outputs": [
    {
     "data": {
      "image/png": "[encoded data removed]",
      "text/plain": [
       "<Figure size 720x720 with 4 Axes>"
      ]
     },
     "metadata": {
      "needs_background": "light"
     },
     "output_type": "display_data"
    }
   ],
   "source": [
    "boxplot_df(df_ultra, columns)\n",
    "plt.suptitle('Диаграма размаха тарифа \"ultra\"',y = 0.94, fontsize = 20);"
   ]
  },
  {
   "cell_type": "markdown",
   "id": "2ff822b2-d050-4ac8-9c64-0d7505c85bb1",
   "metadata": {},
   "source": [
    "Хотя размах прибыли \"ультра\" и выглядит подозрительно, но не стоит удивляться, ведь колоссальная доля клиентов не выходит за рамки абонентской платы"
   ]
  },
  {
   "cell_type": "code",
   "execution_count": 35,
   "id": "b562bfe6-fa8d-4895-9765-4fc7512da9c9",
   "metadata": {},
   "outputs": [
    {
     "data": {
      "image/png": "[encoded data removed]",
      "text/plain": [
       "<Figure size 720x720 with 4 Axes>"
      ]
     },
     "metadata": {
      "needs_background": "light"
     },
     "output_type": "display_data"
    }
   ],
   "source": [
    "boxplot_df(df_smart, columns)\n",
    "plt.suptitle('Диаграма размаха тарифа \"smart\"',y = 0.94, fontsize = 20);"
   ]
  },
  {
   "cell_type": "markdown",
   "id": "6e4a41f3-92bd-435d-a079-98d9546cf69a",
   "metadata": {},
   "source": [
    "Удалим выбросы!"
   ]
  },
  {
   "cell_type": "code",
   "execution_count": 36,
   "id": "3fa2e972-e109-480c-9336-6d920239be9e",
   "metadata": {},
   "outputs": [],
   "source": [
    "# Сделал её немного более общей. М.б. пригодится в других исследованиях.\n",
    "def remove_outliers(data, columns):\n",
    "    for column in columns:\n",
    "        q_1,q_3 = data[column].quantile([0.25,0.75])\n",
    "        iqr = q_3 - q_1\n",
    "        low = q_1 - (1.5 * iqr)   \n",
    "        up = q_3 + (1.5 * iqr)\n",
    "        data = data[(data[column] <= up) & (data[column] >= low)]\n",
    "    return data\n",
    "\n",
    "df_smart = remove_outliers(df_smart,['profit'])\n",
    "df_ultra = remove_outliers(df_ultra, ['profit'])"
   ]
  },
  {
   "cell_type": "markdown",
   "id": "32174bbb-05e3-4ed2-9509-64189e435077",
   "metadata": {},
   "source": [
    "## Гипотеза о равенстве выручек \"смарт\" и \"ультра\" <a id=\"hypothesis_1\"></a>"
   ]
  },
  {
   "cell_type": "markdown",
   "id": "43b13faa-3bfe-4015-aed1-f2b6650c54d2",
   "metadata": {},
   "source": [
    "Так как выборки независимы, а, благодаря ЦПТ мы знаем, что выборочные средние нормально распределены вокруг истинного среднего, применим тест Стьюдента для сравнения двух генеральных совокупностей"
   ]
  },
  {
   "cell_type": "markdown",
   "id": "180af79c",
   "metadata": {},
   "source": [
    "H0: cредняя выручка пользователей \"смарт\" и \"ультра\" одинаковы;  \n",
    "H1: средняя выручка пользователей \"смарт\" и \"ультра\" различаются; \n"
   ]
  },
  {
   "cell_type": "code",
   "execution_count": 37,
   "id": "c654012d-df9c-44fd-a0fc-f38e8546583c",
   "metadata": {},
   "outputs": [
    {
     "name": "stdout",
     "output_type": "stream",
     "text": [
      " p-value = 6.199325734910117e-155\n",
      "Отвергаем нулевую гипотезу\n"
     ]
    }
   ],
   "source": [
    "alpha = 0.05\n",
    "result = st.ttest_ind(df_smart['profit'], df_ultra['profit'])\n",
    "\n",
    "print(f' p-value = {result.pvalue}')\n",
    "if result.pvalue < alpha:\n",
    "    print('Отвергаем нулевую гипотезу')\n",
    "else:\n",
    "    print('Не удалось отвергнуть нулевую гипотезу')"
   ]
  },
  {
   "cell_type": "markdown",
   "id": "0021678f-dca2-4b88-856a-148a2116ee3f",
   "metadata": {},
   "source": [
    "### Вывод <a id=\"conclusion_4\"></a>"
   ]
  },
  {
   "cell_type": "code",
   "execution_count": 38,
   "id": "2ba872f2-a275-4f00-beb2-ce82493d8beb",
   "metadata": {},
   "outputs": [
    {
     "name": "stdout",
     "output_type": "stream",
     "text": [
      "Полученное значение p-value говорит о том, что вероятность получить такое различие случайно = 0.00%\n",
      "Опровергаем нулевую теорию. Данная разница не случайна, прибыль с тарифов отличается.\n"
     ]
    }
   ],
   "source": [
    "print(f'''Полученное значение p-value говорит о том, что вероятность получить такое различие случайно = {result.pvalue:.2%}\n",
    "Опровергаем нулевую теорию. Данная разница не случайна, прибыль с тарифов отличается.''')"
   ]
  },
  {
   "cell_type": "markdown",
   "id": "5cce70d3",
   "metadata": {},
   "source": [
    "## Гипотеза о равенстве выручек пользователей из Москвы и других регионов <a id=\"hypothesis_2\"></a>"
   ]
  },
  {
   "cell_type": "markdown",
   "id": "8e376cd0-fe8d-4343-b9db-84e5f2ce0488",
   "metadata": {},
   "source": [
    "H0: cредняя выручка пользователей из Москвы и других регионов одинаковы;  \n",
    "H1: средняя выручка пользователей из Москвы и других регионов различаются; \n"
   ]
  },
  {
   "cell_type": "code",
   "execution_count": 39,
   "id": "f0a6c02b-d949-4dca-b1c3-d6362db8c250",
   "metadata": {},
   "outputs": [
    {
     "data": {
      "text/plain": [
       "array(['Набережные Челны', 'Ульяновск', 'Улан-Удэ', 'Казань', 'Омск',\n",
       "       'Чита', 'Краснодар', 'Санкт-Петербург', 'Красноярск',\n",
       "       'Архангельск', 'Ставрополь', 'Кострома', 'Волгоград', 'Тамбов',\n",
       "       'Москва', 'Киров', 'Ростов-на-Дону', 'Уфа', 'Вологда', 'Пенза',\n",
       "       'Магнитогорск', 'Иркутск', 'Орёл', 'Астрахань', 'Подольск',\n",
       "       'Ярославль', 'Новокузнецк', 'Нижний Тагил', 'Мурманск', 'Самара',\n",
       "       'Воронеж', 'Пермь', 'Саранск', 'Новосибирск', 'Владивосток',\n",
       "       'Нижний Новгород', 'Новороссийск', 'Брянск', 'Челябинск',\n",
       "       'Калининград', 'Барнаул', 'Якутск', 'Тольятти', 'Курган', 'Томск',\n",
       "       'Балашиха', 'Саратов', 'Петрозаводск', 'Тюмень', 'Курск', 'Тула',\n",
       "       'Сочи', 'Оренбург', 'Смоленск', 'Хабаровск', 'Рязань', 'Махачкала',\n",
       "       'Тверь', 'Ижевск', 'Чебоксары', 'Белгород', 'Череповец',\n",
       "       'Стерлитамак', 'Владимир', 'Волжский', 'Калуга', 'Екатеринбург',\n",
       "       'Севастополь', 'Нижневартовск', 'Грозный', 'Владикавказ', 'Химки',\n",
       "       'Сургут', 'Липецк', 'Кемерово', 'Иваново'], dtype=object)"
      ]
     },
     "execution_count": 39,
     "metadata": {},
     "output_type": "execute_result"
    }
   ],
   "source": [
    "data['city'].unique() # дубликатов нет"
   ]
  },
  {
   "cell_type": "code",
   "execution_count": 40,
   "id": "9dd43a32-2325-4522-b6dd-700a19b182c3",
   "metadata": {
    "tags": []
   },
   "outputs": [
    {
     "data": {
      "text/html": [
       "<div>\n",
       "<style scoped>\n",
       "    .dataframe tbody tr th:only-of-type {\n",
       "        vertical-align: middle;\n",
       "    }\n",
       "\n",
       "    .dataframe tbody tr th {\n",
       "        vertical-align: top;\n",
       "    }\n",
       "\n",
       "    .dataframe thead th {\n",
       "        text-align: right;\n",
       "    }\n",
       "</style>\n",
       "<table border=\"1\" class=\"dataframe\">\n",
       "  <thead>\n",
       "    <tr style=\"text-align: right;\">\n",
       "      <th></th>\n",
       "      <th>month</th>\n",
       "      <th>user_id</th>\n",
       "      <th>minutes_in_month</th>\n",
       "      <th>calls_in_month</th>\n",
       "      <th>message_in_month</th>\n",
       "      <th>mb_used</th>\n",
       "      <th>tariff</th>\n",
       "      <th>city</th>\n",
       "      <th>messages_included</th>\n",
       "      <th>profit</th>\n",
       "      <th>mb_per_month_included</th>\n",
       "      <th>minutes_included</th>\n",
       "      <th>rub_monthly_fee</th>\n",
       "      <th>rub_per_gb</th>\n",
       "      <th>rub_per_message</th>\n",
       "      <th>rub_per_minute</th>\n",
       "      <th>region</th>\n",
       "    </tr>\n",
       "  </thead>\n",
       "  <tbody>\n",
       "    <tr>\n",
       "      <th>0</th>\n",
       "      <td>1</td>\n",
       "      <td>1005</td>\n",
       "      <td>95.0</td>\n",
       "      <td>15</td>\n",
       "      <td>7</td>\n",
       "      <td>2727.97</td>\n",
       "      <td>smart</td>\n",
       "      <td>Набережные Челны</td>\n",
       "      <td>50</td>\n",
       "      <td>550.0</td>\n",
       "      <td>15360</td>\n",
       "      <td>500</td>\n",
       "      <td>550</td>\n",
       "      <td>200</td>\n",
       "      <td>3</td>\n",
       "      <td>3</td>\n",
       "      <td>Другой регион</td>\n",
       "    </tr>\n",
       "    <tr>\n",
       "      <th>1</th>\n",
       "      <td>1</td>\n",
       "      <td>1032</td>\n",
       "      <td>380.0</td>\n",
       "      <td>61</td>\n",
       "      <td>38</td>\n",
       "      <td>24127.69</td>\n",
       "      <td>smart</td>\n",
       "      <td>Ульяновск</td>\n",
       "      <td>50</td>\n",
       "      <td>2350.0</td>\n",
       "      <td>15360</td>\n",
       "      <td>500</td>\n",
       "      <td>550</td>\n",
       "      <td>200</td>\n",
       "      <td>3</td>\n",
       "      <td>3</td>\n",
       "      <td>Другой регион</td>\n",
       "    </tr>\n",
       "    <tr>\n",
       "      <th>2</th>\n",
       "      <td>1</td>\n",
       "      <td>1045</td>\n",
       "      <td>9.0</td>\n",
       "      <td>1</td>\n",
       "      <td>5</td>\n",
       "      <td>2346.71</td>\n",
       "      <td>smart</td>\n",
       "      <td>Улан-Удэ</td>\n",
       "      <td>50</td>\n",
       "      <td>550.0</td>\n",
       "      <td>15360</td>\n",
       "      <td>500</td>\n",
       "      <td>550</td>\n",
       "      <td>200</td>\n",
       "      <td>3</td>\n",
       "      <td>3</td>\n",
       "      <td>Другой регион</td>\n",
       "    </tr>\n",
       "    <tr>\n",
       "      <th>3</th>\n",
       "      <td>1</td>\n",
       "      <td>1055</td>\n",
       "      <td>551.0</td>\n",
       "      <td>64</td>\n",
       "      <td>30</td>\n",
       "      <td>17090.88</td>\n",
       "      <td>smart</td>\n",
       "      <td>Казань</td>\n",
       "      <td>50</td>\n",
       "      <td>1103.0</td>\n",
       "      <td>15360</td>\n",
       "      <td>500</td>\n",
       "      <td>550</td>\n",
       "      <td>200</td>\n",
       "      <td>3</td>\n",
       "      <td>3</td>\n",
       "      <td>Другой регион</td>\n",
       "    </tr>\n",
       "    <tr>\n",
       "      <th>4</th>\n",
       "      <td>1</td>\n",
       "      <td>1071</td>\n",
       "      <td>194.0</td>\n",
       "      <td>24</td>\n",
       "      <td>16</td>\n",
       "      <td>15604.34</td>\n",
       "      <td>smart</td>\n",
       "      <td>Омск</td>\n",
       "      <td>50</td>\n",
       "      <td>750.0</td>\n",
       "      <td>15360</td>\n",
       "      <td>500</td>\n",
       "      <td>550</td>\n",
       "      <td>200</td>\n",
       "      <td>3</td>\n",
       "      <td>3</td>\n",
       "      <td>Другой регион</td>\n",
       "    </tr>\n",
       "    <tr>\n",
       "      <th>...</th>\n",
       "      <td>...</td>\n",
       "      <td>...</td>\n",
       "      <td>...</td>\n",
       "      <td>...</td>\n",
       "      <td>...</td>\n",
       "      <td>...</td>\n",
       "      <td>...</td>\n",
       "      <td>...</td>\n",
       "      <td>...</td>\n",
       "      <td>...</td>\n",
       "      <td>...</td>\n",
       "      <td>...</td>\n",
       "      <td>...</td>\n",
       "      <td>...</td>\n",
       "      <td>...</td>\n",
       "      <td>...</td>\n",
       "      <td>...</td>\n",
       "    </tr>\n",
       "    <tr>\n",
       "      <th>3209</th>\n",
       "      <td>12</td>\n",
       "      <td>1231</td>\n",
       "      <td>0.0</td>\n",
       "      <td>0</td>\n",
       "      <td>191</td>\n",
       "      <td>32448.00</td>\n",
       "      <td>ultra</td>\n",
       "      <td>Чебоксары</td>\n",
       "      <td>1000</td>\n",
       "      <td>2250.0</td>\n",
       "      <td>30720</td>\n",
       "      <td>3000</td>\n",
       "      <td>1950</td>\n",
       "      <td>150</td>\n",
       "      <td>1</td>\n",
       "      <td>1</td>\n",
       "      <td>Другой регион</td>\n",
       "    </tr>\n",
       "    <tr>\n",
       "      <th>3210</th>\n",
       "      <td>12</td>\n",
       "      <td>1328</td>\n",
       "      <td>0.0</td>\n",
       "      <td>0</td>\n",
       "      <td>7</td>\n",
       "      <td>39419.73</td>\n",
       "      <td>ultra</td>\n",
       "      <td>Мурманск</td>\n",
       "      <td>1000</td>\n",
       "      <td>3300.0</td>\n",
       "      <td>30720</td>\n",
       "      <td>3000</td>\n",
       "      <td>1950</td>\n",
       "      <td>150</td>\n",
       "      <td>1</td>\n",
       "      <td>1</td>\n",
       "      <td>Другой регион</td>\n",
       "    </tr>\n",
       "    <tr>\n",
       "      <th>3211</th>\n",
       "      <td>12</td>\n",
       "      <td>1473</td>\n",
       "      <td>0.0</td>\n",
       "      <td>0</td>\n",
       "      <td>20</td>\n",
       "      <td>18418.26</td>\n",
       "      <td>ultra</td>\n",
       "      <td>Красноярск</td>\n",
       "      <td>1000</td>\n",
       "      <td>1950.0</td>\n",
       "      <td>30720</td>\n",
       "      <td>3000</td>\n",
       "      <td>1950</td>\n",
       "      <td>150</td>\n",
       "      <td>1</td>\n",
       "      <td>1</td>\n",
       "      <td>Другой регион</td>\n",
       "    </tr>\n",
       "    <tr>\n",
       "      <th>3212</th>\n",
       "      <td>12</td>\n",
       "      <td>1489</td>\n",
       "      <td>0.0</td>\n",
       "      <td>0</td>\n",
       "      <td>35</td>\n",
       "      <td>17322.51</td>\n",
       "      <td>smart</td>\n",
       "      <td>Санкт-Петербург</td>\n",
       "      <td>50</td>\n",
       "      <td>950.0</td>\n",
       "      <td>15360</td>\n",
       "      <td>500</td>\n",
       "      <td>550</td>\n",
       "      <td>200</td>\n",
       "      <td>3</td>\n",
       "      <td>3</td>\n",
       "      <td>Другой регион</td>\n",
       "    </tr>\n",
       "    <tr>\n",
       "      <th>3213</th>\n",
       "      <td>4</td>\n",
       "      <td>1476</td>\n",
       "      <td>0.0</td>\n",
       "      <td>0</td>\n",
       "      <td>0</td>\n",
       "      <td>530.78</td>\n",
       "      <td>ultra</td>\n",
       "      <td>Москва</td>\n",
       "      <td>1000</td>\n",
       "      <td>1950.0</td>\n",
       "      <td>30720</td>\n",
       "      <td>3000</td>\n",
       "      <td>1950</td>\n",
       "      <td>150</td>\n",
       "      <td>1</td>\n",
       "      <td>1</td>\n",
       "      <td>Москва</td>\n",
       "    </tr>\n",
       "  </tbody>\n",
       "</table>\n",
       "<p>3214 rows × 17 columns</p>\n",
       "</div>"
      ],
      "text/plain": [
       "      month  user_id  minutes_in_month  calls_in_month  message_in_month  \\\n",
       "0         1     1005              95.0              15                 7   \n",
       "1         1     1032             380.0              61                38   \n",
       "2         1     1045               9.0               1                 5   \n",
       "3         1     1055             551.0              64                30   \n",
       "4         1     1071             194.0              24                16   \n",
       "...     ...      ...               ...             ...               ...   \n",
       "3209     12     1231               0.0               0               191   \n",
       "3210     12     1328               0.0               0                 7   \n",
       "3211     12     1473               0.0               0                20   \n",
       "3212     12     1489               0.0               0                35   \n",
       "3213      4     1476               0.0               0                 0   \n",
       "\n",
       "       mb_used tariff              city  messages_included  profit  \\\n",
       "0      2727.97  smart  Набережные Челны                 50   550.0   \n",
       "1     24127.69  smart         Ульяновск                 50  2350.0   \n",
       "2      2346.71  smart          Улан-Удэ                 50   550.0   \n",
       "3     17090.88  smart            Казань                 50  1103.0   \n",
       "4     15604.34  smart              Омск                 50   750.0   \n",
       "...        ...    ...               ...                ...     ...   \n",
       "3209  32448.00  ultra         Чебоксары               1000  2250.0   \n",
       "3210  39419.73  ultra          Мурманск               1000  3300.0   \n",
       "3211  18418.26  ultra        Красноярск               1000  1950.0   \n",
       "3212  17322.51  smart   Санкт-Петербург                 50   950.0   \n",
       "3213    530.78  ultra            Москва               1000  1950.0   \n",
       "\n",
       "      mb_per_month_included  minutes_included  rub_monthly_fee  rub_per_gb  \\\n",
       "0                     15360               500              550         200   \n",
       "1                     15360               500              550         200   \n",
       "2                     15360               500              550         200   \n",
       "3                     15360               500              550         200   \n",
       "4                     15360               500              550         200   \n",
       "...                     ...               ...              ...         ...   \n",
       "3209                  30720              3000             1950         150   \n",
       "3210                  30720              3000             1950         150   \n",
       "3211                  30720              3000             1950         150   \n",
       "3212                  15360               500              550         200   \n",
       "3213                  30720              3000             1950         150   \n",
       "\n",
       "      rub_per_message  rub_per_minute         region  \n",
       "0                   3               3  Другой регион  \n",
       "1                   3               3  Другой регион  \n",
       "2                   3               3  Другой регион  \n",
       "3                   3               3  Другой регион  \n",
       "4                   3               3  Другой регион  \n",
       "...               ...             ...            ...  \n",
       "3209                1               1  Другой регион  \n",
       "3210                1               1  Другой регион  \n",
       "3211                1               1  Другой регион  \n",
       "3212                3               3  Другой регион  \n",
       "3213                1               1         Москва  \n",
       "\n",
       "[3214 rows x 17 columns]"
      ]
     },
     "execution_count": 40,
     "metadata": {},
     "output_type": "execute_result"
    }
   ],
   "source": [
    "data['region'] = data['city'].where(data['city'] == 'Москва', 'Другой регион')\n",
    "data"
   ]
  },
  {
   "cell_type": "code",
   "execution_count": 41,
   "id": "c0f907b7-27ac-44d7-b6ab-35c41e2c0569",
   "metadata": {},
   "outputs": [],
   "source": [
    "df_moscow = remove_outliers(data.query('region == \"Москва\"'), ['profit'])\n",
    "df_other = remove_outliers(data.query('region == \"Другой регион\"'), ['profit'])"
   ]
  },
  {
   "cell_type": "code",
   "execution_count": 42,
   "id": "c86b6df1-1078-4dbc-a03b-3f6bde0da524",
   "metadata": {},
   "outputs": [
    {
     "name": "stdout",
     "output_type": "stream",
     "text": [
      "p-value = 0.29404256281786206\n",
      "Не удалось отвергнуть нулевую гипотезу\n"
     ]
    }
   ],
   "source": [
    "alpha = 0.05\n",
    "result = st.ttest_ind(df_moscow['profit'], df_other['profit'])\n",
    "print(f'p-value = {result.pvalue}')\n",
    "if result.pvalue < alpha:\n",
    "    print('Отвергаем нулевую гипотезу')\n",
    "else:\n",
    "    print('Не удалось отвергнуть нулевую гипотезу')"
   ]
  },
  {
   "cell_type": "markdown",
   "id": "6be0d778",
   "metadata": {},
   "source": [
    "### Вывод <a id=\"conclusion_5\"></a>"
   ]
  },
  {
   "cell_type": "code",
   "execution_count": 43,
   "id": "a795d2b3-21e8-411c-9e68-4f7dca658531",
   "metadata": {
    "scrolled": true
   },
   "outputs": [
    {
     "name": "stdout",
     "output_type": "stream",
     "text": [
      "Шанс случайно получить такое различие значений выборки из генеральной совокупности = 29.40%, \n",
      "что слишком велико для случайности, по-этому отвергнуть теорию о равности прибыли у клиентов из Москвы и других нерионов нельзя\n"
     ]
    }
   ],
   "source": [
    "print(f'''Шанс случайно получить такое различие значений выборки из генеральной совокупности = {result.pvalue:.2%}, \n",
    "что слишком велико для случайности, по-этому отвергнуть теорию о равности прибыли у клиентов из Москвы и других нерионов нельзя''')"
   ]
  },
  {
   "cell_type": "markdown",
   "id": "775c4968-05bf-4118-b21a-b88f87555e85",
   "metadata": {},
   "source": [
    "# Выводы <a id=\"conclusions\"></a>"
   ]
  },
  {
   "cell_type": "markdown",
   "id": "b94ed3b1-26d2-4811-9d86-0ec17ccf10ef",
   "metadata": {},
   "source": [
    "Мы исследовали данные пользователей телеком компании \"Мегалайн\", посчитали и добивили выручку в месяц с каждого пользователя и выяснили, что около 70-75% пользователей тарифа \"смарт\" укладываются в лимит тарифа, однако оставшиеся приносят телекому бОльшую прибыль, в то время как пользователи ультра превышают лимит только в интернет-трафике.  \n",
    "Так же мы провели статистические тесты и выяснили, что выручка с пользователей тарифов \"смарт\" и \"ультра\" различается, а вот гипотезу, что выручка с москвичей и жителей других регионов одинаковы, мы не смогли опровергнуть, так как p_value слишком высок."
   ]
  },
  {
   "cell_type": "markdown",
   "id": "2ccf3905",
   "metadata": {},
   "source": [
    "Средняя прибыль в месяц с клиента \"смарта\" = 1289р, а с \"ультра\" = 2070р.\n",
    "Таким образом, зная что годовая прибыль со всех пользователей \"смарт\" из выборки: 2875351р, а прибыль с \"ультра\": 2039099р и разница составляет: 836252р, делаем вывод, что тариф Смарт приносит больше прибыли компании.\n"
   ]
  },
  {
   "cell_type": "code",
   "execution_count": 44,
   "id": "a639b2c3",
   "metadata": {},
   "outputs": [
    {
     "data": {
      "text/html": [
       "<div>\n",
       "<style scoped>\n",
       "    .dataframe tbody tr th:only-of-type {\n",
       "        vertical-align: middle;\n",
       "    }\n",
       "\n",
       "    .dataframe tbody tr th {\n",
       "        vertical-align: top;\n",
       "    }\n",
       "\n",
       "    .dataframe thead th {\n",
       "        text-align: right;\n",
       "    }\n",
       "</style>\n",
       "<table border=\"1\" class=\"dataframe\">\n",
       "  <thead>\n",
       "    <tr style=\"text-align: right;\">\n",
       "      <th></th>\n",
       "      <th>month</th>\n",
       "      <th>user_id</th>\n",
       "      <th>minutes_in_month</th>\n",
       "      <th>calls_in_month</th>\n",
       "      <th>message_in_month</th>\n",
       "      <th>mb_used</th>\n",
       "      <th>tariff</th>\n",
       "      <th>city</th>\n",
       "      <th>messages_included</th>\n",
       "      <th>profit</th>\n",
       "      <th>mb_per_month_included</th>\n",
       "      <th>minutes_included</th>\n",
       "      <th>rub_monthly_fee</th>\n",
       "      <th>rub_per_gb</th>\n",
       "      <th>rub_per_message</th>\n",
       "      <th>rub_per_minute</th>\n",
       "      <th>region</th>\n",
       "    </tr>\n",
       "  </thead>\n",
       "  <tbody>\n",
       "    <tr>\n",
       "      <th>0</th>\n",
       "      <td>1</td>\n",
       "      <td>1005</td>\n",
       "      <td>95.0</td>\n",
       "      <td>15</td>\n",
       "      <td>7</td>\n",
       "      <td>2727.97</td>\n",
       "      <td>smart</td>\n",
       "      <td>Набережные Челны</td>\n",
       "      <td>50</td>\n",
       "      <td>550.0</td>\n",
       "      <td>15360</td>\n",
       "      <td>500</td>\n",
       "      <td>550</td>\n",
       "      <td>200</td>\n",
       "      <td>3</td>\n",
       "      <td>3</td>\n",
       "      <td>Другой регион</td>\n",
       "    </tr>\n",
       "    <tr>\n",
       "      <th>1</th>\n",
       "      <td>1</td>\n",
       "      <td>1032</td>\n",
       "      <td>380.0</td>\n",
       "      <td>61</td>\n",
       "      <td>38</td>\n",
       "      <td>24127.69</td>\n",
       "      <td>smart</td>\n",
       "      <td>Ульяновск</td>\n",
       "      <td>50</td>\n",
       "      <td>2350.0</td>\n",
       "      <td>15360</td>\n",
       "      <td>500</td>\n",
       "      <td>550</td>\n",
       "      <td>200</td>\n",
       "      <td>3</td>\n",
       "      <td>3</td>\n",
       "      <td>Другой регион</td>\n",
       "    </tr>\n",
       "    <tr>\n",
       "      <th>2</th>\n",
       "      <td>1</td>\n",
       "      <td>1045</td>\n",
       "      <td>9.0</td>\n",
       "      <td>1</td>\n",
       "      <td>5</td>\n",
       "      <td>2346.71</td>\n",
       "      <td>smart</td>\n",
       "      <td>Улан-Удэ</td>\n",
       "      <td>50</td>\n",
       "      <td>550.0</td>\n",
       "      <td>15360</td>\n",
       "      <td>500</td>\n",
       "      <td>550</td>\n",
       "      <td>200</td>\n",
       "      <td>3</td>\n",
       "      <td>3</td>\n",
       "      <td>Другой регион</td>\n",
       "    </tr>\n",
       "    <tr>\n",
       "      <th>3</th>\n",
       "      <td>1</td>\n",
       "      <td>1055</td>\n",
       "      <td>551.0</td>\n",
       "      <td>64</td>\n",
       "      <td>30</td>\n",
       "      <td>17090.88</td>\n",
       "      <td>smart</td>\n",
       "      <td>Казань</td>\n",
       "      <td>50</td>\n",
       "      <td>1103.0</td>\n",
       "      <td>15360</td>\n",
       "      <td>500</td>\n",
       "      <td>550</td>\n",
       "      <td>200</td>\n",
       "      <td>3</td>\n",
       "      <td>3</td>\n",
       "      <td>Другой регион</td>\n",
       "    </tr>\n",
       "    <tr>\n",
       "      <th>4</th>\n",
       "      <td>1</td>\n",
       "      <td>1071</td>\n",
       "      <td>194.0</td>\n",
       "      <td>24</td>\n",
       "      <td>16</td>\n",
       "      <td>15604.34</td>\n",
       "      <td>smart</td>\n",
       "      <td>Омск</td>\n",
       "      <td>50</td>\n",
       "      <td>750.0</td>\n",
       "      <td>15360</td>\n",
       "      <td>500</td>\n",
       "      <td>550</td>\n",
       "      <td>200</td>\n",
       "      <td>3</td>\n",
       "      <td>3</td>\n",
       "      <td>Другой регион</td>\n",
       "    </tr>\n",
       "    <tr>\n",
       "      <th>...</th>\n",
       "      <td>...</td>\n",
       "      <td>...</td>\n",
       "      <td>...</td>\n",
       "      <td>...</td>\n",
       "      <td>...</td>\n",
       "      <td>...</td>\n",
       "      <td>...</td>\n",
       "      <td>...</td>\n",
       "      <td>...</td>\n",
       "      <td>...</td>\n",
       "      <td>...</td>\n",
       "      <td>...</td>\n",
       "      <td>...</td>\n",
       "      <td>...</td>\n",
       "      <td>...</td>\n",
       "      <td>...</td>\n",
       "      <td>...</td>\n",
       "    </tr>\n",
       "    <tr>\n",
       "      <th>3209</th>\n",
       "      <td>12</td>\n",
       "      <td>1231</td>\n",
       "      <td>0.0</td>\n",
       "      <td>0</td>\n",
       "      <td>191</td>\n",
       "      <td>32448.00</td>\n",
       "      <td>ultra</td>\n",
       "      <td>Чебоксары</td>\n",
       "      <td>1000</td>\n",
       "      <td>2250.0</td>\n",
       "      <td>30720</td>\n",
       "      <td>3000</td>\n",
       "      <td>1950</td>\n",
       "      <td>150</td>\n",
       "      <td>1</td>\n",
       "      <td>1</td>\n",
       "      <td>Другой регион</td>\n",
       "    </tr>\n",
       "    <tr>\n",
       "      <th>3210</th>\n",
       "      <td>12</td>\n",
       "      <td>1328</td>\n",
       "      <td>0.0</td>\n",
       "      <td>0</td>\n",
       "      <td>7</td>\n",
       "      <td>39419.73</td>\n",
       "      <td>ultra</td>\n",
       "      <td>Мурманск</td>\n",
       "      <td>1000</td>\n",
       "      <td>3300.0</td>\n",
       "      <td>30720</td>\n",
       "      <td>3000</td>\n",
       "      <td>1950</td>\n",
       "      <td>150</td>\n",
       "      <td>1</td>\n",
       "      <td>1</td>\n",
       "      <td>Другой регион</td>\n",
       "    </tr>\n",
       "    <tr>\n",
       "      <th>3211</th>\n",
       "      <td>12</td>\n",
       "      <td>1473</td>\n",
       "      <td>0.0</td>\n",
       "      <td>0</td>\n",
       "      <td>20</td>\n",
       "      <td>18418.26</td>\n",
       "      <td>ultra</td>\n",
       "      <td>Красноярск</td>\n",
       "      <td>1000</td>\n",
       "      <td>1950.0</td>\n",
       "      <td>30720</td>\n",
       "      <td>3000</td>\n",
       "      <td>1950</td>\n",
       "      <td>150</td>\n",
       "      <td>1</td>\n",
       "      <td>1</td>\n",
       "      <td>Другой регион</td>\n",
       "    </tr>\n",
       "    <tr>\n",
       "      <th>3212</th>\n",
       "      <td>12</td>\n",
       "      <td>1489</td>\n",
       "      <td>0.0</td>\n",
       "      <td>0</td>\n",
       "      <td>35</td>\n",
       "      <td>17322.51</td>\n",
       "      <td>smart</td>\n",
       "      <td>Санкт-Петербург</td>\n",
       "      <td>50</td>\n",
       "      <td>950.0</td>\n",
       "      <td>15360</td>\n",
       "      <td>500</td>\n",
       "      <td>550</td>\n",
       "      <td>200</td>\n",
       "      <td>3</td>\n",
       "      <td>3</td>\n",
       "      <td>Другой регион</td>\n",
       "    </tr>\n",
       "    <tr>\n",
       "      <th>3213</th>\n",
       "      <td>4</td>\n",
       "      <td>1476</td>\n",
       "      <td>0.0</td>\n",
       "      <td>0</td>\n",
       "      <td>0</td>\n",
       "      <td>530.78</td>\n",
       "      <td>ultra</td>\n",
       "      <td>Москва</td>\n",
       "      <td>1000</td>\n",
       "      <td>1950.0</td>\n",
       "      <td>30720</td>\n",
       "      <td>3000</td>\n",
       "      <td>1950</td>\n",
       "      <td>150</td>\n",
       "      <td>1</td>\n",
       "      <td>1</td>\n",
       "      <td>Москва</td>\n",
       "    </tr>\n",
       "  </tbody>\n",
       "</table>\n",
       "<p>3214 rows × 17 columns</p>\n",
       "</div>"
      ],
      "text/plain": [
       "      month  user_id  minutes_in_month  calls_in_month  message_in_month  \\\n",
       "0         1     1005              95.0              15                 7   \n",
       "1         1     1032             380.0              61                38   \n",
       "2         1     1045               9.0               1                 5   \n",
       "3         1     1055             551.0              64                30   \n",
       "4         1     1071             194.0              24                16   \n",
       "...     ...      ...               ...             ...               ...   \n",
       "3209     12     1231               0.0               0               191   \n",
       "3210     12     1328               0.0               0                 7   \n",
       "3211     12     1473               0.0               0                20   \n",
       "3212     12     1489               0.0               0                35   \n",
       "3213      4     1476               0.0               0                 0   \n",
       "\n",
       "       mb_used tariff              city  messages_included  profit  \\\n",
       "0      2727.97  smart  Набережные Челны                 50   550.0   \n",
       "1     24127.69  smart         Ульяновск                 50  2350.0   \n",
       "2      2346.71  smart          Улан-Удэ                 50   550.0   \n",
       "3     17090.88  smart            Казань                 50  1103.0   \n",
       "4     15604.34  smart              Омск                 50   750.0   \n",
       "...        ...    ...               ...                ...     ...   \n",
       "3209  32448.00  ultra         Чебоксары               1000  2250.0   \n",
       "3210  39419.73  ultra          Мурманск               1000  3300.0   \n",
       "3211  18418.26  ultra        Красноярск               1000  1950.0   \n",
       "3212  17322.51  smart   Санкт-Петербург                 50   950.0   \n",
       "3213    530.78  ultra            Москва               1000  1950.0   \n",
       "\n",
       "      mb_per_month_included  minutes_included  rub_monthly_fee  rub_per_gb  \\\n",
       "0                     15360               500              550         200   \n",
       "1                     15360               500              550         200   \n",
       "2                     15360               500              550         200   \n",
       "3                     15360               500              550         200   \n",
       "4                     15360               500              550         200   \n",
       "...                     ...               ...              ...         ...   \n",
       "3209                  30720              3000             1950         150   \n",
       "3210                  30720              3000             1950         150   \n",
       "3211                  30720              3000             1950         150   \n",
       "3212                  15360               500              550         200   \n",
       "3213                  30720              3000             1950         150   \n",
       "\n",
       "      rub_per_message  rub_per_minute         region  \n",
       "0                   3               3  Другой регион  \n",
       "1                   3               3  Другой регион  \n",
       "2                   3               3  Другой регион  \n",
       "3                   3               3  Другой регион  \n",
       "4                   3               3  Другой регион  \n",
       "...               ...             ...            ...  \n",
       "3209                1               1  Другой регион  \n",
       "3210                1               1  Другой регион  \n",
       "3211                1               1  Другой регион  \n",
       "3212                3               3  Другой регион  \n",
       "3213                1               1         Москва  \n",
       "\n",
       "[3214 rows x 17 columns]"
      ]
     },
     "execution_count": 44,
     "metadata": {},
     "output_type": "execute_result"
    }
   ],
   "source": [
    "data"
   ]
  },
  {
   "cell_type": "code",
   "execution_count": null,
   "id": "f4f2cafb",
   "metadata": {},
   "outputs": [],
   "source": []
  }
 ],
 "metadata": {
  "ExecuteTimeLog": [
   {
    "duration": 1441,
    "start_time": "2022-03-20T20:55:47.164Z"
   },
   {
    "duration": 205,
    "start_time": "2022-03-20T20:55:48.608Z"
   },
   {
    "duration": 0,
    "start_time": "2022-03-20T20:55:48.817Z"
   },
   {
    "duration": 0,
    "start_time": "2022-03-20T20:55:48.818Z"
   },
   {
    "duration": 0,
    "start_time": "2022-03-20T20:55:48.819Z"
   },
   {
    "duration": 0,
    "start_time": "2022-03-20T20:55:48.821Z"
   },
   {
    "duration": 0,
    "start_time": "2022-03-20T20:55:48.822Z"
   },
   {
    "duration": 0,
    "start_time": "2022-03-20T20:55:48.823Z"
   },
   {
    "duration": 0,
    "start_time": "2022-03-20T20:55:48.824Z"
   },
   {
    "duration": 1,
    "start_time": "2022-03-20T20:55:48.825Z"
   },
   {
    "duration": 0,
    "start_time": "2022-03-20T20:55:48.827Z"
   },
   {
    "duration": 0,
    "start_time": "2022-03-20T20:55:48.828Z"
   },
   {
    "duration": 0,
    "start_time": "2022-03-20T20:55:48.830Z"
   },
   {
    "duration": 0,
    "start_time": "2022-03-20T20:55:48.832Z"
   },
   {
    "duration": 0,
    "start_time": "2022-03-20T20:55:48.834Z"
   },
   {
    "duration": 0,
    "start_time": "2022-03-20T20:55:48.835Z"
   },
   {
    "duration": 0,
    "start_time": "2022-03-20T20:55:48.836Z"
   },
   {
    "duration": 0,
    "start_time": "2022-03-20T20:55:48.837Z"
   },
   {
    "duration": 0,
    "start_time": "2022-03-20T20:55:48.864Z"
   },
   {
    "duration": 0,
    "start_time": "2022-03-20T20:55:48.865Z"
   },
   {
    "duration": 0,
    "start_time": "2022-03-20T20:55:48.866Z"
   },
   {
    "duration": 0,
    "start_time": "2022-03-20T20:55:48.868Z"
   },
   {
    "duration": 0,
    "start_time": "2022-03-20T20:55:48.869Z"
   },
   {
    "duration": 0,
    "start_time": "2022-03-20T20:55:48.870Z"
   },
   {
    "duration": 0,
    "start_time": "2022-03-20T20:55:48.871Z"
   },
   {
    "duration": 0,
    "start_time": "2022-03-20T20:55:48.872Z"
   },
   {
    "duration": 0,
    "start_time": "2022-03-20T20:55:48.873Z"
   },
   {
    "duration": 0,
    "start_time": "2022-03-20T20:55:48.874Z"
   },
   {
    "duration": 0,
    "start_time": "2022-03-20T20:55:48.876Z"
   },
   {
    "duration": 0,
    "start_time": "2022-03-20T20:55:48.878Z"
   },
   {
    "duration": 0,
    "start_time": "2022-03-20T20:55:48.880Z"
   },
   {
    "duration": 0,
    "start_time": "2022-03-20T20:55:48.881Z"
   },
   {
    "duration": 0,
    "start_time": "2022-03-20T20:55:48.882Z"
   },
   {
    "duration": 0,
    "start_time": "2022-03-20T20:55:48.883Z"
   },
   {
    "duration": 0,
    "start_time": "2022-03-20T20:55:48.884Z"
   },
   {
    "duration": 0,
    "start_time": "2022-03-20T20:55:48.885Z"
   },
   {
    "duration": 0,
    "start_time": "2022-03-20T20:55:48.887Z"
   },
   {
    "duration": 0,
    "start_time": "2022-03-20T20:55:48.888Z"
   },
   {
    "duration": 0,
    "start_time": "2022-03-20T20:55:48.889Z"
   },
   {
    "duration": 0,
    "start_time": "2022-03-20T20:55:48.890Z"
   },
   {
    "duration": 1141,
    "start_time": "2022-03-20T20:56:47.060Z"
   },
   {
    "duration": 393,
    "start_time": "2022-03-20T20:56:48.204Z"
   },
   {
    "duration": 78,
    "start_time": "2022-03-20T20:56:48.600Z"
   },
   {
    "duration": 237,
    "start_time": "2022-03-20T20:56:48.681Z"
   },
   {
    "duration": 133,
    "start_time": "2022-03-20T20:56:48.920Z"
   },
   {
    "duration": 18,
    "start_time": "2022-03-20T20:56:49.055Z"
   },
   {
    "duration": 8,
    "start_time": "2022-03-20T20:56:49.075Z"
   },
   {
    "duration": 12,
    "start_time": "2022-03-20T20:56:49.086Z"
   },
   {
    "duration": 34,
    "start_time": "2022-03-20T20:56:49.100Z"
   },
   {
    "duration": 53,
    "start_time": "2022-03-20T20:56:49.137Z"
   },
   {
    "duration": 27,
    "start_time": "2022-03-20T20:56:49.192Z"
   },
   {
    "duration": 54,
    "start_time": "2022-03-20T20:56:49.220Z"
   },
   {
    "duration": 5,
    "start_time": "2022-03-20T20:56:49.275Z"
   },
   {
    "duration": 8,
    "start_time": "2022-03-20T20:56:49.282Z"
   },
   {
    "duration": 6,
    "start_time": "2022-03-20T20:56:49.292Z"
   },
   {
    "duration": 21,
    "start_time": "2022-03-20T20:56:49.300Z"
   },
   {
    "duration": 40,
    "start_time": "2022-03-20T20:56:49.323Z"
   },
   {
    "duration": 102,
    "start_time": "2022-03-20T20:56:49.365Z"
   },
   {
    "duration": 9,
    "start_time": "2022-03-20T20:56:49.469Z"
   },
   {
    "duration": 293,
    "start_time": "2022-03-20T20:56:49.480Z"
   },
   {
    "duration": 389,
    "start_time": "2022-03-20T20:56:49.775Z"
   },
   {
    "duration": 430,
    "start_time": "2022-03-20T20:56:50.166Z"
   },
   {
    "duration": 306,
    "start_time": "2022-03-20T20:56:50.598Z"
   },
   {
    "duration": 43,
    "start_time": "2022-03-20T20:56:50.906Z"
   },
   {
    "duration": 14,
    "start_time": "2022-03-20T20:56:50.952Z"
   },
   {
    "duration": 262,
    "start_time": "2022-03-20T20:56:50.969Z"
   },
   {
    "duration": 200,
    "start_time": "2022-03-20T20:56:51.233Z"
   },
   {
    "duration": 226,
    "start_time": "2022-03-20T20:56:51.436Z"
   },
   {
    "duration": 256,
    "start_time": "2022-03-20T20:56:51.665Z"
   },
   {
    "duration": 5,
    "start_time": "2022-03-20T20:56:51.924Z"
   },
   {
    "duration": 677,
    "start_time": "2022-03-20T20:56:51.931Z"
   },
   {
    "duration": 598,
    "start_time": "2022-03-20T20:56:52.611Z"
   },
   {
    "duration": 13,
    "start_time": "2022-03-20T20:56:53.212Z"
   },
   {
    "duration": 8,
    "start_time": "2022-03-20T20:56:53.228Z"
   },
   {
    "duration": 4,
    "start_time": "2022-03-20T20:56:53.238Z"
   },
   {
    "duration": 7,
    "start_time": "2022-03-20T20:56:53.264Z"
   },
   {
    "duration": 24,
    "start_time": "2022-03-20T20:56:53.272Z"
   },
   {
    "duration": 13,
    "start_time": "2022-03-20T20:56:53.297Z"
   },
   {
    "duration": 5,
    "start_time": "2022-03-20T20:56:53.312Z"
   },
   {
    "duration": 9,
    "start_time": "2022-03-20T20:56:53.318Z"
   },
   {
    "duration": 141,
    "start_time": "2022-03-20T21:01:19.622Z"
   },
   {
    "duration": 18,
    "start_time": "2022-03-20T21:50:00.905Z"
   },
   {
    "duration": 17,
    "start_time": "2022-03-20T21:53:46.315Z"
   },
   {
    "duration": 13,
    "start_time": "2022-03-20T21:54:03.131Z"
   },
   {
    "duration": 147,
    "start_time": "2022-03-20T22:47:41.116Z"
   },
   {
    "duration": 206,
    "start_time": "2022-03-21T09:09:36.209Z"
   },
   {
    "duration": 1645,
    "start_time": "2022-03-21T09:17:27.963Z"
   },
   {
    "duration": 565,
    "start_time": "2022-03-21T09:17:29.611Z"
   },
   {
    "duration": 103,
    "start_time": "2022-03-21T09:17:30.178Z"
   },
   {
    "duration": 351,
    "start_time": "2022-03-21T09:17:30.284Z"
   },
   {
    "duration": 180,
    "start_time": "2022-03-21T09:17:30.642Z"
   },
   {
    "duration": 25,
    "start_time": "2022-03-21T09:17:30.824Z"
   },
   {
    "duration": 10,
    "start_time": "2022-03-21T09:17:30.851Z"
   },
   {
    "duration": 15,
    "start_time": "2022-03-21T09:17:30.863Z"
   },
   {
    "duration": 71,
    "start_time": "2022-03-21T09:17:30.881Z"
   },
   {
    "duration": 20,
    "start_time": "2022-03-21T09:17:30.956Z"
   },
   {
    "duration": 88,
    "start_time": "2022-03-21T09:18:24.218Z"
   },
   {
    "duration": 19,
    "start_time": "2022-03-21T09:18:24.945Z"
   },
   {
    "duration": 136,
    "start_time": "2022-03-21T09:24:17.451Z"
   },
   {
    "duration": 1522,
    "start_time": "2022-03-21T09:24:25.742Z"
   },
   {
    "duration": 573,
    "start_time": "2022-03-21T09:24:27.266Z"
   },
   {
    "duration": 107,
    "start_time": "2022-03-21T09:24:27.841Z"
   },
   {
    "duration": 353,
    "start_time": "2022-03-21T09:24:27.952Z"
   },
   {
    "duration": 185,
    "start_time": "2022-03-21T09:24:28.308Z"
   },
   {
    "duration": 16,
    "start_time": "2022-03-21T09:24:28.495Z"
   },
   {
    "duration": 31,
    "start_time": "2022-03-21T09:24:28.514Z"
   },
   {
    "duration": 14,
    "start_time": "2022-03-21T09:24:28.548Z"
   },
   {
    "duration": 43,
    "start_time": "2022-03-21T09:24:28.564Z"
   },
   {
    "duration": 103,
    "start_time": "2022-03-21T09:24:28.611Z"
   },
   {
    "duration": 54,
    "start_time": "2022-03-21T09:24:28.716Z"
   },
   {
    "duration": 31,
    "start_time": "2022-03-21T09:24:28.772Z"
   },
   {
    "duration": 60,
    "start_time": "2022-03-21T09:24:28.805Z"
   },
   {
    "duration": 7,
    "start_time": "2022-03-21T09:24:28.867Z"
   },
   {
    "duration": 8,
    "start_time": "2022-03-21T09:24:52.654Z"
   },
   {
    "duration": 142,
    "start_time": "2022-03-21T09:25:01.591Z"
   },
   {
    "duration": 10,
    "start_time": "2022-03-21T09:25:18.697Z"
   },
   {
    "duration": 7,
    "start_time": "2022-03-21T09:26:32.279Z"
   },
   {
    "duration": 12,
    "start_time": "2022-03-21T09:26:34.264Z"
   },
   {
    "duration": 7,
    "start_time": "2022-03-21T09:26:35.760Z"
   },
   {
    "duration": 23,
    "start_time": "2022-03-21T09:26:35.968Z"
   },
   {
    "duration": 29,
    "start_time": "2022-03-21T09:26:37.353Z"
   },
   {
    "duration": 161,
    "start_time": "2022-03-21T09:26:39.801Z"
   },
   {
    "duration": 13,
    "start_time": "2022-03-21T09:26:41.424Z"
   },
   {
    "duration": 455,
    "start_time": "2022-03-21T09:26:46.129Z"
   },
   {
    "duration": 88,
    "start_time": "2022-03-21T09:27:55.674Z"
   },
   {
    "duration": 462,
    "start_time": "2022-03-21T09:28:46.758Z"
   },
   {
    "duration": 383,
    "start_time": "2022-03-21T09:29:31.034Z"
   },
   {
    "duration": 498,
    "start_time": "2022-03-21T09:29:44.732Z"
   },
   {
    "duration": 535,
    "start_time": "2022-03-21T09:29:56.862Z"
   },
   {
    "duration": 632,
    "start_time": "2022-03-21T09:30:06.142Z"
   },
   {
    "duration": 500,
    "start_time": "2022-03-21T09:30:22.472Z"
   },
   {
    "duration": 573,
    "start_time": "2022-03-21T09:30:32.920Z"
   },
   {
    "duration": 493,
    "start_time": "2022-03-21T09:30:38.201Z"
   },
   {
    "duration": 488,
    "start_time": "2022-03-21T09:30:43.161Z"
   },
   {
    "duration": 558,
    "start_time": "2022-03-21T09:30:52.946Z"
   },
   {
    "duration": 486,
    "start_time": "2022-03-21T09:30:59.931Z"
   },
   {
    "duration": 671,
    "start_time": "2022-03-21T09:32:16.306Z"
   },
   {
    "duration": 438,
    "start_time": "2022-03-21T09:32:25.132Z"
   },
   {
    "duration": 211,
    "start_time": "2022-03-21T09:32:34.732Z"
   },
   {
    "duration": 24,
    "start_time": "2022-03-21T09:32:44.870Z"
   },
   {
    "duration": 435,
    "start_time": "2022-03-21T09:33:41.011Z"
   },
   {
    "duration": 491,
    "start_time": "2022-03-21T09:34:32.455Z"
   },
   {
    "duration": 739,
    "start_time": "2022-03-21T09:35:11.652Z"
   },
   {
    "duration": 669,
    "start_time": "2022-03-21T09:35:53.737Z"
   },
   {
    "duration": 358,
    "start_time": "2022-03-21T09:36:32.584Z"
   },
   {
    "duration": 801,
    "start_time": "2022-03-21T09:36:55.159Z"
   },
   {
    "duration": 201,
    "start_time": "2022-03-21T09:37:40.178Z"
   },
   {
    "duration": 469,
    "start_time": "2022-03-21T09:41:37.403Z"
   },
   {
    "duration": 478,
    "start_time": "2022-03-21T09:41:42.842Z"
   },
   {
    "duration": 719,
    "start_time": "2022-03-21T09:41:50.162Z"
   },
   {
    "duration": 459,
    "start_time": "2022-03-21T09:42:16.813Z"
   },
   {
    "duration": 483,
    "start_time": "2022-03-21T09:42:33.047Z"
   },
   {
    "duration": 447,
    "start_time": "2022-03-21T09:42:44.296Z"
   },
   {
    "duration": 469,
    "start_time": "2022-03-21T09:42:50.697Z"
   },
   {
    "duration": 427,
    "start_time": "2022-03-21T09:43:19.171Z"
   },
   {
    "duration": 334,
    "start_time": "2022-03-21T09:43:28.956Z"
   },
   {
    "duration": 436,
    "start_time": "2022-03-21T09:44:11.232Z"
   },
   {
    "duration": 1559,
    "start_time": "2022-03-21T09:50:46.005Z"
   },
   {
    "duration": 557,
    "start_time": "2022-03-21T09:50:47.566Z"
   },
   {
    "duration": 120,
    "start_time": "2022-03-21T09:50:48.126Z"
   },
   {
    "duration": 360,
    "start_time": "2022-03-21T09:50:48.251Z"
   },
   {
    "duration": 195,
    "start_time": "2022-03-21T09:50:48.614Z"
   },
   {
    "duration": 17,
    "start_time": "2022-03-21T09:50:48.812Z"
   },
   {
    "duration": 12,
    "start_time": "2022-03-21T09:50:48.854Z"
   },
   {
    "duration": 21,
    "start_time": "2022-03-21T09:50:48.868Z"
   },
   {
    "duration": 80,
    "start_time": "2022-03-21T09:50:48.892Z"
   },
   {
    "duration": 103,
    "start_time": "2022-03-21T09:50:48.975Z"
   },
   {
    "duration": 44,
    "start_time": "2022-03-21T09:50:49.080Z"
   },
   {
    "duration": 53,
    "start_time": "2022-03-21T09:50:49.126Z"
   },
   {
    "duration": 63,
    "start_time": "2022-03-21T09:50:49.183Z"
   },
   {
    "duration": 17,
    "start_time": "2022-03-21T09:50:49.250Z"
   },
   {
    "duration": 9,
    "start_time": "2022-03-21T09:50:49.270Z"
   },
   {
    "duration": 11,
    "start_time": "2022-03-21T09:50:49.282Z"
   },
   {
    "duration": 6,
    "start_time": "2022-03-21T09:50:49.296Z"
   },
   {
    "duration": 65,
    "start_time": "2022-03-21T09:50:49.304Z"
   },
   {
    "duration": 48,
    "start_time": "2022-03-21T09:50:49.372Z"
   },
   {
    "duration": 217,
    "start_time": "2022-03-21T09:50:49.423Z"
   },
   {
    "duration": 17,
    "start_time": "2022-03-21T09:50:49.647Z"
   },
   {
    "duration": 563,
    "start_time": "2022-03-21T09:50:49.666Z"
   },
   {
    "duration": 493,
    "start_time": "2022-03-21T09:50:50.232Z"
   },
   {
    "duration": 735,
    "start_time": "2022-03-21T09:50:50.728Z"
   },
   {
    "duration": 482,
    "start_time": "2022-03-21T09:50:51.465Z"
   },
   {
    "duration": 51,
    "start_time": "2022-03-21T09:50:51.951Z"
   },
   {
    "duration": 5,
    "start_time": "2022-03-21T09:50:52.005Z"
   },
   {
    "duration": 363,
    "start_time": "2022-03-21T09:50:52.013Z"
   },
   {
    "duration": 321,
    "start_time": "2022-03-21T09:50:52.379Z"
   },
   {
    "duration": 374,
    "start_time": "2022-03-21T09:50:52.702Z"
   },
   {
    "duration": 386,
    "start_time": "2022-03-21T09:50:53.079Z"
   },
   {
    "duration": 7,
    "start_time": "2022-03-21T09:50:53.468Z"
   },
   {
    "duration": 1032,
    "start_time": "2022-03-21T09:50:53.478Z"
   },
   {
    "duration": 733,
    "start_time": "2022-03-21T09:50:54.513Z"
   },
   {
    "duration": 15,
    "start_time": "2022-03-21T09:50:55.249Z"
   },
   {
    "duration": 9,
    "start_time": "2022-03-21T09:50:55.267Z"
   },
   {
    "duration": 8,
    "start_time": "2022-03-21T09:50:55.279Z"
   },
   {
    "duration": 10,
    "start_time": "2022-03-21T09:50:55.289Z"
   },
   {
    "duration": 83,
    "start_time": "2022-03-21T09:50:55.301Z"
   },
   {
    "duration": 20,
    "start_time": "2022-03-21T09:50:55.389Z"
   },
   {
    "duration": 6,
    "start_time": "2022-03-21T09:50:55.412Z"
   },
   {
    "duration": 37,
    "start_time": "2022-03-21T09:50:55.420Z"
   },
   {
    "duration": 12,
    "start_time": "2022-03-21T09:56:40.906Z"
   },
   {
    "duration": 150,
    "start_time": "2022-03-21T09:57:05.949Z"
   },
   {
    "duration": 245,
    "start_time": "2022-03-21T09:57:09.982Z"
   },
   {
    "duration": 217,
    "start_time": "2022-03-21T09:57:14.293Z"
   },
   {
    "duration": 242,
    "start_time": "2022-03-21T09:57:19.126Z"
   },
   {
    "duration": 215,
    "start_time": "2022-03-21T09:57:26.455Z"
   },
   {
    "duration": 27,
    "start_time": "2022-03-21T09:57:30.950Z"
   },
   {
    "duration": 27,
    "start_time": "2022-03-21T09:57:38.215Z"
   },
   {
    "duration": 217,
    "start_time": "2022-03-21T10:06:14.595Z"
   },
   {
    "duration": 25,
    "start_time": "2022-03-21T10:09:22.372Z"
   },
   {
    "duration": 5,
    "start_time": "2022-03-21T10:10:52.717Z"
   },
   {
    "duration": 159,
    "start_time": "2022-03-21T10:10:55.989Z"
   },
   {
    "duration": 1600,
    "start_time": "2022-03-21T10:13:09.945Z"
   },
   {
    "duration": 625,
    "start_time": "2022-03-21T10:13:11.549Z"
   },
   {
    "duration": 119,
    "start_time": "2022-03-21T10:13:12.177Z"
   },
   {
    "duration": 371,
    "start_time": "2022-03-21T10:13:12.300Z"
   },
   {
    "duration": 201,
    "start_time": "2022-03-21T10:13:12.673Z"
   },
   {
    "duration": 16,
    "start_time": "2022-03-21T10:13:12.876Z"
   },
   {
    "duration": 16,
    "start_time": "2022-03-21T10:13:12.894Z"
   },
   {
    "duration": 38,
    "start_time": "2022-03-21T10:13:12.914Z"
   },
   {
    "duration": 43,
    "start_time": "2022-03-21T10:13:12.954Z"
   },
   {
    "duration": 109,
    "start_time": "2022-03-21T10:13:12.999Z"
   },
   {
    "duration": 50,
    "start_time": "2022-03-21T10:13:13.111Z"
   },
   {
    "duration": 34,
    "start_time": "2022-03-21T10:13:13.164Z"
   },
   {
    "duration": 66,
    "start_time": "2022-03-21T10:13:13.203Z"
   },
   {
    "duration": 8,
    "start_time": "2022-03-21T10:13:13.271Z"
   },
   {
    "duration": 24,
    "start_time": "2022-03-21T10:13:13.281Z"
   },
   {
    "duration": 19,
    "start_time": "2022-03-21T10:13:13.308Z"
   },
   {
    "duration": 19,
    "start_time": "2022-03-21T10:13:13.329Z"
   },
   {
    "duration": 43,
    "start_time": "2022-03-21T10:13:13.350Z"
   },
   {
    "duration": 46,
    "start_time": "2022-03-21T10:13:13.396Z"
   },
   {
    "duration": 185,
    "start_time": "2022-03-21T10:13:13.444Z"
   },
   {
    "duration": 14,
    "start_time": "2022-03-21T10:13:13.632Z"
   },
   {
    "duration": 564,
    "start_time": "2022-03-21T10:13:13.648Z"
   },
   {
    "duration": 454,
    "start_time": "2022-03-21T10:13:14.214Z"
   },
   {
    "duration": 515,
    "start_time": "2022-03-21T10:13:14.670Z"
   },
   {
    "duration": 360,
    "start_time": "2022-03-21T10:13:15.187Z"
   },
   {
    "duration": 47,
    "start_time": "2022-03-21T10:13:15.549Z"
   },
   {
    "duration": 6,
    "start_time": "2022-03-21T10:13:15.598Z"
   },
   {
    "duration": 322,
    "start_time": "2022-03-21T10:13:15.607Z"
   },
   {
    "duration": 290,
    "start_time": "2022-03-21T10:13:15.932Z"
   },
   {
    "duration": 266,
    "start_time": "2022-03-21T10:13:16.224Z"
   },
   {
    "duration": 284,
    "start_time": "2022-03-21T10:13:16.492Z"
   },
   {
    "duration": 6,
    "start_time": "2022-03-21T10:13:16.779Z"
   },
   {
    "duration": 744,
    "start_time": "2022-03-21T10:13:16.787Z"
   },
   {
    "duration": 693,
    "start_time": "2022-03-21T10:13:17.533Z"
   },
   {
    "duration": 26,
    "start_time": "2022-03-21T10:13:18.229Z"
   },
   {
    "duration": 8,
    "start_time": "2022-03-21T10:13:18.257Z"
   },
   {
    "duration": 9,
    "start_time": "2022-03-21T10:13:18.267Z"
   },
   {
    "duration": 12,
    "start_time": "2022-03-21T10:13:18.278Z"
   },
   {
    "duration": 74,
    "start_time": "2022-03-21T10:13:18.293Z"
   },
   {
    "duration": 21,
    "start_time": "2022-03-21T10:13:18.372Z"
   },
   {
    "duration": 7,
    "start_time": "2022-03-21T10:13:18.395Z"
   },
   {
    "duration": 15,
    "start_time": "2022-03-21T10:13:18.404Z"
   },
   {
    "duration": 635,
    "start_time": "2022-03-21T10:15:48.193Z"
   },
   {
    "duration": 14,
    "start_time": "2022-03-21T10:15:54.889Z"
   },
   {
    "duration": 1438,
    "start_time": "2022-03-21T10:16:04.925Z"
   },
   {
    "duration": 573,
    "start_time": "2022-03-21T10:16:06.366Z"
   },
   {
    "duration": 107,
    "start_time": "2022-03-21T10:16:06.941Z"
   },
   {
    "duration": 286,
    "start_time": "2022-03-21T10:16:07.051Z"
   },
   {
    "duration": 177,
    "start_time": "2022-03-21T10:16:07.343Z"
   },
   {
    "duration": 24,
    "start_time": "2022-03-21T10:16:07.523Z"
   },
   {
    "duration": 20,
    "start_time": "2022-03-21T10:16:07.549Z"
   },
   {
    "duration": 21,
    "start_time": "2022-03-21T10:16:07.571Z"
   },
   {
    "duration": 55,
    "start_time": "2022-03-21T10:16:07.594Z"
   },
   {
    "duration": 90,
    "start_time": "2022-03-21T10:16:07.653Z"
   },
   {
    "duration": 46,
    "start_time": "2022-03-21T10:16:07.745Z"
   },
   {
    "duration": 56,
    "start_time": "2022-03-21T10:16:07.793Z"
   },
   {
    "duration": 45,
    "start_time": "2022-03-21T10:16:07.851Z"
   },
   {
    "duration": 10,
    "start_time": "2022-03-21T10:16:07.899Z"
   },
   {
    "duration": 35,
    "start_time": "2022-03-21T10:16:07.911Z"
   },
   {
    "duration": 9,
    "start_time": "2022-03-21T10:16:07.949Z"
   },
   {
    "duration": 5,
    "start_time": "2022-03-21T10:16:07.960Z"
   },
   {
    "duration": 24,
    "start_time": "2022-03-21T10:16:07.967Z"
   },
   {
    "duration": 172,
    "start_time": "2022-03-21T10:16:07.994Z"
   },
   {
    "duration": 0,
    "start_time": "2022-03-21T10:16:08.169Z"
   },
   {
    "duration": 0,
    "start_time": "2022-03-21T10:16:08.171Z"
   },
   {
    "duration": 0,
    "start_time": "2022-03-21T10:16:08.173Z"
   },
   {
    "duration": 0,
    "start_time": "2022-03-21T10:16:08.175Z"
   },
   {
    "duration": 0,
    "start_time": "2022-03-21T10:16:08.176Z"
   },
   {
    "duration": 0,
    "start_time": "2022-03-21T10:16:08.177Z"
   },
   {
    "duration": 0,
    "start_time": "2022-03-21T10:16:08.178Z"
   },
   {
    "duration": 0,
    "start_time": "2022-03-21T10:16:08.179Z"
   },
   {
    "duration": 0,
    "start_time": "2022-03-21T10:16:08.181Z"
   },
   {
    "duration": 0,
    "start_time": "2022-03-21T10:16:08.183Z"
   },
   {
    "duration": 0,
    "start_time": "2022-03-21T10:16:08.185Z"
   },
   {
    "duration": 0,
    "start_time": "2022-03-21T10:16:08.186Z"
   },
   {
    "duration": 0,
    "start_time": "2022-03-21T10:16:08.188Z"
   },
   {
    "duration": 0,
    "start_time": "2022-03-21T10:16:08.190Z"
   },
   {
    "duration": 0,
    "start_time": "2022-03-21T10:16:08.191Z"
   },
   {
    "duration": 0,
    "start_time": "2022-03-21T10:16:08.193Z"
   },
   {
    "duration": 0,
    "start_time": "2022-03-21T10:16:08.194Z"
   },
   {
    "duration": 0,
    "start_time": "2022-03-21T10:16:08.196Z"
   },
   {
    "duration": 0,
    "start_time": "2022-03-21T10:16:08.243Z"
   },
   {
    "duration": 0,
    "start_time": "2022-03-21T10:16:08.245Z"
   },
   {
    "duration": 0,
    "start_time": "2022-03-21T10:16:08.246Z"
   },
   {
    "duration": 0,
    "start_time": "2022-03-21T10:16:08.248Z"
   },
   {
    "duration": 0,
    "start_time": "2022-03-21T10:16:08.249Z"
   },
   {
    "duration": 31,
    "start_time": "2022-03-21T10:16:20.041Z"
   },
   {
    "duration": 236,
    "start_time": "2022-03-21T10:20:28.416Z"
   },
   {
    "duration": 1398,
    "start_time": "2022-03-21T10:22:55.657Z"
   },
   {
    "duration": 591,
    "start_time": "2022-03-21T10:22:57.058Z"
   },
   {
    "duration": 104,
    "start_time": "2022-03-21T10:22:57.651Z"
   },
   {
    "duration": 290,
    "start_time": "2022-03-21T10:22:57.757Z"
   },
   {
    "duration": 185,
    "start_time": "2022-03-21T10:22:58.050Z"
   },
   {
    "duration": 19,
    "start_time": "2022-03-21T10:22:58.238Z"
   },
   {
    "duration": 16,
    "start_time": "2022-03-21T10:22:58.260Z"
   },
   {
    "duration": 21,
    "start_time": "2022-03-21T10:22:58.279Z"
   },
   {
    "duration": 65,
    "start_time": "2022-03-21T10:22:58.302Z"
   },
   {
    "duration": 88,
    "start_time": "2022-03-21T10:22:58.370Z"
   },
   {
    "duration": 46,
    "start_time": "2022-03-21T10:22:58.461Z"
   },
   {
    "duration": 53,
    "start_time": "2022-03-21T10:22:58.509Z"
   },
   {
    "duration": 43,
    "start_time": "2022-03-21T10:22:58.564Z"
   },
   {
    "duration": 7,
    "start_time": "2022-03-21T10:22:58.612Z"
   },
   {
    "duration": 5,
    "start_time": "2022-03-21T10:22:58.644Z"
   },
   {
    "duration": 10,
    "start_time": "2022-03-21T10:22:58.651Z"
   },
   {
    "duration": 8,
    "start_time": "2022-03-21T10:22:58.663Z"
   },
   {
    "duration": 23,
    "start_time": "2022-03-21T10:22:58.673Z"
   },
   {
    "duration": 71,
    "start_time": "2022-03-21T10:22:58.698Z"
   },
   {
    "duration": 181,
    "start_time": "2022-03-21T10:22:58.773Z"
   },
   {
    "duration": 14,
    "start_time": "2022-03-21T10:22:58.956Z"
   },
   {
    "duration": 524,
    "start_time": "2022-03-21T10:22:58.972Z"
   },
   {
    "duration": 420,
    "start_time": "2022-03-21T10:22:59.498Z"
   },
   {
    "duration": 504,
    "start_time": "2022-03-21T10:22:59.921Z"
   },
   {
    "duration": 356,
    "start_time": "2022-03-21T10:23:00.427Z"
   },
   {
    "duration": 58,
    "start_time": "2022-03-21T10:23:00.785Z"
   },
   {
    "duration": 5,
    "start_time": "2022-03-21T10:23:00.846Z"
   },
   {
    "duration": 297,
    "start_time": "2022-03-21T10:23:00.853Z"
   },
   {
    "duration": 294,
    "start_time": "2022-03-21T10:23:01.152Z"
   },
   {
    "duration": 274,
    "start_time": "2022-03-21T10:23:01.448Z"
   },
   {
    "duration": 294,
    "start_time": "2022-03-21T10:23:01.725Z"
   },
   {
    "duration": 6,
    "start_time": "2022-03-21T10:23:02.022Z"
   },
   {
    "duration": 777,
    "start_time": "2022-03-21T10:23:02.044Z"
   },
   {
    "duration": 664,
    "start_time": "2022-03-21T10:23:02.825Z"
   },
   {
    "duration": 13,
    "start_time": "2022-03-21T10:23:03.491Z"
   },
   {
    "duration": 7,
    "start_time": "2022-03-21T10:23:03.506Z"
   },
   {
    "duration": 28,
    "start_time": "2022-03-21T10:23:03.515Z"
   },
   {
    "duration": 10,
    "start_time": "2022-03-21T10:23:03.545Z"
   },
   {
    "duration": 36,
    "start_time": "2022-03-21T10:23:03.558Z"
   },
   {
    "duration": 52,
    "start_time": "2022-03-21T10:23:03.596Z"
   },
   {
    "duration": 6,
    "start_time": "2022-03-21T10:23:03.654Z"
   },
   {
    "duration": 7,
    "start_time": "2022-03-21T10:23:03.662Z"
   }
  ],
  "kernelspec": {
   "display_name": "Python 3 (ipykernel)",
   "language": "python",
   "name": "python3"
  },
  "language_info": {
   "codemirror_mode": {
    "name": "ipython",
    "version": 3
   },
   "file_extension": ".py",
   "mimetype": "text/x-python",
   "name": "python",
   "nbconvert_exporter": "python",
   "pygments_lexer": "ipython3",
   "version": "3.9.7"
  },
  "toc": {
   "base_numbering": 1,
   "nav_menu": {
    "height": "422.997px",
    "width": "542.997px"
   },
   "number_sections": true,
   "sideBar": true,
   "skip_h1_title": false,
   "title_cell": "Table of Contents",
   "title_sidebar": "Contents",
   "toc_cell": false,
   "toc_position": {},
   "toc_section_display": true,
   "toc_window_display": false
  },
  "toc-autonumbering": true,
  "toc-showcode": false,
  "toc-showmarkdowntxt": false,
  "toc-showtags": false
 },
 "nbformat": 4,
 "nbformat_minor": 5
}
