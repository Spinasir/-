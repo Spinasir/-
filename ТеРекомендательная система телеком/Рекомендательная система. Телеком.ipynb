ввыв {
 "cells": [
  {
   "cell_type": "markdown",
   "id": "1642dd8b",
   "metadata": {
    "toc": true
   },
   "source": [
    "<h1>Содержание<span class=\"tocSkip\"></span></h1>\n",
    "<div class=\"toc\"><ul class=\"toc-item\"><li><span><a href=\"#Исследование-тарифов-оператора-сотовой-связи\" data-toc-modified-id=\"Исследование-тарифов-оператора-сотовой-связи-1\"><span class=\"toc-item-num\">1&nbsp;&nbsp;</span>Исследование тарифов оператора сотовой связи</a></span><ul class=\"toc-item\"><li><span><a href=\"#Изучение-данных\" data-toc-modified-id=\"Изучение-данных-1.1\"><span class=\"toc-item-num\">1.1&nbsp;&nbsp;</span>Изучение данных</a></span><ul class=\"toc-item\"><li><span><a href=\"#Вывод\" data-toc-modified-id=\"Вывод-1.1.1\"><span class=\"toc-item-num\">1.1.1&nbsp;&nbsp;</span>Вывод</a></span></li></ul></li><li><span><a href=\"#Предподготовка-данных\" data-toc-modified-id=\"Предподготовка-данных-1.2\"><span class=\"toc-item-num\">1.2&nbsp;&nbsp;</span>Предподготовка данных</a></span></li><li><span><a href=\"#Исследование-поведения-пользователей-с-разними-тарифами\" data-toc-modified-id=\"Исследование-поведения-пользователей-с-разними-тарифами-1.3\"><span class=\"toc-item-num\">1.3&nbsp;&nbsp;</span>Исследование поведения пользователей с разними тарифами</a></span><ul class=\"toc-item\"><li><span><a href=\"#Распределение-пользователей-по-минутам-в-месяц\" data-toc-modified-id=\"Распределение-пользователей-по-минутам-в-месяц-1.3.1\"><span class=\"toc-item-num\">1.3.1&nbsp;&nbsp;</span>Распределение пользователей по минутам в месяц</a></span></li><li><span><a href=\"#Распределение-пользователей-по-СМС-в-месяц\" data-toc-modified-id=\"Распределение-пользователей-по-СМС-в-месяц-1.3.2\"><span class=\"toc-item-num\">1.3.2&nbsp;&nbsp;</span>Распределение пользователей по СМС в месяц</a></span></li><li><span><a href=\"#Распределение-пользователей-по-Мб-в-месяц\" data-toc-modified-id=\"Распределение-пользователей-по-Мб-в-месяц-1.3.3\"><span class=\"toc-item-num\">1.3.3&nbsp;&nbsp;</span>Распределение пользователей по Мб в месяц</a></span></li><li><span><a href=\"#Распределение-пользователей-по-прибыли-в-месяц\" data-toc-modified-id=\"Распределение-пользователей-по-прибыли-в-месяц-1.3.4\"><span class=\"toc-item-num\">1.3.4&nbsp;&nbsp;</span>Распределение пользователей по прибыли в месяц</a></span></li><li><span><a href=\"#Вывод\" data-toc-modified-id=\"Вывод-1.3.5\"><span class=\"toc-item-num\">1.3.5&nbsp;&nbsp;</span>Вывод</a></span></li></ul></li><li><span><a href=\"#Исследование-потребности-пользователей-втечение-месяца\" data-toc-modified-id=\"Исследование-потребности-пользователей-втечение-месяца-1.4\"><span class=\"toc-item-num\">1.4&nbsp;&nbsp;</span>Исследование потребности пользователей втечение месяца</a></span><ul class=\"toc-item\"><li><span><a href=\"#Вывод\" data-toc-modified-id=\"Вывод-1.4.1\"><span class=\"toc-item-num\">1.4.1&nbsp;&nbsp;</span>Вывод</a></span></li></ul></li><li><span><a href=\"#Гипотезы\" data-toc-modified-id=\"Гипотезы-1.5\"><span class=\"toc-item-num\">1.5&nbsp;&nbsp;</span>Гипотезы</a></span><ul class=\"toc-item\"><li><span><a href=\"#Гипотеза-о-равенстве-выручек-&quot;смарт&quot;-и-&quot;ультра&quot;\" data-toc-modified-id=\"Гипотеза-о-равенстве-выручек-&quot;смарт&quot;-и-&quot;ультра&quot;-1.5.1\"><span class=\"toc-item-num\">1.5.1&nbsp;&nbsp;</span>Гипотеза о равенстве выручек \"смарт\" и \"ультра\"</a></span><ul class=\"toc-item\"><li><span><a href=\"#Вывод\" data-toc-modified-id=\"Вывод-1.5.1.1\"><span class=\"toc-item-num\">1.5.1.1&nbsp;&nbsp;</span>Вывод</a></span></li></ul></li><li><span><a href=\"#Гипотеза-о-равенстве-выручек-пользователей-из-Москвы-и-других-регионов\" data-toc-modified-id=\"Гипотеза-о-равенстве-выручек-пользователей-из-Москвы-и-других-регионов-1.5.2\"><span class=\"toc-item-num\">1.5.2&nbsp;&nbsp;</span>Гипотеза о равенстве выручек пользователей из Москвы и других регионов</a></span><ul class=\"toc-item\"><li><span><a href=\"#Вывод\" data-toc-modified-id=\"Вывод-1.5.2.1\"><span class=\"toc-item-num\">1.5.2.1&nbsp;&nbsp;</span>Вывод</a></span></li></ul></li></ul></li><li><span><a href=\"#Выводы-по-исследовательскому-анализу\" data-toc-modified-id=\"Выводы-по-исследовательскому-анализу-1.6\"><span class=\"toc-item-num\">1.6&nbsp;&nbsp;</span>Выводы по исследовательскому анализу</a></span></li></ul></li><li><span><a href=\"#Рекомендательная-система-тарифных-планов\" data-toc-modified-id=\"Рекомендательная-система-тарифных-планов-2\"><span class=\"toc-item-num\">2&nbsp;&nbsp;</span>Рекомендательная система тарифных планов</a></span><ul class=\"toc-item\"><li><span><a href=\"#Подготовка-данных\" data-toc-modified-id=\"Подготовка-данных-2.1\"><span class=\"toc-item-num\">2.1&nbsp;&nbsp;</span>Подготовка данных</a></span><ul class=\"toc-item\"><li><span><a href=\"#Вывод\" data-toc-modified-id=\"Вывод-2.1.1\"><span class=\"toc-item-num\">2.1.1&nbsp;&nbsp;</span>Вывод</a></span></li></ul></li><li><span><a href=\"#Создание-модели-для-подбора-тарифов\" data-toc-modified-id=\"Создание-модели-для-подбора-тарифов-2.2\"><span class=\"toc-item-num\">2.2&nbsp;&nbsp;</span>Создание модели для подбора тарифов</a></span><ul class=\"toc-item\"><li><span><a href=\"#Разделение-данных-на-выборки\" data-toc-modified-id=\"Разделение-данных-на-выборки-2.2.1\"><span class=\"toc-item-num\">2.2.1&nbsp;&nbsp;</span>Разделение данных на выборки</a></span></li><li><span><a href=\"#Обучение-модели\" data-toc-modified-id=\"Обучение-модели-2.2.2\"><span class=\"toc-item-num\">2.2.2&nbsp;&nbsp;</span>Обучение модели</a></span><ul class=\"toc-item\"><li><span><a href=\"#Логистическая-регрессия\" data-toc-modified-id=\"Логистическая-регрессия-2.2.2.1\"><span class=\"toc-item-num\">2.2.2.1&nbsp;&nbsp;</span>Логистическая регрессия</a></span></li><li><span><a href=\"#Случайный-лес\" data-toc-modified-id=\"Случайный-лес-2.2.2.2\"><span class=\"toc-item-num\">2.2.2.2&nbsp;&nbsp;</span>Случайный лес</a></span></li><li><span><a href=\"#CatBoost\" data-toc-modified-id=\"CatBoost-2.2.2.3\"><span class=\"toc-item-num\">2.2.2.3&nbsp;&nbsp;</span>CatBoost</a></span></li></ul></li><li><span><a href=\"#Экзамен\" data-toc-modified-id=\"Экзамен-2.2.3\"><span class=\"toc-item-num\">2.2.3&nbsp;&nbsp;</span>Экзамен</a></span></li></ul></li><li><span><a href=\"#Вывод\" data-toc-modified-id=\"Вывод-2.3\"><span class=\"toc-item-num\">2.3&nbsp;&nbsp;</span>Вывод</a></span></li></ul></li></ul></div>"
   ]
  },
  {
   "cell_type": "markdown",
   "id": "52d4ccce",
   "metadata": {},
   "source": [
    "# Исследование тарифов оператора сотовой связи"
   ]
  },
  {
   "cell_type": "markdown",
   "id": "baf2d371",
   "metadata": {},
   "source": [
    "Вы аналитик компании «Мегалайн» — федерального оператора сотовой связи. Клиентам предлагают два тарифных плана: «Смарт» и «Ультра». Чтобы скорректировать рекламный бюджет, коммерческий департамент хочет понять, какой тариф приносит больше денег."
   ]
  },
  {
   "cell_type": "markdown",
   "id": "229a6dc0",
   "metadata": {},
   "source": [
    "Таблица users (информация о пользователях):  \n",
    "**user_id** — уникальный идентификатор пользователя  \n",
    "**first_name** — имя пользователя  \n",
    "**last_name** — фамилия пользователя  \n",
    "**age** — возраст пользователя (годы)  \n",
    "**reg_date** — дата подключения тарифа (день, месяц, год)  \n",
    "**churn_date** — дата прекращения пользования тарифом (если значение пропущено, то тариф ещё действовал на момент выгрузки данных)  \n",
    "**city** — город проживания пользователя  \n",
    "**tarif** — название тарифного плана  \n",
    "Таблица calls (информация о звонках):  \n",
    "**id** — уникальный номер звонка  \n",
    "**call_date** — дата звонка  \n",
    "**duration** — длительность звонка в минутах  \n",
    "**user_id** — идентификатор пользователя, сделавшего звонок  \n",
    "Таблица messages (информация о сообщениях):  \n",
    "**id** — уникальный номер сообщения  \n",
    "**message_date** — дата сообщения  \n",
    "**user_id** — идентификатор пользователя, отправившего сообщение  \n",
    "Таблица internet (информация об интернет-сессиях):  \n",
    "**id** — уникальный номер сессии  \n",
    "**mb_used** — объём потраченного за сессию интернет-трафика (в мегабайтах)  \n",
    "**session_date** — дата интернет-сессии  \n",
    "**user_id** — идентификатор пользователя  \n",
    "Таблица tariffs (информация о тарифах):  \n",
    "**tariff_name** — название тарифа  \n",
    "**rub_monthly_fee** — ежемесячная абонентская плата в рублях  \n",
    "**minutes_included** — количество минут разговора в месяц, включённых в абонентскую плату  \n",
    "**messages_included** — количество сообщений в месяц, включённых в абонентскую плату  \n",
    "**mb_per_month_included** — объём интернет-трафика, включённого в абонентскую плату (в мегабайтах)  \n",
    "**rub_per_minute** — стоимость минуты разговора сверх тарифного пакета (например, если в тарифе 100 минут разговора в месяц, то со 101 минуты будет взиматься плата)  \n",
    "**rub_per_message** — стоимость отправки сообщения сверх тарифного пакета  \n",
    "**rub_per_gb** — стоимость дополнительного гигабайта интернет-трафика сверх тарифного пакета (1 гигабайт = 1024 мегабайта)  "
   ]
  },
  {
   "cell_type": "code",
   "execution_count": 1,
   "id": "89ed20ff",
   "metadata": {},
   "outputs": [],
   "source": [
    "import pandas as pd\n",
    "import math\n",
    "import matplotlib.pyplot as plt\n",
    "import seaborn as sns\n",
    "\n",
    "from scipy import stats as st\n",
    "\n",
    "from sklearn.model_selection import train_test_split\n",
    "\n",
    "from sklearn.ensemble import RandomForestClassifier\n",
    "from sklearn.linear_model import LogisticRegression\n",
    "from sklearn.dummy import DummyClassifier\n",
    "from catboost import CatBoostClassifier\n",
    "\n",
    "from sklearn.metrics import classification_report\n",
    "from sklearn.model_selection import RandomizedSearchCV"
   ]
  },
  {
   "cell_type": "markdown",
   "id": "2b88658b",
   "metadata": {},
   "source": [
    "## Изучение данных"
   ]
  },
  {
   "cell_type": "code",
   "execution_count": 2,
   "id": "fa165e60",
   "metadata": {},
   "outputs": [],
   "source": [
    "try:\n",
    "    calls = pd.read_csv('/datasets/calls.csv')\n",
    "    internet = pd.read_csv('/datasets/internet.csv', index_col=0)\n",
    "    messages = pd.read_csv('/datasets/messages.csv')\n",
    "    tariffs = pd.read_csv('/datasets/tariffs.csv')\n",
    "    users = pd.read_csv('/datasets/users.csv')\n",
    "except:\n",
    "    calls = pd.read_csv('calls.csv')\n",
    "    internet = pd.read_csv('internet.csv', index_col=0) \n",
    "    messages = pd.read_csv('messages.csv')\n",
    "    tariffs = pd.read_csv('tariffs.csv')\n",
    "    users = pd.read_csv('users.csv')"
   ]
  },
  {
   "cell_type": "code",
   "execution_count": 3,
   "id": "011f549f",
   "metadata": {},
   "outputs": [
    {
     "name": "stdout",
     "output_type": "stream",
     "text": [
      "<class 'pandas.core.frame.DataFrame'>\n",
      "RangeIndex: 202607 entries, 0 to 202606\n",
      "Data columns (total 4 columns):\n",
      " #   Column     Non-Null Count   Dtype  \n",
      "---  ------     --------------   -----  \n",
      " 0   id         202607 non-null  object \n",
      " 1   call_date  202607 non-null  object \n",
      " 2   duration   202607 non-null  float64\n",
      " 3   user_id    202607 non-null  int64  \n",
      "dtypes: float64(1), int64(1), object(2)\n",
      "memory usage: 6.2+ MB\n",
      "<class 'pandas.core.frame.DataFrame'>\n",
      "Int64Index: 149396 entries, 0 to 149395\n",
      "Data columns (total 4 columns):\n",
      " #   Column        Non-Null Count   Dtype  \n",
      "---  ------        --------------   -----  \n",
      " 0   id            149396 non-null  object \n",
      " 1   mb_used       149396 non-null  float64\n",
      " 2   session_date  149396 non-null  object \n",
      " 3   user_id       149396 non-null  int64  \n",
      "dtypes: float64(1), int64(1), object(2)\n",
      "memory usage: 5.7+ MB\n",
      "<class 'pandas.core.frame.DataFrame'>\n",
      "RangeIndex: 123036 entries, 0 to 123035\n",
      "Data columns (total 3 columns):\n",
      " #   Column        Non-Null Count   Dtype \n",
      "---  ------        --------------   ----- \n",
      " 0   id            123036 non-null  object\n",
      " 1   message_date  123036 non-null  object\n",
      " 2   user_id       123036 non-null  int64 \n",
      "dtypes: int64(1), object(2)\n",
      "memory usage: 2.8+ MB\n",
      "<class 'pandas.core.frame.DataFrame'>\n",
      "RangeIndex: 2 entries, 0 to 1\n",
      "Data columns (total 8 columns):\n",
      " #   Column                 Non-Null Count  Dtype \n",
      "---  ------                 --------------  ----- \n",
      " 0   messages_included      2 non-null      int64 \n",
      " 1   mb_per_month_included  2 non-null      int64 \n",
      " 2   minutes_included       2 non-null      int64 \n",
      " 3   rub_monthly_fee        2 non-null      int64 \n",
      " 4   rub_per_gb             2 non-null      int64 \n",
      " 5   rub_per_message        2 non-null      int64 \n",
      " 6   rub_per_minute         2 non-null      int64 \n",
      " 7   tariff_name            2 non-null      object\n",
      "dtypes: int64(7), object(1)\n",
      "memory usage: 256.0+ bytes\n",
      "<class 'pandas.core.frame.DataFrame'>\n",
      "RangeIndex: 500 entries, 0 to 499\n",
      "Data columns (total 8 columns):\n",
      " #   Column      Non-Null Count  Dtype \n",
      "---  ------      --------------  ----- \n",
      " 0   user_id     500 non-null    int64 \n",
      " 1   age         500 non-null    int64 \n",
      " 2   churn_date  38 non-null     object\n",
      " 3   city        500 non-null    object\n",
      " 4   first_name  500 non-null    object\n",
      " 5   last_name   500 non-null    object\n",
      " 6   reg_date    500 non-null    object\n",
      " 7   tariff      500 non-null    object\n",
      "dtypes: int64(2), object(6)\n",
      "memory usage: 31.4+ KB\n"
     ]
    }
   ],
   "source": [
    "calls.info()\n",
    "internet.info()\n",
    "messages.info()\n",
    "tariffs.info()\n",
    "users.info()"
   ]
  },
  {
   "cell_type": "code",
   "execution_count": 4,
   "id": "92609ece",
   "metadata": {},
   "outputs": [
    {
     "data": {
      "text/plain": [
       "0"
      ]
     },
     "execution_count": 4,
     "metadata": {},
     "output_type": "execute_result"
    }
   ],
   "source": [
    "calls.duplicated().sum()\n",
    "internet.duplicated().sum()\n",
    "messages.duplicated().sum()"
   ]
  },
  {
   "cell_type": "markdown",
   "id": "35200953",
   "metadata": {},
   "source": [
    "### Вывод"
   ]
  },
  {
   "cell_type": "markdown",
   "id": "4ce402ce",
   "metadata": {},
   "source": [
    "Вцелом, данные впорядке, пропуски в столбце 'churn_date' означают, что тариф действующий для клиента.  \n",
    "Требуется заменить некоторые типы данных: \n",
    "* привести все даты к типу DateTime;"
   ]
  },
  {
   "cell_type": "markdown",
   "id": "ed6255a2",
   "metadata": {},
   "source": [
    "## Предподготовка данных"
   ]
  },
  {
   "cell_type": "markdown",
   "id": "7f6abb6d",
   "metadata": {},
   "source": [
    "Приведем даты к типу DateTime и добавим столбец с месяцами"
   ]
  },
  {
   "cell_type": "code",
   "execution_count": 5,
   "id": "0d0303b8",
   "metadata": {},
   "outputs": [],
   "source": [
    "calls['call_date'] = pd.to_datetime(calls['call_date'], format=\"%Y-%m-%d\")\n",
    "calls['month'] = pd.DatetimeIndex(calls['call_date']).month \n",
    "messages['message_date'] = pd.to_datetime(messages['message_date'], format=\"%Y-%m-%d\")\n",
    "messages['month'] = pd.DatetimeIndex(messages['message_date']).month \n",
    "internet['session_date'] = pd.to_datetime(internet['session_date'], format=\"%Y-%m-%d\")\n",
    "internet['month'] = pd.DatetimeIndex(internet['session_date']).month "
   ]
  },
  {
   "cell_type": "code",
   "execution_count": 6,
   "id": "20b313bc",
   "metadata": {},
   "outputs": [
    {
     "data": {
      "text/html": [
       "<div>\n",
       "<style scoped>\n",
       "    .dataframe tbody tr th:only-of-type {\n",
       "        vertical-align: middle;\n",
       "    }\n",
       "\n",
       "    .dataframe tbody tr th {\n",
       "        vertical-align: top;\n",
       "    }\n",
       "\n",
       "    .dataframe thead th {\n",
       "        text-align: right;\n",
       "    }\n",
       "</style>\n",
       "<table border=\"1\" class=\"dataframe\">\n",
       "  <thead>\n",
       "    <tr style=\"text-align: right;\">\n",
       "      <th></th>\n",
       "      <th>id</th>\n",
       "      <th>call_date</th>\n",
       "      <th>duration</th>\n",
       "      <th>user_id</th>\n",
       "      <th>month</th>\n",
       "    </tr>\n",
       "  </thead>\n",
       "  <tbody>\n",
       "    <tr>\n",
       "      <th>0</th>\n",
       "      <td>1000_0</td>\n",
       "      <td>2018-07-25</td>\n",
       "      <td>0.00</td>\n",
       "      <td>1000</td>\n",
       "      <td>7</td>\n",
       "    </tr>\n",
       "    <tr>\n",
       "      <th>1</th>\n",
       "      <td>1000_1</td>\n",
       "      <td>2018-08-17</td>\n",
       "      <td>0.00</td>\n",
       "      <td>1000</td>\n",
       "      <td>8</td>\n",
       "    </tr>\n",
       "    <tr>\n",
       "      <th>2</th>\n",
       "      <td>1000_2</td>\n",
       "      <td>2018-06-11</td>\n",
       "      <td>2.85</td>\n",
       "      <td>1000</td>\n",
       "      <td>6</td>\n",
       "    </tr>\n",
       "    <tr>\n",
       "      <th>3</th>\n",
       "      <td>1000_3</td>\n",
       "      <td>2018-09-21</td>\n",
       "      <td>13.80</td>\n",
       "      <td>1000</td>\n",
       "      <td>9</td>\n",
       "    </tr>\n",
       "    <tr>\n",
       "      <th>4</th>\n",
       "      <td>1000_4</td>\n",
       "      <td>2018-12-15</td>\n",
       "      <td>5.18</td>\n",
       "      <td>1000</td>\n",
       "      <td>12</td>\n",
       "    </tr>\n",
       "  </tbody>\n",
       "</table>\n",
       "</div>"
      ],
      "text/plain": [
       "       id  call_date  duration  user_id  month\n",
       "0  1000_0 2018-07-25      0.00     1000      7\n",
       "1  1000_1 2018-08-17      0.00     1000      8\n",
       "2  1000_2 2018-06-11      2.85     1000      6\n",
       "3  1000_3 2018-09-21     13.80     1000      9\n",
       "4  1000_4 2018-12-15      5.18     1000     12"
      ]
     },
     "execution_count": 6,
     "metadata": {},
     "output_type": "execute_result"
    }
   ],
   "source": [
    "calls.head()"
   ]
  },
  {
   "cell_type": "code",
   "execution_count": 7,
   "id": "8c8b79d0",
   "metadata": {},
   "outputs": [
    {
     "data": {
      "text/html": [
       "<div>\n",
       "<style scoped>\n",
       "    .dataframe tbody tr th:only-of-type {\n",
       "        vertical-align: middle;\n",
       "    }\n",
       "\n",
       "    .dataframe tbody tr th {\n",
       "        vertical-align: top;\n",
       "    }\n",
       "\n",
       "    .dataframe thead th {\n",
       "        text-align: right;\n",
       "    }\n",
       "</style>\n",
       "<table border=\"1\" class=\"dataframe\">\n",
       "  <thead>\n",
       "    <tr style=\"text-align: right;\">\n",
       "      <th></th>\n",
       "      <th>id</th>\n",
       "      <th>message_date</th>\n",
       "      <th>user_id</th>\n",
       "      <th>month</th>\n",
       "    </tr>\n",
       "  </thead>\n",
       "  <tbody>\n",
       "    <tr>\n",
       "      <th>0</th>\n",
       "      <td>1000_0</td>\n",
       "      <td>2018-06-27</td>\n",
       "      <td>1000</td>\n",
       "      <td>6</td>\n",
       "    </tr>\n",
       "    <tr>\n",
       "      <th>1</th>\n",
       "      <td>1000_1</td>\n",
       "      <td>2018-10-08</td>\n",
       "      <td>1000</td>\n",
       "      <td>10</td>\n",
       "    </tr>\n",
       "    <tr>\n",
       "      <th>2</th>\n",
       "      <td>1000_2</td>\n",
       "      <td>2018-08-04</td>\n",
       "      <td>1000</td>\n",
       "      <td>8</td>\n",
       "    </tr>\n",
       "    <tr>\n",
       "      <th>3</th>\n",
       "      <td>1000_3</td>\n",
       "      <td>2018-06-16</td>\n",
       "      <td>1000</td>\n",
       "      <td>6</td>\n",
       "    </tr>\n",
       "    <tr>\n",
       "      <th>4</th>\n",
       "      <td>1000_4</td>\n",
       "      <td>2018-12-05</td>\n",
       "      <td>1000</td>\n",
       "      <td>12</td>\n",
       "    </tr>\n",
       "  </tbody>\n",
       "</table>\n",
       "</div>"
      ],
      "text/plain": [
       "       id message_date  user_id  month\n",
       "0  1000_0   2018-06-27     1000      6\n",
       "1  1000_1   2018-10-08     1000     10\n",
       "2  1000_2   2018-08-04     1000      8\n",
       "3  1000_3   2018-06-16     1000      6\n",
       "4  1000_4   2018-12-05     1000     12"
      ]
     },
     "execution_count": 7,
     "metadata": {},
     "output_type": "execute_result"
    }
   ],
   "source": [
    "messages.head()"
   ]
  },
  {
   "cell_type": "code",
   "execution_count": 8,
   "id": "e3391aae",
   "metadata": {},
   "outputs": [
    {
     "data": {
      "text/html": [
       "<div>\n",
       "<style scoped>\n",
       "    .dataframe tbody tr th:only-of-type {\n",
       "        vertical-align: middle;\n",
       "    }\n",
       "\n",
       "    .dataframe tbody tr th {\n",
       "        vertical-align: top;\n",
       "    }\n",
       "\n",
       "    .dataframe thead th {\n",
       "        text-align: right;\n",
       "    }\n",
       "</style>\n",
       "<table border=\"1\" class=\"dataframe\">\n",
       "  <thead>\n",
       "    <tr style=\"text-align: right;\">\n",
       "      <th></th>\n",
       "      <th>id</th>\n",
       "      <th>mb_used</th>\n",
       "      <th>session_date</th>\n",
       "      <th>user_id</th>\n",
       "      <th>month</th>\n",
       "    </tr>\n",
       "  </thead>\n",
       "  <tbody>\n",
       "    <tr>\n",
       "      <th>0</th>\n",
       "      <td>1000_0</td>\n",
       "      <td>112.95</td>\n",
       "      <td>2018-11-25</td>\n",
       "      <td>1000</td>\n",
       "      <td>11</td>\n",
       "    </tr>\n",
       "    <tr>\n",
       "      <th>1</th>\n",
       "      <td>1000_1</td>\n",
       "      <td>1052.81</td>\n",
       "      <td>2018-09-07</td>\n",
       "      <td>1000</td>\n",
       "      <td>9</td>\n",
       "    </tr>\n",
       "    <tr>\n",
       "      <th>2</th>\n",
       "      <td>1000_2</td>\n",
       "      <td>1197.26</td>\n",
       "      <td>2018-06-25</td>\n",
       "      <td>1000</td>\n",
       "      <td>6</td>\n",
       "    </tr>\n",
       "    <tr>\n",
       "      <th>3</th>\n",
       "      <td>1000_3</td>\n",
       "      <td>550.27</td>\n",
       "      <td>2018-08-22</td>\n",
       "      <td>1000</td>\n",
       "      <td>8</td>\n",
       "    </tr>\n",
       "    <tr>\n",
       "      <th>4</th>\n",
       "      <td>1000_4</td>\n",
       "      <td>302.56</td>\n",
       "      <td>2018-09-24</td>\n",
       "      <td>1000</td>\n",
       "      <td>9</td>\n",
       "    </tr>\n",
       "  </tbody>\n",
       "</table>\n",
       "</div>"
      ],
      "text/plain": [
       "       id  mb_used session_date  user_id  month\n",
       "0  1000_0   112.95   2018-11-25     1000     11\n",
       "1  1000_1  1052.81   2018-09-07     1000      9\n",
       "2  1000_2  1197.26   2018-06-25     1000      6\n",
       "3  1000_3   550.27   2018-08-22     1000      8\n",
       "4  1000_4   302.56   2018-09-24     1000      9"
      ]
     },
     "execution_count": 8,
     "metadata": {},
     "output_type": "execute_result"
    }
   ],
   "source": [
    "internet.head()"
   ]
  },
  {
   "cell_type": "markdown",
   "id": "5a544b72",
   "metadata": {},
   "source": [
    "Сгруппируем данные по пользователям и месяцам, и объеденим таблицы в один датафрейм"
   ]
  },
  {
   "cell_type": "code",
   "execution_count": 9,
   "id": "3fbc9931",
   "metadata": {},
   "outputs": [],
   "source": [
    "internet_grouped = internet.groupby(['month','user_id']).sum().reset_index()"
   ]
  },
  {
   "cell_type": "code",
   "execution_count": 10,
   "id": "9fe78bd5",
   "metadata": {},
   "outputs": [],
   "source": [
    "# Так как по условию каждый звонок у нас округляется вверх до минут, то так и сделаем\n",
    "calls['duration'] = calls['duration'].apply(math.ceil)"
   ]
  },
  {
   "cell_type": "code",
   "execution_count": 11,
   "id": "0902e478",
   "metadata": {},
   "outputs": [],
   "source": [
    "calls_grouped = (calls.groupby(['month','user_id'])\n",
    "                 .agg({'duration':'sum', 'id':'count'})\n",
    "                 .reset_index()\n",
    "                 .rename(columns={'duration':'minutes_in_month', 'id':'calls_in_month'})\n",
    "                )"
   ]
  },
  {
   "cell_type": "code",
   "execution_count": 12,
   "id": "24ad4217",
   "metadata": {},
   "outputs": [],
   "source": [
    "messages_grouped = (messages\n",
    "                    .groupby(['month','user_id'])\n",
    "                    .count()\n",
    "                    .reset_index()\n",
    "                    .rename(columns={'message_date': 'message_in_month'})\n",
    "                   )"
   ]
  },
  {
   "cell_type": "code",
   "execution_count": 13,
   "id": "eaefd6cf",
   "metadata": {},
   "outputs": [
    {
     "name": "stdout",
     "output_type": "stream",
     "text": [
      "<class 'pandas.core.frame.DataFrame'>\n",
      "Int64Index: 3214 entries, 0 to 3213\n",
      "Data columns (total 16 columns):\n",
      " #   Column                 Non-Null Count  Dtype  \n",
      "---  ------                 --------------  -----  \n",
      " 0   month                  3214 non-null   int64  \n",
      " 1   user_id                3214 non-null   int64  \n",
      " 2   minutes_in_month       3174 non-null   float64\n",
      " 3   calls_in_month         3174 non-null   float64\n",
      " 4   id                     2717 non-null   float64\n",
      " 5   message_in_month       2717 non-null   float64\n",
      " 6   mb_used                3203 non-null   float64\n",
      " 7   tariff                 3214 non-null   object \n",
      " 8   city                   3214 non-null   object \n",
      " 9   messages_included      3214 non-null   int64  \n",
      " 10  mb_per_month_included  3214 non-null   int64  \n",
      " 11  minutes_included       3214 non-null   int64  \n",
      " 12  rub_monthly_fee        3214 non-null   int64  \n",
      " 13  rub_per_gb             3214 non-null   int64  \n",
      " 14  rub_per_message        3214 non-null   int64  \n",
      " 15  rub_per_minute         3214 non-null   int64  \n",
      "dtypes: float64(5), int64(9), object(2)\n",
      "memory usage: 426.9+ KB\n"
     ]
    }
   ],
   "source": [
    "data = calls_grouped.merge(messages_grouped, on=['user_id','month'], how='outer')\n",
    "data = data.merge(internet_grouped, on=['user_id','month'], how='outer')\n",
    "data = data.merge(users[['user_id','tariff','city']], on='user_id', how='left')\n",
    "tariffs = tariffs.rename(columns={'tariff_name': 'tariff'})\n",
    "data = data.merge(tariffs, on='tariff', how='left')\n",
    "data.info()"
   ]
  },
  {
   "cell_type": "code",
   "execution_count": 14,
   "id": "35515b41",
   "metadata": {},
   "outputs": [
    {
     "data": {
      "text/plain": [
       "1005    12\n",
       "1395    12\n",
       "1337    12\n",
       "1340    12\n",
       "1372    12\n",
       "        ..\n",
       "1170     1\n",
       "1190     1\n",
       "1192     1\n",
       "1194     1\n",
       "1140     1\n",
       "Name: user_id, Length: 498, dtype: int64"
      ]
     },
     "execution_count": 14,
     "metadata": {},
     "output_type": "execute_result"
    }
   ],
   "source": [
    "data['user_id'].value_counts()"
   ]
  },
  {
   "cell_type": "markdown",
   "id": "312c561f",
   "metadata": {},
   "source": [
    "В процессе объединения появились строчки с пропущенными значениями. Заменим их нулями, так как это означает, что пользователь не использовал эту функцию."
   ]
  },
  {
   "cell_type": "code",
   "execution_count": 15,
   "id": "3a58c59b",
   "metadata": {},
   "outputs": [
    {
     "data": {
      "text/plain": [
       "month                    0\n",
       "user_id                  0\n",
       "minutes_in_month         0\n",
       "calls_in_month           0\n",
       "id                       0\n",
       "message_in_month         0\n",
       "mb_used                  0\n",
       "tariff                   0\n",
       "city                     0\n",
       "messages_included        0\n",
       "mb_per_month_included    0\n",
       "minutes_included         0\n",
       "rub_monthly_fee          0\n",
       "rub_per_gb               0\n",
       "rub_per_message          0\n",
       "rub_per_minute           0\n",
       "dtype: int64"
      ]
     },
     "execution_count": 15,
     "metadata": {},
     "output_type": "execute_result"
    }
   ],
   "source": [
    "data.fillna(0, inplace = True)\n",
    "data.isna().sum()"
   ]
  },
  {
   "cell_type": "markdown",
   "id": "a3f284d6",
   "metadata": {},
   "source": [
    "«Мегалайн» всегда округляет секунды до минут, а мегабайты — до гигабайт.   \n",
    "Каждый звонок округляется отдельно: даже если он длился всего 1 секунду, будет засчитан как 1 минута.  \n",
    "Для веб-трафика отдельные сессии не считаются. Вместо этого общая сумма за месяц округляется в бо́льшую сторону.   \n",
    "Если абонент использует 1025 мегабайт в этом месяце, с него возьмут плату за 2 гигабайта.  \n",
    "\n",
    "\n",
    "Поэтому округлим секунды до минут и приведем данные в удобный формат, так как небывает половины смс и звонка"
   ]
  },
  {
   "cell_type": "code",
   "execution_count": 16,
   "id": "bffab4d5",
   "metadata": {},
   "outputs": [],
   "source": [
    "data['message_in_month'] = data['message_in_month'].astype('int')\n",
    "data['calls_in_month'] = data['calls_in_month'].astype('int')"
   ]
  },
  {
   "cell_type": "code",
   "execution_count": 17,
   "id": "aec12a5c",
   "metadata": {},
   "outputs": [
    {
     "data": {
      "text/html": [
       "<div>\n",
       "<style scoped>\n",
       "    .dataframe tbody tr th:only-of-type {\n",
       "        vertical-align: middle;\n",
       "    }\n",
       "\n",
       "    .dataframe tbody tr th {\n",
       "        vertical-align: top;\n",
       "    }\n",
       "\n",
       "    .dataframe thead th {\n",
       "        text-align: right;\n",
       "    }\n",
       "</style>\n",
       "<table border=\"1\" class=\"dataframe\">\n",
       "  <thead>\n",
       "    <tr style=\"text-align: right;\">\n",
       "      <th></th>\n",
       "      <th>user_id</th>\n",
       "      <th>age</th>\n",
       "      <th>churn_date</th>\n",
       "      <th>city</th>\n",
       "      <th>first_name</th>\n",
       "      <th>last_name</th>\n",
       "      <th>reg_date</th>\n",
       "      <th>tariff</th>\n",
       "    </tr>\n",
       "  </thead>\n",
       "  <tbody>\n",
       "    <tr>\n",
       "      <th>371</th>\n",
       "      <td>1371</td>\n",
       "      <td>50</td>\n",
       "      <td>2018-12-30</td>\n",
       "      <td>Омск</td>\n",
       "      <td>Ириней</td>\n",
       "      <td>Трофимов</td>\n",
       "      <td>2018-12-25</td>\n",
       "      <td>smart</td>\n",
       "    </tr>\n",
       "  </tbody>\n",
       "</table>\n",
       "</div>"
      ],
      "text/plain": [
       "     user_id  age  churn_date  city first_name last_name    reg_date tariff\n",
       "371     1371   50  2018-12-30  Омск     Ириней  Трофимов  2018-12-25  smart"
      ]
     },
     "execution_count": 17,
     "metadata": {},
     "output_type": "execute_result"
    }
   ],
   "source": [
    "users[users['user_id'] == 1128] # \"Эти трое не пользуются ничем\n",
    "users[users['user_id'] == 1273]\n",
    "users[users['user_id'] == 1371]"
   ]
  },
  {
   "cell_type": "code",
   "execution_count": 18,
   "id": "8efadb7e",
   "metadata": {},
   "outputs": [
    {
     "data": {
      "text/html": [
       "<div>\n",
       "<style scoped>\n",
       "    .dataframe tbody tr th:only-of-type {\n",
       "        vertical-align: middle;\n",
       "    }\n",
       "\n",
       "    .dataframe tbody tr th {\n",
       "        vertical-align: top;\n",
       "    }\n",
       "\n",
       "    .dataframe thead th {\n",
       "        text-align: right;\n",
       "    }\n",
       "</style>\n",
       "<table border=\"1\" class=\"dataframe\">\n",
       "  <thead>\n",
       "    <tr style=\"text-align: right;\">\n",
       "      <th></th>\n",
       "      <th>month</th>\n",
       "      <th>user_id</th>\n",
       "      <th>minutes_in_month</th>\n",
       "      <th>calls_in_month</th>\n",
       "      <th>message_in_month</th>\n",
       "      <th>mb_used</th>\n",
       "      <th>tariff</th>\n",
       "      <th>city</th>\n",
       "      <th>messages_included</th>\n",
       "      <th>mb_per_month_included</th>\n",
       "      <th>minutes_included</th>\n",
       "      <th>rub_monthly_fee</th>\n",
       "      <th>rub_per_gb</th>\n",
       "      <th>rub_per_message</th>\n",
       "      <th>rub_per_minute</th>\n",
       "    </tr>\n",
       "  </thead>\n",
       "  <tbody>\n",
       "    <tr>\n",
       "      <th>0</th>\n",
       "      <td>1</td>\n",
       "      <td>1005</td>\n",
       "      <td>95.0</td>\n",
       "      <td>15</td>\n",
       "      <td>7</td>\n",
       "      <td>2727.97</td>\n",
       "      <td>smart</td>\n",
       "      <td>Набережные Челны</td>\n",
       "      <td>50</td>\n",
       "      <td>15360</td>\n",
       "      <td>500</td>\n",
       "      <td>550</td>\n",
       "      <td>200</td>\n",
       "      <td>3</td>\n",
       "      <td>3</td>\n",
       "    </tr>\n",
       "    <tr>\n",
       "      <th>1</th>\n",
       "      <td>1</td>\n",
       "      <td>1032</td>\n",
       "      <td>380.0</td>\n",
       "      <td>61</td>\n",
       "      <td>38</td>\n",
       "      <td>24127.69</td>\n",
       "      <td>smart</td>\n",
       "      <td>Ульяновск</td>\n",
       "      <td>50</td>\n",
       "      <td>15360</td>\n",
       "      <td>500</td>\n",
       "      <td>550</td>\n",
       "      <td>200</td>\n",
       "      <td>3</td>\n",
       "      <td>3</td>\n",
       "    </tr>\n",
       "    <tr>\n",
       "      <th>2</th>\n",
       "      <td>1</td>\n",
       "      <td>1045</td>\n",
       "      <td>9.0</td>\n",
       "      <td>1</td>\n",
       "      <td>5</td>\n",
       "      <td>2346.71</td>\n",
       "      <td>smart</td>\n",
       "      <td>Улан-Удэ</td>\n",
       "      <td>50</td>\n",
       "      <td>15360</td>\n",
       "      <td>500</td>\n",
       "      <td>550</td>\n",
       "      <td>200</td>\n",
       "      <td>3</td>\n",
       "      <td>3</td>\n",
       "    </tr>\n",
       "    <tr>\n",
       "      <th>3</th>\n",
       "      <td>1</td>\n",
       "      <td>1055</td>\n",
       "      <td>551.0</td>\n",
       "      <td>64</td>\n",
       "      <td>30</td>\n",
       "      <td>17090.88</td>\n",
       "      <td>smart</td>\n",
       "      <td>Казань</td>\n",
       "      <td>50</td>\n",
       "      <td>15360</td>\n",
       "      <td>500</td>\n",
       "      <td>550</td>\n",
       "      <td>200</td>\n",
       "      <td>3</td>\n",
       "      <td>3</td>\n",
       "    </tr>\n",
       "    <tr>\n",
       "      <th>4</th>\n",
       "      <td>1</td>\n",
       "      <td>1071</td>\n",
       "      <td>194.0</td>\n",
       "      <td>24</td>\n",
       "      <td>16</td>\n",
       "      <td>15604.34</td>\n",
       "      <td>smart</td>\n",
       "      <td>Омск</td>\n",
       "      <td>50</td>\n",
       "      <td>15360</td>\n",
       "      <td>500</td>\n",
       "      <td>550</td>\n",
       "      <td>200</td>\n",
       "      <td>3</td>\n",
       "      <td>3</td>\n",
       "    </tr>\n",
       "    <tr>\n",
       "      <th>...</th>\n",
       "      <td>...</td>\n",
       "      <td>...</td>\n",
       "      <td>...</td>\n",
       "      <td>...</td>\n",
       "      <td>...</td>\n",
       "      <td>...</td>\n",
       "      <td>...</td>\n",
       "      <td>...</td>\n",
       "      <td>...</td>\n",
       "      <td>...</td>\n",
       "      <td>...</td>\n",
       "      <td>...</td>\n",
       "      <td>...</td>\n",
       "      <td>...</td>\n",
       "      <td>...</td>\n",
       "    </tr>\n",
       "    <tr>\n",
       "      <th>3209</th>\n",
       "      <td>12</td>\n",
       "      <td>1231</td>\n",
       "      <td>0.0</td>\n",
       "      <td>0</td>\n",
       "      <td>191</td>\n",
       "      <td>32448.00</td>\n",
       "      <td>ultra</td>\n",
       "      <td>Чебоксары</td>\n",
       "      <td>1000</td>\n",
       "      <td>30720</td>\n",
       "      <td>3000</td>\n",
       "      <td>1950</td>\n",
       "      <td>150</td>\n",
       "      <td>1</td>\n",
       "      <td>1</td>\n",
       "    </tr>\n",
       "    <tr>\n",
       "      <th>3210</th>\n",
       "      <td>12</td>\n",
       "      <td>1328</td>\n",
       "      <td>0.0</td>\n",
       "      <td>0</td>\n",
       "      <td>7</td>\n",
       "      <td>39419.73</td>\n",
       "      <td>ultra</td>\n",
       "      <td>Мурманск</td>\n",
       "      <td>1000</td>\n",
       "      <td>30720</td>\n",
       "      <td>3000</td>\n",
       "      <td>1950</td>\n",
       "      <td>150</td>\n",
       "      <td>1</td>\n",
       "      <td>1</td>\n",
       "    </tr>\n",
       "    <tr>\n",
       "      <th>3211</th>\n",
       "      <td>12</td>\n",
       "      <td>1473</td>\n",
       "      <td>0.0</td>\n",
       "      <td>0</td>\n",
       "      <td>20</td>\n",
       "      <td>18418.26</td>\n",
       "      <td>ultra</td>\n",
       "      <td>Красноярск</td>\n",
       "      <td>1000</td>\n",
       "      <td>30720</td>\n",
       "      <td>3000</td>\n",
       "      <td>1950</td>\n",
       "      <td>150</td>\n",
       "      <td>1</td>\n",
       "      <td>1</td>\n",
       "    </tr>\n",
       "    <tr>\n",
       "      <th>3212</th>\n",
       "      <td>12</td>\n",
       "      <td>1489</td>\n",
       "      <td>0.0</td>\n",
       "      <td>0</td>\n",
       "      <td>35</td>\n",
       "      <td>17322.51</td>\n",
       "      <td>smart</td>\n",
       "      <td>Санкт-Петербург</td>\n",
       "      <td>50</td>\n",
       "      <td>15360</td>\n",
       "      <td>500</td>\n",
       "      <td>550</td>\n",
       "      <td>200</td>\n",
       "      <td>3</td>\n",
       "      <td>3</td>\n",
       "    </tr>\n",
       "    <tr>\n",
       "      <th>3213</th>\n",
       "      <td>4</td>\n",
       "      <td>1476</td>\n",
       "      <td>0.0</td>\n",
       "      <td>0</td>\n",
       "      <td>0</td>\n",
       "      <td>530.78</td>\n",
       "      <td>ultra</td>\n",
       "      <td>Москва</td>\n",
       "      <td>1000</td>\n",
       "      <td>30720</td>\n",
       "      <td>3000</td>\n",
       "      <td>1950</td>\n",
       "      <td>150</td>\n",
       "      <td>1</td>\n",
       "      <td>1</td>\n",
       "    </tr>\n",
       "  </tbody>\n",
       "</table>\n",
       "<p>3214 rows × 15 columns</p>\n",
       "</div>"
      ],
      "text/plain": [
       "      month  user_id  minutes_in_month  calls_in_month  message_in_month  \\\n",
       "0         1     1005              95.0              15                 7   \n",
       "1         1     1032             380.0              61                38   \n",
       "2         1     1045               9.0               1                 5   \n",
       "3         1     1055             551.0              64                30   \n",
       "4         1     1071             194.0              24                16   \n",
       "...     ...      ...               ...             ...               ...   \n",
       "3209     12     1231               0.0               0               191   \n",
       "3210     12     1328               0.0               0                 7   \n",
       "3211     12     1473               0.0               0                20   \n",
       "3212     12     1489               0.0               0                35   \n",
       "3213      4     1476               0.0               0                 0   \n",
       "\n",
       "       mb_used tariff              city  messages_included  \\\n",
       "0      2727.97  smart  Набережные Челны                 50   \n",
       "1     24127.69  smart         Ульяновск                 50   \n",
       "2      2346.71  smart          Улан-Удэ                 50   \n",
       "3     17090.88  smart            Казань                 50   \n",
       "4     15604.34  smart              Омск                 50   \n",
       "...        ...    ...               ...                ...   \n",
       "3209  32448.00  ultra         Чебоксары               1000   \n",
       "3210  39419.73  ultra          Мурманск               1000   \n",
       "3211  18418.26  ultra        Красноярск               1000   \n",
       "3212  17322.51  smart   Санкт-Петербург                 50   \n",
       "3213    530.78  ultra            Москва               1000   \n",
       "\n",
       "      mb_per_month_included  minutes_included  rub_monthly_fee  rub_per_gb  \\\n",
       "0                     15360               500              550         200   \n",
       "1                     15360               500              550         200   \n",
       "2                     15360               500              550         200   \n",
       "3                     15360               500              550         200   \n",
       "4                     15360               500              550         200   \n",
       "...                     ...               ...              ...         ...   \n",
       "3209                  30720              3000             1950         150   \n",
       "3210                  30720              3000             1950         150   \n",
       "3211                  30720              3000             1950         150   \n",
       "3212                  15360               500              550         200   \n",
       "3213                  30720              3000             1950         150   \n",
       "\n",
       "      rub_per_message  rub_per_minute  \n",
       "0                   3               3  \n",
       "1                   3               3  \n",
       "2                   3               3  \n",
       "3                   3               3  \n",
       "4                   3               3  \n",
       "...               ...             ...  \n",
       "3209                1               1  \n",
       "3210                1               1  \n",
       "3211                1               1  \n",
       "3212                3               3  \n",
       "3213                1               1  \n",
       "\n",
       "[3214 rows x 15 columns]"
      ]
     },
     "execution_count": 18,
     "metadata": {},
     "output_type": "execute_result"
    }
   ],
   "source": [
    "data.drop(['id'], axis=1, inplace=True)\n",
    "data"
   ]
  },
  {
   "cell_type": "markdown",
   "id": "d11a86a2",
   "metadata": {},
   "source": [
    "Посчитаем и добавим в таблицу месячную выручку с каждого клиента"
   ]
  },
  {
   "cell_type": "code",
   "execution_count": 19,
   "id": "6fa9c7b8",
   "metadata": {},
   "outputs": [],
   "source": [
    "# С помощью функции высчитываем выручку с человека, после чего прибавляем абонентскую плату\n",
    "def profit(row):\n",
    "    sms = (row['message_in_month'] - row['messages_included']) * row['rub_per_message']\n",
    "    inet = math.ceil((row['mb_used'] - row['mb_per_month_included']) / 1024) * row['rub_per_gb']\n",
    "    call = (row['minutes_in_month'] - row['minutes_included']) * row['rub_per_minute']\n",
    "    total = 0\n",
    "    for i in [sms,inet,call]:\n",
    "        if i > 0: \n",
    "            total += i\n",
    "    return total\n",
    "        \n",
    "data.insert(9, 'profit', data.apply(profit, axis=1))\n",
    "data['profit'] += data['rub_monthly_fee']"
   ]
  },
  {
   "cell_type": "markdown",
   "id": "68c1656d",
   "metadata": {},
   "source": [
    "## Исследование поведения пользователей с разними тарифами"
   ]
  },
  {
   "cell_type": "markdown",
   "id": "2926afa4",
   "metadata": {},
   "source": [
    "Для дальнейших исследований нам понадобится данные отдельно по тарифам"
   ]
  },
  {
   "cell_type": "code",
   "execution_count": 20,
   "id": "4cf52a18",
   "metadata": {},
   "outputs": [],
   "source": [
    "df_smart = data.query('tariff == \"smart\"')\n",
    "df_ultra = data.query('tariff == \"ultra\"')"
   ]
  },
  {
   "cell_type": "markdown",
   "id": "c356f615",
   "metadata": {},
   "source": [
    "### Распределение пользователей по минутам в месяц "
   ]
  },
  {
   "cell_type": "code",
   "execution_count": 21,
   "id": "4d3dea4a",
   "metadata": {},
   "outputs": [
    {
     "data": {
      "text/html": [
       "<div>\n",
       "<style scoped>\n",
       "    .dataframe tbody tr th:only-of-type {\n",
       "        vertical-align: middle;\n",
       "    }\n",
       "\n",
       "    .dataframe tbody tr th {\n",
       "        vertical-align: top;\n",
       "    }\n",
       "\n",
       "    .dataframe thead th {\n",
       "        text-align: right;\n",
       "    }\n",
       "</style>\n",
       "<table border=\"1\" class=\"dataframe\">\n",
       "  <thead>\n",
       "    <tr style=\"text-align: right;\">\n",
       "      <th></th>\n",
       "      <th>count</th>\n",
       "      <th>mean</th>\n",
       "      <th>std</th>\n",
       "      <th>min</th>\n",
       "      <th>25%</th>\n",
       "      <th>50%</th>\n",
       "      <th>75%</th>\n",
       "      <th>max</th>\n",
       "    </tr>\n",
       "    <tr>\n",
       "      <th>tariff</th>\n",
       "      <th></th>\n",
       "      <th></th>\n",
       "      <th></th>\n",
       "      <th></th>\n",
       "      <th></th>\n",
       "      <th></th>\n",
       "      <th></th>\n",
       "      <th></th>\n",
       "    </tr>\n",
       "  </thead>\n",
       "  <tbody>\n",
       "    <tr>\n",
       "      <th>smart</th>\n",
       "      <td>2229.0</td>\n",
       "      <td>417.934948</td>\n",
       "      <td>190.313730</td>\n",
       "      <td>0.0</td>\n",
       "      <td>282.0</td>\n",
       "      <td>422.0</td>\n",
       "      <td>545.0</td>\n",
       "      <td>1435.0</td>\n",
       "    </tr>\n",
       "    <tr>\n",
       "      <th>ultra</th>\n",
       "      <td>985.0</td>\n",
       "      <td>526.623350</td>\n",
       "      <td>317.606098</td>\n",
       "      <td>0.0</td>\n",
       "      <td>284.0</td>\n",
       "      <td>518.0</td>\n",
       "      <td>752.0</td>\n",
       "      <td>1673.0</td>\n",
       "    </tr>\n",
       "  </tbody>\n",
       "</table>\n",
       "</div>"
      ],
      "text/plain": [
       "         count        mean         std  min    25%    50%    75%     max\n",
       "tariff                                                                  \n",
       "smart   2229.0  417.934948  190.313730  0.0  282.0  422.0  545.0  1435.0\n",
       "ultra    985.0  526.623350  317.606098  0.0  284.0  518.0  752.0  1673.0"
      ]
     },
     "execution_count": 21,
     "metadata": {},
     "output_type": "execute_result"
    },
    {
     "data": {
      "image/png": "[encoded data removed]",
      "text/plain": [
       "<Figure size 432x288 with 1 Axes>"
      ]
     },
     "metadata": {
      "needs_background": "light"
     },
     "output_type": "display_data"
    }
   ],
   "source": [
    "df_ultra['minutes_in_month'].plot(kind='hist', bins=20, label='ultra')\n",
    "df_smart['minutes_in_month'].plot(kind='hist', bins=35, alpha=0.5, label='smart')\n",
    "plt.ylabel('Кол-во пользователей')\n",
    "plt.xlabel('Минуты')\n",
    "plt.title('Распределение пользователей по минутам в месяц')\n",
    "plt.legend()\n",
    "plt.annotate('Граница бесплатных минут у smart', xy=(500, 0), xytext=(500, 200),\n",
    "            arrowprops=dict(facecolor='black'));\n",
    "data.groupby('tariff')['minutes_in_month'].describe()"
   ]
  },
  {
   "cell_type": "markdown",
   "id": "ca592dd4",
   "metadata": {},
   "source": [
    "На \"смарте\" большиство людей не выходят за пределы бесплатных минут, а пользователи \"ультра\", даже близко не подходят к границе."
   ]
  },
  {
   "cell_type": "markdown",
   "id": "e1dd0801",
   "metadata": {},
   "source": [
    "### Распределение пользователей по СМС в месяц "
   ]
  },
  {
   "cell_type": "code",
   "execution_count": 22,
   "id": "13f7fbb7",
   "metadata": {},
   "outputs": [
    {
     "data": {
      "text/html": [
       "<div>\n",
       "<style scoped>\n",
       "    .dataframe tbody tr th:only-of-type {\n",
       "        vertical-align: middle;\n",
       "    }\n",
       "\n",
       "    .dataframe tbody tr th {\n",
       "        vertical-align: top;\n",
       "    }\n",
       "\n",
       "    .dataframe thead th {\n",
       "        text-align: right;\n",
       "    }\n",
       "</style>\n",
       "<table border=\"1\" class=\"dataframe\">\n",
       "  <thead>\n",
       "    <tr style=\"text-align: right;\">\n",
       "      <th></th>\n",
       "      <th>count</th>\n",
       "      <th>mean</th>\n",
       "      <th>std</th>\n",
       "      <th>min</th>\n",
       "      <th>25%</th>\n",
       "      <th>50%</th>\n",
       "      <th>75%</th>\n",
       "      <th>max</th>\n",
       "    </tr>\n",
       "    <tr>\n",
       "      <th>tariff</th>\n",
       "      <th></th>\n",
       "      <th></th>\n",
       "      <th></th>\n",
       "      <th></th>\n",
       "      <th></th>\n",
       "      <th></th>\n",
       "      <th></th>\n",
       "      <th></th>\n",
       "    </tr>\n",
       "  </thead>\n",
       "  <tbody>\n",
       "    <tr>\n",
       "      <th>smart</th>\n",
       "      <td>2229.0</td>\n",
       "      <td>33.384029</td>\n",
       "      <td>28.227876</td>\n",
       "      <td>0.0</td>\n",
       "      <td>10.0</td>\n",
       "      <td>28.0</td>\n",
       "      <td>51.0</td>\n",
       "      <td>143.0</td>\n",
       "    </tr>\n",
       "    <tr>\n",
       "      <th>ultra</th>\n",
       "      <td>985.0</td>\n",
       "      <td>49.363452</td>\n",
       "      <td>47.804457</td>\n",
       "      <td>0.0</td>\n",
       "      <td>6.0</td>\n",
       "      <td>38.0</td>\n",
       "      <td>79.0</td>\n",
       "      <td>224.0</td>\n",
       "    </tr>\n",
       "  </tbody>\n",
       "</table>\n",
       "</div>"
      ],
      "text/plain": [
       "         count       mean        std  min   25%   50%   75%    max\n",
       "tariff                                                            \n",
       "smart   2229.0  33.384029  28.227876  0.0  10.0  28.0  51.0  143.0\n",
       "ultra    985.0  49.363452  47.804457  0.0   6.0  38.0  79.0  224.0"
      ]
     },
     "metadata": {},
     "output_type": "display_data"
    },
    {
     "data": {
      "text/plain": [
       "tariff\n",
       "smart     796.812958\n",
       "ultra    2285.266143\n",
       "Name: message_in_month, dtype: float64"
      ]
     },
     "execution_count": 22,
     "metadata": {},
     "output_type": "execute_result"
    },
    {
     "data": {
      "image/png": "[encoded data removed]",
      "text/plain": [
       "<Figure size 432x288 with 1 Axes>"
      ]
     },
     "metadata": {
      "needs_background": "light"
     },
     "output_type": "display_data"
    }
   ],
   "source": [
    "df_ultra['message_in_month'].plot(kind='hist', bins=20, label='ultra')\n",
    "df_smart['message_in_month'].plot(kind='hist', bins=20, alpha=0.5, label='smart')\n",
    "plt.ylabel('Кол-во пользователей')\n",
    "plt.xlabel('СМС')\n",
    "plt.title('Распределение пользователей по СМС в месяц')\n",
    "plt.legend()\n",
    "plt.annotate('Граница бесплатных смс у smart', xy=(50, 0), xytext=(50, 300),\n",
    "            arrowprops=dict(facecolor='black'));\n",
    "display(data.groupby('tariff')['message_in_month'].describe())\n",
    "data.groupby('tariff')['message_in_month'].var()"
   ]
  },
  {
   "cell_type": "markdown",
   "id": "5d35cd09",
   "metadata": {},
   "source": [
    "Такая же ситуация и с смс: пользователи \"смарт\" в большинстве случаев доходят до границы бесплатных смс, в то время как у самого активного пользователя \"ультра\" остается еще более 750 смс."
   ]
  },
  {
   "cell_type": "markdown",
   "id": "27d361c3",
   "metadata": {},
   "source": [
    "### Распределение пользователей по Мб в месяц"
   ]
  },
  {
   "cell_type": "code",
   "execution_count": 23,
   "id": "d74a396e",
   "metadata": {},
   "outputs": [
    {
     "data": {
      "text/html": [
       "<div>\n",
       "<style scoped>\n",
       "    .dataframe tbody tr th:only-of-type {\n",
       "        vertical-align: middle;\n",
       "    }\n",
       "\n",
       "    .dataframe tbody tr th {\n",
       "        vertical-align: top;\n",
       "    }\n",
       "\n",
       "    .dataframe thead th {\n",
       "        text-align: right;\n",
       "    }\n",
       "</style>\n",
       "<table border=\"1\" class=\"dataframe\">\n",
       "  <thead>\n",
       "    <tr style=\"text-align: right;\">\n",
       "      <th></th>\n",
       "      <th>count</th>\n",
       "      <th>mean</th>\n",
       "      <th>std</th>\n",
       "      <th>min</th>\n",
       "      <th>25%</th>\n",
       "      <th>50%</th>\n",
       "      <th>75%</th>\n",
       "      <th>max</th>\n",
       "    </tr>\n",
       "    <tr>\n",
       "      <th>tariff</th>\n",
       "      <th></th>\n",
       "      <th></th>\n",
       "      <th></th>\n",
       "      <th></th>\n",
       "      <th></th>\n",
       "      <th></th>\n",
       "      <th></th>\n",
       "      <th></th>\n",
       "    </tr>\n",
       "  </thead>\n",
       "  <tbody>\n",
       "    <tr>\n",
       "      <th>smart</th>\n",
       "      <td>2229.0</td>\n",
       "      <td>16208.386990</td>\n",
       "      <td>5870.476681</td>\n",
       "      <td>0.0</td>\n",
       "      <td>12643.01</td>\n",
       "      <td>16506.84</td>\n",
       "      <td>20042.93</td>\n",
       "      <td>38552.45</td>\n",
       "    </tr>\n",
       "    <tr>\n",
       "      <th>ultra</th>\n",
       "      <td>985.0</td>\n",
       "      <td>19468.805208</td>\n",
       "      <td>10087.170752</td>\n",
       "      <td>0.0</td>\n",
       "      <td>11770.26</td>\n",
       "      <td>19308.01</td>\n",
       "      <td>26837.69</td>\n",
       "      <td>49745.69</td>\n",
       "    </tr>\n",
       "  </tbody>\n",
       "</table>\n",
       "</div>"
      ],
      "text/plain": [
       "         count          mean           std  min       25%       50%       75%  \\\n",
       "tariff                                                                          \n",
       "smart   2229.0  16208.386990   5870.476681  0.0  12643.01  16506.84  20042.93   \n",
       "ultra    985.0  19468.805208  10087.170752  0.0  11770.26  19308.01  26837.69   \n",
       "\n",
       "             max  \n",
       "tariff            \n",
       "smart   38552.45  \n",
       "ultra   49745.69  "
      ]
     },
     "metadata": {},
     "output_type": "display_data"
    },
    {
     "data": {
      "text/plain": [
       "tariff\n",
       "smart    3.446250e+07\n",
       "ultra    1.017510e+08\n",
       "Name: mb_used, dtype: float64"
      ]
     },
     "execution_count": 23,
     "metadata": {},
     "output_type": "execute_result"
    },
    {
     "data": {
      "image/png": "[encoded data removed]",
      "text/plain": [
       "<Figure size 432x288 with 1 Axes>"
      ]
     },
     "metadata": {
      "needs_background": "light"
     },
     "output_type": "display_data"
    }
   ],
   "source": [
    "df_ultra['mb_used'].plot(kind='hist', bins=20, label='ultra')\n",
    "df_smart['mb_used'].plot(kind='hist', bins=20, alpha=0.5, label='smart')\n",
    "plt.ylabel('Кол-во пользователей')\n",
    "plt.xlabel('Мб')\n",
    "plt.title('Распределение пользователей по Мб в месяц')\n",
    "plt.legend()\n",
    "plt.annotate('Граница бесплатных mb у smart', xy=(15360, 0), xytext=(15360, 250),\n",
    "            arrowprops=dict(facecolor='black'))\n",
    "plt.annotate('Граница бесплатных mb у ultra', xy=(30720, 0), xytext=(30720, 200),\n",
    "            arrowprops=dict(facecolor='black'));\n",
    "display(data.groupby('tariff')['mb_used'].describe())\n",
    "data.groupby('tariff')['mb_used'].var()"
   ]
  },
  {
   "cell_type": "markdown",
   "id": "6a5750ad",
   "metadata": {},
   "source": [
    "А вот с интернет-трафиком дела обстоят иначе: людям с тарифом \"ультра\" в основном хватает 30Гб, и лишь немногие выходят за границы, а среди пользователей \"смарт\" же большая половина превышает этот предел."
   ]
  },
  {
   "cell_type": "markdown",
   "id": "bbaca663",
   "metadata": {},
   "source": [
    "### Распределение пользователей по прибыли в месяц "
   ]
  },
  {
   "cell_type": "code",
   "execution_count": 24,
   "id": "fe873061",
   "metadata": {},
   "outputs": [
    {
     "data": {
      "text/html": [
       "<div>\n",
       "<style scoped>\n",
       "    .dataframe tbody tr th:only-of-type {\n",
       "        vertical-align: middle;\n",
       "    }\n",
       "\n",
       "    .dataframe tbody tr th {\n",
       "        vertical-align: top;\n",
       "    }\n",
       "\n",
       "    .dataframe thead th {\n",
       "        text-align: right;\n",
       "    }\n",
       "</style>\n",
       "<table border=\"1\" class=\"dataframe\">\n",
       "  <thead>\n",
       "    <tr style=\"text-align: right;\">\n",
       "      <th></th>\n",
       "      <th>tariff</th>\n",
       "      <th>count</th>\n",
       "      <th>mean</th>\n",
       "      <th>std</th>\n",
       "      <th>min</th>\n",
       "      <th>25%</th>\n",
       "      <th>50%</th>\n",
       "      <th>75%</th>\n",
       "      <th>max</th>\n",
       "    </tr>\n",
       "  </thead>\n",
       "  <tbody>\n",
       "    <tr>\n",
       "      <th>0</th>\n",
       "      <td>smart</td>\n",
       "      <td>2229.0</td>\n",
       "      <td>1289.973531</td>\n",
       "      <td>818.404367</td>\n",
       "      <td>550.0</td>\n",
       "      <td>550.0</td>\n",
       "      <td>1023.0</td>\n",
       "      <td>1750.0</td>\n",
       "      <td>6770.0</td>\n",
       "    </tr>\n",
       "    <tr>\n",
       "      <th>1</th>\n",
       "      <td>ultra</td>\n",
       "      <td>985.0</td>\n",
       "      <td>2070.152284</td>\n",
       "      <td>376.187114</td>\n",
       "      <td>1950.0</td>\n",
       "      <td>1950.0</td>\n",
       "      <td>1950.0</td>\n",
       "      <td>1950.0</td>\n",
       "      <td>4800.0</td>\n",
       "    </tr>\n",
       "  </tbody>\n",
       "</table>\n",
       "</div>"
      ],
      "text/plain": [
       "  tariff   count         mean         std     min     25%     50%     75%  \\\n",
       "0  smart  2229.0  1289.973531  818.404367   550.0   550.0  1023.0  1750.0   \n",
       "1  ultra   985.0  2070.152284  376.187114  1950.0  1950.0  1950.0  1950.0   \n",
       "\n",
       "      max  \n",
       "0  6770.0  \n",
       "1  4800.0  "
      ]
     },
     "metadata": {},
     "output_type": "display_data"
    },
    {
     "data": {
      "text/plain": [
       "tariff\n",
       "smart    669785.708006\n",
       "ultra    141516.745079\n",
       "Name: profit, dtype: float64"
      ]
     },
     "execution_count": 24,
     "metadata": {},
     "output_type": "execute_result"
    },
    {
     "data": {
      "image/png": "[encoded data removed]",
      "text/plain": [
       "<Figure size 432x288 with 1 Axes>"
      ]
     },
     "metadata": {
      "needs_background": "light"
     },
     "output_type": "display_data"
    }
   ],
   "source": [
    "df_ultra['profit'].plot(kind='hist', bins=10, label='ultra')\n",
    "df_smart['profit'].plot(kind='hist', bins=10, alpha=0.5, label='smart')\n",
    "plt.ylabel('Кол-во пользователей')\n",
    "plt.xlabel('Прибыль')\n",
    "plt.title('Распределение пользователей по прибыли в месяц')\n",
    "plt.legend();\n",
    "display(data.groupby('tariff')['profit'].describe().reset_index())\n",
    "data.groupby('tariff')['profit'].var()"
   ]
  },
  {
   "cell_type": "code",
   "execution_count": 25,
   "id": "11176667",
   "metadata": {},
   "outputs": [],
   "source": [
    "all_ultra_profit = int(data.groupby('tariff')['profit'].describe().reset_index().loc[1,'count'] * \n",
    "                    data.groupby('tariff')['profit'].describe().reset_index().loc[1,'mean'])\n",
    "all_smart_profit = int(data.groupby('tariff')['profit'].describe().reset_index().loc[0,'count'] * \n",
    "                    data.groupby('tariff')['profit'].describe().reset_index().loc[0,'mean'])"
   ]
  },
  {
   "cell_type": "code",
   "execution_count": 26,
   "id": "776ef00e",
   "metadata": {},
   "outputs": [
    {
     "name": "stdout",
     "output_type": "stream",
     "text": [
      "Вцелом, кажется, что прибыль с тарифа \"смарт\" больше, чем с \"ультра\", даже учитывая разницу в кол-ве пользователей каждого тарифа.\n",
      "Так годовая прибыль со всех пользователей \"смарт\" из выборки: 2875351р, а прибыль с \"ультра\": 2039099р, разница составляет: 836252р\n"
     ]
    }
   ],
   "source": [
    "print(f'''Вцелом, кажется, что прибыль с тарифа \"смарт\" больше, чем с \"ультра\", даже учитывая разницу в кол-ве пользователей каждого тарифа.\n",
    "Так годовая прибыль со всех пользователей \"смарт\" из выборки: {all_smart_profit}р, а прибыль с \"ультра\": {all_ultra_profit}р, разница составляет: {abs(all_smart_profit - all_ultra_profit)}р''')"
   ]
  },
  {
   "cell_type": "markdown",
   "id": "811b3393",
   "metadata": {},
   "source": [
    "### Вывод"
   ]
  },
  {
   "cell_type": "markdown",
   "id": "19e3ee5f",
   "metadata": {},
   "source": [
    "Проанализировав дынные можно сделать заключение, что около 70-75% пользователей тарифа \"смарт\" укладываются в лимит тарифа, однако оставшиеся приносят телекому бОльшую прибыль, в то время как пользователи ультра превышают лимит только в интернет-трафике.\n",
    "Средняя прибыль в месяц со \"смарта\" = 1289р, а с \"ультра\" = 2070р"
   ]
  },
  {
   "cell_type": "markdown",
   "id": "542727ac",
   "metadata": {},
   "source": [
    "## Исследование потребности пользователей втечение месяца"
   ]
  },
  {
   "cell_type": "code",
   "execution_count": 27,
   "id": "4b4d36b7",
   "metadata": {},
   "outputs": [
    {
     "data": {
      "image/png": "[encoded data removed]",
      "text/plain": [
       "<Figure size 432x288 with 1 Axes>"
      ]
     },
     "metadata": {
      "needs_background": "light"
     },
     "output_type": "display_data"
    }
   ],
   "source": [
    "df_smart.groupby('month')['minutes_in_month'].mean().plot(label='smart')\n",
    "df_ultra.groupby('month')['minutes_in_month'].mean().plot(grid = True, label='ultra')\n",
    "plt.title('Количество минут в месяц')\n",
    "plt.ylabel('Минуты')\n",
    "plt.xlabel('Месяц')\n",
    "plt.legend();"
   ]
  },
  {
   "cell_type": "code",
   "execution_count": 28,
   "id": "71cc6110",
   "metadata": {},
   "outputs": [
    {
     "data": {
      "image/png": "[encoded data removed]",
      "text/plain": [
       "<Figure size 432x288 with 1 Axes>"
      ]
     },
     "metadata": {
      "needs_background": "light"
     },
     "output_type": "display_data"
    }
   ],
   "source": [
    "df_smart.groupby('month')['mb_used'].mean().plot(label='smart')\n",
    "df_ultra.groupby('month')['mb_used'].mean().plot(grid = True, label='ultra')\n",
    "plt.title('Количество mb в месяц')\n",
    "plt.ylabel('Mb')\n",
    "plt.xlabel('Месяц')\n",
    "plt.legend();"
   ]
  },
  {
   "cell_type": "code",
   "execution_count": 29,
   "id": "16d9a99c",
   "metadata": {},
   "outputs": [
    {
     "data": {
      "image/png": "[encoded data removed]",
      "text/plain": [
       "<Figure size 432x288 with 1 Axes>"
      ]
     },
     "metadata": {
      "needs_background": "light"
     },
     "output_type": "display_data"
    }
   ],
   "source": [
    "df_smart.groupby('month')['message_in_month'].mean().plot(label='smart')\n",
    "df_ultra.groupby('month')['message_in_month'].mean().plot(grid = True, label='ultra')\n",
    "plt.title('Количество смс в месяц')\n",
    "plt.ylabel('Смс')\n",
    "plt.xlabel('Месяц')\n",
    "plt.legend();"
   ]
  },
  {
   "cell_type": "code",
   "execution_count": 30,
   "id": "392452e0",
   "metadata": {},
   "outputs": [
    {
     "data": {
      "image/png": "[encoded data removed]",
      "text/plain": [
       "<Figure size 432x288 with 1 Axes>"
      ]
     },
     "metadata": {
      "needs_background": "light"
     },
     "output_type": "display_data"
    }
   ],
   "source": [
    "df_smart.groupby('month')['profit'].mean().plot(label='smart')\n",
    "df_ultra.groupby('month')['profit'].mean().plot(grid = True, label='ultra')\n",
    "plt.title('Количество прибыли в месяц')\n",
    "plt.ylabel('Прибыль')\n",
    "plt.xlabel('Месяц')\n",
    "plt.legend();"
   ]
  },
  {
   "cell_type": "markdown",
   "id": "490194c1",
   "metadata": {},
   "source": [
    "### Вывод"
   ]
  },
  {
   "cell_type": "markdown",
   "id": "a177f9f4",
   "metadata": {},
   "source": [
    "Вцелом видно, что потребности пользователей обоих тарифов, как и прибыль с каждого, в течение года возрастает, достигая пика в декабре."
   ]
  },
  {
   "cell_type": "markdown",
   "id": "440f25d3",
   "metadata": {},
   "source": [
    "## Гипотезы"
   ]
  },
  {
   "cell_type": "markdown",
   "id": "f470a4b2",
   "metadata": {},
   "source": [
    "Перед проверкой гипотез необходимо избавиться от выбросов, так как они могут повлиять на результаты"
   ]
  },
  {
   "cell_type": "code",
   "execution_count": 31,
   "id": "0785dda0",
   "metadata": {},
   "outputs": [],
   "source": [
    "columns = ['message_in_month','minutes_in_month','mb_used','profit']\n",
    "def boxplot_df(data, columns):\n",
    "    i = 1\n",
    "    for column in columns:\n",
    "        plt.subplot (2, 2, i)\n",
    "        data[column].plot(kind='box', figsize=(10,10), grid=True)\n",
    "        plt.ylabel('Частота')\n",
    "        i +=1  \n"
   ]
  },
  {
   "cell_type": "code",
   "execution_count": 32,
   "id": "d8007327",
   "metadata": {},
   "outputs": [
    {
     "data": {
      "image/png": "[encoded data removed]",
      "text/plain": [
       "<Figure size 720x720 with 4 Axes>"
      ]
     },
     "metadata": {
      "needs_background": "light"
     },
     "output_type": "display_data"
    }
   ],
   "source": [
    "boxplot_df(df_ultra, columns)\n",
    "plt.suptitle('Диаграма размаха тарифа \"ultra\"',y = 0.94, fontsize = 20);"
   ]
  },
  {
   "cell_type": "markdown",
   "id": "067a614d",
   "metadata": {},
   "source": [
    "Хотя размах прибыли \"ультра\" и выглядит подозрительно, но не стоит удивляться, ведь колоссальная доля клиентов не выходит за рамки абонентской платы"
   ]
  },
  {
   "cell_type": "code",
   "execution_count": 33,
   "id": "8f774234",
   "metadata": {},
   "outputs": [
    {
     "data": {
      "image/png": "[encoded data removed]",
      "text/plain": [
       "<Figure size 720x720 with 4 Axes>"
      ]
     },
     "metadata": {
      "needs_background": "light"
     },
     "output_type": "display_data"
    }
   ],
   "source": [
    "boxplot_df(df_smart, columns)\n",
    "plt.suptitle('Диаграма размаха тарифа \"smart\"',y = 0.94, fontsize = 20);"
   ]
  },
  {
   "cell_type": "markdown",
   "id": "4c44180e",
   "metadata": {},
   "source": [
    "Удалим выбросы!"
   ]
  },
  {
   "cell_type": "code",
   "execution_count": 34,
   "id": "c9cea039",
   "metadata": {},
   "outputs": [],
   "source": [
    "# Сделал её немного более общей. М.б. пригодится в других исследованиях.\n",
    "def remove_outliers(data, columns):\n",
    "    for column in columns:\n",
    "        q_1,q_3 = data[column].quantile([0.25,0.75])\n",
    "        iqr = q_3 - q_1\n",
    "        low = q_1 - (1.5 * iqr)   \n",
    "        up = q_3 + (1.5 * iqr)\n",
    "        data = data[(data[column] <= up) & (data[column] >= low)]\n",
    "    return data\n",
    "\n",
    "df_smart = remove_outliers(df_smart,['profit'])\n",
    "df_ultra = remove_outliers(df_ultra, ['profit'])"
   ]
  },
  {
   "cell_type": "markdown",
   "id": "465b7f4a",
   "metadata": {},
   "source": [
    "### Гипотеза о равенстве выручек \"смарт\" и \"ультра\""
   ]
  },
  {
   "cell_type": "markdown",
   "id": "0cc3a3a5",
   "metadata": {},
   "source": [
    "Так как выборки независимы, а, благодаря ЦПТ мы знаем, что выборочные средние нормально распределены вокруг истинного среднего, применим тест Стьюдента для сравнения двух генеральных совокупностей\n",
    "\n",
    "H0: cредняя выручка пользователей \"смарт\" и \"ультра\" одинаковы;\n",
    "H1: средняя выручка пользователей \"смарт\" и \"ультра\" различаются;"
   ]
  },
  {
   "cell_type": "code",
   "execution_count": 35,
   "id": "e4afd941",
   "metadata": {},
   "outputs": [
    {
     "name": "stdout",
     "output_type": "stream",
     "text": [
      " p-value = 6.199325734910117e-155\n",
      "Отвергаем нулевую гипотезу\n"
     ]
    }
   ],
   "source": [
    "alpha = 0.05\n",
    "result = st.ttest_ind(df_smart['profit'], df_ultra['profit'])\n",
    "\n",
    "print(f' p-value = {result.pvalue}')\n",
    "if result.pvalue < alpha:\n",
    "    print('Отвергаем нулевую гипотезу')\n",
    "else:\n",
    "    print('Не удалось отвергнуть нулевую гипотезу')"
   ]
  },
  {
   "cell_type": "markdown",
   "id": "0c51c596",
   "metadata": {},
   "source": [
    "#### Вывод"
   ]
  },
  {
   "cell_type": "code",
   "execution_count": 36,
   "id": "9221d909",
   "metadata": {},
   "outputs": [
    {
     "name": "stdout",
     "output_type": "stream",
     "text": [
      "Полученное значение p-value говорит о том, что вероятность получить такое различие случайно = 0.00%\n",
      "Опровергаем нулевую теорию. Данная разница не случайна, прибыль с тарифов отличается.\n"
     ]
    }
   ],
   "source": [
    "print(f'''Полученное значение p-value говорит о том, что вероятность получить такое различие случайно = {result.pvalue:.2%}\n",
    "Опровергаем нулевую теорию. Данная разница не случайна, прибыль с тарифов отличается.''')"
   ]
  },
  {
   "cell_type": "markdown",
   "id": "6963dff6",
   "metadata": {},
   "source": [
    "### Гипотеза о равенстве выручек пользователей из Москвы и других регионов "
   ]
  },
  {
   "cell_type": "markdown",
   "id": "a57aa13a",
   "metadata": {},
   "source": [
    "H0: cредняя выручка пользователей из Москвы и других регионов одинаковы;\n",
    "H1: средняя выручка пользователей из Москвы и других регионов различаются;"
   ]
  },
  {
   "cell_type": "code",
   "execution_count": 37,
   "id": "487c1144",
   "metadata": {},
   "outputs": [
    {
     "data": {
      "text/plain": [
       "array(['Набережные Челны', 'Ульяновск', 'Улан-Удэ', 'Казань', 'Омск',\n",
       "       'Чита', 'Краснодар', 'Санкт-Петербург', 'Красноярск',\n",
       "       'Архангельск', 'Ставрополь', 'Кострома', 'Волгоград', 'Тамбов',\n",
       "       'Москва', 'Киров', 'Ростов-на-Дону', 'Уфа', 'Вологда', 'Пенза',\n",
       "       'Магнитогорск', 'Иркутск', 'Орёл', 'Астрахань', 'Подольск',\n",
       "       'Ярославль', 'Новокузнецк', 'Нижний Тагил', 'Мурманск', 'Самара',\n",
       "       'Воронеж', 'Пермь', 'Саранск', 'Новосибирск', 'Владивосток',\n",
       "       'Нижний Новгород', 'Новороссийск', 'Брянск', 'Челябинск',\n",
       "       'Калининград', 'Барнаул', 'Якутск', 'Тольятти', 'Курган', 'Томск',\n",
       "       'Балашиха', 'Саратов', 'Петрозаводск', 'Тюмень', 'Курск', 'Тула',\n",
       "       'Сочи', 'Оренбург', 'Смоленск', 'Хабаровск', 'Рязань', 'Махачкала',\n",
       "       'Тверь', 'Ижевск', 'Чебоксары', 'Белгород', 'Череповец',\n",
       "       'Стерлитамак', 'Владимир', 'Волжский', 'Калуга', 'Екатеринбург',\n",
       "       'Севастополь', 'Нижневартовск', 'Грозный', 'Владикавказ', 'Химки',\n",
       "       'Сургут', 'Липецк', 'Кемерово', 'Иваново'], dtype=object)"
      ]
     },
     "execution_count": 37,
     "metadata": {},
     "output_type": "execute_result"
    }
   ],
   "source": [
    "data['city'].unique() # дубликатов нет"
   ]
  },
  {
   "cell_type": "code",
   "execution_count": 38,
   "id": "813f7ed6",
   "metadata": {},
   "outputs": [
    {
     "data": {
      "text/html": [
       "<div>\n",
       "<style scoped>\n",
       "    .dataframe tbody tr th:only-of-type {\n",
       "        vertical-align: middle;\n",
       "    }\n",
       "\n",
       "    .dataframe tbody tr th {\n",
       "        vertical-align: top;\n",
       "    }\n",
       "\n",
       "    .dataframe thead th {\n",
       "        text-align: right;\n",
       "    }\n",
       "</style>\n",
       "<table border=\"1\" class=\"dataframe\">\n",
       "  <thead>\n",
       "    <tr style=\"text-align: right;\">\n",
       "      <th></th>\n",
       "      <th>month</th>\n",
       "      <th>user_id</th>\n",
       "      <th>minutes_in_month</th>\n",
       "      <th>calls_in_month</th>\n",
       "      <th>message_in_month</th>\n",
       "      <th>mb_used</th>\n",
       "      <th>tariff</th>\n",
       "      <th>city</th>\n",
       "      <th>messages_included</th>\n",
       "      <th>profit</th>\n",
       "      <th>mb_per_month_included</th>\n",
       "      <th>minutes_included</th>\n",
       "      <th>rub_monthly_fee</th>\n",
       "      <th>rub_per_gb</th>\n",
       "      <th>rub_per_message</th>\n",
       "      <th>rub_per_minute</th>\n",
       "      <th>region</th>\n",
       "    </tr>\n",
       "  </thead>\n",
       "  <tbody>\n",
       "    <tr>\n",
       "      <th>0</th>\n",
       "      <td>1</td>\n",
       "      <td>1005</td>\n",
       "      <td>95.0</td>\n",
       "      <td>15</td>\n",
       "      <td>7</td>\n",
       "      <td>2727.97</td>\n",
       "      <td>smart</td>\n",
       "      <td>Набережные Челны</td>\n",
       "      <td>50</td>\n",
       "      <td>550.0</td>\n",
       "      <td>15360</td>\n",
       "      <td>500</td>\n",
       "      <td>550</td>\n",
       "      <td>200</td>\n",
       "      <td>3</td>\n",
       "      <td>3</td>\n",
       "      <td>Другой регион</td>\n",
       "    </tr>\n",
       "    <tr>\n",
       "      <th>1</th>\n",
       "      <td>1</td>\n",
       "      <td>1032</td>\n",
       "      <td>380.0</td>\n",
       "      <td>61</td>\n",
       "      <td>38</td>\n",
       "      <td>24127.69</td>\n",
       "      <td>smart</td>\n",
       "      <td>Ульяновск</td>\n",
       "      <td>50</td>\n",
       "      <td>2350.0</td>\n",
       "      <td>15360</td>\n",
       "      <td>500</td>\n",
       "      <td>550</td>\n",
       "      <td>200</td>\n",
       "      <td>3</td>\n",
       "      <td>3</td>\n",
       "      <td>Другой регион</td>\n",
       "    </tr>\n",
       "    <tr>\n",
       "      <th>2</th>\n",
       "      <td>1</td>\n",
       "      <td>1045</td>\n",
       "      <td>9.0</td>\n",
       "      <td>1</td>\n",
       "      <td>5</td>\n",
       "      <td>2346.71</td>\n",
       "      <td>smart</td>\n",
       "      <td>Улан-Удэ</td>\n",
       "      <td>50</td>\n",
       "      <td>550.0</td>\n",
       "      <td>15360</td>\n",
       "      <td>500</td>\n",
       "      <td>550</td>\n",
       "      <td>200</td>\n",
       "      <td>3</td>\n",
       "      <td>3</td>\n",
       "      <td>Другой регион</td>\n",
       "    </tr>\n",
       "    <tr>\n",
       "      <th>3</th>\n",
       "      <td>1</td>\n",
       "      <td>1055</td>\n",
       "      <td>551.0</td>\n",
       "      <td>64</td>\n",
       "      <td>30</td>\n",
       "      <td>17090.88</td>\n",
       "      <td>smart</td>\n",
       "      <td>Казань</td>\n",
       "      <td>50</td>\n",
       "      <td>1103.0</td>\n",
       "      <td>15360</td>\n",
       "      <td>500</td>\n",
       "      <td>550</td>\n",
       "      <td>200</td>\n",
       "      <td>3</td>\n",
       "      <td>3</td>\n",
       "      <td>Другой регион</td>\n",
       "    </tr>\n",
       "    <tr>\n",
       "      <th>4</th>\n",
       "      <td>1</td>\n",
       "      <td>1071</td>\n",
       "      <td>194.0</td>\n",
       "      <td>24</td>\n",
       "      <td>16</td>\n",
       "      <td>15604.34</td>\n",
       "      <td>smart</td>\n",
       "      <td>Омск</td>\n",
       "      <td>50</td>\n",
       "      <td>750.0</td>\n",
       "      <td>15360</td>\n",
       "      <td>500</td>\n",
       "      <td>550</td>\n",
       "      <td>200</td>\n",
       "      <td>3</td>\n",
       "      <td>3</td>\n",
       "      <td>Другой регион</td>\n",
       "    </tr>\n",
       "    <tr>\n",
       "      <th>...</th>\n",
       "      <td>...</td>\n",
       "      <td>...</td>\n",
       "      <td>...</td>\n",
       "      <td>...</td>\n",
       "      <td>...</td>\n",
       "      <td>...</td>\n",
       "      <td>...</td>\n",
       "      <td>...</td>\n",
       "      <td>...</td>\n",
       "      <td>...</td>\n",
       "      <td>...</td>\n",
       "      <td>...</td>\n",
       "      <td>...</td>\n",
       "      <td>...</td>\n",
       "      <td>...</td>\n",
       "      <td>...</td>\n",
       "      <td>...</td>\n",
       "    </tr>\n",
       "    <tr>\n",
       "      <th>3209</th>\n",
       "      <td>12</td>\n",
       "      <td>1231</td>\n",
       "      <td>0.0</td>\n",
       "      <td>0</td>\n",
       "      <td>191</td>\n",
       "      <td>32448.00</td>\n",
       "      <td>ultra</td>\n",
       "      <td>Чебоксары</td>\n",
       "      <td>1000</td>\n",
       "      <td>2250.0</td>\n",
       "      <td>30720</td>\n",
       "      <td>3000</td>\n",
       "      <td>1950</td>\n",
       "      <td>150</td>\n",
       "      <td>1</td>\n",
       "      <td>1</td>\n",
       "      <td>Другой регион</td>\n",
       "    </tr>\n",
       "    <tr>\n",
       "      <th>3210</th>\n",
       "      <td>12</td>\n",
       "      <td>1328</td>\n",
       "      <td>0.0</td>\n",
       "      <td>0</td>\n",
       "      <td>7</td>\n",
       "      <td>39419.73</td>\n",
       "      <td>ultra</td>\n",
       "      <td>Мурманск</td>\n",
       "      <td>1000</td>\n",
       "      <td>3300.0</td>\n",
       "      <td>30720</td>\n",
       "      <td>3000</td>\n",
       "      <td>1950</td>\n",
       "      <td>150</td>\n",
       "      <td>1</td>\n",
       "      <td>1</td>\n",
       "      <td>Другой регион</td>\n",
       "    </tr>\n",
       "    <tr>\n",
       "      <th>3211</th>\n",
       "      <td>12</td>\n",
       "      <td>1473</td>\n",
       "      <td>0.0</td>\n",
       "      <td>0</td>\n",
       "      <td>20</td>\n",
       "      <td>18418.26</td>\n",
       "      <td>ultra</td>\n",
       "      <td>Красноярск</td>\n",
       "      <td>1000</td>\n",
       "      <td>1950.0</td>\n",
       "      <td>30720</td>\n",
       "      <td>3000</td>\n",
       "      <td>1950</td>\n",
       "      <td>150</td>\n",
       "      <td>1</td>\n",
       "      <td>1</td>\n",
       "      <td>Другой регион</td>\n",
       "    </tr>\n",
       "    <tr>\n",
       "      <th>3212</th>\n",
       "      <td>12</td>\n",
       "      <td>1489</td>\n",
       "      <td>0.0</td>\n",
       "      <td>0</td>\n",
       "      <td>35</td>\n",
       "      <td>17322.51</td>\n",
       "      <td>smart</td>\n",
       "      <td>Санкт-Петербург</td>\n",
       "      <td>50</td>\n",
       "      <td>950.0</td>\n",
       "      <td>15360</td>\n",
       "      <td>500</td>\n",
       "      <td>550</td>\n",
       "      <td>200</td>\n",
       "      <td>3</td>\n",
       "      <td>3</td>\n",
       "      <td>Другой регион</td>\n",
       "    </tr>\n",
       "    <tr>\n",
       "      <th>3213</th>\n",
       "      <td>4</td>\n",
       "      <td>1476</td>\n",
       "      <td>0.0</td>\n",
       "      <td>0</td>\n",
       "      <td>0</td>\n",
       "      <td>530.78</td>\n",
       "      <td>ultra</td>\n",
       "      <td>Москва</td>\n",
       "      <td>1000</td>\n",
       "      <td>1950.0</td>\n",
       "      <td>30720</td>\n",
       "      <td>3000</td>\n",
       "      <td>1950</td>\n",
       "      <td>150</td>\n",
       "      <td>1</td>\n",
       "      <td>1</td>\n",
       "      <td>Москва</td>\n",
       "    </tr>\n",
       "  </tbody>\n",
       "</table>\n",
       "<p>3214 rows × 17 columns</p>\n",
       "</div>"
      ],
      "text/plain": [
       "      month  user_id  minutes_in_month  calls_in_month  message_in_month  \\\n",
       "0         1     1005              95.0              15                 7   \n",
       "1         1     1032             380.0              61                38   \n",
       "2         1     1045               9.0               1                 5   \n",
       "3         1     1055             551.0              64                30   \n",
       "4         1     1071             194.0              24                16   \n",
       "...     ...      ...               ...             ...               ...   \n",
       "3209     12     1231               0.0               0               191   \n",
       "3210     12     1328               0.0               0                 7   \n",
       "3211     12     1473               0.0               0                20   \n",
       "3212     12     1489               0.0               0                35   \n",
       "3213      4     1476               0.0               0                 0   \n",
       "\n",
       "       mb_used tariff              city  messages_included  profit  \\\n",
       "0      2727.97  smart  Набережные Челны                 50   550.0   \n",
       "1     24127.69  smart         Ульяновск                 50  2350.0   \n",
       "2      2346.71  smart          Улан-Удэ                 50   550.0   \n",
       "3     17090.88  smart            Казань                 50  1103.0   \n",
       "4     15604.34  smart              Омск                 50   750.0   \n",
       "...        ...    ...               ...                ...     ...   \n",
       "3209  32448.00  ultra         Чебоксары               1000  2250.0   \n",
       "3210  39419.73  ultra          Мурманск               1000  3300.0   \n",
       "3211  18418.26  ultra        Красноярск               1000  1950.0   \n",
       "3212  17322.51  smart   Санкт-Петербург                 50   950.0   \n",
       "3213    530.78  ultra            Москва               1000  1950.0   \n",
       "\n",
       "      mb_per_month_included  minutes_included  rub_monthly_fee  rub_per_gb  \\\n",
       "0                     15360               500              550         200   \n",
       "1                     15360               500              550         200   \n",
       "2                     15360               500              550         200   \n",
       "3                     15360               500              550         200   \n",
       "4                     15360               500              550         200   \n",
       "...                     ...               ...              ...         ...   \n",
       "3209                  30720              3000             1950         150   \n",
       "3210                  30720              3000             1950         150   \n",
       "3211                  30720              3000             1950         150   \n",
       "3212                  15360               500              550         200   \n",
       "3213                  30720              3000             1950         150   \n",
       "\n",
       "      rub_per_message  rub_per_minute         region  \n",
       "0                   3               3  Другой регион  \n",
       "1                   3               3  Другой регион  \n",
       "2                   3               3  Другой регион  \n",
       "3                   3               3  Другой регион  \n",
       "4                   3               3  Другой регион  \n",
       "...               ...             ...            ...  \n",
       "3209                1               1  Другой регион  \n",
       "3210                1               1  Другой регион  \n",
       "3211                1               1  Другой регион  \n",
       "3212                3               3  Другой регион  \n",
       "3213                1               1         Москва  \n",
       "\n",
       "[3214 rows x 17 columns]"
      ]
     },
     "execution_count": 38,
     "metadata": {},
     "output_type": "execute_result"
    }
   ],
   "source": [
    "data['region'] = data['city'].where(data['city'] == 'Москва', 'Другой регион')\n",
    "data"
   ]
  },
  {
   "cell_type": "code",
   "execution_count": 39,
   "id": "9a89db3e",
   "metadata": {},
   "outputs": [],
   "source": [
    "df_moscow = remove_outliers(data.query('region == \"Москва\"'), ['profit'])\n",
    "df_other = remove_outliers(data.query('region == \"Другой регион\"'), ['profit'])"
   ]
  },
  {
   "cell_type": "code",
   "execution_count": 40,
   "id": "6fe08b2a",
   "metadata": {},
   "outputs": [
    {
     "name": "stdout",
     "output_type": "stream",
     "text": [
      "p-value = 0.29404256281786206\n",
      "Не удалось отвергнуть нулевую гипотезу\n"
     ]
    }
   ],
   "source": [
    "alpha = 0.05\n",
    "result = st.ttest_ind(df_moscow['profit'], df_other['profit'])\n",
    "print(f'p-value = {result.pvalue}')\n",
    "if result.pvalue < alpha:\n",
    "    print('Отвергаем нулевую гипотезу')\n",
    "else:\n",
    "    print('Не удалось отвергнуть нулевую гипотезу')"
   ]
  },
  {
   "cell_type": "markdown",
   "id": "849f9576",
   "metadata": {},
   "source": [
    "#### Вывод"
   ]
  },
  {
   "cell_type": "code",
   "execution_count": 41,
   "id": "0ffbd596",
   "metadata": {},
   "outputs": [
    {
     "name": "stdout",
     "output_type": "stream",
     "text": [
      "Шанс случайно получить такое различие значений выборки из генеральной совокупности = 29.40%, \n",
      "что слишком велико для случайности, по-этому отвергнуть теорию о равности прибыли у клиентов из Москвы и других нерионов нельзя\n"
     ]
    }
   ],
   "source": [
    "print(f'''Шанс случайно получить такое различие значений выборки из генеральной совокупности = {result.pvalue:.2%}, \n",
    "что слишком велико для случайности, по-этому отвергнуть теорию о равности прибыли у клиентов из Москвы и других нерионов нельзя''')"
   ]
  },
  {
   "cell_type": "markdown",
   "id": "0dc67137",
   "metadata": {},
   "source": [
    "## Выводы по исследовательскому анализу"
   ]
  },
  {
   "cell_type": "markdown",
   "id": "72111db0",
   "metadata": {},
   "source": [
    "Мы исследовали данные пользователей телеком компании \"Мегалайн\", посчитали и добивили выручку в месяц с каждого пользователя и выяснили, что около 70-75% пользователей тарифа \"смарт\" укладываются в лимит тарифа, однако оставшиеся приносят телекому бОльшую прибыль, в то время как пользователи ультра превышают лимит только в интернет-трафике.\n",
    "Так же мы провели статистические тесты и выяснили, что выручка с пользователей тарифов \"смарт\" и \"ультра\" различается, а вот гипотезу, что выручка с москвичей и жителей других регионов одинаковы, мы не смогли опровергнуть, так как p_value слишком высок.\n",
    "\n",
    "Средняя прибыль в месяц с клиента \"смарта\" = 1289р, а с \"ультра\" = 2070р. Таким образом, зная что годовая прибыль со всех пользователей \"смарт\" из выборки: 2875351р, а прибыль с \"ультра\": 2039099р и разница составляет: 836252р, делаем вывод, что тариф Смарт приносит больше прибыли компании."
   ]
  },
  {
   "cell_type": "markdown",
   "id": "d336ba2d",
   "metadata": {},
   "source": [
    "# Рекомендательная система тарифных планов"
   ]
  },
  {
   "cell_type": "markdown",
   "id": "779688c8-4757-4d32-8f14-af45d8982707",
   "metadata": {},
   "source": [
    "Оператор мобильной связи «Мегалайн» выяснил: многие клиенты пользуются архивными тарифами. Они хотят построить систему, способную проанализировать поведение   клиентов и предложить пользователям новый тариф: «Смарт» или «Ультра».    \n",
    "В вашем распоряжении данные о поведении клиентов, которые уже перешли на эти тарифы (из проекта курса «Статистический анализ данных»). Нужно построить модель для задачи классификации, которая выберет подходящий тариф."
   ]
  },
  {
   "cell_type": "markdown",
   "id": "ee10c336",
   "metadata": {},
   "source": [
    "## Подготовка данных"
   ]
  },
  {
   "cell_type": "markdown",
   "id": "9cd66dc7",
   "metadata": {},
   "source": [
    "Для начала оставим только нужные столбцы для данной цели"
   ]
  },
  {
   "cell_type": "markdown",
   "id": "756463d5",
   "metadata": {},
   "source": [
    "**сalls** — количество звонков,  \n",
    "**minutes** — суммарная длительность звонков в минутах,  \n",
    "**messages** — количество sms-сообщений,  \n",
    "**mb_used** — израсходованный интернет-трафик в Мб,  \n",
    "**is_ultra** — каким тарифом пользовался в течение месяца («Ультра» — 1, «Смарт» — 0). "
   ]
  },
  {
   "cell_type": "code",
   "execution_count": 42,
   "id": "68c0cba2",
   "metadata": {},
   "outputs": [],
   "source": [
    "df = data[['calls_in_month','minutes_in_month','message_in_month','mb_used','tariff']].copy()"
   ]
  },
  {
   "cell_type": "code",
   "execution_count": 43,
   "id": "e4ddc816",
   "metadata": {},
   "outputs": [],
   "source": [
    "df.columns = ['calls','minutes','messages','mb_used','is_ultra']"
   ]
  },
  {
   "cell_type": "code",
   "execution_count": 44,
   "id": "d367f86c",
   "metadata": {},
   "outputs": [],
   "source": [
    "df['is_ultra'].replace('smart', 0, inplace=True)\n",
    "df['is_ultra'].replace('ultra', 1, inplace=True)"
   ]
  },
  {
   "cell_type": "code",
   "execution_count": 45,
   "id": "e198dab3",
   "metadata": {},
   "outputs": [
    {
     "data": {
      "text/html": [
       "<div>\n",
       "<style scoped>\n",
       "    .dataframe tbody tr th:only-of-type {\n",
       "        vertical-align: middle;\n",
       "    }\n",
       "\n",
       "    .dataframe tbody tr th {\n",
       "        vertical-align: top;\n",
       "    }\n",
       "\n",
       "    .dataframe thead th {\n",
       "        text-align: right;\n",
       "    }\n",
       "</style>\n",
       "<table border=\"1\" class=\"dataframe\">\n",
       "  <thead>\n",
       "    <tr style=\"text-align: right;\">\n",
       "      <th></th>\n",
       "      <th>calls</th>\n",
       "      <th>minutes</th>\n",
       "      <th>messages</th>\n",
       "      <th>mb_used</th>\n",
       "      <th>is_ultra</th>\n",
       "    </tr>\n",
       "  </thead>\n",
       "  <tbody>\n",
       "    <tr>\n",
       "      <th>0</th>\n",
       "      <td>15</td>\n",
       "      <td>95.0</td>\n",
       "      <td>7</td>\n",
       "      <td>2727.97</td>\n",
       "      <td>0</td>\n",
       "    </tr>\n",
       "    <tr>\n",
       "      <th>1</th>\n",
       "      <td>61</td>\n",
       "      <td>380.0</td>\n",
       "      <td>38</td>\n",
       "      <td>24127.69</td>\n",
       "      <td>0</td>\n",
       "    </tr>\n",
       "    <tr>\n",
       "      <th>2</th>\n",
       "      <td>1</td>\n",
       "      <td>9.0</td>\n",
       "      <td>5</td>\n",
       "      <td>2346.71</td>\n",
       "      <td>0</td>\n",
       "    </tr>\n",
       "    <tr>\n",
       "      <th>3</th>\n",
       "      <td>64</td>\n",
       "      <td>551.0</td>\n",
       "      <td>30</td>\n",
       "      <td>17090.88</td>\n",
       "      <td>0</td>\n",
       "    </tr>\n",
       "    <tr>\n",
       "      <th>4</th>\n",
       "      <td>24</td>\n",
       "      <td>194.0</td>\n",
       "      <td>16</td>\n",
       "      <td>15604.34</td>\n",
       "      <td>0</td>\n",
       "    </tr>\n",
       "    <tr>\n",
       "      <th>...</th>\n",
       "      <td>...</td>\n",
       "      <td>...</td>\n",
       "      <td>...</td>\n",
       "      <td>...</td>\n",
       "      <td>...</td>\n",
       "    </tr>\n",
       "    <tr>\n",
       "      <th>3209</th>\n",
       "      <td>0</td>\n",
       "      <td>0.0</td>\n",
       "      <td>191</td>\n",
       "      <td>32448.00</td>\n",
       "      <td>1</td>\n",
       "    </tr>\n",
       "    <tr>\n",
       "      <th>3210</th>\n",
       "      <td>0</td>\n",
       "      <td>0.0</td>\n",
       "      <td>7</td>\n",
       "      <td>39419.73</td>\n",
       "      <td>1</td>\n",
       "    </tr>\n",
       "    <tr>\n",
       "      <th>3211</th>\n",
       "      <td>0</td>\n",
       "      <td>0.0</td>\n",
       "      <td>20</td>\n",
       "      <td>18418.26</td>\n",
       "      <td>1</td>\n",
       "    </tr>\n",
       "    <tr>\n",
       "      <th>3212</th>\n",
       "      <td>0</td>\n",
       "      <td>0.0</td>\n",
       "      <td>35</td>\n",
       "      <td>17322.51</td>\n",
       "      <td>0</td>\n",
       "    </tr>\n",
       "    <tr>\n",
       "      <th>3213</th>\n",
       "      <td>0</td>\n",
       "      <td>0.0</td>\n",
       "      <td>0</td>\n",
       "      <td>530.78</td>\n",
       "      <td>1</td>\n",
       "    </tr>\n",
       "  </tbody>\n",
       "</table>\n",
       "<p>3214 rows × 5 columns</p>\n",
       "</div>"
      ],
      "text/plain": [
       "      calls  minutes  messages   mb_used  is_ultra\n",
       "0        15     95.0         7   2727.97         0\n",
       "1        61    380.0        38  24127.69         0\n",
       "2         1      9.0         5   2346.71         0\n",
       "3        64    551.0        30  17090.88         0\n",
       "4        24    194.0        16  15604.34         0\n",
       "...     ...      ...       ...       ...       ...\n",
       "3209      0      0.0       191  32448.00         1\n",
       "3210      0      0.0         7  39419.73         1\n",
       "3211      0      0.0        20  18418.26         1\n",
       "3212      0      0.0        35  17322.51         0\n",
       "3213      0      0.0         0    530.78         1\n",
       "\n",
       "[3214 rows x 5 columns]"
      ]
     },
     "execution_count": 45,
     "metadata": {},
     "output_type": "execute_result"
    }
   ],
   "source": [
    "df"
   ]
  },
  {
   "cell_type": "code",
   "execution_count": 46,
   "id": "affe97de",
   "metadata": {},
   "outputs": [
    {
     "name": "stdout",
     "output_type": "stream",
     "text": [
      "<class 'pandas.core.frame.DataFrame'>\n",
      "Int64Index: 3214 entries, 0 to 3213\n",
      "Data columns (total 5 columns):\n",
      " #   Column    Non-Null Count  Dtype  \n",
      "---  ------    --------------  -----  \n",
      " 0   calls     3214 non-null   int32  \n",
      " 1   minutes   3214 non-null   float64\n",
      " 2   messages  3214 non-null   int32  \n",
      " 3   mb_used   3214 non-null   float64\n",
      " 4   is_ultra  3214 non-null   int64  \n",
      "dtypes: float64(2), int32(2), int64(1)\n",
      "memory usage: 125.5 KB\n"
     ]
    }
   ],
   "source": [
    "df.info()"
   ]
  },
  {
   "cell_type": "code",
   "execution_count": 47,
   "id": "7dec0dbf",
   "metadata": {},
   "outputs": [
    {
     "data": {
      "text/plain": [
       "calls       0\n",
       "minutes     0\n",
       "messages    0\n",
       "mb_used     0\n",
       "is_ultra    0\n",
       "dtype: int64"
      ]
     },
     "execution_count": 47,
     "metadata": {},
     "output_type": "execute_result"
    }
   ],
   "source": [
    "df.isna().sum()"
   ]
  },
  {
   "cell_type": "code",
   "execution_count": 48,
   "id": "d6e85fb5",
   "metadata": {},
   "outputs": [
    {
     "data": {
      "text/plain": [
       "0"
      ]
     },
     "execution_count": 48,
     "metadata": {},
     "output_type": "execute_result"
    }
   ],
   "source": [
    "df.duplicated().sum()"
   ]
  },
  {
   "cell_type": "code",
   "execution_count": 49,
   "id": "d57d3f9d",
   "metadata": {},
   "outputs": [
    {
     "data": {
      "image/png": "[encoded data removed]",
      "text/plain": [
       "<Figure size 432x288 with 1 Axes>"
      ]
     },
     "metadata": {
      "needs_background": "light"
     },
     "output_type": "display_data"
    }
   ],
   "source": [
    "df_ultra = df.query('is_ultra == 1')\n",
    "df_ultra.plot(kind='box');"
   ]
  },
  {
   "cell_type": "code",
   "execution_count": 50,
   "id": "d7a8d69e",
   "metadata": {},
   "outputs": [
    {
     "data": {
      "image/png": "[encoded data removed]",
      "text/plain": [
       "<Figure size 432x288 with 1 Axes>"
      ]
     },
     "metadata": {
      "needs_background": "light"
     },
     "output_type": "display_data"
    }
   ],
   "source": [
    "df_smart = df.query('is_ultra == 0')\n",
    "df_smart.plot(kind='box');"
   ]
  },
  {
   "cell_type": "markdown",
   "id": "0856201e",
   "metadata": {},
   "source": [
    "Хотя нам и сказали, что предобработка не требуется, но у нас всё же имеются выбросы у смарт, удалим их для лучшего обучения, т.к. моделе будет проще находить типичных пользователей, чем редких"
   ]
  },
  {
   "cell_type": "code",
   "execution_count": 51,
   "id": "54a9a23c",
   "metadata": {},
   "outputs": [],
   "source": [
    "def remove_outliers(data):\n",
    "    for column in data:\n",
    "        q_1,q_3 = data[column].quantile([0.25,0.75])\n",
    "        iqr = q_3 - q_1\n",
    "        low = q_1 - (1.5 * iqr)   \n",
    "        up = q_3 + (1.5 * iqr)\n",
    "        data = data[(data[column] <= up) & (data[column] >= low)]\n",
    "    return data\n",
    "\n",
    "df_smart = remove_outliers(df_smart)\n",
    "df_ultra = remove_outliers(df_ultra)"
   ]
  },
  {
   "cell_type": "code",
   "execution_count": 52,
   "id": "31565370",
   "metadata": {},
   "outputs": [
    {
     "data": {
      "image/png": "[encoded data removed]",
      "text/plain": [
       "<Figure size 432x288 with 1 Axes>"
      ]
     },
     "metadata": {
      "needs_background": "light"
     },
     "output_type": "display_data"
    }
   ],
   "source": [
    "df_ultra.plot(kind='box');"
   ]
  },
  {
   "cell_type": "code",
   "execution_count": 53,
   "id": "c3330d4b",
   "metadata": {},
   "outputs": [
    {
     "data": {
      "image/png": "[encoded data removed]",
      "text/plain": [
       "<Figure size 432x288 with 1 Axes>"
      ]
     },
     "metadata": {
      "needs_background": "light"
     },
     "output_type": "display_data"
    }
   ],
   "source": [
    "df_smart.plot(kind='box');"
   ]
  },
  {
   "cell_type": "code",
   "execution_count": 54,
   "id": "bf87d4ab",
   "metadata": {},
   "outputs": [],
   "source": [
    "df = df_ultra.append(df_smart)"
   ]
  },
  {
   "cell_type": "markdown",
   "id": "19e49ea8-412a-4be8-b7d0-51bfa9a397df",
   "metadata": {},
   "source": [
    "Переведем МБ в ГБ для удобства и чтобы интернет-трафик не казался наиболее важным параметром"
   ]
  },
  {
   "cell_type": "code",
   "execution_count": 55,
   "id": "885c74e6-6020-48ef-b4ec-6471573091b3",
   "metadata": {},
   "outputs": [],
   "source": [
    "df['mb_used'] = df['mb_used'] / 1024\n",
    "df = df.rename(columns={'mb_used':'gb_used'})"
   ]
  },
  {
   "cell_type": "markdown",
   "id": "26aeb89e",
   "metadata": {},
   "source": [
    "Исследуем зависимости данных друг от друга"
   ]
  },
  {
   "cell_type": "code",
   "execution_count": 56,
   "id": "82d19e99",
   "metadata": {
    "scrolled": true
   },
   "outputs": [
    {
     "data": {
      "image/png": "[encoded data removed]",
      "text/plain": [
       "<Figure size 900x900 with 30 Axes>"
      ]
     },
     "metadata": {
      "needs_background": "light"
     },
     "output_type": "display_data"
    }
   ],
   "source": [
    "sns.pairplot(df);"
   ]
  },
  {
   "cell_type": "code",
   "execution_count": 57,
   "id": "5bb160ac",
   "metadata": {},
   "outputs": [
    {
     "data": {
      "image/png": "[encoded data removed]",
      "text/plain": [
       "<Figure size 432x288 with 2 Axes>"
      ]
     },
     "metadata": {
      "needs_background": "light"
     },
     "output_type": "display_data"
    }
   ],
   "source": [
    "sns.heatmap(df.corr(),annot=True);"
   ]
  },
  {
   "cell_type": "markdown",
   "id": "24cab573",
   "metadata": {},
   "source": [
    "Видим очень сильную корреляцию между минутами и звонками, и, чтобы избежать мультиколлинеарности удалим один из этих столбцов"
   ]
  },
  {
   "cell_type": "code",
   "execution_count": 58,
   "id": "3929d270",
   "metadata": {},
   "outputs": [],
   "source": [
    "df.drop(['minutes'], axis=1, inplace=True)"
   ]
  },
  {
   "cell_type": "markdown",
   "id": "7ed5d7fb",
   "metadata": {},
   "source": [
    "### Вывод"
   ]
  },
  {
   "cell_type": "markdown",
   "id": "604c4fd3",
   "metadata": {},
   "source": [
    "Данные впорядке, можно приступать к обучению модели."
   ]
  },
  {
   "cell_type": "markdown",
   "id": "72f1abe9",
   "metadata": {},
   "source": [
    "## Создание модели для подбора тарифов"
   ]
  },
  {
   "cell_type": "markdown",
   "id": "173f8fbd",
   "metadata": {},
   "source": [
    "### Разделение данных на выборки"
   ]
  },
  {
   "cell_type": "code",
   "execution_count": 59,
   "id": "728630d3-85e9-468f-9f2c-129063851963",
   "metadata": {},
   "outputs": [],
   "source": [
    "features = df.drop(['is_ultra'], axis=1)\n",
    "target = df['is_ultra']"
   ]
  },
  {
   "cell_type": "code",
   "execution_count": 60,
   "id": "2c2d772d-2486-4a48-a2e7-6b028b688576",
   "metadata": {},
   "outputs": [
    {
     "name": "stdout",
     "output_type": "stream",
     "text": [
      "(3142, 3)\n"
     ]
    },
    {
     "data": {
      "text/plain": [
       "(3142,)"
      ]
     },
     "execution_count": 60,
     "metadata": {},
     "output_type": "execute_result"
    }
   ],
   "source": [
    "print(features.shape)\n",
    "target.shape"
   ]
  },
  {
   "cell_type": "markdown",
   "id": "61c00ed2",
   "metadata": {},
   "source": [
    "Разделим выборки к соотношении 3:1:1, где обучающая, валидационная и тестовая выборки разделены соответственно "
   ]
  },
  {
   "cell_type": "code",
   "execution_count": 61,
   "id": "37022b6d-b1b8-42d3-b57e-1c4c6db832da",
   "metadata": {},
   "outputs": [],
   "source": [
    "train_features, test_features, train_target, test_target = train_test_split(features, target, test_size=0.4, random_state=42)"
   ]
  },
  {
   "cell_type": "code",
   "execution_count": 62,
   "id": "9dd0f340-03dd-4bde-849f-5534a5d98a26",
   "metadata": {},
   "outputs": [],
   "source": [
    "valid_features, test_features, valid_target, test_target = train_test_split(test_features, test_target, test_size=0.5, random_state=42)"
   ]
  },
  {
   "cell_type": "code",
   "execution_count": 63,
   "id": "67ddf13e-5d0c-4686-ba3a-c47cb9fc4240",
   "metadata": {},
   "outputs": [
    {
     "name": "stdout",
     "output_type": "stream",
     "text": [
      "(1885, 3)\n",
      "(1885,)\n",
      "(629, 3)\n",
      "(629,)\n",
      "(628, 3)\n"
     ]
    },
    {
     "data": {
      "text/plain": [
       "(628,)"
      ]
     },
     "execution_count": 63,
     "metadata": {},
     "output_type": "execute_result"
    }
   ],
   "source": [
    "print(train_features.shape)\n",
    "print(train_target.shape)\n",
    "print(test_features.shape)\n",
    "print(test_target.shape)\n",
    "print(valid_features.shape)\n",
    "valid_target.shape"
   ]
  },
  {
   "cell_type": "markdown",
   "id": "cab79865",
   "metadata": {},
   "source": [
    "### Обучение модели"
   ]
  },
  {
   "cell_type": "markdown",
   "id": "4920e6a1-88b8-4138-bf62-0c3698d3fcde",
   "metadata": {},
   "source": [
    "Для будущей оценки адекватности модели нам потребуется модель-манекен. "
   ]
  },
  {
   "cell_type": "code",
   "execution_count": 64,
   "id": "a469f7f6-343f-43e9-9067-c5743277e7bb",
   "metadata": {},
   "outputs": [
    {
     "name": "stdout",
     "output_type": "stream",
     "text": [
      "Accuracy фиктивной модели: 0.6735668789808917\n"
     ]
    }
   ],
   "source": [
    "# Создадим манекен, с которым будем сравнивать нашу модель\n",
    "dummy = DummyClassifier(strategy='most_frequent', random_state=42)\n",
    "dummy.fit(train_features, train_target)\n",
    "print(f'Accuracy фиктивной модели: {dummy.score(valid_features, valid_target)}')"
   ]
  },
  {
   "cell_type": "markdown",
   "id": "fb288d91",
   "metadata": {},
   "source": [
    "Выходит, что если просто предсказывать всем пользователям тариф смарт, то в 67% это будет верное предсказание. Возьмем это значение за нижний порог для нашей модели."
   ]
  },
  {
   "cell_type": "markdown",
   "id": "be3ad4b2",
   "metadata": {},
   "source": [
    "#### Логистическая регрессия"
   ]
  },
  {
   "cell_type": "code",
   "execution_count": 65,
   "id": "04b9fb37-d606-4405-9db2-f375f2e61cd6",
   "metadata": {},
   "outputs": [
    {
     "name": "stdout",
     "output_type": "stream",
     "text": [
      "Accuracy на обучающей выборке: 0.7511936339522547\n",
      "Accuracy на валидационной выборке:0.7436305732484076\n"
     ]
    }
   ],
   "source": [
    "model_alt = LogisticRegression(random_state=42)\n",
    "model_alt.fit(train_features, train_target)\n",
    "print(f'Accuracy на обучающей выборке: {model_alt.score(train_features, train_target)}')\n",
    "print(f'Accuracy на валидационной выборке:{model_alt.score(valid_features, valid_target)}')"
   ]
  },
  {
   "cell_type": "code",
   "execution_count": 66,
   "id": "df2409b6",
   "metadata": {},
   "outputs": [
    {
     "name": "stdout",
     "output_type": "stream",
     "text": [
      "              precision    recall  f1-score   support\n",
      "\n",
      "           0       0.73      0.99      0.84       423\n",
      "           1       0.94      0.23      0.37       205\n",
      "\n",
      "    accuracy                           0.74       628\n",
      "   macro avg       0.83      0.61      0.60       628\n",
      "weighted avg       0.80      0.74      0.69       628\n",
      "\n"
     ]
    }
   ],
   "source": [
    "pred_model_alt = model_alt.predict(valid_features)\n",
    "print(classification_report(valid_target, pred_model_alt))"
   ]
  },
  {
   "cell_type": "markdown",
   "id": "f3d7bb5a",
   "metadata": {},
   "source": [
    "Логистическая регрессия предсказывает верно в 74% случаев, что не подходит нам"
   ]
  },
  {
   "cell_type": "markdown",
   "id": "cf203c7a",
   "metadata": {},
   "source": [
    "#### Случайный лес"
   ]
  },
  {
   "cell_type": "code",
   "execution_count": 70,
   "id": "ae039e83-bdf8-40c3-8a19-d96075bea922",
   "metadata": {},
   "outputs": [
    {
     "name": "stdout",
     "output_type": "stream",
     "text": [
      "Accuracy на обучающей выборке: 0.8525198938992042\n",
      "Accuracy на валидационной выборке: 0.8375796178343949\n",
      "Лучшее кол-во \"оценщиков\": 20\n",
      "Лучшая глубина дерева: 9\n",
      "Минимальное количество выборок, необходимое для разделения внутреннего узла: 4\n"
     ]
    }
   ],
   "source": [
    "best_model = None\n",
    "best_result = 0\n",
    "best_est = 0\n",
    "best_depth = 0\n",
    "best_sample = 0\n",
    "for est in range(10,30,10):\n",
    "    for depth in range(1,10):\n",
    "        for sample in range(2,5):\n",
    "            model = RandomForestClassifier(n_estimators=est, max_depth=depth, min_samples_leaf=sample, random_state=42)\n",
    "            model.fit(train_features, train_target)\n",
    "            result = model.score(valid_features, valid_target)\n",
    "            if result > best_result:\n",
    "                best_result = result\n",
    "                best_model = model\n",
    "                best_est = est\n",
    "                best_depth = depth\n",
    "                best_sample = sample\n",
    "print(f'Accuracy на обучающей выборке: {best_model.score(train_features, train_target)}')\n",
    "print(f'Accuracy на валидационной выборке: {best_result}')\n",
    "print(f'Лучшее кол-во \"оценщиков\": {best_est}')\n",
    "print(f'Лучшая глубина дерева: {best_depth}')\n",
    "print(f'Минимальное количество выборок, необходимое для разделения внутреннего узла: {best_sample}')"
   ]
  },
  {
   "cell_type": "code",
   "execution_count": 71,
   "id": "cafaf377-9584-4060-9af8-1ad14ee19904",
   "metadata": {},
   "outputs": [
    {
     "name": "stdout",
     "output_type": "stream",
     "text": [
      "              precision    recall  f1-score   support\n",
      "\n",
      "           0       0.82      0.97      0.89       423\n",
      "           1       0.89      0.57      0.70       205\n",
      "\n",
      "    accuracy                           0.84       628\n",
      "   macro avg       0.86      0.77      0.79       628\n",
      "weighted avg       0.85      0.84      0.83       628\n",
      "\n"
     ]
    }
   ],
   "source": [
    "pred_best_model = best_model.predict(valid_features)\n",
    "print(classification_report(valid_target, pred_best_model))"
   ]
  },
  {
   "cell_type": "markdown",
   "id": "c42ae93d",
   "metadata": {},
   "source": [
    "Судя по докладу наша модель правильно предсказала 82% тарифа смарт и 89% тарифа ультра(precision),  \n",
    "при этом полнота предсказания: 97% всех тарифов смарт, но только 57% тарифов ультра(recall)"
   ]
  },
  {
   "cell_type": "markdown",
   "id": "9992098a",
   "metadata": {},
   "source": [
    "#### CatBoost"
   ]
  },
  {
   "cell_type": "code",
   "execution_count": 73,
   "id": "1905c9ad",
   "metadata": {},
   "outputs": [
    {
     "name": "stdout",
     "output_type": "stream",
     "text": [
      "              precision    recall  f1-score   support\n",
      "\n",
      "           0       0.83      0.94      0.88       423\n",
      "           1       0.82      0.60      0.69       205\n",
      "\n",
      "    accuracy                           0.82       628\n",
      "   macro avg       0.82      0.77      0.78       628\n",
      "weighted avg       0.82      0.82      0.82       628\n",
      "\n"
     ]
    }
   ],
   "source": [
    "cat = CatBoostClassifier() \n",
    "cat.fit(train_features, train_target, verbose=False)\n",
    "pred_cat = cat.predict(valid_features)\n",
    "print(classification_report(valid_target, pred_cat))"
   ]
  },
  {
   "cell_type": "markdown",
   "id": "fbd83d1a",
   "metadata": {},
   "source": [
    "Неплохие результаты показал градиентный бустинг с точность = 0.82, но случайный лес всё же остается лучшей моделью в данном случае"
   ]
  },
  {
   "cell_type": "markdown",
   "id": "47d35a8f",
   "metadata": {},
   "source": [
    "### Экзамен"
   ]
  },
  {
   "cell_type": "code",
   "execution_count": 74,
   "id": "52d8a484-8434-44d1-a002-b78f11494b1d",
   "metadata": {},
   "outputs": [
    {
     "name": "stdout",
     "output_type": "stream",
     "text": [
      " Accuracy рандомного леса: 0.8187599364069952\n"
     ]
    }
   ],
   "source": [
    "print(f' Accuracy рандомного леса: {best_model.score(test_features, test_target)}')"
   ]
  },
  {
   "cell_type": "markdown",
   "id": "36854d31-5361-416a-b63f-361bfcb2510a",
   "metadata": {},
   "source": [
    " Accuracy рандомного леса: 0.8187599364069952"
   ]
  },
  {
   "cell_type": "markdown",
   "id": "96bfd32a",
   "metadata": {},
   "source": [
    "## Вывод"
   ]
  },
  {
   "cell_type": "markdown",
   "id": "bbfd2549",
   "metadata": {},
   "source": [
    "Мы подготовили данные для машинного обучения,  \n",
    "Обучили несколько разных моделей: Логистическую регрессию, Случайный лес и градиентный бустинг.  \n",
    "Проверили качество моделей на валидационной выборке и выбрали лучшую модель.  \n",
    "Наилучшие показатели accuracy = 0.818 на тестовой выборке показала модель, обученная алгоритмом случайного леса."
   ]
  }
 ],
 "metadata": {
  "ExecuteTimeLog": [
   {
    "duration": 46147,
    "start_time": "2022-04-04T06:20:08.085Z"
   },
   {
    "duration": 85,
    "start_time": "2022-04-04T06:20:54.234Z"
   },
   {
    "duration": 26,
    "start_time": "2022-04-04T06:20:54.321Z"
   },
   {
    "duration": 15,
    "start_time": "2022-04-04T06:20:54.350Z"
   },
   {
    "duration": 10,
    "start_time": "2022-04-04T06:20:54.367Z"
   },
   {
    "duration": 8,
    "start_time": "2022-04-04T06:20:54.379Z"
   },
   {
    "duration": 813,
    "start_time": "2022-04-04T06:20:54.389Z"
   },
   {
    "duration": 252,
    "start_time": "2022-04-04T06:20:55.205Z"
   },
   {
    "duration": 41,
    "start_time": "2022-04-04T06:20:55.460Z"
   },
   {
    "duration": 236,
    "start_time": "2022-04-04T06:20:55.506Z"
   },
   {
    "duration": 240,
    "start_time": "2022-04-04T06:20:55.745Z"
   },
   {
    "duration": 7,
    "start_time": "2022-04-04T06:20:55.987Z"
   },
   {
    "duration": 7,
    "start_time": "2022-04-04T06:20:55.997Z"
   },
   {
    "duration": 6,
    "start_time": "2022-04-04T06:21:25.439Z"
   },
   {
    "duration": 5,
    "start_time": "2022-04-04T06:21:26.036Z"
   },
   {
    "duration": 7,
    "start_time": "2022-04-04T06:21:26.731Z"
   },
   {
    "duration": 8,
    "start_time": "2022-04-04T06:21:27.487Z"
   },
   {
    "duration": 8,
    "start_time": "2022-04-04T06:21:27.692Z"
   },
   {
    "duration": 8,
    "start_time": "2022-04-04T06:21:28.992Z"
   },
   {
    "duration": 9,
    "start_time": "2022-04-04T06:22:11.198Z"
   },
   {
    "duration": 40,
    "start_time": "2022-04-04T06:22:44.272Z"
   },
   {
    "duration": 14,
    "start_time": "2022-04-04T06:22:45.012Z"
   },
   {
    "duration": 48,
    "start_time": "2022-04-04T07:10:23.364Z"
   },
   {
    "duration": 5,
    "start_time": "2022-04-04T07:10:24.891Z"
   },
   {
    "duration": 1243,
    "start_time": "2022-04-04T07:10:34.515Z"
   },
   {
    "duration": 257,
    "start_time": "2022-04-04T07:10:35.760Z"
   },
   {
    "duration": 20,
    "start_time": "2022-04-04T07:10:36.019Z"
   },
   {
    "duration": 11,
    "start_time": "2022-04-04T07:10:36.041Z"
   },
   {
    "duration": 9,
    "start_time": "2022-04-04T07:10:36.055Z"
   },
   {
    "duration": 12,
    "start_time": "2022-04-04T07:10:36.066Z"
   },
   {
    "duration": 645,
    "start_time": "2022-04-04T07:10:36.079Z"
   },
   {
    "duration": 171,
    "start_time": "2022-04-04T07:10:36.731Z"
   },
   {
    "duration": 39,
    "start_time": "2022-04-04T07:10:36.904Z"
   },
   {
    "duration": 160,
    "start_time": "2022-04-04T07:10:36.945Z"
   },
   {
    "duration": 160,
    "start_time": "2022-04-04T07:10:37.107Z"
   },
   {
    "duration": 4,
    "start_time": "2022-04-04T07:10:37.270Z"
   },
   {
    "duration": 7,
    "start_time": "2022-04-04T07:10:37.276Z"
   },
   {
    "duration": 4,
    "start_time": "2022-04-04T07:10:37.287Z"
   },
   {
    "duration": 7,
    "start_time": "2022-04-04T07:10:37.293Z"
   },
   {
    "duration": 31,
    "start_time": "2022-04-04T07:10:37.302Z"
   },
   {
    "duration": 5,
    "start_time": "2022-04-04T07:10:37.334Z"
   },
   {
    "duration": 8,
    "start_time": "2022-04-04T07:10:37.341Z"
   },
   {
    "duration": 8,
    "start_time": "2022-04-04T07:10:37.350Z"
   },
   {
    "duration": 110,
    "start_time": "2022-04-04T07:10:37.359Z"
   },
   {
    "duration": 28,
    "start_time": "2022-04-04T07:10:37.471Z"
   },
   {
    "duration": 8,
    "start_time": "2022-04-04T07:10:37.501Z"
   },
   {
    "duration": 88,
    "start_time": "2022-04-04T07:10:37.511Z"
   },
   {
    "duration": 9,
    "start_time": "2022-04-04T07:10:37.601Z"
   },
   {
    "duration": 2121,
    "start_time": "2022-04-04T07:10:37.612Z"
   },
   {
    "duration": 14,
    "start_time": "2022-04-04T07:10:39.735Z"
   },
   {
    "duration": 20,
    "start_time": "2022-04-04T07:10:39.750Z"
   },
   {
    "duration": 35,
    "start_time": "2022-04-04T07:10:39.772Z"
   },
   {
    "duration": 21,
    "start_time": "2022-04-04T07:10:39.809Z"
   },
   {
    "duration": 41,
    "start_time": "2022-04-04T07:10:39.832Z"
   },
   {
    "duration": 5,
    "start_time": "2022-04-04T07:10:39.874Z"
   },
   {
    "duration": 34,
    "start_time": "2022-04-04T07:10:39.880Z"
   },
   {
    "duration": 76,
    "start_time": "2022-04-04T07:59:35.589Z"
   },
   {
    "duration": 8,
    "start_time": "2022-04-04T07:59:57.972Z"
   },
   {
    "duration": 3,
    "start_time": "2022-04-04T08:00:10.981Z"
   },
   {
    "duration": 115,
    "start_time": "2022-04-04T08:00:10.985Z"
   },
   {
    "duration": 10,
    "start_time": "2022-04-04T08:00:11.102Z"
   },
   {
    "duration": 18,
    "start_time": "2022-04-04T08:00:11.113Z"
   },
   {
    "duration": 5,
    "start_time": "2022-04-04T08:00:11.133Z"
   },
   {
    "duration": 9,
    "start_time": "2022-04-04T08:00:11.140Z"
   },
   {
    "duration": 157,
    "start_time": "2022-04-04T08:00:11.150Z"
   },
   {
    "duration": 165,
    "start_time": "2022-04-04T08:00:11.309Z"
   },
   {
    "duration": 24,
    "start_time": "2022-04-04T08:00:11.476Z"
   },
   {
    "duration": 157,
    "start_time": "2022-04-04T08:00:11.501Z"
   },
   {
    "duration": 159,
    "start_time": "2022-04-04T08:00:11.659Z"
   },
   {
    "duration": 12,
    "start_time": "2022-04-04T08:00:11.819Z"
   },
   {
    "duration": 11,
    "start_time": "2022-04-04T08:00:11.833Z"
   },
   {
    "duration": 1240,
    "start_time": "2022-04-04T08:00:21.040Z"
   },
   {
    "duration": 101,
    "start_time": "2022-04-04T08:00:22.283Z"
   },
   {
    "duration": 19,
    "start_time": "2022-04-04T08:00:22.386Z"
   },
   {
    "duration": 12,
    "start_time": "2022-04-04T08:00:22.407Z"
   },
   {
    "duration": 6,
    "start_time": "2022-04-04T08:00:22.420Z"
   },
   {
    "duration": 11,
    "start_time": "2022-04-04T08:00:22.428Z"
   },
   {
    "duration": 454,
    "start_time": "2022-04-04T08:00:22.441Z"
   },
   {
    "duration": 166,
    "start_time": "2022-04-04T08:00:22.897Z"
   },
   {
    "duration": 24,
    "start_time": "2022-04-04T08:00:23.065Z"
   },
   {
    "duration": 154,
    "start_time": "2022-04-04T08:00:23.091Z"
   },
   {
    "duration": 156,
    "start_time": "2022-04-04T08:00:23.246Z"
   },
   {
    "duration": 4,
    "start_time": "2022-04-04T08:00:23.403Z"
   },
   {
    "duration": 8,
    "start_time": "2022-04-04T08:00:23.409Z"
   },
   {
    "duration": 108,
    "start_time": "2022-04-04T08:00:25.860Z"
   },
   {
    "duration": 9,
    "start_time": "2022-04-04T08:01:39.803Z"
   },
   {
    "duration": 134,
    "start_time": "2022-04-04T08:01:55.709Z"
   },
   {
    "duration": 3764,
    "start_time": "2022-04-04T08:02:01.700Z"
   },
   {
    "duration": 3809,
    "start_time": "2022-04-04T08:02:28.655Z"
   },
   {
    "duration": 311,
    "start_time": "2022-04-04T08:03:08.188Z"
   },
   {
    "duration": 15,
    "start_time": "2022-04-04T08:03:42.439Z"
   },
   {
    "duration": 351,
    "start_time": "2022-04-04T08:03:54.351Z"
   },
   {
    "duration": 374,
    "start_time": "2022-04-04T08:04:03.776Z"
   },
   {
    "duration": 355,
    "start_time": "2022-04-04T08:04:15.962Z"
   },
   {
    "duration": 419,
    "start_time": "2022-04-04T08:04:28.188Z"
   },
   {
    "duration": 5,
    "start_time": "2022-04-04T08:07:22.405Z"
   },
   {
    "duration": 18,
    "start_time": "2022-04-04T08:07:31.662Z"
   },
   {
    "duration": 1580,
    "start_time": "2022-04-04T08:09:21.636Z"
   },
   {
    "duration": 103,
    "start_time": "2022-04-04T08:09:23.218Z"
   },
   {
    "duration": 15,
    "start_time": "2022-04-04T08:09:23.323Z"
   },
   {
    "duration": 12,
    "start_time": "2022-04-04T08:09:23.341Z"
   },
   {
    "duration": 8,
    "start_time": "2022-04-04T08:09:23.356Z"
   },
   {
    "duration": 9,
    "start_time": "2022-04-04T08:09:23.366Z"
   },
   {
    "duration": 194,
    "start_time": "2022-04-04T08:09:23.376Z"
   },
   {
    "duration": 175,
    "start_time": "2022-04-04T08:09:23.573Z"
   },
   {
    "duration": 25,
    "start_time": "2022-04-04T08:09:23.751Z"
   },
   {
    "duration": 176,
    "start_time": "2022-04-04T08:09:23.778Z"
   },
   {
    "duration": 186,
    "start_time": "2022-04-04T08:09:23.956Z"
   },
   {
    "duration": 4,
    "start_time": "2022-04-04T08:09:24.144Z"
   },
   {
    "duration": 8,
    "start_time": "2022-04-04T08:09:24.149Z"
   },
   {
    "duration": 3952,
    "start_time": "2022-04-04T08:09:24.160Z"
   },
   {
    "duration": 389,
    "start_time": "2022-04-04T08:09:28.114Z"
   },
   {
    "duration": 5,
    "start_time": "2022-04-04T08:09:28.506Z"
   },
   {
    "duration": 6,
    "start_time": "2022-04-04T08:09:28.513Z"
   },
   {
    "duration": 5,
    "start_time": "2022-04-04T08:09:28.532Z"
   },
   {
    "duration": 6,
    "start_time": "2022-04-04T08:09:28.539Z"
   },
   {
    "duration": 6,
    "start_time": "2022-04-04T08:09:28.547Z"
   },
   {
    "duration": 6,
    "start_time": "2022-04-04T08:09:28.555Z"
   },
   {
    "duration": 9,
    "start_time": "2022-04-04T08:09:28.563Z"
   },
   {
    "duration": 8,
    "start_time": "2022-04-04T08:09:28.574Z"
   },
   {
    "duration": 69,
    "start_time": "2022-04-04T08:09:28.584Z"
   },
   {
    "duration": 12,
    "start_time": "2022-04-04T08:09:28.655Z"
   },
   {
    "duration": 85,
    "start_time": "2022-04-04T08:09:28.669Z"
   },
   {
    "duration": 11,
    "start_time": "2022-04-04T08:09:28.757Z"
   },
   {
    "duration": 1887,
    "start_time": "2022-04-04T08:09:28.770Z"
   },
   {
    "duration": 16,
    "start_time": "2022-04-04T08:09:30.659Z"
   },
   {
    "duration": 17,
    "start_time": "2022-04-04T08:09:30.677Z"
   },
   {
    "duration": 27,
    "start_time": "2022-04-04T08:09:30.696Z"
   },
   {
    "duration": 25,
    "start_time": "2022-04-04T08:09:30.726Z"
   },
   {
    "duration": 34,
    "start_time": "2022-04-04T08:09:30.753Z"
   },
   {
    "duration": 25,
    "start_time": "2022-04-04T08:09:30.788Z"
   },
   {
    "duration": 27,
    "start_time": "2022-04-04T08:09:30.815Z"
   },
   {
    "duration": 1644,
    "start_time": "2022-04-04T08:11:03.700Z"
   },
   {
    "duration": 96,
    "start_time": "2022-04-04T08:11:05.347Z"
   },
   {
    "duration": 15,
    "start_time": "2022-04-04T08:11:05.445Z"
   },
   {
    "duration": 12,
    "start_time": "2022-04-04T08:11:05.463Z"
   },
   {
    "duration": 32,
    "start_time": "2022-04-04T08:11:05.477Z"
   },
   {
    "duration": 20,
    "start_time": "2022-04-04T08:11:05.511Z"
   },
   {
    "duration": 183,
    "start_time": "2022-04-04T08:11:05.533Z"
   },
   {
    "duration": 176,
    "start_time": "2022-04-04T08:11:05.718Z"
   },
   {
    "duration": 24,
    "start_time": "2022-04-04T08:11:05.897Z"
   },
   {
    "duration": 164,
    "start_time": "2022-04-04T08:11:05.933Z"
   },
   {
    "duration": 171,
    "start_time": "2022-04-04T08:11:06.099Z"
   },
   {
    "duration": 4,
    "start_time": "2022-04-04T08:11:06.272Z"
   },
   {
    "duration": 31,
    "start_time": "2022-04-04T08:11:06.278Z"
   },
   {
    "duration": 3897,
    "start_time": "2022-04-04T08:11:06.311Z"
   },
   {
    "duration": 391,
    "start_time": "2022-04-04T08:11:10.209Z"
   },
   {
    "duration": 4,
    "start_time": "2022-04-04T08:11:10.602Z"
   },
   {
    "duration": 17,
    "start_time": "2022-04-04T08:11:10.608Z"
   },
   {
    "duration": 17,
    "start_time": "2022-04-04T08:11:10.627Z"
   },
   {
    "duration": 23,
    "start_time": "2022-04-04T08:11:10.646Z"
   },
   {
    "duration": 17,
    "start_time": "2022-04-04T08:11:10.671Z"
   },
   {
    "duration": 29,
    "start_time": "2022-04-04T08:11:10.690Z"
   },
   {
    "duration": 22,
    "start_time": "2022-04-04T08:11:10.720Z"
   },
   {
    "duration": 23,
    "start_time": "2022-04-04T08:11:10.743Z"
   },
   {
    "duration": 43,
    "start_time": "2022-04-04T08:11:10.767Z"
   },
   {
    "duration": 10,
    "start_time": "2022-04-04T08:11:10.811Z"
   },
   {
    "duration": 77,
    "start_time": "2022-04-04T08:11:10.823Z"
   },
   {
    "duration": 10,
    "start_time": "2022-04-04T08:11:10.902Z"
   },
   {
    "duration": 1790,
    "start_time": "2022-04-04T08:11:10.915Z"
   },
   {
    "duration": 16,
    "start_time": "2022-04-04T08:11:12.706Z"
   },
   {
    "duration": 6,
    "start_time": "2022-04-04T08:11:12.732Z"
   },
   {
    "duration": 10,
    "start_time": "2022-04-04T08:11:12.740Z"
   },
   {
    "duration": 11,
    "start_time": "2022-04-04T08:11:12.752Z"
   },
   {
    "duration": 6,
    "start_time": "2022-04-04T08:11:12.765Z"
   },
   {
    "duration": 4,
    "start_time": "2022-04-04T08:11:12.773Z"
   },
   {
    "duration": 1573,
    "start_time": "2022-04-04T08:11:58.895Z"
   },
   {
    "duration": 104,
    "start_time": "2022-04-04T08:12:00.470Z"
   },
   {
    "duration": 16,
    "start_time": "2022-04-04T08:12:00.575Z"
   },
   {
    "duration": 15,
    "start_time": "2022-04-04T08:12:00.593Z"
   },
   {
    "duration": 9,
    "start_time": "2022-04-04T08:12:00.611Z"
   },
   {
    "duration": 13,
    "start_time": "2022-04-04T08:12:00.622Z"
   },
   {
    "duration": 188,
    "start_time": "2022-04-04T08:12:00.637Z"
   },
   {
    "duration": 178,
    "start_time": "2022-04-04T08:12:00.828Z"
   },
   {
    "duration": 39,
    "start_time": "2022-04-04T08:12:01.008Z"
   },
   {
    "duration": 173,
    "start_time": "2022-04-04T08:12:01.049Z"
   },
   {
    "duration": 173,
    "start_time": "2022-04-04T08:12:01.225Z"
   },
   {
    "duration": 4,
    "start_time": "2022-04-04T08:12:01.400Z"
   },
   {
    "duration": 16,
    "start_time": "2022-04-04T08:12:01.406Z"
   },
   {
    "duration": 4029,
    "start_time": "2022-04-04T08:12:01.431Z"
   },
   {
    "duration": 369,
    "start_time": "2022-04-04T08:12:05.462Z"
   },
   {
    "duration": 3,
    "start_time": "2022-04-04T08:12:05.833Z"
   },
   {
    "duration": 30,
    "start_time": "2022-04-04T08:12:05.839Z"
   },
   {
    "duration": 47,
    "start_time": "2022-04-04T08:12:05.871Z"
   },
   {
    "duration": 30,
    "start_time": "2022-04-04T08:12:05.920Z"
   },
   {
    "duration": 22,
    "start_time": "2022-04-04T08:12:05.952Z"
   },
   {
    "duration": 30,
    "start_time": "2022-04-04T08:12:05.976Z"
   },
   {
    "duration": 23,
    "start_time": "2022-04-04T08:12:06.007Z"
   },
   {
    "duration": 50,
    "start_time": "2022-04-04T08:12:06.032Z"
   },
   {
    "duration": 47,
    "start_time": "2022-04-04T08:12:06.084Z"
   },
   {
    "duration": 12,
    "start_time": "2022-04-04T08:12:06.133Z"
   },
   {
    "duration": 107,
    "start_time": "2022-04-04T08:12:06.147Z"
   },
   {
    "duration": 10,
    "start_time": "2022-04-04T08:12:06.256Z"
   },
   {
    "duration": 2187,
    "start_time": "2022-04-04T08:12:06.267Z"
   },
   {
    "duration": 14,
    "start_time": "2022-04-04T08:12:08.456Z"
   },
   {
    "duration": 33,
    "start_time": "2022-04-04T08:12:08.472Z"
   },
   {
    "duration": 36,
    "start_time": "2022-04-04T08:12:08.507Z"
   },
   {
    "duration": 36,
    "start_time": "2022-04-04T08:12:08.545Z"
   },
   {
    "duration": 26,
    "start_time": "2022-04-04T08:12:08.583Z"
   },
   {
    "duration": 22,
    "start_time": "2022-04-04T08:12:08.611Z"
   },
   {
    "duration": 165,
    "start_time": "2022-04-04T08:13:33.449Z"
   },
   {
    "duration": 180,
    "start_time": "2022-04-04T08:16:40.331Z"
   },
   {
    "duration": 1611,
    "start_time": "2022-04-04T08:16:47.625Z"
   },
   {
    "duration": 106,
    "start_time": "2022-04-04T08:16:49.238Z"
   },
   {
    "duration": 16,
    "start_time": "2022-04-04T08:16:49.346Z"
   },
   {
    "duration": 12,
    "start_time": "2022-04-04T08:16:49.364Z"
   },
   {
    "duration": 15,
    "start_time": "2022-04-04T08:16:49.378Z"
   },
   {
    "duration": 10,
    "start_time": "2022-04-04T08:16:49.394Z"
   },
   {
    "duration": 191,
    "start_time": "2022-04-04T08:16:49.406Z"
   },
   {
    "duration": 178,
    "start_time": "2022-04-04T08:16:49.598Z"
   },
   {
    "duration": 24,
    "start_time": "2022-04-04T08:16:49.778Z"
   },
   {
    "duration": 164,
    "start_time": "2022-04-04T08:16:49.805Z"
   },
   {
    "duration": 166,
    "start_time": "2022-04-04T08:16:49.970Z"
   },
   {
    "duration": 4,
    "start_time": "2022-04-04T08:16:50.137Z"
   },
   {
    "duration": 8,
    "start_time": "2022-04-04T08:16:50.143Z"
   },
   {
    "duration": 3959,
    "start_time": "2022-04-04T08:16:50.153Z"
   },
   {
    "duration": 395,
    "start_time": "2022-04-04T08:16:54.114Z"
   },
   {
    "duration": 4,
    "start_time": "2022-04-04T08:16:54.511Z"
   },
   {
    "duration": 15,
    "start_time": "2022-04-04T08:16:54.517Z"
   },
   {
    "duration": 4,
    "start_time": "2022-04-04T08:16:54.534Z"
   },
   {
    "duration": 11,
    "start_time": "2022-04-04T08:16:54.540Z"
   },
   {
    "duration": 7,
    "start_time": "2022-04-04T08:16:54.553Z"
   },
   {
    "duration": 10,
    "start_time": "2022-04-04T08:16:54.562Z"
   },
   {
    "duration": 16,
    "start_time": "2022-04-04T08:16:54.574Z"
   },
   {
    "duration": 9,
    "start_time": "2022-04-04T08:16:54.592Z"
   },
   {
    "duration": 41,
    "start_time": "2022-04-04T08:16:54.603Z"
   },
   {
    "duration": 10,
    "start_time": "2022-04-04T08:16:54.646Z"
   },
   {
    "duration": 80,
    "start_time": "2022-04-04T08:16:54.658Z"
   },
   {
    "duration": 10,
    "start_time": "2022-04-04T08:16:54.740Z"
   },
   {
    "duration": 1804,
    "start_time": "2022-04-04T08:16:54.753Z"
   },
   {
    "duration": 14,
    "start_time": "2022-04-04T08:16:56.559Z"
   },
   {
    "duration": 6,
    "start_time": "2022-04-04T08:16:56.575Z"
   },
   {
    "duration": 8,
    "start_time": "2022-04-04T08:16:56.583Z"
   },
   {
    "duration": 12,
    "start_time": "2022-04-04T08:16:56.592Z"
   },
   {
    "duration": 27,
    "start_time": "2022-04-04T08:16:56.606Z"
   },
   {
    "duration": 7,
    "start_time": "2022-04-04T08:16:56.635Z"
   }
  ],
  "kernelspec": {
   "display_name": "Python 3 (ipykernel)",
   "language": "python",
   "name": "python3"
  },
  "language_info": {
   "codemirror_mode": {
    "name": "ipython",
    "version": 3
   },
   "file_extension": ".py",
   "mimetype": "text/x-python",
   "name": "python",
   "nbconvert_exporter": "python",
   "pygments_lexer": "ipython3",
   "version": "3.9.7"
  },
  "toc": {
   "base_numbering": 1,
   "nav_menu": {},
   "number_sections": true,
   "sideBar": true,
   "skip_h1_title": false,
   "title_cell": "Содержание",
   "title_sidebar": "Contents",
   "toc_cell": true,
   "toc_position": {},
   "toc_section_display": true,
   "toc_window_display": true
  }
 },
 "nbformat": 4,
 "nbformat_minor": 5
}
