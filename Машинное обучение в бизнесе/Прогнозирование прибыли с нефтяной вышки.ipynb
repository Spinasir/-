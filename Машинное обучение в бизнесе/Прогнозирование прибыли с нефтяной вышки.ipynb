{
 "cells": [
  {
   "cell_type": "markdown",
   "id": "57ee8bde",
   "metadata": {
    "toc": true
   },
   "source": [
    "<h1>Содержание<span class=\"tocSkip\"></span></h1>\n",
    "<div class=\"toc\"><ul class=\"toc-item\"><li><span><a href=\"#Обзор-данных\" data-toc-modified-id=\"Обзор-данных-1\"><span class=\"toc-item-num\">1&nbsp;&nbsp;</span>Обзор данных</a></span><ul class=\"toc-item\"><li><span><a href=\"#Вывод\" data-toc-modified-id=\"Вывод-1.1\"><span class=\"toc-item-num\">1.1&nbsp;&nbsp;</span>Вывод</a></span></li></ul></li><li><span><a href=\"#Обучение-модели\" data-toc-modified-id=\"Обучение-модели-2\"><span class=\"toc-item-num\">2&nbsp;&nbsp;</span>Обучение модели</a></span></li><li><span><a href=\"#Подготовка-к-расчету-прибыли\" data-toc-modified-id=\"Подготовка-к-расчету-прибыли-3\"><span class=\"toc-item-num\">3&nbsp;&nbsp;</span>Подготовка к расчету прибыли</a></span><ul class=\"toc-item\"><li><span><a href=\"#Вывод\" data-toc-modified-id=\"Вывод-3.1\"><span class=\"toc-item-num\">3.1&nbsp;&nbsp;</span>Вывод</a></span></li></ul></li><li><span><a href=\"#Расчет-прибыли-по-регионам\" data-toc-modified-id=\"Расчет-прибыли-по-регионам-4\"><span class=\"toc-item-num\">4&nbsp;&nbsp;</span>Расчет прибыли по регионам</a></span><ul class=\"toc-item\"><li><span><a href=\"#Вывод\" data-toc-modified-id=\"Вывод-4.1\"><span class=\"toc-item-num\">4.1&nbsp;&nbsp;</span>Вывод</a></span></li></ul></li><li><span><a href=\"#Выводы\" data-toc-modified-id=\"Выводы-5\"><span class=\"toc-item-num\">5&nbsp;&nbsp;</span>Выводы</a></span></li></ul></div>"
   ]
  },
  {
   "cell_type": "markdown",
   "id": "32241317",
   "metadata": {},
   "source": [
    "# Описание проекта"
   ]
  },
  {
   "cell_type": "markdown",
   "id": "7ed754b0",
   "metadata": {},
   "source": [
    "Допустим, вы работаете в добывающей компании «ГлавРосГосНефть». Нужно решить, где бурить новую скважину.  \n",
    "Шаги для выбора локации обычно такие:  \n",
    "В избранном регионе собирают характеристики для скважин: качество нефти и объём её запасов;  \n",
    "Строят модель для предсказания объёма запасов в новых скважинах;    \n",
    "Выбирают скважины с самыми высокими оценками значений;  \n",
    "Определяют регион с максимальной суммарной прибылью отобранных скважин.  "
   ]
  },
  {
   "cell_type": "markdown",
   "id": "472a4a07-33b6-42ba-818c-97b3f021a693",
   "metadata": {},
   "source": [
    "**План выполнению проекта**  \n",
    "Загрузим и подготовим данные. Поясним порядок действий.  \n",
    "Обучим и проверим модель для каждого региона:  \n",
    "2.1. Разобьем данные на обучающую и валидационную выборки в соотношении 75:25.  \n",
    "2.2. Обучим модель и сделем предсказания на валидационной выборке.  \n",
    "2.3. Сохраним предсказания и правильные ответы на валидационной выборке.  \n",
    "2.4. Напечатаем на экране средний запас предсказанного сырья и RMSE модели.  \n",
    "2.5. Проанализируем результаты.  \n",
    "Подготовимся к расчёту прибыли:      \n",
    "3.1. Все ключевые значения для расчётов сохраним в отдельных переменных.    \n",
    "3.2. Рассчитаем достаточный объём сырья для безубыточной разработки новой скважины. Сравним полученный объём сырья со средним запасом в каждом регионе.  \n",
    "3.3. Напишем выводы по этапу подготовки расчёта прибыли.  \n",
    "Напишем функцию для расчёта прибыли по выбранным скважинам и предсказаниям модели:  \n",
    "4.1. Выберем скважины с максимальными значениями предсказаний.  \n",
    "4.2. Просуммируем целевое значение объёма сырья, соответствующее этим предсказаниям.  \n",
    "4.3. Рассчитаем прибыль для полученного объёма сырья.  \n",
    "Посчитаем риски и прибыль для каждого региона:  \n",
    "5.1. Применим технику Bootstrap с 1000 выборок, чтобы найти распределение прибыли.  \n",
    "5.2. Найдем среднюю прибыль, 95%-й доверительный интервал и риск убытков. Убыток — это отрицательная прибыль.  \n",
    "5.3. Напишем выводы: предложим регион для разработки скважин и обоснуем выбор.  \n",
    "   \n"
   ]
  },
  {
   "cell_type": "markdown",
   "id": "dfb9e7a4",
   "metadata": {},
   "source": [
    "**Описание данных**  \n",
    "id — уникальный идентификатор скважины    \n",
    "f0, f1, f2 — три признака точек (неважно, что они означают, но сами признаки значимы);  \n",
    "product — объём запасов в скважине (тыс. баррелей). "
   ]
  },
  {
   "cell_type": "code",
   "execution_count": 1,
   "id": "009a7583-a6ac-405e-87f0-7646d519b1ae",
   "metadata": {},
   "outputs": [],
   "source": [
    "import pandas as pd\n",
    "import numpy as np\n",
    "import matplotlib.pyplot as plt\n",
    "\n",
    "from sklearn.preprocessing import StandardScaler\n",
    "from sklearn.model_selection import train_test_split\n",
    "\n",
    "from sklearn.linear_model import LinearRegression\n",
    "\n",
    "from sklearn.metrics import mean_squared_error\n",
    "\n",
    "import warnings\n",
    "warnings.filterwarnings('ignore')"
   ]
  },
  {
   "cell_type": "markdown",
   "id": "8cfef23d",
   "metadata": {},
   "source": [
    "## Обзор данных"
   ]
  },
  {
   "cell_type": "code",
   "execution_count": 2,
   "id": "89b35d51-2c25-48db-892f-246c279e1e4c",
   "metadata": {},
   "outputs": [],
   "source": [
    "try:\n",
    "    geo_0 =  pd.read_csv('geo_data_0.csv')\n",
    "    geo_1 =  pd.read_csv('geo_data_1.csv')\n",
    "    geo_2 =  pd.read_csv('geo_data_2.csv')\n",
    "except:\n",
    "    geo_0 =  pd.read_csv('/datasets/geo_data_0.csv')\n",
    "    geo_1 =  pd.read_csv('/datasets/geo_data_1.csv')\n",
    "    geo_2 =  pd.read_csv('/datasets/geo_data_2.csv')"
   ]
  },
  {
   "cell_type": "code",
   "execution_count": 3,
   "id": "1b193fab-4c58-4117-a001-273f09f3ed64",
   "metadata": {},
   "outputs": [],
   "source": [
    "# напишем функцию для обзора датасетов:\n",
    "#она проверяет пропуски, дубликаты и выводит describe и диаграмму размаха\n",
    "def review(df):\n",
    "    print(f'Пропуски: {df.isna().sum()}')\n",
    "    print('')\n",
    "    print(f'Дубликаты: {df.duplicated().sum()}')\n",
    "    print('')\n",
    "    display(df.describe())\n",
    "    df.plot(kind='box')\n",
    "    plt.title('Диаграмма размаха в регионе')"
   ]
  },
  {
   "cell_type": "code",
   "execution_count": 4,
   "id": "9b0ea35f-5acf-45a4-adb2-44f99be8c255",
   "metadata": {},
   "outputs": [
    {
     "name": "stdout",
     "output_type": "stream",
     "text": [
      "Пропуски: id         0\n",
      "f0         0\n",
      "f1         0\n",
      "f2         0\n",
      "product    0\n",
      "dtype: int64\n",
      "\n",
      "Дубликаты: 0\n",
      "\n"
     ]
    },
    {
     "data": {
      "text/html": [
       "<div>\n",
       "<style scoped>\n",
       "    .dataframe tbody tr th:only-of-type {\n",
       "        vertical-align: middle;\n",
       "    }\n",
       "\n",
       "    .dataframe tbody tr th {\n",
       "        vertical-align: top;\n",
       "    }\n",
       "\n",
       "    .dataframe thead th {\n",
       "        text-align: right;\n",
       "    }\n",
       "</style>\n",
       "<table border=\"1\" class=\"dataframe\">\n",
       "  <thead>\n",
       "    <tr style=\"text-align: right;\">\n",
       "      <th></th>\n",
       "      <th>f0</th>\n",
       "      <th>f1</th>\n",
       "      <th>f2</th>\n",
       "      <th>product</th>\n",
       "    </tr>\n",
       "  </thead>\n",
       "  <tbody>\n",
       "    <tr>\n",
       "      <th>count</th>\n",
       "      <td>100000.000000</td>\n",
       "      <td>100000.000000</td>\n",
       "      <td>100000.000000</td>\n",
       "      <td>100000.000000</td>\n",
       "    </tr>\n",
       "    <tr>\n",
       "      <th>mean</th>\n",
       "      <td>0.500419</td>\n",
       "      <td>0.250143</td>\n",
       "      <td>2.502647</td>\n",
       "      <td>92.500000</td>\n",
       "    </tr>\n",
       "    <tr>\n",
       "      <th>std</th>\n",
       "      <td>0.871832</td>\n",
       "      <td>0.504433</td>\n",
       "      <td>3.248248</td>\n",
       "      <td>44.288691</td>\n",
       "    </tr>\n",
       "    <tr>\n",
       "      <th>min</th>\n",
       "      <td>-1.408605</td>\n",
       "      <td>-0.848218</td>\n",
       "      <td>-12.088328</td>\n",
       "      <td>0.000000</td>\n",
       "    </tr>\n",
       "    <tr>\n",
       "      <th>25%</th>\n",
       "      <td>-0.072580</td>\n",
       "      <td>-0.200881</td>\n",
       "      <td>0.287748</td>\n",
       "      <td>56.497507</td>\n",
       "    </tr>\n",
       "    <tr>\n",
       "      <th>50%</th>\n",
       "      <td>0.502360</td>\n",
       "      <td>0.250252</td>\n",
       "      <td>2.515969</td>\n",
       "      <td>91.849972</td>\n",
       "    </tr>\n",
       "    <tr>\n",
       "      <th>75%</th>\n",
       "      <td>1.073581</td>\n",
       "      <td>0.700646</td>\n",
       "      <td>4.715088</td>\n",
       "      <td>128.564089</td>\n",
       "    </tr>\n",
       "    <tr>\n",
       "      <th>max</th>\n",
       "      <td>2.362331</td>\n",
       "      <td>1.343769</td>\n",
       "      <td>16.003790</td>\n",
       "      <td>185.364347</td>\n",
       "    </tr>\n",
       "  </tbody>\n",
       "</table>\n",
       "</div>"
      ],
      "text/plain": [
       "                  f0             f1             f2        product\n",
       "count  100000.000000  100000.000000  100000.000000  100000.000000\n",
       "mean        0.500419       0.250143       2.502647      92.500000\n",
       "std         0.871832       0.504433       3.248248      44.288691\n",
       "min        -1.408605      -0.848218     -12.088328       0.000000\n",
       "25%        -0.072580      -0.200881       0.287748      56.497507\n",
       "50%         0.502360       0.250252       2.515969      91.849972\n",
       "75%         1.073581       0.700646       4.715088     128.564089\n",
       "max         2.362331       1.343769      16.003790     185.364347"
      ]
     },
     "metadata": {},
     "output_type": "display_data"
    },
    {
     "data": {
      "image/png": "[encoded data removed]",
      "text/plain": [
       "<Figure size 432x288 with 1 Axes>"
      ]
     },
     "metadata": {
      "needs_background": "light"
     },
     "output_type": "display_data"
    }
   ],
   "source": [
    "review(geo_0)"
   ]
  },
  {
   "cell_type": "code",
   "execution_count": 5,
   "id": "61eff550-7b0e-46f7-8cc2-1b23e4eaa4c5",
   "metadata": {},
   "outputs": [
    {
     "name": "stdout",
     "output_type": "stream",
     "text": [
      "Пропуски: id         0\n",
      "f0         0\n",
      "f1         0\n",
      "f2         0\n",
      "product    0\n",
      "dtype: int64\n",
      "\n",
      "Дубликаты: 0\n",
      "\n"
     ]
    },
    {
     "data": {
      "text/html": [
       "<div>\n",
       "<style scoped>\n",
       "    .dataframe tbody tr th:only-of-type {\n",
       "        vertical-align: middle;\n",
       "    }\n",
       "\n",
       "    .dataframe tbody tr th {\n",
       "        vertical-align: top;\n",
       "    }\n",
       "\n",
       "    .dataframe thead th {\n",
       "        text-align: right;\n",
       "    }\n",
       "</style>\n",
       "<table border=\"1\" class=\"dataframe\">\n",
       "  <thead>\n",
       "    <tr style=\"text-align: right;\">\n",
       "      <th></th>\n",
       "      <th>f0</th>\n",
       "      <th>f1</th>\n",
       "      <th>f2</th>\n",
       "      <th>product</th>\n",
       "    </tr>\n",
       "  </thead>\n",
       "  <tbody>\n",
       "    <tr>\n",
       "      <th>count</th>\n",
       "      <td>100000.000000</td>\n",
       "      <td>100000.000000</td>\n",
       "      <td>100000.000000</td>\n",
       "      <td>100000.000000</td>\n",
       "    </tr>\n",
       "    <tr>\n",
       "      <th>mean</th>\n",
       "      <td>1.141296</td>\n",
       "      <td>-4.796579</td>\n",
       "      <td>2.494541</td>\n",
       "      <td>68.825000</td>\n",
       "    </tr>\n",
       "    <tr>\n",
       "      <th>std</th>\n",
       "      <td>8.965932</td>\n",
       "      <td>5.119872</td>\n",
       "      <td>1.703572</td>\n",
       "      <td>45.944423</td>\n",
       "    </tr>\n",
       "    <tr>\n",
       "      <th>min</th>\n",
       "      <td>-31.609576</td>\n",
       "      <td>-26.358598</td>\n",
       "      <td>-0.018144</td>\n",
       "      <td>0.000000</td>\n",
       "    </tr>\n",
       "    <tr>\n",
       "      <th>25%</th>\n",
       "      <td>-6.298551</td>\n",
       "      <td>-8.267985</td>\n",
       "      <td>1.000021</td>\n",
       "      <td>26.953261</td>\n",
       "    </tr>\n",
       "    <tr>\n",
       "      <th>50%</th>\n",
       "      <td>1.153055</td>\n",
       "      <td>-4.813172</td>\n",
       "      <td>2.011479</td>\n",
       "      <td>57.085625</td>\n",
       "    </tr>\n",
       "    <tr>\n",
       "      <th>75%</th>\n",
       "      <td>8.621015</td>\n",
       "      <td>-1.332816</td>\n",
       "      <td>3.999904</td>\n",
       "      <td>107.813044</td>\n",
       "    </tr>\n",
       "    <tr>\n",
       "      <th>max</th>\n",
       "      <td>29.421755</td>\n",
       "      <td>18.734063</td>\n",
       "      <td>5.019721</td>\n",
       "      <td>137.945408</td>\n",
       "    </tr>\n",
       "  </tbody>\n",
       "</table>\n",
       "</div>"
      ],
      "text/plain": [
       "                  f0             f1             f2        product\n",
       "count  100000.000000  100000.000000  100000.000000  100000.000000\n",
       "mean        1.141296      -4.796579       2.494541      68.825000\n",
       "std         8.965932       5.119872       1.703572      45.944423\n",
       "min       -31.609576     -26.358598      -0.018144       0.000000\n",
       "25%        -6.298551      -8.267985       1.000021      26.953261\n",
       "50%         1.153055      -4.813172       2.011479      57.085625\n",
       "75%         8.621015      -1.332816       3.999904     107.813044\n",
       "max        29.421755      18.734063       5.019721     137.945408"
      ]
     },
     "metadata": {},
     "output_type": "display_data"
    },
    {
     "data": {
      "image/png": "[encoded data removed]",
      "text/plain": [
       "<Figure size 432x288 with 1 Axes>"
      ]
     },
     "metadata": {
      "needs_background": "light"
     },
     "output_type": "display_data"
    }
   ],
   "source": [
    "review(geo_1)"
   ]
  },
  {
   "cell_type": "code",
   "execution_count": 6,
   "id": "6ed23f4f-404a-4bf1-8c70-d89e63d1c910",
   "metadata": {},
   "outputs": [
    {
     "name": "stdout",
     "output_type": "stream",
     "text": [
      "Пропуски: id         0\n",
      "f0         0\n",
      "f1         0\n",
      "f2         0\n",
      "product    0\n",
      "dtype: int64\n",
      "\n",
      "Дубликаты: 0\n",
      "\n"
     ]
    },
    {
     "data": {
      "text/html": [
       "<div>\n",
       "<style scoped>\n",
       "    .dataframe tbody tr th:only-of-type {\n",
       "        vertical-align: middle;\n",
       "    }\n",
       "\n",
       "    .dataframe tbody tr th {\n",
       "        vertical-align: top;\n",
       "    }\n",
       "\n",
       "    .dataframe thead th {\n",
       "        text-align: right;\n",
       "    }\n",
       "</style>\n",
       "<table border=\"1\" class=\"dataframe\">\n",
       "  <thead>\n",
       "    <tr style=\"text-align: right;\">\n",
       "      <th></th>\n",
       "      <th>f0</th>\n",
       "      <th>f1</th>\n",
       "      <th>f2</th>\n",
       "      <th>product</th>\n",
       "    </tr>\n",
       "  </thead>\n",
       "  <tbody>\n",
       "    <tr>\n",
       "      <th>count</th>\n",
       "      <td>100000.000000</td>\n",
       "      <td>100000.000000</td>\n",
       "      <td>100000.000000</td>\n",
       "      <td>100000.000000</td>\n",
       "    </tr>\n",
       "    <tr>\n",
       "      <th>mean</th>\n",
       "      <td>0.002023</td>\n",
       "      <td>-0.002081</td>\n",
       "      <td>2.495128</td>\n",
       "      <td>95.000000</td>\n",
       "    </tr>\n",
       "    <tr>\n",
       "      <th>std</th>\n",
       "      <td>1.732045</td>\n",
       "      <td>1.730417</td>\n",
       "      <td>3.473445</td>\n",
       "      <td>44.749921</td>\n",
       "    </tr>\n",
       "    <tr>\n",
       "      <th>min</th>\n",
       "      <td>-8.760004</td>\n",
       "      <td>-7.084020</td>\n",
       "      <td>-11.970335</td>\n",
       "      <td>0.000000</td>\n",
       "    </tr>\n",
       "    <tr>\n",
       "      <th>25%</th>\n",
       "      <td>-1.162288</td>\n",
       "      <td>-1.174820</td>\n",
       "      <td>0.130359</td>\n",
       "      <td>59.450441</td>\n",
       "    </tr>\n",
       "    <tr>\n",
       "      <th>50%</th>\n",
       "      <td>0.009424</td>\n",
       "      <td>-0.009482</td>\n",
       "      <td>2.484236</td>\n",
       "      <td>94.925613</td>\n",
       "    </tr>\n",
       "    <tr>\n",
       "      <th>75%</th>\n",
       "      <td>1.158535</td>\n",
       "      <td>1.163678</td>\n",
       "      <td>4.858794</td>\n",
       "      <td>130.595027</td>\n",
       "    </tr>\n",
       "    <tr>\n",
       "      <th>max</th>\n",
       "      <td>7.238262</td>\n",
       "      <td>7.844801</td>\n",
       "      <td>16.739402</td>\n",
       "      <td>190.029838</td>\n",
       "    </tr>\n",
       "  </tbody>\n",
       "</table>\n",
       "</div>"
      ],
      "text/plain": [
       "                  f0             f1             f2        product\n",
       "count  100000.000000  100000.000000  100000.000000  100000.000000\n",
       "mean        0.002023      -0.002081       2.495128      95.000000\n",
       "std         1.732045       1.730417       3.473445      44.749921\n",
       "min        -8.760004      -7.084020     -11.970335       0.000000\n",
       "25%        -1.162288      -1.174820       0.130359      59.450441\n",
       "50%         0.009424      -0.009482       2.484236      94.925613\n",
       "75%         1.158535       1.163678       4.858794     130.595027\n",
       "max         7.238262       7.844801      16.739402     190.029838"
      ]
     },
     "metadata": {},
     "output_type": "display_data"
    },
    {
     "data": {
      "image/png": "[encoded data removed]",
      "text/plain": [
       "<Figure size 432x288 with 1 Axes>"
      ]
     },
     "metadata": {
      "needs_background": "light"
     },
     "output_type": "display_data"
    }
   ],
   "source": [
    "review(geo_2)"
   ]
  },
  {
   "cell_type": "code",
   "execution_count": 7,
   "id": "403fb889-acc5-4840-b3e0-3e42a0466b8e",
   "metadata": {},
   "outputs": [
    {
     "name": "stdout",
     "output_type": "stream",
     "text": [
      " Пустых скважин в geo_0: 1\n",
      " Пустых скважин в geo_1: 8235\n",
      " Пустых скважин в geo_2: 1\n"
     ]
    }
   ],
   "source": [
    "print(f\" Пустых скважин в geo_0: {geo_0.query('product == 0')['product'].count()}\")\n",
    "print(f\" Пустых скважин в geo_1: {geo_1.query('product == 0')['product'].count()}\")\n",
    "print(f\" Пустых скважин в geo_2: {geo_2.query('product == 0')['product'].count()}\")"
   ]
  },
  {
   "cell_type": "markdown",
   "id": "a1c5d211-5693-41e6-8de7-a02213a251f3",
   "metadata": {},
   "source": [
    "### Вывод"
   ]
  },
  {
   "cell_type": "markdown",
   "id": "eb51c73c-795b-4926-ae52-0674b96dc20a",
   "metadata": {},
   "source": [
    "Данные впорядке, предобработка не требуется. Непонятно, правда, насчет пустых скважин."
   ]
  },
  {
   "cell_type": "markdown",
   "id": "76d47bff",
   "metadata": {},
   "source": [
    "## Обучение модели"
   ]
  },
  {
   "cell_type": "code",
   "execution_count": 8,
   "id": "7b3f6907-c3ea-407f-a212-7600df0e0289",
   "metadata": {},
   "outputs": [],
   "source": [
    "# Функция делит выборку на валидационную и обучающую, \n",
    "# скалирует её, обучает и выводит предсказания, rmse, и таргет\n",
    "def finished_model(df):\n",
    "    X = df.drop(['id','product'],axis=1)\n",
    "    y = df['product']\n",
    "    \n",
    "    X_train, X_valid, y_train, y_valid = train_test_split(X, y, test_size=0.25, random_state=42)\n",
    "    \n",
    "    num = ['f0','f1','f2']\n",
    "    scaler = StandardScaler()\n",
    "    scaler.fit(X_train[num])\n",
    "    X_train[num] = scaler.transform(X_train[num])\n",
    "    X_valid[num] = scaler.transform(X_valid[num])\n",
    "    \n",
    "    lr = LinearRegression()\n",
    "    lr.fit(X_train, y_train)\n",
    "    predict = lr.predict(X_valid)\n",
    "    predict = pd.Series(predict)\n",
    "    rmse = mean_squared_error(y_valid, predict)**0.5\n",
    "    product_mean = predict.mean()\n",
    "    print(f'Средний запас предсказанного сырья: {product_mean:.3} тыс. баррелей')\n",
    "    print(f'RMSE равен: {rmse:.3} тыс. баррелей')\n",
    "    fig, ax = plt.subplots(figsize = (5, 5))\n",
    "    ax.hist(predict, bins=30);\n",
    "    return predict, rmse, y_valid.reset_index(drop=True)"
   ]
  },
  {
   "cell_type": "code",
   "execution_count": 9,
   "id": "7665e161-f5ed-410c-8b21-3a609aee196a",
   "metadata": {},
   "outputs": [
    {
     "name": "stdout",
     "output_type": "stream",
     "text": [
      "Для geo_0\n",
      "Средний запас предсказанного сырья: 92.4 тыс. баррелей\n",
      "RMSE равен: 37.8 тыс. баррелей\n"
     ]
    },
    {
     "data": {
      "image/png": "[encoded data removed]",
      "text/plain": [
       "<Figure size 360x360 with 1 Axes>"
      ]
     },
     "metadata": {
      "needs_background": "light"
     },
     "output_type": "display_data"
    }
   ],
   "source": [
    "print('Для geo_0')\n",
    "predict_0, rmse_0, y_valid_0 = finished_model(geo_0)\n"
   ]
  },
  {
   "cell_type": "code",
   "execution_count": 10,
   "id": "543fa9c5-7d7a-407d-863b-50872ebd382a",
   "metadata": {},
   "outputs": [
    {
     "name": "stdout",
     "output_type": "stream",
     "text": [
      "Для geo_1\n",
      "Средний запас предсказанного сырья: 68.7 тыс. баррелей\n",
      "RMSE равен: 0.89 тыс. баррелей\n"
     ]
    },
    {
     "data": {
      "image/png": "[encoded data removed]",
      "text/plain": [
       "<Figure size 360x360 with 1 Axes>"
      ]
     },
     "metadata": {
      "needs_background": "light"
     },
     "output_type": "display_data"
    }
   ],
   "source": [
    "print('Для geo_1')\n",
    "predict_1, rmse_1, y_valid_1 = finished_model(geo_1)"
   ]
  },
  {
   "cell_type": "code",
   "execution_count": 11,
   "id": "0c824ccf-63ed-4012-855b-7e48149ca634",
   "metadata": {},
   "outputs": [
    {
     "name": "stdout",
     "output_type": "stream",
     "text": [
      "Для geo_2\n",
      "Средний запас предсказанного сырья: 94.8 тыс. баррелей\n",
      "RMSE равен: 40.1 тыс. баррелей\n"
     ]
    },
    {
     "data": {
      "image/png": "[encoded data removed]",
      "text/plain": [
       "<Figure size 360x360 with 1 Axes>"
      ]
     },
     "metadata": {
      "needs_background": "light"
     },
     "output_type": "display_data"
    }
   ],
   "source": [
    "print('Для geo_2')\n",
    "predict_2, rmse_2, y_valid_2 = finished_model(geo_2)"
   ]
  },
  {
   "cell_type": "markdown",
   "id": "c6f286d1",
   "metadata": {},
   "source": [
    "## Подготовка к расчету прибыли"
   ]
  },
  {
   "cell_type": "markdown",
   "id": "585909f0-1295-403a-a012-85c4d6606462",
   "metadata": {},
   "source": [
    "**Условия задачи:**  \n",
    "При разведке региона исследуют 500 точек, из которых с помощью машинного обучения выбирают 200 лучших для разработки.  \n",
    "Бюджет на разработку скважин в регионе — 10 млрд рублей.  \n",
    "При нынешних ценах один баррель сырья приносит 450 рублей дохода. Доход с каждой единицы продукта составляет 450 тыс. рублей, поскольку объём указан в тысячах баррелей.  \n",
    "После оценки рисков нужно оставить лишь те регионы, в которых вероятность убытков меньше 2.5%. Среди них выбирают регион с наибольшей средней прибылью.  "
   ]
  },
  {
   "cell_type": "code",
   "execution_count": 12,
   "id": "5b6e903b-e866-454f-b38e-78da28494c71",
   "metadata": {},
   "outputs": [
    {
     "name": "stdout",
     "output_type": "stream",
     "text": [
      "Чтобы выйти в ноль по скважине, необходимо в среднем 112 тыс.баррелей нефти на скважину в регионе\n"
     ]
    }
   ],
   "source": [
    "to_null = int(10e9 / 450000 / 200) +1\n",
    "print(f'Чтобы выйти в ноль по скважине, необходимо в среднем {to_null} тыс.баррелей нефти на скважину в регионе')"
   ]
  },
  {
   "cell_type": "code",
   "execution_count": 13,
   "id": "9d98d47e-10b9-4823-833b-34ab7bea16ad",
   "metadata": {},
   "outputs": [
    {
     "name": "stdout",
     "output_type": "stream",
     "text": [
      "Регион 0 убыточен на 19 тыс.барелей/скважина\n",
      "Регион 1 убыточен на 43 тыс.барелей/скважина\n",
      "Регион 2 убыточен на 17 тыс.барелей/скважина\n"
     ]
    }
   ],
   "source": [
    "i=0\n",
    "for j in [predict_0, predict_1, predict_2]:\n",
    "    if j.mean() < to_null:\n",
    "        print(f'Регион {i} убыточен на {int((to_null - j.mean()))} тыс.барелей/скважина')\n",
    "        i+=1\n",
    "    else:\n",
    "        print(f'В регионе {i} прибыль составит {int(j.mean() - to_null)} тыс.баррелей на скважину')"
   ]
  },
  {
   "cell_type": "markdown",
   "id": "de32350b-5755-484a-b1de-4f1c298e650f",
   "metadata": {},
   "source": [
    "### Вывод"
   ]
  },
  {
   "cell_type": "markdown",
   "id": "50185abd",
   "metadata": {},
   "source": [
    "Судя по предсказаниям в среднем, все районы убыточны, но как мы видели на гистограммах, есть достаточно большой шанс выбрать только лучшие скважины, которые содержат нефти больше безубыточного минимума"
   ]
  },
  {
   "cell_type": "markdown",
   "id": "5f73e5da",
   "metadata": {},
   "source": [
    "## Расчет прибыли по регионам"
   ]
  },
  {
   "cell_type": "code",
   "execution_count": 14,
   "id": "8deff562-aaf1-495c-b559-19eddd220d9a",
   "metadata": {},
   "outputs": [],
   "source": [
    "# функция подсчитывает прибыль с региона\n",
    "def profit(predict, y_valid):\n",
    "    best_predict = predict.sort_values().tail(200)\n",
    "    y_best = y_valid[best_predict.index]\n",
    "    profit = y_best.sum() *450000 - 10000000000\n",
    "    return profit"
   ]
  },
  {
   "cell_type": "code",
   "execution_count": 15,
   "id": "caa64743-f03d-4e80-902f-d5856c7f3c77",
   "metadata": {},
   "outputs": [],
   "source": [
    "state = np.random.RandomState(42)"
   ]
  },
  {
   "cell_type": "code",
   "execution_count": 16,
   "id": "5d5270de-06c3-43c9-82c3-79b56dfc3da4",
   "metadata": {},
   "outputs": [],
   "source": [
    "# собственно, бутстрап для подсчета вероятной прибыли с региона, доверительного интервала и рисков\n",
    "def bootstrap(y_valid, predict):\n",
    "    values = []\n",
    "    risk=0\n",
    "    for i in range(1000):\n",
    "        y_subsample = y_valid_0.sample(500, replace=True, random_state=state)\n",
    "        pred_subsample = predict_0[y_subsample.index]\n",
    "        prof = profit(pred_subsample, y_subsample)\n",
    "        values.append(prof)\n",
    "        if prof < 0:\n",
    "            risk += 1\n",
    "    risk /= 1000\n",
    "    values = pd.Series(values)\n",
    "    mean = values.mean()\n",
    "    upper = values.quantile(0.975)\n",
    "    lower = values.quantile(0.025)\n",
    "    return risk, mean, lower, upper"
   ]
  },
  {
   "cell_type": "markdown",
   "id": "30f5ee21",
   "metadata": {},
   "source": [
    "Теперь, когда все функции готовы, применим их на всех регионах"
   ]
  },
  {
   "cell_type": "code",
   "execution_count": 17,
   "id": "708e985b-6013-464f-a953-679c0d9ee4a3",
   "metadata": {},
   "outputs": [
    {
     "name": "stdout",
     "output_type": "stream",
     "text": [
      "Для региона 0\n",
      "\n",
      "Средняя прибыль равна: 606.1 млн.рублей\n",
      "Доверительный интервал от 10.09 млн.рублей до 1246.4 млн.рублей\n",
      "Риск убытков равен:2.50%\n",
      "-----------------\n",
      "Для региона 1\n",
      "\n",
      "Средняя прибыль равна: 628.1 млн.рублей\n",
      "Доверительный интервал от 65.42 млн.рублей до 1251.3 млн.рублей\n",
      "Риск убытков равен:1.60%\n",
      "-----------------\n",
      "Для региона 2\n",
      "\n",
      "Средняя прибыль равна: 612.2 млн.рублей\n",
      "Доверительный интервал от 4.188 млн.рублей до 1262.1 млн.рублей\n",
      "Риск убытков равен:2.50%\n",
      "-----------------\n"
     ]
    }
   ],
   "source": [
    "predicts = [predict_0,predict_1,predict_2]\n",
    "y_valids = [y_valid_0,y_valid_1,y_valid_2]\n",
    "i=0\n",
    "for predict, y_valid in zip(predicts, y_valids):\n",
    "    risk, mean, lower, upper = bootstrap(y_valid, predict)\n",
    "    print(f'Для региона {i}')\n",
    "    print('')\n",
    "    print(f'Средняя прибыль равна: {mean/1e6:.4} млн.рублей')\n",
    "    print(f'Доверительный интервал от {lower/10e5:.4} млн.рублей до {upper/10e5:.5} млн.рублей')\n",
    "    print(f'Риск убытков равен:{risk:.2%}')\n",
    "    print('-----------------')\n",
    "    i+=1\n"
   ]
  },
  {
   "cell_type": "markdown",
   "id": "3ead48c6",
   "metadata": {},
   "source": [
    "### Вывод"
   ]
  },
  {
   "cell_type": "markdown",
   "id": "393e8796",
   "metadata": {},
   "source": [
    "Судя по условиям заказчика, после оценки рисков нужно оставить лишь те регионы, в которых вероятность убытков меньше 2.5%.  \n",
    "Таким образом нам подходит только регион-1, в котором:\n",
    "* Средняя прибыль равна: 628.1 млн.рублей\n",
    "* Доверительный интервал от 65.42 млн.рублей до 1251.3 млн.рублей\n",
    "* Риск убытков равен:1.60%"
   ]
  },
  {
   "cell_type": "markdown",
   "id": "b79b7c99",
   "metadata": {},
   "source": [
    "## Выводы"
   ]
  },
  {
   "cell_type": "markdown",
   "id": "f6374f8a",
   "metadata": {},
   "source": [
    "Мы изучили данные, провели их предобработку, обучили модель предсказывать объем нефти в скважине, после чего с помощью bootstrap провели тесты и выявили наиболее прибыльный регион, которым оказался регион-1, так как у него наибольший потенциал прибыли при наименьших рисках"
   ]
  }
 ],
 "metadata": {
  "kernelspec": {
   "display_name": "Python 3 (ipykernel)",
   "language": "python",
   "name": "python3"
  },
  "language_info": {
   "codemirror_mode": {
    "name": "ipython",
    "version": 3
   },
   "file_extension": ".py",
   "mimetype": "text/x-python",
   "name": "python",
   "nbconvert_exporter": "python",
   "pygments_lexer": "ipython3",
   "version": "3.9.7"
  },
  "toc": {
   "base_numbering": 1,
   "nav_menu": {},
   "number_sections": true,
   "sideBar": true,
   "skip_h1_title": true,
   "title_cell": "Содержание",
   "title_sidebar": "Contents",
   "toc_cell": true,
   "toc_position": {},
   "toc_section_display": true,
   "toc_window_display": true
  }
 },
 "nbformat": 4,
 "nbformat_minor": 5
}
