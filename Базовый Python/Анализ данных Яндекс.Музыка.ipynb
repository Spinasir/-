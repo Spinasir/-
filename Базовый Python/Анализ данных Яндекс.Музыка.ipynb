{
 "cells": [
  {
   "cell_type": "markdown",
   "metadata": {
    "id": "E0vqbgi9ay0H"
   },
   "source": [
    "# Яндекс.Музыка"
   ]
  },
  {
   "cell_type": "markdown",
   "metadata": {
    "id": "VUC88oWjTJw2"
   },
   "source": [
    "Сравнение Москвы и Петербурга окружено мифами. Например:\n",
    " * Москва — мегаполис, подчинённый жёсткому ритму рабочей недели;\n",
    " * Петербург — культурная столица, со своими вкусами.\n",
    "\n",
    "На данных Яндекс.Музыки вы сравните поведение пользователей двух столиц.\n",
    "\n",
    "**Цель исследования** — проверить три гипотезы:\n",
    "1. Активность пользователей зависит от дня недели. Причём в Москве и Петербурге это проявляется по-разному.\n",
    "2. В понедельник утром в Москве преобладают одни жанры, а в Петербурге — другие. Так же и вечером пятницы преобладают разные жанры — в зависимости от города. \n",
    "3. Москва и Петербург предпочитают разные жанры музыки. В Москве чаще слушают поп-музыку, в Петербурге — русский рэп.\n",
    "\n",
    "**Ход исследования**\n",
    "\n",
    " 1. Обзор данных.\n",
    " 2. Предобработка данных.\n",
    " 3. Проверка гипотез.\n",
    "\n"
   ]
  },
  {
   "cell_type": "markdown",
   "metadata": {
    "id": "Ml1hmfXC_Zcs"
   },
   "source": [
    "## Обзор данных\n",
    "\n",
    "Составим первое представление о данных Яндекс.Музыки.\n",
    "\n",
    "\n"
   ]
  },
  {
   "cell_type": "code",
   "execution_count": 1,
   "metadata": {
    "id": "AXN7PHPN_Zcs"
   },
   "outputs": [],
   "source": [
    "import pandas as pd # импорт библиотеки pandas"
   ]
  },
  {
   "cell_type": "code",
   "execution_count": 2,
   "metadata": {
    "id": "fFVu7vqh_Zct"
   },
   "outputs": [],
   "source": [
    "# чтение файла с данными и сохранение в df\n",
    "try:\n",
    "df = pd.read_csv('/datasets/yandex_music_project.csv')\n",
    "except:\n",
    "    df = pd.read_csv('/datasets/yandex_music_project.csv')"
   ]
  },
  {
   "cell_type": "code",
   "execution_count": 3,
   "metadata": {
    "id": "oWTVX3gW_Zct"
   },
   "outputs": [
    {
     "data": {
      "text/html": [
       "<div>\n",
       "<style scoped>\n",
       "    .dataframe tbody tr th:only-of-type {\n",
       "        vertical-align: middle;\n",
       "    }\n",
       "\n",
       "    .dataframe tbody tr th {\n",
       "        vertical-align: top;\n",
       "    }\n",
       "\n",
       "    .dataframe thead th {\n",
       "        text-align: right;\n",
       "    }\n",
       "</style>\n",
       "<table border=\"1\" class=\"dataframe\">\n",
       "  <thead>\n",
       "    <tr style=\"text-align: right;\">\n",
       "      <th></th>\n",
       "      <th>userID</th>\n",
       "      <th>Track</th>\n",
       "      <th>artist</th>\n",
       "      <th>genre</th>\n",
       "      <th>City</th>\n",
       "      <th>time</th>\n",
       "      <th>Day</th>\n",
       "    </tr>\n",
       "  </thead>\n",
       "  <tbody>\n",
       "    <tr>\n",
       "      <td>0</td>\n",
       "      <td>FFB692EC</td>\n",
       "      <td>Kamigata To Boots</td>\n",
       "      <td>The Mass Missile</td>\n",
       "      <td>rock</td>\n",
       "      <td>Saint-Petersburg</td>\n",
       "      <td>20:28:33</td>\n",
       "      <td>Wednesday</td>\n",
       "    </tr>\n",
       "    <tr>\n",
       "      <td>1</td>\n",
       "      <td>55204538</td>\n",
       "      <td>Delayed Because of Accident</td>\n",
       "      <td>Andreas Rönnberg</td>\n",
       "      <td>rock</td>\n",
       "      <td>Moscow</td>\n",
       "      <td>14:07:09</td>\n",
       "      <td>Friday</td>\n",
       "    </tr>\n",
       "    <tr>\n",
       "      <td>2</td>\n",
       "      <td>20EC38</td>\n",
       "      <td>Funiculì funiculà</td>\n",
       "      <td>Mario Lanza</td>\n",
       "      <td>pop</td>\n",
       "      <td>Saint-Petersburg</td>\n",
       "      <td>20:58:07</td>\n",
       "      <td>Wednesday</td>\n",
       "    </tr>\n",
       "    <tr>\n",
       "      <td>3</td>\n",
       "      <td>A3DD03C9</td>\n",
       "      <td>Dragons in the Sunset</td>\n",
       "      <td>Fire + Ice</td>\n",
       "      <td>folk</td>\n",
       "      <td>Saint-Petersburg</td>\n",
       "      <td>08:37:09</td>\n",
       "      <td>Monday</td>\n",
       "    </tr>\n",
       "    <tr>\n",
       "      <td>4</td>\n",
       "      <td>E2DC1FAE</td>\n",
       "      <td>Soul People</td>\n",
       "      <td>Space Echo</td>\n",
       "      <td>dance</td>\n",
       "      <td>Moscow</td>\n",
       "      <td>08:34:34</td>\n",
       "      <td>Monday</td>\n",
       "    </tr>\n",
       "    <tr>\n",
       "      <td>5</td>\n",
       "      <td>842029A1</td>\n",
       "      <td>Преданная</td>\n",
       "      <td>IMPERVTOR</td>\n",
       "      <td>rusrap</td>\n",
       "      <td>Saint-Petersburg</td>\n",
       "      <td>13:09:41</td>\n",
       "      <td>Friday</td>\n",
       "    </tr>\n",
       "    <tr>\n",
       "      <td>6</td>\n",
       "      <td>4CB90AA5</td>\n",
       "      <td>True</td>\n",
       "      <td>Roman Messer</td>\n",
       "      <td>dance</td>\n",
       "      <td>Moscow</td>\n",
       "      <td>13:00:07</td>\n",
       "      <td>Wednesday</td>\n",
       "    </tr>\n",
       "    <tr>\n",
       "      <td>7</td>\n",
       "      <td>F03E1C1F</td>\n",
       "      <td>Feeling This Way</td>\n",
       "      <td>Polina Griffith</td>\n",
       "      <td>dance</td>\n",
       "      <td>Moscow</td>\n",
       "      <td>20:47:49</td>\n",
       "      <td>Wednesday</td>\n",
       "    </tr>\n",
       "    <tr>\n",
       "      <td>8</td>\n",
       "      <td>8FA1D3BE</td>\n",
       "      <td>И вновь продолжается бой</td>\n",
       "      <td>NaN</td>\n",
       "      <td>ruspop</td>\n",
       "      <td>Moscow</td>\n",
       "      <td>09:17:40</td>\n",
       "      <td>Friday</td>\n",
       "    </tr>\n",
       "    <tr>\n",
       "      <td>9</td>\n",
       "      <td>E772D5C0</td>\n",
       "      <td>Pessimist</td>\n",
       "      <td>NaN</td>\n",
       "      <td>dance</td>\n",
       "      <td>Saint-Petersburg</td>\n",
       "      <td>21:20:49</td>\n",
       "      <td>Wednesday</td>\n",
       "    </tr>\n",
       "  </tbody>\n",
       "</table>\n",
       "</div>"
      ],
      "text/plain": [
       "     userID                        Track            artist   genre  \\\n",
       "0  FFB692EC            Kamigata To Boots  The Mass Missile    rock   \n",
       "1  55204538  Delayed Because of Accident  Andreas Rönnberg    rock   \n",
       "2    20EC38            Funiculì funiculà       Mario Lanza     pop   \n",
       "3  A3DD03C9        Dragons in the Sunset        Fire + Ice    folk   \n",
       "4  E2DC1FAE                  Soul People        Space Echo   dance   \n",
       "5  842029A1                    Преданная         IMPERVTOR  rusrap   \n",
       "6  4CB90AA5                         True      Roman Messer   dance   \n",
       "7  F03E1C1F             Feeling This Way   Polina Griffith   dance   \n",
       "8  8FA1D3BE     И вновь продолжается бой               NaN  ruspop   \n",
       "9  E772D5C0                    Pessimist               NaN   dance   \n",
       "\n",
       "             City        time        Day  \n",
       "0  Saint-Petersburg  20:28:33  Wednesday  \n",
       "1            Moscow  14:07:09     Friday  \n",
       "2  Saint-Petersburg  20:58:07  Wednesday  \n",
       "3  Saint-Petersburg  08:37:09     Monday  \n",
       "4            Moscow  08:34:34     Monday  \n",
       "5  Saint-Petersburg  13:09:41     Friday  \n",
       "6            Moscow  13:00:07  Wednesday  \n",
       "7            Moscow  20:47:49  Wednesday  \n",
       "8            Moscow  09:17:40     Friday  \n",
       "9  Saint-Petersburg  21:20:49  Wednesday  "
      ]
     },
     "metadata": {},
     "output_type": "display_data"
    }
   ],
   "source": [
    "display(df.head(10))# получение первых 10 строк таблицы df"
   ]
  },
  {
   "cell_type": "code",
   "execution_count": 4,
   "metadata": {
    "id": "DSf2kIb-_Zct"
   },
   "outputs": [
    {
     "name": "stdout",
     "output_type": "stream",
     "text": [
      "<class 'pandas.core.frame.DataFrame'>\n",
      "RangeIndex: 65079 entries, 0 to 65078\n",
      "Data columns (total 7 columns):\n",
      "  userID    65079 non-null object\n",
      "Track       63848 non-null object\n",
      "artist      57876 non-null object\n",
      "genre       63881 non-null object\n",
      "  City      65079 non-null object\n",
      "time        65079 non-null object\n",
      "Day         65079 non-null object\n",
      "dtypes: object(7)\n",
      "memory usage: 3.5+ MB\n"
     ]
    }
   ],
   "source": [
    "df.info()# получение общей информации о данных в таблице df"
   ]
  },
  {
   "cell_type": "markdown",
   "metadata": {
    "id": "TaQ2Iwbr_Zct"
   },
   "source": [
    "Итак, в таблице семь столбцов. Тип данных во всех столбцах — `object`.\n",
    "\n",
    "Согласно документации к данным:\n",
    "* `userID` — идентификатор пользователя;\n",
    "* `Track` — название трека;  \n",
    "* `artist` — имя исполнителя;\n",
    "* `genre` — название жанра;\n",
    "* `City` — город пользователя;\n",
    "* `time` — время начала прослушивания;\n",
    "* `Day` — день недели.\n",
    "\n",
    "В названиях колонок видны три нарушения стиля:\n",
    "1. Строчные буквы сочетаются с прописными.\n",
    "2. Встречаются пробелы.\n",
    "3. Не соблюдается \"змеиный_регистр\".\n",
    "\n",
    "\n",
    "\n",
    "Количество значений в столбцах различается. Значит, в данных есть пропущенные значения.\n"
   ]
  },
  {
   "cell_type": "markdown",
   "metadata": {
    "id": "MCB6-dXG_Zct"
   },
   "source": [
    "**Выводы**\n",
    "\n",
    "В каждой строке таблицы — данные о прослушанном треке. Часть колонок описывает саму композицию: название, исполнителя и жанр. Остальные данные рассказывают о пользователе: из какого он города, когда он слушал музыку. \n",
    "\n",
    "Предварительно можно утверждать, что, данных достаточно для проверки гипотез. Но встречаются пропуски в данных, а в названиях колонок — расхождения с хорошим стилем.\n",
    "\n",
    "Чтобы двигаться дальше, нужно устранить проблемы в данных."
   ]
  },
  {
   "cell_type": "markdown",
   "metadata": {
    "id": "SjYF6Ub9_Zct"
   },
   "source": [
    "## Предобработка данных\n",
    "Исправьим стиль в заголовках столбцов, исключим пропуски. Затем проверим данные на дубликаты."
   ]
  },
  {
   "cell_type": "markdown",
   "metadata": {
    "id": "dIaKXr29_Zct"
   },
   "source": [
    "### Стиль заголовков\n",
    "Выведем на экран названия столбцов:"
   ]
  },
  {
   "cell_type": "code",
   "execution_count": 5,
   "metadata": {
    "id": "oKOTdF_Q_Zct"
   },
   "outputs": [
    {
     "name": "stdout",
     "output_type": "stream",
     "text": [
      "Index(['  userID', 'Track', 'artist', 'genre', '  City  ', 'time', 'Day'], dtype='object')\n"
     ]
    }
   ],
   "source": [
    "print(df.columns) # перечень названий столбцов таблицы df"
   ]
  },
  {
   "cell_type": "markdown",
   "metadata": {
    "id": "zj5534cv_Zct"
   },
   "source": [
    "Приведем названия в соответствие с хорошим стилем:\n",
    "* несколько слов в названии запишите в «змеином_регистре»,\n",
    "* все символы сделайте строчными,\n",
    "* устраните пробелы.\n",
    "\n",
    "Для этого переименуем колонки так:\n",
    "* `'  userID'` → `'user_id'`;\n",
    "* `'Track'` → `'track'`;\n",
    "* `'  City  '` → `'city'`;\n",
    "* `'Day'` → `'day'`."
   ]
  },
  {
   "cell_type": "code",
   "execution_count": 6,
   "metadata": {
    "id": "ISlFqs5y_Zct"
   },
   "outputs": [],
   "source": [
    "df = df.rename(columns={'  userID':'user_id', 'Track':'track', '  City  ':'city', 'Day':'day'}) # переименование столбцов"
   ]
  },
  {
   "cell_type": "markdown",
   "metadata": {
    "id": "1dqbh00J_Zct"
   },
   "source": [
    "Проверим результат. Для этого ещё раз выведем на экран названия столбцов:"
   ]
  },
  {
   "cell_type": "code",
   "execution_count": 7,
   "metadata": {
    "id": "d4NOAmTW_Zct"
   },
   "outputs": [
    {
     "name": "stdout",
     "output_type": "stream",
     "text": [
      "Index(['user_id', 'track', 'artist', 'genre', 'city', 'time', 'day'], dtype='object')\n"
     ]
    }
   ],
   "source": [
    "print(df.columns)# проверка результатов - перечень названий столбцов"
   ]
  },
  {
   "cell_type": "markdown",
   "metadata": {
    "id": "5ISfbcfY_Zct"
   },
   "source": [
    "### Пропуски значений\n",
    "Сначала посчитаем, сколько в таблице пропущенных значений. Для этого достаточно двух методов `pandas`:"
   ]
  },
  {
   "cell_type": "code",
   "execution_count": 8,
   "metadata": {
    "id": "RskX29qr_Zct"
   },
   "outputs": [
    {
     "data": {
      "text/plain": [
       "user_id       0\n",
       "track      1231\n",
       "artist     7203\n",
       "genre      1198\n",
       "city          0\n",
       "time          0\n",
       "day           0\n",
       "dtype: int64"
      ]
     },
     "execution_count": 8,
     "metadata": {},
     "output_type": "execute_result"
    }
   ],
   "source": [
    "df.isna().sum()# подсчёт пропусков"
   ]
  },
  {
   "cell_type": "markdown",
   "metadata": {
    "id": "qubhgnlO_Zct"
   },
   "source": [
    "Не все пропущенные значения влияют на исследование. Так в `track` и `artist` пропуски не важны для нашей работы. Достаточно заменить их явными обозначениями.\n",
    "\n",
    "Но пропуски в `genre` могут помешать сравнению музыкальных вкусов в Москве и Санкт-Петербурге. На практике было бы правильно установить причину пропусков и восстановить данные. Такой возможности нет в учебном проекте. Придётся:\n",
    "* заполнить и эти пропуски явными обозначениями,\n",
    "* оценить, насколько они повредят расчётам. "
   ]
  },
  {
   "cell_type": "markdown",
   "metadata": {
    "id": "fSv2laPA_Zct"
   },
   "source": [
    "Заменим пропущенные значения в столбцах `track`, `artist` и `genre` на строку `'unknown'`. Для этого создадим список `columns_to_replace`, переберем его элементы циклом `for` и для каждого столбца выполним замену пропущенных значений:"
   ]
  },
  {
   "cell_type": "markdown",
   "metadata": {},
   "source": [
    "<a id='red_1'></a>"
   ]
  },
  {
   "cell_type": "code",
   "execution_count": 9,
   "metadata": {
    "id": "KplB5qWs_Zct"
   },
   "outputs": [],
   "source": [
    "# перебор названий столбцов в цикле и замена пропущенных значений на 'unknown'\n",
    "columns_to_replace = ['track','artist','genre']\n",
    "for column in columns_to_replace:\n",
    "    df[column] = df[column].fillna('unknown')"
   ]
  },
  {
   "cell_type": "markdown",
   "metadata": {
    "id": "Ilsm-MZo_Zct"
   },
   "source": [
    "Убедимся, что в таблице не осталось пропусков. Для этого ещё раз посчитаем пропущенные значения."
   ]
  },
  {
   "cell_type": "code",
   "execution_count": 10,
   "metadata": {
    "id": "Tq4nYRX4_Zct"
   },
   "outputs": [
    {
     "data": {
      "text/plain": [
       "user_id    0\n",
       "track      0\n",
       "artist     0\n",
       "genre      0\n",
       "city       0\n",
       "time       0\n",
       "day        0\n",
       "dtype: int64"
      ]
     },
     "execution_count": 10,
     "metadata": {},
     "output_type": "execute_result"
    }
   ],
   "source": [
    "df.isna().sum()# подсчёт пропусков"
   ]
  },
  {
   "cell_type": "markdown",
   "metadata": {
    "id": "BWKRtBJ3_Zct"
   },
   "source": [
    "### Дубликаты\n",
    "Посчитаем явные дубликаты в таблице одной командой:"
   ]
  },
  {
   "cell_type": "code",
   "execution_count": 11,
   "metadata": {
    "id": "36eES_S0_Zct"
   },
   "outputs": [
    {
     "data": {
      "text/plain": [
       "3826"
      ]
     },
     "execution_count": 11,
     "metadata": {},
     "output_type": "execute_result"
    }
   ],
   "source": [
    "df.duplicated().sum() # подсчёт явных дубликатов"
   ]
  },
  {
   "cell_type": "markdown",
   "metadata": {
    "id": "Ot25h6XR_Zct"
   },
   "source": [
    "Вызовем специальный метод `pandas`, чтобы удалить явные дубликаты:"
   ]
  },
  {
   "cell_type": "code",
   "execution_count": 12,
   "metadata": {
    "id": "exFHq6tt_Zct"
   },
   "outputs": [],
   "source": [
    "# удаление явных дубликатов (с удалением старых индексов и формированием новых)\n",
    "df =  df.drop_duplicates().reset_index(drop=True) "
   ]
  },
  {
   "cell_type": "markdown",
   "metadata": {
    "id": "Im2YwBEG_Zct"
   },
   "source": [
    "Ещё раз посчитаем явные дубликаты в таблице — убедимся, что полностью от них избавились:"
   ]
  },
  {
   "cell_type": "code",
   "execution_count": 13,
   "metadata": {
    "id": "-8PuNWQ0_Zct"
   },
   "outputs": [
    {
     "data": {
      "text/plain": [
       "0"
      ]
     },
     "execution_count": 13,
     "metadata": {},
     "output_type": "execute_result"
    }
   ],
   "source": [
    "df.duplicated().sum() # проверка на отсутствие дубликатов"
   ]
  },
  {
   "cell_type": "markdown",
   "metadata": {
    "id": "QlFBsxAr_Zct"
   },
   "source": [
    "Теперь избавимся от неявных дубликатов в колонке `genre`. Например, название одного и того же жанра может быть записано немного по-разному. Такие ошибки тоже повлияют на результат исследования."
   ]
  },
  {
   "cell_type": "markdown",
   "metadata": {
    "id": "eSjWwsOh_Zct"
   },
   "source": [
    "Выведем на экран список уникальных названий жанров, отсортированный в алфавитном порядке. Для этого:\n",
    "* извлечем нужный столбец датафрейма, \n",
    "* применим к нему метод сортировки,\n",
    "* для отсортированного столбца вызовем метод, который вернёт уникальные значения из столбца."
   ]
  },
  {
   "cell_type": "code",
   "execution_count": 14,
   "metadata": {
    "id": "JIUcqzZN_Zct"
   },
   "outputs": [
    {
     "data": {
      "text/plain": [
       "array(['acid', 'acoustic', 'action', 'adult', 'africa', 'afrikaans',\n",
       "       'alternative', 'alternativepunk', 'ambient', 'americana',\n",
       "       'animated', 'anime', 'arabesk', 'arabic', 'arena',\n",
       "       'argentinetango', 'art', 'audiobook', 'author', 'avantgarde',\n",
       "       'axé', 'baile', 'balkan', 'beats', 'bigroom', 'black', 'bluegrass',\n",
       "       'blues', 'bollywood', 'bossa', 'brazilian', 'breakbeat', 'breaks',\n",
       "       'broadway', 'cantautori', 'cantopop', 'canzone', 'caribbean',\n",
       "       'caucasian', 'celtic', 'chamber', 'chanson', 'children', 'chill',\n",
       "       'chinese', 'choral', 'christian', 'christmas', 'classical',\n",
       "       'classicmetal', 'club', 'colombian', 'comedy', 'conjazz',\n",
       "       'contemporary', 'country', 'cuban', 'dance', 'dancehall',\n",
       "       'dancepop', 'dark', 'death', 'deep', 'deutschrock', 'deutschspr',\n",
       "       'dirty', 'disco', 'dnb', 'documentary', 'downbeat', 'downtempo',\n",
       "       'drum', 'dub', 'dubstep', 'eastern', 'easy', 'electronic',\n",
       "       'electropop', 'emo', 'entehno', 'epicmetal', 'estrada', 'ethnic',\n",
       "       'eurofolk', 'european', 'experimental', 'extrememetal', 'fado',\n",
       "       'fairytail', 'film', 'fitness', 'flamenco', 'folk', 'folklore',\n",
       "       'folkmetal', 'folkrock', 'folktronica', 'forró', 'frankreich',\n",
       "       'französisch', 'french', 'funk', 'future', 'gangsta', 'garage',\n",
       "       'german', 'ghazal', 'gitarre', 'glitch', 'gospel', 'gothic',\n",
       "       'grime', 'grunge', 'gypsy', 'handsup', \"hard'n'heavy\", 'hardcore',\n",
       "       'hardstyle', 'hardtechno', 'hip', 'hip-hop', 'hiphop',\n",
       "       'historisch', 'holiday', 'hop', 'horror', 'house', 'hymn', 'idm',\n",
       "       'independent', 'indian', 'indie', 'indipop', 'industrial',\n",
       "       'inspirational', 'instrumental', 'international', 'irish', 'jam',\n",
       "       'japanese', 'jazz', 'jewish', 'jpop', 'jungle', 'k-pop',\n",
       "       'karadeniz', 'karaoke', 'kayokyoku', 'korean', 'laiko', 'latin',\n",
       "       'latino', 'leftfield', 'local', 'lounge', 'loungeelectronic',\n",
       "       'lovers', 'malaysian', 'mandopop', 'marschmusik', 'meditative',\n",
       "       'mediterranean', 'melodic', 'metal', 'metalcore', 'mexican',\n",
       "       'middle', 'minimal', 'miscellaneous', 'modern', 'mood', 'mpb',\n",
       "       'muslim', 'native', 'neoklassik', 'neue', 'new', 'newage',\n",
       "       'newwave', 'nu', 'nujazz', 'numetal', 'oceania', 'old', 'opera',\n",
       "       'orchestral', 'other', 'piano', 'podcasts', 'pop', 'popdance',\n",
       "       'popelectronic', 'popeurodance', 'poprussian', 'post',\n",
       "       'posthardcore', 'postrock', 'power', 'progmetal', 'progressive',\n",
       "       'psychedelic', 'punjabi', 'punk', 'quebecois', 'ragga', 'ram',\n",
       "       'rancheras', 'rap', 'rave', 'reggae', 'reggaeton', 'regional',\n",
       "       'relax', 'religious', 'retro', 'rhythm', 'rnb', 'rnr', 'rock',\n",
       "       'rockabilly', 'rockalternative', 'rockindie', 'rockother',\n",
       "       'romance', 'roots', 'ruspop', 'rusrap', 'rusrock', 'russian',\n",
       "       'salsa', 'samba', 'scenic', 'schlager', 'self', 'sertanejo',\n",
       "       'shanson', 'shoegazing', 'showtunes', 'singer', 'ska', 'skarock',\n",
       "       'slow', 'smooth', 'soft', 'soul', 'soulful', 'sound', 'soundtrack',\n",
       "       'southern', 'specialty', 'speech', 'spiritual', 'sport',\n",
       "       'stonerrock', 'surf', 'swing', 'synthpop', 'synthrock',\n",
       "       'sängerportrait', 'tango', 'tanzorchester', 'taraftar', 'tatar',\n",
       "       'tech', 'techno', 'teen', 'thrash', 'top', 'traditional',\n",
       "       'tradjazz', 'trance', 'tribal', 'trip', 'triphop', 'tropical',\n",
       "       'türk', 'türkçe', 'ukrrock', 'unknown', 'urban', 'uzbek',\n",
       "       'variété', 'vi', 'videogame', 'vocal', 'western', 'world',\n",
       "       'worldbeat', 'ïîï', 'электроника'], dtype=object)"
      ]
     },
     "execution_count": 14,
     "metadata": {},
     "output_type": "execute_result"
    }
   ],
   "source": [
    "# Просмотр уникальных названий жанров\n",
    "df['genre'].sort_values().unique()# Просмотр уникальных названий жанров"
   ]
  },
  {
   "cell_type": "code",
   "execution_count": 15,
   "metadata": {
    "scrolled": true
   },
   "outputs": [
    {
     "data": {
      "text/plain": [
       "genre\n",
       "acid              1\n",
       "acoustic          5\n",
       "action            4\n",
       "adult            24\n",
       "africa           16\n",
       "               ... \n",
       "western          97\n",
       "world          1947\n",
       "worldbeat         2\n",
       "ïîï               1\n",
       "электроника       1\n",
       "Name: genre, Length: 290, dtype: int64"
      ]
     },
     "execution_count": 15,
     "metadata": {},
     "output_type": "execute_result"
    }
   ],
   "source": [
    "# просмотр кол-ва уникальных жанров чтобы проще отследить дубликаты\n",
    "\n",
    "df.groupby('genre')['genre'].count() "
   ]
  },
  {
   "cell_type": "markdown",
   "metadata": {
    "id": "qej-Qmuo_Zct"
   },
   "source": [
    "Просмотрим список и найдем неявные дубликаты названия `hiphop`. Это могут быть названия с ошибками или альтернативные названия того же жанра.\n",
    "\n",
    "Мы видим следующие неявные дубликаты:\n",
    "* *hip*,\n",
    "* *hop*,\n",
    "* *hip-hop*.\n",
    "* а еще куча других дубликатов, часть из которых я не могу дифференцировать от отдельной музыки. И что за \"*ïîï*\"?\n",
    "\n",
    "Чтобы очистить от них таблицу, напишем функцию `replace_wrong_genres()` с двумя параметрами: \n",
    "* `wrong_genres` — список дубликатов,\n",
    "* `correct_genre` — строка с правильным значением.\n",
    "\n",
    "Функция должна исправить колонку `genre` в таблице `df`: заменить каждое значение из списка `wrong_genres` на значение из `correct_genre`."
   ]
  },
  {
   "cell_type": "markdown",
   "metadata": {},
   "source": [
    "<a id='red_2'></a>"
   ]
  },
  {
   "cell_type": "code",
   "execution_count": 16,
   "metadata": {
    "id": "ErNDkmns_Zct"
   },
   "outputs": [],
   "source": [
    "# Функция для замены неявных дубликатов\n",
    "\n",
    "def replace_wrong_genres(wrong_genres,correct_genre):\n",
    "    for wrong_genre in wrong_genres: \n",
    "        df['genre'] = df['genre'].replace(wrong_genre,correct_genre)"
   ]
  },
  {
   "cell_type": "markdown",
   "metadata": {
    "id": "aDoBJxbA_Zct"
   },
   "source": [
    "Вызовем `replace_wrong_genres()` и передадим ей такие аргументы, чтобы она устранила неявные дубликаты: вместо `hip`, `hop` и `hip-hop` в таблице должно быть значение `hiphop`:"
   ]
  },
  {
   "cell_type": "code",
   "execution_count": 17,
   "metadata": {
    "id": "YN5i2hpmSo09"
   },
   "outputs": [],
   "source": [
    "# Устранение неявных дубликатов\n",
    "\n",
    "duplicate = ['hip','hop','hip-hop']\n",
    "correct = 'hiphop'\n",
    "replace_wrong_genres(duplicate,correct)\n",
    "replace_wrong_genres('afrikaans','africa')\n",
    "replace_wrong_genres('электроника','electronic')\n",
    "replace_wrong_genres('latino','latin')\n",
    "replace_wrong_genres('sound','soundtrack')\n",
    "replace_wrong_genres('türk','türkçe')\n",
    "replace_wrong_genres('ïîï','dance')"
   ]
  },
  {
   "cell_type": "markdown",
   "metadata": {
    "id": "zQKF16_RG15m"
   },
   "source": [
    "Проверим, что заменили неправильные названия:\n",
    "\n",
    "*   hip\n",
    "*   hop\n",
    "*   hip-hop\n",
    "\n",
    "Выведем отсортированный список уникальных значений столбца `genre`:"
   ]
  },
  {
   "cell_type": "code",
   "execution_count": 18,
   "metadata": {
    "id": "wvixALnFG15m"
   },
   "outputs": [
    {
     "data": {
      "text/plain": [
       "array(['acid', 'acoustic', 'action', 'adult', 'africa', 'afrikaans',\n",
       "       'alternative', 'alternativepunk', 'ambient', 'americana',\n",
       "       'animated', 'anime', 'arabesk', 'arabic', 'arena',\n",
       "       'argentinetango', 'art', 'audiobook', 'author', 'avantgarde',\n",
       "       'axé', 'baile', 'balkan', 'beats', 'bigroom', 'black', 'bluegrass',\n",
       "       'blues', 'bollywood', 'bossa', 'brazilian', 'breakbeat', 'breaks',\n",
       "       'broadway', 'cantautori', 'cantopop', 'canzone', 'caribbean',\n",
       "       'caucasian', 'celtic', 'chamber', 'chanson', 'children', 'chill',\n",
       "       'chinese', 'choral', 'christian', 'christmas', 'classical',\n",
       "       'classicmetal', 'club', 'colombian', 'comedy', 'conjazz',\n",
       "       'contemporary', 'country', 'cuban', 'dance', 'dancehall',\n",
       "       'dancepop', 'dark', 'death', 'deep', 'deutschrock', 'deutschspr',\n",
       "       'dirty', 'disco', 'dnb', 'documentary', 'downbeat', 'downtempo',\n",
       "       'drum', 'dub', 'dubstep', 'eastern', 'easy', 'electronic',\n",
       "       'electropop', 'emo', 'entehno', 'epicmetal', 'estrada', 'ethnic',\n",
       "       'eurofolk', 'european', 'experimental', 'extrememetal', 'fado',\n",
       "       'fairytail', 'film', 'fitness', 'flamenco', 'folk', 'folklore',\n",
       "       'folkmetal', 'folkrock', 'folktronica', 'forró', 'frankreich',\n",
       "       'französisch', 'french', 'funk', 'future', 'gangsta', 'garage',\n",
       "       'german', 'ghazal', 'gitarre', 'glitch', 'gospel', 'gothic',\n",
       "       'grime', 'grunge', 'gypsy', 'handsup', \"hard'n'heavy\", 'hardcore',\n",
       "       'hardstyle', 'hardtechno', 'hiphop', 'historisch', 'holiday',\n",
       "       'horror', 'house', 'hymn', 'idm', 'independent', 'indian', 'indie',\n",
       "       'indipop', 'industrial', 'inspirational', 'instrumental',\n",
       "       'international', 'irish', 'jam', 'japanese', 'jazz', 'jewish',\n",
       "       'jpop', 'jungle', 'k-pop', 'karadeniz', 'karaoke', 'kayokyoku',\n",
       "       'korean', 'laiko', 'latin', 'latino', 'leftfield', 'local',\n",
       "       'lounge', 'loungeelectronic', 'lovers', 'malaysian', 'mandopop',\n",
       "       'marschmusik', 'meditative', 'mediterranean', 'melodic', 'metal',\n",
       "       'metalcore', 'mexican', 'middle', 'minimal', 'miscellaneous',\n",
       "       'modern', 'mood', 'mpb', 'muslim', 'native', 'neoklassik', 'neue',\n",
       "       'new', 'newage', 'newwave', 'nu', 'nujazz', 'numetal', 'oceania',\n",
       "       'old', 'opera', 'orchestral', 'other', 'piano', 'podcasts', 'pop',\n",
       "       'popdance', 'popelectronic', 'popeurodance', 'poprussian', 'post',\n",
       "       'posthardcore', 'postrock', 'power', 'progmetal', 'progressive',\n",
       "       'psychedelic', 'punjabi', 'punk', 'quebecois', 'ragga', 'ram',\n",
       "       'rancheras', 'rap', 'rave', 'reggae', 'reggaeton', 'regional',\n",
       "       'relax', 'religious', 'retro', 'rhythm', 'rnb', 'rnr', 'rock',\n",
       "       'rockabilly', 'rockalternative', 'rockindie', 'rockother',\n",
       "       'romance', 'roots', 'ruspop', 'rusrap', 'rusrock', 'russian',\n",
       "       'salsa', 'samba', 'scenic', 'schlager', 'self', 'sertanejo',\n",
       "       'shanson', 'shoegazing', 'showtunes', 'singer', 'ska', 'skarock',\n",
       "       'slow', 'smooth', 'soft', 'soul', 'soulful', 'sound', 'soundtrack',\n",
       "       'southern', 'specialty', 'speech', 'spiritual', 'sport',\n",
       "       'stonerrock', 'surf', 'swing', 'synthpop', 'synthrock',\n",
       "       'sängerportrait', 'tango', 'tanzorchester', 'taraftar', 'tatar',\n",
       "       'tech', 'techno', 'teen', 'thrash', 'top', 'traditional',\n",
       "       'tradjazz', 'trance', 'tribal', 'trip', 'triphop', 'tropical',\n",
       "       'türk', 'türkçe', 'ukrrock', 'unknown', 'urban', 'uzbek',\n",
       "       'variété', 'vi', 'videogame', 'vocal', 'western', 'world',\n",
       "       'worldbeat', 'ïîï', 'электроника'], dtype=object)"
      ]
     },
     "execution_count": 18,
     "metadata": {},
     "output_type": "execute_result"
    }
   ],
   "source": [
    "# Проверка на неявные дубликаты\n",
    "\n",
    "df['genre'].sort_values().unique()"
   ]
  },
  {
   "cell_type": "markdown",
   "metadata": {
    "id": "jz6a9-7HQUDd"
   },
   "source": [
    "**Выводы**\n",
    "\n",
    "Предобработка обнаружила три проблемы в данных:\n",
    "\n",
    "- нарушения в стиле заголовков,\n",
    "- пропущенные значения,\n",
    "- дубликаты — явные и неявные.\n",
    "\n",
    "Мы исправили заголовки, чтобы упростить работу с таблицей. Без дубликатов исследование станет более точным.\n",
    "\n",
    "Пропущенные значения вы заменили на `'unknown'`. Ещё предстоит увидеть, не повредят ли исследованию пропуски в колонке `genre`.\n",
    "\n",
    "Теперь можно перейти к проверке гипотез. "
   ]
  },
  {
   "cell_type": "markdown",
   "metadata": {
    "id": "WttZHXH0SqKk"
   },
   "source": [
    "## Проверка гипотез"
   ]
  },
  {
   "cell_type": "markdown",
   "metadata": {
    "id": "Im936VVi_Zcu"
   },
   "source": [
    "### Сравнение поведения пользователей двух столиц"
   ]
  },
  {
   "cell_type": "markdown",
   "metadata": {
    "id": "nwt_MuaL_Zcu"
   },
   "source": [
    "Первая гипотеза утверждает, что пользователи по-разному слушают музыку в Москве и Санкт-Петербурге. Проверьте это предположение по данным о трёх днях недели — понедельнике, среде и пятнице. Для этого:\n",
    "\n",
    "* Разделите пользователей Москвы и Санкт-Петербурга\n",
    "* Сравните, сколько треков послушала каждая группа пользователей в понедельник, среду и пятницу.\n"
   ]
  },
  {
   "cell_type": "markdown",
   "metadata": {
    "id": "8Dw_YMmT_Zcu"
   },
   "source": [
    "Для тренировки сначала выполните каждый из расчётов по отдельности. \n",
    "\n",
    "Оцените активность пользователей в каждом городе. Сгруппируйте данные по городу и посчитайте прослушивания в каждой группе.\n",
    "\n"
   ]
  },
  {
   "cell_type": "code",
   "execution_count": 19,
   "metadata": {
    "id": "0_Qs96oh_Zcu"
   },
   "outputs": [
    {
     "data": {
      "text/plain": [
       "city\n",
       "Moscow              42741\n",
       "Saint-Petersburg    18512\n",
       "Name: track, dtype: int64"
      ]
     },
     "execution_count": 19,
     "metadata": {},
     "output_type": "execute_result"
    }
   ],
   "source": [
    "df.groupby('city')['track'].count() # Подсчёт прослушиваний в каждом городе"
   ]
  },
  {
   "cell_type": "markdown",
   "metadata": {
    "id": "dzli3w8o_Zcu"
   },
   "source": [
    "В Москве прослушиваний больше, чем в Петербурге. Из этого не следует, что московские пользователи чаще слушают музыку. Просто самих пользователей в Москве больше.\n",
    "\n",
    "Теперь сгруппируйте данные по дню недели и подсчитайте прослушивания в понедельник, среду и пятницу. Учтите, что в данных есть информация только о прослушиваниях только за эти дни.\n"
   ]
  },
  {
   "cell_type": "code",
   "execution_count": 20,
   "metadata": {
    "id": "uZMKjiJz_Zcu"
   },
   "outputs": [
    {
     "data": {
      "text/plain": [
       "day\n",
       "Friday       21840\n",
       "Monday       21354\n",
       "Wednesday    18059\n",
       "Name: track, dtype: int64"
      ]
     },
     "execution_count": 20,
     "metadata": {},
     "output_type": "execute_result"
    }
   ],
   "source": [
    "df.groupby('day')['track'].count() # Подсчёт прослушиваний в каждый из трёх дней"
   ]
  },
  {
   "cell_type": "markdown",
   "metadata": {
    "id": "cC2tNrlL_Zcu"
   },
   "source": [
    "В среднем пользователи из двух городов менее активны по средам. Но картина может измениться, если рассмотреть каждый город в отдельности."
   ]
  },
  {
   "cell_type": "markdown",
   "metadata": {
    "id": "POzs8bGa_Zcu"
   },
   "source": [
    "Вы видели, как работает группировка по городу и по дням недели. Теперь напишите функцию, которая объединит два эти расчёта.\n",
    "\n",
    "Создайте функцию `number_tracks()`, которая посчитает прослушивания для заданного дня и города. Ей понадобятся два параметра:\n",
    "* день недели,\n",
    "* название города.\n",
    "\n",
    "В функции сохраните в переменную строки исходной таблицы, у которых значение:\n",
    "  * в колонке `day` равно параметру `day`,\n",
    "  * в колонке `city` равно параметру `city`.\n",
    "\n",
    "Для этого примените последовательную фильтрацию с логической индексацией.\n",
    "\n",
    "Затем посчитайте значения в столбце `user_id` получившейся таблицы. Результат сохраните в новую переменную. Верните эту переменную из функции."
   ]
  },
  {
   "cell_type": "code",
   "execution_count": 21,
   "metadata": {
    "id": "Nz3GdQB1_Zcu"
   },
   "outputs": [],
   "source": [
    "# Функция для подсчёта прослушиваний для конкретного города и дня.\n",
    "def number_tracks(city, day):\n",
    "    track_list = df[\n",
    "        (df['day'] == day)\n",
    "        &(df['city'] == city)\n",
    "        ]\n",
    "    track_list_count = track_list['user_id'].count()\n",
    "    return track_list_count\n",
    "      \n"
   ]
  },
  {
   "cell_type": "markdown",
   "metadata": {
    "id": "ytf7xFrFJQ2r"
   },
   "source": [
    "Вызовите `number_tracks()` шесть раз, меняя значение параметров — так, чтобы получить данные для каждого города в каждый из трёх дней."
   ]
  },
  {
   "cell_type": "code",
   "execution_count": 22,
   "metadata": {},
   "outputs": [],
   "source": [
    "msc = ['Moscow']\n",
    "spb = ['Saint-Petersburg'] "
   ]
  },
  {
   "cell_type": "code",
   "execution_count": 23,
   "metadata": {
    "id": "rJcRATNQ_Zcu"
   },
   "outputs": [],
   "source": [
    "msc.append(number_tracks(city='Moscow', day='Monday'))# количество прослушиваний в Москве по понедельникам"
   ]
  },
  {
   "cell_type": "code",
   "execution_count": 24,
   "metadata": {
    "id": "hq_ncZ5T_Zcu"
   },
   "outputs": [],
   "source": [
    "spb.append(number_tracks(city='Saint-Petersburg', day='Monday'))# количество прослушиваний в Санкт-Петербурге по понедельникам"
   ]
  },
  {
   "cell_type": "code",
   "execution_count": 25,
   "metadata": {
    "id": "_NTy2VPU_Zcu"
   },
   "outputs": [],
   "source": [
    "msc.append(number_tracks(city='Moscow', day='Wednesday'))# количество прослушиваний в Москве по средам"
   ]
  },
  {
   "cell_type": "code",
   "execution_count": 26,
   "metadata": {
    "id": "j2y3TAwo_Zcu"
   },
   "outputs": [],
   "source": [
    "spb.append(number_tracks(city='Saint-Petersburg', day='Wednesday'))# количество прослушиваний в Санкт-Петербурге по средам"
   ]
  },
  {
   "cell_type": "code",
   "execution_count": 27,
   "metadata": {
    "id": "vYDw5u_K_Zcu"
   },
   "outputs": [],
   "source": [
    "msc.append(number_tracks(city='Moscow', day='Friday'))# количество прослушиваний в Москве по пятницам"
   ]
  },
  {
   "cell_type": "code",
   "execution_count": 28,
   "metadata": {
    "id": "8_yzFtW3_Zcu"
   },
   "outputs": [],
   "source": [
    "spb.append(number_tracks(city='Saint-Petersburg', day='Friday'))# количество прослушиваний в Санкт-Петербурге по пятницам"
   ]
  },
  {
   "cell_type": "markdown",
   "metadata": {
    "id": "7QXffbO-_Zcu"
   },
   "source": [
    "Создайте c помощью конструктора `pd.DataFrame` таблицу, где\n",
    "* названия колонок — `['city', 'monday', 'wednesday', 'friday']`;\n",
    "* данные — результаты, которые вы получили с помощью `number_tracks`."
   ]
  },
  {
   "cell_type": "code",
   "execution_count": 29,
   "metadata": {
    "id": "APAcLpOr_Zcu"
   },
   "outputs": [
    {
     "data": {
      "text/html": [
       "<div>\n",
       "<style scoped>\n",
       "    .dataframe tbody tr th:only-of-type {\n",
       "        vertical-align: middle;\n",
       "    }\n",
       "\n",
       "    .dataframe tbody tr th {\n",
       "        vertical-align: top;\n",
       "    }\n",
       "\n",
       "    .dataframe thead th {\n",
       "        text-align: right;\n",
       "    }\n",
       "</style>\n",
       "<table border=\"1\" class=\"dataframe\">\n",
       "  <thead>\n",
       "    <tr style=\"text-align: right;\">\n",
       "      <th></th>\n",
       "      <th>city</th>\n",
       "      <th>monday</th>\n",
       "      <th>wednesday</th>\n",
       "      <th>friday</th>\n",
       "    </tr>\n",
       "  </thead>\n",
       "  <tbody>\n",
       "    <tr>\n",
       "      <td>0</td>\n",
       "      <td>Moscow</td>\n",
       "      <td>15740</td>\n",
       "      <td>11056</td>\n",
       "      <td>15945</td>\n",
       "    </tr>\n",
       "    <tr>\n",
       "      <td>1</td>\n",
       "      <td>Saint-Petersburg</td>\n",
       "      <td>5614</td>\n",
       "      <td>7003</td>\n",
       "      <td>5895</td>\n",
       "    </tr>\n",
       "  </tbody>\n",
       "</table>\n",
       "</div>"
      ],
      "text/plain": [
       "               city  monday  wednesday  friday\n",
       "0            Moscow   15740      11056   15945\n",
       "1  Saint-Petersburg    5614       7003    5895"
      ]
     },
     "metadata": {},
     "output_type": "display_data"
    }
   ],
   "source": [
    "# Таблица с результатами\n",
    "data = [msc, spb] \n",
    "columns= ['city','monday','wednesday','friday'] \n",
    "music_in_sity_by_day = pd.DataFrame(data=data, columns=columns)\n",
    "display(music_in_sity_by_day) \n"
   ]
  },
  {
   "cell_type": "markdown",
   "metadata": {
    "id": "-EgPIHYu_Zcu"
   },
   "source": [
    "**Выводы**\n",
    "\n",
    "Данные показывают разницу поведения пользователей:\n",
    "\n",
    "- В Москве пик прослушиваний приходится на понедельник и пятницу, а в среду заметен спад.\n",
    "- В Петербурге, наоборот, больше слушают музыку по средам. Активность в понедельник и пятницу здесь почти в равной мере уступает среде.\n",
    "\n",
    "Значит, данные говорят в пользу первой гипотезы."
   ]
  },
  {
   "cell_type": "markdown",
   "metadata": {
    "id": "atZAxtq4_Zcu"
   },
   "source": [
    "### Музыка в начале и в конце недели"
   ]
  },
  {
   "cell_type": "markdown",
   "metadata": {
    "id": "eXrQqXFH_Zcu"
   },
   "source": [
    "Согласно второй гипотезе, утром в понедельник в Москве преобладают одни жанры, а в Петербурге — другие. Так же и вечером пятницы преобладают разные жанры — в зависимости от города."
   ]
  },
  {
   "cell_type": "markdown",
   "metadata": {
    "id": "S8UcW6Hw_Zcu"
   },
   "source": [
    "Сохраните таблицы с данными в две переменные:\n",
    "* по Москве — в `moscow_general`;\n",
    "* по Санкт-Петербургу — в `spb_general`."
   ]
  },
  {
   "cell_type": "code",
   "execution_count": 30,
   "metadata": {
    "id": "qeaFfM_P_Zcu"
   },
   "outputs": [],
   "source": [
    " # получение таблицы moscow_general из тех строк таблицы df, для которых значение в столбце 'city' равно 'Moscow'\n",
    "moscow_general = df[df['city'] == 'Moscow']"
   ]
  },
  {
   "cell_type": "code",
   "execution_count": 31,
   "metadata": {
    "id": "ORaVRKto_Zcu"
   },
   "outputs": [],
   "source": [
    " # получение таблицы spb_general из тех строк таблицы df, для которых значение в столбце 'city' равно 'Saint-Petersburg'\n",
    "spb_general = df[df['city'] == 'Saint-Petersburg']\n"
   ]
  },
  {
   "cell_type": "markdown",
   "metadata": {
    "id": "MEJV-CX2_Zcu"
   },
   "source": [
    "Создайте функцию `genre_weekday()` с четырьмя параметрами:\n",
    "* таблица (датафрейм) с данными,\n",
    "* день недели,\n",
    "* начальная временная метка в формате 'hh:mm', \n",
    "* последняя временная метка в формате 'hh:mm'.\n",
    "\n",
    "Функция должна вернуть информацию о топ-10 жанров тех треков, которые прослушивали в указанный день, в промежутке между двумя отметками времени."
   ]
  },
  {
   "cell_type": "code",
   "execution_count": 32,
   "metadata": {
    "id": "laJT9BYl_Zcu"
   },
   "outputs": [],
   "source": [
    "# Объявление функции genre_weekday() с параметрами table, day, time1, time2,\n",
    "# которая возвращает информацию о самых популярных жанрах в указанный день в\n",
    "# заданное время:\n",
    "\n",
    "def genre_weekday(table, day, time1, time2):\n",
    "    genre_df = table[\n",
    "        (table['day'] == day)\n",
    "        &(table['time'] > time1)\n",
    "        &(table['time'] < time2)\n",
    "        \n",
    "    ]\n",
    "    genre_df_count = genre_df.groupby('genre')['genre'].count()\n",
    "    genre_df_sorted = genre_df_count.sort_values(ascending=False)\n",
    "    \n",
    "    return genre_df_sorted.head(10)"
   ]
  },
  {
   "cell_type": "markdown",
   "metadata": {
    "id": "la2s2_PF_Zcu"
   },
   "source": [
    "Cравните результаты функции `genre_weekday()` для Москвы и Санкт-Петербурга в понедельник утром (с 7:00 до 11:00) и в пятницу вечером (с 17:00 до 23:00):"
   ]
  },
  {
   "cell_type": "code",
   "execution_count": 33,
   "metadata": {
    "id": "yz7itPUQ_Zcu"
   },
   "outputs": [
    {
     "data": {
      "text/plain": [
       "genre\n",
       "pop            781\n",
       "dance          549\n",
       "electronic     480\n",
       "rock           474\n",
       "hiphop         286\n",
       "ruspop         186\n",
       "world          181\n",
       "rusrap         175\n",
       "alternative    164\n",
       "unknown        161\n",
       "Name: genre, dtype: int64"
      ]
     },
     "execution_count": 33,
     "metadata": {},
     "output_type": "execute_result"
    }
   ],
   "source": [
    "# вызов функции для утра понедельника в Москве (вместо df — таблица moscow_general)\n",
    "# объекты, хранящие время, являются строками и сравниваются как строки\n",
    "# пример вызова: genre_weekday(moscow_general, 'Monday', '07:00', '11:00')\n",
    "\n",
    "genre_weekday(moscow_general, 'Monday', '07:00', '11:00')"
   ]
  },
  {
   "cell_type": "code",
   "execution_count": 34,
   "metadata": {
    "id": "kwUcHPdy_Zcu"
   },
   "outputs": [
    {
     "data": {
      "text/plain": [
       "genre\n",
       "pop            218\n",
       "dance          182\n",
       "rock           162\n",
       "electronic     147\n",
       "hiphop          80\n",
       "ruspop          64\n",
       "alternative     58\n",
       "rusrap          55\n",
       "jazz            44\n",
       "classical       40\n",
       "Name: genre, dtype: int64"
      ]
     },
     "execution_count": 34,
     "metadata": {},
     "output_type": "execute_result"
    }
   ],
   "source": [
    "# вызов функции для утра понедельника в Петербурге (вместо df — таблица spb_general)\n",
    "genre_weekday(spb_general, 'Monday', '07:00', '11:00')"
   ]
  },
  {
   "cell_type": "code",
   "execution_count": 35,
   "metadata": {
    "id": "EzXVRE1o_Zcu"
   },
   "outputs": [
    {
     "data": {
      "text/plain": [
       "genre\n",
       "pop            713\n",
       "rock           517\n",
       "dance          495\n",
       "electronic     482\n",
       "hiphop         273\n",
       "world          208\n",
       "ruspop         170\n",
       "alternative    163\n",
       "classical      163\n",
       "rusrap         142\n",
       "Name: genre, dtype: int64"
      ]
     },
     "execution_count": 35,
     "metadata": {},
     "output_type": "execute_result"
    }
   ],
   "source": [
    "genre_weekday(moscow_general, 'Friday', '19:00', '23:00')# вызов функции для вечера пятницы в Москве"
   ]
  },
  {
   "cell_type": "code",
   "execution_count": 36,
   "metadata": {
    "id": "JZaEKu5v_Zcu"
   },
   "outputs": [
    {
     "data": {
      "text/plain": [
       "genre\n",
       "pop            256\n",
       "rock           216\n",
       "electronic     216\n",
       "dance          210\n",
       "hiphop          97\n",
       "alternative     63\n",
       "jazz            61\n",
       "classical       60\n",
       "rusrap          59\n",
       "world           54\n",
       "Name: genre, dtype: int64"
      ]
     },
     "execution_count": 36,
     "metadata": {},
     "output_type": "execute_result"
    }
   ],
   "source": [
    "genre_weekday(spb_general, 'Friday', '19:00', '23:00')# вызов функции для вечера пятницы в Петербурге"
   ]
  },
  {
   "cell_type": "markdown",
   "metadata": {
    "id": "wrCe4MNX_Zcu"
   },
   "source": [
    "**Выводы**\n",
    "\n",
    "Если сравнить топ-10 жанров в понедельник утром, можно сделать такие выводы:\n",
    "\n",
    "1. В Москве и Петербурге слушают похожую музыку. Единственное отличие — в московский рейтинг вошёл жанр “world”, а в петербургский — джаз и классика.\n",
    "\n",
    "2. В Москве пропущенных значений оказалось так много, что значение `'unknown'` заняло десятое место среди самых популярных жанров. Значит, пропущенные значения занимают существенную долю в данных и угрожают достоверности исследования.\n",
    "\n",
    "Вечер пятницы не меняет эту картину. Некоторые жанры поднимаются немного выше, другие спускаются, но в целом топ-10 остаётся тем же самым.\n",
    "\n",
    "Таким образом, вторая гипотеза подтвердилась лишь частично:\n",
    "* Пользователи слушают похожую музыку в начале недели и в конце.\n",
    "* Разница между Москвой и Петербургом не слишком выражена. В Москве чаще слушают русскую популярную музыку, в Петербурге — джаз.\n",
    "\n",
    "Однако пропуски в данных ставят под сомнение этот результат. В Москве их так много, что рейтинг топ-10 мог бы выглядеть иначе, если бы не утерянные  данные о жанрах."
   ]
  },
  {
   "cell_type": "markdown",
   "metadata": {
    "id": "JolODAqr_Zcu"
   },
   "source": [
    "### Жанровые предпочтения в Москве и Петербурге\n",
    "\n",
    "Гипотеза: Петербург — столица рэпа, музыку этого жанра там слушают чаще, чем в Москве.  А Москва — город контрастов, в котором, тем не менее, преобладает поп-музыка."
   ]
  },
  {
   "cell_type": "markdown",
   "metadata": {
    "id": "DlegSvaT_Zcu"
   },
   "source": [
    "Сгруппируйте таблицу `moscow_general` по жанру и посчитайте прослушивания треков каждого жанра методом `count()`. Затем отсортируйте результат в порядке убывания и сохраните его в таблице `moscow_genres`."
   ]
  },
  {
   "cell_type": "code",
   "execution_count": 37,
   "metadata": {
    "id": "r19lIPke_Zcu"
   },
   "outputs": [],
   "source": [
    "moscow_genres = moscow_general.groupby('genre')['genre'].count().sort_values(ascending=False)"
   ]
  },
  {
   "cell_type": "markdown",
   "metadata": {
    "id": "6kMuomxTiIr8"
   },
   "source": [
    "Выведите на экран первые десять строк `moscow_genres`:"
   ]
  },
  {
   "cell_type": "code",
   "execution_count": 38,
   "metadata": {
    "id": "WhCSooF8_Zcv"
   },
   "outputs": [
    {
     "data": {
      "text/plain": [
       "genre\n",
       "pop            5892\n",
       "dance          4435\n",
       "rock           3965\n",
       "electronic     3786\n",
       "hiphop         2096\n",
       "classical      1616\n",
       "world          1432\n",
       "alternative    1379\n",
       "ruspop         1372\n",
       "rusrap         1161\n",
       "Name: genre, dtype: int64"
      ]
     },
     "execution_count": 38,
     "metadata": {},
     "output_type": "execute_result"
    }
   ],
   "source": [
    "moscow_genres.head(10) # просмотр первых 10 строк moscow_genres"
   ]
  },
  {
   "cell_type": "markdown",
   "metadata": {
    "id": "cnPG2vnN_Zcv"
   },
   "source": [
    "Теперь повторите то же и для Петербурга.\n",
    "\n",
    "Сгруппируйте таблицу `spb_general` по жанру. Посчитайте прослушивания треков каждого жанра. Результат отсортируйте в порядке убывания и сохраните в таблице `spb_genres`:\n"
   ]
  },
  {
   "cell_type": "code",
   "execution_count": 39,
   "metadata": {
    "id": "gluLIpE7_Zcv"
   },
   "outputs": [],
   "source": [
    "spb_genres = spb_general.groupby('genre')['genre'].count().sort_values(ascending=False)\n"
   ]
  },
  {
   "cell_type": "markdown",
   "metadata": {
    "id": "5Doha_ODgyQ8"
   },
   "source": [
    "Выведите на экран первые десять строк `spb_genres`:"
   ]
  },
  {
   "cell_type": "code",
   "execution_count": 40,
   "metadata": {
    "id": "uaGJHjVU_Zcv"
   },
   "outputs": [
    {
     "data": {
      "text/plain": [
       "genre\n",
       "pop            2431\n",
       "dance          1932\n",
       "rock           1879\n",
       "electronic     1736\n",
       "hiphop          960\n",
       "alternative     649\n",
       "classical       646\n",
       "rusrap          564\n",
       "ruspop          538\n",
       "world           515\n",
       "Name: genre, dtype: int64"
      ]
     },
     "execution_count": 40,
     "metadata": {},
     "output_type": "execute_result"
    }
   ],
   "source": [
    "spb_genres.head(10)# просмотр первых 10 строк spb_genres"
   ]
  },
  {
   "cell_type": "markdown",
   "metadata": {
    "id": "RY51YJYu_Zcv"
   },
   "source": [
    "**Выводы**"
   ]
  },
  {
   "cell_type": "markdown",
   "metadata": {
    "id": "nVhnJEm__Zcv"
   },
   "source": [
    "Гипотеза частично подтвердилась:\n",
    "* Поп-музыка — самый популярный жанр в Москве, как и предполагала гипотеза. Более того, в топ-10 жанров встречается близкий жанр — русская популярная музыка.\n",
    "* Вопреки ожиданиям, рэп одинаково популярен в Москве и Петербурге. \n"
   ]
  },
  {
   "cell_type": "markdown",
   "metadata": {
    "id": "ykKQ0N65_Zcv"
   },
   "source": [
    "## Итоги исследования"
   ]
  },
  {
   "cell_type": "markdown",
   "metadata": {
    "id": "tjUwbHb3_Zcv"
   },
   "source": [
    "Вы проверили три гипотезы и установили:\n",
    "\n",
    "1. День недели по-разному влияет на активность пользователей в Москве и Петербурге. \n",
    "\n",
    "Первая гипотеза полностью подтвердилась.\n",
    "\n",
    "2. Музыкальные предпочтения не сильно меняются в течение недели — будь то Москва или Петербург. Небольшие различия заметны в начале недели, по понедельникам:\n",
    "* в Москве слушают музыку жанра “world”,\n",
    "* в Петербурге — джаз и классику.\n",
    "\n",
    "Таким образом, вторая гипотеза подтвердилась лишь отчасти. Этот результат мог оказаться иным, если бы не пропуски в данных.\n",
    "\n",
    "3. Во вкусах пользователей Москвы и Петербурга больше общего чем различий. Вопреки ожиданиям, предпочтения жанров в Петербурге напоминают московские.\n",
    "\n",
    "Третья гипотеза не подтвердилась. Если различия в предпочтениях и существуют, на основной массе пользователей они незаметны.\n",
    "\n",
    "**На практике исследования содержат проверки статистических гипотез.**\n",
    "Из данных одного сервиса не всегда можно сделать вывод о всех жителях города.\n",
    "Проверки статистических гипотез покажут, насколько они достоверны, исходя из имеющихся данных. \n",
    "С методами проверок гипотез вы ещё познакомитесь в следующих темах."
   ]
  }
 ],
 "metadata": {
  "ExecuteTimeLog": [
   {
    "duration": 1355,
    "start_time": "2022-01-24T09:35:36.604Z"
   },
   {
    "duration": 3,
    "start_time": "2022-01-24T09:35:38.563Z"
   },
   {
    "duration": 3303,
    "start_time": "2022-01-24T09:35:40.620Z"
   },
   {
    "duration": 1198,
    "start_time": "2022-01-24T09:36:02.429Z"
   },
   {
    "duration": 796,
    "start_time": "2022-01-24T09:36:08.538Z"
   },
   {
    "duration": 859,
    "start_time": "2022-01-24T09:36:20.901Z"
   },
   {
    "duration": 541,
    "start_time": "2022-01-24T10:04:06.396Z"
   },
   {
    "duration": 126,
    "start_time": "2022-01-24T10:04:09.475Z"
   },
   {
    "duration": 15,
    "start_time": "2022-01-24T10:04:33.879Z"
   },
   {
    "duration": 22,
    "start_time": "2022-01-24T10:05:58.121Z"
   },
   {
    "duration": 385,
    "start_time": "2022-01-24T10:16:34.603Z"
   },
   {
    "duration": 4,
    "start_time": "2022-01-24T10:16:42.056Z"
   },
   {
    "duration": 3,
    "start_time": "2022-01-24T10:16:53.626Z"
   },
   {
    "duration": 4,
    "start_time": "2022-01-24T10:18:31.379Z"
   },
   {
    "duration": 99,
    "start_time": "2022-01-24T10:19:36.348Z"
   },
   {
    "duration": 18,
    "start_time": "2022-01-24T10:21:26.444Z"
   },
   {
    "duration": 3,
    "start_time": "2022-01-24T10:21:47.432Z"
   },
   {
    "duration": 26,
    "start_time": "2022-01-24T10:23:56.341Z"
   },
   {
    "duration": 25,
    "start_time": "2022-01-24T10:24:54.171Z"
   },
   {
    "duration": 22,
    "start_time": "2022-01-24T10:25:03.560Z"
   },
   {
    "duration": 21,
    "start_time": "2022-01-24T10:25:40.036Z"
   },
   {
    "duration": 21,
    "start_time": "2022-01-24T10:25:42.576Z"
   },
   {
    "duration": 398,
    "start_time": "2022-01-24T10:33:23.573Z"
   },
   {
    "duration": 311,
    "start_time": "2022-01-24T10:33:53.899Z"
   },
   {
    "duration": 103,
    "start_time": "2022-01-24T10:34:04.193Z"
   },
   {
    "duration": 30,
    "start_time": "2022-01-24T10:34:18.107Z"
   },
   {
    "duration": 23,
    "start_time": "2022-01-24T10:34:26.871Z"
   },
   {
    "duration": 425,
    "start_time": "2022-01-24T10:37:08.878Z"
   },
   {
    "duration": 22,
    "start_time": "2022-01-24T10:37:11.905Z"
   },
   {
    "duration": 48,
    "start_time": "2022-01-24T10:39:16.936Z"
   },
   {
    "duration": 55,
    "start_time": "2022-01-24T10:40:21.018Z"
   },
   {
    "duration": 51,
    "start_time": "2022-01-24T10:40:42.665Z"
   },
   {
    "duration": 569,
    "start_time": "2022-01-24T10:41:31.189Z"
   },
   {
    "duration": 126,
    "start_time": "2022-01-24T10:41:31.760Z"
   },
   {
    "duration": 16,
    "start_time": "2022-01-24T10:41:31.888Z"
   },
   {
    "duration": 22,
    "start_time": "2022-01-24T10:41:31.906Z"
   },
   {
    "duration": 2,
    "start_time": "2022-01-24T10:41:31.930Z"
   },
   {
    "duration": 38,
    "start_time": "2022-01-24T10:41:31.934Z"
   },
   {
    "duration": 3,
    "start_time": "2022-01-24T10:41:31.973Z"
   },
   {
    "duration": 22,
    "start_time": "2022-01-24T10:41:31.979Z"
   },
   {
    "duration": 431,
    "start_time": "2022-01-24T10:41:32.003Z"
   },
   {
    "duration": 20,
    "start_time": "2022-01-24T10:41:32.435Z"
   },
   {
    "duration": 60,
    "start_time": "2022-01-24T10:41:32.457Z"
   },
   {
    "duration": 61,
    "start_time": "2022-01-24T10:41:32.519Z"
   },
   {
    "duration": 48,
    "start_time": "2022-01-24T10:41:32.582Z"
   },
   {
    "duration": 6,
    "start_time": "2022-01-24T10:45:47.224Z"
   },
   {
    "duration": 52,
    "start_time": "2022-01-24T10:46:48.983Z"
   },
   {
    "duration": 47,
    "start_time": "2022-01-24T10:46:51.270Z"
   },
   {
    "duration": 360,
    "start_time": "2022-01-24T10:48:36.812Z"
   },
   {
    "duration": 285,
    "start_time": "2022-01-24T10:51:35.134Z"
   },
   {
    "duration": 296,
    "start_time": "2022-01-24T10:51:57.428Z"
   },
   {
    "duration": 315,
    "start_time": "2022-01-24T10:52:05.654Z"
   },
   {
    "duration": 9,
    "start_time": "2022-01-24T10:52:45.124Z"
   },
   {
    "duration": 576,
    "start_time": "2022-01-24T11:02:16.556Z"
   },
   {
    "duration": 11,
    "start_time": "2022-01-24T11:02:38.191Z"
   },
   {
    "duration": 10,
    "start_time": "2022-01-24T11:04:48.458Z"
   },
   {
    "duration": 11,
    "start_time": "2022-01-24T11:05:37.192Z"
   },
   {
    "duration": 578,
    "start_time": "2022-01-24T11:07:16.893Z"
   },
   {
    "duration": 126,
    "start_time": "2022-01-24T11:07:17.473Z"
   },
   {
    "duration": 17,
    "start_time": "2022-01-24T11:07:17.601Z"
   },
   {
    "duration": 28,
    "start_time": "2022-01-24T11:07:17.620Z"
   },
   {
    "duration": 3,
    "start_time": "2022-01-24T11:07:17.650Z"
   },
   {
    "duration": 35,
    "start_time": "2022-01-24T11:07:17.655Z"
   },
   {
    "duration": 5,
    "start_time": "2022-01-24T11:07:17.692Z"
   },
   {
    "duration": 23,
    "start_time": "2022-01-24T11:07:17.700Z"
   },
   {
    "duration": 587,
    "start_time": "2022-01-24T11:07:17.725Z"
   },
   {
    "duration": 18,
    "start_time": "2022-01-24T11:07:18.314Z"
   },
   {
    "duration": 59,
    "start_time": "2022-01-24T11:07:18.334Z"
   },
   {
    "duration": 51,
    "start_time": "2022-01-24T11:07:18.395Z"
   },
   {
    "duration": 54,
    "start_time": "2022-01-24T11:07:18.448Z"
   },
   {
    "duration": 8,
    "start_time": "2022-01-24T11:07:18.504Z"
   },
   {
    "duration": 11,
    "start_time": "2022-01-24T11:07:18.513Z"
   },
   {
    "duration": 11,
    "start_time": "2022-01-24T11:09:42.257Z"
   },
   {
    "duration": 3,
    "start_time": "2022-01-24T11:15:46.718Z"
   },
   {
    "duration": 14,
    "start_time": "2022-01-24T11:20:15.649Z"
   },
   {
    "duration": 11,
    "start_time": "2022-01-24T11:21:36.435Z"
   },
   {
    "duration": 10,
    "start_time": "2022-01-24T11:23:06.622Z"
   },
   {
    "duration": 45,
    "start_time": "2022-01-24T11:23:20.587Z"
   },
   {
    "duration": 9,
    "start_time": "2022-01-24T11:23:22.585Z"
   },
   {
    "duration": 46,
    "start_time": "2022-01-24T11:23:30.754Z"
   },
   {
    "duration": 9,
    "start_time": "2022-01-24T11:23:33.206Z"
   },
   {
    "duration": 45,
    "start_time": "2022-01-24T11:23:43.428Z"
   },
   {
    "duration": 9,
    "start_time": "2022-01-24T11:23:46.994Z"
   },
   {
    "duration": 49,
    "start_time": "2022-01-24T11:24:01.126Z"
   },
   {
    "duration": 9,
    "start_time": "2022-01-24T11:24:05.672Z"
   },
   {
    "duration": 584,
    "start_time": "2022-01-24T11:24:23.809Z"
   },
   {
    "duration": 132,
    "start_time": "2022-01-24T11:24:24.395Z"
   },
   {
    "duration": 16,
    "start_time": "2022-01-24T11:24:24.529Z"
   },
   {
    "duration": 36,
    "start_time": "2022-01-24T11:24:24.547Z"
   },
   {
    "duration": 21,
    "start_time": "2022-01-24T11:24:24.584Z"
   },
   {
    "duration": 29,
    "start_time": "2022-01-24T11:24:24.607Z"
   },
   {
    "duration": 13,
    "start_time": "2022-01-24T11:24:24.638Z"
   },
   {
    "duration": 43,
    "start_time": "2022-01-24T11:24:24.653Z"
   },
   {
    "duration": 501,
    "start_time": "2022-01-24T11:24:24.698Z"
   },
   {
    "duration": 20,
    "start_time": "2022-01-24T11:24:25.200Z"
   },
   {
    "duration": 65,
    "start_time": "2022-01-24T11:24:25.222Z"
   },
   {
    "duration": 64,
    "start_time": "2022-01-24T11:24:25.289Z"
   },
   {
    "duration": 64,
    "start_time": "2022-01-24T11:24:25.355Z"
   },
   {
    "duration": 9,
    "start_time": "2022-01-24T11:24:25.420Z"
   },
   {
    "duration": 25,
    "start_time": "2022-01-24T11:24:25.431Z"
   },
   {
    "duration": 40,
    "start_time": "2022-01-24T11:24:25.458Z"
   },
   {
    "duration": 74,
    "start_time": "2022-01-24T11:24:25.499Z"
   },
   {
    "duration": 8,
    "start_time": "2022-01-24T11:24:34.927Z"
   },
   {
    "duration": 463,
    "start_time": "2022-01-24T11:39:23.196Z"
   },
   {
    "duration": 348,
    "start_time": "2022-01-24T11:39:39.806Z"
   },
   {
    "duration": 10,
    "start_time": "2022-01-24T11:40:04.376Z"
   },
   {
    "duration": 11,
    "start_time": "2022-01-24T11:40:23.810Z"
   },
   {
    "duration": 10,
    "start_time": "2022-01-24T11:44:19.546Z"
   },
   {
    "duration": 11,
    "start_time": "2022-01-24T11:44:27.383Z"
   },
   {
    "duration": 10,
    "start_time": "2022-01-24T11:45:44.619Z"
   },
   {
    "duration": 10,
    "start_time": "2022-01-24T11:45:55.409Z"
   },
   {
    "duration": 10,
    "start_time": "2022-01-24T11:50:00.122Z"
   },
   {
    "duration": 13,
    "start_time": "2022-01-24T11:50:10.770Z"
   },
   {
    "duration": -33,
    "start_time": "2022-01-24T11:50:29.616Z"
   },
   {
    "duration": 10,
    "start_time": "2022-01-24T11:50:39.463Z"
   },
   {
    "duration": 300,
    "start_time": "2022-01-24T11:50:49.467Z"
   },
   {
    "duration": 312,
    "start_time": "2022-01-24T11:51:08.807Z"
   },
   {
    "duration": 310,
    "start_time": "2022-01-24T11:51:14.459Z"
   },
   {
    "duration": 306,
    "start_time": "2022-01-24T11:51:24.324Z"
   },
   {
    "duration": 334,
    "start_time": "2022-01-24T11:52:09.241Z"
   },
   {
    "duration": 306,
    "start_time": "2022-01-24T11:52:18.999Z"
   },
   {
    "duration": 97,
    "start_time": "2022-01-24T11:54:55.369Z"
   },
   {
    "duration": 94,
    "start_time": "2022-01-24T11:55:14.324Z"
   },
   {
    "duration": 87,
    "start_time": "2022-01-24T11:55:47.453Z"
   },
   {
    "duration": 153,
    "start_time": "2022-01-24T11:55:58.610Z"
   },
   {
    "duration": 110,
    "start_time": "2022-01-24T11:56:12.559Z"
   },
   {
    "duration": 97,
    "start_time": "2022-01-24T11:58:28.312Z"
   },
   {
    "duration": 101,
    "start_time": "2022-01-24T11:58:47.296Z"
   },
   {
    "duration": 134,
    "start_time": "2022-01-24T11:59:00.639Z"
   },
   {
    "duration": 124,
    "start_time": "2022-01-24T11:59:28.852Z"
   },
   {
    "duration": 4,
    "start_time": "2022-01-24T11:59:39.724Z"
   },
   {
    "duration": -24,
    "start_time": "2022-01-24T12:00:32.109Z"
   },
   {
    "duration": 3,
    "start_time": "2022-01-24T12:00:33.807Z"
   },
   {
    "duration": 9,
    "start_time": "2022-01-24T12:02:59.217Z"
   },
   {
    "duration": 588,
    "start_time": "2022-01-24T12:05:44.491Z"
   },
   {
    "duration": 124,
    "start_time": "2022-01-24T12:05:45.081Z"
   },
   {
    "duration": 16,
    "start_time": "2022-01-24T12:05:45.207Z"
   },
   {
    "duration": 22,
    "start_time": "2022-01-24T12:05:45.225Z"
   },
   {
    "duration": 3,
    "start_time": "2022-01-24T12:05:45.248Z"
   },
   {
    "duration": 32,
    "start_time": "2022-01-24T12:05:45.253Z"
   },
   {
    "duration": 3,
    "start_time": "2022-01-24T12:05:45.287Z"
   },
   {
    "duration": 22,
    "start_time": "2022-01-24T12:05:45.293Z"
   },
   {
    "duration": 420,
    "start_time": "2022-01-24T12:05:45.317Z"
   },
   {
    "duration": 19,
    "start_time": "2022-01-24T12:05:45.739Z"
   },
   {
    "duration": 62,
    "start_time": "2022-01-24T12:05:45.760Z"
   },
   {
    "duration": 66,
    "start_time": "2022-01-24T12:05:45.823Z"
   },
   {
    "duration": 46,
    "start_time": "2022-01-24T12:05:45.891Z"
   },
   {
    "duration": 9,
    "start_time": "2022-01-24T12:05:45.938Z"
   },
   {
    "duration": 27,
    "start_time": "2022-01-24T12:05:45.949Z"
   },
   {
    "duration": 3,
    "start_time": "2022-01-24T12:05:45.977Z"
   },
   {
    "duration": 98,
    "start_time": "2022-01-24T12:05:45.981Z"
   },
   {
    "duration": 9,
    "start_time": "2022-01-24T12:05:54.017Z"
   },
   {
    "duration": 11,
    "start_time": "2022-01-24T12:14:42.697Z"
   },
   {
    "duration": 11,
    "start_time": "2022-01-24T12:15:15.995Z"
   },
   {
    "duration": 12,
    "start_time": "2022-01-24T12:18:31.634Z"
   },
   {
    "duration": 10,
    "start_time": "2022-01-24T12:18:51.516Z"
   },
   {
    "duration": 5,
    "start_time": "2022-01-24T12:19:56.048Z"
   },
   {
    "duration": 10,
    "start_time": "2022-01-24T12:20:03.454Z"
   },
   {
    "duration": 14,
    "start_time": "2022-01-24T12:20:21.957Z"
   },
   {
    "duration": 3,
    "start_time": "2022-01-24T12:31:32.220Z"
   },
   {
    "duration": 3,
    "start_time": "2022-01-24T12:31:59.806Z"
   },
   {
    "duration": 4,
    "start_time": "2022-01-24T12:32:19.474Z"
   },
   {
    "duration": 147,
    "start_time": "2022-01-24T12:43:49.698Z"
   },
   {
    "duration": 103,
    "start_time": "2022-01-24T12:44:02.661Z"
   },
   {
    "duration": 107,
    "start_time": "2022-01-24T12:44:47.205Z"
   },
   {
    "duration": 355,
    "start_time": "2022-01-24T12:45:02.177Z"
   },
   {
    "duration": 353,
    "start_time": "2022-01-24T12:46:40.686Z"
   },
   {
    "duration": 479,
    "start_time": "2022-01-24T13:30:19.358Z"
   },
   {
    "duration": 369,
    "start_time": "2022-01-24T13:30:41.901Z"
   },
   {
    "duration": 17,
    "start_time": "2022-01-24T13:37:13.283Z"
   },
   {
    "duration": 576,
    "start_time": "2022-01-24T13:53:37.679Z"
   },
   {
    "duration": 122,
    "start_time": "2022-01-24T13:53:38.257Z"
   },
   {
    "duration": 16,
    "start_time": "2022-01-24T13:53:38.381Z"
   },
   {
    "duration": 21,
    "start_time": "2022-01-24T13:53:38.398Z"
   },
   {
    "duration": 2,
    "start_time": "2022-01-24T13:53:38.421Z"
   },
   {
    "duration": 18,
    "start_time": "2022-01-24T13:53:38.425Z"
   },
   {
    "duration": 3,
    "start_time": "2022-01-24T13:53:38.445Z"
   },
   {
    "duration": 22,
    "start_time": "2022-01-24T13:53:38.473Z"
   },
   {
    "duration": 439,
    "start_time": "2022-01-24T13:53:38.497Z"
   },
   {
    "duration": 19,
    "start_time": "2022-01-24T13:53:38.938Z"
   },
   {
    "duration": 58,
    "start_time": "2022-01-24T13:53:38.958Z"
   },
   {
    "duration": 62,
    "start_time": "2022-01-24T13:53:39.018Z"
   },
   {
    "duration": 45,
    "start_time": "2022-01-24T13:53:39.082Z"
   },
   {
    "duration": 9,
    "start_time": "2022-01-24T13:53:39.129Z"
   },
   {
    "duration": 10,
    "start_time": "2022-01-24T13:53:39.139Z"
   },
   {
    "duration": 21,
    "start_time": "2022-01-24T13:53:39.151Z"
   },
   {
    "duration": 78,
    "start_time": "2022-01-24T13:53:39.173Z"
   },
   {
    "duration": 20,
    "start_time": "2022-01-24T13:53:39.253Z"
   },
   {
    "duration": 10,
    "start_time": "2022-01-24T13:53:39.275Z"
   },
   {
    "duration": 9,
    "start_time": "2022-01-24T13:53:39.287Z"
   },
   {
    "duration": 3,
    "start_time": "2022-01-24T13:53:39.297Z"
   },
   {
    "duration": 16,
    "start_time": "2022-01-24T13:53:39.301Z"
   },
   {
    "duration": 13,
    "start_time": "2022-01-24T13:53:39.320Z"
   },
   {
    "duration": 47,
    "start_time": "2022-01-24T13:53:39.334Z"
   },
   {
    "duration": 13,
    "start_time": "2022-01-24T13:53:39.382Z"
   },
   {
    "duration": 14,
    "start_time": "2022-01-24T13:53:39.397Z"
   },
   {
    "duration": 13,
    "start_time": "2022-01-24T13:53:39.413Z"
   },
   {
    "duration": 383,
    "start_time": "2022-01-24T14:01:34.216Z"
   },
   {
    "duration": 2,
    "start_time": "2022-01-24T14:01:44.111Z"
   },
   {
    "duration": 134,
    "start_time": "2022-01-24T14:01:44.115Z"
   },
   {
    "duration": 10,
    "start_time": "2022-01-24T14:01:44.251Z"
   },
   {
    "duration": 29,
    "start_time": "2022-01-24T14:01:44.263Z"
   },
   {
    "duration": 3,
    "start_time": "2022-01-24T14:01:44.295Z"
   },
   {
    "duration": 15,
    "start_time": "2022-01-24T14:01:44.300Z"
   },
   {
    "duration": 4,
    "start_time": "2022-01-24T14:01:44.317Z"
   },
   {
    "duration": 24,
    "start_time": "2022-01-24T14:01:44.323Z"
   },
   {
    "duration": 462,
    "start_time": "2022-01-24T14:01:44.349Z"
   },
   {
    "duration": 22,
    "start_time": "2022-01-24T14:01:44.813Z"
   },
   {
    "duration": 70,
    "start_time": "2022-01-24T14:01:44.837Z"
   },
   {
    "duration": 71,
    "start_time": "2022-01-24T14:01:44.908Z"
   },
   {
    "duration": 54,
    "start_time": "2022-01-24T14:01:44.980Z"
   },
   {
    "duration": 10,
    "start_time": "2022-01-24T14:01:45.036Z"
   },
   {
    "duration": 32,
    "start_time": "2022-01-24T14:01:45.048Z"
   },
   {
    "duration": 3,
    "start_time": "2022-01-24T14:01:45.082Z"
   },
   {
    "duration": 98,
    "start_time": "2022-01-24T14:01:45.087Z"
   },
   {
    "duration": 10,
    "start_time": "2022-01-24T14:01:45.186Z"
   },
   {
    "duration": 13,
    "start_time": "2022-01-24T14:01:45.200Z"
   },
   {
    "duration": 11,
    "start_time": "2022-01-24T14:01:45.215Z"
   },
   {
    "duration": 3,
    "start_time": "2022-01-24T14:01:45.228Z"
   },
   {
    "duration": 9,
    "start_time": "2022-01-24T14:01:45.233Z"
   },
   {
    "duration": 18,
    "start_time": "2022-01-24T14:01:45.273Z"
   },
   {
    "duration": 13,
    "start_time": "2022-01-24T14:01:45.293Z"
   },
   {
    "duration": 13,
    "start_time": "2022-01-24T14:01:45.307Z"
   },
   {
    "duration": 11,
    "start_time": "2022-01-24T14:01:45.322Z"
   },
   {
    "duration": 36,
    "start_time": "2022-01-24T14:01:45.335Z"
   },
   {
    "duration": 12,
    "start_time": "2022-01-24T14:01:45.373Z"
   },
   {
    "duration": 318,
    "start_time": "2022-01-24T14:01:49.123Z"
   },
   {
    "duration": 14,
    "start_time": "2022-01-24T14:02:35.511Z"
   },
   {
    "duration": 585,
    "start_time": "2022-01-24T14:03:14.171Z"
   },
   {
    "duration": 131,
    "start_time": "2022-01-24T14:03:14.758Z"
   },
   {
    "duration": 18,
    "start_time": "2022-01-24T14:03:14.892Z"
   },
   {
    "duration": 23,
    "start_time": "2022-01-24T14:03:14.912Z"
   },
   {
    "duration": 3,
    "start_time": "2022-01-24T14:03:14.936Z"
   },
   {
    "duration": 46,
    "start_time": "2022-01-24T14:03:14.940Z"
   },
   {
    "duration": 3,
    "start_time": "2022-01-24T14:03:14.988Z"
   },
   {
    "duration": 24,
    "start_time": "2022-01-24T14:03:14.993Z"
   },
   {
    "duration": 488,
    "start_time": "2022-01-24T14:03:15.019Z"
   },
   {
    "duration": 21,
    "start_time": "2022-01-24T14:03:15.509Z"
   },
   {
    "duration": 66,
    "start_time": "2022-01-24T14:03:15.532Z"
   },
   {
    "duration": 58,
    "start_time": "2022-01-24T14:03:15.600Z"
   },
   {
    "duration": 57,
    "start_time": "2022-01-24T14:03:15.660Z"
   },
   {
    "duration": 9,
    "start_time": "2022-01-24T14:03:15.719Z"
   },
   {
    "duration": 11,
    "start_time": "2022-01-24T14:03:15.730Z"
   },
   {
    "duration": 2,
    "start_time": "2022-01-24T14:03:15.743Z"
   },
   {
    "duration": 83,
    "start_time": "2022-01-24T14:03:15.772Z"
   },
   {
    "duration": 22,
    "start_time": "2022-01-24T14:03:15.856Z"
   },
   {
    "duration": 11,
    "start_time": "2022-01-24T14:03:15.880Z"
   },
   {
    "duration": 10,
    "start_time": "2022-01-24T14:03:15.893Z"
   },
   {
    "duration": 6,
    "start_time": "2022-01-24T14:03:15.905Z"
   },
   {
    "duration": 6,
    "start_time": "2022-01-24T14:03:15.913Z"
   },
   {
    "duration": 15,
    "start_time": "2022-01-24T14:03:15.922Z"
   },
   {
    "duration": 38,
    "start_time": "2022-01-24T14:03:15.939Z"
   },
   {
    "duration": 19,
    "start_time": "2022-01-24T14:03:15.978Z"
   },
   {
    "duration": 15,
    "start_time": "2022-01-24T14:03:15.999Z"
   },
   {
    "duration": 16,
    "start_time": "2022-01-24T14:03:16.017Z"
   },
   {
    "duration": 37,
    "start_time": "2022-01-24T14:03:16.035Z"
   },
   {
    "duration": 4,
    "start_time": "2022-01-24T14:03:19.780Z"
   },
   {
    "duration": 1224,
    "start_time": "2022-01-24T14:05:16.017Z"
   },
   {
    "duration": 533,
    "start_time": "2022-01-24T14:06:38.064Z"
   },
   {
    "duration": 3,
    "start_time": "2022-01-24T14:06:47.612Z"
   },
   {
    "duration": 128,
    "start_time": "2022-01-24T14:06:47.617Z"
   },
   {
    "duration": 9,
    "start_time": "2022-01-24T14:06:47.747Z"
   },
   {
    "duration": 32,
    "start_time": "2022-01-24T14:06:47.758Z"
   },
   {
    "duration": 3,
    "start_time": "2022-01-24T14:06:47.791Z"
   },
   {
    "duration": 14,
    "start_time": "2022-01-24T14:06:47.796Z"
   },
   {
    "duration": 3,
    "start_time": "2022-01-24T14:06:47.812Z"
   },
   {
    "duration": 24,
    "start_time": "2022-01-24T14:06:47.817Z"
   },
   {
    "duration": 507,
    "start_time": "2022-01-24T14:06:47.843Z"
   },
   {
    "duration": 23,
    "start_time": "2022-01-24T14:06:48.352Z"
   },
   {
    "duration": 49,
    "start_time": "2022-01-24T14:06:48.376Z"
   },
   {
    "duration": 68,
    "start_time": "2022-01-24T14:06:48.427Z"
   },
   {
    "duration": 44,
    "start_time": "2022-01-24T14:06:48.497Z"
   },
   {
    "duration": 9,
    "start_time": "2022-01-24T14:06:48.543Z"
   },
   {
    "duration": 25,
    "start_time": "2022-01-24T14:06:48.554Z"
   },
   {
    "duration": 3,
    "start_time": "2022-01-24T14:06:48.581Z"
   },
   {
    "duration": 95,
    "start_time": "2022-01-24T14:06:48.586Z"
   },
   {
    "duration": 10,
    "start_time": "2022-01-24T14:06:48.682Z"
   },
   {
    "duration": 11,
    "start_time": "2022-01-24T14:06:48.695Z"
   },
   {
    "duration": 11,
    "start_time": "2022-01-24T14:06:48.708Z"
   },
   {
    "duration": 4,
    "start_time": "2022-01-24T14:06:48.720Z"
   },
   {
    "duration": 3,
    "start_time": "2022-01-24T14:06:48.726Z"
   },
   {
    "duration": 51,
    "start_time": "2022-01-24T14:06:48.730Z"
   },
   {
    "duration": 12,
    "start_time": "2022-01-24T14:06:48.783Z"
   },
   {
    "duration": 12,
    "start_time": "2022-01-24T14:06:48.797Z"
   },
   {
    "duration": 10,
    "start_time": "2022-01-24T14:06:48.810Z"
   },
   {
    "duration": 12,
    "start_time": "2022-01-24T14:06:48.822Z"
   },
   {
    "duration": 35,
    "start_time": "2022-01-24T14:06:48.836Z"
   },
   {
    "duration": 3,
    "start_time": "2022-01-24T14:06:48.873Z"
   },
   {
    "duration": 7,
    "start_time": "2022-01-24T14:06:48.877Z"
   },
   {
    "duration": 541,
    "start_time": "2022-01-24T14:10:35.223Z"
   },
   {
    "duration": 245,
    "start_time": "2022-01-24T14:10:47.785Z"
   },
   {
    "duration": 8,
    "start_time": "2022-01-24T14:10:53.409Z"
   },
   {
    "duration": 8,
    "start_time": "2022-01-24T14:16:54.338Z"
   },
   {
    "duration": 11,
    "start_time": "2022-01-24T14:30:50.517Z"
   },
   {
    "duration": 6,
    "start_time": "2022-01-24T14:30:51.869Z"
   },
   {
    "duration": 1109,
    "start_time": "2022-01-24T14:36:07.189Z"
   },
   {
    "duration": 338,
    "start_time": "2022-01-24T14:36:07.962Z"
   },
   {
    "duration": 337,
    "start_time": "2022-01-24T14:36:07.964Z"
   },
   {
    "duration": 4,
    "start_time": "2022-01-24T14:36:16.782Z"
   },
   {
    "duration": 14,
    "start_time": "2022-01-24T14:36:17.445Z"
   },
   {
    "duration": 17,
    "start_time": "2022-01-24T14:36:18.270Z"
   },
   {
    "duration": 13,
    "start_time": "2022-01-24T14:36:18.693Z"
   },
   {
    "duration": 13,
    "start_time": "2022-01-24T14:36:19.125Z"
   },
   {
    "duration": 14,
    "start_time": "2022-01-24T14:36:19.598Z"
   },
   {
    "duration": 12,
    "start_time": "2022-01-24T14:36:20.094Z"
   },
   {
    "duration": 3,
    "start_time": "2022-01-24T14:36:22.534Z"
   },
   {
    "duration": 9,
    "start_time": "2022-01-24T14:36:25.313Z"
   },
   {
    "duration": 3,
    "start_time": "2022-01-24T14:41:35.198Z"
   },
   {
    "duration": 139,
    "start_time": "2022-01-24T14:45:54.178Z"
   },
   {
    "duration": 3,
    "start_time": "2022-01-24T14:46:49.492Z"
   },
   {
    "duration": 9,
    "start_time": "2022-01-24T14:51:01.460Z"
   },
   {
    "duration": 314,
    "start_time": "2022-01-24T14:51:14.574Z"
   },
   {
    "duration": 8,
    "start_time": "2022-01-24T14:51:29.543Z"
   },
   {
    "duration": 651,
    "start_time": "2022-01-24T14:52:53.200Z"
   },
   {
    "duration": 10,
    "start_time": "2022-01-24T14:53:09.274Z"
   },
   {
    "duration": 2,
    "start_time": "2022-01-24T14:53:15.094Z"
   },
   {
    "duration": 130,
    "start_time": "2022-01-24T14:53:15.098Z"
   },
   {
    "duration": 10,
    "start_time": "2022-01-24T14:53:15.229Z"
   },
   {
    "duration": 32,
    "start_time": "2022-01-24T14:53:15.240Z"
   },
   {
    "duration": 3,
    "start_time": "2022-01-24T14:53:15.273Z"
   },
   {
    "duration": 17,
    "start_time": "2022-01-24T14:53:15.278Z"
   },
   {
    "duration": 3,
    "start_time": "2022-01-24T14:53:15.297Z"
   },
   {
    "duration": 25,
    "start_time": "2022-01-24T14:53:15.302Z"
   },
   {
    "duration": 425,
    "start_time": "2022-01-24T14:53:15.328Z"
   },
   {
    "duration": 24,
    "start_time": "2022-01-24T14:53:15.755Z"
   },
   {
    "duration": 51,
    "start_time": "2022-01-24T14:53:15.781Z"
   },
   {
    "duration": 71,
    "start_time": "2022-01-24T14:53:15.834Z"
   },
   {
    "duration": 44,
    "start_time": "2022-01-24T14:53:15.907Z"
   },
   {
    "duration": 20,
    "start_time": "2022-01-24T14:53:15.953Z"
   },
   {
    "duration": 11,
    "start_time": "2022-01-24T14:53:15.975Z"
   },
   {
    "duration": 2,
    "start_time": "2022-01-24T14:53:15.988Z"
   },
   {
    "duration": 95,
    "start_time": "2022-01-24T14:53:15.992Z"
   },
   {
    "duration": 8,
    "start_time": "2022-01-24T14:53:16.089Z"
   },
   {
    "duration": 11,
    "start_time": "2022-01-24T14:53:16.100Z"
   },
   {
    "duration": 11,
    "start_time": "2022-01-24T14:53:16.113Z"
   },
   {
    "duration": 6,
    "start_time": "2022-01-24T14:53:16.126Z"
   },
   {
    "duration": 9,
    "start_time": "2022-01-24T14:53:16.134Z"
   },
   {
    "duration": 26,
    "start_time": "2022-01-24T14:53:16.145Z"
   },
   {
    "duration": 11,
    "start_time": "2022-01-24T14:53:16.173Z"
   },
   {
    "duration": 11,
    "start_time": "2022-01-24T14:53:16.186Z"
   },
   {
    "duration": 11,
    "start_time": "2022-01-24T14:53:16.198Z"
   },
   {
    "duration": 15,
    "start_time": "2022-01-24T14:53:16.210Z"
   },
   {
    "duration": 12,
    "start_time": "2022-01-24T14:53:16.226Z"
   },
   {
    "duration": 4,
    "start_time": "2022-01-24T14:53:16.240Z"
   },
   {
    "duration": 28,
    "start_time": "2022-01-24T14:53:16.245Z"
   },
   {
    "duration": 12,
    "start_time": "2022-01-24T14:53:16.275Z"
   },
   {
    "duration": 5,
    "start_time": "2022-01-24T14:53:16.289Z"
   },
   {
    "duration": 13,
    "start_time": "2022-01-24T14:53:16.296Z"
   },
   {
    "duration": 649,
    "start_time": "2022-01-24T14:53:19.529Z"
   },
   {
    "duration": 662,
    "start_time": "2022-01-24T14:55:02.805Z"
   },
   {
    "duration": 370,
    "start_time": "2022-01-24T14:58:18.523Z"
   },
   {
    "duration": 658,
    "start_time": "2022-01-24T14:58:27.232Z"
   },
   {
    "duration": 4,
    "start_time": "2022-01-24T14:59:36.954Z"
   },
   {
    "duration": 612,
    "start_time": "2022-01-24T14:59:39.279Z"
   },
   {
    "duration": 2,
    "start_time": "2022-01-24T15:00:27.621Z"
   },
   {
    "duration": 614,
    "start_time": "2022-01-24T15:02:31.240Z"
   },
   {
    "duration": 7,
    "start_time": "2022-01-24T15:03:53.377Z"
   },
   {
    "duration": 659,
    "start_time": "2022-01-24T15:03:55.360Z"
   },
   {
    "duration": 16,
    "start_time": "2022-01-24T15:07:59.272Z"
   },
   {
    "duration": 12,
    "start_time": "2022-01-24T15:08:45.841Z"
   },
   {
    "duration": 12,
    "start_time": "2022-01-24T15:08:57.718Z"
   },
   {
    "duration": 4,
    "start_time": "2022-01-24T15:09:44.683Z"
   },
   {
    "duration": 612,
    "start_time": "2022-01-24T15:09:47.594Z"
   },
   {
    "duration": 3,
    "start_time": "2022-01-24T15:19:33.300Z"
   },
   {
    "duration": 16,
    "start_time": "2022-01-24T15:19:35.348Z"
   },
   {
    "duration": 3,
    "start_time": "2022-01-24T15:20:17.792Z"
   },
   {
    "duration": 2327,
    "start_time": "2022-01-24T15:20:18.895Z"
   },
   {
    "duration": 4,
    "start_time": "2022-01-24T15:20:32.137Z"
   },
   {
    "duration": 16,
    "start_time": "2022-01-24T15:20:33.426Z"
   },
   {
    "duration": 4,
    "start_time": "2022-01-24T15:22:06.139Z"
   },
   {
    "duration": 626,
    "start_time": "2022-01-24T15:22:07.443Z"
   },
   {
    "duration": 3,
    "start_time": "2022-01-24T15:22:18.340Z"
   },
   {
    "duration": 17,
    "start_time": "2022-01-24T15:22:19.147Z"
   },
   {
    "duration": 16,
    "start_time": "2022-01-24T15:23:31.388Z"
   },
   {
    "duration": 17,
    "start_time": "2022-01-24T15:26:04.353Z"
   },
   {
    "duration": 7,
    "start_time": "2022-01-24T15:26:04.906Z"
   },
   {
    "duration": 24,
    "start_time": "2022-01-24T15:26:06.162Z"
   },
   {
    "duration": 16,
    "start_time": "2022-01-24T15:26:07.306Z"
   },
   {
    "duration": 7,
    "start_time": "2022-01-24T15:27:00.432Z"
   },
   {
    "duration": 4,
    "start_time": "2022-01-24T15:27:01.767Z"
   },
   {
    "duration": 17,
    "start_time": "2022-01-24T15:27:02.367Z"
   },
   {
    "duration": 7,
    "start_time": "2022-01-24T15:27:03.488Z"
   },
   {
    "duration": 17,
    "start_time": "2022-01-24T15:27:04.423Z"
   },
   {
    "duration": 8,
    "start_time": "2022-01-24T15:27:06.144Z"
   },
   {
    "duration": 597,
    "start_time": "2022-01-24T15:27:14.727Z"
   },
   {
    "duration": 139,
    "start_time": "2022-01-24T15:27:15.326Z"
   },
   {
    "duration": 21,
    "start_time": "2022-01-24T15:27:15.468Z"
   },
   {
    "duration": 27,
    "start_time": "2022-01-24T15:27:15.491Z"
   },
   {
    "duration": 8,
    "start_time": "2022-01-24T15:27:15.519Z"
   },
   {
    "duration": 33,
    "start_time": "2022-01-24T15:27:15.528Z"
   },
   {
    "duration": 12,
    "start_time": "2022-01-24T15:27:15.562Z"
   },
   {
    "duration": 36,
    "start_time": "2022-01-24T15:27:15.577Z"
   },
   {
    "duration": 524,
    "start_time": "2022-01-24T15:27:15.616Z"
   },
   {
    "duration": 19,
    "start_time": "2022-01-24T15:27:16.142Z"
   },
   {
    "duration": 59,
    "start_time": "2022-01-24T15:27:16.163Z"
   },
   {
    "duration": 73,
    "start_time": "2022-01-24T15:27:16.223Z"
   },
   {
    "duration": 50,
    "start_time": "2022-01-24T15:27:16.298Z"
   },
   {
    "duration": 23,
    "start_time": "2022-01-24T15:27:16.350Z"
   },
   {
    "duration": 15,
    "start_time": "2022-01-24T15:27:16.375Z"
   },
   {
    "duration": 3,
    "start_time": "2022-01-24T15:27:16.392Z"
   },
   {
    "duration": 94,
    "start_time": "2022-01-24T15:27:16.397Z"
   },
   {
    "duration": 9,
    "start_time": "2022-01-24T15:27:16.493Z"
   },
   {
    "duration": 12,
    "start_time": "2022-01-24T15:27:16.503Z"
   },
   {
    "duration": 13,
    "start_time": "2022-01-24T15:27:16.517Z"
   },
   {
    "duration": 3,
    "start_time": "2022-01-24T15:27:16.531Z"
   },
   {
    "duration": 5,
    "start_time": "2022-01-24T15:27:16.535Z"
   },
   {
    "duration": 20,
    "start_time": "2022-01-24T15:27:16.572Z"
   },
   {
    "duration": 14,
    "start_time": "2022-01-24T15:27:16.594Z"
   },
   {
    "duration": 17,
    "start_time": "2022-01-24T15:27:16.609Z"
   },
   {
    "duration": 16,
    "start_time": "2022-01-24T15:27:16.628Z"
   },
   {
    "duration": 48,
    "start_time": "2022-01-24T15:27:16.646Z"
   },
   {
    "duration": 13,
    "start_time": "2022-01-24T15:27:16.696Z"
   },
   {
    "duration": 372,
    "start_time": "2022-01-24T15:27:16.710Z"
   },
   {
    "duration": 390,
    "start_time": "2022-01-24T15:27:16.695Z"
   },
   {
    "duration": 387,
    "start_time": "2022-01-24T15:27:16.700Z"
   },
   {
    "duration": 385,
    "start_time": "2022-01-24T15:27:16.703Z"
   },
   {
    "duration": 382,
    "start_time": "2022-01-24T15:27:16.707Z"
   },
   {
    "duration": 381,
    "start_time": "2022-01-24T15:27:16.710Z"
   },
   {
    "duration": 378,
    "start_time": "2022-01-24T15:27:16.714Z"
   },
   {
    "duration": 375,
    "start_time": "2022-01-24T15:27:16.717Z"
   },
   {
    "duration": 374,
    "start_time": "2022-01-24T15:27:16.719Z"
   },
   {
    "duration": 2,
    "start_time": "2022-01-24T15:27:28.516Z"
   },
   {
    "duration": 151,
    "start_time": "2022-01-24T15:27:28.520Z"
   },
   {
    "duration": 10,
    "start_time": "2022-01-24T15:27:28.673Z"
   },
   {
    "duration": 31,
    "start_time": "2022-01-24T15:27:28.685Z"
   },
   {
    "duration": 5,
    "start_time": "2022-01-24T15:27:28.718Z"
   },
   {
    "duration": 23,
    "start_time": "2022-01-24T15:27:28.724Z"
   },
   {
    "duration": 3,
    "start_time": "2022-01-24T15:27:28.749Z"
   },
   {
    "duration": 33,
    "start_time": "2022-01-24T15:27:28.755Z"
   },
   {
    "duration": 420,
    "start_time": "2022-01-24T15:27:28.790Z"
   },
   {
    "duration": 21,
    "start_time": "2022-01-24T15:27:29.212Z"
   },
   {
    "duration": 65,
    "start_time": "2022-01-24T15:27:29.235Z"
   },
   {
    "duration": 70,
    "start_time": "2022-01-24T15:27:29.302Z"
   },
   {
    "duration": 70,
    "start_time": "2022-01-24T15:27:29.374Z"
   },
   {
    "duration": 26,
    "start_time": "2022-01-24T15:27:29.446Z"
   },
   {
    "duration": 11,
    "start_time": "2022-01-24T15:27:29.474Z"
   },
   {
    "duration": 4,
    "start_time": "2022-01-24T15:27:29.487Z"
   },
   {
    "duration": 97,
    "start_time": "2022-01-24T15:27:29.492Z"
   },
   {
    "duration": 10,
    "start_time": "2022-01-24T15:27:29.590Z"
   },
   {
    "duration": 12,
    "start_time": "2022-01-24T15:27:29.602Z"
   },
   {
    "duration": 10,
    "start_time": "2022-01-24T15:27:29.615Z"
   },
   {
    "duration": 3,
    "start_time": "2022-01-24T15:27:29.626Z"
   },
   {
    "duration": 5,
    "start_time": "2022-01-24T15:27:29.630Z"
   },
   {
    "duration": 42,
    "start_time": "2022-01-24T15:27:29.638Z"
   },
   {
    "duration": 18,
    "start_time": "2022-01-24T15:27:29.682Z"
   },
   {
    "duration": 19,
    "start_time": "2022-01-24T15:27:29.701Z"
   },
   {
    "duration": 21,
    "start_time": "2022-01-24T15:27:29.722Z"
   },
   {
    "duration": 17,
    "start_time": "2022-01-24T15:27:29.744Z"
   },
   {
    "duration": 13,
    "start_time": "2022-01-24T15:27:29.763Z"
   },
   {
    "duration": 372,
    "start_time": "2022-01-24T15:27:29.778Z"
   },
   {
    "duration": 380,
    "start_time": "2022-01-24T15:27:29.772Z"
   },
   {
    "duration": 378,
    "start_time": "2022-01-24T15:27:29.775Z"
   },
   {
    "duration": 377,
    "start_time": "2022-01-24T15:27:29.778Z"
   },
   {
    "duration": 376,
    "start_time": "2022-01-24T15:27:29.780Z"
   },
   {
    "duration": 375,
    "start_time": "2022-01-24T15:27:29.783Z"
   },
   {
    "duration": 374,
    "start_time": "2022-01-24T15:27:29.785Z"
   },
   {
    "duration": 373,
    "start_time": "2022-01-24T15:27:29.787Z"
   },
   {
    "duration": 307,
    "start_time": "2022-01-24T15:27:40.316Z"
   },
   {
    "duration": 400,
    "start_time": "2022-01-24T15:27:40.226Z"
   },
   {
    "duration": 399,
    "start_time": "2022-01-24T15:27:40.228Z"
   },
   {
    "duration": 397,
    "start_time": "2022-01-24T15:27:40.231Z"
   },
   {
    "duration": 396,
    "start_time": "2022-01-24T15:27:40.233Z"
   },
   {
    "duration": 394,
    "start_time": "2022-01-24T15:27:40.236Z"
   },
   {
    "duration": 394,
    "start_time": "2022-01-24T15:27:40.238Z"
   },
   {
    "duration": 392,
    "start_time": "2022-01-24T15:27:40.240Z"
   },
   {
    "duration": 2,
    "start_time": "2022-01-24T15:27:52.697Z"
   },
   {
    "duration": 166,
    "start_time": "2022-01-24T15:27:52.701Z"
   },
   {
    "duration": 9,
    "start_time": "2022-01-24T15:27:52.869Z"
   },
   {
    "duration": 38,
    "start_time": "2022-01-24T15:27:52.881Z"
   },
   {
    "duration": 10,
    "start_time": "2022-01-24T15:27:52.921Z"
   },
   {
    "duration": 24,
    "start_time": "2022-01-24T15:27:52.932Z"
   },
   {
    "duration": 4,
    "start_time": "2022-01-24T15:27:52.957Z"
   },
   {
    "duration": 25,
    "start_time": "2022-01-24T15:27:52.964Z"
   },
   {
    "duration": 550,
    "start_time": "2022-01-24T15:27:52.991Z"
   },
   {
    "duration": 28,
    "start_time": "2022-01-24T15:27:53.544Z"
   },
   {
    "duration": 52,
    "start_time": "2022-01-24T15:27:53.574Z"
   },
   {
    "duration": 88,
    "start_time": "2022-01-24T15:27:53.628Z"
   },
   {
    "duration": 55,
    "start_time": "2022-01-24T15:27:53.718Z"
   },
   {
    "duration": 9,
    "start_time": "2022-01-24T15:27:53.775Z"
   },
   {
    "duration": 11,
    "start_time": "2022-01-24T15:27:53.785Z"
   },
   {
    "duration": 2,
    "start_time": "2022-01-24T15:27:53.798Z"
   },
   {
    "duration": 119,
    "start_time": "2022-01-24T15:27:53.802Z"
   },
   {
    "duration": 9,
    "start_time": "2022-01-24T15:27:53.923Z"
   },
   {
    "duration": 11,
    "start_time": "2022-01-24T15:27:53.934Z"
   },
   {
    "duration": 30,
    "start_time": "2022-01-24T15:27:53.947Z"
   },
   {
    "duration": 3,
    "start_time": "2022-01-24T15:27:53.979Z"
   },
   {
    "duration": 7,
    "start_time": "2022-01-24T15:27:53.983Z"
   },
   {
    "duration": 15,
    "start_time": "2022-01-24T15:27:53.993Z"
   },
   {
    "duration": 12,
    "start_time": "2022-01-24T15:27:54.010Z"
   },
   {
    "duration": 13,
    "start_time": "2022-01-24T15:27:54.024Z"
   },
   {
    "duration": 38,
    "start_time": "2022-01-24T15:27:54.038Z"
   },
   {
    "duration": 15,
    "start_time": "2022-01-24T15:27:54.077Z"
   },
   {
    "duration": 13,
    "start_time": "2022-01-24T15:27:54.093Z"
   },
   {
    "duration": 310,
    "start_time": "2022-01-24T15:27:54.107Z"
   },
   {
    "duration": 381,
    "start_time": "2022-01-24T15:27:54.038Z"
   },
   {
    "duration": 379,
    "start_time": "2022-01-24T15:27:54.041Z"
   },
   {
    "duration": 377,
    "start_time": "2022-01-24T15:27:54.044Z"
   },
   {
    "duration": 375,
    "start_time": "2022-01-24T15:27:54.047Z"
   },
   {
    "duration": 374,
    "start_time": "2022-01-24T15:27:54.049Z"
   },
   {
    "duration": 372,
    "start_time": "2022-01-24T15:27:54.052Z"
   },
   {
    "duration": 364,
    "start_time": "2022-01-24T15:27:54.062Z"
   },
   {
    "duration": 360,
    "start_time": "2022-01-24T15:27:54.066Z"
   },
   {
    "duration": 359,
    "start_time": "2022-01-24T15:27:54.068Z"
   },
   {
    "duration": 357,
    "start_time": "2022-01-24T15:27:54.070Z"
   },
   {
    "duration": 356,
    "start_time": "2022-01-24T15:27:54.072Z"
   },
   {
    "duration": 354,
    "start_time": "2022-01-24T15:27:54.075Z"
   },
   {
    "duration": 3,
    "start_time": "2022-01-24T15:28:44.291Z"
   },
   {
    "duration": 8,
    "start_time": "2022-01-24T15:29:00.723Z"
   },
   {
    "duration": 12,
    "start_time": "2022-01-24T15:29:04.468Z"
   },
   {
    "duration": 6,
    "start_time": "2022-01-24T15:29:04.875Z"
   },
   {
    "duration": 4,
    "start_time": "2022-01-24T15:29:05.780Z"
   },
   {
    "duration": 20,
    "start_time": "2022-01-24T15:29:08.851Z"
   },
   {
    "duration": 9,
    "start_time": "2022-01-24T15:29:09.500Z"
   },
   {
    "duration": 17,
    "start_time": "2022-01-24T15:29:10.100Z"
   },
   {
    "duration": 9,
    "start_time": "2022-01-24T15:29:10.421Z"
   },
   {
    "duration": 9,
    "start_time": "2022-01-24T15:29:40.720Z"
   },
   {
    "duration": 5,
    "start_time": "2022-01-24T15:29:41.480Z"
   },
   {
    "duration": 24,
    "start_time": "2022-01-24T15:29:42.871Z"
   },
   {
    "duration": 18,
    "start_time": "2022-01-24T15:29:43.568Z"
   },
   {
    "duration": 17,
    "start_time": "2022-01-24T15:29:44.415Z"
   },
   {
    "duration": 12,
    "start_time": "2022-01-24T15:29:44.855Z"
   },
   {
    "duration": 310,
    "start_time": "2022-01-24T21:00:34.364Z"
   },
   {
    "duration": 3,
    "start_time": "2022-01-24T21:00:45.794Z"
   },
   {
    "duration": 1586,
    "start_time": "2022-01-24T21:00:45.799Z"
   },
   {
    "duration": 1225,
    "start_time": "2022-01-24T21:00:47.387Z"
   },
   {
    "duration": 532,
    "start_time": "2022-01-24T21:00:48.614Z"
   },
   {
    "duration": 936,
    "start_time": "2022-01-24T21:00:49.148Z"
   },
   {
    "duration": 689,
    "start_time": "2022-01-24T21:00:50.086Z"
   },
   {
    "duration": 1702,
    "start_time": "2022-01-24T21:00:50.776Z"
   },
   {
    "duration": 1535,
    "start_time": "2022-01-24T21:00:52.481Z"
   },
   {
    "duration": 1375,
    "start_time": "2022-01-24T21:00:54.018Z"
   },
   {
    "duration": 615,
    "start_time": "2022-01-24T21:00:55.395Z"
   },
   {
    "duration": 1345,
    "start_time": "2022-01-24T21:00:56.012Z"
   },
   {
    "duration": 1591,
    "start_time": "2022-01-24T21:00:57.359Z"
   },
   {
    "duration": 1149,
    "start_time": "2022-01-24T21:00:58.951Z"
   },
   {
    "duration": 1363,
    "start_time": "2022-01-24T21:01:00.102Z"
   },
   {
    "duration": 681,
    "start_time": "2022-01-24T21:01:01.467Z"
   },
   {
    "duration": 1070,
    "start_time": "2022-01-24T21:01:02.150Z"
   },
   {
    "duration": 751,
    "start_time": "2022-01-24T21:01:03.222Z"
   },
   {
    "duration": 1297,
    "start_time": "2022-01-24T21:01:03.975Z"
   },
   {
    "duration": 777,
    "start_time": "2022-01-24T21:01:05.274Z"
   },
   {
    "duration": 945,
    "start_time": "2022-01-24T21:01:06.053Z"
   },
   {
    "duration": 565,
    "start_time": "2022-01-24T21:01:06.999Z"
   },
   {
    "duration": 910,
    "start_time": "2022-01-24T21:01:07.565Z"
   },
   {
    "duration": 1602,
    "start_time": "2022-01-24T21:01:08.478Z"
   },
   {
    "duration": 1050,
    "start_time": "2022-01-24T21:01:10.082Z"
   },
   {
    "duration": 726,
    "start_time": "2022-01-24T21:01:11.134Z"
   },
   {
    "duration": 728,
    "start_time": "2022-01-24T21:01:11.862Z"
   },
   {
    "duration": 1118,
    "start_time": "2022-01-24T21:01:12.592Z"
   },
   {
    "duration": 312,
    "start_time": "2022-01-24T21:01:13.712Z"
   },
   {
    "duration": 1897,
    "start_time": "2022-01-24T21:01:14.026Z"
   },
   {
    "duration": 861,
    "start_time": "2022-01-24T21:01:15.925Z"
   },
   {
    "duration": 764,
    "start_time": "2022-01-24T21:01:16.788Z"
   },
   {
    "duration": 1795,
    "start_time": "2022-01-24T21:01:17.554Z"
   },
   {
    "duration": 868,
    "start_time": "2022-01-24T21:01:19.351Z"
   },
   {
    "duration": 761,
    "start_time": "2022-01-24T21:01:20.221Z"
   },
   {
    "duration": 954,
    "start_time": "2022-01-24T21:01:20.984Z"
   },
   {
    "duration": 1541,
    "start_time": "2022-01-24T21:01:21.940Z"
   },
   {
    "duration": 1084,
    "start_time": "2022-01-24T21:01:23.483Z"
   },
   {
    "duration": 745,
    "start_time": "2022-01-24T21:01:23.824Z"
   },
   {
    "duration": 734,
    "start_time": "2022-01-24T21:01:23.836Z"
   },
   {
    "duration": 730,
    "start_time": "2022-01-24T21:01:23.841Z"
   },
   {
    "duration": 306,
    "start_time": "2022-01-24T21:01:39.713Z"
   },
   {
    "duration": 317,
    "start_time": "2022-01-24T21:01:45.649Z"
   },
   {
    "duration": 9,
    "start_time": "2022-01-24T21:02:08.885Z"
   },
   {
    "duration": 7,
    "start_time": "2022-01-24T21:02:12.635Z"
   },
   {
    "duration": 8,
    "start_time": "2022-01-24T21:02:31.959Z"
   },
   {
    "duration": 5,
    "start_time": "2022-01-24T21:02:55.600Z"
   },
   {
    "duration": 8,
    "start_time": "2022-01-24T21:03:40.149Z"
   },
   {
    "duration": 338,
    "start_time": "2022-01-24T21:04:04.983Z"
   },
   {
    "duration": 9,
    "start_time": "2022-01-24T21:04:20.697Z"
   },
   {
    "duration": 8,
    "start_time": "2022-01-24T21:04:32.522Z"
   },
   {
    "duration": 8,
    "start_time": "2022-01-24T21:04:35.554Z"
   },
   {
    "duration": 8,
    "start_time": "2022-01-24T21:04:38.203Z"
   },
   {
    "duration": 9,
    "start_time": "2022-01-24T21:04:44.922Z"
   },
   {
    "duration": 9,
    "start_time": "2022-01-24T21:04:46.842Z"
   },
   {
    "duration": 311,
    "start_time": "2022-01-24T21:05:25.224Z"
   },
   {
    "duration": 5,
    "start_time": "2022-01-24T21:05:32.719Z"
   },
   {
    "duration": 4,
    "start_time": "2022-01-24T21:05:34.887Z"
   },
   {
    "duration": 5,
    "start_time": "2022-01-24T21:06:00.250Z"
   },
   {
    "duration": 5,
    "start_time": "2022-01-24T21:06:03.890Z"
   },
   {
    "duration": 606,
    "start_time": "2022-01-24T21:07:14.687Z"
   },
   {
    "duration": 438,
    "start_time": "2022-01-24T21:07:15.295Z"
   },
   {
    "duration": 1078,
    "start_time": "2022-01-24T21:07:15.735Z"
   },
   {
    "duration": 813,
    "start_time": "2022-01-24T21:07:16.814Z"
   },
   {
    "duration": 1438,
    "start_time": "2022-01-24T21:07:17.629Z"
   },
   {
    "duration": 910,
    "start_time": "2022-01-24T21:07:19.068Z"
   },
   {
    "duration": 804,
    "start_time": "2022-01-24T21:07:19.979Z"
   },
   {
    "duration": 354,
    "start_time": "2022-01-24T21:07:20.785Z"
   },
   {
    "duration": 706,
    "start_time": "2022-01-24T21:07:21.140Z"
   },
   {
    "duration": 509,
    "start_time": "2022-01-24T21:07:21.848Z"
   },
   {
    "duration": 781,
    "start_time": "2022-01-24T21:07:22.358Z"
   },
   {
    "duration": 1000,
    "start_time": "2022-01-24T21:07:23.141Z"
   },
   {
    "duration": 694,
    "start_time": "2022-01-24T21:07:24.143Z"
   },
   {
    "duration": 658,
    "start_time": "2022-01-24T21:07:24.839Z"
   },
   {
    "duration": 1223,
    "start_time": "2022-01-24T21:07:25.498Z"
   },
   {
    "duration": 1177,
    "start_time": "2022-01-24T21:07:26.723Z"
   },
   {
    "duration": 771,
    "start_time": "2022-01-24T21:07:27.902Z"
   },
   {
    "duration": 2669,
    "start_time": "2022-01-24T21:07:28.675Z"
   },
   {
    "duration": 3178,
    "start_time": "2022-01-24T21:07:31.346Z"
   },
   {
    "duration": 1634,
    "start_time": "2022-01-24T21:07:34.525Z"
   },
   {
    "duration": 667,
    "start_time": "2022-01-24T21:07:36.161Z"
   },
   {
    "duration": 1741,
    "start_time": "2022-01-24T21:07:36.830Z"
   },
   {
    "duration": 3251,
    "start_time": "2022-01-24T21:07:38.575Z"
   },
   {
    "duration": 5728,
    "start_time": "2022-01-24T21:07:41.828Z"
   },
   {
    "duration": 5313,
    "start_time": "2022-01-24T21:07:47.558Z"
   },
   {
    "duration": 4239,
    "start_time": "2022-01-24T21:07:52.872Z"
   },
   {
    "duration": 1137,
    "start_time": "2022-01-24T21:07:57.112Z"
   },
   {
    "duration": 279,
    "start_time": "2022-01-24T21:07:58.251Z"
   },
   {
    "duration": 157,
    "start_time": "2022-01-24T21:07:58.532Z"
   },
   {
    "duration": 5371,
    "start_time": "2022-01-24T21:07:58.691Z"
   },
   {
    "duration": 697,
    "start_time": "2022-01-24T21:08:04.063Z"
   },
   {
    "duration": 2296,
    "start_time": "2022-01-24T21:08:04.762Z"
   },
   {
    "duration": 489,
    "start_time": "2022-01-24T21:08:07.059Z"
   },
   {
    "duration": 1558,
    "start_time": "2022-01-24T21:08:07.550Z"
   },
   {
    "duration": 4877,
    "start_time": "2022-01-24T21:08:09.109Z"
   },
   {
    "duration": 4943,
    "start_time": "2022-01-24T21:08:13.987Z"
   },
   {
    "duration": 4464,
    "start_time": "2022-01-24T21:08:18.932Z"
   },
   {
    "duration": 4021,
    "start_time": "2022-01-24T21:08:23.398Z"
   },
   {
    "duration": 5258,
    "start_time": "2022-01-24T21:08:27.421Z"
   },
   {
    "duration": 6799,
    "start_time": "2022-01-24T21:08:32.680Z"
   },
   {
    "duration": 594,
    "start_time": "2022-02-01T19:39:28.043Z"
   },
   {
    "duration": 143,
    "start_time": "2022-02-01T19:39:28.639Z"
   },
   {
    "duration": 17,
    "start_time": "2022-02-01T19:39:28.784Z"
   },
   {
    "duration": 29,
    "start_time": "2022-02-01T19:39:28.803Z"
   },
   {
    "duration": 7,
    "start_time": "2022-02-01T19:39:28.835Z"
   },
   {
    "duration": 25,
    "start_time": "2022-02-01T19:39:28.844Z"
   },
   {
    "duration": 3,
    "start_time": "2022-02-01T19:39:28.871Z"
   },
   {
    "duration": 47,
    "start_time": "2022-02-01T19:39:28.877Z"
   },
   {
    "duration": 615,
    "start_time": "2022-02-01T19:39:28.928Z"
   },
   {
    "duration": 22,
    "start_time": "2022-02-01T19:39:29.545Z"
   },
   {
    "duration": 79,
    "start_time": "2022-02-01T19:39:29.568Z"
   },
   {
    "duration": 59,
    "start_time": "2022-02-01T19:39:29.648Z"
   },
   {
    "duration": 63,
    "start_time": "2022-02-01T19:39:29.709Z"
   },
   {
    "duration": 9,
    "start_time": "2022-02-01T19:39:29.774Z"
   },
   {
    "duration": 41,
    "start_time": "2022-02-01T19:39:29.785Z"
   },
   {
    "duration": 4,
    "start_time": "2022-02-01T19:39:29.828Z"
   },
   {
    "duration": 101,
    "start_time": "2022-02-01T19:39:29.834Z"
   },
   {
    "duration": 9,
    "start_time": "2022-02-01T19:39:29.937Z"
   },
   {
    "duration": 11,
    "start_time": "2022-02-01T19:39:29.948Z"
   },
   {
    "duration": 9,
    "start_time": "2022-02-01T19:39:29.961Z"
   },
   {
    "duration": 3,
    "start_time": "2022-02-01T19:39:29.972Z"
   },
   {
    "duration": 5,
    "start_time": "2022-02-01T19:39:29.976Z"
   },
   {
    "duration": 53,
    "start_time": "2022-02-01T19:39:29.985Z"
   },
   {
    "duration": 16,
    "start_time": "2022-02-01T19:39:30.040Z"
   },
   {
    "duration": 18,
    "start_time": "2022-02-01T19:39:30.058Z"
   },
   {
    "duration": 27,
    "start_time": "2022-02-01T19:39:30.078Z"
   },
   {
    "duration": 38,
    "start_time": "2022-02-01T19:39:30.107Z"
   },
   {
    "duration": 22,
    "start_time": "2022-02-01T19:39:30.147Z"
   },
   {
    "duration": 24,
    "start_time": "2022-02-01T19:39:30.171Z"
   },
   {
    "duration": 34,
    "start_time": "2022-02-01T19:39:30.197Z"
   },
   {
    "duration": 32,
    "start_time": "2022-02-01T19:39:30.234Z"
   },
   {
    "duration": 11,
    "start_time": "2022-02-01T19:39:30.268Z"
   },
   {
    "duration": 30,
    "start_time": "2022-02-01T19:39:30.281Z"
   },
   {
    "duration": 38,
    "start_time": "2022-02-01T19:39:30.313Z"
   },
   {
    "duration": 27,
    "start_time": "2022-02-01T19:39:30.353Z"
   },
   {
    "duration": 15,
    "start_time": "2022-02-01T19:39:30.382Z"
   },
   {
    "duration": 19,
    "start_time": "2022-02-01T19:39:30.399Z"
   },
   {
    "duration": 16,
    "start_time": "2022-02-01T19:39:30.420Z"
   },
   {
    "duration": 21,
    "start_time": "2022-02-01T19:39:30.438Z"
   },
   {
    "duration": 29,
    "start_time": "2022-02-01T19:39:30.461Z"
   },
   {
    "duration": 9,
    "start_time": "2022-02-01T19:42:56.661Z"
   },
   {
    "duration": 679,
    "start_time": "2022-02-01T20:08:35.709Z"
   },
   {
    "duration": 169,
    "start_time": "2022-02-01T20:08:36.391Z"
   },
   {
    "duration": 20,
    "start_time": "2022-02-01T20:08:36.563Z"
   },
   {
    "duration": 43,
    "start_time": "2022-02-01T20:08:36.584Z"
   },
   {
    "duration": 5,
    "start_time": "2022-02-01T20:08:36.630Z"
   },
   {
    "duration": 31,
    "start_time": "2022-02-01T20:08:36.638Z"
   },
   {
    "duration": 4,
    "start_time": "2022-02-01T20:08:36.673Z"
   },
   {
    "duration": 49,
    "start_time": "2022-02-01T20:08:36.679Z"
   },
   {
    "duration": 704,
    "start_time": "2022-02-01T20:08:36.731Z"
   },
   {
    "duration": 23,
    "start_time": "2022-02-01T20:08:37.439Z"
   },
   {
    "duration": 82,
    "start_time": "2022-02-01T20:08:37.464Z"
   },
   {
    "duration": 78,
    "start_time": "2022-02-01T20:08:37.548Z"
   },
   {
    "duration": 56,
    "start_time": "2022-02-01T20:08:37.632Z"
   },
   {
    "duration": 10,
    "start_time": "2022-02-01T20:08:37.690Z"
   },
   {
    "duration": 24,
    "start_time": "2022-02-01T20:08:37.719Z"
   },
   {
    "duration": 3,
    "start_time": "2022-02-01T20:08:37.745Z"
   },
   {
    "duration": 112,
    "start_time": "2022-02-01T20:08:37.750Z"
   },
   {
    "duration": 9,
    "start_time": "2022-02-01T20:08:37.864Z"
   },
   {
    "duration": 13,
    "start_time": "2022-02-01T20:08:37.874Z"
   },
   {
    "duration": 36,
    "start_time": "2022-02-01T20:08:37.888Z"
   },
   {
    "duration": 5,
    "start_time": "2022-02-01T20:08:37.926Z"
   },
   {
    "duration": 8,
    "start_time": "2022-02-01T20:08:37.934Z"
   },
   {
    "duration": 19,
    "start_time": "2022-02-01T20:08:37.944Z"
   },
   {
    "duration": 13,
    "start_time": "2022-02-01T20:08:37.965Z"
   },
   {
    "duration": 42,
    "start_time": "2022-02-01T20:08:37.980Z"
   },
   {
    "duration": 21,
    "start_time": "2022-02-01T20:08:38.024Z"
   },
   {
    "duration": 19,
    "start_time": "2022-02-01T20:08:38.047Z"
   },
   {
    "duration": 17,
    "start_time": "2022-02-01T20:08:38.068Z"
   },
   {
    "duration": 40,
    "start_time": "2022-02-01T20:08:38.087Z"
   },
   {
    "duration": 23,
    "start_time": "2022-02-01T20:08:38.129Z"
   },
   {
    "duration": 13,
    "start_time": "2022-02-01T20:08:38.154Z"
   },
   {
    "duration": 6,
    "start_time": "2022-02-01T20:08:38.169Z"
   },
   {
    "duration": 22,
    "start_time": "2022-02-01T20:08:38.177Z"
   },
   {
    "duration": 35,
    "start_time": "2022-02-01T20:08:38.201Z"
   },
   {
    "duration": 20,
    "start_time": "2022-02-01T20:08:38.238Z"
   },
   {
    "duration": 13,
    "start_time": "2022-02-01T20:08:38.260Z"
   },
   {
    "duration": 10,
    "start_time": "2022-02-01T20:08:38.275Z"
   },
   {
    "duration": 38,
    "start_time": "2022-02-01T20:08:38.286Z"
   },
   {
    "duration": 10,
    "start_time": "2022-02-01T20:08:38.327Z"
   },
   {
    "duration": 9,
    "start_time": "2022-02-01T20:08:38.339Z"
   },
   {
    "duration": 839,
    "start_time": "2022-02-01T20:11:00.854Z"
   },
   {
    "duration": 252,
    "start_time": "2022-02-01T20:11:01.696Z"
   },
   {
    "duration": 29,
    "start_time": "2022-02-01T20:11:01.954Z"
   },
   {
    "duration": 66,
    "start_time": "2022-02-01T20:11:01.985Z"
   },
   {
    "duration": 4,
    "start_time": "2022-02-01T20:11:02.053Z"
   },
   {
    "duration": 58,
    "start_time": "2022-02-01T20:11:02.060Z"
   },
   {
    "duration": 5,
    "start_time": "2022-02-01T20:11:02.123Z"
   },
   {
    "duration": 36,
    "start_time": "2022-02-01T20:11:02.132Z"
   },
   {
    "duration": 683,
    "start_time": "2022-02-01T20:11:02.170Z"
   },
   {
    "duration": 26,
    "start_time": "2022-02-01T20:11:02.855Z"
   },
   {
    "duration": 92,
    "start_time": "2022-02-01T20:11:02.883Z"
   },
   {
    "duration": 103,
    "start_time": "2022-02-01T20:11:02.977Z"
   },
   {
    "duration": 66,
    "start_time": "2022-02-01T20:11:03.082Z"
   },
   {
    "duration": 9,
    "start_time": "2022-02-01T20:11:03.150Z"
   },
   {
    "duration": 16,
    "start_time": "2022-02-01T20:11:03.161Z"
   },
   {
    "duration": 3,
    "start_time": "2022-02-01T20:11:03.179Z"
   },
   {
    "duration": 98,
    "start_time": "2022-02-01T20:11:03.184Z"
   },
   {
    "duration": 9,
    "start_time": "2022-02-01T20:11:03.283Z"
   },
   {
    "duration": 12,
    "start_time": "2022-02-01T20:11:03.294Z"
   },
   {
    "duration": 20,
    "start_time": "2022-02-01T20:11:03.307Z"
   },
   {
    "duration": 4,
    "start_time": "2022-02-01T20:11:03.329Z"
   },
   {
    "duration": 8,
    "start_time": "2022-02-01T20:11:03.337Z"
   },
   {
    "duration": 20,
    "start_time": "2022-02-01T20:11:03.347Z"
   },
   {
    "duration": 17,
    "start_time": "2022-02-01T20:11:03.369Z"
   },
   {
    "duration": 20,
    "start_time": "2022-02-01T20:11:03.388Z"
   },
   {
    "duration": 24,
    "start_time": "2022-02-01T20:11:03.409Z"
   },
   {
    "duration": 29,
    "start_time": "2022-02-01T20:11:03.436Z"
   },
   {
    "duration": 14,
    "start_time": "2022-02-01T20:11:03.467Z"
   },
   {
    "duration": 10,
    "start_time": "2022-02-01T20:11:03.483Z"
   },
   {
    "duration": 18,
    "start_time": "2022-02-01T20:11:03.495Z"
   },
   {
    "duration": 12,
    "start_time": "2022-02-01T20:11:03.515Z"
   },
   {
    "duration": 14,
    "start_time": "2022-02-01T20:11:03.530Z"
   },
   {
    "duration": 33,
    "start_time": "2022-02-01T20:11:03.546Z"
   },
   {
    "duration": 21,
    "start_time": "2022-02-01T20:11:03.582Z"
   },
   {
    "duration": 31,
    "start_time": "2022-02-01T20:11:03.606Z"
   },
   {
    "duration": 15,
    "start_time": "2022-02-01T20:11:03.639Z"
   },
   {
    "duration": 11,
    "start_time": "2022-02-01T20:11:03.656Z"
   },
   {
    "duration": 9,
    "start_time": "2022-02-01T20:11:03.669Z"
   },
   {
    "duration": 16,
    "start_time": "2022-02-01T20:11:03.680Z"
   },
   {
    "duration": 8,
    "start_time": "2022-02-01T20:11:03.698Z"
   },
   {
    "duration": 367,
    "start_time": "2022-02-01T20:33:32.461Z"
   },
   {
    "duration": 806,
    "start_time": "2022-02-01T20:33:42.381Z"
   },
   {
    "duration": 212,
    "start_time": "2022-02-01T20:33:43.189Z"
   },
   {
    "duration": 27,
    "start_time": "2022-02-01T20:33:43.404Z"
   },
   {
    "duration": 49,
    "start_time": "2022-02-01T20:33:43.450Z"
   },
   {
    "duration": 6,
    "start_time": "2022-02-01T20:33:43.502Z"
   },
   {
    "duration": 65,
    "start_time": "2022-02-01T20:33:43.511Z"
   },
   {
    "duration": 12,
    "start_time": "2022-02-01T20:33:43.579Z"
   },
   {
    "duration": 34,
    "start_time": "2022-02-01T20:33:43.595Z"
   },
   {
    "duration": 16,
    "start_time": "2022-02-01T20:33:43.648Z"
   },
   {
    "duration": 37,
    "start_time": "2022-02-01T20:33:43.666Z"
   },
   {
    "duration": 129,
    "start_time": "2022-02-01T20:33:43.706Z"
   },
   {
    "duration": 120,
    "start_time": "2022-02-01T20:33:43.838Z"
   },
   {
    "duration": 95,
    "start_time": "2022-02-01T20:33:43.962Z"
   },
   {
    "duration": 381,
    "start_time": "2022-02-01T20:33:44.059Z"
   },
   {
    "duration": 577,
    "start_time": "2022-02-01T20:33:43.868Z"
   },
   {
    "duration": 568,
    "start_time": "2022-02-01T20:33:43.879Z"
   },
   {
    "duration": 566,
    "start_time": "2022-02-01T20:33:43.883Z"
   },
   {
    "duration": 562,
    "start_time": "2022-02-01T20:33:43.888Z"
   },
   {
    "duration": 560,
    "start_time": "2022-02-01T20:33:43.892Z"
   },
   {
    "duration": 557,
    "start_time": "2022-02-01T20:33:43.896Z"
   },
   {
    "duration": 556,
    "start_time": "2022-02-01T20:33:43.899Z"
   },
   {
    "duration": 555,
    "start_time": "2022-02-01T20:33:43.901Z"
   },
   {
    "duration": 554,
    "start_time": "2022-02-01T20:33:43.904Z"
   },
   {
    "duration": 553,
    "start_time": "2022-02-01T20:33:43.906Z"
   },
   {
    "duration": 553,
    "start_time": "2022-02-01T20:33:43.908Z"
   },
   {
    "duration": 551,
    "start_time": "2022-02-01T20:33:43.911Z"
   },
   {
    "duration": 550,
    "start_time": "2022-02-01T20:33:43.914Z"
   },
   {
    "duration": 549,
    "start_time": "2022-02-01T20:33:43.916Z"
   },
   {
    "duration": 548,
    "start_time": "2022-02-01T20:33:43.919Z"
   },
   {
    "duration": 549,
    "start_time": "2022-02-01T20:33:43.921Z"
   },
   {
    "duration": 548,
    "start_time": "2022-02-01T20:33:43.924Z"
   },
   {
    "duration": 550,
    "start_time": "2022-02-01T20:33:43.926Z"
   },
   {
    "duration": 537,
    "start_time": "2022-02-01T20:33:43.942Z"
   },
   {
    "duration": 533,
    "start_time": "2022-02-01T20:33:43.947Z"
   },
   {
    "duration": 525,
    "start_time": "2022-02-01T20:33:43.957Z"
   },
   {
    "duration": 523,
    "start_time": "2022-02-01T20:33:43.960Z"
   },
   {
    "duration": 514,
    "start_time": "2022-02-01T20:33:43.971Z"
   },
   {
    "duration": 511,
    "start_time": "2022-02-01T20:33:43.975Z"
   },
   {
    "duration": 508,
    "start_time": "2022-02-01T20:33:43.979Z"
   },
   {
    "duration": 507,
    "start_time": "2022-02-01T20:33:43.982Z"
   },
   {
    "duration": 10,
    "start_time": "2022-02-01T20:33:59.620Z"
   },
   {
    "duration": 352,
    "start_time": "2022-02-01T20:35:27.167Z"
   },
   {
    "duration": 744,
    "start_time": "2022-02-01T20:35:33.894Z"
   },
   {
    "duration": 17,
    "start_time": "2022-02-01T20:35:39.238Z"
   },
   {
    "duration": 5,
    "start_time": "2022-02-01T20:37:23.488Z"
   },
   {
    "duration": 22,
    "start_time": "2022-02-01T20:43:07.763Z"
   },
   {
    "duration": 109,
    "start_time": "2022-02-01T20:45:18.751Z"
   },
   {
    "duration": 304,
    "start_time": "2022-02-01T20:48:28.892Z"
   },
   {
    "duration": 360,
    "start_time": "2022-02-01T20:48:35.634Z"
   },
   {
    "duration": 363,
    "start_time": "2022-02-01T20:48:38.513Z"
   },
   {
    "duration": 67,
    "start_time": "2022-02-01T20:49:02.924Z"
   },
   {
    "duration": 15,
    "start_time": "2022-02-01T20:57:45.464Z"
   },
   {
    "duration": 4,
    "start_time": "2022-02-01T21:01:04.196Z"
   },
   {
    "duration": 184,
    "start_time": "2022-02-01T21:01:06.403Z"
   },
   {
    "duration": 16,
    "start_time": "2022-02-01T21:01:13.652Z"
   },
   {
    "duration": 5,
    "start_time": "2022-02-01T21:01:37.639Z"
   },
   {
    "duration": 4,
    "start_time": "2022-02-01T21:01:43.215Z"
   },
   {
    "duration": 183,
    "start_time": "2022-02-01T21:01:44.175Z"
   },
   {
    "duration": 17,
    "start_time": "2022-02-01T21:01:48.103Z"
   },
   {
    "duration": 5,
    "start_time": "2022-02-01T21:05:05.118Z"
   },
   {
    "duration": 192,
    "start_time": "2022-02-01T21:05:12.044Z"
   },
   {
    "duration": 14,
    "start_time": "2022-02-01T21:05:15.020Z"
   },
   {
    "duration": 129,
    "start_time": "2022-02-01T21:06:06.768Z"
   },
   {
    "duration": 14,
    "start_time": "2022-02-01T21:06:08.776Z"
   },
   {
    "duration": 4,
    "start_time": "2022-02-01T21:06:11.345Z"
   },
   {
    "duration": 165,
    "start_time": "2022-02-01T21:06:11.968Z"
   },
   {
    "duration": 14,
    "start_time": "2022-02-01T21:06:13.288Z"
   },
   {
    "duration": 4,
    "start_time": "2022-02-01T21:06:18.137Z"
   },
   {
    "duration": 181,
    "start_time": "2022-02-01T21:06:18.913Z"
   },
   {
    "duration": 16,
    "start_time": "2022-02-01T21:06:20.065Z"
   },
   {
    "duration": 102,
    "start_time": "2022-02-01T21:10:51.442Z"
   },
   {
    "duration": 302,
    "start_time": "2022-02-01T21:10:59.996Z"
   },
   {
    "duration": 56,
    "start_time": "2022-02-01T21:11:56.145Z"
   },
   {
    "duration": 62,
    "start_time": "2022-02-01T21:12:10.482Z"
   },
   {
    "duration": 109,
    "start_time": "2022-02-01T21:13:37.988Z"
   },
   {
    "duration": 6,
    "start_time": "2022-02-01T21:14:02.749Z"
   },
   {
    "duration": 5,
    "start_time": "2022-02-01T21:14:08.614Z"
   },
   {
    "duration": 175,
    "start_time": "2022-02-01T21:14:09.821Z"
   },
   {
    "duration": 95,
    "start_time": "2022-02-01T21:14:11.454Z"
   },
   {
    "duration": 98,
    "start_time": "2022-02-01T21:17:23.712Z"
   },
   {
    "duration": 112,
    "start_time": "2022-02-01T21:18:31.896Z"
   },
   {
    "duration": 577,
    "start_time": "2022-02-01T21:18:47.760Z"
   },
   {
    "duration": 5,
    "start_time": "2022-02-01T21:27:38.654Z"
   },
   {
    "duration": 635,
    "start_time": "2022-02-01T21:27:39.933Z"
   },
   {
    "duration": 975,
    "start_time": "2022-02-01T21:31:42.118Z"
   },
   {
    "duration": 248,
    "start_time": "2022-02-01T21:31:43.097Z"
   },
   {
    "duration": 39,
    "start_time": "2022-02-01T21:31:43.350Z"
   },
   {
    "duration": 60,
    "start_time": "2022-02-01T21:31:43.392Z"
   },
   {
    "duration": 5,
    "start_time": "2022-02-01T21:31:43.456Z"
   },
   {
    "duration": 40,
    "start_time": "2022-02-01T21:31:43.465Z"
   },
   {
    "duration": 6,
    "start_time": "2022-02-01T21:31:43.508Z"
   },
   {
    "duration": 75,
    "start_time": "2022-02-01T21:31:43.519Z"
   },
   {
    "duration": 665,
    "start_time": "2022-02-01T21:31:43.598Z"
   },
   {
    "duration": 29,
    "start_time": "2022-02-01T21:31:44.265Z"
   },
   {
    "duration": 103,
    "start_time": "2022-02-01T21:31:44.297Z"
   },
   {
    "duration": 33,
    "start_time": "2022-02-01T21:32:36.873Z"
   },
   {
    "duration": 418,
    "start_time": "2022-02-01T21:32:44.938Z"
   },
   {
    "duration": 750,
    "start_time": "2022-02-01T21:33:01.370Z"
   },
   {
    "duration": 251,
    "start_time": "2022-02-01T21:33:02.124Z"
   },
   {
    "duration": 36,
    "start_time": "2022-02-01T21:33:02.379Z"
   },
   {
    "duration": 56,
    "start_time": "2022-02-01T21:33:02.419Z"
   },
   {
    "duration": 11,
    "start_time": "2022-02-01T21:33:02.477Z"
   },
   {
    "duration": 59,
    "start_time": "2022-02-01T21:33:02.490Z"
   },
   {
    "duration": 7,
    "start_time": "2022-02-01T21:33:02.551Z"
   },
   {
    "duration": 32,
    "start_time": "2022-02-01T21:33:04.459Z"
   },
   {
    "duration": 1020,
    "start_time": "2022-02-01T21:35:43.412Z"
   },
   {
    "duration": 48,
    "start_time": "2022-02-01T21:35:44.756Z"
   },
   {
    "duration": 942,
    "start_time": "2022-02-01T21:36:17.678Z"
   },
   {
    "duration": 252,
    "start_time": "2022-02-01T21:36:18.623Z"
   },
   {
    "duration": 37,
    "start_time": "2022-02-01T21:36:18.879Z"
   },
   {
    "duration": 67,
    "start_time": "2022-02-01T21:36:18.920Z"
   },
   {
    "duration": 11,
    "start_time": "2022-02-01T21:36:18.990Z"
   },
   {
    "duration": 60,
    "start_time": "2022-02-01T21:36:19.005Z"
   },
   {
    "duration": 7,
    "start_time": "2022-02-01T21:36:19.068Z"
   },
   {
    "duration": 69,
    "start_time": "2022-02-01T21:36:19.079Z"
   },
   {
    "duration": 37,
    "start_time": "2022-02-01T21:37:01.860Z"
   },
   {
    "duration": 47,
    "start_time": "2022-02-01T21:37:03.444Z"
   },
   {
    "duration": 616,
    "start_time": "2022-02-02T16:14:53.127Z"
   },
   {
    "duration": 148,
    "start_time": "2022-02-02T16:14:53.745Z"
   },
   {
    "duration": 18,
    "start_time": "2022-02-02T16:14:53.895Z"
   },
   {
    "duration": 26,
    "start_time": "2022-02-02T16:14:53.915Z"
   },
   {
    "duration": 3,
    "start_time": "2022-02-02T16:14:53.943Z"
   },
   {
    "duration": 24,
    "start_time": "2022-02-02T16:14:53.948Z"
   },
   {
    "duration": 8,
    "start_time": "2022-02-02T16:14:53.974Z"
   },
   {
    "duration": 25,
    "start_time": "2022-02-02T16:14:54.008Z"
   },
   {
    "duration": 26,
    "start_time": "2022-02-02T16:14:54.035Z"
   },
   {
    "duration": 32,
    "start_time": "2022-02-02T16:14:54.062Z"
   },
   {
    "duration": 64,
    "start_time": "2022-02-02T16:14:54.107Z"
   },
   {
    "duration": 92,
    "start_time": "2022-02-02T16:14:54.173Z"
   },
   {
    "duration": 64,
    "start_time": "2022-02-02T16:14:54.267Z"
   },
   {
    "duration": 46,
    "start_time": "2022-02-02T16:14:54.332Z"
   },
   {
    "duration": 34,
    "start_time": "2022-02-02T16:14:54.380Z"
   },
   {
    "duration": 3,
    "start_time": "2022-02-02T16:14:54.416Z"
   },
   {
    "duration": 98,
    "start_time": "2022-02-02T16:14:54.421Z"
   },
   {
    "duration": 46,
    "start_time": "2022-02-02T16:14:54.521Z"
   },
   {
    "duration": 13,
    "start_time": "2022-02-02T16:14:54.569Z"
   },
   {
    "duration": 13,
    "start_time": "2022-02-02T16:14:54.606Z"
   },
   {
    "duration": 24,
    "start_time": "2022-02-02T16:14:54.621Z"
   },
   {
    "duration": 7,
    "start_time": "2022-02-02T16:14:54.647Z"
   },
   {
    "duration": 23,
    "start_time": "2022-02-02T16:14:54.658Z"
   },
   {
    "duration": 15,
    "start_time": "2022-02-02T16:14:54.683Z"
   },
   {
    "duration": 25,
    "start_time": "2022-02-02T16:14:54.700Z"
   },
   {
    "duration": 19,
    "start_time": "2022-02-02T16:14:54.727Z"
   },
   {
    "duration": 16,
    "start_time": "2022-02-02T16:14:54.748Z"
   },
   {
    "duration": 13,
    "start_time": "2022-02-02T16:14:54.766Z"
   },
   {
    "duration": 13,
    "start_time": "2022-02-02T16:14:54.781Z"
   },
   {
    "duration": 22,
    "start_time": "2022-02-02T16:14:54.796Z"
   },
   {
    "duration": 16,
    "start_time": "2022-02-02T16:14:54.820Z"
   },
   {
    "duration": 8,
    "start_time": "2022-02-02T16:14:54.838Z"
   },
   {
    "duration": 27,
    "start_time": "2022-02-02T16:14:54.848Z"
   },
   {
    "duration": 31,
    "start_time": "2022-02-02T16:14:54.878Z"
   },
   {
    "duration": 19,
    "start_time": "2022-02-02T16:14:54.911Z"
   },
   {
    "duration": 19,
    "start_time": "2022-02-02T16:14:54.932Z"
   },
   {
    "duration": 10,
    "start_time": "2022-02-02T16:14:54.953Z"
   },
   {
    "duration": 6,
    "start_time": "2022-02-02T16:14:54.965Z"
   },
   {
    "duration": 51,
    "start_time": "2022-02-02T16:14:54.973Z"
   },
   {
    "duration": 12,
    "start_time": "2022-02-02T16:14:55.026Z"
   },
   {
    "duration": 705,
    "start_time": "2022-02-02T16:20:35.832Z"
   },
   {
    "duration": 151,
    "start_time": "2022-02-02T16:20:36.539Z"
   },
   {
    "duration": 21,
    "start_time": "2022-02-02T16:20:36.693Z"
   },
   {
    "duration": 28,
    "start_time": "2022-02-02T16:20:36.716Z"
   },
   {
    "duration": 6,
    "start_time": "2022-02-02T16:20:36.747Z"
   },
   {
    "duration": 52,
    "start_time": "2022-02-02T16:20:36.755Z"
   },
   {
    "duration": 3,
    "start_time": "2022-02-02T16:20:36.810Z"
   },
   {
    "duration": 29,
    "start_time": "2022-02-02T16:20:36.816Z"
   },
   {
    "duration": 18,
    "start_time": "2022-02-02T16:20:36.848Z"
   },
   {
    "duration": 43,
    "start_time": "2022-02-02T16:20:36.868Z"
   },
   {
    "duration": 68,
    "start_time": "2022-02-02T16:20:36.912Z"
   },
   {
    "duration": 107,
    "start_time": "2022-02-02T16:20:36.982Z"
   },
   {
    "duration": 70,
    "start_time": "2022-02-02T16:20:37.092Z"
   },
   {
    "duration": 51,
    "start_time": "2022-02-02T16:20:37.164Z"
   },
   {
    "duration": 11,
    "start_time": "2022-02-02T16:20:37.218Z"
   },
   {
    "duration": 3,
    "start_time": "2022-02-02T16:20:37.231Z"
   },
   {
    "duration": 133,
    "start_time": "2022-02-02T16:20:37.236Z"
   },
   {
    "duration": 47,
    "start_time": "2022-02-02T16:20:37.371Z"
   },
   {
    "duration": 13,
    "start_time": "2022-02-02T16:20:37.420Z"
   },
   {
    "duration": 13,
    "start_time": "2022-02-02T16:20:37.435Z"
   },
   {
    "duration": 3,
    "start_time": "2022-02-02T16:20:37.450Z"
   },
   {
    "duration": 8,
    "start_time": "2022-02-02T16:20:37.455Z"
   },
   {
    "duration": 46,
    "start_time": "2022-02-02T16:20:37.467Z"
   },
   {
    "duration": 31,
    "start_time": "2022-02-02T16:20:37.516Z"
   },
   {
    "duration": 15,
    "start_time": "2022-02-02T16:20:37.550Z"
   },
   {
    "duration": 16,
    "start_time": "2022-02-02T16:20:37.567Z"
   },
   {
    "duration": 26,
    "start_time": "2022-02-02T16:20:37.585Z"
   },
   {
    "duration": 15,
    "start_time": "2022-02-02T16:20:37.614Z"
   },
   {
    "duration": 9,
    "start_time": "2022-02-02T16:20:37.631Z"
   },
   {
    "duration": 17,
    "start_time": "2022-02-02T16:20:37.642Z"
   },
   {
    "duration": 12,
    "start_time": "2022-02-02T16:20:37.661Z"
   },
   {
    "duration": 34,
    "start_time": "2022-02-02T16:20:37.675Z"
   },
   {
    "duration": 23,
    "start_time": "2022-02-02T16:20:37.710Z"
   },
   {
    "duration": 15,
    "start_time": "2022-02-02T16:20:37.735Z"
   },
   {
    "duration": 22,
    "start_time": "2022-02-02T16:20:37.752Z"
   },
   {
    "duration": 45,
    "start_time": "2022-02-02T16:20:37.776Z"
   },
   {
    "duration": 11,
    "start_time": "2022-02-02T16:20:37.823Z"
   },
   {
    "duration": 6,
    "start_time": "2022-02-02T16:20:37.837Z"
   },
   {
    "duration": 17,
    "start_time": "2022-02-02T16:20:37.845Z"
   },
   {
    "duration": 13,
    "start_time": "2022-02-02T16:20:37.864Z"
   },
   {
    "duration": 584,
    "start_time": "2022-02-02T16:22:06.034Z"
   },
   {
    "duration": 154,
    "start_time": "2022-02-02T16:22:06.620Z"
   },
   {
    "duration": 18,
    "start_time": "2022-02-02T16:22:06.777Z"
   },
   {
    "duration": 36,
    "start_time": "2022-02-02T16:22:06.797Z"
   },
   {
    "duration": 9,
    "start_time": "2022-02-02T16:22:06.835Z"
   },
   {
    "duration": 27,
    "start_time": "2022-02-02T16:22:06.846Z"
   },
   {
    "duration": 9,
    "start_time": "2022-02-02T16:22:06.875Z"
   },
   {
    "duration": 42,
    "start_time": "2022-02-02T16:22:06.886Z"
   },
   {
    "duration": 24,
    "start_time": "2022-02-02T16:22:06.931Z"
   },
   {
    "duration": 27,
    "start_time": "2022-02-02T16:22:06.957Z"
   },
   {
    "duration": 78,
    "start_time": "2022-02-02T16:22:06.987Z"
   },
   {
    "duration": 95,
    "start_time": "2022-02-02T16:22:07.067Z"
   },
   {
    "duration": 72,
    "start_time": "2022-02-02T16:22:07.164Z"
   },
   {
    "duration": 45,
    "start_time": "2022-02-02T16:22:07.238Z"
   },
   {
    "duration": 30,
    "start_time": "2022-02-02T16:22:07.286Z"
   },
   {
    "duration": 4,
    "start_time": "2022-02-02T16:22:07.318Z"
   },
   {
    "duration": 102,
    "start_time": "2022-02-02T16:22:07.324Z"
   },
   {
    "duration": 45,
    "start_time": "2022-02-02T16:22:07.428Z"
   },
   {
    "duration": 13,
    "start_time": "2022-02-02T16:22:07.475Z"
   },
   {
    "duration": 13,
    "start_time": "2022-02-02T16:22:07.507Z"
   },
   {
    "duration": 4,
    "start_time": "2022-02-02T16:22:07.522Z"
   },
   {
    "duration": 11,
    "start_time": "2022-02-02T16:22:07.527Z"
   },
   {
    "duration": 18,
    "start_time": "2022-02-02T16:22:07.542Z"
   },
   {
    "duration": 15,
    "start_time": "2022-02-02T16:22:07.562Z"
   },
   {
    "duration": 41,
    "start_time": "2022-02-02T16:22:07.579Z"
   },
   {
    "duration": 18,
    "start_time": "2022-02-02T16:22:07.623Z"
   },
   {
    "duration": 27,
    "start_time": "2022-02-02T16:22:07.643Z"
   },
   {
    "duration": 16,
    "start_time": "2022-02-02T16:22:07.673Z"
   },
   {
    "duration": 23,
    "start_time": "2022-02-02T16:22:07.691Z"
   },
   {
    "duration": 16,
    "start_time": "2022-02-02T16:22:07.715Z"
   },
   {
    "duration": 9,
    "start_time": "2022-02-02T16:22:07.733Z"
   },
   {
    "duration": 7,
    "start_time": "2022-02-02T16:22:07.745Z"
   },
   {
    "duration": 21,
    "start_time": "2022-02-02T16:22:07.754Z"
   },
   {
    "duration": 41,
    "start_time": "2022-02-02T16:22:07.777Z"
   },
   {
    "duration": 20,
    "start_time": "2022-02-02T16:22:07.820Z"
   },
   {
    "duration": 14,
    "start_time": "2022-02-02T16:22:07.841Z"
   },
   {
    "duration": 9,
    "start_time": "2022-02-02T16:22:07.857Z"
   },
   {
    "duration": 41,
    "start_time": "2022-02-02T16:22:07.868Z"
   },
   {
    "duration": 13,
    "start_time": "2022-02-02T16:22:07.911Z"
   },
   {
    "duration": 6,
    "start_time": "2022-02-02T16:22:07.926Z"
   }
  ],
  "colab": {
   "collapsed_sections": [
    "E0vqbgi9ay0H",
    "VUC88oWjTJw2"
   ],
   "name": "yandex_music_project_2021.2.ipynb",
   "provenance": []
  },
  "kernelspec": {
   "display_name": "Python 3 (ipykernel)",
   "language": "python",
   "name": "python3"
  },
  "language_info": {
   "codemirror_mode": {
    "name": "ipython",
    "version": 3
   },
   "file_extension": ".py",
   "mimetype": "text/x-python",
   "name": "python",
   "nbconvert_exporter": "python",
   "pygments_lexer": "ipython3",
   "version": "3.9.7"
  },
  "toc": {
   "base_numbering": 1,
   "nav_menu": {},
   "number_sections": true,
   "sideBar": true,
   "skip_h1_title": true,
   "title_cell": "Table of Contents",
   "title_sidebar": "Contents",
   "toc_cell": false,
   "toc_position": {
    "height": "calc(100% - 180px)",
    "left": "10px",
    "top": "150px",
    "width": "165px"
   },
   "toc_section_display": true,
   "toc_window_display": true
  }
 },
 "nbformat": 4,
 "nbformat_minor": 4
}
