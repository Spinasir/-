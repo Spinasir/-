{
 "cells": [
  {
   "cell_type": "markdown",
   "id": "1f3dbe3a",
   "metadata": {
    "toc": true
   },
   "source": [
    "<h1>Содержание<span class=\"tocSkip\"></span></h1>\n",
    "<div class=\"toc\"><ul class=\"toc-item\"><li><span><a href=\"#Обзор-данных\" data-toc-modified-id=\"Обзор-данных-1\"><span class=\"toc-item-num\">1&nbsp;&nbsp;</span>Обзор данных</a></span><ul class=\"toc-item\"><li><span><a href=\"#Вывод\" data-toc-modified-id=\"Вывод-1.1\"><span class=\"toc-item-num\">1.1&nbsp;&nbsp;</span>Вывод</a></span></li></ul></li><li><span><a href=\"#Модель-до-шифрования\" data-toc-modified-id=\"Модель-до-шифрования-2\"><span class=\"toc-item-num\">2&nbsp;&nbsp;</span>Модель до шифрования</a></span></li><li><span><a href=\"#Шифрование\" data-toc-modified-id=\"Шифрование-3\"><span class=\"toc-item-num\">3&nbsp;&nbsp;</span>Шифрование</a></span></li><li><span><a href=\"#Модель-на-зашифрованных-данных\" data-toc-modified-id=\"Модель-на-зашифрованных-данных-4\"><span class=\"toc-item-num\">4&nbsp;&nbsp;</span>Модель на зашифрованных данных</a></span><ul class=\"toc-item\"><li><span><a href=\"#Вывод\" data-toc-modified-id=\"Вывод-4.1\"><span class=\"toc-item-num\">4.1&nbsp;&nbsp;</span>Вывод</a></span></li></ul></li><li><span><a href=\"#Алгорим-шифрования\" data-toc-modified-id=\"Алгорим-шифрования-5\"><span class=\"toc-item-num\">5&nbsp;&nbsp;</span>Алгорим шифрования</a></span><ul class=\"toc-item\"><li><span><a href=\"#Обобснование\" data-toc-modified-id=\"Обобснование-5.1\"><span class=\"toc-item-num\">5.1&nbsp;&nbsp;</span>Обобснование</a></span></li></ul></li><li><span><a href=\"#Вывод\" data-toc-modified-id=\"Вывод-6\"><span class=\"toc-item-num\">6&nbsp;&nbsp;</span>Вывод</a></span></li></ul></div>"
   ]
  },
  {
   "cell_type": "markdown",
   "id": "1ddd7b45",
   "metadata": {},
   "source": [
    "<div class=\"alert alert-info\">\n",
    "При загрузке нового файла тут всё сбилось, я вернул на места, но это не точно</div>"
   ]
  },
  {
   "cell_type": "markdown",
   "id": "16cc9bfc",
   "metadata": {},
   "source": [
    "# Описание проекта"
   ]
  },
  {
   "cell_type": "markdown",
   "id": "8bfd1730",
   "metadata": {},
   "source": [
    "Вам нужно защитить данные клиентов страховой компании «Хоть потоп». Разработайте такой метод преобразования данных, чтобы по ним было сложно восстановить персональную информацию. Обоснуйте корректность его работы.  \n",
    "Нужно защитить данные, чтобы при преобразовании качество моделей машинного обучения не ухудшилось. Подбирать наилучшую модель не требуется.  "
   ]
  },
  {
   "cell_type": "markdown",
   "id": "d3ef732d",
   "metadata": {},
   "source": [
    "# План проекта"
   ]
  },
  {
   "cell_type": "markdown",
   "id": "37688e32",
   "metadata": {},
   "source": [
    "Загрузим и изучим данные.  \n",
    "Ответим на вопрос и обоснуем решение.  \n",
    "Признаки умножают на обратимую матрицу. Изменится ли качество линейной регрессии? (Её можно обучить заново.)  \n",
    "a. Изменится. Приведем примеры матриц.  \n",
    "b. Не изменится. Укажим, как связаны параметры линейной регрессии в исходной задаче и в преобразованной.  \n",
    "Предложим алгоритм преобразования данных для решения задачи. Обоснуем, почему качество линейной регрессии не поменяется.  \n",
    "Запрограммируем этот алгоритм, применив матричные операции. Проверим, что качество линейной регрессии из sklearn не   отличается до и после преобразования. Применим метрику R2.  "
   ]
  },
  {
   "cell_type": "markdown",
   "id": "984d9e95",
   "metadata": {},
   "source": [
    "# Описание данных"
   ]
  },
  {
   "cell_type": "markdown",
   "id": "e3245c2e",
   "metadata": {},
   "source": [
    "**Признаки**: пол, возраст и зарплата застрахованного, количество членов его семьи.  \n",
    "**Целевой признак**: количество страховых выплат клиенту за последние 5 лет.  "
   ]
  },
  {
   "cell_type": "code",
   "execution_count": 3,
   "id": "a0020198-7bcd-43ec-b675-858f0819eed7",
   "metadata": {},
   "outputs": [],
   "source": [
    "import pandas as pd\n",
    "import numpy as np\n",
    "from numpy.linalg import inv\n",
    "from random import randint\n",
    "\n",
    "from sklearn.linear_model import LinearRegression\n",
    "from sklearn.metrics import r2_score"
   ]
  },
  {
   "cell_type": "code",
   "execution_count": 4,
   "id": "eabd4d2a",
   "metadata": {},
   "outputs": [],
   "source": [
    "try:\n",
    "    data = pd.read_csv('insurance.csv')\n",
    "except:\n",
    "    data = pd.read_csv('/datasets/insurance.csv')"
   ]
  },
  {
   "cell_type": "markdown",
   "id": "55877b42",
   "metadata": {},
   "source": [
    "## Обзор данных"
   ]
  },
  {
   "cell_type": "code",
   "execution_count": 5,
   "id": "1218b06a",
   "metadata": {},
   "outputs": [
    {
     "data": {
      "text/html": [
       "<div>\n",
       "<style scoped>\n",
       "    .dataframe tbody tr th:only-of-type {\n",
       "        vertical-align: middle;\n",
       "    }\n",
       "\n",
       "    .dataframe tbody tr th {\n",
       "        vertical-align: top;\n",
       "    }\n",
       "\n",
       "    .dataframe thead th {\n",
       "        text-align: right;\n",
       "    }\n",
       "</style>\n",
       "<table border=\"1\" class=\"dataframe\">\n",
       "  <thead>\n",
       "    <tr style=\"text-align: right;\">\n",
       "      <th></th>\n",
       "      <th>Пол</th>\n",
       "      <th>Возраст</th>\n",
       "      <th>Зарплата</th>\n",
       "      <th>Члены семьи</th>\n",
       "      <th>Страховые выплаты</th>\n",
       "    </tr>\n",
       "  </thead>\n",
       "  <tbody>\n",
       "    <tr>\n",
       "      <th>0</th>\n",
       "      <td>1</td>\n",
       "      <td>41.0</td>\n",
       "      <td>49600.0</td>\n",
       "      <td>1</td>\n",
       "      <td>0</td>\n",
       "    </tr>\n",
       "    <tr>\n",
       "      <th>1</th>\n",
       "      <td>0</td>\n",
       "      <td>46.0</td>\n",
       "      <td>38000.0</td>\n",
       "      <td>1</td>\n",
       "      <td>1</td>\n",
       "    </tr>\n",
       "    <tr>\n",
       "      <th>2</th>\n",
       "      <td>0</td>\n",
       "      <td>29.0</td>\n",
       "      <td>21000.0</td>\n",
       "      <td>0</td>\n",
       "      <td>0</td>\n",
       "    </tr>\n",
       "    <tr>\n",
       "      <th>3</th>\n",
       "      <td>0</td>\n",
       "      <td>21.0</td>\n",
       "      <td>41700.0</td>\n",
       "      <td>2</td>\n",
       "      <td>0</td>\n",
       "    </tr>\n",
       "    <tr>\n",
       "      <th>4</th>\n",
       "      <td>1</td>\n",
       "      <td>28.0</td>\n",
       "      <td>26100.0</td>\n",
       "      <td>0</td>\n",
       "      <td>0</td>\n",
       "    </tr>\n",
       "    <tr>\n",
       "      <th>...</th>\n",
       "      <td>...</td>\n",
       "      <td>...</td>\n",
       "      <td>...</td>\n",
       "      <td>...</td>\n",
       "      <td>...</td>\n",
       "    </tr>\n",
       "    <tr>\n",
       "      <th>4995</th>\n",
       "      <td>0</td>\n",
       "      <td>28.0</td>\n",
       "      <td>35700.0</td>\n",
       "      <td>2</td>\n",
       "      <td>0</td>\n",
       "    </tr>\n",
       "    <tr>\n",
       "      <th>4996</th>\n",
       "      <td>0</td>\n",
       "      <td>34.0</td>\n",
       "      <td>52400.0</td>\n",
       "      <td>1</td>\n",
       "      <td>0</td>\n",
       "    </tr>\n",
       "    <tr>\n",
       "      <th>4997</th>\n",
       "      <td>0</td>\n",
       "      <td>20.0</td>\n",
       "      <td>33900.0</td>\n",
       "      <td>2</td>\n",
       "      <td>0</td>\n",
       "    </tr>\n",
       "    <tr>\n",
       "      <th>4998</th>\n",
       "      <td>1</td>\n",
       "      <td>22.0</td>\n",
       "      <td>32700.0</td>\n",
       "      <td>3</td>\n",
       "      <td>0</td>\n",
       "    </tr>\n",
       "    <tr>\n",
       "      <th>4999</th>\n",
       "      <td>1</td>\n",
       "      <td>28.0</td>\n",
       "      <td>40600.0</td>\n",
       "      <td>1</td>\n",
       "      <td>0</td>\n",
       "    </tr>\n",
       "  </tbody>\n",
       "</table>\n",
       "<p>5000 rows × 5 columns</p>\n",
       "</div>"
      ],
      "text/plain": [
       "      Пол  Возраст  Зарплата  Члены семьи  Страховые выплаты\n",
       "0       1     41.0   49600.0            1                  0\n",
       "1       0     46.0   38000.0            1                  1\n",
       "2       0     29.0   21000.0            0                  0\n",
       "3       0     21.0   41700.0            2                  0\n",
       "4       1     28.0   26100.0            0                  0\n",
       "...   ...      ...       ...          ...                ...\n",
       "4995    0     28.0   35700.0            2                  0\n",
       "4996    0     34.0   52400.0            1                  0\n",
       "4997    0     20.0   33900.0            2                  0\n",
       "4998    1     22.0   32700.0            3                  0\n",
       "4999    1     28.0   40600.0            1                  0\n",
       "\n",
       "[5000 rows x 5 columns]"
      ]
     },
     "execution_count": 5,
     "metadata": {},
     "output_type": "execute_result"
    }
   ],
   "source": [
    "data"
   ]
  },
  {
   "cell_type": "code",
   "execution_count": 6,
   "id": "193f7a81",
   "metadata": {},
   "outputs": [
    {
     "name": "stdout",
     "output_type": "stream",
     "text": [
      "<class 'pandas.core.frame.DataFrame'>\n",
      "RangeIndex: 5000 entries, 0 to 4999\n",
      "Data columns (total 5 columns):\n",
      " #   Column             Non-Null Count  Dtype  \n",
      "---  ------             --------------  -----  \n",
      " 0   Пол                5000 non-null   int64  \n",
      " 1   Возраст            5000 non-null   float64\n",
      " 2   Зарплата           5000 non-null   float64\n",
      " 3   Члены семьи        5000 non-null   int64  \n",
      " 4   Страховые выплаты  5000 non-null   int64  \n",
      "dtypes: float64(2), int64(3)\n",
      "memory usage: 195.4 KB\n"
     ]
    }
   ],
   "source": [
    "data.info()"
   ]
  },
  {
   "cell_type": "code",
   "execution_count": 7,
   "id": "98d81801",
   "metadata": {},
   "outputs": [
    {
     "data": {
      "text/plain": [
       "Пол                  0\n",
       "Возраст              0\n",
       "Зарплата             0\n",
       "Члены семьи          0\n",
       "Страховые выплаты    0\n",
       "dtype: int64"
      ]
     },
     "execution_count": 7,
     "metadata": {},
     "output_type": "execute_result"
    }
   ],
   "source": [
    "data.isna().sum()"
   ]
  },
  {
   "cell_type": "markdown",
   "id": "90f25787",
   "metadata": {},
   "source": [
    "Пропусков нет"
   ]
  },
  {
   "cell_type": "code",
   "execution_count": 8,
   "id": "ea2b8969",
   "metadata": {},
   "outputs": [
    {
     "data": {
      "text/plain": [
       "153"
      ]
     },
     "execution_count": 8,
     "metadata": {},
     "output_type": "execute_result"
    }
   ],
   "source": [
    "data.duplicated().sum()"
   ]
  },
  {
   "cell_type": "markdown",
   "id": "b4d8ee3e",
   "metadata": {},
   "source": [
    "Думаю, учитывая наши данные, такое кол-во одинаковых значений имеет место быть"
   ]
  },
  {
   "cell_type": "markdown",
   "id": "2d8c5529",
   "metadata": {},
   "source": [
    "### Вывод"
   ]
  },
  {
   "cell_type": "markdown",
   "id": "00b88d4b",
   "metadata": {},
   "source": [
    "Данные впорядке, проводим эксперименты дальше"
   ]
  },
  {
   "cell_type": "markdown",
   "id": "8b06ccb9",
   "metadata": {},
   "source": [
    "## Модель до шифрования"
   ]
  },
  {
   "cell_type": "code",
   "execution_count": 9,
   "id": "ae7fb92a",
   "metadata": {},
   "outputs": [],
   "source": [
    "X = data.drop(['Страховые выплаты'], axis=1)\n",
    "y = data['Страховые выплаты']"
   ]
  },
  {
   "cell_type": "code",
   "execution_count": 10,
   "id": "9b0f0745",
   "metadata": {},
   "outputs": [
    {
     "data": {
      "text/plain": [
       "0.4249"
      ]
     },
     "execution_count": 10,
     "metadata": {},
     "output_type": "execute_result"
    }
   ],
   "source": [
    "lr = LinearRegression()\n",
    "lr.fit(X,y)\n",
    "lr_pred = lr.predict(X)\n",
    "score_above = round(r2_score(y, lr_pred), 4)\n",
    "score_above"
   ]
  },
  {
   "cell_type": "markdown",
   "id": "807c987a",
   "metadata": {},
   "source": [
    "## Шифрование"
   ]
  },
  {
   "cell_type": "markdown",
   "id": "b8ac062d",
   "metadata": {},
   "source": [
    "Создадим рандомную квадратную, обратимую матрицу для шифрования наших данных с кол-вом строк равным кол-ву целевых признаков"
   ]
  },
  {
   "cell_type": "code",
   "execution_count": 11,
   "id": "cd211955",
   "metadata": {},
   "outputs": [
    {
     "data": {
      "text/plain": [
       "array([[6, 3, 7, 4],\n",
       "       [6, 9, 2, 6],\n",
       "       [7, 4, 3, 7],\n",
       "       [7, 2, 5, 4]])"
      ]
     },
     "execution_count": 11,
     "metadata": {},
     "output_type": "execute_result"
    }
   ],
   "source": [
    "rand = np.random.RandomState(42)\n",
    "matrix = rand.randint(10, size=(X.shape[1], X.shape[1]))  \n",
    "matrix"
   ]
  },
  {
   "cell_type": "code",
   "execution_count": 12,
   "id": "00ce8b25",
   "metadata": {},
   "outputs": [],
   "source": [
    "# Проверим матрицу на обратимость\n",
    "inv = inv(matrix)"
   ]
  },
  {
   "cell_type": "markdown",
   "id": "04a47471",
   "metadata": {},
   "source": [
    "Матрица обратима, продолжаем."
   ]
  },
  {
   "cell_type": "markdown",
   "id": "5e0581bf",
   "metadata": {},
   "source": [
    "Проведем скалярное произведение данных клиентов и нашего ключа"
   ]
  },
  {
   "cell_type": "code",
   "execution_count": 13,
   "id": "fb8fa643",
   "metadata": {},
   "outputs": [],
   "source": [
    "X_key = X @ matrix\n",
    "X_key.columns = X.columns"
   ]
  },
  {
   "cell_type": "code",
   "execution_count": 14,
   "id": "bef23c91",
   "metadata": {},
   "outputs": [
    {
     "data": {
      "text/html": [
       "<div>\n",
       "<style scoped>\n",
       "    .dataframe tbody tr th:only-of-type {\n",
       "        vertical-align: middle;\n",
       "    }\n",
       "\n",
       "    .dataframe tbody tr th {\n",
       "        vertical-align: top;\n",
       "    }\n",
       "\n",
       "    .dataframe thead th {\n",
       "        text-align: right;\n",
       "    }\n",
       "</style>\n",
       "<table border=\"1\" class=\"dataframe\">\n",
       "  <thead>\n",
       "    <tr style=\"text-align: right;\">\n",
       "      <th></th>\n",
       "      <th>Пол</th>\n",
       "      <th>Возраст</th>\n",
       "      <th>Зарплата</th>\n",
       "      <th>Члены семьи</th>\n",
       "    </tr>\n",
       "  </thead>\n",
       "  <tbody>\n",
       "    <tr>\n",
       "      <th>0</th>\n",
       "      <td>347459.0</td>\n",
       "      <td>198774.0</td>\n",
       "      <td>148894.0</td>\n",
       "      <td>347454.0</td>\n",
       "    </tr>\n",
       "    <tr>\n",
       "      <th>1</th>\n",
       "      <td>266283.0</td>\n",
       "      <td>152416.0</td>\n",
       "      <td>114097.0</td>\n",
       "      <td>266280.0</td>\n",
       "    </tr>\n",
       "    <tr>\n",
       "      <th>2</th>\n",
       "      <td>147174.0</td>\n",
       "      <td>84261.0</td>\n",
       "      <td>63058.0</td>\n",
       "      <td>147174.0</td>\n",
       "    </tr>\n",
       "    <tr>\n",
       "      <th>3</th>\n",
       "      <td>292040.0</td>\n",
       "      <td>166993.0</td>\n",
       "      <td>125152.0</td>\n",
       "      <td>292034.0</td>\n",
       "    </tr>\n",
       "    <tr>\n",
       "      <th>4</th>\n",
       "      <td>182874.0</td>\n",
       "      <td>104655.0</td>\n",
       "      <td>78363.0</td>\n",
       "      <td>182872.0</td>\n",
       "    </tr>\n",
       "    <tr>\n",
       "      <th>...</th>\n",
       "      <td>...</td>\n",
       "      <td>...</td>\n",
       "      <td>...</td>\n",
       "      <td>...</td>\n",
       "    </tr>\n",
       "    <tr>\n",
       "      <th>4995</th>\n",
       "      <td>250082.0</td>\n",
       "      <td>143056.0</td>\n",
       "      <td>107166.0</td>\n",
       "      <td>250076.0</td>\n",
       "    </tr>\n",
       "    <tr>\n",
       "      <th>4996</th>\n",
       "      <td>367011.0</td>\n",
       "      <td>209908.0</td>\n",
       "      <td>157273.0</td>\n",
       "      <td>367008.0</td>\n",
       "    </tr>\n",
       "    <tr>\n",
       "      <th>4997</th>\n",
       "      <td>237434.0</td>\n",
       "      <td>135784.0</td>\n",
       "      <td>101750.0</td>\n",
       "      <td>237428.0</td>\n",
       "    </tr>\n",
       "    <tr>\n",
       "      <th>4998</th>\n",
       "      <td>229059.0</td>\n",
       "      <td>131007.0</td>\n",
       "      <td>98166.0</td>\n",
       "      <td>229048.0</td>\n",
       "    </tr>\n",
       "    <tr>\n",
       "      <th>4999</th>\n",
       "      <td>284381.0</td>\n",
       "      <td>162657.0</td>\n",
       "      <td>121868.0</td>\n",
       "      <td>284376.0</td>\n",
       "    </tr>\n",
       "  </tbody>\n",
       "</table>\n",
       "<p>5000 rows × 4 columns</p>\n",
       "</div>"
      ],
      "text/plain": [
       "           Пол   Возраст  Зарплата  Члены семьи\n",
       "0     347459.0  198774.0  148894.0     347454.0\n",
       "1     266283.0  152416.0  114097.0     266280.0\n",
       "2     147174.0   84261.0   63058.0     147174.0\n",
       "3     292040.0  166993.0  125152.0     292034.0\n",
       "4     182874.0  104655.0   78363.0     182872.0\n",
       "...        ...       ...       ...          ...\n",
       "4995  250082.0  143056.0  107166.0     250076.0\n",
       "4996  367011.0  209908.0  157273.0     367008.0\n",
       "4997  237434.0  135784.0  101750.0     237428.0\n",
       "4998  229059.0  131007.0   98166.0     229048.0\n",
       "4999  284381.0  162657.0  121868.0     284376.0\n",
       "\n",
       "[5000 rows x 4 columns]"
      ]
     },
     "execution_count": 14,
     "metadata": {},
     "output_type": "execute_result"
    }
   ],
   "source": [
    "X_key"
   ]
  },
  {
   "cell_type": "markdown",
   "id": "a745c1ae",
   "metadata": {},
   "source": [
    "## Модель на зашифрованных данных"
   ]
  },
  {
   "cell_type": "code",
   "execution_count": 15,
   "id": "eafab028",
   "metadata": {},
   "outputs": [],
   "source": [
    "lr = LinearRegression()\n",
    "lr.fit(X_key,y)\n",
    "lr_pred = lr.predict(X_key)\n",
    "score_below = round(r2_score(y, lr_pred), 4)"
   ]
  },
  {
   "cell_type": "code",
   "execution_count": 16,
   "id": "408eb9d9",
   "metadata": {},
   "outputs": [
    {
     "data": {
      "text/plain": [
       "True"
      ]
     },
     "execution_count": 16,
     "metadata": {},
     "output_type": "execute_result"
    }
   ],
   "source": [
    "score_below == score_above"
   ]
  },
  {
   "cell_type": "markdown",
   "id": "1eea3db4",
   "metadata": {},
   "source": [
    "### Вывод"
   ]
  },
  {
   "cell_type": "markdown",
   "id": "c03a4591",
   "metadata": {},
   "source": [
    "Качество модели не изменилось после шифрования"
   ]
  },
  {
   "cell_type": "markdown",
   "id": "bc79a282",
   "metadata": {},
   "source": [
    "## Алгорим шифрования"
   ]
  },
  {
   "cell_type": "markdown",
   "id": "dd6c6402",
   "metadata": {},
   "source": [
    "Составление рандомной матрицы - ключа.  \n",
    "Проверка матрицы на обратимость.  \n",
    "Получение матрицы преобразованных признаков путем умножения признаков на ключ.  \n",
    "Применение алгоритма на преобразованных признаках .  "
   ]
  },
  {
   "cell_type": "markdown",
   "id": "34d87f4e",
   "metadata": {},
   "source": [
    "### Обобснование"
   ]
  },
  {
   "cell_type": "markdown",
   "id": "db2ed9c7",
   "metadata": {},
   "source": [
    "Обозначения:\n",
    "\n",
    "- $X$ — матрица признаков (нулевой столбец состоит из единиц)\n",
    "\n",
    "- $y$ — вектор целевого признака\n",
    "\n",
    "- $P$ — матрица, на которую умножаются признаки\n",
    "\n",
    "- $w$ — вектор весов линейной регрессии (нулевой элемент равен сдвигу)\n",
    "\n",
    "Предсказания:\n",
    "\n",
    "$$\n",
    "a = Xw\n",
    "$$\n",
    "\n",
    "Задача обучения:\n",
    "\n",
    "$$\n",
    "w = \\arg\\min_w MSE(Xw, y)\n",
    "$$\n",
    "\n",
    "Формула обучения:\n",
    "\n",
    "$$\n",
    "w = (X^T X)^{-1} X^T y\n",
    "$$"
   ]
  },
  {
   "cell_type": "markdown",
   "id": "2ee7e505",
   "metadata": {},
   "source": [
    "Используемые свойства:\n",
    "$$\n",
    "(AB)^T=B^T A^T\n",
    "$$\n",
    "$$\n",
    "(AB)^{-1} = B^{-1} A^{-1}\n",
    "$$\n",
    "$$\n",
    "A A^{-1} = A^{-1} A = E\n",
    "$$\n",
    "$$\n",
    "AE = EA = A\n",
    "$$"
   ]
  },
  {
   "cell_type": "markdown",
   "id": "1b7e103b",
   "metadata": {},
   "source": [
    "**Доказательство:**\n"
   ]
  },
  {
   "cell_type": "markdown",
   "id": "5142ba78",
   "metadata": {},
   "source": [
    "$\n",
    "a =  X((X^T X)^{-1} X^T y) \n",
    "$"
   ]
  },
  {
   "cell_type": "markdown",
   "id": "a231d8a5",
   "metadata": {},
   "source": [
    "Домножим Х на матрицу P"
   ]
  },
  {
   "cell_type": "markdown",
   "id": "a6a9b448",
   "metadata": {},
   "source": [
    "$a_1 = XP((XP)^T(XP))^{-1}(XP)^Ty = XP(P^T (X^T X) P)^{-1}(XP)^Ty = XPP^{-1}(X^TX)^{-1}(P^T)^{-1}(XP)^Ty = $"
   ]
  },
  {
   "cell_type": "markdown",
   "id": "b4f1c7db",
   "metadata": {},
   "source": [
    "$ = XE(X^TX)^{-1}EX^Ty = X(X^TX)^{-1}X^Ty = a$"
   ]
  },
  {
   "cell_type": "markdown",
   "id": "1185dda5",
   "metadata": {},
   "source": [
    "Как мы видим, итоговый расчет предсказаний не изменился при шифрованиее"
   ]
  },
  {
   "cell_type": "markdown",
   "id": "12f0c711",
   "metadata": {},
   "source": [
    "## Вывод"
   ]
  },
  {
   "cell_type": "markdown",
   "id": "e35f8879",
   "metadata": {},
   "source": [
    "Мы изучили данные клиентов, провели предобработку, и обучили модель линейной регрессии на исходных данных, получив в результате r2 = 0.4249.  \n",
    "После чего разработали алгоритм шифрования, применили его и проверили модель на новых данных.  \n",
    "В итоге качество модели не изменилось."
   ]
  }
 ],
 "metadata": {
  "ExecuteTimeLog": [
   {
    "duration": 32,
    "start_time": "2022-05-29T09:23:28.432Z"
   },
   {
    "duration": 27,
    "start_time": "2022-05-29T09:25:36.391Z"
   },
   {
    "duration": 54,
    "start_time": "2022-05-30T11:13:13.031Z"
   }
  ],
  "kernelspec": {
   "display_name": "Python 3 (ipykernel)",
   "language": "python",
   "name": "python3"
  },
  "language_info": {
   "codemirror_mode": {
    "name": "ipython",
    "version": 3
   },
   "file_extension": ".py",
   "mimetype": "text/x-python",
   "name": "python",
   "nbconvert_exporter": "python",
   "pygments_lexer": "ipython3",
   "version": "3.9.7"
  },
  "toc": {
   "base_numbering": 1,
   "nav_menu": {},
   "number_sections": true,
   "sideBar": true,
   "skip_h1_title": true,
   "title_cell": "Содержание",
   "title_sidebar": "Contents",
   "toc_cell": true,
   "toc_position": {},
   "toc_section_display": true,
   "toc_window_display": true
  }
 },
 "nbformat": 4,
 "nbformat_minor": 5
}
