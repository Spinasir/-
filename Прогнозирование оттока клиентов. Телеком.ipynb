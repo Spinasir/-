{
 "cells": [
  {
   "cell_type": "code",
   "execution_count": 1,
   "id": "b245956e",
   "metadata": {},
   "outputs": [],
   "source": [
    "#! pip install catboost -U\n",
    "#! pip install lightgbm -U\n",
    "#! pip install scikit-optimize -U\n",
    "#!pip install  imbalanced-learn -U\n",
    "#! pip install phik -U"
   ]
  },
  {
   "cell_type": "markdown",
   "id": "215dd5be",
   "metadata": {},
   "source": [
    "# Ниединогоразрыва.ком"
   ]
  },
  {
   "cell_type": "markdown",
   "id": "296413e8",
   "metadata": {
    "toc": true
   },
   "source": [
    "<h1>Содержание<span class=\"tocSkip\"></span></h1>\n",
    "<div class=\"toc\"><ul class=\"toc-item\"><li><span><a href=\"#Загрузка-данных\" data-toc-modified-id=\"Загрузка-данных-1\"><span class=\"toc-item-num\">1&nbsp;&nbsp;</span>Загрузка данных</a></span></li><li><span><a href=\"#Обзор-данных\" data-toc-modified-id=\"Обзор-данных-2\"><span class=\"toc-item-num\">2&nbsp;&nbsp;</span>Обзор данных</a></span><ul class=\"toc-item\"><li><span><a href=\"#План-работы\" data-toc-modified-id=\"План-работы-2.1\"><span class=\"toc-item-num\">2.1&nbsp;&nbsp;</span>План работы</a></span></li></ul></li><li><span><a href=\"#Предобработка-данных\" data-toc-modified-id=\"Предобработка-данных-3\"><span class=\"toc-item-num\">3&nbsp;&nbsp;</span>Предобработка данных</a></span></li><li><span><a href=\"#Исследование\" data-toc-modified-id=\"Исследование-4\"><span class=\"toc-item-num\">4&nbsp;&nbsp;</span>Исследование</a></span></li><li><span><a href=\"#Обучение-модели\" data-toc-modified-id=\"Обучение-модели-5\"><span class=\"toc-item-num\">5&nbsp;&nbsp;</span>Обучение модели</a></span><ul class=\"toc-item\"><li><span><a href=\"#Функции-для-метрик\" data-toc-modified-id=\"Функции-для-метрик-5.1\"><span class=\"toc-item-num\">5.1&nbsp;&nbsp;</span>Функции для метрик</a></span></li><li><span><a href=\"#Подготовка-данных\" data-toc-modified-id=\"Подготовка-данных-5.2\"><span class=\"toc-item-num\">5.2&nbsp;&nbsp;</span>Подготовка данных</a></span></li><li><span><a href=\"#Dummy\" data-toc-modified-id=\"Dummy-5.3\"><span class=\"toc-item-num\">5.3&nbsp;&nbsp;</span>Dummy</a></span></li><li><span><a href=\"#LogisticRegression\" data-toc-modified-id=\"LogisticRegression-5.4\"><span class=\"toc-item-num\">5.4&nbsp;&nbsp;</span>LogisticRegression</a></span></li><li><span><a href=\"#CatBoost\" data-toc-modified-id=\"CatBoost-5.5\"><span class=\"toc-item-num\">5.5&nbsp;&nbsp;</span>CatBoost</a></span></li><li><span><a href=\"#LGBM\" data-toc-modified-id=\"LGBM-5.6\"><span class=\"toc-item-num\">5.6&nbsp;&nbsp;</span>LGBM</a></span></li><li><span><a href=\"#Выводы\" data-toc-modified-id=\"Выводы-5.7\"><span class=\"toc-item-num\">5.7&nbsp;&nbsp;</span>Выводы</a></span></li></ul></li><li><span><a href=\"#Итоговый-тест\" data-toc-modified-id=\"Итоговый-тест-6\"><span class=\"toc-item-num\">6&nbsp;&nbsp;</span>Итоговый тест</a></span></li><li><span><a href=\"#Отчет\" data-toc-modified-id=\"Отчет-7\"><span class=\"toc-item-num\">7&nbsp;&nbsp;</span>Отчет</a></span></li></ul></div>"
   ]
  },
  {
   "cell_type": "markdown",
   "id": "0f2b2a02",
   "metadata": {},
   "source": [
    "Оператор связи «Ниединогоразрыва.ком» хочет научиться прогнозировать отток клиентов. Если выяснится, что пользователь планирует уйти, ему будут предложены промокоды и специальные условия. Команда оператора собрала персональные данные о некоторых клиентах, информацию об их тарифах и договорах.  \n",
    "\n",
    "# Описание услуг  \n",
    "\n",
    "Оператор предоставляет два основных типа услуг:   \n",
    "\n",
    "1. Стационарную телефонную связь. Возможно подключение телефонного аппарата к нескольким линиям одновременно.  \n",
    "2. Интернет. Подключение может быть двух типов: через телефонную линию (DSL*,* от англ. *digital subscriber line*, «цифровая абонентская линия») или оптоволоконный кабель (*Fiber optic*).    \n",
    "\n",
    "Также доступны такие услуги:  \n",
    "\n",
    "- Интернет-безопасность: антивирус (*DeviceProtection*) и блокировка небезопасных сайтов (*OnlineSecurity*);  \n",
    "- Выделенная линия технической поддержки (*TechSupport*);  \n",
    "- Облачное хранилище файлов для резервного копирования данных (*OnlineBackup*);  \n",
    "- Стриминговое телевидение (*StreamingTV*) и каталог фильмов (*StreamingMovies*).  \n",
    "\n",
    "За услуги клиенты могут платить каждый месяц или заключить договор на 1–2 года. Доступны различные способы расчёта и возможность получения электронного чека.  \n",
    "\n",
    "# Описание данных  \n",
    "\n",
    "Данные состоят из файлов, полученных из разных источников:  \n",
    "    \n",
    "- `contract.csv` — информация о договоре;  \n",
    "- `personal.csv` — персональные данные клиента;  \n",
    "- `internet.csv` — информация об интернет-услугах;  \n",
    "- `phone.csv` — информация об услугах телефонии.  \n",
    "\n",
    "Во всех файлах столбец `customerID` содержит код клиента.  \n",
    "\n",
    "Информация о договорах актуальна на 1 февраля 2020."
   ]
  },
  {
   "cell_type": "markdown",
   "id": "95b89118",
   "metadata": {},
   "source": [
    "## Загрузка данных"
   ]
  },
  {
   "cell_type": "code",
   "execution_count": 2,
   "id": "0e350600",
   "metadata": {},
   "outputs": [],
   "source": [
    "import pandas as pd\n",
    "import numpy as np\n",
    "import re\n",
    "import datetime as dt\n",
    "import seaborn as sns\n",
    "import matplotlib.pyplot as plt\n",
    "import warnings\n",
    "\n",
    "import phik\n",
    "from phik.report import plot_correlation_matrix\n",
    "from phik import report\n",
    "\n",
    "from sklearn.impute import KNNImputer\n",
    "from sklearn.preprocessing import StandardScaler \n",
    "from sklearn.model_selection import train_test_split \n",
    "from skopt import BayesSearchCV\n",
    "from skopt.space import Real, Categorical, Integer\n",
    "from imblearn.over_sampling import SMOTE\n",
    "\n",
    "from sklearn.dummy import DummyClassifier\n",
    "from catboost import CatBoostClassifier, Pool, cv\n",
    "from sklearn.ensemble import RandomForestClassifier\n",
    "from lightgbm import LGBMClassifier\n",
    "from sklearn.linear_model import LogisticRegression\n",
    "\n",
    "from sklearn.metrics import classification_report, roc_auc_score, roc_curve, f1_score\n",
    "\n",
    "import warnings\n",
    "warnings.filterwarnings('ignore')"
   ]
  },
  {
   "cell_type": "code",
   "execution_count": 3,
   "id": "701968c9",
   "metadata": {},
   "outputs": [],
   "source": [
    "try:\n",
    "    contract = pd.read_csv('/datasets/final_provider/contract.csv').set_index('customerID')\n",
    "    personal = pd.read_csv('/datasets/final_provider/personal.csv').set_index('customerID')\n",
    "    internet = pd.read_csv('/datasets/final_provider/internet.csv').set_index('customerID')\n",
    "    phone  = pd.read_csv('/datasets/final_provider/phone.csv').set_index('customerID')\n",
    "except:\n",
    "    contract = pd.read_csv('contract.csv').set_index('customerID')\n",
    "    personal = pd.read_csv('personal.csv').set_index('customerID')\n",
    "    internet = pd.read_csv('internet.csv').set_index('customerID')\n",
    "    phone = pd.read_csv('phone.csv').set_index('customerID')"
   ]
  },
  {
   "cell_type": "markdown",
   "id": "5a8d35ff",
   "metadata": {},
   "source": [
    "Назначу имена датасетам, для удобства"
   ]
  },
  {
   "cell_type": "code",
   "execution_count": 4,
   "id": "dd300b36",
   "metadata": {},
   "outputs": [],
   "source": [
    "contract.name = 'Contract'\n",
    "personal.name = 'Personal'\n",
    "internet.name = 'Internet'\n",
    "phone.name = 'Phone'"
   ]
  },
  {
   "cell_type": "markdown",
   "id": "030e860a",
   "metadata": {},
   "source": [
    "## Обзор данных"
   ]
  },
  {
   "cell_type": "markdown",
   "id": "a59b4fd3",
   "metadata": {},
   "source": [
    "Функция для просмотра основных данных по датасету"
   ]
  },
  {
   "cell_type": "code",
   "execution_count": 5,
   "id": "2f4ed3d8",
   "metadata": {},
   "outputs": [],
   "source": [
    "def view(df):\n",
    "    display(df.head())\n",
    "    print('')\n",
    "    print(df.info())\n",
    "    print('')\n",
    "    print(f'Размер: {df.shape}')\n",
    "    print('')\n",
    "    print(f'Дубликаты: {df.duplicated().sum()}')\n",
    "    print('')\n",
    "    print(f'Пропуски:')\n",
    "    print(df.isna().sum())\n",
    "    print('_'*100)"
   ]
  },
  {
   "cell_type": "code",
   "execution_count": 6,
   "id": "a7de60ec",
   "metadata": {},
   "outputs": [],
   "source": [
    "df = [contract, personal, internet, phone]"
   ]
  },
  {
   "cell_type": "code",
   "execution_count": 7,
   "id": "018449af",
   "metadata": {
    "scrolled": false
   },
   "outputs": [
    {
     "name": "stdout",
     "output_type": "stream",
     "text": [
      "Contract\n"
     ]
    },
    {
     "data": {
      "text/html": [
       "<div>\n",
       "<style scoped>\n",
       "    .dataframe tbody tr th:only-of-type {\n",
       "        vertical-align: middle;\n",
       "    }\n",
       "\n",
       "    .dataframe tbody tr th {\n",
       "        vertical-align: top;\n",
       "    }\n",
       "\n",
       "    .dataframe thead th {\n",
       "        text-align: right;\n",
       "    }\n",
       "</style>\n",
       "<table border=\"1\" class=\"dataframe\">\n",
       "  <thead>\n",
       "    <tr style=\"text-align: right;\">\n",
       "      <th></th>\n",
       "      <th>BeginDate</th>\n",
       "      <th>EndDate</th>\n",
       "      <th>Type</th>\n",
       "      <th>PaperlessBilling</th>\n",
       "      <th>PaymentMethod</th>\n",
       "      <th>MonthlyCharges</th>\n",
       "      <th>TotalCharges</th>\n",
       "    </tr>\n",
       "    <tr>\n",
       "      <th>customerID</th>\n",
       "      <th></th>\n",
       "      <th></th>\n",
       "      <th></th>\n",
       "      <th></th>\n",
       "      <th></th>\n",
       "      <th></th>\n",
       "      <th></th>\n",
       "    </tr>\n",
       "  </thead>\n",
       "  <tbody>\n",
       "    <tr>\n",
       "      <th>7590-VHVEG</th>\n",
       "      <td>2020-01-01</td>\n",
       "      <td>No</td>\n",
       "      <td>Month-to-month</td>\n",
       "      <td>Yes</td>\n",
       "      <td>Electronic check</td>\n",
       "      <td>29.85</td>\n",
       "      <td>29.85</td>\n",
       "    </tr>\n",
       "    <tr>\n",
       "      <th>5575-GNVDE</th>\n",
       "      <td>2017-04-01</td>\n",
       "      <td>No</td>\n",
       "      <td>One year</td>\n",
       "      <td>No</td>\n",
       "      <td>Mailed check</td>\n",
       "      <td>56.95</td>\n",
       "      <td>1889.5</td>\n",
       "    </tr>\n",
       "    <tr>\n",
       "      <th>3668-QPYBK</th>\n",
       "      <td>2019-10-01</td>\n",
       "      <td>2019-12-01 00:00:00</td>\n",
       "      <td>Month-to-month</td>\n",
       "      <td>Yes</td>\n",
       "      <td>Mailed check</td>\n",
       "      <td>53.85</td>\n",
       "      <td>108.15</td>\n",
       "    </tr>\n",
       "    <tr>\n",
       "      <th>7795-CFOCW</th>\n",
       "      <td>2016-05-01</td>\n",
       "      <td>No</td>\n",
       "      <td>One year</td>\n",
       "      <td>No</td>\n",
       "      <td>Bank transfer (automatic)</td>\n",
       "      <td>42.30</td>\n",
       "      <td>1840.75</td>\n",
       "    </tr>\n",
       "    <tr>\n",
       "      <th>9237-HQITU</th>\n",
       "      <td>2019-09-01</td>\n",
       "      <td>2019-11-01 00:00:00</td>\n",
       "      <td>Month-to-month</td>\n",
       "      <td>Yes</td>\n",
       "      <td>Electronic check</td>\n",
       "      <td>70.70</td>\n",
       "      <td>151.65</td>\n",
       "    </tr>\n",
       "  </tbody>\n",
       "</table>\n",
       "</div>"
      ],
      "text/plain": [
       "             BeginDate              EndDate            Type PaperlessBilling  \\\n",
       "customerID                                                                     \n",
       "7590-VHVEG  2020-01-01                   No  Month-to-month              Yes   \n",
       "5575-GNVDE  2017-04-01                   No        One year               No   \n",
       "3668-QPYBK  2019-10-01  2019-12-01 00:00:00  Month-to-month              Yes   \n",
       "7795-CFOCW  2016-05-01                   No        One year               No   \n",
       "9237-HQITU  2019-09-01  2019-11-01 00:00:00  Month-to-month              Yes   \n",
       "\n",
       "                        PaymentMethod  MonthlyCharges TotalCharges  \n",
       "customerID                                                          \n",
       "7590-VHVEG           Electronic check           29.85        29.85  \n",
       "5575-GNVDE               Mailed check           56.95       1889.5  \n",
       "3668-QPYBK               Mailed check           53.85       108.15  \n",
       "7795-CFOCW  Bank transfer (automatic)           42.30      1840.75  \n",
       "9237-HQITU           Electronic check           70.70       151.65  "
      ]
     },
     "metadata": {},
     "output_type": "display_data"
    },
    {
     "name": "stdout",
     "output_type": "stream",
     "text": [
      "\n",
      "<class 'pandas.core.frame.DataFrame'>\n",
      "Index: 7043 entries, 7590-VHVEG to 3186-AJIEK\n",
      "Data columns (total 7 columns):\n",
      " #   Column            Non-Null Count  Dtype  \n",
      "---  ------            --------------  -----  \n",
      " 0   BeginDate         7043 non-null   object \n",
      " 1   EndDate           7043 non-null   object \n",
      " 2   Type              7043 non-null   object \n",
      " 3   PaperlessBilling  7043 non-null   object \n",
      " 4   PaymentMethod     7043 non-null   object \n",
      " 5   MonthlyCharges    7043 non-null   float64\n",
      " 6   TotalCharges      7043 non-null   object \n",
      "dtypes: float64(1), object(6)\n",
      "memory usage: 440.2+ KB\n",
      "None\n",
      "\n",
      "Размер: (7043, 7)\n",
      "\n",
      "Дубликаты: 45\n",
      "\n",
      "Пропуски:\n",
      "BeginDate           0\n",
      "EndDate             0\n",
      "Type                0\n",
      "PaperlessBilling    0\n",
      "PaymentMethod       0\n",
      "MonthlyCharges      0\n",
      "TotalCharges        0\n",
      "dtype: int64\n",
      "____________________________________________________________________________________________________\n",
      "Personal\n"
     ]
    },
    {
     "data": {
      "text/html": [
       "<div>\n",
       "<style scoped>\n",
       "    .dataframe tbody tr th:only-of-type {\n",
       "        vertical-align: middle;\n",
       "    }\n",
       "\n",
       "    .dataframe tbody tr th {\n",
       "        vertical-align: top;\n",
       "    }\n",
       "\n",
       "    .dataframe thead th {\n",
       "        text-align: right;\n",
       "    }\n",
       "</style>\n",
       "<table border=\"1\" class=\"dataframe\">\n",
       "  <thead>\n",
       "    <tr style=\"text-align: right;\">\n",
       "      <th></th>\n",
       "      <th>gender</th>\n",
       "      <th>SeniorCitizen</th>\n",
       "      <th>Partner</th>\n",
       "      <th>Dependents</th>\n",
       "    </tr>\n",
       "    <tr>\n",
       "      <th>customerID</th>\n",
       "      <th></th>\n",
       "      <th></th>\n",
       "      <th></th>\n",
       "      <th></th>\n",
       "    </tr>\n",
       "  </thead>\n",
       "  <tbody>\n",
       "    <tr>\n",
       "      <th>7590-VHVEG</th>\n",
       "      <td>Female</td>\n",
       "      <td>0</td>\n",
       "      <td>Yes</td>\n",
       "      <td>No</td>\n",
       "    </tr>\n",
       "    <tr>\n",
       "      <th>5575-GNVDE</th>\n",
       "      <td>Male</td>\n",
       "      <td>0</td>\n",
       "      <td>No</td>\n",
       "      <td>No</td>\n",
       "    </tr>\n",
       "    <tr>\n",
       "      <th>3668-QPYBK</th>\n",
       "      <td>Male</td>\n",
       "      <td>0</td>\n",
       "      <td>No</td>\n",
       "      <td>No</td>\n",
       "    </tr>\n",
       "    <tr>\n",
       "      <th>7795-CFOCW</th>\n",
       "      <td>Male</td>\n",
       "      <td>0</td>\n",
       "      <td>No</td>\n",
       "      <td>No</td>\n",
       "    </tr>\n",
       "    <tr>\n",
       "      <th>9237-HQITU</th>\n",
       "      <td>Female</td>\n",
       "      <td>0</td>\n",
       "      <td>No</td>\n",
       "      <td>No</td>\n",
       "    </tr>\n",
       "  </tbody>\n",
       "</table>\n",
       "</div>"
      ],
      "text/plain": [
       "            gender  SeniorCitizen Partner Dependents\n",
       "customerID                                          \n",
       "7590-VHVEG  Female              0     Yes         No\n",
       "5575-GNVDE    Male              0      No         No\n",
       "3668-QPYBK    Male              0      No         No\n",
       "7795-CFOCW    Male              0      No         No\n",
       "9237-HQITU  Female              0      No         No"
      ]
     },
     "metadata": {},
     "output_type": "display_data"
    },
    {
     "name": "stdout",
     "output_type": "stream",
     "text": [
      "\n",
      "<class 'pandas.core.frame.DataFrame'>\n",
      "Index: 7043 entries, 7590-VHVEG to 3186-AJIEK\n",
      "Data columns (total 4 columns):\n",
      " #   Column         Non-Null Count  Dtype \n",
      "---  ------         --------------  ----- \n",
      " 0   gender         7043 non-null   object\n",
      " 1   SeniorCitizen  7043 non-null   int64 \n",
      " 2   Partner        7043 non-null   object\n",
      " 3   Dependents     7043 non-null   object\n",
      "dtypes: int64(1), object(3)\n",
      "memory usage: 275.1+ KB\n",
      "None\n",
      "\n",
      "Размер: (7043, 4)\n",
      "\n",
      "Дубликаты: 7027\n",
      "\n",
      "Пропуски:\n",
      "gender           0\n",
      "SeniorCitizen    0\n",
      "Partner          0\n",
      "Dependents       0\n",
      "dtype: int64\n",
      "____________________________________________________________________________________________________\n",
      "Internet\n"
     ]
    },
    {
     "data": {
      "text/html": [
       "<div>\n",
       "<style scoped>\n",
       "    .dataframe tbody tr th:only-of-type {\n",
       "        vertical-align: middle;\n",
       "    }\n",
       "\n",
       "    .dataframe tbody tr th {\n",
       "        vertical-align: top;\n",
       "    }\n",
       "\n",
       "    .dataframe thead th {\n",
       "        text-align: right;\n",
       "    }\n",
       "</style>\n",
       "<table border=\"1\" class=\"dataframe\">\n",
       "  <thead>\n",
       "    <tr style=\"text-align: right;\">\n",
       "      <th></th>\n",
       "      <th>InternetService</th>\n",
       "      <th>OnlineSecurity</th>\n",
       "      <th>OnlineBackup</th>\n",
       "      <th>DeviceProtection</th>\n",
       "      <th>TechSupport</th>\n",
       "      <th>StreamingTV</th>\n",
       "      <th>StreamingMovies</th>\n",
       "    </tr>\n",
       "    <tr>\n",
       "      <th>customerID</th>\n",
       "      <th></th>\n",
       "      <th></th>\n",
       "      <th></th>\n",
       "      <th></th>\n",
       "      <th></th>\n",
       "      <th></th>\n",
       "      <th></th>\n",
       "    </tr>\n",
       "  </thead>\n",
       "  <tbody>\n",
       "    <tr>\n",
       "      <th>7590-VHVEG</th>\n",
       "      <td>DSL</td>\n",
       "      <td>No</td>\n",
       "      <td>Yes</td>\n",
       "      <td>No</td>\n",
       "      <td>No</td>\n",
       "      <td>No</td>\n",
       "      <td>No</td>\n",
       "    </tr>\n",
       "    <tr>\n",
       "      <th>5575-GNVDE</th>\n",
       "      <td>DSL</td>\n",
       "      <td>Yes</td>\n",
       "      <td>No</td>\n",
       "      <td>Yes</td>\n",
       "      <td>No</td>\n",
       "      <td>No</td>\n",
       "      <td>No</td>\n",
       "    </tr>\n",
       "    <tr>\n",
       "      <th>3668-QPYBK</th>\n",
       "      <td>DSL</td>\n",
       "      <td>Yes</td>\n",
       "      <td>Yes</td>\n",
       "      <td>No</td>\n",
       "      <td>No</td>\n",
       "      <td>No</td>\n",
       "      <td>No</td>\n",
       "    </tr>\n",
       "    <tr>\n",
       "      <th>7795-CFOCW</th>\n",
       "      <td>DSL</td>\n",
       "      <td>Yes</td>\n",
       "      <td>No</td>\n",
       "      <td>Yes</td>\n",
       "      <td>Yes</td>\n",
       "      <td>No</td>\n",
       "      <td>No</td>\n",
       "    </tr>\n",
       "    <tr>\n",
       "      <th>9237-HQITU</th>\n",
       "      <td>Fiber optic</td>\n",
       "      <td>No</td>\n",
       "      <td>No</td>\n",
       "      <td>No</td>\n",
       "      <td>No</td>\n",
       "      <td>No</td>\n",
       "      <td>No</td>\n",
       "    </tr>\n",
       "  </tbody>\n",
       "</table>\n",
       "</div>"
      ],
      "text/plain": [
       "           InternetService OnlineSecurity OnlineBackup DeviceProtection  \\\n",
       "customerID                                                                \n",
       "7590-VHVEG             DSL             No          Yes               No   \n",
       "5575-GNVDE             DSL            Yes           No              Yes   \n",
       "3668-QPYBK             DSL            Yes          Yes               No   \n",
       "7795-CFOCW             DSL            Yes           No              Yes   \n",
       "9237-HQITU     Fiber optic             No           No               No   \n",
       "\n",
       "           TechSupport StreamingTV StreamingMovies  \n",
       "customerID                                          \n",
       "7590-VHVEG          No          No              No  \n",
       "5575-GNVDE          No          No              No  \n",
       "3668-QPYBK          No          No              No  \n",
       "7795-CFOCW         Yes          No              No  \n",
       "9237-HQITU          No          No              No  "
      ]
     },
     "metadata": {},
     "output_type": "display_data"
    },
    {
     "name": "stdout",
     "output_type": "stream",
     "text": [
      "\n",
      "<class 'pandas.core.frame.DataFrame'>\n",
      "Index: 5517 entries, 7590-VHVEG to 3186-AJIEK\n",
      "Data columns (total 7 columns):\n",
      " #   Column            Non-Null Count  Dtype \n",
      "---  ------            --------------  ----- \n",
      " 0   InternetService   5517 non-null   object\n",
      " 1   OnlineSecurity    5517 non-null   object\n",
      " 2   OnlineBackup      5517 non-null   object\n",
      " 3   DeviceProtection  5517 non-null   object\n",
      " 4   TechSupport       5517 non-null   object\n",
      " 5   StreamingTV       5517 non-null   object\n",
      " 6   StreamingMovies   5517 non-null   object\n",
      "dtypes: object(7)\n",
      "memory usage: 344.8+ KB\n",
      "None\n",
      "\n",
      "Размер: (5517, 7)\n",
      "\n",
      "Дубликаты: 5389\n",
      "\n",
      "Пропуски:\n",
      "InternetService     0\n",
      "OnlineSecurity      0\n",
      "OnlineBackup        0\n",
      "DeviceProtection    0\n",
      "TechSupport         0\n",
      "StreamingTV         0\n",
      "StreamingMovies     0\n",
      "dtype: int64\n",
      "____________________________________________________________________________________________________\n",
      "Phone\n"
     ]
    },
    {
     "data": {
      "text/html": [
       "<div>\n",
       "<style scoped>\n",
       "    .dataframe tbody tr th:only-of-type {\n",
       "        vertical-align: middle;\n",
       "    }\n",
       "\n",
       "    .dataframe tbody tr th {\n",
       "        vertical-align: top;\n",
       "    }\n",
       "\n",
       "    .dataframe thead th {\n",
       "        text-align: right;\n",
       "    }\n",
       "</style>\n",
       "<table border=\"1\" class=\"dataframe\">\n",
       "  <thead>\n",
       "    <tr style=\"text-align: right;\">\n",
       "      <th></th>\n",
       "      <th>MultipleLines</th>\n",
       "    </tr>\n",
       "    <tr>\n",
       "      <th>customerID</th>\n",
       "      <th></th>\n",
       "    </tr>\n",
       "  </thead>\n",
       "  <tbody>\n",
       "    <tr>\n",
       "      <th>5575-GNVDE</th>\n",
       "      <td>No</td>\n",
       "    </tr>\n",
       "    <tr>\n",
       "      <th>3668-QPYBK</th>\n",
       "      <td>No</td>\n",
       "    </tr>\n",
       "    <tr>\n",
       "      <th>9237-HQITU</th>\n",
       "      <td>No</td>\n",
       "    </tr>\n",
       "    <tr>\n",
       "      <th>9305-CDSKC</th>\n",
       "      <td>Yes</td>\n",
       "    </tr>\n",
       "    <tr>\n",
       "      <th>1452-KIOVK</th>\n",
       "      <td>Yes</td>\n",
       "    </tr>\n",
       "  </tbody>\n",
       "</table>\n",
       "</div>"
      ],
      "text/plain": [
       "           MultipleLines\n",
       "customerID              \n",
       "5575-GNVDE            No\n",
       "3668-QPYBK            No\n",
       "9237-HQITU            No\n",
       "9305-CDSKC           Yes\n",
       "1452-KIOVK           Yes"
      ]
     },
     "metadata": {},
     "output_type": "display_data"
    },
    {
     "name": "stdout",
     "output_type": "stream",
     "text": [
      "\n",
      "<class 'pandas.core.frame.DataFrame'>\n",
      "Index: 6361 entries, 5575-GNVDE to 3186-AJIEK\n",
      "Data columns (total 1 columns):\n",
      " #   Column         Non-Null Count  Dtype \n",
      "---  ------         --------------  ----- \n",
      " 0   MultipleLines  6361 non-null   object\n",
      "dtypes: object(1)\n",
      "memory usage: 99.4+ KB\n",
      "None\n",
      "\n",
      "Размер: (6361, 1)\n",
      "\n",
      "Дубликаты: 6359\n",
      "\n",
      "Пропуски:\n",
      "MultipleLines    0\n",
      "dtype: int64\n",
      "____________________________________________________________________________________________________\n"
     ]
    }
   ],
   "source": [
    "for i in df:\n",
    "    print(i.name)\n",
    "    view(i)"
   ]
  },
  {
   "cell_type": "markdown",
   "id": "1e3def0c",
   "metadata": {},
   "source": [
    "### План работы"
   ]
  },
  {
   "cell_type": "markdown",
   "id": "002a9593",
   "metadata": {},
   "source": [
    "\n",
    "1) Подготовить данные.  \n",
    "* Привести названия столбцов к змеиному регистру;  \n",
    "* Изменить типы данных; \n",
    "* Проверить contract['TotalCharges']\n",
    "* Добавить столбец с длительностью обслуживания;  \n",
    "* Удалить неинформативные столбцы;  \n",
    "* Составление единой таблицы со всеми данными для модели;  \n",
    "* Провести прямое кодирование признаков. \n",
    "* Ресемплинг\n",
    "\n",
    "2) Подготовка признаков.     \n",
    "* Выделение целевого признака как факт окончания обслуживания;  \n",
    "* Разбивание датасета на выборки;  \n",
    "* Разделение на features и target со смешиванием данных.  \n",
    "\n",
    "3) Выбор моделей.   \n",
    "* Использование и обучение моделей классификации, например, CatBoost, LGBM и т.д.    \n",
    "* Оценка эффективности моделей на кросс-валидации\n",
    "* Финальное тестирование лучшей модели.   "
   ]
  },
  {
   "cell_type": "markdown",
   "id": "1a580088-258c-4726-a0c3-042dd6ae6c22",
   "metadata": {},
   "source": [
    "## Предобработка данных"
   ]
  },
  {
   "cell_type": "markdown",
   "id": "88cf893c",
   "metadata": {},
   "source": [
    "Во-первых, разберемся откуда у 'TotalCharges' тип 'object'"
   ]
  },
  {
   "cell_type": "code",
   "execution_count": 8,
   "id": "bd3a24dc",
   "metadata": {},
   "outputs": [
    {
     "data": {
      "text/plain": [
       "[' ', ' ', ' ', ' ', ' ', ' ', ' ', ' ', ' ', ' ', ' ']"
      ]
     },
     "execution_count": 8,
     "metadata": {},
     "output_type": "execute_result"
    }
   ],
   "source": [
    "strings = []\n",
    "for i in contract['TotalCharges']:\n",
    "    try: \n",
    "        i = float(i)\n",
    "    except:\n",
    "        strings.append(i)\n",
    "strings        "
   ]
  },
  {
   "cell_type": "code",
   "execution_count": 9,
   "id": "9307158f",
   "metadata": {},
   "outputs": [
    {
     "data": {
      "text/html": [
       "<div>\n",
       "<style scoped>\n",
       "    .dataframe tbody tr th:only-of-type {\n",
       "        vertical-align: middle;\n",
       "    }\n",
       "\n",
       "    .dataframe tbody tr th {\n",
       "        vertical-align: top;\n",
       "    }\n",
       "\n",
       "    .dataframe thead th {\n",
       "        text-align: right;\n",
       "    }\n",
       "</style>\n",
       "<table border=\"1\" class=\"dataframe\">\n",
       "  <thead>\n",
       "    <tr style=\"text-align: right;\">\n",
       "      <th></th>\n",
       "      <th>BeginDate</th>\n",
       "      <th>EndDate</th>\n",
       "      <th>Type</th>\n",
       "      <th>PaperlessBilling</th>\n",
       "      <th>PaymentMethod</th>\n",
       "      <th>MonthlyCharges</th>\n",
       "      <th>TotalCharges</th>\n",
       "    </tr>\n",
       "    <tr>\n",
       "      <th>customerID</th>\n",
       "      <th></th>\n",
       "      <th></th>\n",
       "      <th></th>\n",
       "      <th></th>\n",
       "      <th></th>\n",
       "      <th></th>\n",
       "      <th></th>\n",
       "    </tr>\n",
       "  </thead>\n",
       "  <tbody>\n",
       "    <tr>\n",
       "      <th>4472-LVYGI</th>\n",
       "      <td>2020-02-01</td>\n",
       "      <td>No</td>\n",
       "      <td>Two year</td>\n",
       "      <td>Yes</td>\n",
       "      <td>Bank transfer (automatic)</td>\n",
       "      <td>52.55</td>\n",
       "      <td></td>\n",
       "    </tr>\n",
       "    <tr>\n",
       "      <th>3115-CZMZD</th>\n",
       "      <td>2020-02-01</td>\n",
       "      <td>No</td>\n",
       "      <td>Two year</td>\n",
       "      <td>No</td>\n",
       "      <td>Mailed check</td>\n",
       "      <td>20.25</td>\n",
       "      <td></td>\n",
       "    </tr>\n",
       "    <tr>\n",
       "      <th>5709-LVOEQ</th>\n",
       "      <td>2020-02-01</td>\n",
       "      <td>No</td>\n",
       "      <td>Two year</td>\n",
       "      <td>No</td>\n",
       "      <td>Mailed check</td>\n",
       "      <td>80.85</td>\n",
       "      <td></td>\n",
       "    </tr>\n",
       "    <tr>\n",
       "      <th>4367-NUYAO</th>\n",
       "      <td>2020-02-01</td>\n",
       "      <td>No</td>\n",
       "      <td>Two year</td>\n",
       "      <td>No</td>\n",
       "      <td>Mailed check</td>\n",
       "      <td>25.75</td>\n",
       "      <td></td>\n",
       "    </tr>\n",
       "    <tr>\n",
       "      <th>1371-DWPAZ</th>\n",
       "      <td>2020-02-01</td>\n",
       "      <td>No</td>\n",
       "      <td>Two year</td>\n",
       "      <td>No</td>\n",
       "      <td>Credit card (automatic)</td>\n",
       "      <td>56.05</td>\n",
       "      <td></td>\n",
       "    </tr>\n",
       "    <tr>\n",
       "      <th>7644-OMVMY</th>\n",
       "      <td>2020-02-01</td>\n",
       "      <td>No</td>\n",
       "      <td>Two year</td>\n",
       "      <td>No</td>\n",
       "      <td>Mailed check</td>\n",
       "      <td>19.85</td>\n",
       "      <td></td>\n",
       "    </tr>\n",
       "    <tr>\n",
       "      <th>3213-VVOLG</th>\n",
       "      <td>2020-02-01</td>\n",
       "      <td>No</td>\n",
       "      <td>Two year</td>\n",
       "      <td>No</td>\n",
       "      <td>Mailed check</td>\n",
       "      <td>25.35</td>\n",
       "      <td></td>\n",
       "    </tr>\n",
       "    <tr>\n",
       "      <th>2520-SGTTA</th>\n",
       "      <td>2020-02-01</td>\n",
       "      <td>No</td>\n",
       "      <td>Two year</td>\n",
       "      <td>No</td>\n",
       "      <td>Mailed check</td>\n",
       "      <td>20.00</td>\n",
       "      <td></td>\n",
       "    </tr>\n",
       "    <tr>\n",
       "      <th>2923-ARZLG</th>\n",
       "      <td>2020-02-01</td>\n",
       "      <td>No</td>\n",
       "      <td>One year</td>\n",
       "      <td>Yes</td>\n",
       "      <td>Mailed check</td>\n",
       "      <td>19.70</td>\n",
       "      <td></td>\n",
       "    </tr>\n",
       "    <tr>\n",
       "      <th>4075-WKNIU</th>\n",
       "      <td>2020-02-01</td>\n",
       "      <td>No</td>\n",
       "      <td>Two year</td>\n",
       "      <td>No</td>\n",
       "      <td>Mailed check</td>\n",
       "      <td>73.35</td>\n",
       "      <td></td>\n",
       "    </tr>\n",
       "    <tr>\n",
       "      <th>2775-SEFEE</th>\n",
       "      <td>2020-02-01</td>\n",
       "      <td>No</td>\n",
       "      <td>Two year</td>\n",
       "      <td>Yes</td>\n",
       "      <td>Bank transfer (automatic)</td>\n",
       "      <td>61.90</td>\n",
       "      <td></td>\n",
       "    </tr>\n",
       "  </tbody>\n",
       "</table>\n",
       "</div>"
      ],
      "text/plain": [
       "             BeginDate EndDate      Type PaperlessBilling  \\\n",
       "customerID                                                  \n",
       "4472-LVYGI  2020-02-01      No  Two year              Yes   \n",
       "3115-CZMZD  2020-02-01      No  Two year               No   \n",
       "5709-LVOEQ  2020-02-01      No  Two year               No   \n",
       "4367-NUYAO  2020-02-01      No  Two year               No   \n",
       "1371-DWPAZ  2020-02-01      No  Two year               No   \n",
       "7644-OMVMY  2020-02-01      No  Two year               No   \n",
       "3213-VVOLG  2020-02-01      No  Two year               No   \n",
       "2520-SGTTA  2020-02-01      No  Two year               No   \n",
       "2923-ARZLG  2020-02-01      No  One year              Yes   \n",
       "4075-WKNIU  2020-02-01      No  Two year               No   \n",
       "2775-SEFEE  2020-02-01      No  Two year              Yes   \n",
       "\n",
       "                        PaymentMethod  MonthlyCharges TotalCharges  \n",
       "customerID                                                          \n",
       "4472-LVYGI  Bank transfer (automatic)           52.55               \n",
       "3115-CZMZD               Mailed check           20.25               \n",
       "5709-LVOEQ               Mailed check           80.85               \n",
       "4367-NUYAO               Mailed check           25.75               \n",
       "1371-DWPAZ    Credit card (automatic)           56.05               \n",
       "7644-OMVMY               Mailed check           19.85               \n",
       "3213-VVOLG               Mailed check           25.35               \n",
       "2520-SGTTA               Mailed check           20.00               \n",
       "2923-ARZLG               Mailed check           19.70               \n",
       "4075-WKNIU               Mailed check           73.35               \n",
       "2775-SEFEE  Bank transfer (automatic)           61.90               "
      ]
     },
     "execution_count": 9,
     "metadata": {},
     "output_type": "execute_result"
    }
   ],
   "source": [
    "contract[contract['TotalCharges'] == ' ']"
   ]
  },
  {
   "cell_type": "markdown",
   "id": "0b1c498c",
   "metadata": {},
   "source": [
    "Т.к. это клиенты, только оформившие услуги, они еще не оплачивали свой первый договор( или оплатили один раз, но так геморройнее, а разницы нет)"
   ]
  },
  {
   "cell_type": "code",
   "execution_count": 10,
   "id": "173108fe",
   "metadata": {},
   "outputs": [],
   "source": [
    "contract[contract['TotalCharges'] == ' '] = 0\n",
    "contract['TotalCharges'] = contract['TotalCharges'].astype('float')"
   ]
  },
  {
   "cell_type": "markdown",
   "id": "e5ed4ca3",
   "metadata": {},
   "source": [
    "Объеденим таблицы по customer_id методом 'left', чтобы никого не потерять"
   ]
  },
  {
   "cell_type": "code",
   "execution_count": 11,
   "id": "ef6d05a2",
   "metadata": {},
   "outputs": [],
   "source": [
    "data_full = contract.merge(internet, how='left', on='customerID')\n",
    "data_full = data_full.merge(personal, how='left', on='customerID')\n",
    "data_full = data_full.merge(phone, how='left', on='customerID')"
   ]
  },
  {
   "cell_type": "code",
   "execution_count": 12,
   "id": "8f01675d",
   "metadata": {
    "scrolled": false
   },
   "outputs": [
    {
     "data": {
      "text/html": [
       "<div>\n",
       "<style scoped>\n",
       "    .dataframe tbody tr th:only-of-type {\n",
       "        vertical-align: middle;\n",
       "    }\n",
       "\n",
       "    .dataframe tbody tr th {\n",
       "        vertical-align: top;\n",
       "    }\n",
       "\n",
       "    .dataframe thead th {\n",
       "        text-align: right;\n",
       "    }\n",
       "</style>\n",
       "<table border=\"1\" class=\"dataframe\">\n",
       "  <thead>\n",
       "    <tr style=\"text-align: right;\">\n",
       "      <th></th>\n",
       "      <th>BeginDate</th>\n",
       "      <th>EndDate</th>\n",
       "      <th>Type</th>\n",
       "      <th>PaperlessBilling</th>\n",
       "      <th>PaymentMethod</th>\n",
       "      <th>MonthlyCharges</th>\n",
       "      <th>TotalCharges</th>\n",
       "      <th>InternetService</th>\n",
       "      <th>OnlineSecurity</th>\n",
       "      <th>OnlineBackup</th>\n",
       "      <th>DeviceProtection</th>\n",
       "      <th>TechSupport</th>\n",
       "      <th>StreamingTV</th>\n",
       "      <th>StreamingMovies</th>\n",
       "      <th>gender</th>\n",
       "      <th>SeniorCitizen</th>\n",
       "      <th>Partner</th>\n",
       "      <th>Dependents</th>\n",
       "      <th>MultipleLines</th>\n",
       "    </tr>\n",
       "    <tr>\n",
       "      <th>customerID</th>\n",
       "      <th></th>\n",
       "      <th></th>\n",
       "      <th></th>\n",
       "      <th></th>\n",
       "      <th></th>\n",
       "      <th></th>\n",
       "      <th></th>\n",
       "      <th></th>\n",
       "      <th></th>\n",
       "      <th></th>\n",
       "      <th></th>\n",
       "      <th></th>\n",
       "      <th></th>\n",
       "      <th></th>\n",
       "      <th></th>\n",
       "      <th></th>\n",
       "      <th></th>\n",
       "      <th></th>\n",
       "      <th></th>\n",
       "    </tr>\n",
       "  </thead>\n",
       "  <tbody>\n",
       "    <tr>\n",
       "      <th>7590-VHVEG</th>\n",
       "      <td>2020-01-01</td>\n",
       "      <td>No</td>\n",
       "      <td>Month-to-month</td>\n",
       "      <td>Yes</td>\n",
       "      <td>Electronic check</td>\n",
       "      <td>29.85</td>\n",
       "      <td>29.85</td>\n",
       "      <td>DSL</td>\n",
       "      <td>No</td>\n",
       "      <td>Yes</td>\n",
       "      <td>No</td>\n",
       "      <td>No</td>\n",
       "      <td>No</td>\n",
       "      <td>No</td>\n",
       "      <td>Female</td>\n",
       "      <td>0</td>\n",
       "      <td>Yes</td>\n",
       "      <td>No</td>\n",
       "      <td>NaN</td>\n",
       "    </tr>\n",
       "    <tr>\n",
       "      <th>5575-GNVDE</th>\n",
       "      <td>2017-04-01</td>\n",
       "      <td>No</td>\n",
       "      <td>One year</td>\n",
       "      <td>No</td>\n",
       "      <td>Mailed check</td>\n",
       "      <td>56.95</td>\n",
       "      <td>1889.50</td>\n",
       "      <td>DSL</td>\n",
       "      <td>Yes</td>\n",
       "      <td>No</td>\n",
       "      <td>Yes</td>\n",
       "      <td>No</td>\n",
       "      <td>No</td>\n",
       "      <td>No</td>\n",
       "      <td>Male</td>\n",
       "      <td>0</td>\n",
       "      <td>No</td>\n",
       "      <td>No</td>\n",
       "      <td>No</td>\n",
       "    </tr>\n",
       "    <tr>\n",
       "      <th>3668-QPYBK</th>\n",
       "      <td>2019-10-01</td>\n",
       "      <td>2019-12-01 00:00:00</td>\n",
       "      <td>Month-to-month</td>\n",
       "      <td>Yes</td>\n",
       "      <td>Mailed check</td>\n",
       "      <td>53.85</td>\n",
       "      <td>108.15</td>\n",
       "      <td>DSL</td>\n",
       "      <td>Yes</td>\n",
       "      <td>Yes</td>\n",
       "      <td>No</td>\n",
       "      <td>No</td>\n",
       "      <td>No</td>\n",
       "      <td>No</td>\n",
       "      <td>Male</td>\n",
       "      <td>0</td>\n",
       "      <td>No</td>\n",
       "      <td>No</td>\n",
       "      <td>No</td>\n",
       "    </tr>\n",
       "    <tr>\n",
       "      <th>7795-CFOCW</th>\n",
       "      <td>2016-05-01</td>\n",
       "      <td>No</td>\n",
       "      <td>One year</td>\n",
       "      <td>No</td>\n",
       "      <td>Bank transfer (automatic)</td>\n",
       "      <td>42.30</td>\n",
       "      <td>1840.75</td>\n",
       "      <td>DSL</td>\n",
       "      <td>Yes</td>\n",
       "      <td>No</td>\n",
       "      <td>Yes</td>\n",
       "      <td>Yes</td>\n",
       "      <td>No</td>\n",
       "      <td>No</td>\n",
       "      <td>Male</td>\n",
       "      <td>0</td>\n",
       "      <td>No</td>\n",
       "      <td>No</td>\n",
       "      <td>NaN</td>\n",
       "    </tr>\n",
       "    <tr>\n",
       "      <th>9237-HQITU</th>\n",
       "      <td>2019-09-01</td>\n",
       "      <td>2019-11-01 00:00:00</td>\n",
       "      <td>Month-to-month</td>\n",
       "      <td>Yes</td>\n",
       "      <td>Electronic check</td>\n",
       "      <td>70.70</td>\n",
       "      <td>151.65</td>\n",
       "      <td>Fiber optic</td>\n",
       "      <td>No</td>\n",
       "      <td>No</td>\n",
       "      <td>No</td>\n",
       "      <td>No</td>\n",
       "      <td>No</td>\n",
       "      <td>No</td>\n",
       "      <td>Female</td>\n",
       "      <td>0</td>\n",
       "      <td>No</td>\n",
       "      <td>No</td>\n",
       "      <td>No</td>\n",
       "    </tr>\n",
       "  </tbody>\n",
       "</table>\n",
       "</div>"
      ],
      "text/plain": [
       "             BeginDate              EndDate            Type PaperlessBilling  \\\n",
       "customerID                                                                     \n",
       "7590-VHVEG  2020-01-01                   No  Month-to-month              Yes   \n",
       "5575-GNVDE  2017-04-01                   No        One year               No   \n",
       "3668-QPYBK  2019-10-01  2019-12-01 00:00:00  Month-to-month              Yes   \n",
       "7795-CFOCW  2016-05-01                   No        One year               No   \n",
       "9237-HQITU  2019-09-01  2019-11-01 00:00:00  Month-to-month              Yes   \n",
       "\n",
       "                        PaymentMethod  MonthlyCharges  TotalCharges  \\\n",
       "customerID                                                            \n",
       "7590-VHVEG           Electronic check           29.85         29.85   \n",
       "5575-GNVDE               Mailed check           56.95       1889.50   \n",
       "3668-QPYBK               Mailed check           53.85        108.15   \n",
       "7795-CFOCW  Bank transfer (automatic)           42.30       1840.75   \n",
       "9237-HQITU           Electronic check           70.70        151.65   \n",
       "\n",
       "           InternetService OnlineSecurity OnlineBackup DeviceProtection  \\\n",
       "customerID                                                                \n",
       "7590-VHVEG             DSL             No          Yes               No   \n",
       "5575-GNVDE             DSL            Yes           No              Yes   \n",
       "3668-QPYBK             DSL            Yes          Yes               No   \n",
       "7795-CFOCW             DSL            Yes           No              Yes   \n",
       "9237-HQITU     Fiber optic             No           No               No   \n",
       "\n",
       "           TechSupport StreamingTV StreamingMovies  gender  SeniorCitizen  \\\n",
       "customerID                                                                  \n",
       "7590-VHVEG          No          No              No  Female              0   \n",
       "5575-GNVDE          No          No              No    Male              0   \n",
       "3668-QPYBK          No          No              No    Male              0   \n",
       "7795-CFOCW         Yes          No              No    Male              0   \n",
       "9237-HQITU          No          No              No  Female              0   \n",
       "\n",
       "           Partner Dependents MultipleLines  \n",
       "customerID                                   \n",
       "7590-VHVEG     Yes         No           NaN  \n",
       "5575-GNVDE      No         No            No  \n",
       "3668-QPYBK      No         No            No  \n",
       "7795-CFOCW      No         No           NaN  \n",
       "9237-HQITU      No         No            No  "
      ]
     },
     "execution_count": 12,
     "metadata": {},
     "output_type": "execute_result"
    }
   ],
   "source": [
    "data_full.head()"
   ]
  },
  {
   "cell_type": "code",
   "execution_count": 13,
   "id": "0cbeed66",
   "metadata": {},
   "outputs": [
    {
     "data": {
      "text/plain": [
       "BeginDate              0\n",
       "EndDate                0\n",
       "Type                   0\n",
       "PaperlessBilling       0\n",
       "PaymentMethod          0\n",
       "MonthlyCharges         0\n",
       "TotalCharges           0\n",
       "InternetService     1526\n",
       "OnlineSecurity      1526\n",
       "OnlineBackup        1526\n",
       "DeviceProtection    1526\n",
       "TechSupport         1526\n",
       "StreamingTV         1526\n",
       "StreamingMovies     1526\n",
       "gender                 0\n",
       "SeniorCitizen          0\n",
       "Partner                0\n",
       "Dependents             0\n",
       "MultipleLines        682\n",
       "dtype: int64"
      ]
     },
     "execution_count": 13,
     "metadata": {},
     "output_type": "execute_result"
    }
   ],
   "source": [
    "data_full.isna().sum()"
   ]
  },
  {
   "cell_type": "markdown",
   "id": "b6bb9da9",
   "metadata": {},
   "source": [
    "Видим, что при объединении таблиц появились пропуски. Скорее всего это указывает на то, что данные пользователи не пользовались этими услугами, так что заменим их на 0"
   ]
  },
  {
   "cell_type": "code",
   "execution_count": 14,
   "id": "b831a7b2",
   "metadata": {},
   "outputs": [],
   "source": [
    "data_full.fillna(0, inplace=True)"
   ]
  },
  {
   "cell_type": "markdown",
   "id": "86ace7c2",
   "metadata": {},
   "source": [
    "Приветем столбцы к змеиному регистру"
   ]
  },
  {
   "cell_type": "code",
   "execution_count": 15,
   "id": "96a65ab3-35ef-41c7-9a9a-b1c25dfdeb28",
   "metadata": {},
   "outputs": [],
   "source": [
    "def camel_to_snake(data):\n",
    "    for name in data.columns:\n",
    "        rena = re.sub('(.)([A-Z][a-z]+)', r'\\1_\\2', name)\n",
    "        rena = re.sub('([a-z0-9])([A-Z])', r'\\1_\\2', name).lower()\n",
    "        data = data.rename(columns={name:rena})\n",
    "    return data\n",
    "data_full = camel_to_snake(data_full)"
   ]
  },
  {
   "cell_type": "markdown",
   "id": "3fa6f6c3",
   "metadata": {},
   "source": [
    "А даты - к датам"
   ]
  },
  {
   "cell_type": "code",
   "execution_count": 16,
   "id": "2e6a6d2a",
   "metadata": {
    "scrolled": false
   },
   "outputs": [],
   "source": [
    "data_full['begin_date'] = pd.to_datetime(data_full['begin_date'], format='%Y-%m-%d')\n",
    "data_full.loc[data_full['end_date']=='No', 'end_date'] = np.nan\n",
    "data_full['end_date'] = pd.to_datetime(data_full['end_date'], format='%Y-%m-%d')"
   ]
  },
  {
   "cell_type": "code",
   "execution_count": 17,
   "id": "c0187ad2",
   "metadata": {},
   "outputs": [
    {
     "data": {
      "text/plain": [
       "array(['Yes', 'No', 0], dtype=object)"
      ]
     },
     "execution_count": 17,
     "metadata": {},
     "output_type": "execute_result"
    }
   ],
   "source": [
    "data_full['paperless_billing'].unique() #Чтобы позже не было трудностей заменим сразу на 0 и 1"
   ]
  },
  {
   "cell_type": "code",
   "execution_count": 18,
   "id": "ff727bad",
   "metadata": {},
   "outputs": [],
   "source": [
    "data_full.replace('No', 0, inplace=True)\n",
    "data_full.replace('Yes', 1, inplace=True)"
   ]
  },
  {
   "cell_type": "code",
   "execution_count": 19,
   "id": "7049eb4a",
   "metadata": {},
   "outputs": [
    {
     "data": {
      "text/html": [
       "<div>\n",
       "<style scoped>\n",
       "    .dataframe tbody tr th:only-of-type {\n",
       "        vertical-align: middle;\n",
       "    }\n",
       "\n",
       "    .dataframe tbody tr th {\n",
       "        vertical-align: top;\n",
       "    }\n",
       "\n",
       "    .dataframe thead th {\n",
       "        text-align: right;\n",
       "    }\n",
       "</style>\n",
       "<table border=\"1\" class=\"dataframe\">\n",
       "  <thead>\n",
       "    <tr style=\"text-align: right;\">\n",
       "      <th></th>\n",
       "      <th>begin_date</th>\n",
       "      <th>end_date</th>\n",
       "      <th>type</th>\n",
       "      <th>paperless_billing</th>\n",
       "      <th>payment_method</th>\n",
       "      <th>monthly_charges</th>\n",
       "      <th>total_charges</th>\n",
       "      <th>internet_service</th>\n",
       "      <th>online_security</th>\n",
       "      <th>online_backup</th>\n",
       "      <th>device_protection</th>\n",
       "      <th>tech_support</th>\n",
       "      <th>streaming_tv</th>\n",
       "      <th>streaming_movies</th>\n",
       "      <th>gender</th>\n",
       "      <th>senior_citizen</th>\n",
       "      <th>partner</th>\n",
       "      <th>dependents</th>\n",
       "      <th>multiple_lines</th>\n",
       "    </tr>\n",
       "    <tr>\n",
       "      <th>customerID</th>\n",
       "      <th></th>\n",
       "      <th></th>\n",
       "      <th></th>\n",
       "      <th></th>\n",
       "      <th></th>\n",
       "      <th></th>\n",
       "      <th></th>\n",
       "      <th></th>\n",
       "      <th></th>\n",
       "      <th></th>\n",
       "      <th></th>\n",
       "      <th></th>\n",
       "      <th></th>\n",
       "      <th></th>\n",
       "      <th></th>\n",
       "      <th></th>\n",
       "      <th></th>\n",
       "      <th></th>\n",
       "      <th></th>\n",
       "    </tr>\n",
       "  </thead>\n",
       "  <tbody>\n",
       "    <tr>\n",
       "      <th>7590-VHVEG</th>\n",
       "      <td>2020-01-01</td>\n",
       "      <td>NaT</td>\n",
       "      <td>Month-to-month</td>\n",
       "      <td>1</td>\n",
       "      <td>Electronic check</td>\n",
       "      <td>29.85</td>\n",
       "      <td>29.85</td>\n",
       "      <td>DSL</td>\n",
       "      <td>0</td>\n",
       "      <td>1</td>\n",
       "      <td>0</td>\n",
       "      <td>0</td>\n",
       "      <td>0</td>\n",
       "      <td>0</td>\n",
       "      <td>Female</td>\n",
       "      <td>0</td>\n",
       "      <td>1</td>\n",
       "      <td>0</td>\n",
       "      <td>0</td>\n",
       "    </tr>\n",
       "    <tr>\n",
       "      <th>5575-GNVDE</th>\n",
       "      <td>2017-04-01</td>\n",
       "      <td>NaT</td>\n",
       "      <td>One year</td>\n",
       "      <td>0</td>\n",
       "      <td>Mailed check</td>\n",
       "      <td>56.95</td>\n",
       "      <td>1889.50</td>\n",
       "      <td>DSL</td>\n",
       "      <td>1</td>\n",
       "      <td>0</td>\n",
       "      <td>1</td>\n",
       "      <td>0</td>\n",
       "      <td>0</td>\n",
       "      <td>0</td>\n",
       "      <td>Male</td>\n",
       "      <td>0</td>\n",
       "      <td>0</td>\n",
       "      <td>0</td>\n",
       "      <td>0</td>\n",
       "    </tr>\n",
       "    <tr>\n",
       "      <th>3668-QPYBK</th>\n",
       "      <td>2019-10-01</td>\n",
       "      <td>2019-12-01</td>\n",
       "      <td>Month-to-month</td>\n",
       "      <td>1</td>\n",
       "      <td>Mailed check</td>\n",
       "      <td>53.85</td>\n",
       "      <td>108.15</td>\n",
       "      <td>DSL</td>\n",
       "      <td>1</td>\n",
       "      <td>1</td>\n",
       "      <td>0</td>\n",
       "      <td>0</td>\n",
       "      <td>0</td>\n",
       "      <td>0</td>\n",
       "      <td>Male</td>\n",
       "      <td>0</td>\n",
       "      <td>0</td>\n",
       "      <td>0</td>\n",
       "      <td>0</td>\n",
       "    </tr>\n",
       "    <tr>\n",
       "      <th>7795-CFOCW</th>\n",
       "      <td>2016-05-01</td>\n",
       "      <td>NaT</td>\n",
       "      <td>One year</td>\n",
       "      <td>0</td>\n",
       "      <td>Bank transfer (automatic)</td>\n",
       "      <td>42.30</td>\n",
       "      <td>1840.75</td>\n",
       "      <td>DSL</td>\n",
       "      <td>1</td>\n",
       "      <td>0</td>\n",
       "      <td>1</td>\n",
       "      <td>1</td>\n",
       "      <td>0</td>\n",
       "      <td>0</td>\n",
       "      <td>Male</td>\n",
       "      <td>0</td>\n",
       "      <td>0</td>\n",
       "      <td>0</td>\n",
       "      <td>0</td>\n",
       "    </tr>\n",
       "    <tr>\n",
       "      <th>9237-HQITU</th>\n",
       "      <td>2019-09-01</td>\n",
       "      <td>2019-11-01</td>\n",
       "      <td>Month-to-month</td>\n",
       "      <td>1</td>\n",
       "      <td>Electronic check</td>\n",
       "      <td>70.70</td>\n",
       "      <td>151.65</td>\n",
       "      <td>Fiber optic</td>\n",
       "      <td>0</td>\n",
       "      <td>0</td>\n",
       "      <td>0</td>\n",
       "      <td>0</td>\n",
       "      <td>0</td>\n",
       "      <td>0</td>\n",
       "      <td>Female</td>\n",
       "      <td>0</td>\n",
       "      <td>0</td>\n",
       "      <td>0</td>\n",
       "      <td>0</td>\n",
       "    </tr>\n",
       "  </tbody>\n",
       "</table>\n",
       "</div>"
      ],
      "text/plain": [
       "           begin_date   end_date            type  paperless_billing  \\\n",
       "customerID                                                            \n",
       "7590-VHVEG 2020-01-01        NaT  Month-to-month                  1   \n",
       "5575-GNVDE 2017-04-01        NaT        One year                  0   \n",
       "3668-QPYBK 2019-10-01 2019-12-01  Month-to-month                  1   \n",
       "7795-CFOCW 2016-05-01        NaT        One year                  0   \n",
       "9237-HQITU 2019-09-01 2019-11-01  Month-to-month                  1   \n",
       "\n",
       "                       payment_method  monthly_charges  total_charges  \\\n",
       "customerID                                                              \n",
       "7590-VHVEG           Electronic check            29.85          29.85   \n",
       "5575-GNVDE               Mailed check            56.95        1889.50   \n",
       "3668-QPYBK               Mailed check            53.85         108.15   \n",
       "7795-CFOCW  Bank transfer (automatic)            42.30        1840.75   \n",
       "9237-HQITU           Electronic check            70.70         151.65   \n",
       "\n",
       "           internet_service  online_security  online_backup  \\\n",
       "customerID                                                    \n",
       "7590-VHVEG              DSL                0              1   \n",
       "5575-GNVDE              DSL                1              0   \n",
       "3668-QPYBK              DSL                1              1   \n",
       "7795-CFOCW              DSL                1              0   \n",
       "9237-HQITU      Fiber optic                0              0   \n",
       "\n",
       "            device_protection  tech_support  streaming_tv  streaming_movies  \\\n",
       "customerID                                                                    \n",
       "7590-VHVEG                  0             0             0                 0   \n",
       "5575-GNVDE                  1             0             0                 0   \n",
       "3668-QPYBK                  0             0             0                 0   \n",
       "7795-CFOCW                  1             1             0                 0   \n",
       "9237-HQITU                  0             0             0                 0   \n",
       "\n",
       "            gender  senior_citizen  partner  dependents  multiple_lines  \n",
       "customerID                                                               \n",
       "7590-VHVEG  Female               0        1           0               0  \n",
       "5575-GNVDE    Male               0        0           0               0  \n",
       "3668-QPYBK    Male               0        0           0               0  \n",
       "7795-CFOCW    Male               0        0           0               0  \n",
       "9237-HQITU  Female               0        0           0               0  "
      ]
     },
     "execution_count": 19,
     "metadata": {},
     "output_type": "execute_result"
    }
   ],
   "source": [
    "data_full.head()"
   ]
  },
  {
   "cell_type": "markdown",
   "id": "9585fd4e",
   "metadata": {},
   "source": [
    "Применим кодирование к данным, чтобы подготовить их для модели"
   ]
  },
  {
   "cell_type": "code",
   "execution_count": 20,
   "id": "4a737d24",
   "metadata": {},
   "outputs": [],
   "source": [
    "cat_features = data_full.columns.drop(['begin_date', 'end_date','monthly_charges', 'total_charges'])"
   ]
  },
  {
   "cell_type": "code",
   "execution_count": 21,
   "id": "873309ac",
   "metadata": {},
   "outputs": [],
   "source": [
    "df_ohe = pd.get_dummies(data_full, columns=cat_features, drop_first=True)"
   ]
  },
  {
   "cell_type": "code",
   "execution_count": 22,
   "id": "c06f9c99",
   "metadata": {
    "scrolled": true
   },
   "outputs": [
    {
     "data": {
      "text/html": [
       "<div>\n",
       "<style scoped>\n",
       "    .dataframe tbody tr th:only-of-type {\n",
       "        vertical-align: middle;\n",
       "    }\n",
       "\n",
       "    .dataframe tbody tr th {\n",
       "        vertical-align: top;\n",
       "    }\n",
       "\n",
       "    .dataframe thead th {\n",
       "        text-align: right;\n",
       "    }\n",
       "</style>\n",
       "<table border=\"1\" class=\"dataframe\">\n",
       "  <thead>\n",
       "    <tr style=\"text-align: right;\">\n",
       "      <th></th>\n",
       "      <th>begin_date</th>\n",
       "      <th>end_date</th>\n",
       "      <th>monthly_charges</th>\n",
       "      <th>total_charges</th>\n",
       "      <th>type_month-to-month</th>\n",
       "      <th>type_one year</th>\n",
       "      <th>type_two year</th>\n",
       "      <th>paperless_billing_1</th>\n",
       "      <th>payment_method_bank transfer (automatic)</th>\n",
       "      <th>payment_method_credit card (automatic)</th>\n",
       "      <th>...</th>\n",
       "      <th>online_backup_1</th>\n",
       "      <th>device_protection_1</th>\n",
       "      <th>tech_support_1</th>\n",
       "      <th>streaming_tv_1</th>\n",
       "      <th>streaming_movies_1</th>\n",
       "      <th>gender_male</th>\n",
       "      <th>senior_citizen_1</th>\n",
       "      <th>partner_1</th>\n",
       "      <th>dependents_1</th>\n",
       "      <th>multiple_lines_1</th>\n",
       "    </tr>\n",
       "    <tr>\n",
       "      <th>customerID</th>\n",
       "      <th></th>\n",
       "      <th></th>\n",
       "      <th></th>\n",
       "      <th></th>\n",
       "      <th></th>\n",
       "      <th></th>\n",
       "      <th></th>\n",
       "      <th></th>\n",
       "      <th></th>\n",
       "      <th></th>\n",
       "      <th></th>\n",
       "      <th></th>\n",
       "      <th></th>\n",
       "      <th></th>\n",
       "      <th></th>\n",
       "      <th></th>\n",
       "      <th></th>\n",
       "      <th></th>\n",
       "      <th></th>\n",
       "      <th></th>\n",
       "      <th></th>\n",
       "    </tr>\n",
       "  </thead>\n",
       "  <tbody>\n",
       "    <tr>\n",
       "      <th>7590-VHVEG</th>\n",
       "      <td>2020-01-01</td>\n",
       "      <td>NaT</td>\n",
       "      <td>29.85</td>\n",
       "      <td>29.85</td>\n",
       "      <td>1</td>\n",
       "      <td>0</td>\n",
       "      <td>0</td>\n",
       "      <td>1</td>\n",
       "      <td>0</td>\n",
       "      <td>0</td>\n",
       "      <td>...</td>\n",
       "      <td>1</td>\n",
       "      <td>0</td>\n",
       "      <td>0</td>\n",
       "      <td>0</td>\n",
       "      <td>0</td>\n",
       "      <td>0</td>\n",
       "      <td>0</td>\n",
       "      <td>1</td>\n",
       "      <td>0</td>\n",
       "      <td>0</td>\n",
       "    </tr>\n",
       "    <tr>\n",
       "      <th>5575-GNVDE</th>\n",
       "      <td>2017-04-01</td>\n",
       "      <td>NaT</td>\n",
       "      <td>56.95</td>\n",
       "      <td>1889.50</td>\n",
       "      <td>0</td>\n",
       "      <td>1</td>\n",
       "      <td>0</td>\n",
       "      <td>0</td>\n",
       "      <td>0</td>\n",
       "      <td>0</td>\n",
       "      <td>...</td>\n",
       "      <td>0</td>\n",
       "      <td>1</td>\n",
       "      <td>0</td>\n",
       "      <td>0</td>\n",
       "      <td>0</td>\n",
       "      <td>1</td>\n",
       "      <td>0</td>\n",
       "      <td>0</td>\n",
       "      <td>0</td>\n",
       "      <td>0</td>\n",
       "    </tr>\n",
       "    <tr>\n",
       "      <th>3668-QPYBK</th>\n",
       "      <td>2019-10-01</td>\n",
       "      <td>2019-12-01</td>\n",
       "      <td>53.85</td>\n",
       "      <td>108.15</td>\n",
       "      <td>1</td>\n",
       "      <td>0</td>\n",
       "      <td>0</td>\n",
       "      <td>1</td>\n",
       "      <td>0</td>\n",
       "      <td>0</td>\n",
       "      <td>...</td>\n",
       "      <td>1</td>\n",
       "      <td>0</td>\n",
       "      <td>0</td>\n",
       "      <td>0</td>\n",
       "      <td>0</td>\n",
       "      <td>1</td>\n",
       "      <td>0</td>\n",
       "      <td>0</td>\n",
       "      <td>0</td>\n",
       "      <td>0</td>\n",
       "    </tr>\n",
       "    <tr>\n",
       "      <th>7795-CFOCW</th>\n",
       "      <td>2016-05-01</td>\n",
       "      <td>NaT</td>\n",
       "      <td>42.30</td>\n",
       "      <td>1840.75</td>\n",
       "      <td>0</td>\n",
       "      <td>1</td>\n",
       "      <td>0</td>\n",
       "      <td>0</td>\n",
       "      <td>1</td>\n",
       "      <td>0</td>\n",
       "      <td>...</td>\n",
       "      <td>0</td>\n",
       "      <td>1</td>\n",
       "      <td>1</td>\n",
       "      <td>0</td>\n",
       "      <td>0</td>\n",
       "      <td>1</td>\n",
       "      <td>0</td>\n",
       "      <td>0</td>\n",
       "      <td>0</td>\n",
       "      <td>0</td>\n",
       "    </tr>\n",
       "    <tr>\n",
       "      <th>9237-HQITU</th>\n",
       "      <td>2019-09-01</td>\n",
       "      <td>2019-11-01</td>\n",
       "      <td>70.70</td>\n",
       "      <td>151.65</td>\n",
       "      <td>1</td>\n",
       "      <td>0</td>\n",
       "      <td>0</td>\n",
       "      <td>1</td>\n",
       "      <td>0</td>\n",
       "      <td>0</td>\n",
       "      <td>...</td>\n",
       "      <td>0</td>\n",
       "      <td>0</td>\n",
       "      <td>0</td>\n",
       "      <td>0</td>\n",
       "      <td>0</td>\n",
       "      <td>0</td>\n",
       "      <td>0</td>\n",
       "      <td>0</td>\n",
       "      <td>0</td>\n",
       "      <td>0</td>\n",
       "    </tr>\n",
       "  </tbody>\n",
       "</table>\n",
       "<p>5 rows × 25 columns</p>\n",
       "</div>"
      ],
      "text/plain": [
       "           begin_date   end_date  monthly_charges  total_charges  \\\n",
       "customerID                                                         \n",
       "7590-VHVEG 2020-01-01        NaT            29.85          29.85   \n",
       "5575-GNVDE 2017-04-01        NaT            56.95        1889.50   \n",
       "3668-QPYBK 2019-10-01 2019-12-01            53.85         108.15   \n",
       "7795-CFOCW 2016-05-01        NaT            42.30        1840.75   \n",
       "9237-HQITU 2019-09-01 2019-11-01            70.70         151.65   \n",
       "\n",
       "            type_month-to-month  type_one year  type_two year  \\\n",
       "customerID                                                      \n",
       "7590-VHVEG                    1              0              0   \n",
       "5575-GNVDE                    0              1              0   \n",
       "3668-QPYBK                    1              0              0   \n",
       "7795-CFOCW                    0              1              0   \n",
       "9237-HQITU                    1              0              0   \n",
       "\n",
       "            paperless_billing_1  payment_method_bank transfer (automatic)  \\\n",
       "customerID                                                                  \n",
       "7590-VHVEG                    1                                         0   \n",
       "5575-GNVDE                    0                                         0   \n",
       "3668-QPYBK                    1                                         0   \n",
       "7795-CFOCW                    0                                         1   \n",
       "9237-HQITU                    1                                         0   \n",
       "\n",
       "            payment_method_credit card (automatic)  ...  online_backup_1  \\\n",
       "customerID                                          ...                    \n",
       "7590-VHVEG                                       0  ...                1   \n",
       "5575-GNVDE                                       0  ...                0   \n",
       "3668-QPYBK                                       0  ...                1   \n",
       "7795-CFOCW                                       0  ...                0   \n",
       "9237-HQITU                                       0  ...                0   \n",
       "\n",
       "            device_protection_1  tech_support_1  streaming_tv_1  \\\n",
       "customerID                                                        \n",
       "7590-VHVEG                    0               0               0   \n",
       "5575-GNVDE                    1               0               0   \n",
       "3668-QPYBK                    0               0               0   \n",
       "7795-CFOCW                    1               1               0   \n",
       "9237-HQITU                    0               0               0   \n",
       "\n",
       "            streaming_movies_1  gender_male  senior_citizen_1  partner_1  \\\n",
       "customerID                                                                 \n",
       "7590-VHVEG                   0            0                 0          1   \n",
       "5575-GNVDE                   0            1                 0          0   \n",
       "3668-QPYBK                   0            1                 0          0   \n",
       "7795-CFOCW                   0            1                 0          0   \n",
       "9237-HQITU                   0            0                 0          0   \n",
       "\n",
       "            dependents_1  multiple_lines_1  \n",
       "customerID                                  \n",
       "7590-VHVEG             0                 0  \n",
       "5575-GNVDE             0                 0  \n",
       "3668-QPYBK             0                 0  \n",
       "7795-CFOCW             0                 0  \n",
       "9237-HQITU             0                 0  \n",
       "\n",
       "[5 rows x 25 columns]"
      ]
     },
     "execution_count": 22,
     "metadata": {},
     "output_type": "execute_result"
    }
   ],
   "source": [
    "df_ohe.columns = df_ohe.columns.str.lower()\n",
    "df_ohe.head()"
   ]
  },
  {
   "cell_type": "code",
   "execution_count": 23,
   "id": "d56c6a3b",
   "metadata": {},
   "outputs": [
    {
     "name": "stdout",
     "output_type": "stream",
     "text": [
      "<class 'pandas.core.frame.DataFrame'>\n",
      "Index: 7043 entries, 7590-VHVEG to 3186-AJIEK\n",
      "Data columns (total 25 columns):\n",
      " #   Column                                    Non-Null Count  Dtype         \n",
      "---  ------                                    --------------  -----         \n",
      " 0   begin_date                                7043 non-null   datetime64[ns]\n",
      " 1   end_date                                  1880 non-null   datetime64[ns]\n",
      " 2   monthly_charges                           7043 non-null   float64       \n",
      " 3   total_charges                             7043 non-null   float64       \n",
      " 4   type_month-to-month                       7043 non-null   uint8         \n",
      " 5   type_one year                             7043 non-null   uint8         \n",
      " 6   type_two year                             7043 non-null   uint8         \n",
      " 7   paperless_billing_1                       7043 non-null   uint8         \n",
      " 8   payment_method_bank transfer (automatic)  7043 non-null   uint8         \n",
      " 9   payment_method_credit card (automatic)    7043 non-null   uint8         \n",
      " 10  payment_method_electronic check           7043 non-null   uint8         \n",
      " 11  payment_method_mailed check               7043 non-null   uint8         \n",
      " 12  internet_service_dsl                      7043 non-null   uint8         \n",
      " 13  internet_service_fiber optic              7043 non-null   uint8         \n",
      " 14  online_security_1                         7043 non-null   uint8         \n",
      " 15  online_backup_1                           7043 non-null   uint8         \n",
      " 16  device_protection_1                       7043 non-null   uint8         \n",
      " 17  tech_support_1                            7043 non-null   uint8         \n",
      " 18  streaming_tv_1                            7043 non-null   uint8         \n",
      " 19  streaming_movies_1                        7043 non-null   uint8         \n",
      " 20  gender_male                               7043 non-null   uint8         \n",
      " 21  senior_citizen_1                          7043 non-null   uint8         \n",
      " 22  partner_1                                 7043 non-null   uint8         \n",
      " 23  dependents_1                              7043 non-null   uint8         \n",
      " 24  multiple_lines_1                          7043 non-null   uint8         \n",
      "dtypes: datetime64[ns](2), float64(2), uint8(21)\n",
      "memory usage: 419.6+ KB\n"
     ]
    }
   ],
   "source": [
    "df_ohe.info()"
   ]
  },
  {
   "cell_type": "markdown",
   "id": "55b2bddc",
   "metadata": {},
   "source": [
    "Создадим целевой признак на основании: окончен ли контракт или нет"
   ]
  },
  {
   "cell_type": "code",
   "execution_count": 24,
   "id": "902944de",
   "metadata": {},
   "outputs": [],
   "source": [
    "df_ohe['exit'] = (df_ohe['end_date'].notna()) * 1"
   ]
  },
  {
   "cell_type": "code",
   "execution_count": 25,
   "id": "73932b06",
   "metadata": {},
   "outputs": [],
   "source": [
    "df_ohe['end_date'].fillna(pd.to_datetime('2020-02-01', format='%Y-%m-%d'), inplace=True)"
   ]
  },
  {
   "cell_type": "markdown",
   "id": "13b33ab3",
   "metadata": {},
   "source": [
    "Добавим длительность обслуживания и удалим столбцы с времеными значениями"
   ]
  },
  {
   "cell_type": "code",
   "execution_count": 26,
   "id": "b4426543",
   "metadata": {},
   "outputs": [],
   "source": [
    "df_ohe['duration'] = (df_ohe['end_date'] - df_ohe['begin_date'])"
   ]
  },
  {
   "cell_type": "code",
   "execution_count": 27,
   "id": "9f60d1e7",
   "metadata": {},
   "outputs": [],
   "source": [
    "df_ohe = df_ohe.drop(['begin_date', 'end_date'], axis=1)"
   ]
  },
  {
   "cell_type": "code",
   "execution_count": 28,
   "id": "1c23cfa8",
   "metadata": {},
   "outputs": [],
   "source": [
    "df_ohe['duration'] = df_ohe['duration'].dt.days"
   ]
  },
  {
   "cell_type": "markdown",
   "id": "10fb86c7",
   "metadata": {},
   "source": [
    "## Исследование"
   ]
  },
  {
   "cell_type": "markdown",
   "id": "a2203428",
   "metadata": {},
   "source": [
    "Для начала давайте посмотрим на расспределение признаков"
   ]
  },
  {
   "cell_type": "code",
   "execution_count": 29,
   "id": "bb72a149",
   "metadata": {},
   "outputs": [
    {
     "data": {
      "text/plain": [
       "Index(['monthly_charges', 'total_charges', 'type_month-to-month',\n",
       "       'type_one year', 'type_two year', 'paperless_billing_1',\n",
       "       'payment_method_bank transfer (automatic)',\n",
       "       'payment_method_credit card (automatic)',\n",
       "       'payment_method_electronic check', 'payment_method_mailed check',\n",
       "       'internet_service_dsl', 'internet_service_fiber optic',\n",
       "       'online_security_1', 'online_backup_1', 'device_protection_1',\n",
       "       'tech_support_1', 'streaming_tv_1', 'streaming_movies_1', 'gender_male',\n",
       "       'senior_citizen_1', 'partner_1', 'dependents_1', 'multiple_lines_1',\n",
       "       'exit', 'duration'],\n",
       "      dtype='object')"
      ]
     },
     "execution_count": 29,
     "metadata": {},
     "output_type": "execute_result"
    }
   ],
   "source": [
    "df_ohe.columns"
   ]
  },
  {
   "cell_type": "code",
   "execution_count": 30,
   "id": "a7784c2a",
   "metadata": {},
   "outputs": [],
   "source": [
    "cat_features = df_ohe.columns.drop(['monthly_charges', 'total_charges', 'duration'])\n",
    "col_features =['monthly_charges', 'total_charges', 'duration']"
   ]
  },
  {
   "cell_type": "code",
   "execution_count": 31,
   "id": "6063674c",
   "metadata": {},
   "outputs": [
    {
     "data": {
      "image/png": "[encoded data removed]",
      "text/plain": [
       "<Figure size 2160x2880 with 22 Axes>"
      ]
     },
     "metadata": {
      "needs_background": "light"
     },
     "output_type": "display_data"
    }
   ],
   "source": [
    "i=1\n",
    "plt.figure(figsize=(30,40))\n",
    "for col in cat_features:\n",
    "    plt.subplot(6,4,i)\n",
    "    df_ohe[col].value_counts().plot(\n",
    "        kind='bar', \n",
    "        title=col, \n",
    "        rot=0)\n",
    "    i+=1\n",
    "    "
   ]
  },
  {
   "cell_type": "markdown",
   "id": "62fff9d3",
   "metadata": {},
   "source": [
    "Довольно противный вышел график, но по нему видно, что часть признаков(gender, partner) бесполезна, удалим их позже"
   ]
  },
  {
   "cell_type": "code",
   "execution_count": 32,
   "id": "b8105f65",
   "metadata": {},
   "outputs": [
    {
     "data": {
      "image/png": "[encoded data removed]",
      "text/plain": [
       "<Figure size 2160x2880 with 3 Axes>"
      ]
     },
     "metadata": {
      "needs_background": "light"
     },
     "output_type": "display_data"
    }
   ],
   "source": [
    "i=1\n",
    "plt.figure(figsize=(30,40))\n",
    "for col in col_features:\n",
    "    plt.subplot(6,4,i)\n",
    "    df_ohe[col].hist(bins=30)\n",
    "    plt.title(col)\n",
    "    i+=1"
   ]
  },
  {
   "cell_type": "markdown",
   "id": "11cb139a",
   "metadata": {},
   "source": [
    "Видим несколько пиков у ежемесячной оплаты(условные категории клиентов) и срока обслуживания(Новые пользователи и лояльные), в то время, как общая оплата снижается.  \n",
    "Можно предположить, что лояльные клиенты находятся в нижнем ценовом сегменте.   \n",
    "Попробуем выделить сегменты и рассмотреть их"
   ]
  },
  {
   "cell_type": "code",
   "execution_count": 33,
   "id": "7c72896a",
   "metadata": {},
   "outputs": [
    {
     "data": {
      "text/plain": [
       "\"def segments(row):\\n    monthly_charges = row['monthly_charges']\\n    if monthly_charges <= 30.0:\\n        return 1\\n    if monthly_charges <= 60.0:\\n        return 2\\n    return 3\\ndf_ohe['segment'] = df_ohe.apply(segments, axis=1)\""
      ]
     },
     "execution_count": 33,
     "metadata": {},
     "output_type": "execute_result"
    }
   ],
   "source": [
    "'''def segments(row):\n",
    "    monthly_charges = row['monthly_charges']\n",
    "    if monthly_charges <= 30.0:\n",
    "        return 1\n",
    "    if monthly_charges <= 60.0:\n",
    "        return 2\n",
    "    return 3\n",
    "df_ohe['segment'] = df_ohe.apply(segments, axis=1)'''"
   ]
  },
  {
   "cell_type": "markdown",
   "id": "6b0fda38",
   "metadata": {},
   "source": [
    "А теперь посмотрим на корреляцию признаков"
   ]
  },
  {
   "cell_type": "code",
   "execution_count": 34,
   "id": "03edf669",
   "metadata": {},
   "outputs": [
    {
     "name": "stdout",
     "output_type": "stream",
     "text": [
      "interval columns not set, guessing: ['monthly_charges', 'total_charges', 'type_month-to-month', 'type_one year', 'type_two year', 'paperless_billing_1', 'payment_method_bank transfer (automatic)', 'payment_method_credit card (automatic)', 'payment_method_electronic check', 'payment_method_mailed check', 'internet_service_dsl', 'internet_service_fiber optic', 'online_security_1', 'online_backup_1', 'device_protection_1', 'tech_support_1', 'streaming_tv_1', 'streaming_movies_1', 'gender_male', 'senior_citizen_1', 'partner_1', 'dependents_1', 'multiple_lines_1', 'exit', 'duration']\n"
     ]
    },
    {
     "data": {
      "image/png": "[encoded data removed]",
      "text/plain": [
       "<Figure size 864x720 with 2 Axes>"
      ]
     },
     "metadata": {
      "needs_background": "light"
     },
     "output_type": "display_data"
    }
   ],
   "source": [
    "phik_overview = df_ohe.phik_matrix();\n",
    "ax,fig = plt.subplots(figsize=(12,10));\n",
    "sns.heatmap(phik_overview.round(2), annot=True);"
   ]
  },
  {
   "cell_type": "markdown",
   "id": "04f17721",
   "metadata": {},
   "source": [
    "Удалим столбцы gender и customer_id т.к. никакой полезности для модели они не несут и столбец 'total_charges' т.к. он сильно коррелирует с длительностью обслуживания(что логично)"
   ]
  },
  {
   "cell_type": "code",
   "execution_count": 35,
   "id": "5181be48",
   "metadata": {},
   "outputs": [],
   "source": [
    "df_ohe = df_ohe.drop(['gender_male', 'total_charges'], axis=1)"
   ]
  },
  {
   "cell_type": "code",
   "execution_count": 36,
   "id": "f30e9794",
   "metadata": {
    "scrolled": true
   },
   "outputs": [
    {
     "data": {
      "text/html": [
       "<div>\n",
       "<style scoped>\n",
       "    .dataframe tbody tr th:only-of-type {\n",
       "        vertical-align: middle;\n",
       "    }\n",
       "\n",
       "    .dataframe tbody tr th {\n",
       "        vertical-align: top;\n",
       "    }\n",
       "\n",
       "    .dataframe thead th {\n",
       "        text-align: right;\n",
       "    }\n",
       "</style>\n",
       "<table border=\"1\" class=\"dataframe\">\n",
       "  <thead>\n",
       "    <tr style=\"text-align: right;\">\n",
       "      <th></th>\n",
       "      <th>monthly_charges</th>\n",
       "      <th>type_month-to-month</th>\n",
       "      <th>type_one year</th>\n",
       "      <th>type_two year</th>\n",
       "      <th>paperless_billing_1</th>\n",
       "      <th>payment_method_bank transfer (automatic)</th>\n",
       "      <th>payment_method_credit card (automatic)</th>\n",
       "      <th>payment_method_electronic check</th>\n",
       "      <th>payment_method_mailed check</th>\n",
       "      <th>internet_service_dsl</th>\n",
       "      <th>...</th>\n",
       "      <th>device_protection_1</th>\n",
       "      <th>tech_support_1</th>\n",
       "      <th>streaming_tv_1</th>\n",
       "      <th>streaming_movies_1</th>\n",
       "      <th>senior_citizen_1</th>\n",
       "      <th>partner_1</th>\n",
       "      <th>dependents_1</th>\n",
       "      <th>multiple_lines_1</th>\n",
       "      <th>exit</th>\n",
       "      <th>duration</th>\n",
       "    </tr>\n",
       "    <tr>\n",
       "      <th>customerID</th>\n",
       "      <th></th>\n",
       "      <th></th>\n",
       "      <th></th>\n",
       "      <th></th>\n",
       "      <th></th>\n",
       "      <th></th>\n",
       "      <th></th>\n",
       "      <th></th>\n",
       "      <th></th>\n",
       "      <th></th>\n",
       "      <th></th>\n",
       "      <th></th>\n",
       "      <th></th>\n",
       "      <th></th>\n",
       "      <th></th>\n",
       "      <th></th>\n",
       "      <th></th>\n",
       "      <th></th>\n",
       "      <th></th>\n",
       "      <th></th>\n",
       "      <th></th>\n",
       "    </tr>\n",
       "  </thead>\n",
       "  <tbody>\n",
       "    <tr>\n",
       "      <th>7590-VHVEG</th>\n",
       "      <td>29.85</td>\n",
       "      <td>1</td>\n",
       "      <td>0</td>\n",
       "      <td>0</td>\n",
       "      <td>1</td>\n",
       "      <td>0</td>\n",
       "      <td>0</td>\n",
       "      <td>1</td>\n",
       "      <td>0</td>\n",
       "      <td>1</td>\n",
       "      <td>...</td>\n",
       "      <td>0</td>\n",
       "      <td>0</td>\n",
       "      <td>0</td>\n",
       "      <td>0</td>\n",
       "      <td>0</td>\n",
       "      <td>1</td>\n",
       "      <td>0</td>\n",
       "      <td>0</td>\n",
       "      <td>0</td>\n",
       "      <td>31</td>\n",
       "    </tr>\n",
       "    <tr>\n",
       "      <th>5575-GNVDE</th>\n",
       "      <td>56.95</td>\n",
       "      <td>0</td>\n",
       "      <td>1</td>\n",
       "      <td>0</td>\n",
       "      <td>0</td>\n",
       "      <td>0</td>\n",
       "      <td>0</td>\n",
       "      <td>0</td>\n",
       "      <td>1</td>\n",
       "      <td>1</td>\n",
       "      <td>...</td>\n",
       "      <td>1</td>\n",
       "      <td>0</td>\n",
       "      <td>0</td>\n",
       "      <td>0</td>\n",
       "      <td>0</td>\n",
       "      <td>0</td>\n",
       "      <td>0</td>\n",
       "      <td>0</td>\n",
       "      <td>0</td>\n",
       "      <td>1036</td>\n",
       "    </tr>\n",
       "    <tr>\n",
       "      <th>3668-QPYBK</th>\n",
       "      <td>53.85</td>\n",
       "      <td>1</td>\n",
       "      <td>0</td>\n",
       "      <td>0</td>\n",
       "      <td>1</td>\n",
       "      <td>0</td>\n",
       "      <td>0</td>\n",
       "      <td>0</td>\n",
       "      <td>1</td>\n",
       "      <td>1</td>\n",
       "      <td>...</td>\n",
       "      <td>0</td>\n",
       "      <td>0</td>\n",
       "      <td>0</td>\n",
       "      <td>0</td>\n",
       "      <td>0</td>\n",
       "      <td>0</td>\n",
       "      <td>0</td>\n",
       "      <td>0</td>\n",
       "      <td>1</td>\n",
       "      <td>61</td>\n",
       "    </tr>\n",
       "    <tr>\n",
       "      <th>7795-CFOCW</th>\n",
       "      <td>42.30</td>\n",
       "      <td>0</td>\n",
       "      <td>1</td>\n",
       "      <td>0</td>\n",
       "      <td>0</td>\n",
       "      <td>1</td>\n",
       "      <td>0</td>\n",
       "      <td>0</td>\n",
       "      <td>0</td>\n",
       "      <td>1</td>\n",
       "      <td>...</td>\n",
       "      <td>1</td>\n",
       "      <td>1</td>\n",
       "      <td>0</td>\n",
       "      <td>0</td>\n",
       "      <td>0</td>\n",
       "      <td>0</td>\n",
       "      <td>0</td>\n",
       "      <td>0</td>\n",
       "      <td>0</td>\n",
       "      <td>1371</td>\n",
       "    </tr>\n",
       "    <tr>\n",
       "      <th>9237-HQITU</th>\n",
       "      <td>70.70</td>\n",
       "      <td>1</td>\n",
       "      <td>0</td>\n",
       "      <td>0</td>\n",
       "      <td>1</td>\n",
       "      <td>0</td>\n",
       "      <td>0</td>\n",
       "      <td>1</td>\n",
       "      <td>0</td>\n",
       "      <td>0</td>\n",
       "      <td>...</td>\n",
       "      <td>0</td>\n",
       "      <td>0</td>\n",
       "      <td>0</td>\n",
       "      <td>0</td>\n",
       "      <td>0</td>\n",
       "      <td>0</td>\n",
       "      <td>0</td>\n",
       "      <td>0</td>\n",
       "      <td>1</td>\n",
       "      <td>61</td>\n",
       "    </tr>\n",
       "    <tr>\n",
       "      <th>...</th>\n",
       "      <td>...</td>\n",
       "      <td>...</td>\n",
       "      <td>...</td>\n",
       "      <td>...</td>\n",
       "      <td>...</td>\n",
       "      <td>...</td>\n",
       "      <td>...</td>\n",
       "      <td>...</td>\n",
       "      <td>...</td>\n",
       "      <td>...</td>\n",
       "      <td>...</td>\n",
       "      <td>...</td>\n",
       "      <td>...</td>\n",
       "      <td>...</td>\n",
       "      <td>...</td>\n",
       "      <td>...</td>\n",
       "      <td>...</td>\n",
       "      <td>...</td>\n",
       "      <td>...</td>\n",
       "      <td>...</td>\n",
       "      <td>...</td>\n",
       "    </tr>\n",
       "    <tr>\n",
       "      <th>6840-RESVB</th>\n",
       "      <td>84.80</td>\n",
       "      <td>0</td>\n",
       "      <td>1</td>\n",
       "      <td>0</td>\n",
       "      <td>1</td>\n",
       "      <td>0</td>\n",
       "      <td>0</td>\n",
       "      <td>0</td>\n",
       "      <td>1</td>\n",
       "      <td>1</td>\n",
       "      <td>...</td>\n",
       "      <td>1</td>\n",
       "      <td>1</td>\n",
       "      <td>1</td>\n",
       "      <td>1</td>\n",
       "      <td>0</td>\n",
       "      <td>1</td>\n",
       "      <td>1</td>\n",
       "      <td>1</td>\n",
       "      <td>0</td>\n",
       "      <td>730</td>\n",
       "    </tr>\n",
       "    <tr>\n",
       "      <th>2234-XADUH</th>\n",
       "      <td>103.20</td>\n",
       "      <td>0</td>\n",
       "      <td>1</td>\n",
       "      <td>0</td>\n",
       "      <td>1</td>\n",
       "      <td>0</td>\n",
       "      <td>1</td>\n",
       "      <td>0</td>\n",
       "      <td>0</td>\n",
       "      <td>0</td>\n",
       "      <td>...</td>\n",
       "      <td>1</td>\n",
       "      <td>0</td>\n",
       "      <td>1</td>\n",
       "      <td>1</td>\n",
       "      <td>0</td>\n",
       "      <td>1</td>\n",
       "      <td>1</td>\n",
       "      <td>1</td>\n",
       "      <td>0</td>\n",
       "      <td>2191</td>\n",
       "    </tr>\n",
       "    <tr>\n",
       "      <th>4801-JZAZL</th>\n",
       "      <td>29.60</td>\n",
       "      <td>1</td>\n",
       "      <td>0</td>\n",
       "      <td>0</td>\n",
       "      <td>1</td>\n",
       "      <td>0</td>\n",
       "      <td>0</td>\n",
       "      <td>1</td>\n",
       "      <td>0</td>\n",
       "      <td>1</td>\n",
       "      <td>...</td>\n",
       "      <td>0</td>\n",
       "      <td>0</td>\n",
       "      <td>0</td>\n",
       "      <td>0</td>\n",
       "      <td>0</td>\n",
       "      <td>1</td>\n",
       "      <td>1</td>\n",
       "      <td>0</td>\n",
       "      <td>0</td>\n",
       "      <td>337</td>\n",
       "    </tr>\n",
       "    <tr>\n",
       "      <th>8361-LTMKD</th>\n",
       "      <td>74.40</td>\n",
       "      <td>1</td>\n",
       "      <td>0</td>\n",
       "      <td>0</td>\n",
       "      <td>1</td>\n",
       "      <td>0</td>\n",
       "      <td>0</td>\n",
       "      <td>0</td>\n",
       "      <td>1</td>\n",
       "      <td>0</td>\n",
       "      <td>...</td>\n",
       "      <td>0</td>\n",
       "      <td>0</td>\n",
       "      <td>0</td>\n",
       "      <td>0</td>\n",
       "      <td>1</td>\n",
       "      <td>1</td>\n",
       "      <td>0</td>\n",
       "      <td>1</td>\n",
       "      <td>1</td>\n",
       "      <td>123</td>\n",
       "    </tr>\n",
       "    <tr>\n",
       "      <th>3186-AJIEK</th>\n",
       "      <td>105.65</td>\n",
       "      <td>0</td>\n",
       "      <td>0</td>\n",
       "      <td>1</td>\n",
       "      <td>1</td>\n",
       "      <td>1</td>\n",
       "      <td>0</td>\n",
       "      <td>0</td>\n",
       "      <td>0</td>\n",
       "      <td>0</td>\n",
       "      <td>...</td>\n",
       "      <td>1</td>\n",
       "      <td>1</td>\n",
       "      <td>1</td>\n",
       "      <td>1</td>\n",
       "      <td>0</td>\n",
       "      <td>0</td>\n",
       "      <td>0</td>\n",
       "      <td>0</td>\n",
       "      <td>0</td>\n",
       "      <td>2010</td>\n",
       "    </tr>\n",
       "  </tbody>\n",
       "</table>\n",
       "<p>7043 rows × 23 columns</p>\n",
       "</div>"
      ],
      "text/plain": [
       "            monthly_charges  type_month-to-month  type_one year  \\\n",
       "customerID                                                        \n",
       "7590-VHVEG            29.85                    1              0   \n",
       "5575-GNVDE            56.95                    0              1   \n",
       "3668-QPYBK            53.85                    1              0   \n",
       "7795-CFOCW            42.30                    0              1   \n",
       "9237-HQITU            70.70                    1              0   \n",
       "...                     ...                  ...            ...   \n",
       "6840-RESVB            84.80                    0              1   \n",
       "2234-XADUH           103.20                    0              1   \n",
       "4801-JZAZL            29.60                    1              0   \n",
       "8361-LTMKD            74.40                    1              0   \n",
       "3186-AJIEK           105.65                    0              0   \n",
       "\n",
       "            type_two year  paperless_billing_1  \\\n",
       "customerID                                       \n",
       "7590-VHVEG              0                    1   \n",
       "5575-GNVDE              0                    0   \n",
       "3668-QPYBK              0                    1   \n",
       "7795-CFOCW              0                    0   \n",
       "9237-HQITU              0                    1   \n",
       "...                   ...                  ...   \n",
       "6840-RESVB              0                    1   \n",
       "2234-XADUH              0                    1   \n",
       "4801-JZAZL              0                    1   \n",
       "8361-LTMKD              0                    1   \n",
       "3186-AJIEK              1                    1   \n",
       "\n",
       "            payment_method_bank transfer (automatic)  \\\n",
       "customerID                                             \n",
       "7590-VHVEG                                         0   \n",
       "5575-GNVDE                                         0   \n",
       "3668-QPYBK                                         0   \n",
       "7795-CFOCW                                         1   \n",
       "9237-HQITU                                         0   \n",
       "...                                              ...   \n",
       "6840-RESVB                                         0   \n",
       "2234-XADUH                                         0   \n",
       "4801-JZAZL                                         0   \n",
       "8361-LTMKD                                         0   \n",
       "3186-AJIEK                                         1   \n",
       "\n",
       "            payment_method_credit card (automatic)  \\\n",
       "customerID                                           \n",
       "7590-VHVEG                                       0   \n",
       "5575-GNVDE                                       0   \n",
       "3668-QPYBK                                       0   \n",
       "7795-CFOCW                                       0   \n",
       "9237-HQITU                                       0   \n",
       "...                                            ...   \n",
       "6840-RESVB                                       0   \n",
       "2234-XADUH                                       1   \n",
       "4801-JZAZL                                       0   \n",
       "8361-LTMKD                                       0   \n",
       "3186-AJIEK                                       0   \n",
       "\n",
       "            payment_method_electronic check  payment_method_mailed check  \\\n",
       "customerID                                                                 \n",
       "7590-VHVEG                                1                            0   \n",
       "5575-GNVDE                                0                            1   \n",
       "3668-QPYBK                                0                            1   \n",
       "7795-CFOCW                                0                            0   \n",
       "9237-HQITU                                1                            0   \n",
       "...                                     ...                          ...   \n",
       "6840-RESVB                                0                            1   \n",
       "2234-XADUH                                0                            0   \n",
       "4801-JZAZL                                1                            0   \n",
       "8361-LTMKD                                0                            1   \n",
       "3186-AJIEK                                0                            0   \n",
       "\n",
       "            internet_service_dsl  ...  device_protection_1  tech_support_1  \\\n",
       "customerID                        ...                                        \n",
       "7590-VHVEG                     1  ...                    0               0   \n",
       "5575-GNVDE                     1  ...                    1               0   \n",
       "3668-QPYBK                     1  ...                    0               0   \n",
       "7795-CFOCW                     1  ...                    1               1   \n",
       "9237-HQITU                     0  ...                    0               0   \n",
       "...                          ...  ...                  ...             ...   \n",
       "6840-RESVB                     1  ...                    1               1   \n",
       "2234-XADUH                     0  ...                    1               0   \n",
       "4801-JZAZL                     1  ...                    0               0   \n",
       "8361-LTMKD                     0  ...                    0               0   \n",
       "3186-AJIEK                     0  ...                    1               1   \n",
       "\n",
       "            streaming_tv_1  streaming_movies_1  senior_citizen_1  partner_1  \\\n",
       "customerID                                                                    \n",
       "7590-VHVEG               0                   0                 0          1   \n",
       "5575-GNVDE               0                   0                 0          0   \n",
       "3668-QPYBK               0                   0                 0          0   \n",
       "7795-CFOCW               0                   0                 0          0   \n",
       "9237-HQITU               0                   0                 0          0   \n",
       "...                    ...                 ...               ...        ...   \n",
       "6840-RESVB               1                   1                 0          1   \n",
       "2234-XADUH               1                   1                 0          1   \n",
       "4801-JZAZL               0                   0                 0          1   \n",
       "8361-LTMKD               0                   0                 1          1   \n",
       "3186-AJIEK               1                   1                 0          0   \n",
       "\n",
       "            dependents_1  multiple_lines_1  exit  duration  \n",
       "customerID                                                  \n",
       "7590-VHVEG             0                 0     0        31  \n",
       "5575-GNVDE             0                 0     0      1036  \n",
       "3668-QPYBK             0                 0     1        61  \n",
       "7795-CFOCW             0                 0     0      1371  \n",
       "9237-HQITU             0                 0     1        61  \n",
       "...                  ...               ...   ...       ...  \n",
       "6840-RESVB             1                 1     0       730  \n",
       "2234-XADUH             1                 1     0      2191  \n",
       "4801-JZAZL             1                 0     0       337  \n",
       "8361-LTMKD             0                 1     1       123  \n",
       "3186-AJIEK             0                 0     0      2010  \n",
       "\n",
       "[7043 rows x 23 columns]"
      ]
     },
     "execution_count": 36,
     "metadata": {},
     "output_type": "execute_result"
    }
   ],
   "source": [
    "df_ohe"
   ]
  },
  {
   "cell_type": "code",
   "execution_count": 37,
   "id": "426b8226",
   "metadata": {},
   "outputs": [],
   "source": [
    "X = df_ohe.drop(['exit'], axis=1)\n",
    "y = df_ohe['exit']"
   ]
  },
  {
   "cell_type": "code",
   "execution_count": 38,
   "id": "b548e3b9",
   "metadata": {},
   "outputs": [
    {
     "data": {
      "image/png": "[encoded data removed]",
      "text/plain": [
       "<Figure size 432x288 with 1 Axes>"
      ]
     },
     "metadata": {},
     "output_type": "display_data"
    }
   ],
   "source": [
    "classes = y.value_counts()\n",
    "plt.title('Баланс классов')\n",
    "plt.pie(classes, labels=classes.index, autopct='%.0f%%');"
   ]
  },
  {
   "cell_type": "markdown",
   "id": "6a72c0a0",
   "metadata": {},
   "source": [
    "Наблюдаем дисбаланс класссов, с которым позже будем бороться"
   ]
  },
  {
   "cell_type": "markdown",
   "id": "e69655c0",
   "metadata": {},
   "source": [
    "## Обучение модели"
   ]
  },
  {
   "cell_type": "markdown",
   "id": "943e16ed",
   "metadata": {},
   "source": [
    "### Функции для метрик"
   ]
  },
  {
   "cell_type": "code",
   "execution_count": 39,
   "id": "db2af568",
   "metadata": {},
   "outputs": [],
   "source": [
    "def plot_roc_curve(target_test, predictions):\n",
    "    print('ROC-AUC score', roc_auc_score(target_test, predictions))\n",
    "    fpr, tpr, thresholds = roc_curve(target_test, predictions)\n",
    "    plt.figure(figsize=(11, 5))\n",
    "    plt.plot(fpr, tpr)  \n",
    "    plt.plot([0, 1], [0, 1], linestyle='--') \n",
    "    plt.xlim([0.0, 1.0])\n",
    "    plt.ylim([0.0, 1.0]) \n",
    "    plt.xlabel('False Positive Rate')\n",
    "    plt.ylabel('True Positive Rate')  \n",
    "    plt.title('ROC-кривая')  \n",
    "    plt.show()"
   ]
  },
  {
   "cell_type": "code",
   "execution_count": 40,
   "id": "c6cb7165",
   "metadata": {},
   "outputs": [],
   "source": [
    "def scores(model,X,y):\n",
    "    model_pred = model.predict(X)\n",
    "    model_pred_prob = model.predict_proba(X)\n",
    "    auc_roc = roc_auc_score(y, model_pred_prob[:, 1])\n",
    "    f1_train = 0\n",
    "    treshold_max = 0\n",
    "    for threshold in np.arange(0, 0.9, 0.01):\n",
    "        predicted = model_pred_prob[:, 1] > threshold\n",
    "        f1 = f1_score(y, predicted)\n",
    "        if f1_train < f1:\n",
    "            f1_train = f1\n",
    "            treshold_max = threshold\n",
    "    print(f'F1: {f1_train} , порог {treshold_max}')\n",
    "    plot_roc_curve(y, model_pred_prob[:, 1])\n",
    "    "
   ]
  },
  {
   "cell_type": "markdown",
   "id": "a55a9327",
   "metadata": {},
   "source": [
    "### Подготовка данных"
   ]
  },
  {
   "cell_type": "code",
   "execution_count": 41,
   "id": "e3ab0260",
   "metadata": {},
   "outputs": [],
   "source": [
    "X_train, X_test, y_train, y_test = train_test_split(X, y, test_size =0.25, random_state=290822, shuffle=True, stratify=y)"
   ]
  },
  {
   "cell_type": "markdown",
   "id": "9853033e",
   "metadata": {},
   "source": [
    "Проскалируем данные, чтобы не было перевеса каких-то признаков"
   ]
  },
  {
   "cell_type": "code",
   "execution_count": 42,
   "id": "9696a4b1",
   "metadata": {},
   "outputs": [],
   "source": [
    "numeric_columns = ['monthly_charges','duration']\n",
    "scaler = StandardScaler()\n",
    "\n",
    "scaler.fit(X_train[numeric_columns])\n",
    "\n",
    "X_train = X_train.copy()\n",
    "X_train[numeric_columns] = scaler.transform(X_train[numeric_columns])\n",
    "\n",
    "X_test = X_test.copy()\n",
    "X_test[numeric_columns] = scaler.transform(X_test[numeric_columns])"
   ]
  },
  {
   "cell_type": "markdown",
   "id": "f41d665a",
   "metadata": {},
   "source": [
    "Так как мы помним, что классы несбалансированы, то дополним их синтетическими данными"
   ]
  },
  {
   "cell_type": "code",
   "execution_count": 43,
   "id": "e655eea8",
   "metadata": {},
   "outputs": [],
   "source": [
    "smote = SMOTE(random_state=290822)\n",
    "X_train, y_train = smote.fit_resample(X_train, y_train)"
   ]
  },
  {
   "cell_type": "code",
   "execution_count": 44,
   "id": "d32cb2cd",
   "metadata": {},
   "outputs": [
    {
     "name": "stdout",
     "output_type": "stream",
     "text": [
      "Количество строк в y_train по классам: [3872 3872]\n",
      "Количество строк в y_test по классам: [1291  470]\n"
     ]
    }
   ],
   "source": [
    "print(f\"Количество строк в y_train по классам: {np.bincount(y_train)}\")\n",
    "print(f\"Количество строк в y_test по классам: {np.bincount(y_test)}\")"
   ]
  },
  {
   "cell_type": "code",
   "execution_count": 45,
   "id": "3b8c1788",
   "metadata": {},
   "outputs": [
    {
     "data": {
      "image/png": "[encoded data removed]",
      "text/plain": [
       "<Figure size 432x288 with 1 Axes>"
      ]
     },
     "metadata": {},
     "output_type": "display_data"
    }
   ],
   "source": [
    "classes = y_train.value_counts()\n",
    "plt.title('Баланс классов')\n",
    "plt.pie(classes, labels=classes.index, autopct='%.0f%%');"
   ]
  },
  {
   "cell_type": "code",
   "execution_count": 75,
   "id": "350c6552",
   "metadata": {},
   "outputs": [
    {
     "data": {
      "text/plain": [
       "Index(['monthly_charges', 'type_month-to-month', 'type_one year',\n",
       "       'type_two year', 'paperless_billing_1',\n",
       "       'payment_method_bank transfer (automatic)',\n",
       "       'payment_method_credit card (automatic)',\n",
       "       'payment_method_electronic check', 'payment_method_mailed check',\n",
       "       'internet_service_dsl', 'internet_service_fiber optic',\n",
       "       'online_security_1', 'online_backup_1', 'device_protection_1',\n",
       "       'tech_support_1', 'streaming_tv_1', 'streaming_movies_1',\n",
       "       'senior_citizen_1', 'partner_1', 'dependents_1', 'multiple_lines_1',\n",
       "       'duration'],\n",
       "      dtype='object')"
      ]
     },
     "execution_count": 75,
     "metadata": {},
     "output_type": "execute_result"
    }
   ],
   "source": [
    "X_train.columns"
   ]
  },
  {
   "cell_type": "markdown",
   "id": "05d09434",
   "metadata": {},
   "source": [
    "Классы сбалансированы"
   ]
  },
  {
   "cell_type": "markdown",
   "id": "e89844e9",
   "metadata": {},
   "source": [
    "### Dummy"
   ]
  },
  {
   "cell_type": "code",
   "execution_count": 47,
   "id": "d53a15a9",
   "metadata": {},
   "outputs": [
    {
     "name": "stdout",
     "output_type": "stream",
     "text": [
      "F1: 0.6666666666666666 , порог 0.0\n",
      "ROC-AUC score 0.5\n"
     ]
    },
    {
     "data": {
      "image/png": "[encoded data removed]",
      "text/plain": [
       "<Figure size 792x360 with 1 Axes>"
      ]
     },
     "metadata": {
      "needs_background": "light"
     },
     "output_type": "display_data"
    }
   ],
   "source": [
    "dummy = DummyClassifier()\n",
    "dummy.fit(X_train, y_train)\n",
    "predict_dummy = dummy.predict(X_train)\n",
    "scores(dummy,X_train,y_train)"
   ]
  },
  {
   "cell_type": "markdown",
   "id": "7751d839",
   "metadata": {},
   "source": [
    "### LogisticRegression"
   ]
  },
  {
   "cell_type": "code",
   "execution_count": 48,
   "id": "660912e6",
   "metadata": {},
   "outputs": [],
   "source": [
    "lr =  LogisticRegression(random_state=290822)"
   ]
  },
  {
   "cell_type": "code",
   "execution_count": 49,
   "id": "4dd0f57e",
   "metadata": {},
   "outputs": [],
   "source": [
    "search_spaces = {'solver': ('lbfgs', 'liblinear')}"
   ]
  },
  {
   "cell_type": "code",
   "execution_count": 50,
   "id": "96da011a",
   "metadata": {},
   "outputs": [],
   "source": [
    "opt = BayesSearchCV(lr,\n",
    "                    search_spaces,\n",
    "                    scoring=\"roc_auc\",\n",
    "                    cv=3,\n",
    "                    n_iter=10,\n",
    "                    n_jobs=1\n",
    "                    )"
   ]
  },
  {
   "cell_type": "code",
   "execution_count": 51,
   "id": "643fafbc",
   "metadata": {},
   "outputs": [
    {
     "name": "stdout",
     "output_type": "stream",
     "text": [
      "Wall time: 2.18 s\n"
     ]
    },
    {
     "data": {
      "text/plain": [
       "OrderedDict([('solver', 'lbfgs')])"
      ]
     },
     "execution_count": 51,
     "metadata": {},
     "output_type": "execute_result"
    }
   ],
   "source": [
    "%%time\n",
    "opt.fit(X_train, y_train)\n",
    "opt.best_params_"
   ]
  },
  {
   "cell_type": "code",
   "execution_count": 52,
   "id": "37c1ed6f",
   "metadata": {},
   "outputs": [],
   "source": [
    "lr = opt.best_estimator_"
   ]
  },
  {
   "cell_type": "code",
   "execution_count": 53,
   "id": "eee85090",
   "metadata": {},
   "outputs": [
    {
     "name": "stdout",
     "output_type": "stream",
     "text": [
      "F1: 0.8042838648934918 , порог 0.4\n",
      "ROC-AUC score 0.8721644603019773\n"
     ]
    },
    {
     "data": {
      "image/png": "[encoded data removed]",
      "text/plain": [
       "<Figure size 792x360 with 1 Axes>"
      ]
     },
     "metadata": {
      "needs_background": "light"
     },
     "output_type": "display_data"
    },
    {
     "name": "stdout",
     "output_type": "stream",
     "text": [
      "Wall time: 490 ms\n"
     ]
    }
   ],
   "source": [
    "%%time\n",
    "scores(lr, X_train,y_train)"
   ]
  },
  {
   "cell_type": "code",
   "execution_count": 54,
   "id": "8e95b6a6",
   "metadata": {},
   "outputs": [
    {
     "data": {
      "text/plain": [
       "0.8616159976218003"
      ]
     },
     "execution_count": 54,
     "metadata": {},
     "output_type": "execute_result"
    }
   ],
   "source": [
    "pd.DataFrame(opt.cv_results_)['mean_test_score'].max()"
   ]
  },
  {
   "cell_type": "code",
   "execution_count": 55,
   "id": "e36771b5",
   "metadata": {},
   "outputs": [
    {
     "data": {
      "text/plain": [
       "0.8616159976218003"
      ]
     },
     "execution_count": 55,
     "metadata": {},
     "output_type": "execute_result"
    }
   ],
   "source": [
    "opt.best_score_"
   ]
  },
  {
   "cell_type": "markdown",
   "id": "deef96e5",
   "metadata": {},
   "source": [
    "### CatBoost"
   ]
  },
  {
   "cell_type": "code",
   "execution_count": 113,
   "id": "94856f03",
   "metadata": {},
   "outputs": [],
   "source": [
    "clf = CatBoostClassifier(random_seed=290822, verbose=False)\n",
    "search_spaces = {'iterations': Integer(100, 1000),\n",
    "                 'depth': Integer(1, 8),\n",
    "                 'learning_rate': Real(0.01, 1.0, 'log-uniform'),\n",
    "                 'l2_leaf_reg': Integer(2, 30)}"
   ]
  },
  {
   "cell_type": "code",
   "execution_count": 114,
   "id": "f3bcd00f",
   "metadata": {},
   "outputs": [],
   "source": [
    "opt = BayesSearchCV(clf,\n",
    "                    search_spaces,\n",
    "                    scoring=\"roc_auc\",\n",
    "                    cv=3,\n",
    "                    n_iter=10,\n",
    "                    n_jobs=1,\n",
    "                    random_state=290822\n",
    "                   )"
   ]
  },
  {
   "cell_type": "code",
   "execution_count": null,
   "id": "1d3aa15f",
   "metadata": {},
   "outputs": [],
   "source": [
    "%%time\n",
    "opt.fit(X_train, y_train)\n",
    "opt.best_params_"
   ]
  },
  {
   "cell_type": "code",
   "execution_count": null,
   "id": "8904034d",
   "metadata": {},
   "outputs": [],
   "source": [
    "cat = opt.best_estimator_"
   ]
  },
  {
   "cell_type": "code",
   "execution_count": null,
   "id": "c26888db",
   "metadata": {},
   "outputs": [],
   "source": [
    "%%time\n",
    "scores(cat, X_train, y_train)"
   ]
  },
  {
   "cell_type": "markdown",
   "id": "ad260a5a",
   "metadata": {},
   "source": [
    "Выглядит оч красиво, почаще бы так"
   ]
  },
  {
   "cell_type": "code",
   "execution_count": null,
   "id": "75ecd55c",
   "metadata": {},
   "outputs": [],
   "source": [
    "pd.DataFrame(opt.cv_results_)['mean_test_score'].max()"
   ]
  },
  {
   "cell_type": "code",
   "execution_count": 112,
   "id": "43c567d0",
   "metadata": {},
   "outputs": [
    {
     "data": {
      "text/plain": [
       "0.9550395319313433"
      ]
     },
     "execution_count": 112,
     "metadata": {},
     "output_type": "execute_result"
    }
   ],
   "source": [
    "opt.best_score_"
   ]
  },
  {
   "cell_type": "markdown",
   "id": "d2cae269",
   "metadata": {},
   "source": [
    "### LGBM"
   ]
  },
  {
   "cell_type": "code",
   "execution_count": 100,
   "id": "5d5cf199",
   "metadata": {},
   "outputs": [],
   "source": [
    "lgbm = LGBMClassifier(random_seed=290822)\n",
    "search_spaces = {'max_depth': Integer(1, 8),\n",
    "                 'learning_rate': Real(0.01, 1.0, 'log-uniform')}"
   ]
  },
  {
   "cell_type": "code",
   "execution_count": 101,
   "id": "4cae19cb",
   "metadata": {},
   "outputs": [],
   "source": [
    "opt = BayesSearchCV(lgbm,\n",
    "                    search_spaces,\n",
    "                    scoring=\"roc_auc\",\n",
    "                    cv=3,\n",
    "                    n_iter=10,\n",
    "                    n_jobs=1,\n",
    "                    random_state=290822\n",
    "                   )"
   ]
  },
  {
   "cell_type": "code",
   "execution_count": 102,
   "id": "badaf0be",
   "metadata": {},
   "outputs": [
    {
     "name": "stdout",
     "output_type": "stream",
     "text": [
      "Wall time: 4.56 s\n"
     ]
    },
    {
     "data": {
      "text/plain": [
       "OrderedDict([('learning_rate', 0.25637179355274214), ('max_depth', 5)])"
      ]
     },
     "execution_count": 102,
     "metadata": {},
     "output_type": "execute_result"
    }
   ],
   "source": [
    "%%time\n",
    "opt.fit(X_train, y_train)\n",
    "opt.best_params_"
   ]
  },
  {
   "cell_type": "code",
   "execution_count": 103,
   "id": "db6ec33c",
   "metadata": {},
   "outputs": [],
   "source": [
    "lgbm = opt.best_estimator_"
   ]
  },
  {
   "cell_type": "code",
   "execution_count": 104,
   "id": "0297f23f",
   "metadata": {},
   "outputs": [
    {
     "name": "stdout",
     "output_type": "stream",
     "text": [
      "F1: 0.9408299180327869 , порог 0.48\n",
      "ROC-AUC score 0.9872831098776552\n"
     ]
    },
    {
     "data": {
      "image/png": "[encoded data removed]",
      "text/plain": [
       "<Figure size 792x360 with 1 Axes>"
      ]
     },
     "metadata": {
      "needs_background": "light"
     },
     "output_type": "display_data"
    },
    {
     "name": "stdout",
     "output_type": "stream",
     "text": [
      "Wall time: 543 ms\n"
     ]
    }
   ],
   "source": [
    "%%time\n",
    "scores(lgbm, X_train,y_train)"
   ]
  },
  {
   "cell_type": "code",
   "execution_count": 105,
   "id": "13e54ab8",
   "metadata": {},
   "outputs": [
    {
     "data": {
      "text/plain": [
       "0.9408004057056581"
      ]
     },
     "execution_count": 105,
     "metadata": {},
     "output_type": "execute_result"
    }
   ],
   "source": [
    "pd.DataFrame(opt.cv_results_)['mean_test_score'].max()"
   ]
  },
  {
   "cell_type": "code",
   "execution_count": 99,
   "id": "6374a5d8",
   "metadata": {},
   "outputs": [
    {
     "data": {
      "text/plain": [
       "0.9408004057056581"
      ]
     },
     "execution_count": 99,
     "metadata": {},
     "output_type": "execute_result"
    }
   ],
   "source": [
    "opt.best_score_"
   ]
  },
  {
   "cell_type": "markdown",
   "id": "d2bd2cab",
   "metadata": {},
   "source": [
    "### Выводы"
   ]
  },
  {
   "cell_type": "code",
   "execution_count": 70,
   "id": "1a063425",
   "metadata": {},
   "outputs": [],
   "source": [
    "data = {'Время обучения(сек)':[1.70, 48.9, 2.64], \n",
    "        'Время предсказания(мсек)':[432, 401, 463], \n",
    "        'ROC-AUC':[0.861, 0.955, 0.941]}\n",
    "index=['LogisticRegression', 'CatBoost', 'LightGBM']"
   ]
  },
  {
   "cell_type": "code",
   "execution_count": 71,
   "id": "f3f55e78",
   "metadata": {},
   "outputs": [
    {
     "data": {
      "text/html": [
       "<div>\n",
       "<style scoped>\n",
       "    .dataframe tbody tr th:only-of-type {\n",
       "        vertical-align: middle;\n",
       "    }\n",
       "\n",
       "    .dataframe tbody tr th {\n",
       "        vertical-align: top;\n",
       "    }\n",
       "\n",
       "    .dataframe thead th {\n",
       "        text-align: right;\n",
       "    }\n",
       "</style>\n",
       "<table border=\"1\" class=\"dataframe\">\n",
       "  <thead>\n",
       "    <tr style=\"text-align: right;\">\n",
       "      <th></th>\n",
       "      <th>Время обучения(сек)</th>\n",
       "      <th>Время предсказания(мсек)</th>\n",
       "      <th>ROC-AUC</th>\n",
       "    </tr>\n",
       "  </thead>\n",
       "  <tbody>\n",
       "    <tr>\n",
       "      <th>LogisticRegression</th>\n",
       "      <td>1.70</td>\n",
       "      <td>432</td>\n",
       "      <td>0.861</td>\n",
       "    </tr>\n",
       "    <tr>\n",
       "      <th>CatBoost</th>\n",
       "      <td>48.90</td>\n",
       "      <td>401</td>\n",
       "      <td>0.955</td>\n",
       "    </tr>\n",
       "    <tr>\n",
       "      <th>LightGBM</th>\n",
       "      <td>2.64</td>\n",
       "      <td>463</td>\n",
       "      <td>0.941</td>\n",
       "    </tr>\n",
       "  </tbody>\n",
       "</table>\n",
       "</div>"
      ],
      "text/plain": [
       "                    Время обучения(сек)  Время предсказания(мсек)  ROC-AUC\n",
       "LogisticRegression                 1.70                       432    0.861\n",
       "CatBoost                          48.90                       401    0.955\n",
       "LightGBM                           2.64                       463    0.941"
      ]
     },
     "execution_count": 71,
     "metadata": {},
     "output_type": "execute_result"
    }
   ],
   "source": [
    "final = pd.DataFrame(data=data, index=index)\n",
    "final"
   ]
  },
  {
   "cell_type": "markdown",
   "id": "2d012384",
   "metadata": {},
   "source": [
    "Таким образом лучшая модель на 3х фолдах CV стала CatBoost со значением ROC-AUC: 0.954"
   ]
  },
  {
   "cell_type": "markdown",
   "id": "f9135ba7",
   "metadata": {},
   "source": [
    "## Итоговый тест"
   ]
  },
  {
   "cell_type": "code",
   "execution_count": 72,
   "id": "b3eff9ce",
   "metadata": {},
   "outputs": [
    {
     "name": "stdout",
     "output_type": "stream",
     "text": [
      "F1: 0.7537154989384289 , порог 0.47000000000000003\n",
      "ROC-AUC score 0.9194521812218797\n"
     ]
    },
    {
     "data": {
      "image/png": "[encoded data removed]",
      "text/plain": [
       "<Figure size 792x360 with 1 Axes>"
      ]
     },
     "metadata": {
      "needs_background": "light"
     },
     "output_type": "display_data"
    }
   ],
   "source": [
    "scores(cat, X_test, y_test)"
   ]
  },
  {
   "cell_type": "markdown",
   "id": "f52b4ff0",
   "metadata": {},
   "source": [
    "На тестовой выборке модель тоже неплохо себя показала: ROC-AUC = 0.919"
   ]
  },
  {
   "cell_type": "code",
   "execution_count": 73,
   "id": "2e999caa",
   "metadata": {},
   "outputs": [
    {
     "name": "stdout",
     "output_type": "stream",
     "text": [
      "              precision    recall  f1-score   support\n",
      "\n",
      "           0       0.91      0.92      0.91      1291\n",
      "           1       0.77      0.74      0.75       470\n",
      "\n",
      "    accuracy                           0.87      1761\n",
      "   macro avg       0.84      0.83      0.83      1761\n",
      "weighted avg       0.87      0.87      0.87      1761\n",
      "\n"
     ]
    }
   ],
   "source": [
    "print(classification_report(y_test, cat.predict(X_test)))"
   ]
  },
  {
   "cell_type": "markdown",
   "id": "64276079",
   "metadata": {},
   "source": [
    "Модель отлично предсказывает тех, кто останется пользоваться услугами компании, и чуть хуже предсказывает тех, кто отвалится"
   ]
  },
  {
   "cell_type": "code",
   "execution_count": 74,
   "id": "40cc7e6f",
   "metadata": {},
   "outputs": [
    {
     "data": {
      "image/png": "[encoded data removed]",
      "text/plain": [
       "<Figure size 720x504 with 1 Axes>"
      ]
     },
     "metadata": {
      "needs_background": "light"
     },
     "output_type": "display_data"
    }
   ],
   "source": [
    "fea_imp = pd.DataFrame({'imp': cat.feature_importances_, 'col': X.columns})\n",
    "fea_imp = fea_imp.sort_values(['imp', 'col'], ascending=[True, False]).iloc[-30:]\n",
    "fea_imp.plot(kind='barh', x='col', y='imp', figsize=(10, 7), legend=None)\n",
    "plt.title('CatBoost - Feature Importance')\n",
    "plt.ylabel('Features')\n",
    "plt.xlabel('Importance');"
   ]
  },
  {
   "cell_type": "markdown",
   "id": "5bb318ba",
   "metadata": {},
   "source": [
    "Самым важным признаком для предсказания оказалась: длительность пользования услугами"
   ]
  },
  {
   "cell_type": "markdown",
   "id": "fea67843",
   "metadata": {},
   "source": [
    "## Отчет"
   ]
  },
  {
   "cell_type": "markdown",
   "id": "ee4aa9c0",
   "metadata": {},
   "source": [
    "Мы провели работу, соответственно плану:  \n",
    "1) **Подготовили данные,**  \n",
    "\n",
    "Привесли названия столбцов к змеиному регистру;  \n",
    "Изменили типы данных;  \n",
    "Добавили столбец с длительностью обслуживания;  \n",
    "Удалили неинформативные столбцы;  \n",
    "Составили единую таблицу со всеми данными для модели;  \n",
    "Провести прямое кодирование признаков.  \n",
    "\n",
    "2) **Подготовили признаки.**\n",
    "\n",
    "Выделили целевой признак как факт окончания обслуживания;  \n",
    "Разбили датасет на выборки;  \n",
    "Разделили на features и target со смешиванием данных.  \n",
    "\n",
    "3) **Выбрали модели.**\n",
    "\n",
    "Использовали и обучение моделей классификации CatBoost, LGBM и LogisticRegression  \n",
    "Оценили эффективности моделей на кросс-валидации  \n",
    "Провели финальное тестирование лучшей модели.\n",
    "\n",
    "Таким образом мы чётко двигались по плану, однаком в ходе работы столкнулись со сложностью в виде дисбаланса классов, который пришлось устранять с помощью SMOTE библитотеки imbalanced-learn.\n",
    "Лучшей моделью оказался CatBoost с гиперпараметрами:([('depth', 4), ('iterations', 809), ('l2_leaf_reg', 13), ('learning_rate', 0.3317279722609755)], со значением ROC_AUC на тестовой выборке: 0.931. \n",
    "\n",
    "В модели мы использовали признаки:\n",
    " * ['monthly_charges', 'type_month-to-month', 'type_one year',\n",
    " *     'type_two year', 'paperless_billing_1',\n",
    " *    'payment_method_bank transfer (automatic)',\n",
    " *   'payment_method_credit card (automatic)',\n",
    " *  'payment_method_electronic check', 'payment_method_mailed check',\n",
    " * 'internet_service_dsl', 'internet_service_fiber optic',\n",
    " * 'online_security_1', 'online_backup_1', 'device_protection_1',\n",
    " * tech_support_1', 'streaming_tv_1', 'streaming_movies_1',\n",
    " * 'senior_citizen_1', 'partner_1', 'dependents_1', 'multiple_lines_1',\n",
    " * 'duration'(созданный признак 'длительность пользования услугами']"
   ]
  }
 ],
 "metadata": {
  "ExecuteTimeLog": [
   {
    "duration": 140,
    "start_time": "2022-09-04T09:55:08.339Z"
   },
   {
    "duration": 106,
    "start_time": "2022-09-04T09:58:06.644Z"
   },
   {
    "duration": 89,
    "start_time": "2022-09-04T10:15:34.334Z"
   },
   {
    "duration": 60,
    "start_time": "2022-09-06T17:32:11.381Z"
   },
   {
    "duration": 66,
    "start_time": "2022-09-06T17:33:18.617Z"
   },
   {
    "duration": 3,
    "start_time": "2022-09-06T19:17:13.757Z"
   },
   {
    "duration": 1297,
    "start_time": "2022-09-06T19:17:13.765Z"
   },
   {
    "duration": 0,
    "start_time": "2022-09-06T19:17:15.066Z"
   },
   {
    "duration": 0,
    "start_time": "2022-09-06T19:17:15.067Z"
   },
   {
    "duration": 0,
    "start_time": "2022-09-06T19:17:15.069Z"
   },
   {
    "duration": 0,
    "start_time": "2022-09-06T19:17:15.070Z"
   },
   {
    "duration": 0,
    "start_time": "2022-09-06T19:17:15.071Z"
   },
   {
    "duration": 0,
    "start_time": "2022-09-06T19:17:15.072Z"
   },
   {
    "duration": 0,
    "start_time": "2022-09-06T19:17:15.073Z"
   },
   {
    "duration": 0,
    "start_time": "2022-09-06T19:17:15.074Z"
   },
   {
    "duration": 0,
    "start_time": "2022-09-06T19:17:15.076Z"
   },
   {
    "duration": 0,
    "start_time": "2022-09-06T19:17:15.077Z"
   },
   {
    "duration": 0,
    "start_time": "2022-09-06T19:17:15.078Z"
   },
   {
    "duration": 0,
    "start_time": "2022-09-06T19:17:15.079Z"
   },
   {
    "duration": 0,
    "start_time": "2022-09-06T19:17:15.106Z"
   },
   {
    "duration": 0,
    "start_time": "2022-09-06T19:17:15.107Z"
   },
   {
    "duration": 0,
    "start_time": "2022-09-06T19:17:15.108Z"
   },
   {
    "duration": 0,
    "start_time": "2022-09-06T19:17:15.109Z"
   },
   {
    "duration": 0,
    "start_time": "2022-09-06T19:17:15.110Z"
   },
   {
    "duration": 0,
    "start_time": "2022-09-06T19:17:15.112Z"
   },
   {
    "duration": 0,
    "start_time": "2022-09-06T19:17:15.113Z"
   },
   {
    "duration": 0,
    "start_time": "2022-09-06T19:17:15.114Z"
   },
   {
    "duration": 0,
    "start_time": "2022-09-06T19:17:15.115Z"
   },
   {
    "duration": 0,
    "start_time": "2022-09-06T19:17:15.116Z"
   },
   {
    "duration": 0,
    "start_time": "2022-09-06T19:17:15.117Z"
   },
   {
    "duration": 0,
    "start_time": "2022-09-06T19:17:15.118Z"
   },
   {
    "duration": 0,
    "start_time": "2022-09-06T19:17:15.119Z"
   },
   {
    "duration": 0,
    "start_time": "2022-09-06T19:17:15.120Z"
   },
   {
    "duration": 0,
    "start_time": "2022-09-06T19:17:15.121Z"
   },
   {
    "duration": 0,
    "start_time": "2022-09-06T19:17:15.122Z"
   },
   {
    "duration": 0,
    "start_time": "2022-09-06T19:17:15.123Z"
   },
   {
    "duration": 0,
    "start_time": "2022-09-06T19:17:15.123Z"
   },
   {
    "duration": 0,
    "start_time": "2022-09-06T19:17:15.125Z"
   },
   {
    "duration": 0,
    "start_time": "2022-09-06T19:17:15.125Z"
   },
   {
    "duration": 0,
    "start_time": "2022-09-06T19:17:15.126Z"
   },
   {
    "duration": 0,
    "start_time": "2022-09-06T19:17:15.127Z"
   },
   {
    "duration": 0,
    "start_time": "2022-09-06T19:17:15.128Z"
   },
   {
    "duration": 0,
    "start_time": "2022-09-06T19:17:15.129Z"
   },
   {
    "duration": 0,
    "start_time": "2022-09-06T19:17:15.130Z"
   },
   {
    "duration": 0,
    "start_time": "2022-09-06T19:17:15.131Z"
   },
   {
    "duration": 0,
    "start_time": "2022-09-06T19:17:15.132Z"
   },
   {
    "duration": 0,
    "start_time": "2022-09-06T19:17:15.133Z"
   },
   {
    "duration": 0,
    "start_time": "2022-09-06T19:17:15.133Z"
   },
   {
    "duration": 0,
    "start_time": "2022-09-06T19:17:15.134Z"
   },
   {
    "duration": 0,
    "start_time": "2022-09-06T19:17:15.135Z"
   },
   {
    "duration": 0,
    "start_time": "2022-09-06T19:17:15.136Z"
   },
   {
    "duration": 0,
    "start_time": "2022-09-06T19:17:15.137Z"
   },
   {
    "duration": 0,
    "start_time": "2022-09-06T19:17:15.138Z"
   },
   {
    "duration": 0,
    "start_time": "2022-09-06T19:17:15.139Z"
   },
   {
    "duration": 0,
    "start_time": "2022-09-06T19:17:15.140Z"
   },
   {
    "duration": 0,
    "start_time": "2022-09-06T19:17:15.141Z"
   },
   {
    "duration": 0,
    "start_time": "2022-09-06T19:17:15.142Z"
   },
   {
    "duration": 0,
    "start_time": "2022-09-06T19:17:15.143Z"
   },
   {
    "duration": 0,
    "start_time": "2022-09-06T19:17:15.206Z"
   },
   {
    "duration": 0,
    "start_time": "2022-09-06T19:17:15.207Z"
   },
   {
    "duration": 0,
    "start_time": "2022-09-06T19:17:15.208Z"
   },
   {
    "duration": 0,
    "start_time": "2022-09-06T19:17:15.209Z"
   },
   {
    "duration": 0,
    "start_time": "2022-09-06T19:17:15.210Z"
   },
   {
    "duration": 0,
    "start_time": "2022-09-06T19:17:15.211Z"
   },
   {
    "duration": 0,
    "start_time": "2022-09-06T19:17:15.212Z"
   },
   {
    "duration": 0,
    "start_time": "2022-09-06T19:17:15.213Z"
   },
   {
    "duration": 0,
    "start_time": "2022-09-06T19:17:15.214Z"
   },
   {
    "duration": 0,
    "start_time": "2022-09-06T19:17:15.215Z"
   },
   {
    "duration": 0,
    "start_time": "2022-09-06T19:17:15.216Z"
   },
   {
    "duration": 0,
    "start_time": "2022-09-06T19:17:15.218Z"
   },
   {
    "duration": 0,
    "start_time": "2022-09-06T19:17:15.218Z"
   },
   {
    "duration": 0,
    "start_time": "2022-09-06T19:17:15.220Z"
   },
   {
    "duration": 0,
    "start_time": "2022-09-06T19:17:15.220Z"
   },
   {
    "duration": 0,
    "start_time": "2022-09-06T19:17:15.221Z"
   },
   {
    "duration": 0,
    "start_time": "2022-09-06T19:17:15.222Z"
   },
   {
    "duration": 0,
    "start_time": "2022-09-06T19:17:15.223Z"
   },
   {
    "duration": 0,
    "start_time": "2022-09-06T19:17:15.224Z"
   },
   {
    "duration": 0,
    "start_time": "2022-09-06T19:17:15.225Z"
   },
   {
    "duration": 4,
    "start_time": "2022-09-08T09:32:25.103Z"
   },
   {
    "duration": 1403,
    "start_time": "2022-09-08T09:32:25.109Z"
   },
   {
    "duration": 0,
    "start_time": "2022-09-08T09:32:26.515Z"
   },
   {
    "duration": 0,
    "start_time": "2022-09-08T09:32:26.516Z"
   },
   {
    "duration": 0,
    "start_time": "2022-09-08T09:32:26.517Z"
   },
   {
    "duration": 0,
    "start_time": "2022-09-08T09:32:26.518Z"
   },
   {
    "duration": 0,
    "start_time": "2022-09-08T09:32:26.519Z"
   },
   {
    "duration": 0,
    "start_time": "2022-09-08T09:32:26.520Z"
   },
   {
    "duration": 0,
    "start_time": "2022-09-08T09:32:26.521Z"
   },
   {
    "duration": 0,
    "start_time": "2022-09-08T09:32:26.522Z"
   },
   {
    "duration": 0,
    "start_time": "2022-09-08T09:32:26.523Z"
   },
   {
    "duration": 0,
    "start_time": "2022-09-08T09:32:26.524Z"
   },
   {
    "duration": 0,
    "start_time": "2022-09-08T09:32:26.525Z"
   },
   {
    "duration": 0,
    "start_time": "2022-09-08T09:32:26.526Z"
   },
   {
    "duration": 0,
    "start_time": "2022-09-08T09:32:26.527Z"
   },
   {
    "duration": 0,
    "start_time": "2022-09-08T09:32:26.528Z"
   },
   {
    "duration": 0,
    "start_time": "2022-09-08T09:32:26.529Z"
   },
   {
    "duration": 0,
    "start_time": "2022-09-08T09:32:26.530Z"
   },
   {
    "duration": 0,
    "start_time": "2022-09-08T09:32:26.531Z"
   },
   {
    "duration": 0,
    "start_time": "2022-09-08T09:32:26.532Z"
   },
   {
    "duration": 0,
    "start_time": "2022-09-08T09:32:26.533Z"
   },
   {
    "duration": 0,
    "start_time": "2022-09-08T09:32:26.534Z"
   },
   {
    "duration": 0,
    "start_time": "2022-09-08T09:32:26.535Z"
   },
   {
    "duration": 0,
    "start_time": "2022-09-08T09:32:26.536Z"
   },
   {
    "duration": 0,
    "start_time": "2022-09-08T09:32:26.538Z"
   },
   {
    "duration": 0,
    "start_time": "2022-09-08T09:32:26.539Z"
   },
   {
    "duration": 0,
    "start_time": "2022-09-08T09:32:26.540Z"
   },
   {
    "duration": 0,
    "start_time": "2022-09-08T09:32:26.541Z"
   },
   {
    "duration": 1,
    "start_time": "2022-09-08T09:32:26.584Z"
   },
   {
    "duration": 0,
    "start_time": "2022-09-08T09:32:26.586Z"
   },
   {
    "duration": 0,
    "start_time": "2022-09-08T09:32:26.588Z"
   },
   {
    "duration": 0,
    "start_time": "2022-09-08T09:32:26.589Z"
   },
   {
    "duration": 0,
    "start_time": "2022-09-08T09:32:26.590Z"
   },
   {
    "duration": 0,
    "start_time": "2022-09-08T09:32:26.591Z"
   },
   {
    "duration": 0,
    "start_time": "2022-09-08T09:32:26.593Z"
   },
   {
    "duration": 0,
    "start_time": "2022-09-08T09:32:26.594Z"
   },
   {
    "duration": 0,
    "start_time": "2022-09-08T09:32:26.595Z"
   },
   {
    "duration": 0,
    "start_time": "2022-09-08T09:32:26.597Z"
   },
   {
    "duration": 0,
    "start_time": "2022-09-08T09:32:26.599Z"
   },
   {
    "duration": 0,
    "start_time": "2022-09-08T09:32:26.600Z"
   },
   {
    "duration": 0,
    "start_time": "2022-09-08T09:32:26.601Z"
   },
   {
    "duration": 0,
    "start_time": "2022-09-08T09:32:26.603Z"
   },
   {
    "duration": 0,
    "start_time": "2022-09-08T09:32:26.604Z"
   },
   {
    "duration": 0,
    "start_time": "2022-09-08T09:32:26.605Z"
   },
   {
    "duration": 0,
    "start_time": "2022-09-08T09:32:26.606Z"
   },
   {
    "duration": 0,
    "start_time": "2022-09-08T09:32:26.608Z"
   },
   {
    "duration": 0,
    "start_time": "2022-09-08T09:32:26.609Z"
   },
   {
    "duration": 0,
    "start_time": "2022-09-08T09:32:26.611Z"
   },
   {
    "duration": 0,
    "start_time": "2022-09-08T09:32:26.612Z"
   },
   {
    "duration": 0,
    "start_time": "2022-09-08T09:32:26.613Z"
   },
   {
    "duration": 0,
    "start_time": "2022-09-08T09:32:26.614Z"
   },
   {
    "duration": 0,
    "start_time": "2022-09-08T09:32:26.615Z"
   },
   {
    "duration": 0,
    "start_time": "2022-09-08T09:32:26.616Z"
   },
   {
    "duration": 0,
    "start_time": "2022-09-08T09:32:26.617Z"
   },
   {
    "duration": 0,
    "start_time": "2022-09-08T09:32:26.618Z"
   },
   {
    "duration": 0,
    "start_time": "2022-09-08T09:32:26.620Z"
   },
   {
    "duration": 0,
    "start_time": "2022-09-08T09:32:26.621Z"
   },
   {
    "duration": 0,
    "start_time": "2022-09-08T09:32:26.622Z"
   },
   {
    "duration": 0,
    "start_time": "2022-09-08T09:32:26.623Z"
   },
   {
    "duration": 0,
    "start_time": "2022-09-08T09:32:26.623Z"
   },
   {
    "duration": 0,
    "start_time": "2022-09-08T09:32:26.624Z"
   },
   {
    "duration": 0,
    "start_time": "2022-09-08T09:32:26.624Z"
   },
   {
    "duration": 0,
    "start_time": "2022-09-08T09:32:26.625Z"
   },
   {
    "duration": 0,
    "start_time": "2022-09-08T09:32:26.625Z"
   },
   {
    "duration": 0,
    "start_time": "2022-09-08T09:32:26.684Z"
   },
   {
    "duration": 0,
    "start_time": "2022-09-08T09:32:26.685Z"
   },
   {
    "duration": 0,
    "start_time": "2022-09-08T09:32:26.687Z"
   },
   {
    "duration": 0,
    "start_time": "2022-09-08T09:32:26.688Z"
   },
   {
    "duration": 0,
    "start_time": "2022-09-08T09:32:26.689Z"
   },
   {
    "duration": 1,
    "start_time": "2022-09-08T09:32:26.690Z"
   },
   {
    "duration": 0,
    "start_time": "2022-09-08T09:32:26.692Z"
   },
   {
    "duration": 0,
    "start_time": "2022-09-08T09:32:26.692Z"
   },
   {
    "duration": 0,
    "start_time": "2022-09-08T09:32:26.693Z"
   },
   {
    "duration": 0,
    "start_time": "2022-09-08T09:32:26.695Z"
   }
  ],
  "kernelspec": {
   "display_name": "Python 3 (ipykernel)",
   "language": "python",
   "name": "python3"
  },
  "language_info": {
   "codemirror_mode": {
    "name": "ipython",
    "version": 3
   },
   "file_extension": ".py",
   "mimetype": "text/x-python",
   "name": "python",
   "nbconvert_exporter": "python",
   "pygments_lexer": "ipython3",
   "version": "3.9.7"
  },
  "toc": {
   "base_numbering": 1,
   "nav_menu": {},
   "number_sections": true,
   "sideBar": true,
   "skip_h1_title": true,
   "title_cell": "Содержание",
   "title_sidebar": "Contents",
   "toc_cell": true,
   "toc_position": {
    "height": "calc(100% - 180px)",
    "left": "10px",
    "top": "150px",
    "width": "384px"
   },
   "toc_section_display": true,
   "toc_window_display": true
  }
 },
 "nbformat": 4,
 "nbformat_minor": 5
}
