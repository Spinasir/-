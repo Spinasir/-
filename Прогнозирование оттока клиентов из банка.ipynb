{
 "cells": [
  {
   "cell_type": "markdown",
   "id": "99f8d005",
   "metadata": {
    "toc": true
   },
   "source": [
    "<h1>Содержание<span class=\"tocSkip\"></span></h1>\n",
    "<div class=\"toc\"><ul class=\"toc-item\"><li><span><a href=\"#Комментарий-ревьюра\" data-toc-modified-id=\"Комментарий-ревьюра-1\"><span class=\"toc-item-num\">1&nbsp;&nbsp;</span>Комментарий ревьюра</a></span></li><li><span><a href=\"#Описание-проекта\" data-toc-modified-id=\"Описание-проекта-2\"><span class=\"toc-item-num\">2&nbsp;&nbsp;</span>Описание проекта</a></span></li><li><span><a href=\"#Обзор-данных\" data-toc-modified-id=\"Обзор-данных-3\"><span class=\"toc-item-num\">3&nbsp;&nbsp;</span>Обзор данных</a></span><ul class=\"toc-item\"><li><span><a href=\"#Вывод\" data-toc-modified-id=\"Вывод-3.1\"><span class=\"toc-item-num\">3.1&nbsp;&nbsp;</span>Вывод</a></span></li></ul></li><li><span><a href=\"#Предобработка\" data-toc-modified-id=\"Предобработка-4\"><span class=\"toc-item-num\">4&nbsp;&nbsp;</span>Предобработка</a></span></li><li><span><a href=\"#Исследование-баланса-классов\" data-toc-modified-id=\"Исследование-баланса-классов-5\"><span class=\"toc-item-num\">5&nbsp;&nbsp;</span>Исследование баланса классов</a></span></li><li><span><a href=\"#Обучение-модели\" data-toc-modified-id=\"Обучение-модели-6\"><span class=\"toc-item-num\">6&nbsp;&nbsp;</span>Обучение модели</a></span><ul class=\"toc-item\"><li><span><a href=\"#Рандомный-лес\" data-toc-modified-id=\"Рандомный-лес-6.1\"><span class=\"toc-item-num\">6.1&nbsp;&nbsp;</span>Рандомный лес</a></span></li><li><span><a href=\"#Обучающее-дерево\" data-toc-modified-id=\"Обучающее-дерево-6.2\"><span class=\"toc-item-num\">6.2&nbsp;&nbsp;</span>Обучающее дерево</a></span></li><li><span><a href=\"#Логистическая-регрессия\" data-toc-modified-id=\"Логистическая-регрессия-6.3\"><span class=\"toc-item-num\">6.3&nbsp;&nbsp;</span>Логистическая регрессия</a></span><ul class=\"toc-item\"><li><span><a href=\"#Выводы\" data-toc-modified-id=\"Выводы-6.3.1\"><span class=\"toc-item-num\">6.3.1&nbsp;&nbsp;</span>Выводы</a></span></li></ul></li></ul></li><li><span><a href=\"#Устранение-дисбаланса\" data-toc-modified-id=\"Устранение-дисбаланса-7\"><span class=\"toc-item-num\">7&nbsp;&nbsp;</span>Устранение дисбаланса</a></span><ul class=\"toc-item\"><li><span><a href=\"#Уменьшение-выборки\" data-toc-modified-id=\"Уменьшение-выборки-7.1\"><span class=\"toc-item-num\">7.1&nbsp;&nbsp;</span>Уменьшение выборки</a></span><ul class=\"toc-item\"><li><span><a href=\"#Рандомный-лес\" data-toc-modified-id=\"Рандомный-лес-7.1.1\"><span class=\"toc-item-num\">7.1.1&nbsp;&nbsp;</span>Рандомный лес</a></span></li><li><span><a href=\"#Обучающее-дерево\" data-toc-modified-id=\"Обучающее-дерево-7.1.2\"><span class=\"toc-item-num\">7.1.2&nbsp;&nbsp;</span>Обучающее дерево</a></span></li><li><span><a href=\"#Логистическая-регрессия\" data-toc-modified-id=\"Логистическая-регрессия-7.1.3\"><span class=\"toc-item-num\">7.1.3&nbsp;&nbsp;</span>Логистическая регрессия</a></span></li><li><span><a href=\"#Выводы\" data-toc-modified-id=\"Выводы-7.1.4\"><span class=\"toc-item-num\">7.1.4&nbsp;&nbsp;</span>Выводы</a></span></li></ul></li><li><span><a href=\"#Увеличение-выборки\" data-toc-modified-id=\"Увеличение-выборки-7.2\"><span class=\"toc-item-num\">7.2&nbsp;&nbsp;</span>Увеличение выборки</a></span><ul class=\"toc-item\"><li><span><a href=\"#Рандомный-лес\" data-toc-modified-id=\"Рандомный-лес-7.2.1\"><span class=\"toc-item-num\">7.2.1&nbsp;&nbsp;</span>Рандомный лес</a></span></li><li><span><a href=\"#Обучающее-дерево\" data-toc-modified-id=\"Обучающее-дерево-7.2.2\"><span class=\"toc-item-num\">7.2.2&nbsp;&nbsp;</span>Обучающее дерево</a></span></li><li><span><a href=\"#Логистическая-регрессия\" data-toc-modified-id=\"Логистическая-регрессия-7.2.3\"><span class=\"toc-item-num\">7.2.3&nbsp;&nbsp;</span>Логистическая регрессия</a></span></li><li><span><a href=\"#Выводы\" data-toc-modified-id=\"Выводы-7.2.4\"><span class=\"toc-item-num\">7.2.4&nbsp;&nbsp;</span>Выводы</a></span></li></ul></li></ul></li><li><span><a href=\"#Вывод\" data-toc-modified-id=\"Вывод-8\"><span class=\"toc-item-num\">8&nbsp;&nbsp;</span>Вывод</a></span></li></ul></div>"
   ]
  },
  {
   "cell_type": "markdown",
   "id": "0e91213d-7da5-4f4a-a02b-71796cf4c861",
   "metadata": {},
   "source": [
    "## Описание проекта"
   ]
  },
  {
   "cell_type": "markdown",
   "id": "79a66dcf-53c6-4a33-b4b4-fab0ea67a1bf",
   "metadata": {},
   "source": [
    "\n",
    "Из «Бета-Банка» стали уходить клиенты. Каждый месяц. Немного, но заметно. Банковские маркетологи посчитали: сохранять текущих клиентов дешевле, чем привлекать новых.  \n",
    "Нужно спрогнозировать, уйдёт клиент из банка в ближайшее время или нет. Нам предоставлены исторические данные о поведении клиентов и расторжении договоров с банком.  "
   ]
  },
  {
   "cell_type": "markdown",
   "id": "0daed0a6-d4e6-454d-9f20-055d8a905f6f",
   "metadata": {},
   "source": [
    "**Признаки**   \n",
    "RowNumber — индекс строки в данных  \n",
    "CustomerId — уникальный идентификатор клиента  \n",
    "Surname — фамилия  \n",
    "CreditScore — кредитный рейтинг  \n",
    "Geography — страна проживания  \n",
    "Gender — пол  \n",
    "Age — возраст  \n",
    "Tenure — сколько лет человек является клиентом банка  \n",
    "Balance — баланс на счёте  \n",
    "NumOfProducts — количество продуктов банка, используемых клиентом  \n",
    "HasCrCard — наличие кредитной карты  \n",
    "IsActiveMember — активность клиента  \n",
    "EstimatedSalary — предполагаемая зарплата  \n",
    "\n",
    "**Целевой признак**  \n",
    "Exited — факт ухода клиента  "
   ]
  },
  {
   "cell_type": "markdown",
   "id": "5969a732",
   "metadata": {},
   "source": [
    "# План проекта"
   ]
  },
  {
   "cell_type": "markdown",
   "id": "8c1a52e0-9ccf-4c3e-8e05-d3d510eeb8c8",
   "metadata": {},
   "source": [
    "1) Загрузим и подготовим данные.   \n",
    "2) Исследуем баланс классов, обучим модель без учёта дисбаланса. Кратко опишем выводы.    \n",
    "3) Улучшим качество модели, учитывая дисбаланс классов. Обучим разные модели и найдем лучшую. Кратко опишем выводы.    \n",
    "4) Проведем финальное тестирование.    "
   ]
  },
  {
   "cell_type": "markdown",
   "id": "345f285c-ee8f-4eaa-86f4-791fef8112c5",
   "metadata": {},
   "source": [
    "## Обзор данных"
   ]
  },
  {
   "cell_type": "code",
   "execution_count": null,
   "id": "20dd993d",
   "metadata": {},
   "outputs": [],
   "source": [
    "! pip install scikit-optimize -U # установка библиотеки для поиска гиперпарраметров"
   ]
  },
  {
   "cell_type": "code",
   "execution_count": 3,
   "id": "817a0c26-0f53-446e-b4f2-811b57ebb4f8",
   "metadata": {},
   "outputs": [],
   "source": [
    "import pandas as pd\n",
    "import numpy as np\n",
    "import seaborn as sns\n",
    "import matplotlib.pyplot as plt\n",
    "\n",
    "from sklearn.impute import KNNImputer\n",
    "from sklearn.preprocessing import StandardScaler\n",
    "\n",
    "from sklearn.model_selection import train_test_split \n",
    "from sklearn.model_selection import GridSearchCV\n",
    "from skopt import BayesSearchCV\n",
    "from skopt.space import Real, Categorical, Integer\n",
    "\n",
    "\n",
    "from sklearn.dummy import DummyClassifier\n",
    "from sklearn.ensemble import RandomForestClassifier\n",
    "from sklearn.linear_model import LogisticRegression\n",
    "from sklearn.tree import DecisionTreeClassifier\n",
    "\n",
    "from sklearn.metrics import f1_score, roc_auc_score, roc_curve\n",
    "from sklearn.utils import shuffle\n",
    "\n",
    "import warnings\n",
    "warnings.filterwarnings('ignore')"
   ]
  },
  {
   "cell_type": "code",
   "execution_count": 4,
   "id": "e69ba4d8-08a6-4c06-b818-c17cdce5003e",
   "metadata": {},
   "outputs": [],
   "source": [
    "try:\n",
    "    df = pd.read_csv('Churn.csv')\n",
    "except:\n",
    "    df = pd.read_csv('/datasets/Churn.csv')"
   ]
  },
  {
   "cell_type": "code",
   "execution_count": 5,
   "id": "fe3fb360-e268-4ef2-8cce-3fbbdfa045f2",
   "metadata": {},
   "outputs": [
    {
     "data": {
      "text/html": [
       "<div>\n",
       "<style scoped>\n",
       "    .dataframe tbody tr th:only-of-type {\n",
       "        vertical-align: middle;\n",
       "    }\n",
       "\n",
       "    .dataframe tbody tr th {\n",
       "        vertical-align: top;\n",
       "    }\n",
       "\n",
       "    .dataframe thead th {\n",
       "        text-align: right;\n",
       "    }\n",
       "</style>\n",
       "<table border=\"1\" class=\"dataframe\">\n",
       "  <thead>\n",
       "    <tr style=\"text-align: right;\">\n",
       "      <th></th>\n",
       "      <th>RowNumber</th>\n",
       "      <th>CustomerId</th>\n",
       "      <th>Surname</th>\n",
       "      <th>CreditScore</th>\n",
       "      <th>Geography</th>\n",
       "      <th>Gender</th>\n",
       "      <th>Age</th>\n",
       "      <th>Tenure</th>\n",
       "      <th>Balance</th>\n",
       "      <th>NumOfProducts</th>\n",
       "      <th>HasCrCard</th>\n",
       "      <th>IsActiveMember</th>\n",
       "      <th>EstimatedSalary</th>\n",
       "      <th>Exited</th>\n",
       "    </tr>\n",
       "  </thead>\n",
       "  <tbody>\n",
       "    <tr>\n",
       "      <th>0</th>\n",
       "      <td>1</td>\n",
       "      <td>15634602</td>\n",
       "      <td>Hargrave</td>\n",
       "      <td>619</td>\n",
       "      <td>France</td>\n",
       "      <td>Female</td>\n",
       "      <td>42</td>\n",
       "      <td>2.0</td>\n",
       "      <td>0.00</td>\n",
       "      <td>1</td>\n",
       "      <td>1</td>\n",
       "      <td>1</td>\n",
       "      <td>101348.88</td>\n",
       "      <td>1</td>\n",
       "    </tr>\n",
       "    <tr>\n",
       "      <th>1</th>\n",
       "      <td>2</td>\n",
       "      <td>15647311</td>\n",
       "      <td>Hill</td>\n",
       "      <td>608</td>\n",
       "      <td>Spain</td>\n",
       "      <td>Female</td>\n",
       "      <td>41</td>\n",
       "      <td>1.0</td>\n",
       "      <td>83807.86</td>\n",
       "      <td>1</td>\n",
       "      <td>0</td>\n",
       "      <td>1</td>\n",
       "      <td>112542.58</td>\n",
       "      <td>0</td>\n",
       "    </tr>\n",
       "    <tr>\n",
       "      <th>2</th>\n",
       "      <td>3</td>\n",
       "      <td>15619304</td>\n",
       "      <td>Onio</td>\n",
       "      <td>502</td>\n",
       "      <td>France</td>\n",
       "      <td>Female</td>\n",
       "      <td>42</td>\n",
       "      <td>8.0</td>\n",
       "      <td>159660.80</td>\n",
       "      <td>3</td>\n",
       "      <td>1</td>\n",
       "      <td>0</td>\n",
       "      <td>113931.57</td>\n",
       "      <td>1</td>\n",
       "    </tr>\n",
       "    <tr>\n",
       "      <th>3</th>\n",
       "      <td>4</td>\n",
       "      <td>15701354</td>\n",
       "      <td>Boni</td>\n",
       "      <td>699</td>\n",
       "      <td>France</td>\n",
       "      <td>Female</td>\n",
       "      <td>39</td>\n",
       "      <td>1.0</td>\n",
       "      <td>0.00</td>\n",
       "      <td>2</td>\n",
       "      <td>0</td>\n",
       "      <td>0</td>\n",
       "      <td>93826.63</td>\n",
       "      <td>0</td>\n",
       "    </tr>\n",
       "    <tr>\n",
       "      <th>4</th>\n",
       "      <td>5</td>\n",
       "      <td>15737888</td>\n",
       "      <td>Mitchell</td>\n",
       "      <td>850</td>\n",
       "      <td>Spain</td>\n",
       "      <td>Female</td>\n",
       "      <td>43</td>\n",
       "      <td>2.0</td>\n",
       "      <td>125510.82</td>\n",
       "      <td>1</td>\n",
       "      <td>1</td>\n",
       "      <td>1</td>\n",
       "      <td>79084.10</td>\n",
       "      <td>0</td>\n",
       "    </tr>\n",
       "  </tbody>\n",
       "</table>\n",
       "</div>"
      ],
      "text/plain": [
       "   RowNumber  CustomerId   Surname  CreditScore Geography  Gender  Age  \\\n",
       "0          1    15634602  Hargrave          619    France  Female   42   \n",
       "1          2    15647311      Hill          608     Spain  Female   41   \n",
       "2          3    15619304      Onio          502    France  Female   42   \n",
       "3          4    15701354      Boni          699    France  Female   39   \n",
       "4          5    15737888  Mitchell          850     Spain  Female   43   \n",
       "\n",
       "   Tenure    Balance  NumOfProducts  HasCrCard  IsActiveMember  \\\n",
       "0     2.0       0.00              1          1               1   \n",
       "1     1.0   83807.86              1          0               1   \n",
       "2     8.0  159660.80              3          1               0   \n",
       "3     1.0       0.00              2          0               0   \n",
       "4     2.0  125510.82              1          1               1   \n",
       "\n",
       "   EstimatedSalary  Exited  \n",
       "0        101348.88       1  \n",
       "1        112542.58       0  \n",
       "2        113931.57       1  \n",
       "3         93826.63       0  \n",
       "4         79084.10       0  "
      ]
     },
     "execution_count": 5,
     "metadata": {},
     "output_type": "execute_result"
    }
   ],
   "source": [
    "df.head()"
   ]
  },
  {
   "cell_type": "markdown",
   "id": "d67dd0c6",
   "metadata": {},
   "source": [
    "Есть строки, не содержащие важную информацию для модели, удалим их в предобработке.   \n",
    "Так же названия столбцов приведем к нижнему регистру(в идеале, конечно, к змеиному, но нужно ли?)"
   ]
  },
  {
   "cell_type": "code",
   "execution_count": 6,
   "id": "f129c9e9-3d1f-4eed-be48-7b3e62f020ce",
   "metadata": {},
   "outputs": [
    {
     "name": "stdout",
     "output_type": "stream",
     "text": [
      "<class 'pandas.core.frame.DataFrame'>\n",
      "RangeIndex: 10000 entries, 0 to 9999\n",
      "Data columns (total 14 columns):\n",
      " #   Column           Non-Null Count  Dtype  \n",
      "---  ------           --------------  -----  \n",
      " 0   RowNumber        10000 non-null  int64  \n",
      " 1   CustomerId       10000 non-null  int64  \n",
      " 2   Surname          10000 non-null  object \n",
      " 3   CreditScore      10000 non-null  int64  \n",
      " 4   Geography        10000 non-null  object \n",
      " 5   Gender           10000 non-null  object \n",
      " 6   Age              10000 non-null  int64  \n",
      " 7   Tenure           9091 non-null   float64\n",
      " 8   Balance          10000 non-null  float64\n",
      " 9   NumOfProducts    10000 non-null  int64  \n",
      " 10  HasCrCard        10000 non-null  int64  \n",
      " 11  IsActiveMember   10000 non-null  int64  \n",
      " 12  EstimatedSalary  10000 non-null  float64\n",
      " 13  Exited           10000 non-null  int64  \n",
      "dtypes: float64(3), int64(8), object(3)\n",
      "memory usage: 1.1+ MB\n"
     ]
    }
   ],
   "source": [
    "df.info()"
   ]
  },
  {
   "cell_type": "code",
   "execution_count": 7,
   "id": "e044c3f9",
   "metadata": {},
   "outputs": [
    {
     "data": {
      "text/html": [
       "<div>\n",
       "<style scoped>\n",
       "    .dataframe tbody tr th:only-of-type {\n",
       "        vertical-align: middle;\n",
       "    }\n",
       "\n",
       "    .dataframe tbody tr th {\n",
       "        vertical-align: top;\n",
       "    }\n",
       "\n",
       "    .dataframe thead th {\n",
       "        text-align: right;\n",
       "    }\n",
       "</style>\n",
       "<table border=\"1\" class=\"dataframe\">\n",
       "  <thead>\n",
       "    <tr style=\"text-align: right;\">\n",
       "      <th></th>\n",
       "      <th>RowNumber</th>\n",
       "      <th>CustomerId</th>\n",
       "      <th>CreditScore</th>\n",
       "      <th>Age</th>\n",
       "      <th>Tenure</th>\n",
       "      <th>Balance</th>\n",
       "      <th>NumOfProducts</th>\n",
       "      <th>HasCrCard</th>\n",
       "      <th>IsActiveMember</th>\n",
       "      <th>EstimatedSalary</th>\n",
       "      <th>Exited</th>\n",
       "    </tr>\n",
       "  </thead>\n",
       "  <tbody>\n",
       "    <tr>\n",
       "      <th>count</th>\n",
       "      <td>10000.00000</td>\n",
       "      <td>1.000000e+04</td>\n",
       "      <td>10000.000000</td>\n",
       "      <td>10000.000000</td>\n",
       "      <td>9091.000000</td>\n",
       "      <td>10000.000000</td>\n",
       "      <td>10000.000000</td>\n",
       "      <td>10000.00000</td>\n",
       "      <td>10000.000000</td>\n",
       "      <td>10000.000000</td>\n",
       "      <td>10000.000000</td>\n",
       "    </tr>\n",
       "    <tr>\n",
       "      <th>mean</th>\n",
       "      <td>5000.50000</td>\n",
       "      <td>1.569094e+07</td>\n",
       "      <td>650.528800</td>\n",
       "      <td>38.921800</td>\n",
       "      <td>4.997690</td>\n",
       "      <td>76485.889288</td>\n",
       "      <td>1.530200</td>\n",
       "      <td>0.70550</td>\n",
       "      <td>0.515100</td>\n",
       "      <td>100090.239881</td>\n",
       "      <td>0.203700</td>\n",
       "    </tr>\n",
       "    <tr>\n",
       "      <th>std</th>\n",
       "      <td>2886.89568</td>\n",
       "      <td>7.193619e+04</td>\n",
       "      <td>96.653299</td>\n",
       "      <td>10.487806</td>\n",
       "      <td>2.894723</td>\n",
       "      <td>62397.405202</td>\n",
       "      <td>0.581654</td>\n",
       "      <td>0.45584</td>\n",
       "      <td>0.499797</td>\n",
       "      <td>57510.492818</td>\n",
       "      <td>0.402769</td>\n",
       "    </tr>\n",
       "    <tr>\n",
       "      <th>min</th>\n",
       "      <td>1.00000</td>\n",
       "      <td>1.556570e+07</td>\n",
       "      <td>350.000000</td>\n",
       "      <td>18.000000</td>\n",
       "      <td>0.000000</td>\n",
       "      <td>0.000000</td>\n",
       "      <td>1.000000</td>\n",
       "      <td>0.00000</td>\n",
       "      <td>0.000000</td>\n",
       "      <td>11.580000</td>\n",
       "      <td>0.000000</td>\n",
       "    </tr>\n",
       "    <tr>\n",
       "      <th>25%</th>\n",
       "      <td>2500.75000</td>\n",
       "      <td>1.562853e+07</td>\n",
       "      <td>584.000000</td>\n",
       "      <td>32.000000</td>\n",
       "      <td>2.000000</td>\n",
       "      <td>0.000000</td>\n",
       "      <td>1.000000</td>\n",
       "      <td>0.00000</td>\n",
       "      <td>0.000000</td>\n",
       "      <td>51002.110000</td>\n",
       "      <td>0.000000</td>\n",
       "    </tr>\n",
       "    <tr>\n",
       "      <th>50%</th>\n",
       "      <td>5000.50000</td>\n",
       "      <td>1.569074e+07</td>\n",
       "      <td>652.000000</td>\n",
       "      <td>37.000000</td>\n",
       "      <td>5.000000</td>\n",
       "      <td>97198.540000</td>\n",
       "      <td>1.000000</td>\n",
       "      <td>1.00000</td>\n",
       "      <td>1.000000</td>\n",
       "      <td>100193.915000</td>\n",
       "      <td>0.000000</td>\n",
       "    </tr>\n",
       "    <tr>\n",
       "      <th>75%</th>\n",
       "      <td>7500.25000</td>\n",
       "      <td>1.575323e+07</td>\n",
       "      <td>718.000000</td>\n",
       "      <td>44.000000</td>\n",
       "      <td>7.000000</td>\n",
       "      <td>127644.240000</td>\n",
       "      <td>2.000000</td>\n",
       "      <td>1.00000</td>\n",
       "      <td>1.000000</td>\n",
       "      <td>149388.247500</td>\n",
       "      <td>0.000000</td>\n",
       "    </tr>\n",
       "    <tr>\n",
       "      <th>max</th>\n",
       "      <td>10000.00000</td>\n",
       "      <td>1.581569e+07</td>\n",
       "      <td>850.000000</td>\n",
       "      <td>92.000000</td>\n",
       "      <td>10.000000</td>\n",
       "      <td>250898.090000</td>\n",
       "      <td>4.000000</td>\n",
       "      <td>1.00000</td>\n",
       "      <td>1.000000</td>\n",
       "      <td>199992.480000</td>\n",
       "      <td>1.000000</td>\n",
       "    </tr>\n",
       "  </tbody>\n",
       "</table>\n",
       "</div>"
      ],
      "text/plain": [
       "         RowNumber    CustomerId   CreditScore           Age       Tenure  \\\n",
       "count  10000.00000  1.000000e+04  10000.000000  10000.000000  9091.000000   \n",
       "mean    5000.50000  1.569094e+07    650.528800     38.921800     4.997690   \n",
       "std     2886.89568  7.193619e+04     96.653299     10.487806     2.894723   \n",
       "min        1.00000  1.556570e+07    350.000000     18.000000     0.000000   \n",
       "25%     2500.75000  1.562853e+07    584.000000     32.000000     2.000000   \n",
       "50%     5000.50000  1.569074e+07    652.000000     37.000000     5.000000   \n",
       "75%     7500.25000  1.575323e+07    718.000000     44.000000     7.000000   \n",
       "max    10000.00000  1.581569e+07    850.000000     92.000000    10.000000   \n",
       "\n",
       "             Balance  NumOfProducts    HasCrCard  IsActiveMember  \\\n",
       "count   10000.000000   10000.000000  10000.00000    10000.000000   \n",
       "mean    76485.889288       1.530200      0.70550        0.515100   \n",
       "std     62397.405202       0.581654      0.45584        0.499797   \n",
       "min         0.000000       1.000000      0.00000        0.000000   \n",
       "25%         0.000000       1.000000      0.00000        0.000000   \n",
       "50%     97198.540000       1.000000      1.00000        1.000000   \n",
       "75%    127644.240000       2.000000      1.00000        1.000000   \n",
       "max    250898.090000       4.000000      1.00000        1.000000   \n",
       "\n",
       "       EstimatedSalary        Exited  \n",
       "count     10000.000000  10000.000000  \n",
       "mean     100090.239881      0.203700  \n",
       "std       57510.492818      0.402769  \n",
       "min          11.580000      0.000000  \n",
       "25%       51002.110000      0.000000  \n",
       "50%      100193.915000      0.000000  \n",
       "75%      149388.247500      0.000000  \n",
       "max      199992.480000      1.000000  "
      ]
     },
     "execution_count": 7,
     "metadata": {},
     "output_type": "execute_result"
    }
   ],
   "source": [
    "df.describe()"
   ]
  },
  {
   "cell_type": "code",
   "execution_count": 8,
   "id": "7810f9f9-1be7-4307-80ef-c016ac44dd52",
   "metadata": {},
   "outputs": [
    {
     "data": {
      "text/plain": [
       "RowNumber            0\n",
       "CustomerId           0\n",
       "Surname              0\n",
       "CreditScore          0\n",
       "Geography            0\n",
       "Gender               0\n",
       "Age                  0\n",
       "Tenure             909\n",
       "Balance              0\n",
       "NumOfProducts        0\n",
       "HasCrCard            0\n",
       "IsActiveMember       0\n",
       "EstimatedSalary      0\n",
       "Exited               0\n",
       "dtype: int64"
      ]
     },
     "execution_count": 8,
     "metadata": {},
     "output_type": "execute_result"
    }
   ],
   "source": [
    "df.isna().sum()"
   ]
  },
  {
   "cell_type": "markdown",
   "id": "6192c03e",
   "metadata": {},
   "source": [
    "909 пропусков в столбце Tenure - это около 9% всех данных"
   ]
  },
  {
   "cell_type": "code",
   "execution_count": 9,
   "id": "38764946-bbb6-4e96-9ced-5686073d70e2",
   "metadata": {},
   "outputs": [
    {
     "data": {
      "text/html": [
       "<div>\n",
       "<style scoped>\n",
       "    .dataframe tbody tr th:only-of-type {\n",
       "        vertical-align: middle;\n",
       "    }\n",
       "\n",
       "    .dataframe tbody tr th {\n",
       "        vertical-align: top;\n",
       "    }\n",
       "\n",
       "    .dataframe thead th {\n",
       "        text-align: right;\n",
       "    }\n",
       "</style>\n",
       "<table border=\"1\" class=\"dataframe\">\n",
       "  <thead>\n",
       "    <tr style=\"text-align: right;\">\n",
       "      <th></th>\n",
       "      <th>RowNumber</th>\n",
       "      <th>CustomerId</th>\n",
       "      <th>Surname</th>\n",
       "      <th>CreditScore</th>\n",
       "      <th>Geography</th>\n",
       "      <th>Gender</th>\n",
       "      <th>Age</th>\n",
       "      <th>Tenure</th>\n",
       "      <th>Balance</th>\n",
       "      <th>NumOfProducts</th>\n",
       "      <th>HasCrCard</th>\n",
       "      <th>IsActiveMember</th>\n",
       "      <th>EstimatedSalary</th>\n",
       "      <th>Exited</th>\n",
       "    </tr>\n",
       "  </thead>\n",
       "  <tbody>\n",
       "    <tr>\n",
       "      <th>30</th>\n",
       "      <td>31</td>\n",
       "      <td>15589475</td>\n",
       "      <td>Azikiwe</td>\n",
       "      <td>591</td>\n",
       "      <td>Spain</td>\n",
       "      <td>Female</td>\n",
       "      <td>39</td>\n",
       "      <td>NaN</td>\n",
       "      <td>0.00</td>\n",
       "      <td>3</td>\n",
       "      <td>1</td>\n",
       "      <td>0</td>\n",
       "      <td>140469.38</td>\n",
       "      <td>1</td>\n",
       "    </tr>\n",
       "    <tr>\n",
       "      <th>48</th>\n",
       "      <td>49</td>\n",
       "      <td>15766205</td>\n",
       "      <td>Yin</td>\n",
       "      <td>550</td>\n",
       "      <td>Germany</td>\n",
       "      <td>Male</td>\n",
       "      <td>38</td>\n",
       "      <td>NaN</td>\n",
       "      <td>103391.38</td>\n",
       "      <td>1</td>\n",
       "      <td>0</td>\n",
       "      <td>1</td>\n",
       "      <td>90878.13</td>\n",
       "      <td>0</td>\n",
       "    </tr>\n",
       "    <tr>\n",
       "      <th>51</th>\n",
       "      <td>52</td>\n",
       "      <td>15768193</td>\n",
       "      <td>Trevisani</td>\n",
       "      <td>585</td>\n",
       "      <td>Germany</td>\n",
       "      <td>Male</td>\n",
       "      <td>36</td>\n",
       "      <td>NaN</td>\n",
       "      <td>146050.97</td>\n",
       "      <td>2</td>\n",
       "      <td>0</td>\n",
       "      <td>0</td>\n",
       "      <td>86424.57</td>\n",
       "      <td>0</td>\n",
       "    </tr>\n",
       "    <tr>\n",
       "      <th>53</th>\n",
       "      <td>54</td>\n",
       "      <td>15702298</td>\n",
       "      <td>Parkhill</td>\n",
       "      <td>655</td>\n",
       "      <td>Germany</td>\n",
       "      <td>Male</td>\n",
       "      <td>41</td>\n",
       "      <td>NaN</td>\n",
       "      <td>125561.97</td>\n",
       "      <td>1</td>\n",
       "      <td>0</td>\n",
       "      <td>0</td>\n",
       "      <td>164040.94</td>\n",
       "      <td>1</td>\n",
       "    </tr>\n",
       "    <tr>\n",
       "      <th>60</th>\n",
       "      <td>61</td>\n",
       "      <td>15651280</td>\n",
       "      <td>Hunter</td>\n",
       "      <td>742</td>\n",
       "      <td>Germany</td>\n",
       "      <td>Male</td>\n",
       "      <td>35</td>\n",
       "      <td>NaN</td>\n",
       "      <td>136857.00</td>\n",
       "      <td>1</td>\n",
       "      <td>0</td>\n",
       "      <td>0</td>\n",
       "      <td>84509.57</td>\n",
       "      <td>0</td>\n",
       "    </tr>\n",
       "    <tr>\n",
       "      <th>...</th>\n",
       "      <td>...</td>\n",
       "      <td>...</td>\n",
       "      <td>...</td>\n",
       "      <td>...</td>\n",
       "      <td>...</td>\n",
       "      <td>...</td>\n",
       "      <td>...</td>\n",
       "      <td>...</td>\n",
       "      <td>...</td>\n",
       "      <td>...</td>\n",
       "      <td>...</td>\n",
       "      <td>...</td>\n",
       "      <td>...</td>\n",
       "      <td>...</td>\n",
       "    </tr>\n",
       "    <tr>\n",
       "      <th>9944</th>\n",
       "      <td>9945</td>\n",
       "      <td>15703923</td>\n",
       "      <td>Cameron</td>\n",
       "      <td>744</td>\n",
       "      <td>Germany</td>\n",
       "      <td>Male</td>\n",
       "      <td>41</td>\n",
       "      <td>NaN</td>\n",
       "      <td>190409.34</td>\n",
       "      <td>2</td>\n",
       "      <td>1</td>\n",
       "      <td>1</td>\n",
       "      <td>138361.48</td>\n",
       "      <td>0</td>\n",
       "    </tr>\n",
       "    <tr>\n",
       "      <th>9956</th>\n",
       "      <td>9957</td>\n",
       "      <td>15707861</td>\n",
       "      <td>Nucci</td>\n",
       "      <td>520</td>\n",
       "      <td>France</td>\n",
       "      <td>Female</td>\n",
       "      <td>46</td>\n",
       "      <td>NaN</td>\n",
       "      <td>85216.61</td>\n",
       "      <td>1</td>\n",
       "      <td>1</td>\n",
       "      <td>0</td>\n",
       "      <td>117369.52</td>\n",
       "      <td>1</td>\n",
       "    </tr>\n",
       "    <tr>\n",
       "      <th>9964</th>\n",
       "      <td>9965</td>\n",
       "      <td>15642785</td>\n",
       "      <td>Douglas</td>\n",
       "      <td>479</td>\n",
       "      <td>France</td>\n",
       "      <td>Male</td>\n",
       "      <td>34</td>\n",
       "      <td>NaN</td>\n",
       "      <td>117593.48</td>\n",
       "      <td>2</td>\n",
       "      <td>0</td>\n",
       "      <td>0</td>\n",
       "      <td>113308.29</td>\n",
       "      <td>0</td>\n",
       "    </tr>\n",
       "    <tr>\n",
       "      <th>9985</th>\n",
       "      <td>9986</td>\n",
       "      <td>15586914</td>\n",
       "      <td>Nepean</td>\n",
       "      <td>659</td>\n",
       "      <td>France</td>\n",
       "      <td>Male</td>\n",
       "      <td>36</td>\n",
       "      <td>NaN</td>\n",
       "      <td>123841.49</td>\n",
       "      <td>2</td>\n",
       "      <td>1</td>\n",
       "      <td>0</td>\n",
       "      <td>96833.00</td>\n",
       "      <td>0</td>\n",
       "    </tr>\n",
       "    <tr>\n",
       "      <th>9999</th>\n",
       "      <td>10000</td>\n",
       "      <td>15628319</td>\n",
       "      <td>Walker</td>\n",
       "      <td>792</td>\n",
       "      <td>France</td>\n",
       "      <td>Female</td>\n",
       "      <td>28</td>\n",
       "      <td>NaN</td>\n",
       "      <td>130142.79</td>\n",
       "      <td>1</td>\n",
       "      <td>1</td>\n",
       "      <td>0</td>\n",
       "      <td>38190.78</td>\n",
       "      <td>0</td>\n",
       "    </tr>\n",
       "  </tbody>\n",
       "</table>\n",
       "<p>909 rows × 14 columns</p>\n",
       "</div>"
      ],
      "text/plain": [
       "      RowNumber  CustomerId    Surname  CreditScore Geography  Gender  Age  \\\n",
       "30           31    15589475    Azikiwe          591     Spain  Female   39   \n",
       "48           49    15766205        Yin          550   Germany    Male   38   \n",
       "51           52    15768193  Trevisani          585   Germany    Male   36   \n",
       "53           54    15702298   Parkhill          655   Germany    Male   41   \n",
       "60           61    15651280     Hunter          742   Germany    Male   35   \n",
       "...         ...         ...        ...          ...       ...     ...  ...   \n",
       "9944       9945    15703923    Cameron          744   Germany    Male   41   \n",
       "9956       9957    15707861      Nucci          520    France  Female   46   \n",
       "9964       9965    15642785    Douglas          479    France    Male   34   \n",
       "9985       9986    15586914     Nepean          659    France    Male   36   \n",
       "9999      10000    15628319     Walker          792    France  Female   28   \n",
       "\n",
       "      Tenure    Balance  NumOfProducts  HasCrCard  IsActiveMember  \\\n",
       "30       NaN       0.00              3          1               0   \n",
       "48       NaN  103391.38              1          0               1   \n",
       "51       NaN  146050.97              2          0               0   \n",
       "53       NaN  125561.97              1          0               0   \n",
       "60       NaN  136857.00              1          0               0   \n",
       "...      ...        ...            ...        ...             ...   \n",
       "9944     NaN  190409.34              2          1               1   \n",
       "9956     NaN   85216.61              1          1               0   \n",
       "9964     NaN  117593.48              2          0               0   \n",
       "9985     NaN  123841.49              2          1               0   \n",
       "9999     NaN  130142.79              1          1               0   \n",
       "\n",
       "      EstimatedSalary  Exited  \n",
       "30          140469.38       1  \n",
       "48           90878.13       0  \n",
       "51           86424.57       0  \n",
       "53          164040.94       1  \n",
       "60           84509.57       0  \n",
       "...               ...     ...  \n",
       "9944        138361.48       0  \n",
       "9956        117369.52       1  \n",
       "9964        113308.29       0  \n",
       "9985         96833.00       0  \n",
       "9999         38190.78       0  \n",
       "\n",
       "[909 rows x 14 columns]"
      ]
     },
     "execution_count": 9,
     "metadata": {},
     "output_type": "execute_result"
    }
   ],
   "source": [
    "df[df['Tenure'].isna()]"
   ]
  },
  {
   "cell_type": "code",
   "execution_count": 10,
   "id": "26969c3e-f782-4f47-a7e3-394b93a782bf",
   "metadata": {},
   "outputs": [
    {
     "data": {
      "text/plain": [
       "0"
      ]
     },
     "execution_count": 10,
     "metadata": {},
     "output_type": "execute_result"
    }
   ],
   "source": [
    "df.duplicated().sum()"
   ]
  },
  {
   "cell_type": "markdown",
   "id": "59ef32d2",
   "metadata": {},
   "source": [
    "Явных дубликатов нет"
   ]
  },
  {
   "cell_type": "markdown",
   "id": "1b1255cc-725c-4d62-ad6d-ec3c38600414",
   "metadata": {},
   "source": [
    "### Вывод"
   ]
  },
  {
   "cell_type": "markdown",
   "id": "b17f4014-4583-4911-9e4e-bf32b61da732",
   "metadata": {},
   "source": [
    "rownumber, customerid, surname - удалить, т.к. не влияют на данные  \n",
    "Tenure - удалить пропуски и привести к целым   \n",
    "geography, gender, numofproducts  - ОНЕ  \n",
    "Привести к нижнему регистру  "
   ]
  },
  {
   "cell_type": "markdown",
   "id": "7a09771d-ab18-4c18-ae2f-7a51b3e158d3",
   "metadata": {},
   "source": [
    "## Предобработка"
   ]
  },
  {
   "cell_type": "markdown",
   "id": "e012dd28",
   "metadata": {},
   "source": [
    "Удалим неинформатиыне столбцы"
   ]
  },
  {
   "cell_type": "code",
   "execution_count": 11,
   "id": "d6f088f3-7792-4bcc-92f9-71e7db355427",
   "metadata": {},
   "outputs": [],
   "source": [
    "df.drop(['RowNumber', 'CustomerId', 'Surname'], axis=1, inplace=True)"
   ]
  },
  {
   "cell_type": "code",
   "execution_count": 12,
   "id": "8c7991f9-a2cb-4c31-82f2-c5cd1daf03e2",
   "metadata": {},
   "outputs": [],
   "source": [
    "#df.dropna(inplace=True)\n",
    "#df['Tenure'] = df['Tenure'].astype('int')"
   ]
  },
  {
   "cell_type": "markdown",
   "id": "3e0d1026",
   "metadata": {},
   "source": [
    "Приведем категориальные признаки в численные и приведем столбцы к нижнему регистру"
   ]
  },
  {
   "cell_type": "code",
   "execution_count": 13,
   "id": "a2c281c3",
   "metadata": {},
   "outputs": [],
   "source": [
    "def camel_to_snake(list, sep='_'):\n",
    "    columns = []\n",
    "    for str in list:\n",
    "        snake_register = ''\n",
    "        for i in str:\n",
    "            if i.isupper():\n",
    "                snake_register += sep + i.lower()\n",
    "            else:\n",
    "                snake_register += i\n",
    "        columns.append(snake_register.lstrip(sep))\n",
    "    return columns\n",
    "\n",
    "df.columns = camel_to_snake(df.columns)"
   ]
  },
  {
   "cell_type": "code",
   "execution_count": 14,
   "id": "3bd1a0ae-eb66-45cf-bb08-e9b820a8ab67",
   "metadata": {
    "scrolled": true
   },
   "outputs": [
    {
     "data": {
      "text/html": [
       "<div>\n",
       "<style scoped>\n",
       "    .dataframe tbody tr th:only-of-type {\n",
       "        vertical-align: middle;\n",
       "    }\n",
       "\n",
       "    .dataframe tbody tr th {\n",
       "        vertical-align: top;\n",
       "    }\n",
       "\n",
       "    .dataframe thead th {\n",
       "        text-align: right;\n",
       "    }\n",
       "</style>\n",
       "<table border=\"1\" class=\"dataframe\">\n",
       "  <thead>\n",
       "    <tr style=\"text-align: right;\">\n",
       "      <th></th>\n",
       "      <th>credit_score</th>\n",
       "      <th>age</th>\n",
       "      <th>tenure</th>\n",
       "      <th>balance</th>\n",
       "      <th>num_of_products</th>\n",
       "      <th>has_cr_card</th>\n",
       "      <th>is_active_member</th>\n",
       "      <th>estimated_salary</th>\n",
       "      <th>exited</th>\n",
       "      <th>geography_germany</th>\n",
       "      <th>geography_spain</th>\n",
       "      <th>gender_male</th>\n",
       "    </tr>\n",
       "  </thead>\n",
       "  <tbody>\n",
       "    <tr>\n",
       "      <th>0</th>\n",
       "      <td>619</td>\n",
       "      <td>42</td>\n",
       "      <td>2.0</td>\n",
       "      <td>0.00</td>\n",
       "      <td>1</td>\n",
       "      <td>1</td>\n",
       "      <td>1</td>\n",
       "      <td>101348.88</td>\n",
       "      <td>1</td>\n",
       "      <td>0</td>\n",
       "      <td>0</td>\n",
       "      <td>0</td>\n",
       "    </tr>\n",
       "    <tr>\n",
       "      <th>1</th>\n",
       "      <td>608</td>\n",
       "      <td>41</td>\n",
       "      <td>1.0</td>\n",
       "      <td>83807.86</td>\n",
       "      <td>1</td>\n",
       "      <td>0</td>\n",
       "      <td>1</td>\n",
       "      <td>112542.58</td>\n",
       "      <td>0</td>\n",
       "      <td>0</td>\n",
       "      <td>1</td>\n",
       "      <td>0</td>\n",
       "    </tr>\n",
       "    <tr>\n",
       "      <th>2</th>\n",
       "      <td>502</td>\n",
       "      <td>42</td>\n",
       "      <td>8.0</td>\n",
       "      <td>159660.80</td>\n",
       "      <td>3</td>\n",
       "      <td>1</td>\n",
       "      <td>0</td>\n",
       "      <td>113931.57</td>\n",
       "      <td>1</td>\n",
       "      <td>0</td>\n",
       "      <td>0</td>\n",
       "      <td>0</td>\n",
       "    </tr>\n",
       "    <tr>\n",
       "      <th>3</th>\n",
       "      <td>699</td>\n",
       "      <td>39</td>\n",
       "      <td>1.0</td>\n",
       "      <td>0.00</td>\n",
       "      <td>2</td>\n",
       "      <td>0</td>\n",
       "      <td>0</td>\n",
       "      <td>93826.63</td>\n",
       "      <td>0</td>\n",
       "      <td>0</td>\n",
       "      <td>0</td>\n",
       "      <td>0</td>\n",
       "    </tr>\n",
       "    <tr>\n",
       "      <th>4</th>\n",
       "      <td>850</td>\n",
       "      <td>43</td>\n",
       "      <td>2.0</td>\n",
       "      <td>125510.82</td>\n",
       "      <td>1</td>\n",
       "      <td>1</td>\n",
       "      <td>1</td>\n",
       "      <td>79084.10</td>\n",
       "      <td>0</td>\n",
       "      <td>0</td>\n",
       "      <td>1</td>\n",
       "      <td>0</td>\n",
       "    </tr>\n",
       "  </tbody>\n",
       "</table>\n",
       "</div>"
      ],
      "text/plain": [
       "   credit_score  age  tenure    balance  num_of_products  has_cr_card  \\\n",
       "0           619   42     2.0       0.00                1            1   \n",
       "1           608   41     1.0   83807.86                1            0   \n",
       "2           502   42     8.0  159660.80                3            1   \n",
       "3           699   39     1.0       0.00                2            0   \n",
       "4           850   43     2.0  125510.82                1            1   \n",
       "\n",
       "   is_active_member  estimated_salary  exited  geography_germany  \\\n",
       "0                 1         101348.88       1                  0   \n",
       "1                 1         112542.58       0                  0   \n",
       "2                 0         113931.57       1                  0   \n",
       "3                 0          93826.63       0                  0   \n",
       "4                 1          79084.10       0                  0   \n",
       "\n",
       "   geography_spain  gender_male  \n",
       "0                0            0  \n",
       "1                1            0  \n",
       "2                0            0  \n",
       "3                0            0  \n",
       "4                1            0  "
      ]
     },
     "execution_count": 14,
     "metadata": {},
     "output_type": "execute_result"
    }
   ],
   "source": [
    "df_ohe = pd.get_dummies(df, drop_first=True)\n",
    "df_ohe.columns = df_ohe.columns.str.lower()\n",
    "df_ohe.head()"
   ]
  },
  {
   "cell_type": "markdown",
   "id": "9789a684",
   "metadata": {},
   "source": [
    "Попробуем заменить пропуски методом К-близжайщих соседей"
   ]
  },
  {
   "cell_type": "code",
   "execution_count": 15,
   "id": "ec0d0a8a",
   "metadata": {},
   "outputs": [
    {
     "data": {
      "text/html": [
       "<div>\n",
       "<style scoped>\n",
       "    .dataframe tbody tr th:only-of-type {\n",
       "        vertical-align: middle;\n",
       "    }\n",
       "\n",
       "    .dataframe tbody tr th {\n",
       "        vertical-align: top;\n",
       "    }\n",
       "\n",
       "    .dataframe thead th {\n",
       "        text-align: right;\n",
       "    }\n",
       "</style>\n",
       "<table border=\"1\" class=\"dataframe\">\n",
       "  <thead>\n",
       "    <tr style=\"text-align: right;\">\n",
       "      <th></th>\n",
       "      <th>credit_score</th>\n",
       "      <th>age</th>\n",
       "      <th>tenure</th>\n",
       "      <th>balance</th>\n",
       "      <th>num_of_products</th>\n",
       "      <th>has_cr_card</th>\n",
       "      <th>is_active_member</th>\n",
       "      <th>estimated_salary</th>\n",
       "      <th>exited</th>\n",
       "      <th>geography_germany</th>\n",
       "      <th>geography_spain</th>\n",
       "      <th>gender_male</th>\n",
       "    </tr>\n",
       "  </thead>\n",
       "  <tbody>\n",
       "    <tr>\n",
       "      <th>0</th>\n",
       "      <td>619.0</td>\n",
       "      <td>42.0</td>\n",
       "      <td>2.0</td>\n",
       "      <td>0.00</td>\n",
       "      <td>1.0</td>\n",
       "      <td>1.0</td>\n",
       "      <td>1.0</td>\n",
       "      <td>101348.88</td>\n",
       "      <td>1.0</td>\n",
       "      <td>0.0</td>\n",
       "      <td>0.0</td>\n",
       "      <td>0.0</td>\n",
       "    </tr>\n",
       "    <tr>\n",
       "      <th>1</th>\n",
       "      <td>608.0</td>\n",
       "      <td>41.0</td>\n",
       "      <td>1.0</td>\n",
       "      <td>83807.86</td>\n",
       "      <td>1.0</td>\n",
       "      <td>0.0</td>\n",
       "      <td>1.0</td>\n",
       "      <td>112542.58</td>\n",
       "      <td>0.0</td>\n",
       "      <td>0.0</td>\n",
       "      <td>1.0</td>\n",
       "      <td>0.0</td>\n",
       "    </tr>\n",
       "    <tr>\n",
       "      <th>2</th>\n",
       "      <td>502.0</td>\n",
       "      <td>42.0</td>\n",
       "      <td>8.0</td>\n",
       "      <td>159660.80</td>\n",
       "      <td>3.0</td>\n",
       "      <td>1.0</td>\n",
       "      <td>0.0</td>\n",
       "      <td>113931.57</td>\n",
       "      <td>1.0</td>\n",
       "      <td>0.0</td>\n",
       "      <td>0.0</td>\n",
       "      <td>0.0</td>\n",
       "    </tr>\n",
       "    <tr>\n",
       "      <th>3</th>\n",
       "      <td>699.0</td>\n",
       "      <td>39.0</td>\n",
       "      <td>1.0</td>\n",
       "      <td>0.00</td>\n",
       "      <td>2.0</td>\n",
       "      <td>0.0</td>\n",
       "      <td>0.0</td>\n",
       "      <td>93826.63</td>\n",
       "      <td>0.0</td>\n",
       "      <td>0.0</td>\n",
       "      <td>0.0</td>\n",
       "      <td>0.0</td>\n",
       "    </tr>\n",
       "    <tr>\n",
       "      <th>4</th>\n",
       "      <td>850.0</td>\n",
       "      <td>43.0</td>\n",
       "      <td>2.0</td>\n",
       "      <td>125510.82</td>\n",
       "      <td>1.0</td>\n",
       "      <td>1.0</td>\n",
       "      <td>1.0</td>\n",
       "      <td>79084.10</td>\n",
       "      <td>0.0</td>\n",
       "      <td>0.0</td>\n",
       "      <td>1.0</td>\n",
       "      <td>0.0</td>\n",
       "    </tr>\n",
       "  </tbody>\n",
       "</table>\n",
       "</div>"
      ],
      "text/plain": [
       "   credit_score   age  tenure    balance  num_of_products  has_cr_card  \\\n",
       "0         619.0  42.0     2.0       0.00              1.0          1.0   \n",
       "1         608.0  41.0     1.0   83807.86              1.0          0.0   \n",
       "2         502.0  42.0     8.0  159660.80              3.0          1.0   \n",
       "3         699.0  39.0     1.0       0.00              2.0          0.0   \n",
       "4         850.0  43.0     2.0  125510.82              1.0          1.0   \n",
       "\n",
       "   is_active_member  estimated_salary  exited  geography_germany  \\\n",
       "0               1.0         101348.88     1.0                0.0   \n",
       "1               1.0         112542.58     0.0                0.0   \n",
       "2               0.0         113931.57     1.0                0.0   \n",
       "3               0.0          93826.63     0.0                0.0   \n",
       "4               1.0          79084.10     0.0                0.0   \n",
       "\n",
       "   geography_spain  gender_male  \n",
       "0              0.0          0.0  \n",
       "1              1.0          0.0  \n",
       "2              0.0          0.0  \n",
       "3              0.0          0.0  \n",
       "4              1.0          0.0  "
      ]
     },
     "execution_count": 15,
     "metadata": {},
     "output_type": "execute_result"
    }
   ],
   "source": [
    "imputer = KNNImputer()\n",
    "imputer.fit(df_ohe)\n",
    "df_knn = pd.DataFrame(imputer.transform(df_ohe), columns = df_ohe.columns)\n",
    "df_knn.head()"
   ]
  },
  {
   "cell_type": "code",
   "execution_count": 16,
   "id": "f73bfb32",
   "metadata": {},
   "outputs": [
    {
     "data": {
      "text/plain": [
       "credit_score         0\n",
       "age                  0\n",
       "tenure               0\n",
       "balance              0\n",
       "num_of_products      0\n",
       "has_cr_card          0\n",
       "is_active_member     0\n",
       "estimated_salary     0\n",
       "exited               0\n",
       "geography_germany    0\n",
       "geography_spain      0\n",
       "gender_male          0\n",
       "dtype: int64"
      ]
     },
     "execution_count": 16,
     "metadata": {},
     "output_type": "execute_result"
    }
   ],
   "source": [
    "df_knn.isna().sum()"
   ]
  },
  {
   "cell_type": "markdown",
   "id": "755457b5",
   "metadata": {},
   "source": [
    "Изучим зависимости признаков, чтобы избежать мультиколлинеарности"
   ]
  },
  {
   "cell_type": "code",
   "execution_count": 17,
   "id": "7382365b-c5ef-4c8f-a174-164837c45c51",
   "metadata": {},
   "outputs": [],
   "source": [
    "#sns.pairplot(df_knn);"
   ]
  },
  {
   "cell_type": "code",
   "execution_count": 18,
   "id": "0c0bca4a-fe46-40d6-9a5f-febec3e99d89",
   "metadata": {},
   "outputs": [
    {
     "data": {
      "image/png": "[encoded data removed]",
      "text/plain": [
       "<Figure size 432x288 with 2 Axes>"
      ]
     },
     "metadata": {
      "needs_background": "light"
     },
     "output_type": "display_data"
    }
   ],
   "source": [
    "plt.title('Матрица корреляции')\n",
    "sns.heatmap(df_knn.corr());"
   ]
  },
  {
   "cell_type": "markdown",
   "id": "9f41bcf6-2f70-48d5-b638-c6144f9dc21b",
   "metadata": {},
   "source": [
    "Сильных зависимостей в данных нет, значит мультиколлинеарность нам не страшна"
   ]
  },
  {
   "cell_type": "code",
   "execution_count": 19,
   "id": "e5a45ca7-4f8a-4d57-addd-d82f71bbd25d",
   "metadata": {},
   "outputs": [],
   "source": [
    "# отделим целевой признак от остальных\n",
    "X = df_knn.drop(['exited'], axis=1) # Целевой признак\n",
    "y = df_knn['exited'] # Остальные признаки"
   ]
  },
  {
   "cell_type": "markdown",
   "id": "8c357d66",
   "metadata": {},
   "source": [
    "Стандартизируем данные, чтобы модель не сочла какие-то важнее других"
   ]
  },
  {
   "cell_type": "code",
   "execution_count": 20,
   "id": "b745dd9c-ad74-48d7-a394-b92db3539cc6",
   "metadata": {},
   "outputs": [
    {
     "data": {
      "text/html": [
       "<div>\n",
       "<style scoped>\n",
       "    .dataframe tbody tr th:only-of-type {\n",
       "        vertical-align: middle;\n",
       "    }\n",
       "\n",
       "    .dataframe tbody tr th {\n",
       "        vertical-align: top;\n",
       "    }\n",
       "\n",
       "    .dataframe thead th {\n",
       "        text-align: right;\n",
       "    }\n",
       "</style>\n",
       "<table border=\"1\" class=\"dataframe\">\n",
       "  <thead>\n",
       "    <tr style=\"text-align: right;\">\n",
       "      <th></th>\n",
       "      <th>credit_score</th>\n",
       "      <th>age</th>\n",
       "      <th>tenure</th>\n",
       "      <th>balance</th>\n",
       "      <th>num_of_products</th>\n",
       "      <th>has_cr_card</th>\n",
       "      <th>is_active_member</th>\n",
       "      <th>estimated_salary</th>\n",
       "      <th>geography_germany</th>\n",
       "      <th>geography_spain</th>\n",
       "      <th>gender_male</th>\n",
       "    </tr>\n",
       "  </thead>\n",
       "  <tbody>\n",
       "    <tr>\n",
       "      <th>0</th>\n",
       "      <td>619.0</td>\n",
       "      <td>42.0</td>\n",
       "      <td>2.0</td>\n",
       "      <td>0.00</td>\n",
       "      <td>1.0</td>\n",
       "      <td>1.0</td>\n",
       "      <td>1.0</td>\n",
       "      <td>101348.88</td>\n",
       "      <td>0.0</td>\n",
       "      <td>0.0</td>\n",
       "      <td>0.0</td>\n",
       "    </tr>\n",
       "    <tr>\n",
       "      <th>1</th>\n",
       "      <td>608.0</td>\n",
       "      <td>41.0</td>\n",
       "      <td>1.0</td>\n",
       "      <td>83807.86</td>\n",
       "      <td>1.0</td>\n",
       "      <td>0.0</td>\n",
       "      <td>1.0</td>\n",
       "      <td>112542.58</td>\n",
       "      <td>0.0</td>\n",
       "      <td>1.0</td>\n",
       "      <td>0.0</td>\n",
       "    </tr>\n",
       "    <tr>\n",
       "      <th>2</th>\n",
       "      <td>502.0</td>\n",
       "      <td>42.0</td>\n",
       "      <td>8.0</td>\n",
       "      <td>159660.80</td>\n",
       "      <td>3.0</td>\n",
       "      <td>1.0</td>\n",
       "      <td>0.0</td>\n",
       "      <td>113931.57</td>\n",
       "      <td>0.0</td>\n",
       "      <td>0.0</td>\n",
       "      <td>0.0</td>\n",
       "    </tr>\n",
       "    <tr>\n",
       "      <th>3</th>\n",
       "      <td>699.0</td>\n",
       "      <td>39.0</td>\n",
       "      <td>1.0</td>\n",
       "      <td>0.00</td>\n",
       "      <td>2.0</td>\n",
       "      <td>0.0</td>\n",
       "      <td>0.0</td>\n",
       "      <td>93826.63</td>\n",
       "      <td>0.0</td>\n",
       "      <td>0.0</td>\n",
       "      <td>0.0</td>\n",
       "    </tr>\n",
       "    <tr>\n",
       "      <th>4</th>\n",
       "      <td>850.0</td>\n",
       "      <td>43.0</td>\n",
       "      <td>2.0</td>\n",
       "      <td>125510.82</td>\n",
       "      <td>1.0</td>\n",
       "      <td>1.0</td>\n",
       "      <td>1.0</td>\n",
       "      <td>79084.10</td>\n",
       "      <td>0.0</td>\n",
       "      <td>1.0</td>\n",
       "      <td>0.0</td>\n",
       "    </tr>\n",
       "  </tbody>\n",
       "</table>\n",
       "</div>"
      ],
      "text/plain": [
       "   credit_score   age  tenure    balance  num_of_products  has_cr_card  \\\n",
       "0         619.0  42.0     2.0       0.00              1.0          1.0   \n",
       "1         608.0  41.0     1.0   83807.86              1.0          0.0   \n",
       "2         502.0  42.0     8.0  159660.80              3.0          1.0   \n",
       "3         699.0  39.0     1.0       0.00              2.0          0.0   \n",
       "4         850.0  43.0     2.0  125510.82              1.0          1.0   \n",
       "\n",
       "   is_active_member  estimated_salary  geography_germany  geography_spain  \\\n",
       "0               1.0         101348.88                0.0              0.0   \n",
       "1               1.0         112542.58                0.0              1.0   \n",
       "2               0.0         113931.57                0.0              0.0   \n",
       "3               0.0          93826.63                0.0              0.0   \n",
       "4               1.0          79084.10                0.0              1.0   \n",
       "\n",
       "   gender_male  \n",
       "0          0.0  \n",
       "1          0.0  \n",
       "2          0.0  \n",
       "3          0.0  \n",
       "4          0.0  "
      ]
     },
     "execution_count": 20,
     "metadata": {},
     "output_type": "execute_result"
    }
   ],
   "source": [
    "X.head()"
   ]
  },
  {
   "cell_type": "markdown",
   "id": "7092e4a4-9d0d-41b5-9755-05657551b35a",
   "metadata": {},
   "source": [
    "Разделим выборку на тренировочную, валидационную и тестовую в соотношении 3:1:1 соотвественно"
   ]
  },
  {
   "cell_type": "code",
   "execution_count": 21,
   "id": "e00fcc26-5af8-49dd-81ee-fca826b56014",
   "metadata": {},
   "outputs": [],
   "source": [
    "X_train, X_test, y_train, y_test = train_test_split(X, y, test_size =0.4, random_state=42, stratify=y)"
   ]
  },
  {
   "cell_type": "code",
   "execution_count": 22,
   "id": "44aa6c52",
   "metadata": {},
   "outputs": [],
   "source": [
    "X_valid, X_test, y_valid, y_test = train_test_split(X_test, y_test, test_size =0.5, random_state=42, stratify=y_test)"
   ]
  },
  {
   "cell_type": "code",
   "execution_count": 23,
   "id": "0987e3d3",
   "metadata": {},
   "outputs": [
    {
     "name": "stdout",
     "output_type": "stream",
     "text": [
      "Количество строк в y_train по классам: [4778 1222]\n",
      "Количество строк в y_valid по классам: [1592  408]\n",
      "Количество строк в y_test по классам: [1593  407]\n"
     ]
    }
   ],
   "source": [
    "print(f\"Количество строк в y_train по классам: {np.bincount(y_train)}\")\n",
    "print(f\"Количество строк в y_valid по классам: {np.bincount(y_valid)}\")\n",
    "print(f\"Количество строк в y_test по классам: {np.bincount(y_test)}\")"
   ]
  },
  {
   "cell_type": "code",
   "execution_count": 24,
   "id": "22cf06e3-146f-4a7e-b7eb-dc960cc3c9a2",
   "metadata": {},
   "outputs": [],
   "source": [
    "numeric = ['credit_score', 'age', 'tenure', 'balance', 'num_of_products', 'estimated_salary']"
   ]
  },
  {
   "cell_type": "code",
   "execution_count": 25,
   "id": "60f19f7a-2fcf-4105-a9b1-c7079c610b47",
   "metadata": {},
   "outputs": [],
   "source": [
    "scaler = StandardScaler()\n",
    "scaler.fit(X_train[numeric])\n",
    "X_train[numeric] = scaler.transform(X_train[numeric])\n",
    "X_valid[numeric] = scaler.transform(X_valid[numeric])\n",
    "X_test[numeric] = scaler.transform(X_test[numeric])"
   ]
  },
  {
   "cell_type": "code",
   "execution_count": 24,
   "id": "d832705e-63c2-4149-946a-cc2b489d28f8",
   "metadata": {},
   "outputs": [
    {
     "name": "stdout",
     "output_type": "stream",
     "text": [
      "(6000, 11)\n",
      "(6000,)\n",
      "(2000, 11)\n",
      "(2000,)\n",
      "(2000, 11)\n"
     ]
    },
    {
     "data": {
      "text/plain": [
       "(2000,)"
      ]
     },
     "execution_count": 24,
     "metadata": {},
     "output_type": "execute_result"
    }
   ],
   "source": [
    "print(X_train.shape)\n",
    "print(y_train.shape)\n",
    "print(X_valid.shape)\n",
    "print(y_valid.shape)\n",
    "print(X_test.shape)\n",
    "y_test.shape"
   ]
  },
  {
   "cell_type": "markdown",
   "id": "7e003a6c-69be-4a61-806d-4e267d52bd54",
   "metadata": {},
   "source": [
    "## Исследование баланса классов"
   ]
  },
  {
   "cell_type": "code",
   "execution_count": 25,
   "id": "02cd0dc9-a672-41c6-8b7c-3988ae38b1cf",
   "metadata": {},
   "outputs": [
    {
     "data": {
      "image/png": "[encoded data removed]",
      "text/plain": [
       "<Figure size 432x288 with 1 Axes>"
      ]
     },
     "metadata": {},
     "output_type": "display_data"
    }
   ],
   "source": [
    "classes = y.value_counts()\n",
    "plt.title('Баланс классов')\n",
    "plt.pie(classes, labels=classes.index, autopct='%.0f%%');"
   ]
  },
  {
   "cell_type": "markdown",
   "id": "13fc98a8-683d-49ba-90ba-ccd7ec538f6a",
   "metadata": {},
   "source": [
    "Клиентов отказавшихся от услуг банка всего 20% в выборке."
   ]
  },
  {
   "cell_type": "markdown",
   "id": "ef70dc0d-df56-4fda-be2d-a64b2ecf353c",
   "metadata": {},
   "source": [
    "## Обучение модели"
   ]
  },
  {
   "cell_type": "markdown",
   "id": "57d58348-0b41-432c-b577-ef0ff9371a28",
   "metadata": {},
   "source": [
    "Напишу функцию для подсчета метрик"
   ]
  },
  {
   "cell_type": "code",
   "execution_count": 26,
   "id": "22fb5b30",
   "metadata": {},
   "outputs": [],
   "source": [
    "def scores(model,X_train,y_train, X_valid, y_valid):\n",
    "    model_pred_train = model.predict(X_train)\n",
    "    model_pred_prob_train = model.predict_proba(X_train)\n",
    "    auc_roc_train = roc_auc_score(y_train, model_pred_prob_train[:, 1])\n",
    "    f1_train = 0\n",
    "    treshold_max_train = 0\n",
    "    for threshold in np.arange(0, 0.9, 0.02):\n",
    "        predicted = model_pred_prob_train[:, 1] > threshold\n",
    "        f1 = f1_score(y_train, predicted)\n",
    "        if f1_train < f1:\n",
    "            f1_train = f1\n",
    "            treshold_max_train = threshold\n",
    "        \n",
    "\n",
    "    \n",
    "    model_pred_valid = model.predict(X_valid)\n",
    "    model_pred_prob_valid = model.predict_proba(X_valid)\n",
    "    auc_roc_valid = roc_auc_score(y_valid, model_pred_prob_valid[:, 1])\n",
    "    f1_valid = 0\n",
    "    treshold_max_valid = 0\n",
    "    for threshold in np.arange(0, 0.9, 0.02):\n",
    "        predicted = model_pred_prob_valid[:, 1] > threshold\n",
    "        f1 = f1_score(y_valid, predicted)\n",
    "        if f1_valid < f1:\n",
    "            f1_valid = f1\n",
    "            treshold_max_valid = threshold\n",
    "    \n",
    "    print(f'F1 для обучающей выборки: {f1_train} , порог {treshold_max_train}')\n",
    "    print(f'AUC_ROC для обучающей выборки: {auc_roc_train}')\n",
    "    print(f'')\n",
    "    print(f'F1 для валидационной выборки: {f1_valid}, порог {treshold_max_valid}')\n",
    "    print(f'AUC_ROC для валидационной выборки: {auc_roc_valid}')"
   ]
  },
  {
   "cell_type": "markdown",
   "id": "e74594e0",
   "metadata": {},
   "source": [
    "Создадим фиктивную модель для проверки адекватности нашей"
   ]
  },
  {
   "cell_type": "code",
   "execution_count": 27,
   "id": "ec84351a-290d-470b-8373-4c64c0960a8d",
   "metadata": {},
   "outputs": [
    {
     "name": "stdout",
     "output_type": "stream",
     "text": [
      "F1 для обучающей выборки: 0.33841041262808086 , порог 0.0\n",
      "AUC_ROC для обучающей выборки: 0.5\n",
      "\n",
      "F1 для валидационной выборки: 0.3388704318936877, порог 0.0\n",
      "AUC_ROC для валидационной выборки: 0.5\n",
      "None\n"
     ]
    }
   ],
   "source": [
    "dummy = DummyClassifier(random_state=42)\n",
    "dummy.fit(X_train, y_train)\n",
    "print(scores(dummy,X_train, y_train, X_valid, y_valid))"
   ]
  },
  {
   "cell_type": "markdown",
   "id": "38011baf",
   "metadata": {},
   "source": [
    "### Рандомный лес"
   ]
  },
  {
   "cell_type": "code",
   "execution_count": 29,
   "id": "41446eec-bf24-445b-a326-35dc34a0b9ac",
   "metadata": {},
   "outputs": [
    {
     "data": {
      "text/plain": [
       "''"
      ]
     },
     "execution_count": 29,
     "metadata": {},
     "output_type": "execute_result"
    }
   ],
   "source": [
    "\"\"\"\n",
    "rfc = RandomForestClassifier(random_state=42)\n",
    "parametrs = { 'n_estimators': range (10, 101, 10),\n",
    "              'max_depth': range (1,13, 2),\n",
    "              'min_samples_leaf': range (1,8),\n",
    "              'min_samples_split': range (2,10,2) }\n",
    " \n",
    " \n",
    "grid = GridSearchCV(rfc, parametrs, cv=5)\n",
    "grid.fit(X_train, y_train)\n",
    "grid.best_params_\"\"\"\n",
    "\"\""
   ]
  },
  {
   "cell_type": "code",
   "execution_count": null,
   "id": "33628b74",
   "metadata": {},
   "outputs": [],
   "source": [
    "search_space = {\"bootstrap\": Categorical([True, False]), \n",
    "        \"max_depth\": Integer(6, 20), \n",
    "        \"max_features\": Categorical(['auto', 'sqrt','log2']), \n",
    "        \"min_samples_leaf\": Integer(2, 10),\n",
    "        \"min_samples_split\": Integer(2, 10),\n",
    "        \"n_estimators\": Integer(100, 500) }"
   ]
  },
  {
   "cell_type": "code",
   "execution_count": null,
   "id": "c6562cc7",
   "metadata": {},
   "outputs": [],
   "source": [
    "'''\n",
    "rfc = RandomForestClassifier(random_state=42)\n",
    "\n",
    "bayes = BayesSearchCV(rfc, search_space, n_iter = 30, random_state=42)\n",
    "bayes.fit(X_train, y_train)\n",
    "bayes.best_params_'''"
   ]
  },
  {
   "cell_type": "markdown",
   "id": "70800585",
   "metadata": {},
   "source": [
    "Wall time: 4min 34s  \n",
    "OrderedDict([('bootstrap', True),  \n",
    "             ('max_depth', 20),  \n",
    "             ('max_features', 'auto'),  \n",
    "             ('min_samples_leaf', 2),  \n",
    "             ('min_samples_split', 10),  \n",
    "             ('n_estimators', 174)])  "
   ]
  },
  {
   "cell_type": "code",
   "execution_count": 71,
   "id": "c69d9871-1685-4f1f-b2d6-5409998fb738",
   "metadata": {},
   "outputs": [
    {
     "name": "stdout",
     "output_type": "stream",
     "text": [
      "F1 для обучающей выборки: 0.8123728123728123 , порог 0.32\n",
      "AUC_ROC для обучающей выборки: 0.9698885850930239\n",
      "\n",
      "F1 для валидационной выборки: 0.6407035175879398, порог 0.36\n",
      "AUC_ROC для валидационной выборки: 0.8754464725588728\n"
     ]
    }
   ],
   "source": [
    "rfc = RandomForestClassifier(max_depth=11, \n",
    "                             n_estimators=80, \n",
    "                             min_samples_leaf=1, \n",
    "                             min_samples_split=8, \n",
    "                             random_state=42)\n",
    "rfc.fit(X_train, y_train)\n",
    "scores(rfc, X_train, y_train, X_valid, y_valid)"
   ]
  },
  {
   "cell_type": "code",
   "execution_count": 31,
   "id": "b3c69b50",
   "metadata": {},
   "outputs": [],
   "source": [
    "def plot_roc_curve(fper, tper):\n",
    "    plt.plot(fper, tper, label='ROC')\n",
    "    plt.plot([0, 1], [0, 1], linestyle='--')\n",
    "    plt.xlabel('False Positive Rate')\n",
    "    plt.ylabel('True Positive Rate')\n",
    "    plt.title('ROC-кривая')\n",
    "    plt.legend()"
   ]
  },
  {
   "cell_type": "code",
   "execution_count": 32,
   "id": "1d1859bf",
   "metadata": {},
   "outputs": [
    {
     "data": {
      "image/png": "[encoded data removed]",
      "text/plain": [
       "<Figure size 432x288 with 1 Axes>"
      ]
     },
     "metadata": {
      "needs_background": "light"
     },
     "output_type": "display_data"
    }
   ],
   "source": [
    "prob = rfc.predict_proba(X_test)\n",
    "prob = prob[:, 1]\n",
    "fper, tper, thresholds = roc_curve(y_test, prob)\n",
    "plot_roc_curve(fper, tper)"
   ]
  },
  {
   "cell_type": "markdown",
   "id": "7adb647e",
   "metadata": {},
   "source": [
    "\n",
    "### Обучающее дерево"
   ]
  },
  {
   "cell_type": "code",
   "execution_count": 33,
   "id": "cfc9b890",
   "metadata": {},
   "outputs": [
    {
     "name": "stdout",
     "output_type": "stream",
     "text": [
      "Wall time: 1.22 s\n"
     ]
    },
    {
     "data": {
      "text/plain": [
       "{'max_depth': 6}"
      ]
     },
     "execution_count": 33,
     "metadata": {},
     "output_type": "execute_result"
    }
   ],
   "source": [
    "%%time\n",
    "dtc = DecisionTreeClassifier(random_state=42)\n",
    "parametr = { 'max_depth': range (1,15) }\n",
    "grid = GridSearchCV(dtc, parametr, cv=5)\n",
    "grid.fit(X_train, y_train)\n",
    "grid.best_params_"
   ]
  },
  {
   "cell_type": "code",
   "execution_count": 34,
   "id": "767702df",
   "metadata": {},
   "outputs": [
    {
     "name": "stdout",
     "output_type": "stream",
     "text": [
      "F1 для обучающей выборки: 0.6141732283464566 , порог 0.26\n",
      "AUC_ROC для обучающей выборки: 0.8604347257170927\n",
      "\n",
      "F1 для валидационной выборки: 0.5919701213818861, порог 0.14\n",
      "AUC_ROC для валидационной выборки: 0.8443904571879003\n"
     ]
    }
   ],
   "source": [
    "dtc = DecisionTreeClassifier(max_depth = 6, random_state=42)\n",
    "dtc.fit(X_train, y_train)\n",
    "scores(dtc, X_train, y_train, X_valid, y_valid)"
   ]
  },
  {
   "cell_type": "code",
   "execution_count": 35,
   "id": "f27b3e6f",
   "metadata": {},
   "outputs": [
    {
     "data": {
      "image/png": "[encoded data removed]",
      "text/plain": [
       "<Figure size 432x288 with 1 Axes>"
      ]
     },
     "metadata": {
      "needs_background": "light"
     },
     "output_type": "display_data"
    }
   ],
   "source": [
    "prob = dtc.predict_proba(X_test)\n",
    "prob = prob[:, 1]\n",
    "fper, tper, thresholds = roc_curve(y_test, prob)\n",
    "plot_roc_curve(fper, tper)"
   ]
  },
  {
   "cell_type": "markdown",
   "id": "ae930e8f",
   "metadata": {},
   "source": [
    "### Логистическая регрессия "
   ]
  },
  {
   "cell_type": "code",
   "execution_count": 36,
   "id": "d5334614-63a3-45c7-b96c-fa5dbe021d64",
   "metadata": {},
   "outputs": [
    {
     "name": "stdout",
     "output_type": "stream",
     "text": [
      "F1 для обучающей выборки: 0.48806018972849197 , порог 0.24\n",
      "AUC_ROC для обучающей выборки: 0.7581524773597482\n",
      "\n",
      "F1 для валидационной выборки: 0.5271317829457364, порог 0.28\n",
      "AUC_ROC для валидационной выборки: 0.7906952039609815\n"
     ]
    }
   ],
   "source": [
    "lr = LogisticRegression(random_state=42, solver='liblinear')\n",
    "lr.fit(X_train, y_train)\n",
    "scores(lr, X_train, y_train, X_valid, y_valid)"
   ]
  },
  {
   "cell_type": "code",
   "execution_count": 37,
   "id": "a8022a3e",
   "metadata": {},
   "outputs": [
    {
     "data": {
      "image/png": "[encoded data removed]",
      "text/plain": [
       "<Figure size 432x288 with 1 Axes>"
      ]
     },
     "metadata": {
      "needs_background": "light"
     },
     "output_type": "display_data"
    }
   ],
   "source": [
    "prob = lr.predict_proba(X_test)\n",
    "prob = prob[:, 1]\n",
    "fper, tper, thresholds = roc_curve(y_test, prob)\n",
    "plot_roc_curve(fper, tper)"
   ]
  },
  {
   "cell_type": "markdown",
   "id": "59d6b775",
   "metadata": {},
   "source": [
    "#### Выводы"
   ]
  },
  {
   "cell_type": "markdown",
   "id": "bdb3f3f6",
   "metadata": {},
   "source": [
    "На данных с дисбалансом классов 4:1 лучше всего себя показала модель рандомного леса, с значением f1 - 0.607, хуже всех справилась логистическая регрессия: f1 = 0.494"
   ]
  },
  {
   "cell_type": "markdown",
   "id": "5583a1fd-4dca-4762-869b-01574df37d9e",
   "metadata": {},
   "source": [
    "## Устранение дисбаланса"
   ]
  },
  {
   "cell_type": "markdown",
   "id": "db7c3d96",
   "metadata": {},
   "source": [
    "### Уменьшение выборки"
   ]
  },
  {
   "cell_type": "code",
   "execution_count": 38,
   "id": "19e99dad",
   "metadata": {},
   "outputs": [],
   "source": [
    "def downsample(X,y,fraction):\n",
    "    X_zeros = X.query('@y == 0')\n",
    "    X_ones = X.query('@y == 1')\n",
    "    y_zeros = y[y == 0]\n",
    "    y_ones = y[y == 1]\n",
    "\n",
    "    X_downsampled = pd.concat(\n",
    "        [X_zeros.sample(frac=fraction, random_state=42)] + [X_ones])\n",
    "    y_downsampled = pd.concat(\n",
    "        [y_zeros.sample(frac=fraction, random_state=42)] + [y_ones])\n",
    "    \n",
    "    X_downsampled, y_downsampled = shuffle(\n",
    "        X_downsampled, y_downsampled, random_state=42)\n",
    "    \n",
    "    return X_downsampled, y_downsampled"
   ]
  },
  {
   "cell_type": "code",
   "execution_count": 39,
   "id": "67b730a1",
   "metadata": {},
   "outputs": [
    {
     "name": "stdout",
     "output_type": "stream",
     "text": [
      "(2416, 11)\n"
     ]
    },
    {
     "data": {
      "text/plain": [
       "(2416,)"
      ]
     },
     "execution_count": 39,
     "metadata": {},
     "output_type": "execute_result"
    }
   ],
   "source": [
    "X_downsampled, y_downsampled = downsample(X_train, y_train, 0.25)\n",
    "print(X_downsampled.shape)\n",
    "y_downsampled.shape"
   ]
  },
  {
   "cell_type": "code",
   "execution_count": 40,
   "id": "09e8f83a",
   "metadata": {},
   "outputs": [
    {
     "data": {
      "image/png": "[encoded data removed]",
      "text/plain": [
       "<Figure size 432x288 with 1 Axes>"
      ]
     },
     "metadata": {},
     "output_type": "display_data"
    }
   ],
   "source": [
    "classes = y_downsampled.value_counts()\n",
    "plt.title('Баланс классов')\n",
    "plt.pie(classes, labels=classes.index, autopct='%.0f%%');"
   ]
  },
  {
   "cell_type": "markdown",
   "id": "5612de9d",
   "metadata": {},
   "source": [
    "Фиктивная модель"
   ]
  },
  {
   "cell_type": "code",
   "execution_count": 41,
   "id": "f42fc484",
   "metadata": {},
   "outputs": [
    {
     "name": "stdout",
     "output_type": "stream",
     "text": [
      "F1 для обучающей выборки: 0.6717976910390324 , порог 0.0\n",
      "AUC_ROC для обучающей выборки: 0.5\n",
      "\n",
      "F1 для валидационной выборки: 0.3388704318936877, порог 0.0\n",
      "AUC_ROC для валидационной выборки: 0.5\n",
      "None\n"
     ]
    }
   ],
   "source": [
    "dummy = DummyClassifier(random_state=42)\n",
    "dummy.fit(X_downsampled, y_downsampled)\n",
    "print(scores(dummy, X_downsampled, y_downsampled, X_valid, y_valid))"
   ]
  },
  {
   "cell_type": "markdown",
   "id": "cd034405",
   "metadata": {},
   "source": [
    "#### Рандомный лес"
   ]
  },
  {
   "cell_type": "code",
   "execution_count": 42,
   "id": "feb3ae42",
   "metadata": {},
   "outputs": [],
   "source": [
    "#rfc_new = RandomForestClassifier(random_state=42)"
   ]
  },
  {
   "cell_type": "code",
   "execution_count": 43,
   "id": "a1eb6aed",
   "metadata": {},
   "outputs": [
    {
     "data": {
      "text/plain": [
       "''"
      ]
     },
     "execution_count": 43,
     "metadata": {},
     "output_type": "execute_result"
    }
   ],
   "source": [
    "\"\"\"%%time\n",
    "grid = GridSearchCV(rfc_new, parametrs, cv=5)\n",
    "grid.fit(X_downsampled, y_downsampled)\n",
    "grid.best_params_\"\"\"\n",
    "\"\""
   ]
  },
  {
   "cell_type": "markdown",
   "id": "61ca5453",
   "metadata": {},
   "source": [
    "{'max_depth': 9,  \n",
    " 'min_samples_leaf': 2,  \n",
    " 'min_samples_split': 8,  \n",
    " 'n_estimators': 30}  "
   ]
  },
  {
   "cell_type": "code",
   "execution_count": null,
   "id": "e6e296f3",
   "metadata": {},
   "outputs": [],
   "source": [
    "'''\n",
    "rfc_new = RandomForestClassifier(random_state=42)\n",
    "\n",
    "bayes = BayesSearchCV(rfc_new, search_space, n_iter = 30, random_state=42)\n",
    "bayes.fit(X_train, y_train)\n",
    "bayes.best_params_'''"
   ]
  },
  {
   "cell_type": "markdown",
   "id": "45e4f41a",
   "metadata": {},
   "source": [
    "Wall time: 2min 33s  \n",
    "OrderedDict([('bootstrap', True),  \n",
    "             ('max_depth', 14),  \n",
    "             ('max_features', 'sqrt'),  \n",
    "             ('min_samples_leaf', 2),  \n",
    "             ('min_samples_split', 10),  \n",
    "             ('n_estimators', 133)])  "
   ]
  },
  {
   "cell_type": "code",
   "execution_count": 44,
   "id": "e34bc927",
   "metadata": {},
   "outputs": [
    {
     "name": "stdout",
     "output_type": "stream",
     "text": [
      "F1 для обучающей выборки: 0.8773354995938262 , порог 0.46\n",
      "AUC_ROC для обучающей выборки: 0.9503045779908819\n",
      "\n",
      "F1 для валидационной выборки: 0.6257242178447276, порог 0.6\n",
      "AUC_ROC для валидационной выборки: 0.8667294807370186\n"
     ]
    }
   ],
   "source": [
    "rfc_new = RandomForestClassifier(max_depth=9, \n",
    "                             n_estimators=30, \n",
    "                             min_samples_leaf=2, \n",
    "                             min_samples_split=8, \n",
    "                             random_state=42)\n",
    "rfc_new.fit(X_downsampled, y_downsampled)\n",
    "scores(rfc_new, X_downsampled, y_downsampled, X_valid, y_valid)"
   ]
  },
  {
   "cell_type": "code",
   "execution_count": 45,
   "id": "f9d4ac73",
   "metadata": {},
   "outputs": [
    {
     "data": {
      "image/png": "[encoded data removed]",
      "text/plain": [
       "<Figure size 432x288 with 1 Axes>"
      ]
     },
     "metadata": {
      "needs_background": "light"
     },
     "output_type": "display_data"
    }
   ],
   "source": [
    "prob = rfc_new.predict_proba(X_test)\n",
    "prob = prob[:, 1]\n",
    "fper, tper, thresholds = roc_curve(y_test, prob)\n",
    "plot_roc_curve(fper, tper)"
   ]
  },
  {
   "cell_type": "markdown",
   "id": "62bed546",
   "metadata": {},
   "source": [
    "#### Обучающее дерево"
   ]
  },
  {
   "cell_type": "code",
   "execution_count": 46,
   "id": "c4dc105d",
   "metadata": {},
   "outputs": [
    {
     "name": "stdout",
     "output_type": "stream",
     "text": [
      "Wall time: 612 ms\n"
     ]
    },
    {
     "data": {
      "text/plain": [
       "{'max_depth': 5}"
      ]
     },
     "execution_count": 46,
     "metadata": {},
     "output_type": "execute_result"
    }
   ],
   "source": [
    "%%time\n",
    "dtc_new = DecisionTreeClassifier(random_state=42)\n",
    "grid = GridSearchCV(dtc_new, parametr, cv=5)\n",
    "grid.fit(X_downsampled, y_downsampled)\n",
    "grid.best_params_\n"
   ]
  },
  {
   "cell_type": "code",
   "execution_count": 47,
   "id": "e0f87a1b",
   "metadata": {},
   "outputs": [
    {
     "name": "stdout",
     "output_type": "stream",
     "text": [
      "F1 для обучающей выборки: 0.779530588687957 , порог 0.32\n",
      "AUC_ROC для обучающей выборки: 0.8528975345905742\n",
      "\n",
      "F1 для валидационной выборки: 0.5984251968503937, порог 0.6\n",
      "AUC_ROC для валидационной выборки: 0.8370167319440339\n"
     ]
    }
   ],
   "source": [
    "dtc_new = DecisionTreeClassifier(max_depth = 5, random_state=42)\n",
    "dtc_new.fit(X_downsampled, y_downsampled)\n",
    "scores(dtc_new, X_downsampled, y_downsampled, X_valid, y_valid)"
   ]
  },
  {
   "cell_type": "code",
   "execution_count": 48,
   "id": "4e3e0c84",
   "metadata": {},
   "outputs": [
    {
     "data": {
      "image/png": "[encoded data removed]",
      "text/plain": [
       "<Figure size 432x288 with 1 Axes>"
      ]
     },
     "metadata": {
      "needs_background": "light"
     },
     "output_type": "display_data"
    }
   ],
   "source": [
    "prob = dtc_new.predict_proba(X_test)\n",
    "prob = prob[:, 1]\n",
    "fper, tper, thresholds = roc_curve(y_test, prob)\n",
    "plot_roc_curve(fper, tper)"
   ]
  },
  {
   "cell_type": "markdown",
   "id": "8ec56da3",
   "metadata": {},
   "source": [
    "#### Логистическая регрессия"
   ]
  },
  {
   "cell_type": "code",
   "execution_count": 49,
   "id": "3665b953",
   "metadata": {},
   "outputs": [
    {
     "name": "stdout",
     "output_type": "stream",
     "text": [
      "F1 для обучающей выборки: 0.7304964539007092 , порог 0.38\n",
      "AUC_ROC для обучающей выборки: 0.7652850998034362\n",
      "\n",
      "F1 для валидационной выборки: 0.5316184351554126, порог 0.6\n",
      "AUC_ROC для валидационной выборки: 0.7939559932013006\n"
     ]
    }
   ],
   "source": [
    "lr_new = LogisticRegression(random_state=42, solver='liblinear')\n",
    "lr_new.fit(X_downsampled, y_downsampled)\n",
    "scores(lr_new, X_downsampled, y_downsampled, X_valid, y_valid)"
   ]
  },
  {
   "cell_type": "code",
   "execution_count": 50,
   "id": "3e1c6c1a",
   "metadata": {},
   "outputs": [
    {
     "data": {
      "image/png": "[encoded data removed]",
      "text/plain": [
       "<Figure size 432x288 with 1 Axes>"
      ]
     },
     "metadata": {
      "needs_background": "light"
     },
     "output_type": "display_data"
    }
   ],
   "source": [
    "prob = lr_new.predict_proba(X_test)\n",
    "prob = prob[:, 1]\n",
    "fper, tper, thresholds = roc_curve(y_test, prob)\n",
    "plot_roc_curve(fper, tper)"
   ]
  },
  {
   "cell_type": "markdown",
   "id": "65659789",
   "metadata": {},
   "source": [
    "#### Выводы"
   ]
  },
  {
   "cell_type": "markdown",
   "id": "b767b317",
   "metadata": {},
   "source": [
    "Мы устранили дисбаланс классов, уменьшив выборку, лучше всего себя снова показала модель рандомного леса, с значением f1 - 0.636, хуже всех справилась логистическая регрессия: f1 = 0.526.  \n",
    "При этом значения AUC_ROC остались почти теми же."
   ]
  },
  {
   "cell_type": "markdown",
   "id": "71116c40",
   "metadata": {},
   "source": [
    "### Увеличение выборки"
   ]
  },
  {
   "cell_type": "code",
   "execution_count": 51,
   "id": "d16d334d-9717-4453-990a-e4673e5c40e3",
   "metadata": {},
   "outputs": [],
   "source": [
    "def upsample(X,y,repeat):\n",
    "    X_zeros = X.query('@y == 0')\n",
    "    X_ones = X.query('@y == 1')\n",
    "    y_zeros = y[y == 0]\n",
    "    y_ones = y[y == 1]\n",
    "    \n",
    "    X_upsampled = pd.concat([X_zeros]+[X_ones]*repeat)\n",
    "    y_upsampled = pd.concat([y_zeros]+[y_ones]*repeat)\n",
    "    \n",
    "    X_upsampled, y_upsampled = shuffle(X_upsampled, y_upsampled, random_state=42)\n",
    "    \n",
    "    return X_upsampled, y_upsampled"
   ]
  },
  {
   "cell_type": "code",
   "execution_count": 52,
   "id": "eea13b43-1be7-496e-9c40-f82911a70ae6",
   "metadata": {},
   "outputs": [
    {
     "name": "stdout",
     "output_type": "stream",
     "text": [
      "(9666, 11)\n"
     ]
    },
    {
     "data": {
      "text/plain": [
       "(9666,)"
      ]
     },
     "execution_count": 52,
     "metadata": {},
     "output_type": "execute_result"
    }
   ],
   "source": [
    "X_upsampled, y_upsampled = upsample(X_train,y_train,4)\n",
    "print(X_upsampled.shape)\n",
    "y_upsampled.shape"
   ]
  },
  {
   "cell_type": "code",
   "execution_count": 53,
   "id": "fc4e7753-7b1d-49ec-81e3-7ad37f291d05",
   "metadata": {},
   "outputs": [
    {
     "data": {
      "image/png": "[encoded data removed]",
      "text/plain": [
       "<Figure size 432x288 with 1 Axes>"
      ]
     },
     "metadata": {},
     "output_type": "display_data"
    }
   ],
   "source": [
    "classes = y_upsampled.value_counts()\n",
    "plt.title('Баланс классов')\n",
    "plt.pie(classes, labels=classes.index, autopct='%.0f%%');"
   ]
  },
  {
   "cell_type": "markdown",
   "id": "fc9d236a",
   "metadata": {},
   "source": [
    "Фиктивная модель"
   ]
  },
  {
   "cell_type": "code",
   "execution_count": 54,
   "id": "c3ece1dc",
   "metadata": {},
   "outputs": [
    {
     "name": "stdout",
     "output_type": "stream",
     "text": [
      "F1 для обучающей выборки: 0.6717053730933077 , порог 0.0\n",
      "AUC_ROC для обучающей выборки: 0.5\n",
      "\n",
      "F1 для валидационной выборки: 0.3388704318936877, порог 0.0\n",
      "AUC_ROC для валидационной выборки: 0.5\n",
      "None\n"
     ]
    }
   ],
   "source": [
    "dummy = DummyClassifier(random_state=42)\n",
    "dummy.fit(X_upsampled, y_upsampled)\n",
    "print(scores(dummy, X_upsampled, y_upsampled, X_valid, y_valid))"
   ]
  },
  {
   "cell_type": "markdown",
   "id": "e2660a4a",
   "metadata": {},
   "source": [
    "#### Рандомный лес"
   ]
  },
  {
   "cell_type": "code",
   "execution_count": 55,
   "id": "5bb30e1c-4e78-4852-b1da-a6886e6e661c",
   "metadata": {},
   "outputs": [],
   "source": [
    "#rfc_new = RandomForestClassifier(random_state=42)"
   ]
  },
  {
   "cell_type": "code",
   "execution_count": 56,
   "id": "ae1e24e5-8d8d-48f4-8284-28d12051701b",
   "metadata": {},
   "outputs": [
    {
     "data": {
      "text/plain": [
       "''"
      ]
     },
     "execution_count": 56,
     "metadata": {},
     "output_type": "execute_result"
    }
   ],
   "source": [
    "\"\"\"%%time\n",
    "grid = GridSearchCV(rfc_new, parametrs, cv=5)\n",
    "grid.fit(X_upsampled, y_upsampled)\n",
    "grid.best_params_\"\"\"\n",
    "\"\""
   ]
  },
  {
   "cell_type": "markdown",
   "id": "7d9bf848-4c90-4740-9511-0cb0aeba5608",
   "metadata": {},
   "source": [
    "{'max_depth': 11,  \n",
    " 'min_samples_leaf': 1,  \n",
    " 'min_samples_split': 2,  \n",
    " 'n_estimators': 100}  "
   ]
  },
  {
   "cell_type": "code",
   "execution_count": null,
   "id": "6af735ec",
   "metadata": {},
   "outputs": [],
   "source": [
    "'''\n",
    "rfc = RandomForestClassifier(random_state=42)\n",
    "\n",
    "bayes = BayesSearchCV(rfc, search_space, n_iter = 30, random_state=42)\n",
    "bayes.fit(X_train, y_train)\n",
    "bayes.best_params_'''"
   ]
  },
  {
   "cell_type": "markdown",
   "id": "c8e3885a",
   "metadata": {},
   "source": [
    "Wall time: 6min 37s  \n",
    "OrderedDict([('bootstrap', False),  \n",
    "             ('max_depth', 20),  \n",
    "             ('max_features', 'auto'),  \n",
    "             ('min_samples_leaf', 2),  \n",
    "             ('min_samples_split', 2),  \n",
    "             ('n_estimators', 100)])  "
   ]
  },
  {
   "cell_type": "code",
   "execution_count": 57,
   "id": "06d2a2da-ce54-40a3-a94f-890129fe1f83",
   "metadata": {},
   "outputs": [
    {
     "name": "stdout",
     "output_type": "stream",
     "text": [
      "F1 для обучающей выборки: 0.9502407704654896 , порог 0.48\n",
      "AUC_ROC для обучающей выборки: 0.9890864703815017\n",
      "\n",
      "F1 для валидационной выборки: 0.6224598930481283, порог 0.48\n",
      "AUC_ROC для валидационной выборки: 0.8656209971425757\n"
     ]
    }
   ],
   "source": [
    "rfc_new = RandomForestClassifier(max_depth=11, \n",
    "                             n_estimators=100, \n",
    "                             min_samples_leaf=1, \n",
    "                             min_samples_split=2, \n",
    "                             random_state=42)\n",
    "rfc_new.fit(X_upsampled, y_upsampled)\n",
    "scores(rfc_new, X_upsampled, y_upsampled, X_valid, y_valid)"
   ]
  },
  {
   "cell_type": "code",
   "execution_count": 58,
   "id": "0a4dace6",
   "metadata": {},
   "outputs": [
    {
     "data": {
      "image/png": "[encoded data removed]",
      "text/plain": [
       "<Figure size 432x288 with 1 Axes>"
      ]
     },
     "metadata": {
      "needs_background": "light"
     },
     "output_type": "display_data"
    }
   ],
   "source": [
    "prob = rfc_new.predict_proba(X_test)\n",
    "prob = prob[:, 1]\n",
    "fper, tper, thresholds = roc_curve(y_test, prob)\n",
    "plot_roc_curve(fper, tper)"
   ]
  },
  {
   "cell_type": "markdown",
   "id": "51b84170",
   "metadata": {},
   "source": [
    "#### Обучающее дерево"
   ]
  },
  {
   "cell_type": "code",
   "execution_count": 59,
   "id": "c59cd777",
   "metadata": {},
   "outputs": [
    {
     "name": "stdout",
     "output_type": "stream",
     "text": [
      "Wall time: 1.48 s\n"
     ]
    },
    {
     "data": {
      "text/plain": [
       "{'max_depth': 14}"
      ]
     },
     "execution_count": 59,
     "metadata": {},
     "output_type": "execute_result"
    }
   ],
   "source": [
    "%%time\n",
    "dtc_new = DecisionTreeClassifier(random_state=42)\n",
    "grid = GridSearchCV(dtc_new, parametr, cv=5)\n",
    "grid.fit(X_upsampled, y_upsampled)\n",
    "grid.best_params_"
   ]
  },
  {
   "cell_type": "code",
   "execution_count": 60,
   "id": "212f45d6",
   "metadata": {},
   "outputs": [
    {
     "name": "stdout",
     "output_type": "stream",
     "text": [
      "F1 для обучающей выборки: 0.9606124710385816 , порог 0.48\n",
      "AUC_ROC для обучающей выборки: 0.9927824028433649\n",
      "\n",
      "F1 для валидационной выборки: 0.5255648038049939, порог 0.76\n",
      "AUC_ROC для валидационной выборки: 0.7027139373337276\n"
     ]
    }
   ],
   "source": [
    "dtc_new = DecisionTreeClassifier(max_depth = 14, random_state=42)\n",
    "dtc_new.fit(X_upsampled, y_upsampled)\n",
    "scores(dtc_new, X_upsampled, y_upsampled, X_valid, y_valid)"
   ]
  },
  {
   "cell_type": "code",
   "execution_count": 61,
   "id": "3fc4da9b",
   "metadata": {},
   "outputs": [
    {
     "data": {
      "image/png": "[encoded data removed]",
      "text/plain": [
       "<Figure size 432x288 with 1 Axes>"
      ]
     },
     "metadata": {
      "needs_background": "light"
     },
     "output_type": "display_data"
    }
   ],
   "source": [
    "prob = dtc_new.predict_proba(X_test)\n",
    "prob = prob[:, 1]\n",
    "fper, tper, thresholds = roc_curve(y_test, prob)\n",
    "plot_roc_curve(fper, tper)"
   ]
  },
  {
   "cell_type": "markdown",
   "id": "c22e796f",
   "metadata": {},
   "source": [
    "#### Логистическая регрессия"
   ]
  },
  {
   "cell_type": "code",
   "execution_count": 62,
   "id": "bcab894e-3bbf-4cdb-8c4a-2d6f29dc7822",
   "metadata": {},
   "outputs": [
    {
     "name": "stdout",
     "output_type": "stream",
     "text": [
      "F1 для обучающей выборки: 0.7261571776594784 , порог 0.4\n",
      "AUC_ROC для обучающей выборки: 0.7621884674644219\n",
      "\n",
      "F1 для валидационной выборки: 0.5354838709677419, порог 0.6\n",
      "AUC_ROC для валидационной выборки: 0.7937650876933687\n"
     ]
    }
   ],
   "source": [
    "lr_new = LogisticRegression(random_state=42, solver='liblinear')\n",
    "lr_new.fit(X_upsampled, y_upsampled)\n",
    "scores(lr_new, X_upsampled, y_upsampled, X_valid, y_valid)"
   ]
  },
  {
   "cell_type": "code",
   "execution_count": 63,
   "id": "b6031c29",
   "metadata": {},
   "outputs": [
    {
     "data": {
      "image/png": "[encoded data removed]",
      "text/plain": [
       "<Figure size 432x288 with 1 Axes>"
      ]
     },
     "metadata": {
      "needs_background": "light"
     },
     "output_type": "display_data"
    }
   ],
   "source": [
    "prob = lr_new.predict_proba(X_test)\n",
    "prob = prob[:, 1]\n",
    "fper, tper, thresholds = roc_curve(y_test, prob)\n",
    "plot_roc_curve(fper, tper)"
   ]
  },
  {
   "cell_type": "markdown",
   "id": "7b11436f",
   "metadata": {},
   "source": [
    "#### Выводы"
   ]
  },
  {
   "cell_type": "markdown",
   "id": "52c62611",
   "metadata": {},
   "source": [
    "Лучшее значение f1 - Рандомный лес - 0.638,   \n",
    "Худшее значение f1 - Логистическая регрессия - 0.525.  \n",
    "AUC_ROC так же осталось почти без изменений.  \n",
    "Однако при увеличении выборки методом upsampling  у нас получилась более переобученная модель, нежели при её уменьшении."
   ]
  },
  {
   "cell_type": "markdown",
   "id": "4eb18faf",
   "metadata": {},
   "source": [
    "Итоговый тест"
   ]
  },
  {
   "cell_type": "code",
   "execution_count": 64,
   "id": "2c115858",
   "metadata": {},
   "outputs": [
    {
     "name": "stdout",
     "output_type": "stream",
     "text": [
      "F1 для обучающей выборки: 0.8773354995938262 , порог 0.46\n",
      "AUC_ROC для обучающей выборки: 0.9503045779908819\n",
      "\n",
      "F1 для валидационной выборки: 0.6054421768707483, порог 0.58\n",
      "AUC_ROC для валидационной выборки: 0.8556399234365336\n"
     ]
    }
   ],
   "source": [
    "rfc_new = RandomForestClassifier(max_depth=9, \n",
    "                             n_estimators=30, \n",
    "                             min_samples_leaf=2, \n",
    "                             min_samples_split=8, \n",
    "                             random_state=42)\n",
    "rfc_new.fit(X_downsampled, y_downsampled)\n",
    "scores(rfc_new, X_downsampled, y_downsampled, X_test, y_test)"
   ]
  },
  {
   "cell_type": "markdown",
   "id": "52dcb38c",
   "metadata": {},
   "source": [
    "## Вывод"
   ]
  },
  {
   "cell_type": "markdown",
   "id": "2629aedf",
   "metadata": {},
   "source": [
    "Мы изучили данные, провели их предобработку, изучили баланс классов выборки и построили модель для предсказания оттока клиентов.  \n",
    "Лучше всех на несбалансированных данных себя показала модель рандомного леса, с метрикой f1 = 0.640.  \n",
    "После устранения дисбаланса классов лучше всего себя показала модель рандомного леса на выборке c методом domnsampling: f1 = 0.625"
   ]
  }
 ],
 "metadata": {
  "ExecuteTimeLog": [
   {
    "duration": 2583,
    "start_time": "2022-04-20T15:02:21.751Z"
   },
   {
    "duration": 260,
    "start_time": "2022-04-20T15:02:24.337Z"
   },
   {
    "duration": 26,
    "start_time": "2022-04-20T15:02:24.600Z"
   },
   {
    "duration": 22,
    "start_time": "2022-04-20T15:02:24.629Z"
   },
   {
    "duration": 81,
    "start_time": "2022-04-20T15:02:24.654Z"
   },
   {
    "duration": 11,
    "start_time": "2022-04-20T15:02:24.737Z"
   },
   {
    "duration": 54,
    "start_time": "2022-04-20T15:02:24.750Z"
   },
   {
    "duration": 16,
    "start_time": "2022-04-20T15:02:24.807Z"
   },
   {
    "duration": 5,
    "start_time": "2022-04-20T15:02:24.825Z"
   },
   {
    "duration": 18,
    "start_time": "2022-04-20T15:02:24.833Z"
   },
   {
    "duration": 55,
    "start_time": "2022-04-20T15:02:24.853Z"
   },
   {
    "duration": 3,
    "start_time": "2022-04-20T15:02:24.911Z"
   },
   {
    "duration": 654,
    "start_time": "2022-04-20T15:02:24.917Z"
   },
   {
    "duration": 17,
    "start_time": "2022-04-20T15:02:25.576Z"
   },
   {
    "duration": 4,
    "start_time": "2022-04-20T15:02:25.595Z"
   },
   {
    "duration": 28,
    "start_time": "2022-04-20T15:02:25.601Z"
   },
   {
    "duration": 17,
    "start_time": "2022-04-20T15:02:25.631Z"
   },
   {
    "duration": 11,
    "start_time": "2022-04-20T15:02:25.650Z"
   },
   {
    "duration": 7,
    "start_time": "2022-04-20T15:02:25.693Z"
   },
   {
    "duration": 138,
    "start_time": "2022-04-20T15:02:25.703Z"
   },
   {
    "duration": 6,
    "start_time": "2022-04-20T15:02:25.843Z"
   },
   {
    "duration": 12,
    "start_time": "2022-04-20T15:02:25.851Z"
   },
   {
    "duration": 248,
    "start_time": "2022-04-20T15:02:25.865Z"
   },
   {
    "duration": 5,
    "start_time": "2022-04-20T15:02:26.115Z"
   },
   {
    "duration": 10,
    "start_time": "2022-04-20T15:02:26.122Z"
   },
   {
    "duration": 1418,
    "start_time": "2022-04-20T15:02:26.134Z"
   },
   {
    "duration": 7,
    "start_time": "2022-04-20T15:02:27.555Z"
   },
   {
    "duration": 268,
    "start_time": "2022-04-20T15:02:27.564Z"
   },
   {
    "duration": 1919,
    "start_time": "2022-04-20T15:02:27.835Z"
   },
   {
    "duration": 280,
    "start_time": "2022-04-20T15:02:29.756Z"
   },
   {
    "duration": 211,
    "start_time": "2022-04-20T15:02:30.039Z"
   },
   {
    "duration": 617,
    "start_time": "2022-04-20T15:02:30.253Z"
   },
   {
    "duration": 497,
    "start_time": "2022-04-20T15:02:30.873Z"
   },
   {
    "duration": 6,
    "start_time": "2022-04-20T15:02:31.372Z"
   },
   {
    "duration": 32,
    "start_time": "2022-04-20T15:02:31.380Z"
   },
   {
    "duration": 126,
    "start_time": "2022-04-20T15:02:31.414Z"
   },
   {
    "duration": 4,
    "start_time": "2022-04-20T15:02:31.542Z"
   },
   {
    "duration": 14,
    "start_time": "2022-04-20T15:02:31.548Z"
   },
   {
    "duration": 783,
    "start_time": "2022-04-20T15:02:31.565Z"
   },
   {
    "duration": 255,
    "start_time": "2022-04-20T15:02:32.351Z"
   },
   {
    "duration": 1005,
    "start_time": "2022-04-20T15:02:32.611Z"
   },
   {
    "duration": 223,
    "start_time": "2022-04-20T15:02:33.619Z"
   },
   {
    "duration": 229,
    "start_time": "2022-04-20T15:02:33.844Z"
   },
   {
    "duration": 601,
    "start_time": "2022-04-20T15:02:34.076Z"
   },
   {
    "duration": 401,
    "start_time": "2022-04-20T15:02:34.679Z"
   },
   {
    "duration": 11,
    "start_time": "2022-04-20T15:02:35.082Z"
   },
   {
    "duration": 23,
    "start_time": "2022-04-20T15:02:35.095Z"
   },
   {
    "duration": 129,
    "start_time": "2022-04-20T15:02:35.120Z"
   },
   {
    "duration": 4,
    "start_time": "2022-04-20T15:02:35.251Z"
   },
   {
    "duration": 15,
    "start_time": "2022-04-20T15:02:35.257Z"
   },
   {
    "duration": 2042,
    "start_time": "2022-04-20T15:02:35.274Z"
   },
   {
    "duration": 268,
    "start_time": "2022-04-20T15:02:37.318Z"
   },
   {
    "duration": 2462,
    "start_time": "2022-04-20T15:02:37.593Z"
   },
   {
    "duration": 391,
    "start_time": "2022-04-20T15:02:40.057Z"
   },
   {
    "duration": 210,
    "start_time": "2022-04-20T15:02:40.450Z"
   },
   {
    "duration": 703,
    "start_time": "2022-04-20T15:02:40.662Z"
   },
   {
    "duration": 409,
    "start_time": "2022-04-20T15:02:41.368Z"
   },
   {
    "duration": 2246,
    "start_time": "2022-04-21T09:21:03.093Z"
   },
   {
    "duration": 99,
    "start_time": "2022-04-21T09:21:05.342Z"
   },
   {
    "duration": 27,
    "start_time": "2022-04-21T09:21:05.443Z"
   },
   {
    "duration": 21,
    "start_time": "2022-04-21T09:21:05.474Z"
   },
   {
    "duration": 83,
    "start_time": "2022-04-21T09:21:05.497Z"
   },
   {
    "duration": 11,
    "start_time": "2022-04-21T09:21:05.583Z"
   },
   {
    "duration": 54,
    "start_time": "2022-04-21T09:21:05.597Z"
   },
   {
    "duration": 17,
    "start_time": "2022-04-21T09:21:05.654Z"
   },
   {
    "duration": 6,
    "start_time": "2022-04-21T09:21:05.673Z"
   },
   {
    "duration": 18,
    "start_time": "2022-04-21T09:21:05.683Z"
   },
   {
    "duration": 53,
    "start_time": "2022-04-21T09:21:05.703Z"
   },
   {
    "duration": 3,
    "start_time": "2022-04-21T09:21:05.758Z"
   },
   {
    "duration": 688,
    "start_time": "2022-04-21T09:21:05.764Z"
   },
   {
    "duration": 8,
    "start_time": "2022-04-21T09:21:06.455Z"
   },
   {
    "duration": 7,
    "start_time": "2022-04-21T09:21:06.466Z"
   },
   {
    "duration": 32,
    "start_time": "2022-04-21T09:21:06.475Z"
   },
   {
    "duration": 47,
    "start_time": "2022-04-21T09:21:06.509Z"
   },
   {
    "duration": 10,
    "start_time": "2022-04-21T09:21:06.559Z"
   },
   {
    "duration": 10,
    "start_time": "2022-04-21T09:21:06.572Z"
   },
   {
    "duration": 147,
    "start_time": "2022-04-21T09:21:06.584Z"
   },
   {
    "duration": 18,
    "start_time": "2022-04-21T09:21:06.734Z"
   },
   {
    "duration": 249,
    "start_time": "2022-04-21T09:21:06.754Z"
   },
   {
    "duration": 4,
    "start_time": "2022-04-21T09:21:07.005Z"
   },
   {
    "duration": 10,
    "start_time": "2022-04-21T09:21:07.011Z"
   },
   {
    "duration": 1453,
    "start_time": "2022-04-21T09:21:07.023Z"
   },
   {
    "duration": 4,
    "start_time": "2022-04-21T09:21:08.479Z"
   },
   {
    "duration": 273,
    "start_time": "2022-04-21T09:21:08.486Z"
   },
   {
    "duration": 1920,
    "start_time": "2022-04-21T09:21:08.764Z"
   },
   {
    "duration": 318,
    "start_time": "2022-04-21T09:21:10.686Z"
   },
   {
    "duration": 232,
    "start_time": "2022-04-21T09:21:11.006Z"
   },
   {
    "duration": 585,
    "start_time": "2022-04-21T09:21:11.240Z"
   },
   {
    "duration": 503,
    "start_time": "2022-04-21T09:21:11.827Z"
   },
   {
    "duration": 6,
    "start_time": "2022-04-21T09:21:12.333Z"
   },
   {
    "duration": 42,
    "start_time": "2022-04-21T09:21:12.342Z"
   },
   {
    "duration": 119,
    "start_time": "2022-04-21T09:21:12.387Z"
   },
   {
    "duration": 3,
    "start_time": "2022-04-21T09:21:12.508Z"
   },
   {
    "duration": 18,
    "start_time": "2022-04-21T09:21:12.514Z"
   },
   {
    "duration": 821,
    "start_time": "2022-04-21T09:21:12.535Z"
   },
   {
    "duration": 260,
    "start_time": "2022-04-21T09:21:13.358Z"
   },
   {
    "duration": 1035,
    "start_time": "2022-04-21T09:21:13.620Z"
   },
   {
    "duration": 224,
    "start_time": "2022-04-21T09:21:14.658Z"
   },
   {
    "duration": 218,
    "start_time": "2022-04-21T09:21:14.884Z"
   },
   {
    "duration": 614,
    "start_time": "2022-04-21T09:21:15.104Z"
   },
   {
    "duration": 355,
    "start_time": "2022-04-21T09:21:15.721Z"
   },
   {
    "duration": 6,
    "start_time": "2022-04-21T09:21:16.079Z"
   },
   {
    "duration": 32,
    "start_time": "2022-04-21T09:21:16.088Z"
   },
   {
    "duration": 121,
    "start_time": "2022-04-21T09:21:16.122Z"
   },
   {
    "duration": 4,
    "start_time": "2022-04-21T09:21:16.252Z"
   },
   {
    "duration": 22,
    "start_time": "2022-04-21T09:21:16.258Z"
   },
   {
    "duration": 2149,
    "start_time": "2022-04-21T09:21:16.282Z"
   },
   {
    "duration": 265,
    "start_time": "2022-04-21T09:21:18.433Z"
   },
   {
    "duration": 2587,
    "start_time": "2022-04-21T09:21:18.700Z"
   },
   {
    "duration": 422,
    "start_time": "2022-04-21T09:21:21.289Z"
   },
   {
    "duration": 226,
    "start_time": "2022-04-21T09:21:21.713Z"
   },
   {
    "duration": 689,
    "start_time": "2022-04-21T09:21:21.941Z"
   },
   {
    "duration": 411,
    "start_time": "2022-04-21T09:21:22.632Z"
   },
   {
    "duration": 349,
    "start_time": "2022-04-21T18:20:34.609Z"
   },
   {
    "duration": 215,
    "start_time": "2022-04-21T18:20:42.195Z"
   },
   {
    "duration": 1887,
    "start_time": "2022-04-21T18:21:35.205Z"
   },
   {
    "duration": 118,
    "start_time": "2022-04-21T18:21:37.094Z"
   },
   {
    "duration": 20,
    "start_time": "2022-04-21T18:21:40.282Z"
   },
   {
    "duration": 15,
    "start_time": "2022-04-21T18:21:40.672Z"
   },
   {
    "duration": 47,
    "start_time": "2022-04-21T18:21:40.942Z"
   },
   {
    "duration": 10,
    "start_time": "2022-04-21T18:21:41.383Z"
   },
   {
    "duration": 30,
    "start_time": "2022-04-21T18:21:42.494Z"
   },
   {
    "duration": 15,
    "start_time": "2022-04-21T18:21:42.987Z"
   },
   {
    "duration": 4,
    "start_time": "2022-04-21T18:21:45.996Z"
   },
   {
    "duration": 2,
    "start_time": "2022-04-21T18:21:46.294Z"
   },
   {
    "duration": 4,
    "start_time": "2022-04-21T18:21:47.360Z"
   },
   {
    "duration": 18,
    "start_time": "2022-04-21T18:21:48.153Z"
   },
   {
    "duration": 1165,
    "start_time": "2022-04-21T18:21:50.364Z"
   },
   {
    "duration": 5,
    "start_time": "2022-04-21T18:21:51.531Z"
   },
   {
    "duration": 3,
    "start_time": "2022-04-21T18:21:52.699Z"
   },
   {
    "duration": 388,
    "start_time": "2022-04-21T18:21:53.033Z"
   },
   {
    "duration": 4,
    "start_time": "2022-04-21T18:21:53.983Z"
   },
   {
    "duration": 13,
    "start_time": "2022-04-21T18:21:57.715Z"
   },
   {
    "duration": 8,
    "start_time": "2022-04-21T18:21:58.252Z"
   },
   {
    "duration": 7,
    "start_time": "2022-04-21T18:21:58.555Z"
   },
   {
    "duration": 5,
    "start_time": "2022-04-21T18:21:58.797Z"
   },
   {
    "duration": 3,
    "start_time": "2022-04-21T18:21:59.415Z"
   },
   {
    "duration": 17,
    "start_time": "2022-04-21T18:22:00.095Z"
   }
  ],
  "kernelspec": {
   "display_name": "Python 3 (ipykernel)",
   "language": "python",
   "name": "python3"
  },
  "language_info": {
   "codemirror_mode": {
    "name": "ipython",
    "version": 3
   },
   "file_extension": ".py",
   "mimetype": "text/x-python",
   "name": "python",
   "nbconvert_exporter": "python",
   "pygments_lexer": "ipython3",
   "version": "3.9.7"
  },
  "toc": {
   "base_numbering": 1,
   "nav_menu": {},
   "number_sections": true,
   "sideBar": true,
   "skip_h1_title": true,
   "title_cell": "Содержание",
   "title_sidebar": "Contents",
   "toc_cell": true,
   "toc_position": {
    "height": "757px",
    "left": "42px",
    "top": "111.125px",
    "width": "383.993px"
   },
   "toc_section_display": true,
   "toc_window_display": true
  }
 },
 "nbformat": 4,
 "nbformat_minor": 5
}
